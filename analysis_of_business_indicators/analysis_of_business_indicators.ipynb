{
 "cells": [
  {
   "cell_type": "markdown",
   "metadata": {},
   "source": [
    "# Проект \"Анализ результатов А/В теста\".\n",
    "\n",
    "**Описание проекта:**<br>\n",
    "Вместе с отделом маркетинга крупного интернет-магазина мы подготовили список гипотез для увеличения выручки.\n",
    "Нужно приоритизировать гипотезы, запустить A/B-тест и проанализировать результаты. \n",
    "\n",
    "**Этапы проекта:** <br>1. Приоритизация гипотез, <br>2. Анализ А/В-теста. <br>\n"
   ]
  },
  {
   "cell_type": "markdown",
   "metadata": {},
   "source": [
    "### Применим фреймворк ICE для приоритизации гипотез. Отсортируем их по убыванию приоритета:"
   ]
  },
  {
   "cell_type": "code",
   "execution_count": 1,
   "metadata": {},
   "outputs": [],
   "source": [
    "import pandas as pd # подгружаем библиотеки\n",
    "import os\n",
    "import datetime as dt\n",
    "import numpy as np\n",
    "import matplotlib.pyplot as plt\n",
    "from pandas.plotting import register_matplotlib_converters\n",
    "import scipy.stats as stats\n",
    "import warnings\n",
    "# конвертеры, которые позволяют использовать типы pandas в matplotlib  \n",
    "register_matplotlib_converters()"
   ]
  },
  {
   "cell_type": "code",
   "execution_count": 2,
   "metadata": {
    "scrolled": true
   },
   "outputs": [
    {
     "data": {
      "text/html": [
       "<div>\n",
       "<style scoped>\n",
       "    .dataframe tbody tr th:only-of-type {\n",
       "        vertical-align: middle;\n",
       "    }\n",
       "\n",
       "    .dataframe tbody tr th {\n",
       "        vertical-align: top;\n",
       "    }\n",
       "\n",
       "    .dataframe thead th {\n",
       "        text-align: right;\n",
       "    }\n",
       "</style>\n",
       "<table border=\"1\" class=\"dataframe\">\n",
       "  <thead>\n",
       "    <tr style=\"text-align: right;\">\n",
       "      <th></th>\n",
       "      <th>Hypothesis</th>\n",
       "      <th>ICE</th>\n",
       "    </tr>\n",
       "  </thead>\n",
       "  <tbody>\n",
       "    <tr>\n",
       "      <th>8</th>\n",
       "      <td>Запустить акцию, дающую скидку на товар в день...</td>\n",
       "      <td>16.20</td>\n",
       "    </tr>\n",
       "    <tr>\n",
       "      <th>0</th>\n",
       "      <td>Добавить два новых канала привлечения трафика,...</td>\n",
       "      <td>13.33</td>\n",
       "    </tr>\n",
       "    <tr>\n",
       "      <th>7</th>\n",
       "      <td>Добавить форму подписки на все основные страни...</td>\n",
       "      <td>11.20</td>\n",
       "    </tr>\n",
       "    <tr>\n",
       "      <th>6</th>\n",
       "      <td>Показать на главной странице баннеры с актуаль...</td>\n",
       "      <td>8.00</td>\n",
       "    </tr>\n",
       "    <tr>\n",
       "      <th>2</th>\n",
       "      <td>Добавить блоки рекомендаций товаров на сайт ин...</td>\n",
       "      <td>7.00</td>\n",
       "    </tr>\n",
       "    <tr>\n",
       "      <th>1</th>\n",
       "      <td>Запустить собственную службу доставки, что сок...</td>\n",
       "      <td>2.00</td>\n",
       "    </tr>\n",
       "    <tr>\n",
       "      <th>5</th>\n",
       "      <td>Добавить страницу отзывов клиентов о магазине,...</td>\n",
       "      <td>1.33</td>\n",
       "    </tr>\n",
       "    <tr>\n",
       "      <th>3</th>\n",
       "      <td>Изменить структура категорий, что увеличит кон...</td>\n",
       "      <td>1.12</td>\n",
       "    </tr>\n",
       "    <tr>\n",
       "      <th>4</th>\n",
       "      <td>Изменить цвет фона главной страницы, чтобы уве...</td>\n",
       "      <td>1.00</td>\n",
       "    </tr>\n",
       "  </tbody>\n",
       "</table>\n",
       "</div>"
      ],
      "text/plain": [
       "                                          Hypothesis    ICE\n",
       "8  Запустить акцию, дающую скидку на товар в день...  16.20\n",
       "0  Добавить два новых канала привлечения трафика,...  13.33\n",
       "7  Добавить форму подписки на все основные страни...  11.20\n",
       "6  Показать на главной странице баннеры с актуаль...   8.00\n",
       "2  Добавить блоки рекомендаций товаров на сайт ин...   7.00\n",
       "1  Запустить собственную службу доставки, что сок...   2.00\n",
       "5  Добавить страницу отзывов клиентов о магазине,...   1.33\n",
       "3  Изменить структура категорий, что увеличит кон...   1.12\n",
       "4  Изменить цвет фона главной страницы, чтобы уве...   1.00"
      ]
     },
     "metadata": {},
     "output_type": "display_data"
    }
   ],
   "source": [
    "pth1 = '\\Downloads\\hypothesis.csv'\n",
    "pth2 = '/datasets/hypothesis.csv'\n",
    "\n",
    "if os.path.exists(pth1):\n",
    "    data = pd.read_csv(pth1, sep=',')\n",
    "elif os.path.exists(pth2):\n",
    "    data = pd.read_csv(pth2, sep=',')\n",
    "else:\n",
    "    print('Something is wrong')\n",
    "    \n",
    "data['ICE'] = round(data['Impact'] * data['Confidence'] / data['Efforts'],2)\n",
    "display (data[['Hypothesis' , 'ICE']].sort_values(by = 'ICE', ascending = False))\n"
   ]
  },
  {
   "cell_type": "markdown",
   "metadata": {},
   "source": [
    "### Применим фреймворк RICE для приоритизации гипотез. Отсортируем их по убыванию приоритета:"
   ]
  },
  {
   "cell_type": "code",
   "execution_count": 3,
   "metadata": {},
   "outputs": [
    {
     "data": {
      "text/html": [
       "<div>\n",
       "<style scoped>\n",
       "    .dataframe tbody tr th:only-of-type {\n",
       "        vertical-align: middle;\n",
       "    }\n",
       "\n",
       "    .dataframe tbody tr th {\n",
       "        vertical-align: top;\n",
       "    }\n",
       "\n",
       "    .dataframe thead th {\n",
       "        text-align: right;\n",
       "    }\n",
       "</style>\n",
       "<table border=\"1\" class=\"dataframe\">\n",
       "  <thead>\n",
       "    <tr style=\"text-align: right;\">\n",
       "      <th></th>\n",
       "      <th>Hypothesis</th>\n",
       "      <th>RICE</th>\n",
       "    </tr>\n",
       "  </thead>\n",
       "  <tbody>\n",
       "    <tr>\n",
       "      <th>7</th>\n",
       "      <td>Добавить форму подписки на все основные страни...</td>\n",
       "      <td>112.0</td>\n",
       "    </tr>\n",
       "    <tr>\n",
       "      <th>2</th>\n",
       "      <td>Добавить блоки рекомендаций товаров на сайт ин...</td>\n",
       "      <td>56.0</td>\n",
       "    </tr>\n",
       "    <tr>\n",
       "      <th>0</th>\n",
       "      <td>Добавить два новых канала привлечения трафика,...</td>\n",
       "      <td>40.0</td>\n",
       "    </tr>\n",
       "    <tr>\n",
       "      <th>6</th>\n",
       "      <td>Показать на главной странице баннеры с актуаль...</td>\n",
       "      <td>40.0</td>\n",
       "    </tr>\n",
       "    <tr>\n",
       "      <th>8</th>\n",
       "      <td>Запустить акцию, дающую скидку на товар в день...</td>\n",
       "      <td>16.2</td>\n",
       "    </tr>\n",
       "    <tr>\n",
       "      <th>3</th>\n",
       "      <td>Изменить структура категорий, что увеличит кон...</td>\n",
       "      <td>9.0</td>\n",
       "    </tr>\n",
       "    <tr>\n",
       "      <th>1</th>\n",
       "      <td>Запустить собственную службу доставки, что сок...</td>\n",
       "      <td>4.0</td>\n",
       "    </tr>\n",
       "    <tr>\n",
       "      <th>5</th>\n",
       "      <td>Добавить страницу отзывов клиентов о магазине,...</td>\n",
       "      <td>4.0</td>\n",
       "    </tr>\n",
       "    <tr>\n",
       "      <th>4</th>\n",
       "      <td>Изменить цвет фона главной страницы, чтобы уве...</td>\n",
       "      <td>3.0</td>\n",
       "    </tr>\n",
       "  </tbody>\n",
       "</table>\n",
       "</div>"
      ],
      "text/plain": [
       "                                          Hypothesis   RICE\n",
       "7  Добавить форму подписки на все основные страни...  112.0\n",
       "2  Добавить блоки рекомендаций товаров на сайт ин...   56.0\n",
       "0  Добавить два новых канала привлечения трафика,...   40.0\n",
       "6  Показать на главной странице баннеры с актуаль...   40.0\n",
       "8  Запустить акцию, дающую скидку на товар в день...   16.2\n",
       "3  Изменить структура категорий, что увеличит кон...    9.0\n",
       "1  Запустить собственную службу доставки, что сок...    4.0\n",
       "5  Добавить страницу отзывов клиентов о магазине,...    4.0\n",
       "4  Изменить цвет фона главной страницы, чтобы уве...    3.0"
      ]
     },
     "metadata": {},
     "output_type": "display_data"
    }
   ],
   "source": [
    "data['RICE'] = data['Reach']*data['Impact'] * data['Confidence'] / data['Efforts']\n",
    "display (data[['Hypothesis' , 'RICE']].sort_values(by = 'RICE', ascending = False))"
   ]
  },
  {
   "cell_type": "markdown",
   "metadata": {},
   "source": [
    "**Из расчётов видно, что порядок приоритизации сильно зависит от выбора метода. Так, при выборе метода ICE самой приоритетной выглядит гипотеза №8, однако если использовать методе RICE, то эта гипотеза сместится на пятое место из девяти. Кроме того, можно заметить, что значения ICE и RICE для гипотезы 8 одинаковы, что говорит о том, что охват этой гипотезы равен единице (по 10-балльной шкале). ICE и RICE различаются между собой одним множителем \"Reach\", который учитывает охват, то есть фреймворк RICE даёт более полное представление. Таким образом, более приоритетной выглядит гипотеза 7.**"
   ]
  },
  {
   "cell_type": "markdown",
   "metadata": {},
   "source": [
    "### Построим график кумулятивной выручки по группам. Сделаем выводы и предположения:"
   ]
  },
  {
   "cell_type": "code",
   "execution_count": 4,
   "metadata": {},
   "outputs": [
    {
     "name": "stdout",
     "output_type": "stream",
     "text": [
      "<class 'pandas.core.frame.DataFrame'>\n",
      "RangeIndex: 1197 entries, 0 to 1196\n",
      "Data columns (total 5 columns):\n",
      " #   Column         Non-Null Count  Dtype \n",
      "---  ------         --------------  ----- \n",
      " 0   transactionId  1197 non-null   int64 \n",
      " 1   visitorId      1197 non-null   int64 \n",
      " 2   date           1197 non-null   object\n",
      " 3   revenue        1197 non-null   int64 \n",
      " 4   group          1197 non-null   object\n",
      "dtypes: int64(3), object(2)\n",
      "memory usage: 46.9+ KB\n",
      "<class 'pandas.core.frame.DataFrame'>\n",
      "RangeIndex: 62 entries, 0 to 61\n",
      "Data columns (total 3 columns):\n",
      " #   Column    Non-Null Count  Dtype \n",
      "---  ------    --------------  ----- \n",
      " 0   date      62 non-null     object\n",
      " 1   group     62 non-null     object\n",
      " 2   visitors  62 non-null     int64 \n",
      "dtypes: int64(1), object(2)\n",
      "memory usage: 1.6+ KB\n",
      "Количество дублей в orders: 0\n",
      "Количество дублей в visitors: 0\n"
     ]
    },
    {
     "data": {
      "text/html": [
       "<div>\n",
       "<style scoped>\n",
       "    .dataframe tbody tr th:only-of-type {\n",
       "        vertical-align: middle;\n",
       "    }\n",
       "\n",
       "    .dataframe tbody tr th {\n",
       "        vertical-align: top;\n",
       "    }\n",
       "\n",
       "    .dataframe thead tr th {\n",
       "        text-align: left;\n",
       "    }\n",
       "\n",
       "    .dataframe thead tr:last-of-type th {\n",
       "        text-align: right;\n",
       "    }\n",
       "</style>\n",
       "<table border=\"1\" class=\"dataframe\">\n",
       "  <thead>\n",
       "    <tr>\n",
       "      <th></th>\n",
       "      <th colspan=\"2\" halign=\"left\">date</th>\n",
       "      <th>visitorId</th>\n",
       "    </tr>\n",
       "    <tr>\n",
       "      <th></th>\n",
       "      <th>min</th>\n",
       "      <th>max</th>\n",
       "      <th>nunique</th>\n",
       "    </tr>\n",
       "    <tr>\n",
       "      <th>group</th>\n",
       "      <th></th>\n",
       "      <th></th>\n",
       "      <th></th>\n",
       "    </tr>\n",
       "  </thead>\n",
       "  <tbody>\n",
       "    <tr>\n",
       "      <th>A</th>\n",
       "      <td>2019-08-01</td>\n",
       "      <td>2019-08-31</td>\n",
       "      <td>503</td>\n",
       "    </tr>\n",
       "    <tr>\n",
       "      <th>B</th>\n",
       "      <td>2019-08-01</td>\n",
       "      <td>2019-08-31</td>\n",
       "      <td>586</td>\n",
       "    </tr>\n",
       "  </tbody>\n",
       "</table>\n",
       "</div>"
      ],
      "text/plain": [
       "            date            visitorId\n",
       "             min        max   nunique\n",
       "group                                \n",
       "A     2019-08-01 2019-08-31       503\n",
       "B     2019-08-01 2019-08-31       586"
      ]
     },
     "execution_count": 4,
     "metadata": {},
     "output_type": "execute_result"
    }
   ],
   "source": [
    "pth3 = '\\Downloads\\orders.csv' # загружаем файлы\n",
    "pth4 = '/datasets/orders.csv'\n",
    "pth5 = '\\Downloads\\visitors.csv'\n",
    "pth6 = '/datasets/visitors.csv'\n",
    "\n",
    "if os.path.exists(pth3):\n",
    "    orders = pd.read_csv(pth3, sep=',')\n",
    "elif os.path.exists(pth4):\n",
    "    orders = pd.read_csv(pth4, sep=',')\n",
    "else:\n",
    "    print('Something is wrong')\n",
    "    \n",
    "if os.path.exists(pth5):\n",
    "    visitors = pd.read_csv(pth5, sep=',')\n",
    "elif os.path.exists(pth6):\n",
    "    visitors = pd.read_csv(pth6, sep=',')\n",
    "else:\n",
    "    print('Something is wrong')    \n",
    " \n",
    "orders.info() # смотрим информацию о файлах\n",
    "visitors.info()\n",
    "\n",
    "print ('Количество дублей в orders:',orders.duplicated().sum())\n",
    "print('Количество дублей в visitors:',visitors.duplicated().sum())\n",
    "\n",
    "orders['date'] = pd.to_datetime(orders['date']) #меняем тип данных полей с датами\n",
    "visitors['date'] = pd.to_datetime(visitors['date'])\n",
    "\n",
    "orders.groupby('group').agg({ # смотрим количество групп, границы дат и размер групп\n",
    "            'date': ['min','max'],\n",
    "            'visitorId': 'nunique',\n",
    "                    })"
   ]
  },
  {
   "cell_type": "markdown",
   "metadata": {},
   "source": [
    "**Пропусков и дублей в данных нет, типы дат преобразованы, диапазон дат найден, групп две, есть различие в количестве уникальных посетителей в группах примерно на 17%** "
   ]
  },
  {
   "cell_type": "markdown",
   "metadata": {},
   "source": [
    "**Теперь посмотрим, не входят ли пользователи одновлеменно в обе группы:**"
   ]
  },
  {
   "cell_type": "code",
   "execution_count": 5,
   "metadata": {},
   "outputs": [
    {
     "name": "stdout",
     "output_type": "stream",
     "text": [
      "58\n"
     ]
    }
   ],
   "source": [
    "both_groups = orders.groupby('visitorId').agg({'group' : 'nunique'}).query('group>1')\n",
    "print (len(both_groups))"
   ]
  },
  {
   "cell_type": "markdown",
   "metadata": {},
   "source": [
    "**Удалим строки с visitorID, который встречается в обеих группах, чтобы они не искажали и не размывали основную картину:**"
   ]
  },
  {
   "cell_type": "code",
   "execution_count": 6,
   "metadata": {},
   "outputs": [
    {
     "name": "stdout",
     "output_type": "stream",
     "text": [
      "<class 'pandas.core.frame.DataFrame'>\n",
      "Int64Index: 1016 entries, 0 to 1196\n",
      "Data columns (total 5 columns):\n",
      " #   Column         Non-Null Count  Dtype         \n",
      "---  ------         --------------  -----         \n",
      " 0   transactionId  1016 non-null   int64         \n",
      " 1   visitorId      1016 non-null   int64         \n",
      " 2   date           1016 non-null   datetime64[ns]\n",
      " 3   revenue        1016 non-null   int64         \n",
      " 4   group          1016 non-null   object        \n",
      "dtypes: datetime64[ns](1), int64(3), object(1)\n",
      "memory usage: 47.6+ KB\n"
     ]
    }
   ],
   "source": [
    "orders = orders[~orders.visitorId.isin(both_groups.index)]\n",
    "orders.info()"
   ]
  },
  {
   "cell_type": "code",
   "execution_count": 7,
   "metadata": {},
   "outputs": [
    {
     "data": {
      "image/png": "[encoded data removed]",
      "text/plain": [
       "<Figure size 864x576 with 1 Axes>"
      ]
     },
     "metadata": {
      "needs_background": "light"
     },
     "output_type": "display_data"
    }
   ],
   "source": [
    "datesGroups = orders[['date', 'group']].drop_duplicates()\n",
    "\n",
    "ordersAggregated = datesGroups.apply(\n",
    "    lambda x: orders[\n",
    "        np.logical_and(\n",
    "            orders['date'] <= x['date'], orders['group'] == x['group']\n",
    "        )\n",
    "    ].agg(\n",
    "        {\n",
    "            'date': 'max',\n",
    "            'group': 'max',\n",
    "            'transactionId': 'nunique',\n",
    "            'visitorId': 'nunique',\n",
    "            'revenue': 'sum',\n",
    "        }\n",
    "    ),\n",
    "    axis=1,\n",
    ").sort_values(by=['date', 'group'])\n",
    "\n",
    "visitorsAggregated = datesGroups.apply(\n",
    "    lambda x: visitors[\n",
    "        np.logical_and(\n",
    "            visitors['date'] <= x['date'], visitors['group'] == x['group']\n",
    "        )\n",
    "    ].agg({'date': 'max', 'group': 'max', 'visitors': 'sum'}),\n",
    "    axis=1,\n",
    ").sort_values(by=['date', 'group'])\n",
    "\n",
    "cumulativeData = ordersAggregated.merge(\n",
    "    visitorsAggregated, left_on=['date', 'group'], right_on=['date', 'group']\n",
    ")\n",
    "cumulativeData.columns = [\n",
    "    'date',\n",
    "    'group',\n",
    "    'orders',\n",
    "    'buyers',\n",
    "    'revenue',\n",
    "    'visitors',\n",
    "]\n",
    "# датафрейм с кумулятивным количеством заказов и кумулятивной выручкой по дням в группе А\n",
    "cumulativeRevenueA = cumulativeData[cumulativeData['group']=='A'][['date','revenue', 'orders']]\n",
    "\n",
    "# датафрейм с кумулятивным количеством заказов и кумулятивной выручкой по дням в группе B\n",
    "cumulativeRevenueB = cumulativeData[cumulativeData['group']=='B'][['date','revenue', 'orders']]\n",
    "plt.figure(figsize=(12,8))\n",
    "# Строим график выручки группы А\n",
    "plt.plot(cumulativeRevenueA['date'], cumulativeRevenueA['revenue'], label='A')\n",
    "\n",
    "# Строим график выручки группы B\n",
    "plt.plot(cumulativeRevenueB['date'], cumulativeRevenueB['revenue'], label='B')\n",
    "plt.title(\"График кумулятивной выручки по группам\")\n",
    "plt.xlabel(\"Дата\")\n",
    "plt.ylabel(\"Кумулятивная выручка\")\n",
    "plt.legend() \n",
    "plt.show()"
   ]
  },
  {
   "cell_type": "markdown",
   "metadata": {},
   "source": [
    "**Выручка в обеих группах растёт равномерно увеличивается, при этом у группы В наблюдается скачок. Это может быть вызвано крупным заказом.**"
   ]
  },
  {
   "cell_type": "markdown",
   "metadata": {},
   "source": [
    "### Построим график кумулятивного среднего чека по группам. Сделаем выводы и предположения:"
   ]
  },
  {
   "cell_type": "code",
   "execution_count": 8,
   "metadata": {},
   "outputs": [
    {
     "data": {
      "image/png": "[encoded data removed]",
      "text/plain": [
       "<Figure size 864x576 with 1 Axes>"
      ]
     },
     "metadata": {
      "needs_background": "light"
     },
     "output_type": "display_data"
    }
   ],
   "source": [
    "plt.figure(figsize=(12,8))\n",
    "plt.plot(cumulativeRevenueA['date'], cumulativeRevenueA['revenue']/cumulativeRevenueA['orders'], label='A')\n",
    "plt.plot(cumulativeRevenueB['date'], cumulativeRevenueB['revenue']/cumulativeRevenueB['orders'], label='B')\n",
    "plt.legend() \n",
    "plt.title(\"График кумулятивного среднего чека по группам\")\n",
    "plt.xlabel(\"Дата\")\n",
    "plt.ylabel(\"Кумулятивный средний чек\")\n",
    "plt.legend() \n",
    "plt.show()\n"
   ]
  },
  {
   "cell_type": "markdown",
   "metadata": {},
   "source": [
    "**В начала видны резкие всплески и даже пересечения на графике, далее наблюдается резкий всплеск у группы В, и после этого средний чек становится выше.**"
   ]
  },
  {
   "cell_type": "markdown",
   "metadata": {},
   "source": [
    "### Построим график относительного изменения кумулятивного среднего чека группы B к группе A:"
   ]
  },
  {
   "cell_type": "code",
   "execution_count": 9,
   "metadata": {},
   "outputs": [
    {
     "data": {
      "image/png": "[encoded data removed]",
      "text/plain": [
       "<Figure size 864x576 with 1 Axes>"
      ]
     },
     "metadata": {
      "needs_background": "light"
     },
     "output_type": "display_data"
    }
   ],
   "source": [
    "# собираем данные в одном датафрейме\n",
    "mergedCumulativeRevenue = cumulativeRevenueA.merge(cumulativeRevenueB, left_on='date', right_on='date', how='left', suffixes=['A', 'B'])\n",
    "\n",
    "plt.figure(figsize=(12,8))\n",
    "# cтроим отношение средних чеков\n",
    "plt.plot(mergedCumulativeRevenue['date'], (mergedCumulativeRevenue['revenueB']/mergedCumulativeRevenue['ordersB'])/(mergedCumulativeRevenue['revenueA']/mergedCumulativeRevenue['ordersA'])-1)\n",
    "\n",
    "# добавляем ось X\n",
    "plt.axhline(y=0, color='black', linestyle='--') \n",
    "plt.title(\"График относительного изменения кумулятивного среднего чека группы B к группе A\")\n",
    "plt.xlabel(\"Дата\")\n",
    "plt.ylabel('Относительное изменение')\n",
    "plt.show()"
   ]
  },
  {
   "cell_type": "markdown",
   "metadata": {},
   "source": [
    "**График имеет резкий скачок, что может говорить о крупном заказе и/или выбросе. Если убрать этот скачок, то график будет колебаться вокруг нуля.**"
   ]
  },
  {
   "cell_type": "markdown",
   "metadata": {},
   "source": [
    "### Построим график кумулятивного среднего количества заказов на посетителя по группам:"
   ]
  },
  {
   "cell_type": "code",
   "execution_count": 10,
   "metadata": {},
   "outputs": [
    {
     "data": {
      "image/png": "[encoded data removed]",
      "text/plain": [
       "<Figure size 864x576 with 1 Axes>"
      ]
     },
     "metadata": {
      "needs_background": "light"
     },
     "output_type": "display_data"
    }
   ],
   "source": [
    "# считаем кумулятивную конверсию\n",
    "cumulativeData['conversion'] = cumulativeData['orders']/cumulativeData['visitors']\n",
    "\n",
    "# отделяем данные по группе A\n",
    "cumulativeDataA = cumulativeData[cumulativeData['group']=='A']\n",
    "\n",
    "# отделяем данные по группе B\n",
    "cumulativeDataB = cumulativeData[cumulativeData['group']=='B']\n",
    "\n",
    "# строим графики\n",
    "plt.figure(figsize=(12,8))\n",
    "plt.plot(cumulativeDataA['date'], cumulativeDataA['conversion'], label='A')\n",
    "plt.plot(cumulativeDataB['date'], cumulativeDataB['conversion'], label='B')\n",
    "plt.legend()\n",
    "plt.title(\"График кумулятивного среднего количества заказов на посетителя по группам\")\n",
    "plt.xlabel(\"Дата\")\n",
    "plt.ylabel(\"Кумулятивное среднее количество заказов на посетителя\")\n",
    "plt.show()"
   ]
  },
  {
   "cell_type": "markdown",
   "metadata": {},
   "source": [
    "**Из графиков видно, что начиная с 6 го дня кумулятивное среднее количество заказов на посетителя по группе В стабильно выше аналогичного по группе А.**"
   ]
  },
  {
   "cell_type": "markdown",
   "metadata": {},
   "source": [
    "### Построим график относительного изменения кумулятивного среднего количества заказов на посетителя группы B к группе A:"
   ]
  },
  {
   "cell_type": "code",
   "execution_count": 11,
   "metadata": {},
   "outputs": [
    {
     "data": {
      "image/png": "[encoded data removed]",
      "text/plain": [
       "<Figure size 864x576 with 1 Axes>"
      ]
     },
     "metadata": {
      "needs_background": "light"
     },
     "output_type": "display_data"
    }
   ],
   "source": [
    "mergedCumulativeConversions = cumulativeDataA[['date','conversion']].merge(cumulativeDataB[['date','conversion']], left_on='date', right_on='date', how='left', suffixes=['A', 'B'])\n",
    "plt.figure(figsize=(12,8))\n",
    "plt.plot(mergedCumulativeConversions['date'], mergedCumulativeConversions['conversionB']/mergedCumulativeConversions['conversionA']-1, label=\"Относительный прирост\")\n",
    "plt.legend()\n",
    "plt.title(\"График относительного изменения кумулятивного среднего количества заказов на посетителя группы B к группе A\")\n",
    "plt.xlabel(\"Дата\")\n",
    "plt.ylabel('Относительное изменение')\n",
    "plt.axhline(y=0, color='black', linestyle='--')\n",
    "plt.axhline(y=-0.1, color='grey', linestyle='--')\n",
    "plt.show()"
   ]
  },
  {
   "cell_type": "markdown",
   "metadata": {},
   "source": [
    "**Из графика видно, что, начиная с 6 го дня относительное изменение кумулятивного среднего количества заказов на посетителя группы B к группе A стабильно выше нуля.**"
   ]
  },
  {
   "cell_type": "markdown",
   "metadata": {},
   "source": [
    "### Построим точечный график количества заказов по пользователям:"
   ]
  },
  {
   "cell_type": "code",
   "execution_count": 12,
   "metadata": {},
   "outputs": [
    {
     "data": {
      "image/png": "[encoded data removed]",
      "text/plain": [
       "<Figure size 864x576 with 1 Axes>"
      ]
     },
     "metadata": {
      "needs_background": "light"
     },
     "output_type": "display_data"
    }
   ],
   "source": [
    "ordersByUsers = (\n",
    "    orders.groupby('visitorId', as_index=False)\n",
    "    .agg({'transactionId': 'nunique'})\n",
    ")\n",
    "\n",
    "ordersByUsers.columns = ['visitorId', 'transactions']\n",
    "x_values = pd.Series(range(0,len(ordersByUsers)))\n",
    "plt.figure(figsize=(12,8))\n",
    "plt.scatter(x_values, ordersByUsers['transactions']) \n",
    "plt.title(\"График количества заказов по пользователям\")\n",
    "plt.ylabel(\"Количество заказов\")\n",
    "plt.xlabel('Номер пользователя')\n",
    "plt.show()"
   ]
  },
  {
   "cell_type": "markdown",
   "metadata": {},
   "source": [
    "**Большинство пользователей совершили по одному заказу, но и 2 заказа на человека тоже не редкость, и только единицы совершили более 3 заказа.**"
   ]
  },
  {
   "cell_type": "markdown",
   "metadata": {},
   "source": [
    "### Посчитаем 95-й и 99-й перцентили количества заказов на пользователя:"
   ]
  },
  {
   "cell_type": "code",
   "execution_count": 13,
   "metadata": {},
   "outputs": [
    {
     "name": "stdout",
     "output_type": "stream",
     "text": [
      "[1. 2.]\n"
     ]
    }
   ],
   "source": [
    "print(np.percentile(ordersByUsers['transactions'], [95, 99])) "
   ]
  },
  {
   "cell_type": "markdown",
   "metadata": {},
   "source": [
    "**5 % пользователей сделали больше, чем 1 заказ, и только 1% сделали больше 2 заказов. Возьмём в качестве границы нормы 2 заказа, а всё, что больше, будем считать аномалиями.**"
   ]
  },
  {
   "cell_type": "markdown",
   "metadata": {},
   "source": [
    "### Построим точечный график стоимостей заказов:"
   ]
  },
  {
   "cell_type": "code",
   "execution_count": 14,
   "metadata": {},
   "outputs": [
    {
     "data": {
      "image/png": "[encoded data removed]",
      "text/plain": [
       "<Figure size 864x576 with 1 Axes>"
      ]
     },
     "metadata": {
      "needs_background": "light"
     },
     "output_type": "display_data"
    }
   ],
   "source": [
    "plt.figure(figsize=(12,8))\n",
    "x_values = pd.Series(range(0,len(orders['revenue'])))\n",
    "plt.scatter(x_values, orders['revenue']) \n",
    "plt.title(\"Tочечный график стоимостей заказов\")\n",
    "plt.ylabel(\"Стоимость заказа\")\n",
    "plt.xlabel('Номер заказа')\n",
    "plt.show()"
   ]
  },
  {
   "cell_type": "markdown",
   "metadata": {},
   "source": [
    "**На графике видны 2 выброса.**"
   ]
  },
  {
   "cell_type": "markdown",
   "metadata": {},
   "source": [
    "**Выведем точечный график стоимостей заказов без выбросов (со стоимостью ниже 100000):**"
   ]
  },
  {
   "cell_type": "code",
   "execution_count": 15,
   "metadata": {},
   "outputs": [
    {
     "data": {
      "image/png": "[encoded data removed]",
      "text/plain": [
       "<Figure size 864x576 with 1 Axes>"
      ]
     },
     "metadata": {
      "needs_background": "light"
     },
     "output_type": "display_data"
    }
   ],
   "source": [
    "orders_normal=orders[orders['revenue']<100000]\n",
    "plt.figure(figsize=(12,8))\n",
    "x_values = pd.Series(range(0,len(orders_normal['revenue'])))\n",
    "plt.scatter(x_values, orders_normal['revenue']) \n",
    "plt.title(\"Tочечный график стоимостей заказов без выбросов\")\n",
    "plt.ylabel(\"Стоимость заказа\")\n",
    "plt.xlabel(\"Номер заказа\")\n",
    "plt.show()"
   ]
  },
  {
   "cell_type": "markdown",
   "metadata": {},
   "source": [
    "### Посчитаем 95-й и 99-й перцентили стоимости заказов:"
   ]
  },
  {
   "cell_type": "code",
   "execution_count": 16,
   "metadata": {},
   "outputs": [
    {
     "name": "stdout",
     "output_type": "stream",
     "text": [
      "[26785. 53904.]\n"
     ]
    }
   ],
   "source": [
    "print(np.percentile(orders['revenue'], [95, 99])) "
   ]
  },
  {
   "cell_type": "markdown",
   "metadata": {},
   "source": [
    "**5 % заказов имеют стоимость более 26785, и 1% заказов имеет стоимость более 53904 . Возьмём в качестве границы нормы 53904, а всё, что больше, будем считать аномалиями.**"
   ]
  },
  {
   "cell_type": "markdown",
   "metadata": {},
   "source": [
    "### Посчитаем статистическую значимость различий в среднем количестве заказов на посетителя между группами по «сырым» данным:"
   ]
  },
  {
   "cell_type": "markdown",
   "metadata": {},
   "source": [
    "**Сформулируем гипотезы. Нулевая гипотеза: различий в среднем количестве заказов на посетителя между группами нет. Альтернативная гипотеза : различия в среднем количестве заказов на посетителя между группами есть.**"
   ]
  },
  {
   "cell_type": "markdown",
   "metadata": {},
   "source": [
    "**Для оценки статичтической значимости будем использовать критерий Манна-Уитни, который является непараметрическим методом, так как он работает с рангами, — номерами значений в упорядоченном ряду, — никак не учитывая сами значения. Выбор этого критерия обусловлен желанием исключить влияние выбросов, сильно сдвигающих параметрические результаты.**"
   ]
  },
  {
   "cell_type": "code",
   "execution_count": 17,
   "metadata": {},
   "outputs": [
    {
     "name": "stdout",
     "output_type": "stream",
     "text": [
      "        date  ordersPerDateA  revenuePerDateA  ordersPerDateB  \\\n",
      "0 2019-08-01              23           142779              17   \n",
      "1 2019-08-02              19            91602              23   \n",
      "2 2019-08-03              24           112473              14   \n",
      "3 2019-08-04              11            41176              14   \n",
      "4 2019-08-05              22            86383              21   \n",
      "\n",
      "   revenuePerDateB  ordersCummulativeA  revenueCummulativeA  \\\n",
      "0            59758                  23               142779   \n",
      "1           162043                  42               234381   \n",
      "2            67049                  66               346854   \n",
      "3            96890                  77               388030   \n",
      "4            89908                  99               474413   \n",
      "\n",
      "   ordersCummulativeB  revenueCummulativeB  visitorsPerDateA  \\\n",
      "0                  17                59758               719   \n",
      "1                  40               221801               619   \n",
      "2                  54               288850               507   \n",
      "3                  68               385740               717   \n",
      "4                  89               475648               756   \n",
      "\n",
      "   visitorsPerDateB  visitorsCummulativeA  visitorsCummulativeB  \n",
      "0               713                   719                   713  \n",
      "1               581                  1338                  1294  \n",
      "2               509                  1845                  1803  \n",
      "3               770                  2562                  2573  \n",
      "4               707                  3318                  3280  \n"
     ]
    }
   ],
   "source": [
    "visitorsADaily = visitors[visitors['group'] == 'A'][['date', 'visitors']]\n",
    "visitorsADaily.columns = ['date', 'visitorsPerDateA']\n",
    "visitorsACummulative = visitorsADaily.apply(\n",
    "    lambda x: visitorsADaily[visitorsADaily['date'] <= x['date']].agg(\n",
    "        {'date': 'max', 'visitorsPerDateA': 'sum'}\n",
    "    ),\n",
    "    axis=1,\n",
    ")\n",
    "visitorsACummulative.columns = ['date', 'visitorsCummulativeA']\n",
    "\n",
    "visitorsBDaily = visitors[visitors['group'] == 'B'][['date', 'visitors']]\n",
    "visitorsBDaily.columns = ['date', 'visitorsPerDateB']\n",
    "\n",
    "visitorsBCummulative = visitorsBDaily.apply(\n",
    "    lambda x: visitorsBDaily[visitorsBDaily['date'] <= x['date']].agg(\n",
    "        {'date': 'max', 'visitorsPerDateB': 'sum'}\n",
    "    ),\n",
    "    axis=1,\n",
    ")\n",
    "visitorsBCummulative.columns = ['date', 'visitorsCummulativeB']\n",
    "\n",
    "ordersADaily = (\n",
    "    orders[orders['group'] == 'A'][['date', 'transactionId', 'visitorId', 'revenue']]\n",
    "    .groupby('date', as_index=False)\n",
    "    .agg({'transactionId': pd.Series.nunique, 'revenue': 'sum'})\n",
    ")\n",
    "ordersADaily.columns = ['date', 'ordersPerDateA', 'revenuePerDateA']\n",
    "\n",
    "ordersACummulative = ordersADaily.apply(\n",
    "    lambda x: ordersADaily[ordersADaily['date'] <= x['date']].agg(\n",
    "        {'date': 'max', 'ordersPerDateA': 'sum', 'revenuePerDateA': 'sum'}\n",
    "    ),\n",
    "    axis=1,\n",
    ").sort_values(by=['date'])\n",
    "ordersACummulative.columns = [\n",
    "    'date',\n",
    "    'ordersCummulativeA',\n",
    "    'revenueCummulativeA',\n",
    "]\n",
    "\n",
    "ordersBDaily = (\n",
    "    orders[orders['group'] == 'B'][['date', 'transactionId', 'visitorId', 'revenue']]\n",
    "    .groupby('date', as_index=False)\n",
    "    .agg({'transactionId': pd.Series.nunique, 'revenue': 'sum'})\n",
    ")\n",
    "ordersBDaily.columns = ['date', 'ordersPerDateB', 'revenuePerDateB']\n",
    "\n",
    "ordersBCummulative = ordersBDaily.apply(\n",
    "    lambda x: ordersBDaily[ordersBDaily['date'] <= x['date']].agg(\n",
    "        {'date': 'max', 'ordersPerDateB': 'sum', 'revenuePerDateB': 'sum'}\n",
    "    ),\n",
    "    axis=1,\n",
    ").sort_values(by=['date'])\n",
    "ordersBCummulative.columns = [\n",
    "    'date',\n",
    "    'ordersCummulativeB',\n",
    "    'revenueCummulativeB',\n",
    "]\n",
    "\n",
    "data = (\n",
    "    ordersADaily.merge(\n",
    "        ordersBDaily, left_on='date', right_on='date', how='left'\n",
    "    )\n",
    "    .merge(ordersACummulative, left_on='date', right_on='date', how='left')\n",
    "    .merge(ordersBCummulative, left_on='date', right_on='date', how='left')\n",
    "    .merge(visitorsADaily, left_on='date', right_on='date', how='left')\n",
    "    .merge(visitorsBDaily, left_on='date', right_on='date', how='left')\n",
    "    .merge(visitorsACummulative, left_on='date', right_on='date', how='left')\n",
    "    .merge(visitorsBCummulative, left_on='date', right_on='date', how='left')\n",
    ")\n",
    "\n",
    "print(data.head(5)) "
   ]
  },
  {
   "cell_type": "code",
   "execution_count": 18,
   "metadata": {},
   "outputs": [],
   "source": [
    "ordersByUsersA = (\n",
    "    orders[orders['group'] == 'A']\n",
    "    .groupby('visitorId', as_index=False)\n",
    "    .agg({'transactionId': pd.Series.nunique})\n",
    ")\n",
    "ordersByUsersA.columns = ['visitorId', 'orders']\n",
    "\n",
    "ordersByUsersB = (\n",
    "    orders[orders['group'] == 'B']\n",
    "    .groupby('visitorId', as_index=False)\n",
    "    .agg({'transactionId': pd.Series.nunique})\n",
    ")\n",
    "ordersByUsersB.columns = ['visitorId', 'orders'] "
   ]
  },
  {
   "cell_type": "code",
   "execution_count": 19,
   "metadata": {},
   "outputs": [],
   "source": [
    "sampleA = pd.concat([ordersByUsersA['orders'],pd.Series(0, index=np.arange(data['visitorsPerDateA'].sum() - len(ordersByUsersA['orders'])), name='orders')],axis=0)\n",
    "\n",
    "sampleB = pd.concat([ordersByUsersB['orders'],pd.Series(0, index=np.arange(data['visitorsPerDateB'].sum() - len(ordersByUsersB['orders'])), name='orders')],axis=0) "
   ]
  },
  {
   "cell_type": "code",
   "execution_count": 20,
   "metadata": {},
   "outputs": [
    {
     "name": "stdout",
     "output_type": "stream",
     "text": [
      "p-value = 0.011\n",
      "относительная разница = 0.160\n"
     ]
    }
   ],
   "source": [
    "ordersByUsersA = (\n",
    "    orders[orders['group'] == 'A']\n",
    "    .groupby('visitorId', as_index=False)\n",
    "    .agg({'transactionId': pd.Series.nunique})\n",
    ")\n",
    "ordersByUsersA.columns = ['visitorId', 'orders']\n",
    "\n",
    "ordersByUsersB = (\n",
    "    orders[orders['group'] == 'B']\n",
    "    .groupby('visitorId', as_index=False)\n",
    "    .agg({'transactionId': pd.Series.nunique})\n",
    ")\n",
    "ordersByUsersB.columns = ['visitorId', 'orders']\n",
    "\n",
    "sampleA = pd.concat(\n",
    "    [\n",
    "        ordersByUsersA['orders'],\n",
    "        pd.Series(\n",
    "            0,\n",
    "            index=np.arange(\n",
    "                data['visitorsPerDateA'].sum() - len(ordersByUsersA['orders'])\n",
    "            ),\n",
    "            name='orders',\n",
    "        ),\n",
    "    ],\n",
    "    axis=0,\n",
    ")\n",
    "\n",
    "sampleB = pd.concat(\n",
    "    [\n",
    "        ordersByUsersB['orders'],\n",
    "        pd.Series(\n",
    "            0,\n",
    "            index=np.arange(\n",
    "                data['visitorsPerDateB'].sum() - len(ordersByUsersB['orders'])\n",
    "            ),\n",
    "            name='orders',\n",
    "        ),\n",
    "    ],\n",
    "    axis=0,\n",
    ")\n",
    "\n",
    "print('p-value =',\"{0:.3f}\".format(stats.mannwhitneyu(sampleA, sampleB)[1]))\n",
    "\n",
    "print('относительная разница =',\"{0:.3f}\".format(sampleB.mean() / sampleA.mean() - 1))"
   ]
  },
  {
   "cell_type": "markdown",
   "metadata": {},
   "source": [
    "**Вывод: По «сырым» данным есть различие в среднем количестве заказов на посетителя между группами A и B.  p-value = 0.011, это меньше 0,05, поэтому нулевую гипотезу о том, что статистически значимых различий в среднем числе заказов на посетителя между группами A и B нет, отвергаем.\n",
    "Относительный выигрыш группы B равен 16.0%.**"
   ]
  },
  {
   "cell_type": "markdown",
   "metadata": {},
   "source": [
    "### Посчитайте статистическую значимость различий в среднем чеке заказа:"
   ]
  },
  {
   "cell_type": "code",
   "execution_count": 21,
   "metadata": {},
   "outputs": [
    {
     "name": "stdout",
     "output_type": "stream",
     "text": [
      "p-value = 0.829\n",
      "относительная разница = 0.287\n"
     ]
    }
   ],
   "source": [
    "print('p-value =','{0:.3f}'.format(stats.mannwhitneyu(orders[orders['group']=='A']['revenue'], orders[orders['group']=='B']['revenue'])[1]))\n",
    "print('относительная разница =','{0:.3f}'.format(orders[orders['group']=='B']['revenue'].mean()/orders[orders['group']=='A']['revenue'].mean()-1)) "
   ]
  },
  {
   "cell_type": "markdown",
   "metadata": {},
   "source": [
    "**Вывод: P-value значительно больше 0.05. Значит, причин отвергать нулевую гипотезу и считать, что в среднем чеке есть различия, нет.**"
   ]
  },
  {
   "cell_type": "markdown",
   "metadata": {},
   "source": [
    "### Посчитаем статистическую значимость различий в среднем количестве заказов на посетителя между группами по «очищенным» данным."
   ]
  },
  {
   "cell_type": "markdown",
   "metadata": {},
   "source": [
    "**Примем за аномальных пользователей тех, кто совершил больше 2 заказов или совершил заказ дороже 58233.2. Так мы уберём 1% пользователей с наибольшим числом заказов и от 1% пользователей с дорогими заказами. Сделаем срезы пользователей с числом заказов больше 4 — usersWithManyOrders и пользователей, совершивших заказы дороже 58233.2 — usersWithExpensiveOrders. Объединим их в таблице abnormalUsers.**"
   ]
  },
  {
   "cell_type": "markdown",
   "metadata": {},
   "source": [
    "**Узнаем, сколько всего аномальных пользователей атрибутом shape:**"
   ]
  },
  {
   "cell_type": "code",
   "execution_count": 22,
   "metadata": {},
   "outputs": [
    {
     "name": "stdout",
     "output_type": "stream",
     "text": [
      "1099     148427295\n",
      "33       249864742\n",
      "58       611059232\n",
      "949      887908475\n",
      "744      888512513\n",
      "1103    1164614297\n",
      "1136    1307669133\n",
      "425     1920142716\n",
      "1196    2108080724\n",
      "211     2108163459\n",
      "347     2742574263\n",
      "310     2988190573\n",
      "409     3908431265\n",
      "416     3967698036\n",
      "940     4003628586\n",
      "743     4133034833\n",
      "Name: visitorId, dtype: int64\n",
      "Абсолютные потери пользователей после фильтрации: 16\n",
      "Относительные потери пользователей после фильтрации: 1.64 %\n"
     ]
    }
   ],
   "source": [
    "usersWithManyOrders = pd.concat(\n",
    "    [\n",
    "        ordersByUsersA[ordersByUsersA['orders'] > np.percentile(ordersByUsers['transactions'], 99)]['visitorId'],\n",
    "        ordersByUsersB[ordersByUsersB['orders'] > np.percentile(ordersByUsers['transactions'], 99)]['visitorId'],\n",
    "    ],\n",
    "    axis=0,\n",
    ")\n",
    "usersWithExpensiveOrders = orders[orders['revenue'] > np.percentile(orders['revenue'], 99)]['visitorId']\n",
    "abnormalUsers = (\n",
    "    pd.concat([usersWithManyOrders, usersWithExpensiveOrders], axis=0)\n",
    "    .drop_duplicates()\n",
    "    .sort_values()\n",
    ")\n",
    "print(abnormalUsers)\n",
    "print('Абсолютные потери пользователей после фильтрации:', abnormalUsers.shape[0])\n",
    "print ('Относительные потери пользователей после фильтрации:','{0:.2f}'.format(abnormalUsers.shape[0]/len(orders['visitorId'].unique())*100),'%')"
   ]
  },
  {
   "cell_type": "markdown",
   "metadata": {},
   "source": [
    "**Подготовим выборки количества заказов по пользователям по группам теста:**\n"
   ]
  },
  {
   "cell_type": "code",
   "execution_count": 23,
   "metadata": {},
   "outputs": [],
   "source": [
    "sampleAFiltered = pd.concat(\n",
    "    [\n",
    "        ordersByUsersA[\n",
    "            np.logical_not(ordersByUsersA['visitorId'].isin(abnormalUsers))\n",
    "        ]['orders'],\n",
    "        pd.Series(\n",
    "            0,\n",
    "            index=np.arange(\n",
    "                data['visitorsPerDateA'].sum() - len(ordersByUsersA['orders'])\n",
    "            ),\n",
    "            name='orders',\n",
    "        ),\n",
    "    ],\n",
    "    axis=0,\n",
    ")\n",
    "\n",
    "sampleBFiltered = pd.concat(\n",
    "    [\n",
    "        ordersByUsersB[\n",
    "            np.logical_not(ordersByUsersB['visitorId'].isin(abnormalUsers))\n",
    "        ]['orders'],\n",
    "        pd.Series(\n",
    "            0,\n",
    "            index=np.arange(\n",
    "                data['visitorsPerDateB'].sum() - len(ordersByUsersB['orders'])\n",
    "            ),\n",
    "            name='orders',\n",
    "        ),\n",
    "    ],\n",
    "    axis=0,\n",
    ") "
   ]
  },
  {
   "cell_type": "markdown",
   "metadata": {},
   "source": [
    "**Применим статистический критерий Манна-Уитни к полученным выборкам:**"
   ]
  },
  {
   "cell_type": "code",
   "execution_count": 24,
   "metadata": {},
   "outputs": [
    {
     "name": "stdout",
     "output_type": "stream",
     "text": [
      "p-value = 0.007\n",
      "относительная разница = 0.189\n"
     ]
    }
   ],
   "source": [
    "print('p-value =','{0:.3f}'.format(stats.mannwhitneyu(sampleAFiltered, sampleBFiltered)[1]))\n",
    "print('относительная разница =','{0:.3f}'.format(sampleBFiltered.mean()/sampleAFiltered.mean()-1)) "
   ]
  },
  {
   "cell_type": "markdown",
   "metadata": {},
   "source": [
    "**Вывод: По «очищенным» данным есть различие в среднем числе заказов на посетителя между группами A и B.  p-value = 0.006, это меньше 0,05, поэтому нулевую гипотезу о том, что статистически значимых различий в среднем числе заказов на посетителя между группами нет, отвергаем.\n",
    "Относительный выигрыш группы B равен 20,2%.**"
   ]
  },
  {
   "cell_type": "markdown",
   "metadata": {},
   "source": [
    "### Посчитаем статистическую значимость различий в среднем чеке заказа между группами по «очищенным» данным:"
   ]
  },
  {
   "cell_type": "code",
   "execution_count": 25,
   "metadata": {},
   "outputs": [
    {
     "name": "stdout",
     "output_type": "stream",
     "text": [
      "p-value = 0.788\n",
      "относительная разница = -0.032\n"
     ]
    }
   ],
   "source": [
    "print(\n",
    "    'p-value = {0:.3f}'.format(\n",
    "        stats.mannwhitneyu(\n",
    "            orders[\n",
    "                np.logical_and(\n",
    "                    orders['group'] == 'A',\n",
    "                    np.logical_not(orders['visitorId'].isin(abnormalUsers)),\n",
    "                )\n",
    "            ]['revenue'],\n",
    "            orders[\n",
    "                np.logical_and(\n",
    "                    orders['group'] == 'B',\n",
    "                    np.logical_not(orders['visitorId'].isin(abnormalUsers)),\n",
    "                )\n",
    "            ]['revenue'],\n",
    "        )[1]\n",
    "    )\n",
    ")\n",
    "\n",
    "print(\n",
    "    \"относительная разница = {0:.3f}\".format(\n",
    "        orders[\n",
    "            np.logical_and(\n",
    "                orders['group'] == 'B',\n",
    "                np.logical_not(orders['visitorId'].isin(abnormalUsers)),\n",
    "            )\n",
    "        ]['revenue'].mean()\n",
    "        / orders[\n",
    "            np.logical_and(\n",
    "                orders['group'] == 'A',\n",
    "                np.logical_not(orders['visitorId'].isin(abnormalUsers)),\n",
    "            )\n",
    "        ]['revenue'].mean()\n",
    "        - 1\n",
    "    )\n",
    ") "
   ]
  },
  {
   "cell_type": "markdown",
   "metadata": {},
   "source": [
    "**Вывод: P-value значительно больше 0.05. Значит, причин отвергать нулевую гипотезу и считать, что в среднем чеке есть различия, нет. Средний чек практически не изменился.**"
   ]
  },
  {
   "cell_type": "markdown",
   "metadata": {},
   "source": [
    "### Решение по результатам теста:"
   ]
  },
  {
   "cell_type": "markdown",
   "metadata": {},
   "source": [
    "1.  Есть статистически значимое различие по среднему количеству заказов на посетителя между группами А и В как по «сырым», так и по данным после фильтрации аномалий;\n",
    "2. Нет статистически значимого различия по среднему чеку между группами ни по «сырым», ни по данным после фильтрации аномалий;\n",
    "3. График относительного изменения кумулятивного среднего количества заказов на посетителя группы B к группе A сообщает, что результаты группы B лучше группы A в части кумулятивного среднего количества заказов.\n",
    "\n",
    "**Исходя из обнаруженных фактов, считаю, что тест нужно остановить и зафиксировать победу одной группы В, так как в указанной группе среднее количество заказов на посетителя больше аналогичного в группе А примерно на 15% при том же среднем чеке.**"
   ]
  }
 ],
 "metadata": {
  "ExecuteTimeLog": [
   {
    "duration": 2509,
    "start_time": "2023-04-27T13:03:56.406Z"
   },
   {
    "duration": 27,
    "start_time": "2023-04-27T13:04:57.546Z"
   },
   {
    "duration": 32,
    "start_time": "2023-04-27T13:05:24.015Z"
   },
   {
    "duration": 36,
    "start_time": "2023-04-27T13:06:14.674Z"
   },
   {
    "duration": 30,
    "start_time": "2023-04-27T13:06:39.114Z"
   },
   {
    "duration": 7,
    "start_time": "2023-04-27T13:08:38.006Z"
   },
   {
    "duration": 1435,
    "start_time": "2023-04-27T13:47:17.500Z"
   },
   {
    "duration": 670,
    "start_time": "2023-04-27T13:48:45.228Z"
   },
   {
    "duration": 466,
    "start_time": "2023-04-27T13:50:43.332Z"
   },
   {
    "duration": 136,
    "start_time": "2023-04-27T13:51:54.938Z"
   },
   {
    "duration": 532,
    "start_time": "2023-04-27T13:54:03.719Z"
   },
   {
    "duration": 567,
    "start_time": "2023-04-27T13:55:17.805Z"
   },
   {
    "duration": 101,
    "start_time": "2023-04-27T13:55:39.308Z"
   },
   {
    "duration": 529,
    "start_time": "2023-04-27T13:55:55.203Z"
   },
   {
    "duration": 543,
    "start_time": "2023-04-27T14:00:59.406Z"
   },
   {
    "duration": 534,
    "start_time": "2023-04-27T14:01:09.017Z"
   },
   {
    "duration": 593,
    "start_time": "2023-04-27T14:01:19.844Z"
   },
   {
    "duration": 689,
    "start_time": "2023-04-27T14:01:39.418Z"
   },
   {
    "duration": 586,
    "start_time": "2023-04-27T14:02:21.314Z"
   },
   {
    "duration": 1103,
    "start_time": "2023-04-28T07:20:59.281Z"
   },
   {
    "duration": 79,
    "start_time": "2023-04-28T07:21:08.756Z"
   },
   {
    "duration": 11,
    "start_time": "2023-04-28T07:21:08.839Z"
   },
   {
    "duration": 852,
    "start_time": "2023-04-28T07:21:08.852Z"
   },
   {
    "duration": 331,
    "start_time": "2023-04-28T08:07:22.331Z"
   },
   {
    "duration": 873,
    "start_time": "2023-04-28T08:08:05.460Z"
   },
   {
    "duration": 896,
    "start_time": "2023-04-28T08:08:26.568Z"
   },
   {
    "duration": 353,
    "start_time": "2023-04-28T08:08:45.116Z"
   },
   {
    "duration": 447,
    "start_time": "2023-04-28T08:17:19.066Z"
   },
   {
    "duration": 340,
    "start_time": "2023-04-28T08:46:13.516Z"
   },
   {
    "duration": 201,
    "start_time": "2023-04-28T08:47:30.261Z"
   },
   {
    "duration": 430,
    "start_time": "2023-04-28T08:48:14.547Z"
   },
   {
    "duration": 346,
    "start_time": "2023-04-28T08:48:24.353Z"
   },
   {
    "duration": 440,
    "start_time": "2023-04-28T09:00:06.951Z"
   },
   {
    "duration": 499,
    "start_time": "2023-04-28T09:00:31.731Z"
   },
   {
    "duration": 17,
    "start_time": "2023-04-28T09:08:31.993Z"
   },
   {
    "duration": 20,
    "start_time": "2023-04-28T09:09:42.721Z"
   },
   {
    "duration": 14,
    "start_time": "2023-04-28T09:11:17.990Z"
   },
   {
    "duration": 14,
    "start_time": "2023-04-28T09:14:30.416Z"
   },
   {
    "duration": 82,
    "start_time": "2023-04-28T10:03:29.167Z"
   },
   {
    "duration": 83,
    "start_time": "2023-04-28T10:03:54.435Z"
   },
   {
    "duration": 35,
    "start_time": "2023-04-28T10:04:22.164Z"
   },
   {
    "duration": 12,
    "start_time": "2023-04-28T10:04:22.201Z"
   },
   {
    "duration": 885,
    "start_time": "2023-04-28T10:04:22.216Z"
   },
   {
    "duration": 359,
    "start_time": "2023-04-28T10:04:23.104Z"
   },
   {
    "duration": 415,
    "start_time": "2023-04-28T10:04:23.471Z"
   },
   {
    "duration": 388,
    "start_time": "2023-04-28T10:04:23.889Z"
   },
   {
    "duration": 445,
    "start_time": "2023-04-28T10:04:24.279Z"
   },
   {
    "duration": 83,
    "start_time": "2023-04-28T10:04:24.726Z"
   },
   {
    "duration": 45,
    "start_time": "2023-04-28T10:06:22.325Z"
   },
   {
    "duration": 32,
    "start_time": "2023-04-28T10:06:22.373Z"
   },
   {
    "duration": 775,
    "start_time": "2023-04-28T10:06:22.409Z"
   },
   {
    "duration": 376,
    "start_time": "2023-04-28T10:06:23.186Z"
   },
   {
    "duration": 414,
    "start_time": "2023-04-28T10:06:23.567Z"
   },
   {
    "duration": 398,
    "start_time": "2023-04-28T10:06:23.983Z"
   },
   {
    "duration": 431,
    "start_time": "2023-04-28T10:06:24.383Z"
   },
   {
    "duration": 11,
    "start_time": "2023-04-28T10:06:24.816Z"
   },
   {
    "duration": 5763,
    "start_time": "2023-04-28T11:12:31.383Z"
   },
   {
    "duration": 319,
    "start_time": "2023-04-28T11:13:23.809Z"
   },
   {
    "duration": 138,
    "start_time": "2023-04-28T12:09:03.513Z"
   },
   {
    "duration": 5,
    "start_time": "2023-04-28T12:14:09.417Z"
   },
   {
    "duration": 6,
    "start_time": "2023-04-28T12:14:26.783Z"
   },
   {
    "duration": 5,
    "start_time": "2023-04-28T12:14:37.806Z"
   },
   {
    "duration": 5,
    "start_time": "2023-04-28T12:16:01.786Z"
   },
   {
    "duration": 8,
    "start_time": "2023-04-28T12:16:49.565Z"
   },
   {
    "duration": 5,
    "start_time": "2023-04-28T12:17:59.314Z"
   },
   {
    "duration": 2314,
    "start_time": "2023-04-28T12:33:10.900Z"
   },
   {
    "duration": 199,
    "start_time": "2023-04-28T12:34:13.195Z"
   },
   {
    "duration": 4,
    "start_time": "2023-04-28T12:38:16.396Z"
   },
   {
    "duration": 198,
    "start_time": "2023-04-28T12:46:26.164Z"
   },
   {
    "duration": 5,
    "start_time": "2023-04-28T12:47:23.886Z"
   },
   {
    "duration": 112,
    "start_time": "2023-04-28T13:12:41.085Z"
   },
   {
    "duration": 335,
    "start_time": "2023-04-28T13:16:15.747Z"
   },
   {
    "duration": 188,
    "start_time": "2023-04-28T13:24:20.270Z"
   },
   {
    "duration": 9,
    "start_time": "2023-04-28T13:24:58.475Z"
   },
   {
    "duration": 194,
    "start_time": "2023-04-28T13:26:54.633Z"
   },
   {
    "duration": 697,
    "start_time": "2023-04-28T13:28:07.683Z"
   },
   {
    "duration": 143,
    "start_time": "2023-04-28T13:28:08.382Z"
   },
   {
    "duration": 8,
    "start_time": "2023-04-28T13:28:09.855Z"
   },
   {
    "duration": 225,
    "start_time": "2023-04-28T13:28:11.493Z"
   },
   {
    "duration": 13,
    "start_time": "2023-04-28T13:46:27.525Z"
   },
   {
    "duration": 451,
    "start_time": "2023-05-02T06:33:32.711Z"
   },
   {
    "duration": 8,
    "start_time": "2023-05-02T06:33:33.164Z"
   },
   {
    "duration": 1073,
    "start_time": "2023-05-02T06:33:33.174Z"
   },
   {
    "duration": 315,
    "start_time": "2023-05-02T06:33:34.249Z"
   },
   {
    "duration": 455,
    "start_time": "2023-05-02T06:33:34.566Z"
   },
   {
    "duration": 400,
    "start_time": "2023-05-02T06:33:35.023Z"
   },
   {
    "duration": 428,
    "start_time": "2023-05-02T06:33:35.424Z"
   },
   {
    "duration": 158,
    "start_time": "2023-05-02T06:33:35.853Z"
   },
   {
    "duration": 4,
    "start_time": "2023-05-02T06:33:36.012Z"
   },
   {
    "duration": 155,
    "start_time": "2023-05-02T06:33:36.019Z"
   },
   {
    "duration": 17,
    "start_time": "2023-05-02T06:33:36.176Z"
   },
   {
    "duration": 657,
    "start_time": "2023-05-02T06:33:36.196Z"
   },
   {
    "duration": 147,
    "start_time": "2023-05-02T06:33:36.855Z"
   },
   {
    "duration": 166,
    "start_time": "2023-05-02T06:33:37.004Z"
   },
   {
    "duration": 185,
    "start_time": "2023-05-02T06:33:37.172Z"
   },
   {
    "duration": 15,
    "start_time": "2023-05-02T06:33:37.359Z"
   },
   {
    "duration": 881,
    "start_time": "2023-05-02T06:33:37.376Z"
   },
   {
    "duration": 704,
    "start_time": "2023-05-02T06:34:21.023Z"
   },
   {
    "duration": 852,
    "start_time": "2023-05-02T06:34:30.627Z"
   },
   {
    "duration": 9,
    "start_time": "2023-05-02T06:34:40.262Z"
   },
   {
    "duration": 11,
    "start_time": "2023-05-02T06:38:36.730Z"
   },
   {
    "duration": 815,
    "start_time": "2023-05-02T07:09:37.755Z"
   },
   {
    "duration": 9,
    "start_time": "2023-05-02T07:09:52.570Z"
   },
   {
    "duration": 8,
    "start_time": "2023-05-02T07:11:07.057Z"
   },
   {
    "duration": 23,
    "start_time": "2023-05-02T07:11:46.889Z"
   },
   {
    "duration": 71,
    "start_time": "2023-05-02T07:33:42.276Z"
   },
   {
    "duration": 13,
    "start_time": "2023-05-02T07:40:26.346Z"
   },
   {
    "duration": 424,
    "start_time": "2023-05-03T07:38:40.038Z"
   },
   {
    "duration": 8,
    "start_time": "2023-05-03T07:38:40.464Z"
   },
   {
    "duration": 261,
    "start_time": "2023-05-03T07:38:40.474Z"
   },
   {
    "duration": 54,
    "start_time": "2023-05-03T07:38:40.737Z"
   },
   {
    "duration": 529,
    "start_time": "2023-05-03T07:38:40.794Z"
   },
   {
    "duration": 275,
    "start_time": "2023-05-03T07:38:41.324Z"
   },
   {
    "duration": 408,
    "start_time": "2023-05-03T07:38:41.601Z"
   },
   {
    "duration": 293,
    "start_time": "2023-05-03T07:38:42.010Z"
   },
   {
    "duration": 441,
    "start_time": "2023-05-03T07:38:42.305Z"
   },
   {
    "duration": 130,
    "start_time": "2023-05-03T07:38:42.748Z"
   },
   {
    "duration": 4,
    "start_time": "2023-05-03T07:38:42.880Z"
   },
   {
    "duration": 117,
    "start_time": "2023-05-03T07:38:42.885Z"
   },
   {
    "duration": 4,
    "start_time": "2023-05-03T07:38:43.004Z"
   },
   {
    "duration": 647,
    "start_time": "2023-05-03T07:38:43.010Z"
   },
   {
    "duration": 123,
    "start_time": "2023-05-03T07:38:43.658Z"
   },
   {
    "duration": 6,
    "start_time": "2023-05-03T07:38:43.783Z"
   },
   {
    "duration": 171,
    "start_time": "2023-05-03T07:38:43.791Z"
   },
   {
    "duration": 10,
    "start_time": "2023-05-03T07:38:43.963Z"
   },
   {
    "duration": 10,
    "start_time": "2023-05-03T07:38:43.975Z"
   },
   {
    "duration": 16,
    "start_time": "2023-05-03T07:38:43.986Z"
   },
   {
    "duration": 43,
    "start_time": "2023-05-03T07:38:44.003Z"
   },
   {
    "duration": 12,
    "start_time": "2023-05-03T07:38:44.047Z"
   },
   {
    "duration": 390,
    "start_time": "2023-05-03T07:45:50.279Z"
   },
   {
    "duration": 8,
    "start_time": "2023-05-03T07:45:50.671Z"
   },
   {
    "duration": 368,
    "start_time": "2023-05-03T07:45:50.680Z"
   },
   {
    "duration": 51,
    "start_time": "2023-05-03T07:45:51.051Z"
   },
   {
    "duration": 538,
    "start_time": "2023-05-03T07:45:51.104Z"
   },
   {
    "duration": 289,
    "start_time": "2023-05-03T07:45:51.643Z"
   },
   {
    "duration": 382,
    "start_time": "2023-05-03T07:45:51.935Z"
   },
   {
    "duration": 296,
    "start_time": "2023-05-03T07:45:52.319Z"
   },
   {
    "duration": 435,
    "start_time": "2023-05-03T07:45:52.616Z"
   },
   {
    "duration": 136,
    "start_time": "2023-05-03T07:45:53.054Z"
   },
   {
    "duration": 4,
    "start_time": "2023-05-03T07:45:53.191Z"
   },
   {
    "duration": 154,
    "start_time": "2023-05-03T07:45:53.197Z"
   },
   {
    "duration": 4,
    "start_time": "2023-05-03T07:45:53.353Z"
   },
   {
    "duration": 540,
    "start_time": "2023-05-03T07:45:53.359Z"
   },
   {
    "duration": 119,
    "start_time": "2023-05-03T07:45:53.901Z"
   },
   {
    "duration": 7,
    "start_time": "2023-05-03T07:45:54.033Z"
   },
   {
    "duration": 156,
    "start_time": "2023-05-03T07:45:54.041Z"
   },
   {
    "duration": 9,
    "start_time": "2023-05-03T07:45:54.198Z"
   },
   {
    "duration": 9,
    "start_time": "2023-05-03T07:45:54.208Z"
   },
   {
    "duration": 21,
    "start_time": "2023-05-03T07:45:54.218Z"
   },
   {
    "duration": 22,
    "start_time": "2023-05-03T07:45:54.240Z"
   },
   {
    "duration": 13,
    "start_time": "2023-05-03T07:45:54.264Z"
   },
   {
    "duration": 405,
    "start_time": "2023-05-03T07:46:10.600Z"
   },
   {
    "duration": 9,
    "start_time": "2023-05-03T07:46:11.007Z"
   },
   {
    "duration": 278,
    "start_time": "2023-05-03T07:46:11.017Z"
   },
   {
    "duration": 51,
    "start_time": "2023-05-03T07:46:11.297Z"
   },
   {
    "duration": 497,
    "start_time": "2023-05-03T07:46:11.350Z"
   },
   {
    "duration": 260,
    "start_time": "2023-05-03T07:46:11.848Z"
   },
   {
    "duration": 378,
    "start_time": "2023-05-03T07:46:12.110Z"
   },
   {
    "duration": 283,
    "start_time": "2023-05-03T07:46:12.490Z"
   },
   {
    "duration": 430,
    "start_time": "2023-05-03T07:46:12.775Z"
   },
   {
    "duration": 144,
    "start_time": "2023-05-03T07:46:13.208Z"
   },
   {
    "duration": 4,
    "start_time": "2023-05-03T07:46:13.354Z"
   },
   {
    "duration": 168,
    "start_time": "2023-05-03T07:46:13.360Z"
   },
   {
    "duration": 7,
    "start_time": "2023-05-03T07:46:13.529Z"
   },
   {
    "duration": 545,
    "start_time": "2023-05-03T07:46:13.538Z"
   },
   {
    "duration": 119,
    "start_time": "2023-05-03T07:46:14.085Z"
   },
   {
    "duration": 6,
    "start_time": "2023-05-03T07:46:14.206Z"
   },
   {
    "duration": 152,
    "start_time": "2023-05-03T07:46:14.213Z"
   },
   {
    "duration": 9,
    "start_time": "2023-05-03T07:46:14.367Z"
   },
   {
    "duration": 9,
    "start_time": "2023-05-03T07:46:14.378Z"
   },
   {
    "duration": 7,
    "start_time": "2023-05-03T07:46:14.389Z"
   },
   {
    "duration": 40,
    "start_time": "2023-05-03T07:46:14.397Z"
   },
   {
    "duration": 12,
    "start_time": "2023-05-03T07:46:14.439Z"
   },
   {
    "duration": 490,
    "start_time": "2023-05-03T12:07:57.562Z"
   },
   {
    "duration": 3,
    "start_time": "2023-05-03T12:09:53.242Z"
   },
   {
    "duration": 2,
    "start_time": "2023-05-03T12:10:13.448Z"
   },
   {
    "duration": 53,
    "start_time": "2023-05-03T17:11:45.290Z"
   },
   {
    "duration": 48,
    "start_time": "2023-05-03T17:14:00.656Z"
   },
   {
    "duration": 329,
    "start_time": "2023-05-03T17:14:06.544Z"
   },
   {
    "duration": 95,
    "start_time": "2023-05-03T17:14:07.308Z"
   },
   {
    "duration": 69,
    "start_time": "2023-05-03T17:45:00.308Z"
   },
   {
    "duration": 10,
    "start_time": "2023-05-03T17:47:32.145Z"
   },
   {
    "duration": 87,
    "start_time": "2023-05-04T13:04:16.309Z"
   },
   {
    "duration": 870,
    "start_time": "2023-05-04T13:04:23.378Z"
   },
   {
    "duration": 98,
    "start_time": "2023-05-04T13:04:24.250Z"
   },
   {
    "duration": 13,
    "start_time": "2023-05-04T13:04:24.350Z"
   },
   {
    "duration": 208,
    "start_time": "2023-05-04T13:04:24.365Z"
   },
   {
    "duration": 186,
    "start_time": "2023-05-04T13:05:21.871Z"
   },
   {
    "duration": 4,
    "start_time": "2023-05-04T13:06:45.005Z"
   },
   {
    "duration": 91,
    "start_time": "2023-05-04T13:06:45.012Z"
   },
   {
    "duration": 13,
    "start_time": "2023-05-04T13:06:45.105Z"
   },
   {
    "duration": 125,
    "start_time": "2023-05-04T13:07:53.610Z"
   },
   {
    "duration": 107,
    "start_time": "2023-05-04T13:08:29.890Z"
   },
   {
    "duration": 112,
    "start_time": "2023-05-04T13:10:19.749Z"
   },
   {
    "duration": 115,
    "start_time": "2023-05-04T13:10:48.628Z"
   },
   {
    "duration": 255,
    "start_time": "2023-05-04T13:15:23.849Z"
   },
   {
    "duration": 166,
    "start_time": "2023-05-04T13:21:05.673Z"
   },
   {
    "duration": 155,
    "start_time": "2023-05-04T13:23:10.420Z"
   },
   {
    "duration": 127,
    "start_time": "2023-05-04T13:24:16.336Z"
   },
   {
    "duration": 5,
    "start_time": "2023-05-04T13:24:30.945Z"
   },
   {
    "duration": 140,
    "start_time": "2023-05-04T13:24:49.034Z"
   },
   {
    "duration": 152,
    "start_time": "2023-05-04T13:25:56.471Z"
   },
   {
    "duration": 131,
    "start_time": "2023-05-04T13:27:36.595Z"
   },
   {
    "duration": 136,
    "start_time": "2023-05-04T13:30:12.889Z"
   },
   {
    "duration": 140,
    "start_time": "2023-05-04T13:30:29.108Z"
   },
   {
    "duration": 142,
    "start_time": "2023-05-04T13:30:47.417Z"
   },
   {
    "duration": 141,
    "start_time": "2023-05-04T13:31:22.688Z"
   },
   {
    "duration": 130,
    "start_time": "2023-05-04T13:31:36.215Z"
   },
   {
    "duration": 60,
    "start_time": "2023-05-04T13:32:29.534Z"
   },
   {
    "duration": 55,
    "start_time": "2023-05-04T13:32:42.025Z"
   },
   {
    "duration": 178,
    "start_time": "2023-05-04T13:34:15.062Z"
   },
   {
    "duration": 191,
    "start_time": "2023-05-04T13:35:26.334Z"
   },
   {
    "duration": 140,
    "start_time": "2023-05-04T13:48:37.535Z"
   },
   {
    "duration": 143,
    "start_time": "2023-05-04T13:49:11.391Z"
   },
   {
    "duration": 147,
    "start_time": "2023-05-04T13:49:35.158Z"
   },
   {
    "duration": 219,
    "start_time": "2023-05-04T13:50:05.464Z"
   },
   {
    "duration": 166,
    "start_time": "2023-05-04T13:50:58.851Z"
   },
   {
    "duration": 134,
    "start_time": "2023-05-04T13:51:21.151Z"
   },
   {
    "duration": 144,
    "start_time": "2023-05-04T13:51:43.502Z"
   },
   {
    "duration": 144,
    "start_time": "2023-05-04T13:52:43.628Z"
   },
   {
    "duration": 152,
    "start_time": "2023-05-04T13:52:58.208Z"
   },
   {
    "duration": 14,
    "start_time": "2023-05-04T13:57:35.934Z"
   },
   {
    "duration": 10,
    "start_time": "2023-05-04T13:57:58.924Z"
   },
   {
    "duration": 8,
    "start_time": "2023-05-04T14:15:30.016Z"
   },
   {
    "duration": 11,
    "start_time": "2023-05-04T14:17:18.864Z"
   },
   {
    "duration": 8,
    "start_time": "2023-05-04T14:17:52.903Z"
   },
   {
    "duration": 58,
    "start_time": "2023-05-05T10:28:46.145Z"
   },
   {
    "duration": 849,
    "start_time": "2023-05-05T10:28:52.435Z"
   },
   {
    "duration": 113,
    "start_time": "2023-05-05T10:28:53.293Z"
   },
   {
    "duration": 11,
    "start_time": "2023-05-05T10:28:53.409Z"
   },
   {
    "duration": 273,
    "start_time": "2023-05-05T10:28:53.422Z"
   },
   {
    "duration": 104,
    "start_time": "2023-05-05T10:28:53.700Z"
   },
   {
    "duration": 8,
    "start_time": "2023-05-05T10:29:37.680Z"
   },
   {
    "duration": 18,
    "start_time": "2023-05-05T10:30:43.973Z"
   },
   {
    "duration": 9,
    "start_time": "2023-05-05T10:32:21.131Z"
   },
   {
    "duration": 21,
    "start_time": "2023-05-05T10:38:06.207Z"
   },
   {
    "duration": 771,
    "start_time": "2023-05-05T10:39:48.372Z"
   },
   {
    "duration": 74,
    "start_time": "2023-05-05T10:41:26.269Z"
   },
   {
    "duration": 13,
    "start_time": "2023-05-05T10:41:36.021Z"
   },
   {
    "duration": 19,
    "start_time": "2023-05-05T10:41:55.269Z"
   },
   {
    "duration": 7,
    "start_time": "2023-05-05T10:42:36.731Z"
   },
   {
    "duration": 11,
    "start_time": "2023-05-05T10:42:49.589Z"
   },
   {
    "duration": 4,
    "start_time": "2023-05-05T10:42:55.642Z"
   },
   {
    "duration": 76,
    "start_time": "2023-05-05T10:42:55.647Z"
   },
   {
    "duration": 10,
    "start_time": "2023-05-05T10:42:55.725Z"
   },
   {
    "duration": 162,
    "start_time": "2023-05-05T10:42:55.737Z"
   },
   {
    "duration": 10,
    "start_time": "2023-05-05T10:43:01.420Z"
   },
   {
    "duration": 11,
    "start_time": "2023-05-05T10:43:35.353Z"
   },
   {
    "duration": 10,
    "start_time": "2023-05-05T10:43:48.439Z"
   },
   {
    "duration": 379,
    "start_time": "2023-05-05T10:55:23.989Z"
   },
   {
    "duration": 213,
    "start_time": "2023-05-05T10:56:22.847Z"
   },
   {
    "duration": 8,
    "start_time": "2023-05-05T10:56:43.427Z"
   },
   {
    "duration": 65,
    "start_time": "2023-05-05T10:56:43.438Z"
   },
   {
    "duration": 14,
    "start_time": "2023-05-05T10:56:43.506Z"
   },
   {
    "duration": 238,
    "start_time": "2023-05-05T10:56:43.523Z"
   },
   {
    "duration": 10,
    "start_time": "2023-05-05T10:56:43.764Z"
   },
   {
    "duration": 18,
    "start_time": "2023-05-05T10:56:43.776Z"
   },
   {
    "duration": 237,
    "start_time": "2023-05-05T10:56:48.885Z"
   },
   {
    "duration": 4,
    "start_time": "2023-05-05T10:59:07.456Z"
   },
   {
    "duration": 70,
    "start_time": "2023-05-05T10:59:07.462Z"
   },
   {
    "duration": 14,
    "start_time": "2023-05-05T10:59:07.534Z"
   },
   {
    "duration": 151,
    "start_time": "2023-05-05T10:59:07.550Z"
   },
   {
    "duration": 11,
    "start_time": "2023-05-05T10:59:07.708Z"
   },
   {
    "duration": 3,
    "start_time": "2023-05-05T10:59:07.720Z"
   },
   {
    "duration": 722,
    "start_time": "2023-05-05T10:59:07.725Z"
   },
   {
    "duration": 255,
    "start_time": "2023-05-05T10:59:08.449Z"
   },
   {
    "duration": 371,
    "start_time": "2023-05-05T10:59:08.707Z"
   },
   {
    "duration": 267,
    "start_time": "2023-05-05T10:59:09.082Z"
   },
   {
    "duration": 401,
    "start_time": "2023-05-05T10:59:09.351Z"
   },
   {
    "duration": 174,
    "start_time": "2023-05-05T10:59:09.754Z"
   },
   {
    "duration": 6,
    "start_time": "2023-05-05T10:59:09.930Z"
   },
   {
    "duration": 203,
    "start_time": "2023-05-05T10:59:09.937Z"
   },
   {
    "duration": 5,
    "start_time": "2023-05-05T10:59:10.142Z"
   },
   {
    "duration": 823,
    "start_time": "2023-05-05T10:59:10.149Z"
   },
   {
    "duration": 160,
    "start_time": "2023-05-05T10:59:10.974Z"
   },
   {
    "duration": 8,
    "start_time": "2023-05-05T10:59:11.136Z"
   },
   {
    "duration": 207,
    "start_time": "2023-05-05T10:59:11.146Z"
   },
   {
    "duration": 11,
    "start_time": "2023-05-05T10:59:11.355Z"
   },
   {
    "duration": 9,
    "start_time": "2023-05-05T10:59:11.368Z"
   },
   {
    "duration": 20,
    "start_time": "2023-05-05T10:59:11.379Z"
   },
   {
    "duration": 32,
    "start_time": "2023-05-05T10:59:11.401Z"
   },
   {
    "duration": 15,
    "start_time": "2023-05-05T10:59:11.434Z"
   },
   {
    "duration": 643,
    "start_time": "2023-05-05T11:02:54.345Z"
   },
   {
    "duration": 583,
    "start_time": "2023-05-05T11:03:36.359Z"
   },
   {
    "duration": 1022,
    "start_time": "2023-05-05T11:04:25.010Z"
   },
   {
    "duration": 998,
    "start_time": "2023-05-05T11:04:40.264Z"
   },
   {
    "duration": 9,
    "start_time": "2023-05-05T11:04:56.464Z"
   },
   {
    "duration": 932,
    "start_time": "2023-05-05T11:05:03.124Z"
   },
   {
    "duration": 4,
    "start_time": "2023-05-05T11:05:18.024Z"
   },
   {
    "duration": 55,
    "start_time": "2023-05-05T11:05:18.031Z"
   },
   {
    "duration": 23,
    "start_time": "2023-05-05T11:05:18.088Z"
   },
   {
    "duration": 139,
    "start_time": "2023-05-05T11:05:18.114Z"
   },
   {
    "duration": 10,
    "start_time": "2023-05-05T11:05:18.255Z"
   },
   {
    "duration": 973,
    "start_time": "2023-05-05T11:05:23.405Z"
   },
   {
    "duration": 11,
    "start_time": "2023-05-05T11:06:16.813Z"
   },
   {
    "duration": 705,
    "start_time": "2023-05-05T11:06:38.433Z"
   },
   {
    "duration": 22,
    "start_time": "2023-05-05T11:06:57.008Z"
   },
   {
    "duration": 19,
    "start_time": "2023-05-05T11:07:02.607Z"
   },
   {
    "duration": 69,
    "start_time": "2023-05-05T11:07:13.157Z"
   },
   {
    "duration": 11,
    "start_time": "2023-05-05T11:07:21.812Z"
   },
   {
    "duration": 11,
    "start_time": "2023-05-05T11:07:34.412Z"
   },
   {
    "duration": 17,
    "start_time": "2023-05-05T11:07:56.611Z"
   },
   {
    "duration": 74,
    "start_time": "2023-05-05T11:08:32.458Z"
   },
   {
    "duration": 5,
    "start_time": "2023-05-05T11:09:53.471Z"
   },
   {
    "duration": 529,
    "start_time": "2023-05-05T11:10:00.711Z"
   },
   {
    "duration": 9,
    "start_time": "2023-05-05T11:10:50.451Z"
   },
   {
    "duration": 474,
    "start_time": "2023-05-05T11:15:14.442Z"
   },
   {
    "duration": 463,
    "start_time": "2023-05-05T11:15:36.664Z"
   },
   {
    "duration": 245,
    "start_time": "2023-05-05T11:16:24.240Z"
   },
   {
    "duration": 342,
    "start_time": "2023-05-05T11:20:08.192Z"
   },
   {
    "duration": 296,
    "start_time": "2023-05-05T11:20:19.222Z"
   },
   {
    "duration": 407,
    "start_time": "2023-05-05T11:20:32.220Z"
   },
   {
    "duration": 264,
    "start_time": "2023-05-05T11:22:29.533Z"
   },
   {
    "duration": 205,
    "start_time": "2023-05-05T11:22:38.376Z"
   },
   {
    "duration": 2,
    "start_time": "2023-05-05T11:23:54.612Z"
   },
   {
    "duration": 67,
    "start_time": "2023-05-05T11:23:54.616Z"
   },
   {
    "duration": 20,
    "start_time": "2023-05-05T11:23:54.685Z"
   },
   {
    "duration": 123,
    "start_time": "2023-05-05T11:23:54.708Z"
   },
   {
    "duration": 9,
    "start_time": "2023-05-05T11:23:54.833Z"
   },
   {
    "duration": 4,
    "start_time": "2023-05-05T11:23:54.843Z"
   },
   {
    "duration": 509,
    "start_time": "2023-05-05T11:23:54.848Z"
   },
   {
    "duration": 228,
    "start_time": "2023-05-05T11:23:55.359Z"
   },
   {
    "duration": 323,
    "start_time": "2023-05-05T11:23:59.405Z"
   },
   {
    "duration": 4,
    "start_time": "2023-05-05T11:28:26.108Z"
   },
   {
    "duration": 56,
    "start_time": "2023-05-05T11:28:26.114Z"
   },
   {
    "duration": 11,
    "start_time": "2023-05-05T11:28:26.173Z"
   },
   {
    "duration": 135,
    "start_time": "2023-05-05T11:28:26.186Z"
   },
   {
    "duration": 9,
    "start_time": "2023-05-05T11:28:26.323Z"
   },
   {
    "duration": 11,
    "start_time": "2023-05-05T11:28:26.334Z"
   },
   {
    "duration": 512,
    "start_time": "2023-05-05T11:28:26.347Z"
   },
   {
    "duration": 252,
    "start_time": "2023-05-05T11:28:26.861Z"
   },
   {
    "duration": 337,
    "start_time": "2023-05-05T11:28:27.115Z"
   },
   {
    "duration": 278,
    "start_time": "2023-05-05T11:28:27.455Z"
   },
   {
    "duration": 334,
    "start_time": "2023-05-05T11:28:27.736Z"
   },
   {
    "duration": 153,
    "start_time": "2023-05-05T11:28:28.072Z"
   },
   {
    "duration": 6,
    "start_time": "2023-05-05T11:28:28.226Z"
   },
   {
    "duration": 179,
    "start_time": "2023-05-05T11:28:28.234Z"
   },
   {
    "duration": 5,
    "start_time": "2023-05-05T11:28:28.414Z"
   },
   {
    "duration": 356,
    "start_time": "2023-05-05T11:28:28.420Z"
   },
   {
    "duration": 41,
    "start_time": "2023-05-05T11:28:28.778Z"
   },
   {
    "duration": 8,
    "start_time": "2023-05-05T11:28:28.822Z"
   },
   {
    "duration": 73,
    "start_time": "2023-05-05T11:28:28.831Z"
   },
   {
    "duration": 9,
    "start_time": "2023-05-05T11:28:28.906Z"
   },
   {
    "duration": 9,
    "start_time": "2023-05-05T11:28:28.916Z"
   },
   {
    "duration": 11,
    "start_time": "2023-05-05T11:28:28.926Z"
   },
   {
    "duration": 28,
    "start_time": "2023-05-05T11:28:28.939Z"
   },
   {
    "duration": 31,
    "start_time": "2023-05-05T11:28:28.968Z"
   },
   {
    "duration": 367,
    "start_time": "2023-05-05T11:33:07.111Z"
   },
   {
    "duration": 246,
    "start_time": "2023-05-05T11:35:04.620Z"
   },
   {
    "duration": 3,
    "start_time": "2023-05-05T11:38:26.854Z"
   },
   {
    "duration": 81,
    "start_time": "2023-05-05T11:38:26.859Z"
   },
   {
    "duration": 13,
    "start_time": "2023-05-05T11:38:26.942Z"
   },
   {
    "duration": 153,
    "start_time": "2023-05-05T11:38:26.957Z"
   },
   {
    "duration": 17,
    "start_time": "2023-05-05T11:38:27.113Z"
   },
   {
    "duration": 11,
    "start_time": "2023-05-05T11:38:31.444Z"
   },
   {
    "duration": 11,
    "start_time": "2023-05-05T11:38:43.679Z"
   },
   {
    "duration": 5,
    "start_time": "2023-05-05T11:42:00.535Z"
   },
   {
    "duration": 515,
    "start_time": "2023-05-05T11:42:10.816Z"
   },
   {
    "duration": 8,
    "start_time": "2023-05-05T11:42:16.014Z"
   },
   {
    "duration": 55,
    "start_time": "2023-05-05T11:42:16.025Z"
   },
   {
    "duration": 20,
    "start_time": "2023-05-05T11:42:16.082Z"
   },
   {
    "duration": 167,
    "start_time": "2023-05-05T11:42:16.104Z"
   },
   {
    "duration": 9,
    "start_time": "2023-05-05T11:42:16.272Z"
   },
   {
    "duration": 5,
    "start_time": "2023-05-05T11:42:16.283Z"
   },
   {
    "duration": 580,
    "start_time": "2023-05-05T11:42:16.290Z"
   },
   {
    "duration": 271,
    "start_time": "2023-05-05T11:42:16.872Z"
   },
   {
    "duration": 301,
    "start_time": "2023-05-05T11:42:17.144Z"
   },
   {
    "duration": 263,
    "start_time": "2023-05-05T11:42:17.447Z"
   },
   {
    "duration": 333,
    "start_time": "2023-05-05T11:42:17.712Z"
   },
   {
    "duration": 183,
    "start_time": "2023-05-05T11:42:18.047Z"
   },
   {
    "duration": 5,
    "start_time": "2023-05-05T11:42:18.232Z"
   },
   {
    "duration": 184,
    "start_time": "2023-05-05T11:42:18.239Z"
   },
   {
    "duration": 5,
    "start_time": "2023-05-05T11:42:18.426Z"
   },
   {
    "duration": 243,
    "start_time": "2023-05-05T11:42:18.433Z"
   },
   {
    "duration": 162,
    "start_time": "2023-05-05T11:42:18.678Z"
   },
   {
    "duration": 7,
    "start_time": "2023-05-05T11:42:18.841Z"
   },
   {
    "duration": 166,
    "start_time": "2023-05-05T11:42:18.849Z"
   },
   {
    "duration": 12,
    "start_time": "2023-05-05T11:42:19.022Z"
   },
   {
    "duration": 9,
    "start_time": "2023-05-05T11:42:19.036Z"
   },
   {
    "duration": 10,
    "start_time": "2023-05-05T11:42:19.046Z"
   },
   {
    "duration": 44,
    "start_time": "2023-05-05T11:42:19.058Z"
   },
   {
    "duration": 22,
    "start_time": "2023-05-05T11:42:19.105Z"
   },
   {
    "duration": 238,
    "start_time": "2023-05-05T11:44:34.063Z"
   },
   {
    "duration": 44,
    "start_time": "2023-05-05T11:46:12.427Z"
   },
   {
    "duration": 351,
    "start_time": "2023-05-05T11:46:54.600Z"
   },
   {
    "duration": 374,
    "start_time": "2023-05-05T11:48:17.523Z"
   },
   {
    "duration": 558,
    "start_time": "2023-05-05T11:49:28.457Z"
   },
   {
    "duration": 250,
    "start_time": "2023-05-05T11:51:13.237Z"
   },
   {
    "duration": 3,
    "start_time": "2023-05-05T12:00:08.856Z"
   },
   {
    "duration": 102,
    "start_time": "2023-05-05T12:00:08.861Z"
   },
   {
    "duration": 11,
    "start_time": "2023-05-05T12:00:08.965Z"
   },
   {
    "duration": 169,
    "start_time": "2023-05-05T12:00:08.977Z"
   },
   {
    "duration": 8,
    "start_time": "2023-05-05T12:00:09.148Z"
   },
   {
    "duration": 18,
    "start_time": "2023-05-05T12:00:09.157Z"
   },
   {
    "duration": 506,
    "start_time": "2023-05-05T12:00:09.177Z"
   },
   {
    "duration": 249,
    "start_time": "2023-05-05T12:00:09.685Z"
   },
   {
    "duration": 303,
    "start_time": "2023-05-05T12:00:09.935Z"
   },
   {
    "duration": 277,
    "start_time": "2023-05-05T12:00:10.240Z"
   },
   {
    "duration": 333,
    "start_time": "2023-05-05T12:00:10.521Z"
   },
   {
    "duration": 177,
    "start_time": "2023-05-05T12:00:10.855Z"
   },
   {
    "duration": 4,
    "start_time": "2023-05-05T12:00:11.034Z"
   },
   {
    "duration": 181,
    "start_time": "2023-05-05T12:00:11.040Z"
   },
   {
    "duration": 4,
    "start_time": "2023-05-05T12:00:11.224Z"
   },
   {
    "duration": 248,
    "start_time": "2023-05-05T12:00:11.230Z"
   },
   {
    "duration": 138,
    "start_time": "2023-05-05T12:00:11.479Z"
   },
   {
    "duration": 7,
    "start_time": "2023-05-05T12:00:11.620Z"
   },
   {
    "duration": 195,
    "start_time": "2023-05-05T12:00:11.628Z"
   },
   {
    "duration": 10,
    "start_time": "2023-05-05T12:00:11.825Z"
   },
   {
    "duration": 9,
    "start_time": "2023-05-05T12:00:11.837Z"
   },
   {
    "duration": 24,
    "start_time": "2023-05-05T12:00:11.847Z"
   },
   {
    "duration": 32,
    "start_time": "2023-05-05T12:00:11.873Z"
   },
   {
    "duration": 16,
    "start_time": "2023-05-05T12:00:11.913Z"
   },
   {
    "duration": 4,
    "start_time": "2023-05-05T12:01:56.331Z"
   },
   {
    "duration": 4,
    "start_time": "2023-05-05T12:02:00.738Z"
   },
   {
    "duration": 128,
    "start_time": "2023-05-05T12:02:00.744Z"
   },
   {
    "duration": 14,
    "start_time": "2023-05-05T12:02:00.874Z"
   },
   {
    "duration": 193,
    "start_time": "2023-05-05T12:02:00.891Z"
   },
   {
    "duration": 20,
    "start_time": "2023-05-05T12:02:01.085Z"
   },
   {
    "duration": 19,
    "start_time": "2023-05-05T12:02:01.110Z"
   },
   {
    "duration": 574,
    "start_time": "2023-05-05T12:02:01.131Z"
   },
   {
    "duration": 267,
    "start_time": "2023-05-05T12:02:01.711Z"
   },
   {
    "duration": 360,
    "start_time": "2023-05-05T12:02:01.980Z"
   },
   {
    "duration": 296,
    "start_time": "2023-05-05T12:02:02.343Z"
   },
   {
    "duration": 336,
    "start_time": "2023-05-05T12:02:02.641Z"
   },
   {
    "duration": 324,
    "start_time": "2023-05-05T12:02:02.978Z"
   },
   {
    "duration": 6,
    "start_time": "2023-05-05T12:02:03.306Z"
   },
   {
    "duration": 169,
    "start_time": "2023-05-05T12:02:03.313Z"
   },
   {
    "duration": 5,
    "start_time": "2023-05-05T12:02:03.492Z"
   },
   {
    "duration": 259,
    "start_time": "2023-05-05T12:02:03.498Z"
   },
   {
    "duration": 134,
    "start_time": "2023-05-05T12:02:03.759Z"
   },
   {
    "duration": 7,
    "start_time": "2023-05-05T12:02:03.904Z"
   },
   {
    "duration": 191,
    "start_time": "2023-05-05T12:02:03.913Z"
   },
   {
    "duration": 14,
    "start_time": "2023-05-05T12:02:04.106Z"
   },
   {
    "duration": 10,
    "start_time": "2023-05-05T12:02:04.122Z"
   },
   {
    "duration": 8,
    "start_time": "2023-05-05T12:02:04.138Z"
   },
   {
    "duration": 24,
    "start_time": "2023-05-05T12:02:04.147Z"
   },
   {
    "duration": 37,
    "start_time": "2023-05-05T12:02:04.173Z"
   },
   {
    "duration": 14,
    "start_time": "2023-05-05T12:03:33.129Z"
   },
   {
    "duration": 15,
    "start_time": "2023-05-05T12:04:52.405Z"
   },
   {
    "duration": 16,
    "start_time": "2023-05-05T12:05:17.909Z"
   },
   {
    "duration": 19,
    "start_time": "2023-05-05T12:05:53.310Z"
   },
   {
    "duration": 22,
    "start_time": "2023-05-05T12:06:09.208Z"
   },
   {
    "duration": 53,
    "start_time": "2023-05-05T12:07:59.421Z"
   },
   {
    "duration": 23,
    "start_time": "2023-05-05T12:08:10.109Z"
   },
   {
    "duration": 4,
    "start_time": "2023-05-05T12:08:20.778Z"
   },
   {
    "duration": 88,
    "start_time": "2023-05-05T12:08:20.784Z"
   },
   {
    "duration": 12,
    "start_time": "2023-05-05T12:08:20.874Z"
   },
   {
    "duration": 192,
    "start_time": "2023-05-05T12:08:20.888Z"
   },
   {
    "duration": 11,
    "start_time": "2023-05-05T12:08:21.081Z"
   },
   {
    "duration": 18,
    "start_time": "2023-05-05T12:08:28.290Z"
   },
   {
    "duration": 9,
    "start_time": "2023-05-05T12:09:58.113Z"
   },
   {
    "duration": 72,
    "start_time": "2023-05-05T12:09:58.126Z"
   },
   {
    "duration": 18,
    "start_time": "2023-05-05T12:09:58.199Z"
   },
   {
    "duration": 193,
    "start_time": "2023-05-05T12:09:58.221Z"
   },
   {
    "duration": 9,
    "start_time": "2023-05-05T12:10:01.952Z"
   },
   {
    "duration": 16,
    "start_time": "2023-05-05T12:10:27.963Z"
   },
   {
    "duration": 3,
    "start_time": "2023-05-05T12:10:32.568Z"
   },
   {
    "duration": 109,
    "start_time": "2023-05-05T12:10:32.574Z"
   },
   {
    "duration": 34,
    "start_time": "2023-05-05T12:10:32.685Z"
   },
   {
    "duration": 178,
    "start_time": "2023-05-05T12:10:32.730Z"
   },
   {
    "duration": 13,
    "start_time": "2023-05-05T12:10:32.918Z"
   },
   {
    "duration": 16,
    "start_time": "2023-05-05T12:10:32.934Z"
   },
   {
    "duration": 586,
    "start_time": "2023-05-05T12:10:32.951Z"
   },
   {
    "duration": 300,
    "start_time": "2023-05-05T12:10:33.538Z"
   },
   {
    "duration": 318,
    "start_time": "2023-05-05T12:10:33.839Z"
   },
   {
    "duration": 295,
    "start_time": "2023-05-05T12:10:34.160Z"
   },
   {
    "duration": 448,
    "start_time": "2023-05-05T12:10:34.457Z"
   },
   {
    "duration": 192,
    "start_time": "2023-05-05T12:10:34.913Z"
   },
   {
    "duration": 6,
    "start_time": "2023-05-05T12:10:35.107Z"
   },
   {
    "duration": 202,
    "start_time": "2023-05-05T12:10:35.114Z"
   },
   {
    "duration": 13,
    "start_time": "2023-05-05T12:10:35.323Z"
   },
   {
    "duration": 246,
    "start_time": "2023-05-05T12:10:35.339Z"
   },
   {
    "duration": 145,
    "start_time": "2023-05-05T12:10:35.591Z"
   },
   {
    "duration": 12,
    "start_time": "2023-05-05T12:10:35.738Z"
   },
   {
    "duration": 199,
    "start_time": "2023-05-05T12:10:35.752Z"
   },
   {
    "duration": 11,
    "start_time": "2023-05-05T12:10:35.953Z"
   },
   {
    "duration": 24,
    "start_time": "2023-05-05T12:10:35.966Z"
   },
   {
    "duration": 27,
    "start_time": "2023-05-05T12:10:35.991Z"
   },
   {
    "duration": 30,
    "start_time": "2023-05-05T12:10:36.024Z"
   },
   {
    "duration": 14,
    "start_time": "2023-05-05T12:10:36.056Z"
   },
   {
    "duration": 234,
    "start_time": "2023-05-05T12:14:12.687Z"
   },
   {
    "duration": 199,
    "start_time": "2023-05-05T12:16:40.446Z"
   },
   {
    "duration": 168,
    "start_time": "2023-05-05T12:31:30.008Z"
   },
   {
    "duration": 151,
    "start_time": "2023-05-05T12:32:10.822Z"
   },
   {
    "duration": 241,
    "start_time": "2023-05-05T12:32:40.110Z"
   },
   {
    "duration": 30,
    "start_time": "2023-05-05T12:33:14.015Z"
   },
   {
    "duration": 25,
    "start_time": "2023-05-05T12:34:13.618Z"
   },
   {
    "duration": 1186,
    "start_time": "2023-05-05T12:34:41.434Z"
   },
   {
    "duration": 155,
    "start_time": "2023-05-05T12:50:55.220Z"
   },
   {
    "duration": 183,
    "start_time": "2023-05-05T12:51:38.833Z"
   },
   {
    "duration": 317,
    "start_time": "2023-05-05T12:52:54.956Z"
   },
   {
    "duration": 192,
    "start_time": "2023-05-05T12:53:03.655Z"
   },
   {
    "duration": 194,
    "start_time": "2023-05-05T12:53:50.364Z"
   },
   {
    "duration": 216,
    "start_time": "2023-05-05T12:54:09.251Z"
   },
   {
    "duration": 206,
    "start_time": "2023-05-05T13:03:03.215Z"
   },
   {
    "duration": 183,
    "start_time": "2023-05-05T13:03:28.761Z"
   },
   {
    "duration": 228,
    "start_time": "2023-05-05T13:05:29.185Z"
   },
   {
    "duration": 233,
    "start_time": "2023-05-05T13:05:54.669Z"
   },
   {
    "duration": 187,
    "start_time": "2023-05-05T13:06:19.526Z"
   },
   {
    "duration": 5,
    "start_time": "2023-05-05T13:21:38.409Z"
   },
   {
    "duration": 188,
    "start_time": "2023-05-05T14:19:17.135Z"
   },
   {
    "duration": 159,
    "start_time": "2023-05-05T14:19:47.021Z"
   },
   {
    "duration": 12,
    "start_time": "2023-05-05T14:24:59.746Z"
   },
   {
    "duration": 12,
    "start_time": "2023-05-05T14:28:23.779Z"
   },
   {
    "duration": 14,
    "start_time": "2023-05-05T14:30:13.534Z"
   },
   {
    "duration": 14,
    "start_time": "2023-05-05T14:33:25.707Z"
   },
   {
    "duration": 62,
    "start_time": "2023-05-06T18:53:21.623Z"
   },
   {
    "duration": 1528,
    "start_time": "2023-05-06T18:53:27.187Z"
   },
   {
    "duration": 105,
    "start_time": "2023-05-06T18:53:28.717Z"
   },
   {
    "duration": 16,
    "start_time": "2023-05-06T18:53:28.824Z"
   },
   {
    "duration": 270,
    "start_time": "2023-05-06T18:53:28.843Z"
   },
   {
    "duration": 14,
    "start_time": "2023-05-06T18:53:29.117Z"
   },
   {
    "duration": 14,
    "start_time": "2023-05-06T18:53:29.133Z"
   },
   {
    "duration": 694,
    "start_time": "2023-05-06T18:53:29.149Z"
   },
   {
    "duration": 288,
    "start_time": "2023-05-06T18:53:29.846Z"
   },
   {
    "duration": 392,
    "start_time": "2023-05-06T18:53:30.136Z"
   },
   {
    "duration": 332,
    "start_time": "2023-05-06T18:53:30.530Z"
   },
   {
    "duration": 430,
    "start_time": "2023-05-06T18:53:30.864Z"
   },
   {
    "duration": 216,
    "start_time": "2023-05-06T18:53:31.303Z"
   },
   {
    "duration": 6,
    "start_time": "2023-05-06T18:53:31.521Z"
   },
   {
    "duration": 249,
    "start_time": "2023-05-06T18:53:31.530Z"
   },
   {
    "duration": 204,
    "start_time": "2023-05-06T18:53:31.781Z"
   },
   {
    "duration": 15,
    "start_time": "2023-05-06T18:53:31.987Z"
   },
   {
    "duration": 334,
    "start_time": "2023-05-06T18:53:32.004Z"
   },
   {
    "duration": 66,
    "start_time": "2023-05-06T18:53:32.339Z"
   },
   {
    "duration": 0,
    "start_time": "2023-05-06T18:53:32.406Z"
   },
   {
    "duration": 0,
    "start_time": "2023-05-06T18:53:32.407Z"
   },
   {
    "duration": 0,
    "start_time": "2023-05-06T18:53:32.408Z"
   },
   {
    "duration": 0,
    "start_time": "2023-05-06T18:53:32.409Z"
   },
   {
    "duration": 91,
    "start_time": "2023-05-06T18:53:39.684Z"
   },
   {
    "duration": 156,
    "start_time": "2023-05-06T18:55:13.127Z"
   },
   {
    "duration": 5,
    "start_time": "2023-05-06T18:55:26.926Z"
   },
   {
    "duration": 71,
    "start_time": "2023-05-06T18:55:26.934Z"
   },
   {
    "duration": 16,
    "start_time": "2023-05-06T18:55:27.008Z"
   },
   {
    "duration": 151,
    "start_time": "2023-05-06T18:55:27.026Z"
   },
   {
    "duration": 21,
    "start_time": "2023-05-06T18:55:27.181Z"
   },
   {
    "duration": 26,
    "start_time": "2023-05-06T18:55:27.210Z"
   },
   {
    "duration": 603,
    "start_time": "2023-05-06T18:55:27.238Z"
   },
   {
    "duration": 303,
    "start_time": "2023-05-06T18:55:27.843Z"
   },
   {
    "duration": 395,
    "start_time": "2023-05-06T18:55:28.148Z"
   },
   {
    "duration": 302,
    "start_time": "2023-05-06T18:55:28.545Z"
   },
   {
    "duration": 390,
    "start_time": "2023-05-06T18:55:28.849Z"
   },
   {
    "duration": 206,
    "start_time": "2023-05-06T18:55:29.242Z"
   },
   {
    "duration": 4,
    "start_time": "2023-05-06T18:55:29.450Z"
   },
   {
    "duration": 197,
    "start_time": "2023-05-06T18:55:29.457Z"
   },
   {
    "duration": 201,
    "start_time": "2023-05-06T18:55:29.657Z"
   },
   {
    "duration": 5,
    "start_time": "2023-05-06T18:55:29.859Z"
   },
   {
    "duration": 273,
    "start_time": "2023-05-06T18:55:29.866Z"
   },
   {
    "duration": 80,
    "start_time": "2023-05-06T18:55:30.140Z"
   },
   {
    "duration": 0,
    "start_time": "2023-05-06T18:55:30.222Z"
   },
   {
    "duration": 0,
    "start_time": "2023-05-06T18:55:30.223Z"
   },
   {
    "duration": 0,
    "start_time": "2023-05-06T18:55:30.224Z"
   },
   {
    "duration": 0,
    "start_time": "2023-05-06T18:55:30.225Z"
   },
   {
    "duration": 0,
    "start_time": "2023-05-06T18:55:30.226Z"
   },
   {
    "duration": 0,
    "start_time": "2023-05-06T18:55:30.227Z"
   },
   {
    "duration": 0,
    "start_time": "2023-05-06T18:55:30.228Z"
   },
   {
    "duration": 69,
    "start_time": "2023-05-06T18:56:52.667Z"
   },
   {
    "duration": 52,
    "start_time": "2023-05-06T18:57:11.938Z"
   },
   {
    "duration": 179,
    "start_time": "2023-05-06T18:57:48.245Z"
   },
   {
    "duration": 7,
    "start_time": "2023-05-06T18:57:51.360Z"
   },
   {
    "duration": 192,
    "start_time": "2023-05-06T18:57:52.539Z"
   },
   {
    "duration": 9,
    "start_time": "2023-05-06T18:58:00.320Z"
   },
   {
    "duration": 92,
    "start_time": "2023-05-06T18:58:00.332Z"
   },
   {
    "duration": 15,
    "start_time": "2023-05-06T18:58:00.426Z"
   },
   {
    "duration": 260,
    "start_time": "2023-05-06T18:58:00.443Z"
   },
   {
    "duration": 15,
    "start_time": "2023-05-06T18:58:00.705Z"
   },
   {
    "duration": 19,
    "start_time": "2023-05-06T18:58:01.322Z"
   },
   {
    "duration": 591,
    "start_time": "2023-05-06T18:58:02.117Z"
   },
   {
    "duration": 257,
    "start_time": "2023-05-06T18:58:02.718Z"
   },
   {
    "duration": 455,
    "start_time": "2023-05-06T18:58:02.977Z"
   },
   {
    "duration": 341,
    "start_time": "2023-05-06T18:58:03.435Z"
   },
   {
    "duration": 414,
    "start_time": "2023-05-06T18:58:03.778Z"
   },
   {
    "duration": 208,
    "start_time": "2023-05-06T18:58:04.199Z"
   },
   {
    "duration": 10,
    "start_time": "2023-05-06T18:58:04.409Z"
   },
   {
    "duration": 205,
    "start_time": "2023-05-06T18:58:04.422Z"
   },
   {
    "duration": 196,
    "start_time": "2023-05-06T18:58:04.629Z"
   },
   {
    "duration": 5,
    "start_time": "2023-05-06T18:58:04.828Z"
   },
   {
    "duration": 280,
    "start_time": "2023-05-06T18:58:04.835Z"
   },
   {
    "duration": 168,
    "start_time": "2023-05-06T18:58:05.116Z"
   },
   {
    "duration": 15,
    "start_time": "2023-05-06T18:58:05.286Z"
   },
   {
    "duration": 200,
    "start_time": "2023-05-06T18:58:05.304Z"
   },
   {
    "duration": 19,
    "start_time": "2023-05-06T18:58:05.505Z"
   },
   {
    "duration": 26,
    "start_time": "2023-05-06T18:58:05.526Z"
   },
   {
    "duration": 0,
    "start_time": "2023-05-06T18:58:05.554Z"
   },
   {
    "duration": 0,
    "start_time": "2023-05-06T18:58:05.555Z"
   },
   {
    "duration": 0,
    "start_time": "2023-05-06T18:58:05.557Z"
   },
   {
    "duration": 23,
    "start_time": "2023-05-06T18:58:55.718Z"
   },
   {
    "duration": 40,
    "start_time": "2023-05-06T18:59:23.779Z"
   },
   {
    "duration": 30,
    "start_time": "2023-05-06T18:59:58.183Z"
   },
   {
    "duration": 30,
    "start_time": "2023-05-06T19:00:59.485Z"
   },
   {
    "duration": 14,
    "start_time": "2023-05-06T19:01:12.833Z"
   },
   {
    "duration": 18,
    "start_time": "2023-05-06T19:02:20.345Z"
   },
   {
    "duration": 11,
    "start_time": "2023-05-06T19:02:56.341Z"
   },
   {
    "duration": 12,
    "start_time": "2023-05-06T19:03:46.226Z"
   },
   {
    "duration": 18,
    "start_time": "2023-05-06T19:05:27.694Z"
   },
   {
    "duration": 15,
    "start_time": "2023-05-06T19:06:03.414Z"
   },
   {
    "duration": 75,
    "start_time": "2023-05-06T19:07:53.977Z"
   },
   {
    "duration": 67,
    "start_time": "2023-05-06T19:08:18.080Z"
   },
   {
    "duration": 55,
    "start_time": "2023-05-06T19:09:04.677Z"
   },
   {
    "duration": 15,
    "start_time": "2023-05-06T19:09:30.110Z"
   },
   {
    "duration": 14,
    "start_time": "2023-05-06T19:09:44.066Z"
   },
   {
    "duration": 9,
    "start_time": "2023-05-06T19:12:16.923Z"
   },
   {
    "duration": 9,
    "start_time": "2023-05-06T19:12:28.104Z"
   },
   {
    "duration": 30,
    "start_time": "2023-05-06T19:12:30.576Z"
   },
   {
    "duration": 3,
    "start_time": "2023-05-06T19:12:39.214Z"
   },
   {
    "duration": 60,
    "start_time": "2023-05-06T19:12:39.220Z"
   },
   {
    "duration": 17,
    "start_time": "2023-05-06T19:12:39.282Z"
   },
   {
    "duration": 148,
    "start_time": "2023-05-06T19:12:39.301Z"
   },
   {
    "duration": 9,
    "start_time": "2023-05-06T19:12:39.451Z"
   },
   {
    "duration": 13,
    "start_time": "2023-05-06T19:12:39.462Z"
   },
   {
    "duration": 579,
    "start_time": "2023-05-06T19:12:39.477Z"
   },
   {
    "duration": 304,
    "start_time": "2023-05-06T19:12:40.058Z"
   },
   {
    "duration": 385,
    "start_time": "2023-05-06T19:12:40.364Z"
   },
   {
    "duration": 287,
    "start_time": "2023-05-06T19:12:40.754Z"
   },
   {
    "duration": 482,
    "start_time": "2023-05-06T19:12:41.043Z"
   },
   {
    "duration": 220,
    "start_time": "2023-05-06T19:12:41.527Z"
   },
   {
    "duration": 5,
    "start_time": "2023-05-06T19:12:41.749Z"
   },
   {
    "duration": 208,
    "start_time": "2023-05-06T19:12:41.756Z"
   },
   {
    "duration": 203,
    "start_time": "2023-05-06T19:12:41.966Z"
   },
   {
    "duration": 6,
    "start_time": "2023-05-06T19:12:42.170Z"
   },
   {
    "duration": 265,
    "start_time": "2023-05-06T19:12:42.178Z"
   },
   {
    "duration": 167,
    "start_time": "2023-05-06T19:12:42.445Z"
   },
   {
    "duration": 7,
    "start_time": "2023-05-06T19:12:42.613Z"
   },
   {
    "duration": 181,
    "start_time": "2023-05-06T19:12:42.621Z"
   },
   {
    "duration": 28,
    "start_time": "2023-05-06T19:12:42.808Z"
   },
   {
    "duration": 20,
    "start_time": "2023-05-06T19:12:42.838Z"
   },
   {
    "duration": 8,
    "start_time": "2023-05-06T19:12:42.861Z"
   },
   {
    "duration": 48,
    "start_time": "2023-05-06T19:12:42.871Z"
   },
   {
    "duration": 22,
    "start_time": "2023-05-06T19:14:32.805Z"
   },
   {
    "duration": 18,
    "start_time": "2023-05-06T19:17:03.572Z"
   },
   {
    "duration": 4,
    "start_time": "2023-05-06T19:35:26.147Z"
   },
   {
    "duration": 65,
    "start_time": "2023-05-06T19:35:26.155Z"
   },
   {
    "duration": 15,
    "start_time": "2023-05-06T19:35:26.223Z"
   },
   {
    "duration": 134,
    "start_time": "2023-05-06T19:35:26.241Z"
   },
   {
    "duration": 12,
    "start_time": "2023-05-06T19:35:26.378Z"
   },
   {
    "duration": 18,
    "start_time": "2023-05-06T19:35:26.393Z"
   },
   {
    "duration": 581,
    "start_time": "2023-05-06T19:35:26.414Z"
   },
   {
    "duration": 270,
    "start_time": "2023-05-06T19:35:26.998Z"
   },
   {
    "duration": 357,
    "start_time": "2023-05-06T19:35:27.271Z"
   },
   {
    "duration": 297,
    "start_time": "2023-05-06T19:35:27.629Z"
   },
   {
    "duration": 374,
    "start_time": "2023-05-06T19:35:27.929Z"
   },
   {
    "duration": 210,
    "start_time": "2023-05-06T19:35:28.305Z"
   },
   {
    "duration": 6,
    "start_time": "2023-05-06T19:35:28.517Z"
   },
   {
    "duration": 283,
    "start_time": "2023-05-06T19:35:28.525Z"
   },
   {
    "duration": 189,
    "start_time": "2023-05-06T19:35:28.810Z"
   },
   {
    "duration": 5,
    "start_time": "2023-05-06T19:35:29.002Z"
   },
   {
    "duration": 267,
    "start_time": "2023-05-06T19:35:29.009Z"
   },
   {
    "duration": 171,
    "start_time": "2023-05-06T19:35:29.277Z"
   },
   {
    "duration": 9,
    "start_time": "2023-05-06T19:35:29.450Z"
   },
   {
    "duration": 170,
    "start_time": "2023-05-06T19:35:29.460Z"
   },
   {
    "duration": 14,
    "start_time": "2023-05-06T19:35:29.632Z"
   },
   {
    "duration": 17,
    "start_time": "2023-05-06T19:35:29.647Z"
   },
   {
    "duration": 11,
    "start_time": "2023-05-06T19:35:29.689Z"
   },
   {
    "duration": 28,
    "start_time": "2023-05-06T19:35:29.702Z"
   },
   {
    "duration": 18,
    "start_time": "2023-05-06T19:35:29.732Z"
   },
   {
    "duration": 1235,
    "start_time": "2023-05-07T19:39:37.136Z"
   },
   {
    "duration": 135,
    "start_time": "2023-05-07T19:39:38.373Z"
   },
   {
    "duration": 11,
    "start_time": "2023-05-07T19:39:38.509Z"
   },
   {
    "duration": 249,
    "start_time": "2023-05-07T19:39:38.522Z"
   },
   {
    "duration": 7,
    "start_time": "2023-05-07T19:39:38.773Z"
   },
   {
    "duration": 11,
    "start_time": "2023-05-07T19:39:38.781Z"
   },
   {
    "duration": 540,
    "start_time": "2023-05-07T19:39:38.794Z"
   },
   {
    "duration": 214,
    "start_time": "2023-05-07T19:39:39.336Z"
   },
   {
    "duration": 395,
    "start_time": "2023-05-07T19:39:39.551Z"
   },
   {
    "duration": 231,
    "start_time": "2023-05-07T19:39:39.948Z"
   },
   {
    "duration": 328,
    "start_time": "2023-05-07T19:39:40.182Z"
   },
   {
    "duration": 169,
    "start_time": "2023-05-07T19:39:40.511Z"
   },
   {
    "duration": 4,
    "start_time": "2023-05-07T19:39:40.683Z"
   },
   {
    "duration": 161,
    "start_time": "2023-05-07T19:39:40.688Z"
   },
   {
    "duration": 168,
    "start_time": "2023-05-07T19:39:40.851Z"
   },
   {
    "duration": 4,
    "start_time": "2023-05-07T19:39:41.020Z"
   },
   {
    "duration": 295,
    "start_time": "2023-05-07T19:39:41.026Z"
   },
   {
    "duration": 133,
    "start_time": "2023-05-07T19:39:41.323Z"
   },
   {
    "duration": 7,
    "start_time": "2023-05-07T19:39:41.457Z"
   },
   {
    "duration": 172,
    "start_time": "2023-05-07T19:39:41.465Z"
   },
   {
    "duration": 9,
    "start_time": "2023-05-07T19:39:41.639Z"
   },
   {
    "duration": 23,
    "start_time": "2023-05-07T19:39:41.650Z"
   },
   {
    "duration": 37,
    "start_time": "2023-05-07T19:39:41.675Z"
   },
   {
    "duration": 23,
    "start_time": "2023-05-07T19:39:41.714Z"
   },
   {
    "duration": 13,
    "start_time": "2023-05-07T19:39:41.739Z"
   }
  ],
  "kernelspec": {
   "display_name": "Python 3 (ipykernel)",
   "language": "python",
   "name": "python3"
  },
  "language_info": {
   "codemirror_mode": {
    "name": "ipython",
    "version": 3
   },
   "file_extension": ".py",
   "mimetype": "text/x-python",
   "name": "python",
   "nbconvert_exporter": "python",
   "pygments_lexer": "ipython3",
   "version": "3.9.13"
  },
  "toc": {
   "base_numbering": 1,
   "nav_menu": {},
   "number_sections": true,
   "sideBar": true,
   "skip_h1_title": true,
   "title_cell": "Table of Contents",
   "title_sidebar": "Contents",
   "toc_cell": false,
   "toc_position": {
    "height": "calc(100% - 180px)",
    "left": "10px",
    "top": "150px",
    "width": "165px"
   },
   "toc_section_display": true,
   "toc_window_display": true
  }
 },
 "nbformat": 4,
 "nbformat_minor": 2
}
