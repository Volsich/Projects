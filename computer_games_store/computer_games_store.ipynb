{
 "cells": [
  {
   "cell_type": "markdown",
   "metadata": {},
   "source": [
    "# Проект \"Стримчик\"\n",
    "\n",
    "Интернет-магазин «Стримчик» продаёт по всему миру компьютерные игры. Из открытых источников доступны исторические данные о продажах игр, оценки пользователей и экспертов, жанры и платформы (например, Xbox или PlayStation). Нам нужно выявить определяющие успешность игры закономерности. Это позволит сделать ставку на потенциально популярный продукт и спланировать рекламные кампании."
   ]
  },
  {
   "cell_type": "markdown",
   "metadata": {},
   "source": [
    "### Откроем файл с данными и изучим общую информацию"
   ]
  },
  {
   "cell_type": "code",
   "execution_count": 39,
   "metadata": {},
   "outputs": [],
   "source": [
    "import pandas as pd # импортируем библиотеку pandas\n",
    "data = pd.read_csv('/datasets/games.csv')"
   ]
  },
  {
   "cell_type": "markdown",
   "metadata": {},
   "source": [
    "**Выведем первые 10 строк датафрейма data на экран:**"
   ]
  },
  {
   "cell_type": "code",
   "execution_count": 40,
   "metadata": {},
   "outputs": [
    {
     "data": {
      "text/html": [
       "<div>\n",
       "<style scoped>\n",
       "    .dataframe tbody tr th:only-of-type {\n",
       "        vertical-align: middle;\n",
       "    }\n",
       "\n",
       "    .dataframe tbody tr th {\n",
       "        vertical-align: top;\n",
       "    }\n",
       "\n",
       "    .dataframe thead th {\n",
       "        text-align: right;\n",
       "    }\n",
       "</style>\n",
       "<table border=\"1\" class=\"dataframe\">\n",
       "  <thead>\n",
       "    <tr style=\"text-align: right;\">\n",
       "      <th></th>\n",
       "      <th>Name</th>\n",
       "      <th>Platform</th>\n",
       "      <th>Year_of_Release</th>\n",
       "      <th>Genre</th>\n",
       "      <th>NA_sales</th>\n",
       "      <th>EU_sales</th>\n",
       "      <th>JP_sales</th>\n",
       "      <th>Other_sales</th>\n",
       "      <th>Critic_Score</th>\n",
       "      <th>User_Score</th>\n",
       "      <th>Rating</th>\n",
       "    </tr>\n",
       "  </thead>\n",
       "  <tbody>\n",
       "    <tr>\n",
       "      <th>0</th>\n",
       "      <td>Wii Sports</td>\n",
       "      <td>Wii</td>\n",
       "      <td>2006.0</td>\n",
       "      <td>Sports</td>\n",
       "      <td>41.36</td>\n",
       "      <td>28.96</td>\n",
       "      <td>3.77</td>\n",
       "      <td>8.45</td>\n",
       "      <td>76.0</td>\n",
       "      <td>8</td>\n",
       "      <td>E</td>\n",
       "    </tr>\n",
       "    <tr>\n",
       "      <th>1</th>\n",
       "      <td>Super Mario Bros.</td>\n",
       "      <td>NES</td>\n",
       "      <td>1985.0</td>\n",
       "      <td>Platform</td>\n",
       "      <td>29.08</td>\n",
       "      <td>3.58</td>\n",
       "      <td>6.81</td>\n",
       "      <td>0.77</td>\n",
       "      <td>NaN</td>\n",
       "      <td>NaN</td>\n",
       "      <td>NaN</td>\n",
       "    </tr>\n",
       "    <tr>\n",
       "      <th>2</th>\n",
       "      <td>Mario Kart Wii</td>\n",
       "      <td>Wii</td>\n",
       "      <td>2008.0</td>\n",
       "      <td>Racing</td>\n",
       "      <td>15.68</td>\n",
       "      <td>12.76</td>\n",
       "      <td>3.79</td>\n",
       "      <td>3.29</td>\n",
       "      <td>82.0</td>\n",
       "      <td>8.3</td>\n",
       "      <td>E</td>\n",
       "    </tr>\n",
       "    <tr>\n",
       "      <th>3</th>\n",
       "      <td>Wii Sports Resort</td>\n",
       "      <td>Wii</td>\n",
       "      <td>2009.0</td>\n",
       "      <td>Sports</td>\n",
       "      <td>15.61</td>\n",
       "      <td>10.93</td>\n",
       "      <td>3.28</td>\n",
       "      <td>2.95</td>\n",
       "      <td>80.0</td>\n",
       "      <td>8</td>\n",
       "      <td>E</td>\n",
       "    </tr>\n",
       "    <tr>\n",
       "      <th>4</th>\n",
       "      <td>Pokemon Red/Pokemon Blue</td>\n",
       "      <td>GB</td>\n",
       "      <td>1996.0</td>\n",
       "      <td>Role-Playing</td>\n",
       "      <td>11.27</td>\n",
       "      <td>8.89</td>\n",
       "      <td>10.22</td>\n",
       "      <td>1.00</td>\n",
       "      <td>NaN</td>\n",
       "      <td>NaN</td>\n",
       "      <td>NaN</td>\n",
       "    </tr>\n",
       "    <tr>\n",
       "      <th>5</th>\n",
       "      <td>Tetris</td>\n",
       "      <td>GB</td>\n",
       "      <td>1989.0</td>\n",
       "      <td>Puzzle</td>\n",
       "      <td>23.20</td>\n",
       "      <td>2.26</td>\n",
       "      <td>4.22</td>\n",
       "      <td>0.58</td>\n",
       "      <td>NaN</td>\n",
       "      <td>NaN</td>\n",
       "      <td>NaN</td>\n",
       "    </tr>\n",
       "    <tr>\n",
       "      <th>6</th>\n",
       "      <td>New Super Mario Bros.</td>\n",
       "      <td>DS</td>\n",
       "      <td>2006.0</td>\n",
       "      <td>Platform</td>\n",
       "      <td>11.28</td>\n",
       "      <td>9.14</td>\n",
       "      <td>6.50</td>\n",
       "      <td>2.88</td>\n",
       "      <td>89.0</td>\n",
       "      <td>8.5</td>\n",
       "      <td>E</td>\n",
       "    </tr>\n",
       "    <tr>\n",
       "      <th>7</th>\n",
       "      <td>Wii Play</td>\n",
       "      <td>Wii</td>\n",
       "      <td>2006.0</td>\n",
       "      <td>Misc</td>\n",
       "      <td>13.96</td>\n",
       "      <td>9.18</td>\n",
       "      <td>2.93</td>\n",
       "      <td>2.84</td>\n",
       "      <td>58.0</td>\n",
       "      <td>6.6</td>\n",
       "      <td>E</td>\n",
       "    </tr>\n",
       "    <tr>\n",
       "      <th>8</th>\n",
       "      <td>New Super Mario Bros. Wii</td>\n",
       "      <td>Wii</td>\n",
       "      <td>2009.0</td>\n",
       "      <td>Platform</td>\n",
       "      <td>14.44</td>\n",
       "      <td>6.94</td>\n",
       "      <td>4.70</td>\n",
       "      <td>2.24</td>\n",
       "      <td>87.0</td>\n",
       "      <td>8.4</td>\n",
       "      <td>E</td>\n",
       "    </tr>\n",
       "    <tr>\n",
       "      <th>9</th>\n",
       "      <td>Duck Hunt</td>\n",
       "      <td>NES</td>\n",
       "      <td>1984.0</td>\n",
       "      <td>Shooter</td>\n",
       "      <td>26.93</td>\n",
       "      <td>0.63</td>\n",
       "      <td>0.28</td>\n",
       "      <td>0.47</td>\n",
       "      <td>NaN</td>\n",
       "      <td>NaN</td>\n",
       "      <td>NaN</td>\n",
       "    </tr>\n",
       "  </tbody>\n",
       "</table>\n",
       "</div>"
      ],
      "text/plain": [
       "                        Name Platform  Year_of_Release         Genre  \\\n",
       "0                 Wii Sports      Wii           2006.0        Sports   \n",
       "1          Super Mario Bros.      NES           1985.0      Platform   \n",
       "2             Mario Kart Wii      Wii           2008.0        Racing   \n",
       "3          Wii Sports Resort      Wii           2009.0        Sports   \n",
       "4   Pokemon Red/Pokemon Blue       GB           1996.0  Role-Playing   \n",
       "5                     Tetris       GB           1989.0        Puzzle   \n",
       "6      New Super Mario Bros.       DS           2006.0      Platform   \n",
       "7                   Wii Play      Wii           2006.0          Misc   \n",
       "8  New Super Mario Bros. Wii      Wii           2009.0      Platform   \n",
       "9                  Duck Hunt      NES           1984.0       Shooter   \n",
       "\n",
       "   NA_sales  EU_sales  JP_sales  Other_sales  Critic_Score User_Score Rating  \n",
       "0     41.36     28.96      3.77         8.45          76.0          8      E  \n",
       "1     29.08      3.58      6.81         0.77           NaN        NaN    NaN  \n",
       "2     15.68     12.76      3.79         3.29          82.0        8.3      E  \n",
       "3     15.61     10.93      3.28         2.95          80.0          8      E  \n",
       "4     11.27      8.89     10.22         1.00           NaN        NaN    NaN  \n",
       "5     23.20      2.26      4.22         0.58           NaN        NaN    NaN  \n",
       "6     11.28      9.14      6.50         2.88          89.0        8.5      E  \n",
       "7     13.96      9.18      2.93         2.84          58.0        6.6      E  \n",
       "8     14.44      6.94      4.70         2.24          87.0        8.4      E  \n",
       "9     26.93      0.63      0.28         0.47           NaN        NaN    NaN  "
      ]
     },
     "metadata": {},
     "output_type": "display_data"
    }
   ],
   "source": [
    "display (data.head(10)) #вывод 10 первых строк"
   ]
  },
  {
   "cell_type": "markdown",
   "metadata": {},
   "source": [
    "**Выведем основную информацию о датафрейме:**"
   ]
  },
  {
   "cell_type": "code",
   "execution_count": 41,
   "metadata": {},
   "outputs": [
    {
     "name": "stdout",
     "output_type": "stream",
     "text": [
      "<class 'pandas.core.frame.DataFrame'>\n",
      "RangeIndex: 16715 entries, 0 to 16714\n",
      "Data columns (total 11 columns):\n",
      " #   Column           Non-Null Count  Dtype  \n",
      "---  ------           --------------  -----  \n",
      " 0   Name             16713 non-null  object \n",
      " 1   Platform         16715 non-null  object \n",
      " 2   Year_of_Release  16446 non-null  float64\n",
      " 3   Genre            16713 non-null  object \n",
      " 4   NA_sales         16715 non-null  float64\n",
      " 5   EU_sales         16715 non-null  float64\n",
      " 6   JP_sales         16715 non-null  float64\n",
      " 7   Other_sales      16715 non-null  float64\n",
      " 8   Critic_Score     8137 non-null   float64\n",
      " 9   User_Score       10014 non-null  object \n",
      " 10  Rating           9949 non-null   object \n",
      "dtypes: float64(6), object(5)\n",
      "memory usage: 1.4+ MB\n"
     ]
    }
   ],
   "source": [
    "data.info() #вывод информации о датафрейме"
   ]
  },
  {
   "cell_type": "markdown",
   "metadata": {},
   "source": [
    "**Построим общую гистограмму для всех числовых столбцов таблицы:**"
   ]
  },
  {
   "cell_type": "code",
   "execution_count": 42,
   "metadata": {},
   "outputs": [
    {
     "data": {
      "image/png": "[encoded data removed]",
      "text/plain": [
       "<Figure size 1080x1440 with 6 Axes>"
      ]
     },
     "metadata": {
      "needs_background": "light"
     },
     "output_type": "display_data"
    }
   ],
   "source": [
    "data.hist(bins=30, figsize=(15, 20)); #построение гистограмм по каждому столбцу"
   ]
  },
  {
   "cell_type": "markdown",
   "metadata": {},
   "source": [
    "**Посчитаем количество явных дубликатов:**"
   ]
  },
  {
   "cell_type": "code",
   "execution_count": 43,
   "metadata": {},
   "outputs": [
    {
     "data": {
      "text/plain": [
       "0"
      ]
     },
     "execution_count": 43,
     "metadata": {},
     "output_type": "execute_result"
    }
   ],
   "source": [
    "data.duplicated().sum() #считаем дубликаты"
   ]
  },
  {
   "cell_type": "markdown",
   "metadata": {},
   "source": [
    "**Выводы из части 1:**\n",
    "\n",
    "1. В данных есть пропуски;\n",
    "2. На некоторых графиках видны несколько пиков, что требует более подробного анализа;\n",
    "3. Судя по большому размеру пустой области графиков, имеют место значения, сильно отличающиеся от большинства;\n",
    "4. Некоторые значения могли бы иметь другой тип данных по смыслу;\n",
    "5. Явные дубликаты в даннах отсутствуют."
   ]
  },
  {
   "cell_type": "markdown",
   "metadata": {},
   "source": [
    "### Предобработка данных"
   ]
  },
  {
   "cell_type": "markdown",
   "metadata": {},
   "source": [
    "**Выведем на экран названия столбцов:**"
   ]
  },
  {
   "cell_type": "code",
   "execution_count": 44,
   "metadata": {},
   "outputs": [
    {
     "data": {
      "text/plain": [
       "Index(['Name', 'Platform', 'Year_of_Release', 'Genre', 'NA_sales', 'EU_sales',\n",
       "       'JP_sales', 'Other_sales', 'Critic_Score', 'User_Score', 'Rating'],\n",
       "      dtype='object')"
      ]
     },
     "execution_count": 44,
     "metadata": {},
     "output_type": "execute_result"
    }
   ],
   "source": [
    "data.columns"
   ]
  },
  {
   "cell_type": "markdown",
   "metadata": {},
   "source": [
    "**Заменим названия столбцов (приведём к нижнему регистру):**"
   ]
  },
  {
   "cell_type": "code",
   "execution_count": 45,
   "metadata": {},
   "outputs": [],
   "source": [
    "data.columns = data.columns.str.lower()"
   ]
  },
  {
   "cell_type": "markdown",
   "metadata": {},
   "source": [
    "**Заменим типы данных в столбцах 'year_of_release' и 'user_score', так как годам больше подходит целый тип данных, а оценке пользователей - с плавающей запятой:**"
   ]
  },
  {
   "cell_type": "code",
   "execution_count": 46,
   "metadata": {
    "scrolled": true
   },
   "outputs": [
    {
     "data": {
      "text/plain": [
       "0    2006\n",
       "1    1985\n",
       "2    2008\n",
       "3    2009\n",
       "4    1996\n",
       "Name: year_of_release, dtype: Int64"
      ]
     },
     "execution_count": 46,
     "metadata": {},
     "output_type": "execute_result"
    }
   ],
   "source": [
    "data['year_of_release'] = data['year_of_release'].astype('Int64') # заменяем тип данных столбца 'year_of_release'\n",
    "data['year_of_release'].head() # проверим результат"
   ]
  },
  {
   "cell_type": "markdown",
   "metadata": {},
   "source": [
    "**В столбце 'user_score' содержатся значения \"tbd\", что  значит \"To Be Determined\" (будет определено). Поэтому \n",
    "прежде, чем изменять тип данных заменим эти значения на пропуски:**"
   ]
  },
  {
   "cell_type": "code",
   "execution_count": 47,
   "metadata": {},
   "outputs": [
    {
     "name": "stdout",
     "output_type": "stream",
     "text": [
      "<class 'pandas.core.frame.DataFrame'>\n",
      "RangeIndex: 16715 entries, 0 to 16714\n",
      "Data columns (total 11 columns):\n",
      " #   Column           Non-Null Count  Dtype  \n",
      "---  ------           --------------  -----  \n",
      " 0   name             16713 non-null  object \n",
      " 1   platform         16715 non-null  object \n",
      " 2   year_of_release  16446 non-null  Int64  \n",
      " 3   genre            16713 non-null  object \n",
      " 4   na_sales         16715 non-null  float64\n",
      " 5   eu_sales         16715 non-null  float64\n",
      " 6   jp_sales         16715 non-null  float64\n",
      " 7   other_sales      16715 non-null  float64\n",
      " 8   critic_score     8137 non-null   float64\n",
      " 9   user_score       7590 non-null   float64\n",
      " 10  rating           9949 non-null   object \n",
      "dtypes: Int64(1), float64(6), object(4)\n",
      "memory usage: 1.4+ MB\n"
     ]
    }
   ],
   "source": [
    "data.loc[data['user_score'] ==\"tbd\",'user_score'] = 'NaN' # заменяем \"tbd\"\n",
    "data['user_score'] = data['user_score'].astype('float64') # меняем тип столбца на float64\n",
    "data.info() # проверим результат"
   ]
  },
  {
   "cell_type": "markdown",
   "metadata": {},
   "source": [
    "**Выведем количество пропущенных значений для каждого столбца, отсортировнное по убыванию:**"
   ]
  },
  {
   "cell_type": "code",
   "execution_count": 48,
   "metadata": {},
   "outputs": [
    {
     "name": "stdout",
     "output_type": "stream",
     "text": [
      "user_score         9125\n",
      "critic_score       8578\n",
      "rating             6766\n",
      "year_of_release     269\n",
      "name                  2\n",
      "genre                 2\n",
      "platform              0\n",
      "na_sales              0\n",
      "eu_sales              0\n",
      "jp_sales              0\n",
      "other_sales           0\n",
      "dtype: int64\n"
     ]
    }
   ],
   "source": [
    "print (data.isna().sum().sort_values(ascending = False))"
   ]
  },
  {
   "cell_type": "markdown",
   "metadata": {},
   "source": [
    "1. В датафрейме достаточно много пропусков. \n",
    "2. Пропуски в основном находятся в столбцах, относящихся к рейтингам (critic_score, user_score, rating). \n",
    "3. Предположительно, пропуски в данных могут быть вызваны человеческим фактором, ошибками при выгрузке, либо сбоями в алгоритме заполнения некоторых полей. \n",
    "4. В некоторых столбцах, таких как \"critic_score\" пустых ячеек примерно столоько же, сколько и заполненных."
   ]
  },
  {
   "cell_type": "markdown",
   "metadata": {},
   "source": [
    "**Удалим строки с пропущенными значениями в столбцах year_of_release, name и genre. Их удаление не должно повлиять на выводы,\n",
    "так как они составляют меньше 2% от общего числа строк, а в задании сказано: 'Не учитывайте в работе данные за предыдущие годы':**"
   ]
  },
  {
   "cell_type": "code",
   "execution_count": 49,
   "metadata": {},
   "outputs": [
    {
     "name": "stdout",
     "output_type": "stream",
     "text": [
      "<class 'pandas.core.frame.DataFrame'>\n",
      "Int64Index: 16444 entries, 0 to 16714\n",
      "Data columns (total 11 columns):\n",
      " #   Column           Non-Null Count  Dtype  \n",
      "---  ------           --------------  -----  \n",
      " 0   name             16444 non-null  object \n",
      " 1   platform         16444 non-null  object \n",
      " 2   year_of_release  16444 non-null  Int64  \n",
      " 3   genre            16444 non-null  object \n",
      " 4   na_sales         16444 non-null  float64\n",
      " 5   eu_sales         16444 non-null  float64\n",
      " 6   jp_sales         16444 non-null  float64\n",
      " 7   other_sales      16444 non-null  float64\n",
      " 8   critic_score     7983 non-null   float64\n",
      " 9   user_score       7463 non-null   float64\n",
      " 10  rating           9768 non-null   object \n",
      "dtypes: Int64(1), float64(6), object(4)\n",
      "memory usage: 1.5+ MB\n"
     ]
    }
   ],
   "source": [
    "data = data.query('year_of_release.notna() and name.notna() and genre.notna()') # удаляем пропуски в 3 столбцах\n",
    "data.info() #проверим результат"
   ]
  },
  {
   "cell_type": "markdown",
   "metadata": {},
   "source": [
    "**Заменим пропуски в столбце rating на \"Unknown\", так как рейтинг - признак категориальный, и пропуски можно считать еще одной категорией:**"
   ]
  },
  {
   "cell_type": "code",
   "execution_count": 50,
   "metadata": {},
   "outputs": [
    {
     "name": "stdout",
     "output_type": "stream",
     "text": [
      "<class 'pandas.core.frame.DataFrame'>\n",
      "Int64Index: 16444 entries, 0 to 16714\n",
      "Data columns (total 11 columns):\n",
      " #   Column           Non-Null Count  Dtype  \n",
      "---  ------           --------------  -----  \n",
      " 0   name             16444 non-null  object \n",
      " 1   platform         16444 non-null  object \n",
      " 2   year_of_release  16444 non-null  Int64  \n",
      " 3   genre            16444 non-null  object \n",
      " 4   na_sales         16444 non-null  float64\n",
      " 5   eu_sales         16444 non-null  float64\n",
      " 6   jp_sales         16444 non-null  float64\n",
      " 7   other_sales      16444 non-null  float64\n",
      " 8   critic_score     7983 non-null   float64\n",
      " 9   user_score       7463 non-null   float64\n",
      " 10  rating           16444 non-null  object \n",
      "dtypes: Int64(1), float64(6), object(4)\n",
      "memory usage: 1.5+ MB\n"
     ]
    }
   ],
   "source": [
    "data.loc[data['rating'].isna(),'rating'] = 'Unknown' # заменяем пропуски\n",
    "data.info() # проверим результат"
   ]
  },
  {
   "cell_type": "markdown",
   "metadata": {},
   "source": [
    "**Пропуски в столбцах critic_score и user_score решено оставить, так как их слишком много, и их заполнение может сильно исказить результат.**"
   ]
  },
  {
   "cell_type": "markdown",
   "metadata": {},
   "source": [
    "**Добавим столбец с сумаррными продажами по всем регионам:**"
   ]
  },
  {
   "cell_type": "code",
   "execution_count": 51,
   "metadata": {
    "scrolled": true
   },
   "outputs": [
    {
     "data": {
      "text/plain": [
       "0        82.54\n",
       "1        40.24\n",
       "2        35.52\n",
       "3        32.77\n",
       "4        31.38\n",
       "         ...  \n",
       "16710     0.01\n",
       "16711     0.01\n",
       "16712     0.01\n",
       "16713     0.01\n",
       "16714     0.01\n",
       "Name: total_sales, Length: 16444, dtype: float64"
      ]
     },
     "execution_count": 51,
     "metadata": {},
     "output_type": "execute_result"
    }
   ],
   "source": [
    "data['total_sales'] = data[['na_sales','eu_sales','jp_sales','other_sales']].sum(axis = 1) # добавляем\n",
    "data['total_sales'] # проверяем"
   ]
  },
  {
   "cell_type": "markdown",
   "metadata": {},
   "source": [
    "**Выводы из части 2:** <br>\n",
    "Для подготовки данных к анализу было выполнено следющее:\n",
    "   1. Изменены названия столбцов (приведены к нижнему регистру);\n",
    "   2. Изменены типы данных в столбцах 'year_of_release' и 'user_score', так как годам больше подходит целый тип данных, а оценке пользователей - тип с плавающей запятой.\n",
    "   3. В столбце 'user_score' содержались значения \"tbd\", что значит \"To Be Determined\" (будет определено). Поэтому прежде, чем изменять тип данных пришлось заменить эти значения на пропуски.\n",
    "   4. Удалены строки с пропущенными значениями в столбцах year_of_release, name и genre. Их удаление не должно повлиять на выводы, так как они составляют меньше 2% от общего числа строк, а в задании сказано: 'Не учитывайте в работе данные за предыдущие годы'.\n",
    "   5. Пропуски в столбце rating заменены на \"Unknown\", так как рейтинг - признак категориальный, и пропуски можно считать еще одной категорией.\n",
    "   6. Пропуски в столбцах critic_score, user_score решено оставить, так как их слишком много, и их заполнение может сильно исказить результат.\n",
    "   6. Добавлен столбец с сумаррными продажами по всем регионам."
   ]
  },
  {
   "cell_type": "markdown",
   "metadata": {},
   "source": [
    "### Проведём исследовательский анализ данных"
   ]
  },
  {
   "cell_type": "markdown",
   "metadata": {},
   "source": [
    "**Посмотрим, сколько игр выпускалось в разные годы:**"
   ]
  },
  {
   "cell_type": "code",
   "execution_count": 52,
   "metadata": {},
   "outputs": [
    {
     "name": "stdout",
     "output_type": "stream",
     "text": [
      "year_of_release\n",
      "1980       9\n",
      "1981      46\n",
      "1982      36\n",
      "1983      17\n",
      "1984      14\n",
      "1985      14\n",
      "1986      21\n",
      "1987      16\n",
      "1988      15\n",
      "1989      17\n",
      "1990      16\n",
      "1991      41\n",
      "1992      43\n",
      "1993      60\n",
      "1994     121\n",
      "1995     219\n",
      "1996     263\n",
      "1997     289\n",
      "1998     379\n",
      "1999     338\n",
      "2000     350\n",
      "2001     482\n",
      "2002     829\n",
      "2003     775\n",
      "2004     762\n",
      "2005     939\n",
      "2006    1006\n",
      "2007    1197\n",
      "2008    1427\n",
      "2009    1426\n",
      "2010    1255\n",
      "2011    1136\n",
      "2012     653\n",
      "2013     544\n",
      "2014     581\n",
      "2015     606\n",
      "2016     502\n",
      "Name: year_of_release, dtype: int64\n"
     ]
    },
    {
     "data": {
      "image/png": "[encoded data removed]",
      "text/plain": [
       "<Figure size 720x432 with 1 Axes>"
      ]
     },
     "metadata": {
      "needs_background": "light"
     },
     "output_type": "display_data"
    }
   ],
   "source": [
    "print(data.groupby(by = 'year_of_release')['year_of_release'].count()); #выводим таблицу\n",
    "data.groupby(by = 'year_of_release')['year_of_release'].count().plot(figsize = (10,6), title = 'Количество игр по годам', xlabel = 'Год выхода', ylabel = 'Количество игр'); # выводим диаграмму по годам"
   ]
  },
  {
   "cell_type": "markdown",
   "metadata": {},
   "source": [
    "**Посмотрим, как менялись продажи по платформам. Выберем платформы с наибольшими суммарными продажами:**"
   ]
  },
  {
   "cell_type": "code",
   "execution_count": 53,
   "metadata": {},
   "outputs": [
    {
     "data": {
      "text/plain": [
       "platform\n",
       "PS2     1233.56\n",
       "X360     961.24\n",
       "PS3      931.34\n",
       "Wii      891.18\n",
       "DS       802.78\n",
       "PS       727.58\n",
       "PS4      314.14\n",
       "GBA      312.88\n",
       "PSP      289.53\n",
       "3DS      257.81\n",
       "PC       255.76\n",
       "GB       254.43\n",
       "XB       251.57\n",
       "NES      251.05\n",
       "N64      218.01\n",
       "SNES     200.04\n",
       "GC       196.73\n",
       "XOne     159.32\n",
       "2600      86.48\n",
       "WiiU      82.19\n",
       "PSV       53.81\n",
       "SAT       33.59\n",
       "GEN       28.35\n",
       "DC        15.95\n",
       "SCD        1.86\n",
       "NG         1.44\n",
       "WS         1.42\n",
       "TG16       0.16\n",
       "3DO        0.10\n",
       "GG         0.04\n",
       "PCFX       0.03\n",
       "Name: total_sales, dtype: float64"
      ]
     },
     "execution_count": 53,
     "metadata": {},
     "output_type": "execute_result"
    }
   ],
   "source": [
    "data.groupby(by = 'platform')['total_sales'].sum().sort_values(ascending = False) #выводим таблицу"
   ]
  },
  {
   "cell_type": "markdown",
   "metadata": {},
   "source": [
    "**Построим распределение платформы PS2 по годам:** "
   ]
  },
  {
   "cell_type": "code",
   "execution_count": 54,
   "metadata": {},
   "outputs": [
    {
     "name": "stdout",
     "output_type": "stream",
     "text": [
      "year_of_release\n",
      "2000     39.17\n",
      "2001    166.43\n",
      "2002    205.38\n",
      "2003    184.31\n",
      "2004    211.81\n",
      "2005    160.66\n",
      "2006    103.42\n",
      "2007     75.99\n",
      "2008     53.90\n",
      "2009     26.40\n",
      "2010      5.64\n",
      "2011      0.45\n",
      "Name: total_sales, dtype: float64\n"
     ]
    },
    {
     "data": {
      "image/png": "[encoded data removed]",
      "text/plain": [
       "<Figure size 720x432 with 1 Axes>"
      ]
     },
     "metadata": {
      "needs_background": "light"
     },
     "output_type": "display_data"
    }
   ],
   "source": [
    "print(data.query('platform == \"PS2\"').groupby(by = 'year_of_release')['total_sales'].sum())\n",
    "data.query('platform == \"PS2\"').groupby(by = 'year_of_release')['total_sales'].sum().plot(figsize = (10,6), title = 'Суммарные продажи PS4 от года выхода', xlabel = 'Год выхода', ylabel = 'Суммарные продажи, млн. копий'); # выводим диаграмму  для PS2"
   ]
  },
  {
   "cell_type": "markdown",
   "metadata": {},
   "source": [
    "**Построим распределение платформы X360 по годам:** "
   ]
  },
  {
   "cell_type": "code",
   "execution_count": 55,
   "metadata": {},
   "outputs": [
    {
     "name": "stdout",
     "output_type": "stream",
     "text": [
      "year_of_release\n",
      "2005      8.25\n",
      "2006     51.62\n",
      "2007     95.41\n",
      "2008    135.26\n",
      "2009    120.29\n",
      "2010    170.03\n",
      "2011    143.84\n",
      "2012     99.74\n",
      "2013     88.58\n",
      "2014     34.74\n",
      "2015     11.96\n",
      "2016      1.52\n",
      "Name: total_sales, dtype: float64\n"
     ]
    },
    {
     "data": {
      "image/png": "[encoded data removed]",
      "text/plain": [
       "<Figure size 720x432 with 1 Axes>"
      ]
     },
     "metadata": {
      "needs_background": "light"
     },
     "output_type": "display_data"
    }
   ],
   "source": [
    "print(data.query('platform == \"X360\"').groupby(by = 'year_of_release')['total_sales'].sum())\n",
    "data.query('platform == \"X360\"').groupby(by = 'year_of_release')['total_sales'].sum().plot(figsize = (10,6), title = 'Суммарные продажи X360 от года выхода', xlabel = 'Год выхода', ylabel = 'Суммарные продажи, млн. копий'); # выводим диаграмму рассеяния для X360"
   ]
  },
  {
   "cell_type": "markdown",
   "metadata": {},
   "source": [
    "**Построим распределение платформы PS3 по годам:** "
   ]
  },
  {
   "cell_type": "code",
   "execution_count": 56,
   "metadata": {},
   "outputs": [
    {
     "name": "stdout",
     "output_type": "stream",
     "text": [
      "year_of_release\n",
      "2006     20.96\n",
      "2007     73.19\n",
      "2008    118.52\n",
      "2009    130.93\n",
      "2010    142.17\n",
      "2011    156.78\n",
      "2012    107.36\n",
      "2013    113.25\n",
      "2014     47.76\n",
      "2015     16.82\n",
      "2016      3.60\n",
      "Name: total_sales, dtype: float64\n"
     ]
    },
    {
     "data": {
      "image/png": "[encoded data removed]",
      "text/plain": [
       "<Figure size 720x432 with 1 Axes>"
      ]
     },
     "metadata": {
      "needs_background": "light"
     },
     "output_type": "display_data"
    }
   ],
   "source": [
    "print(data.query('platform == \"PS3\"').groupby(by = 'year_of_release')['total_sales'].sum())\n",
    "data.query('platform == \"PS3\"').groupby(by = 'year_of_release')['total_sales'].sum().plot(figsize = (10,6), title = 'Суммарные продажи PS3 от года выхода', xlabel = 'Год выхода', ylabel = 'Суммарные продажи, млн. копий'); # выводим диаграмму  для PS3"
   ]
  },
  {
   "cell_type": "markdown",
   "metadata": {},
   "source": [
    "**Построим распределение платформы Wii по годам:** "
   ]
  },
  {
   "cell_type": "code",
   "execution_count": 57,
   "metadata": {},
   "outputs": [
    {
     "name": "stdout",
     "output_type": "stream",
     "text": [
      "year_of_release\n",
      "2006    137.15\n",
      "2007    152.77\n",
      "2008    171.32\n",
      "2009    206.97\n",
      "2010    127.95\n",
      "2011     59.65\n",
      "2012     21.71\n",
      "2013      8.59\n",
      "2014      3.75\n",
      "2015      1.14\n",
      "2016      0.18\n",
      "Name: total_sales, dtype: float64\n"
     ]
    },
    {
     "data": {
      "image/png": "[encoded data removed]",
      "text/plain": [
       "<Figure size 720x432 with 1 Axes>"
      ]
     },
     "metadata": {
      "needs_background": "light"
     },
     "output_type": "display_data"
    }
   ],
   "source": [
    "print(data.query('platform == \"Wii\"').groupby(by = 'year_of_release')['total_sales'].sum())\n",
    "data.query('platform == \"Wii\"').groupby(by = 'year_of_release')['total_sales'].sum().plot(figsize = (10,6), title = 'Суммарные продажи Wii от года выхода', xlabel = 'Год выхода', ylabel = 'Суммарные продажи, млн. копий'); # выводим диаграмму  для Wii"
   ]
  },
  {
   "cell_type": "markdown",
   "metadata": {},
   "source": [
    "**Из диаграмм видно, что у самых продаваемых платформ срок жизни не превышает 11 лет. По мере уменьшения продаваемости срок жизни ожидаемо сокращается. Для построения прогноза нужно знать ситуацию в предыдущий год и за пару лет до него, чтобы отследить динамику. Поэтому исключим из датафрейма строки с датой выхода игры раньше 2014 года:**"
   ]
  },
  {
   "cell_type": "code",
   "execution_count": 58,
   "metadata": {},
   "outputs": [],
   "source": [
    "data = data.query('year_of_release >= 2014') # оставляем только платформы 2014 года и младше (пропусков в столбце нет)"
   ]
  },
  {
   "cell_type": "markdown",
   "metadata": {},
   "source": [
    "**Выведем платформы с наибольшими суммарными продажами с 2014 года:**"
   ]
  },
  {
   "cell_type": "code",
   "execution_count": 59,
   "metadata": {},
   "outputs": [
    {
     "data": {
      "text/plain": [
       "platform\n",
       "PS4     288.15\n",
       "XOne    140.36\n",
       "3DS      86.68\n",
       "PS3      68.18\n",
       "X360     48.22\n",
       "WiiU     42.98\n",
       "PC       27.05\n",
       "PSV      22.40\n",
       "Wii       5.07\n",
       "PSP       0.36\n",
       "Name: total_sales, dtype: float64"
      ]
     },
     "execution_count": 59,
     "metadata": {},
     "output_type": "execute_result"
    }
   ],
   "source": [
    "data.groupby('platform')['total_sales'].sum().sort_values(ascending = False) #выводим таблицу"
   ]
  },
  {
   "cell_type": "markdown",
   "metadata": {},
   "source": [
    "**Создадим сводную таблицу для платформ по годам:**"
   ]
  },
  {
   "cell_type": "code",
   "execution_count": 60,
   "metadata": {},
   "outputs": [
    {
     "data": {
      "text/html": [
       "<div>\n",
       "<style scoped>\n",
       "    .dataframe tbody tr th:only-of-type {\n",
       "        vertical-align: middle;\n",
       "    }\n",
       "\n",
       "    .dataframe tbody tr th {\n",
       "        vertical-align: top;\n",
       "    }\n",
       "\n",
       "    .dataframe thead th {\n",
       "        text-align: right;\n",
       "    }\n",
       "</style>\n",
       "<table border=\"1\" class=\"dataframe\">\n",
       "  <thead>\n",
       "    <tr style=\"text-align: right;\">\n",
       "      <th>platform</th>\n",
       "      <th>3DS</th>\n",
       "      <th>PC</th>\n",
       "      <th>PS3</th>\n",
       "      <th>PS4</th>\n",
       "      <th>PSP</th>\n",
       "      <th>PSV</th>\n",
       "      <th>Wii</th>\n",
       "      <th>WiiU</th>\n",
       "      <th>X360</th>\n",
       "      <th>XOne</th>\n",
       "    </tr>\n",
       "    <tr>\n",
       "      <th>year_of_release</th>\n",
       "      <th></th>\n",
       "      <th></th>\n",
       "      <th></th>\n",
       "      <th></th>\n",
       "      <th></th>\n",
       "      <th></th>\n",
       "      <th></th>\n",
       "      <th></th>\n",
       "      <th></th>\n",
       "      <th></th>\n",
       "    </tr>\n",
       "  </thead>\n",
       "  <tbody>\n",
       "    <tr>\n",
       "      <th>2014</th>\n",
       "      <td>43.76</td>\n",
       "      <td>13.28</td>\n",
       "      <td>47.76</td>\n",
       "      <td>100.00</td>\n",
       "      <td>0.24</td>\n",
       "      <td>11.90</td>\n",
       "      <td>3.75</td>\n",
       "      <td>22.03</td>\n",
       "      <td>34.74</td>\n",
       "      <td>54.07</td>\n",
       "    </tr>\n",
       "    <tr>\n",
       "      <th>2015</th>\n",
       "      <td>27.78</td>\n",
       "      <td>8.52</td>\n",
       "      <td>16.82</td>\n",
       "      <td>118.90</td>\n",
       "      <td>0.12</td>\n",
       "      <td>6.25</td>\n",
       "      <td>1.14</td>\n",
       "      <td>16.35</td>\n",
       "      <td>11.96</td>\n",
       "      <td>60.14</td>\n",
       "    </tr>\n",
       "    <tr>\n",
       "      <th>2016</th>\n",
       "      <td>15.14</td>\n",
       "      <td>5.25</td>\n",
       "      <td>3.60</td>\n",
       "      <td>69.25</td>\n",
       "      <td>NaN</td>\n",
       "      <td>4.25</td>\n",
       "      <td>0.18</td>\n",
       "      <td>4.60</td>\n",
       "      <td>1.52</td>\n",
       "      <td>26.15</td>\n",
       "    </tr>\n",
       "  </tbody>\n",
       "</table>\n",
       "</div>"
      ],
      "text/plain": [
       "platform           3DS     PC    PS3     PS4   PSP    PSV   Wii   WiiU   X360  \\\n",
       "year_of_release                                                                 \n",
       "2014             43.76  13.28  47.76  100.00  0.24  11.90  3.75  22.03  34.74   \n",
       "2015             27.78   8.52  16.82  118.90  0.12   6.25  1.14  16.35  11.96   \n",
       "2016             15.14   5.25   3.60   69.25   NaN   4.25  0.18   4.60   1.52   \n",
       "\n",
       "platform          XOne  \n",
       "year_of_release         \n",
       "2014             54.07  \n",
       "2015             60.14  \n",
       "2016             26.15  "
      ]
     },
     "execution_count": 60,
     "metadata": {},
     "output_type": "execute_result"
    }
   ],
   "source": [
    "platforms = data.pivot_table(columns = 'platform', index = 'year_of_release', values ='total_sales', aggfunc = 'sum') # создаем таблицу\n",
    "platforms # выводим результат на экран"
   ]
  },
  {
   "cell_type": "markdown",
   "metadata": {},
   "source": [
    "**Из таблицы видно, что на платформе PSP за 2016 год не вышло ни одной игры. Удалим эту платформу из рассмотрения:**"
   ]
  },
  {
   "cell_type": "code",
   "execution_count": 61,
   "metadata": {},
   "outputs": [
    {
     "data": {
      "text/html": [
       "<div>\n",
       "<style scoped>\n",
       "    .dataframe tbody tr th:only-of-type {\n",
       "        vertical-align: middle;\n",
       "    }\n",
       "\n",
       "    .dataframe tbody tr th {\n",
       "        vertical-align: top;\n",
       "    }\n",
       "\n",
       "    .dataframe thead th {\n",
       "        text-align: right;\n",
       "    }\n",
       "</style>\n",
       "<table border=\"1\" class=\"dataframe\">\n",
       "  <thead>\n",
       "    <tr style=\"text-align: right;\">\n",
       "      <th>platform</th>\n",
       "      <th>3DS</th>\n",
       "      <th>PC</th>\n",
       "      <th>PS3</th>\n",
       "      <th>PS4</th>\n",
       "      <th>PSV</th>\n",
       "      <th>Wii</th>\n",
       "      <th>WiiU</th>\n",
       "      <th>X360</th>\n",
       "      <th>XOne</th>\n",
       "    </tr>\n",
       "    <tr>\n",
       "      <th>year_of_release</th>\n",
       "      <th></th>\n",
       "      <th></th>\n",
       "      <th></th>\n",
       "      <th></th>\n",
       "      <th></th>\n",
       "      <th></th>\n",
       "      <th></th>\n",
       "      <th></th>\n",
       "      <th></th>\n",
       "    </tr>\n",
       "  </thead>\n",
       "  <tbody>\n",
       "    <tr>\n",
       "      <th>2014</th>\n",
       "      <td>43.76</td>\n",
       "      <td>13.28</td>\n",
       "      <td>47.76</td>\n",
       "      <td>100.00</td>\n",
       "      <td>11.90</td>\n",
       "      <td>3.75</td>\n",
       "      <td>22.03</td>\n",
       "      <td>34.74</td>\n",
       "      <td>54.07</td>\n",
       "    </tr>\n",
       "    <tr>\n",
       "      <th>2015</th>\n",
       "      <td>27.78</td>\n",
       "      <td>8.52</td>\n",
       "      <td>16.82</td>\n",
       "      <td>118.90</td>\n",
       "      <td>6.25</td>\n",
       "      <td>1.14</td>\n",
       "      <td>16.35</td>\n",
       "      <td>11.96</td>\n",
       "      <td>60.14</td>\n",
       "    </tr>\n",
       "    <tr>\n",
       "      <th>2016</th>\n",
       "      <td>15.14</td>\n",
       "      <td>5.25</td>\n",
       "      <td>3.60</td>\n",
       "      <td>69.25</td>\n",
       "      <td>4.25</td>\n",
       "      <td>0.18</td>\n",
       "      <td>4.60</td>\n",
       "      <td>1.52</td>\n",
       "      <td>26.15</td>\n",
       "    </tr>\n",
       "  </tbody>\n",
       "</table>\n",
       "</div>"
      ],
      "text/plain": [
       "platform           3DS     PC    PS3     PS4    PSV   Wii   WiiU   X360   XOne\n",
       "year_of_release                                                               \n",
       "2014             43.76  13.28  47.76  100.00  11.90  3.75  22.03  34.74  54.07\n",
       "2015             27.78   8.52  16.82  118.90   6.25  1.14  16.35  11.96  60.14\n",
       "2016             15.14   5.25   3.60   69.25   4.25  0.18   4.60   1.52  26.15"
      ]
     },
     "execution_count": 61,
     "metadata": {},
     "output_type": "execute_result"
    }
   ],
   "source": [
    "platforms = platforms.drop(columns = 'PSP') # удаляем стобцы\n",
    "platforms # выводим результат на экран"
   ]
  },
  {
   "cell_type": "markdown",
   "metadata": {},
   "source": [
    "**Построим графики изменения суммы проданных копий от года:**"
   ]
  },
  {
   "cell_type": "code",
   "execution_count": 62,
   "metadata": {},
   "outputs": [
    {
     "data": {
      "image/png": "[encoded data removed]",
      "text/plain": [
       "<Figure size 720x432 with 1 Axes>"
      ]
     },
     "metadata": {
      "needs_background": "light"
     },
     "output_type": "display_data"
    }
   ],
   "source": [
    "platforms.plot(figsize=(10,6),title = 'Суммарные продажи от года выхода', xlabel = 'Год выхода', ylabel = 'Суммарные продажи, млн. копий', use_index = 'year_of_release'); # строим графики"
   ]
  },
  {
   "cell_type": "markdown",
   "metadata": {},
   "source": [
    "**Из диаграммы следует, что в 2016 году лидировали по продажам игры на платформах PS4, XOne и 3DS, я бы рассматривал именно их в качестве наиболее перспективных на 2017 год.\n",
    "При этом общемировые продажи снижаются по всем платформам.**"
   ]
  },
  {
   "cell_type": "markdown",
   "metadata": {},
   "source": [
    "**Построим график «ящик с усами» с выбросами по глобальным продажам игр в разбивке по платформам:**"
   ]
  },
  {
   "cell_type": "code",
   "execution_count": 63,
   "metadata": {},
   "outputs": [
    {
     "data": {
      "image/png": "[encoded data removed]",
      "text/plain": [
       "<Figure size 720x432 with 1 Axes>"
      ]
     },
     "metadata": {
      "needs_background": "light"
     },
     "output_type": "display_data"
    }
   ],
   "source": [
    "data.query('platform in [\"PS4\", \"XOne\", \"3DS\"]').boxplot(column='total_sales',by = 'platform', figsize = (10,6));"
   ]
  },
  {
   "cell_type": "markdown",
   "metadata": {},
   "source": [
    "**Теперь, чтобы получше рассмотреть, уберём выбросы:**"
   ]
  },
  {
   "cell_type": "code",
   "execution_count": 64,
   "metadata": {},
   "outputs": [
    {
     "data": {
      "image/png": "[encoded data removed]",
      "text/plain": [
       "<Figure size 720x432 with 1 Axes>"
      ]
     },
     "metadata": {
      "needs_background": "light"
     },
     "output_type": "display_data"
    }
   ],
   "source": [
    "data.query('platform in [\"PS4\", \"XOne\", \"3DS\"]').boxplot(column='total_sales',by = 'platform', figsize = (10,6),showfliers=False);"
   ]
  },
  {
   "cell_type": "markdown",
   "metadata": {},
   "source": [
    "**Из графиков для 3 выбранных платформ следует, что медианные значения продаж для игр на платформах PS4 и XOne значительно больше, чем на 3DS**"
   ]
  },
  {
   "cell_type": "markdown",
   "metadata": {},
   "source": [
    "**Посмотрим, как влияют на продажи внутри одной популярной платформы отзывы пользователей и критиков. Построим матрицу диаграмм рассеяния:**"
   ]
  },
  {
   "cell_type": "code",
   "execution_count": 65,
   "metadata": {},
   "outputs": [
    {
     "data": {
      "image/png": "[encoded data removed]",
      "text/plain": [
       "<Figure size 1080x576 with 9 Axes>"
      ]
     },
     "metadata": {
      "needs_background": "light"
     },
     "output_type": "display_data"
    }
   ],
   "source": [
    "pd.plotting.scatter_matrix(data.query('platform == \"PS4\"')[['total_sales','critic_score','user_score']], figsize=(15, 8));"
   ]
  },
  {
   "cell_type": "markdown",
   "metadata": {},
   "source": [
    "**Посчитаем корреляцию между отзывами и продажами:**"
   ]
  },
  {
   "cell_type": "code",
   "execution_count": 66,
   "metadata": {},
   "outputs": [
    {
     "name": "stdout",
     "output_type": "stream",
     "text": [
      "              total_sales  critic_score  user_score\n",
      "total_sales      1.000000      0.402661   -0.040132\n",
      "critic_score     0.402661      1.000000    0.546434\n",
      "user_score      -0.040132      0.546434    1.000000\n"
     ]
    }
   ],
   "source": [
    "print (data.query('platform == \"PS4\"')[['total_sales','critic_score','user_score']].corr())"
   ]
  },
  {
   "cell_type": "markdown",
   "metadata": {},
   "source": [
    "**Из матрицы корреляции следует, что между продажами игр на платформе PS4 и оценкой критиков есть слабая связь. Между продажами и оценкой пользователей связи практически нет.**"
   ]
  },
  {
   "cell_type": "markdown",
   "metadata": {},
   "source": [
    "**Посмотрим, как влияют на продажи внутри платформы XOne отзывы пользователей и критиков. Построим матрицу диаграмм рассеяния:**"
   ]
  },
  {
   "cell_type": "code",
   "execution_count": 67,
   "metadata": {},
   "outputs": [
    {
     "data": {
      "image/png": "[encoded data removed]",
      "text/plain": [
       "<Figure size 1080x576 with 9 Axes>"
      ]
     },
     "metadata": {
      "needs_background": "light"
     },
     "output_type": "display_data"
    }
   ],
   "source": [
    "pd.plotting.scatter_matrix(data.query('platform == \"XOne\"')[['total_sales','critic_score','user_score']], figsize=(15, 8));"
   ]
  },
  {
   "cell_type": "markdown",
   "metadata": {},
   "source": [
    "**Построим матрицу корреляции, для платформы XOne:**"
   ]
  },
  {
   "cell_type": "code",
   "execution_count": 68,
   "metadata": {},
   "outputs": [
    {
     "name": "stdout",
     "output_type": "stream",
     "text": [
      "              total_sales  critic_score  user_score\n",
      "total_sales      1.000000      0.428677   -0.070384\n",
      "critic_score     0.428677      1.000000    0.440977\n",
      "user_score      -0.070384      0.440977    1.000000\n"
     ]
    }
   ],
   "source": [
    "print (data.query('platform == \"XOne\"')[['total_sales','critic_score','user_score']].corr())"
   ]
  },
  {
   "cell_type": "markdown",
   "metadata": {},
   "source": [
    "**Из матрицы корреляции следует, что между продажами игр на платформе XOne и оценкой критиков есть слабая связь. Между продажами и оценкой пользователей связи практически нет. Очень похожая картина с PS4.**"
   ]
  },
  {
   "cell_type": "markdown",
   "metadata": {},
   "source": [
    "**Посмотрим, как влияют на продажи внутри платформы 3DS отзывы пользователей и критиков. Построим матрицу диаграмм рассеяния:**"
   ]
  },
  {
   "cell_type": "code",
   "execution_count": 69,
   "metadata": {},
   "outputs": [
    {
     "data": {
      "image/png": "[encoded data removed]",
      "text/plain": [
       "<Figure size 1080x576 with 9 Axes>"
      ]
     },
     "metadata": {
      "needs_background": "light"
     },
     "output_type": "display_data"
    }
   ],
   "source": [
    "pd.plotting.scatter_matrix(data.query('platform == \"3DS\"')[['total_sales','critic_score','user_score']], figsize=(15, 8));"
   ]
  },
  {
   "cell_type": "markdown",
   "metadata": {},
   "source": [
    "**Построим матрицу корреляции, для платформы 3DS:**"
   ]
  },
  {
   "cell_type": "code",
   "execution_count": 70,
   "metadata": {},
   "outputs": [
    {
     "name": "stdout",
     "output_type": "stream",
     "text": [
      "              total_sales  critic_score  user_score\n",
      "total_sales      1.000000      0.314117    0.215193\n",
      "critic_score     0.314117      1.000000    0.862485\n",
      "user_score       0.215193      0.862485    1.000000\n"
     ]
    }
   ],
   "source": [
    "print (data.query('platform == \"3DS\"')[['total_sales','critic_score','user_score']].corr())"
   ]
  },
  {
   "cell_type": "markdown",
   "metadata": {},
   "source": [
    "**Из матрицы корреляции следует, что между продажами игр на платформе 3DS и оценкой критиков есть очень слабая связь. Также есть очень слабая связь между продажами и оценкой пользователей.**"
   ]
  },
  {
   "cell_type": "markdown",
   "metadata": {},
   "source": [
    "**Посмотрим на общее распределение игр по жанрам:**"
   ]
  },
  {
   "cell_type": "code",
   "execution_count": 71,
   "metadata": {
    "scrolled": true
   },
   "outputs": [
    {
     "name": "stdout",
     "output_type": "stream",
     "text": [
      "genre\n",
      "Action          619\n",
      "Role-Playing    221\n",
      "Adventure       185\n",
      "Sports          161\n",
      "Shooter         128\n",
      "Misc            113\n",
      "Racing           69\n",
      "Fighting         60\n",
      "Simulation       44\n",
      "Platform         38\n",
      "Strategy         37\n",
      "Puzzle           14\n",
      "Name: total_sales, dtype: int64\n"
     ]
    },
    {
     "data": {
      "image/png": "[encoded data removed]",
      "text/plain": [
       "<Figure size 1080x576 with 1 Axes>"
      ]
     },
     "metadata": {},
     "output_type": "display_data"
    }
   ],
   "source": [
    "print (data.groupby('genre')['total_sales'].count().sort_values(ascending = False))\n",
    "data.groupby('genre').count().plot(kind='pie', y='total_sales', figsize = (15,8));"
   ]
  },
  {
   "cell_type": "markdown",
   "metadata": {},
   "source": [
    "**А теперь рассмотрим распределение продаж по жанрам:**"
   ]
  },
  {
   "cell_type": "code",
   "execution_count": 72,
   "metadata": {},
   "outputs": [
    {
     "name": "stdout",
     "output_type": "stream",
     "text": [
      "genre\n",
      "Shooter         0.515\n",
      "Sports          0.180\n",
      "Platform        0.140\n",
      "Fighting        0.125\n",
      "Role-Playing    0.110\n",
      "Simulation      0.100\n",
      "Action          0.090\n",
      "Misc            0.090\n",
      "Racing          0.090\n",
      "Strategy        0.060\n",
      "Puzzle          0.045\n",
      "Adventure       0.030\n",
      "Name: total_sales, dtype: float64\n"
     ]
    },
    {
     "data": {
      "image/png": "[encoded data removed]",
      "text/plain": [
       "<Figure size 720x432 with 1 Axes>"
      ]
     },
     "metadata": {
      "needs_background": "light"
     },
     "output_type": "display_data"
    }
   ],
   "source": [
    "print (data.groupby('genre')['total_sales'].median().sort_values(ascending = False))\n",
    "data.groupby('genre').median().plot(kind='bar', y='total_sales', figsize = (10,6), title = 'Медианные продажи от жанра', xlabel = 'Жанр', ylabel = 'Медианные продажи, млн. копий');"
   ]
  },
  {
   "cell_type": "markdown",
   "metadata": {},
   "source": [
    "**Из диаграммы видно, что больше всего медианный доход у игр в жанрe Shooter, а меньше всего - в жанре Adventure.**"
   ]
  },
  {
   "cell_type": "markdown",
   "metadata": {},
   "source": [
    "**Выводы к части 3:** \n",
    "   1. У самых продаваемых платформ срок жизни не превышает 11 лет. \n",
    "   2. По мере уменьшения продаваемости срок жизни ожидаемо сокращается.\n",
    "   3. Для построения прогноза нужно знать ситуацию в предыдущий год и за пару лет до него, чтобы отследить динамику. Поэтому исключили из датафрейма строки с датой выхода игры раньше 2014 года.\n",
    "   3. Платформа 'PSP' не была представлена в 2016 году, поэтому её тоже исключили из рассмотрения.\n",
    "   4. В 2016 году лидировали по продажам игры на платформах PS4, XOne и 3DS, я бы рассматривал именно их в качестве наиболее перспективных на 2017 год.\n",
    "   5. Общемировые продажи по всем платформам снизились в 2016 году.\n",
    "   6. Медианные значения продаж для игр на платформах PS4 и XOne значительно больше, чем на 3DS.\n",
    "   7.  Между продажами игр на платформе PS4 и оценкой критиков есть слабая связь. Между продажами и оценкой пользователей связи практически нет.\n",
    "   8. Между продажами игр на платформе XOne и оценкой критиков есть слабая связь. Между продажами и оценкой пользователей связи практически нет. Очень похожая картина с PS4.\n",
    "   9. Между продажами игр на платформе 3DS и оценкой критиков есть очень слабая связь. Также есть очень слабая связь между продажами и оценкой пользователей.\n",
    "   10. Больше всего медианный доход у игр в жанрe Shooter, а меньше всего - в жанре Adventure. "
   ]
  },
  {
   "cell_type": "markdown",
   "metadata": {},
   "source": [
    "### Составим портрет пользователя каждого региона"
   ]
  },
  {
   "cell_type": "markdown",
   "metadata": {},
   "source": [
    "**Определим для пользователя каждого региона (NA, EU, JP) самые популярные платформы (топ-5):**"
   ]
  },
  {
   "cell_type": "code",
   "execution_count": 73,
   "metadata": {},
   "outputs": [
    {
     "name": "stdout",
     "output_type": "stream",
     "text": [
      "NA\n",
      "platform\n",
      "PS4     98.61\n",
      "XOne    81.27\n",
      "X360    28.30\n",
      "3DS     22.64\n",
      "PS3     22.05\n",
      "Name: na_sales, dtype: float64\n"
     ]
    }
   ],
   "source": [
    "print ('NA')\n",
    "print (data.groupby('platform')['na_sales'].sum().sort_values(ascending = False).head()) "
   ]
  },
  {
   "cell_type": "code",
   "execution_count": 74,
   "metadata": {},
   "outputs": [
    {
     "name": "stdout",
     "output_type": "stream",
     "text": [
      "EU\n",
      "platform\n",
      "PS4     130.04\n",
      "XOne     46.25\n",
      "PS3      25.54\n",
      "PC       17.97\n",
      "3DS      16.12\n",
      "Name: eu_sales, dtype: float64\n"
     ]
    }
   ],
   "source": [
    "print ('EU')\n",
    "print (data.groupby('platform')['eu_sales'].sum().sort_values(ascending = False).head()) "
   ]
  },
  {
   "cell_type": "code",
   "execution_count": 75,
   "metadata": {},
   "outputs": [
    {
     "name": "stdout",
     "output_type": "stream",
     "text": [
      "JP\n",
      "platform\n",
      "3DS     44.24\n",
      "PS4     15.02\n",
      "PSV     14.54\n",
      "PS3     11.22\n",
      "WiiU     7.31\n",
      "Name: jp_sales, dtype: float64\n"
     ]
    }
   ],
   "source": [
    "print ('JP')\n",
    "print (data.groupby('platform')['jp_sales'].sum().sort_values(ascending = False).head()) "
   ]
  },
  {
   "cell_type": "markdown",
   "metadata": {},
   "source": [
    "**Построим график зависимости суммарных продаж по регионам от платформы:**"
   ]
  },
  {
   "cell_type": "code",
   "execution_count": 88,
   "metadata": {},
   "outputs": [
    {
     "data": {
      "image/png": "[encoded data removed]",
      "text/plain": [
       "<Figure size 1080x576 with 1 Axes>"
      ]
     },
     "metadata": {
      "needs_background": "light"
     },
     "output_type": "display_data"
    }
   ],
   "source": [
    "data.pivot_table(values = ['na_sales', 'eu_sales', 'jp_sales'], index = 'platform', aggfunc = 'sum' ).plot(figsize=(15,8), title = 'Зависимость суммарных продаж по регионам от платормы', kind='bar', ylabel = 'Количество проданных копий, млн');"
   ]
  },
  {
   "cell_type": "markdown",
   "metadata": {},
   "source": [
    "**Топ-5 самых популярных платформ сильно зависит от региона.**"
   ]
  },
  {
   "cell_type": "markdown",
   "metadata": {},
   "source": [
    "**Определим для пользователя каждого региона (NA, EU, JP) самые популярные жанры (топ-5):**"
   ]
  },
  {
   "cell_type": "code",
   "execution_count": 76,
   "metadata": {},
   "outputs": [
    {
     "name": "stdout",
     "output_type": "stream",
     "text": [
      "NA\n",
      "genre\n",
      "Shooter         79.02\n",
      "Action          72.53\n",
      "Sports          46.13\n",
      "Role-Playing    33.47\n",
      "Misc            15.05\n",
      "Name: na_sales, dtype: float64\n"
     ]
    }
   ],
   "source": [
    "print ('NA')\n",
    "print (data.groupby('genre')['na_sales'].sum().sort_values(ascending = False).head()) "
   ]
  },
  {
   "cell_type": "code",
   "execution_count": 77,
   "metadata": {},
   "outputs": [
    {
     "name": "stdout",
     "output_type": "stream",
     "text": [
      "EU\n",
      "genre\n",
      "Action          74.68\n",
      "Shooter         65.52\n",
      "Sports          45.73\n",
      "Role-Playing    28.17\n",
      "Racing          14.13\n",
      "Name: eu_sales, dtype: float64\n"
     ]
    }
   ],
   "source": [
    "print ('EU')\n",
    "print (data.groupby('genre')['eu_sales'].sum().sort_values(ascending = False).head()) "
   ]
  },
  {
   "cell_type": "code",
   "execution_count": 79,
   "metadata": {},
   "outputs": [
    {
     "name": "stdout",
     "output_type": "stream",
     "text": [
      "JP\n",
      "genre\n",
      "Role-Playing    31.16\n",
      "Action          29.58\n",
      "Fighting         6.37\n",
      "Misc             5.61\n",
      "Shooter          4.87\n",
      "Name: jp_sales, dtype: float64\n"
     ]
    }
   ],
   "source": [
    "print ('JP')\n",
    "print (data.groupby('genre')['jp_sales'].sum().sort_values(ascending = False).head()) "
   ]
  },
  {
   "cell_type": "markdown",
   "metadata": {},
   "source": [
    "**Построим график зависимости суммарных продаж по регионам от жанра:**"
   ]
  },
  {
   "cell_type": "code",
   "execution_count": 86,
   "metadata": {},
   "outputs": [
    {
     "data": {
      "image/png": "[encoded data removed]",
      "text/plain": [
       "<Figure size 1080x576 with 1 Axes>"
      ]
     },
     "metadata": {
      "needs_background": "light"
     },
     "output_type": "display_data"
    }
   ],
   "source": [
    "data.pivot_table(values = ['na_sales', 'eu_sales', 'jp_sales'], index = 'genre', aggfunc = 'sum' ).plot(figsize=(15,8), title = 'Зависимость суммарных продаж по регионам от жанра', kind='bar', ylabel = 'Количество проданных копий, млн');"
   ]
  },
  {
   "cell_type": "markdown",
   "metadata": {},
   "source": [
    "**Топ-5 самых популярных жанров сильно зависит от региона. При этом распределения по жанрам на европейском и американском рынках очень похожи.**"
   ]
  },
  {
   "cell_type": "markdown",
   "metadata": {},
   "source": [
    "**Оценим, влияет ли рейтинг ESRB на продажи в отдельном регионе. Для этого выведем следующую таблицу:**"
   ]
  },
  {
   "cell_type": "code",
   "execution_count": 87,
   "metadata": {},
   "outputs": [
    {
     "data": {
      "image/png": "[encoded data removed]",
      "text/plain": [
       "<Figure size 1080x576 with 1 Axes>"
      ]
     },
     "metadata": {
      "needs_background": "light"
     },
     "output_type": "display_data"
    }
   ],
   "source": [
    "data.pivot_table(values = ['na_sales', 'eu_sales', 'jp_sales'], index = 'rating', aggfunc = 'sum' ).plot(figsize=(15,8),  kind='bar', title = 'Влияение рейтинга ESRB на продажи в отдельном регионе', ylabel = 'Количество проданных копий, млн');  "
   ]
  },
  {
   "cell_type": "markdown",
   "metadata": {},
   "source": [
    "**Из графика следует, что во всех трёх регионах больше всего продано игр с рейтигом E, M и T. Макисмумы и минимумы наблюдаются в одних и тех же значениях рейтинга ESRB. При этом в Японии больше покупают игр с неизвестным рейтингом ESRB, чем в других регионах.**"
   ]
  },
  {
   "cell_type": "markdown",
   "metadata": {},
   "source": [
    "**Выводы из части 4:**\n",
    "   1. Топ-5 самых популярных платформ сильно зависит от региона.\n",
    "   2. Топ-5 самых популярных жанров сильно зависит от региона. При этом распределения по жанрам на европейском и американском рынках очень похожи.\n",
    "   3. Во всех трёх регионах больше всего продано игр с рейтигом E, M и T. Макисмумы и минимумы наблюдаются в одних и тех же значениях рейтинга ESRB. При этом в Японии больше покупают игр неизвестным рейтингом ESRB, чем в других регионах."
   ]
  },
  {
   "cell_type": "markdown",
   "metadata": {},
   "source": [
    "### Проверим гипотезы"
   ]
  },
  {
   "cell_type": "markdown",
   "metadata": {},
   "source": [
    "**Проверим гипотезу, что средние пользовательские рейтинги платформ Xbox One и PC одинаковые. Нулевой гипотезой будет утверждение, что средние пользовательские рейтинги платформ Xbox One и PC равны. Альтернативной гипотезой будет то, что они не равны другу другу:**"
   ]
  },
  {
   "cell_type": "code",
   "execution_count": 269,
   "metadata": {},
   "outputs": [
    {
     "data": {
      "text/plain": [
       "Ttest_indResult(statistic=1.577760647447497, pvalue=0.11601398086668832)"
      ]
     },
     "execution_count": 269,
     "metadata": {},
     "output_type": "execute_result"
    }
   ],
   "source": [
    "from scipy import stats as st\n",
    "st.ttest_ind(data.query('platform == \"XOne\"')['user_score'].dropna(), data.query('platform == \"PC\"')['user_score'].dropna(), equal_var = False)"
   ]
  },
  {
   "cell_type": "markdown",
   "metadata": {},
   "source": [
    "**p-value больше общепринятого значения alpha 0.01, следовательно, нет оснований отвергать нулевую гипотезу. Принимаем верным утверждение: \"Средние пользовательские рейтинги платформ Xbox One и PC равны\"**"
   ]
  },
  {
   "cell_type": "markdown",
   "metadata": {},
   "source": [
    "**Проверим гипотезу, что средние пользовательские рейтинги жанров Action и Sports разные. Нулевой гипотезой будет то, что средние пользовательские рейтинги жанров Action и Sports равны. Альтернативной гипотезой будет то, что они не равны другу другу:**"
   ]
  },
  {
   "cell_type": "code",
   "execution_count": 270,
   "metadata": {},
   "outputs": [
    {
     "data": {
      "text/plain": [
       "Ttest_indResult(statistic=8.384614718486121, pvalue=1.1825550382644557e-14)"
      ]
     },
     "execution_count": 270,
     "metadata": {},
     "output_type": "execute_result"
    }
   ],
   "source": [
    "st.ttest_ind(data.query('genre == \"Action\"')['user_score'].dropna(), data.query('genre == \"Sports\"')['user_score'].dropna(), equal_var = False)"
   ]
  },
  {
   "cell_type": "markdown",
   "metadata": {},
   "source": [
    "**p-value меньше общепринятого значения alpha 0.01, следовательно, отвергаем нулевую гипотезу. То есть принимаем верным утверждение: \"Средние пользовательские рейтинги жанров Action и Sports не равны друг другу (разные)\".**  "
   ]
  },
  {
   "cell_type": "markdown",
   "metadata": {},
   "source": [
    "**Выводы из части 5:**\n",
    "   1. Средние пользовательские рейтинги платформ Xbox One и PC разные.\n",
    "   2. Средние пользовательские рейтинги жанров Action и Sports тоже разные.\n",
    "   3. Для проверки гипотез ипользовался метод о равенстве среднего двух генеральных совокупностей по взятым из них выборкам. Критерием оценки являлся результат сравнения p-value с alpha = 0.01. Поскольку выборки разного размера, параметр equal_var был установлен как False."
   ]
  },
  {
   "cell_type": "markdown",
   "metadata": {},
   "source": [
    "### Общий вывод: \n",
    "   1. В данных есть пропуски;\n",
    "   2. На некоторых графиках видны несколько пиков, что требует более подробного анализа;\n",
    "   3. Судя по большому размеру пустой области графиков, имеют место значения, сильно отличающиеся от большинства;\n",
    "   4. Некоторые значения могли бы иметь другой тип данных по смыслу;\n",
    "   5. Явные дубликаты в даннах отсутствуют;\n",
    "   6. Были изменены названия столбцов (приведены к нижнему регистру);\n",
    "   7. Были изменены типы данных в столбцах 'year_of_release' и 'user_score', так как годам больше подходит целый тип данных, а оценке пользователей - тип с плавающей запятой;\n",
    "   8. В столбце 'user_score' содержались значения \"tbd\", что значит \"To Be Determined\" (будет определено). Поэтому прежде, чем изменять тип данных пришлось заменить эти значения на пропуски;\n",
    "   9. Были удалены строки с пропущенными значениями в столбцах year_of_release, name и genre. Их удаление не должно повлиять на выводы, так как они составляют меньше 2% от общего числа строк, а в задании сказано: 'Не учитывайте в работе данные за предыдущие годы';\n",
    "   10. Пропуски в столбцах critic_score, user_score решено оставить, так как их слишком много, и их заполнение может сильно исказить результат;\n",
    "   11. В столбце ропуски в столбце rating заменены на \"Unknown\", так как рейтинг - признак категориальный, и пропуски можно считать еще одной категорией.\n",
    "   12. Добавлен столбец с сумаррными продажами по всем регионам;\n",
    "   13. У самых продаваемых платформ срок жизни не превышает 11 лет;\n",
    "   14. По мере уменьшения продаваемости срок жизни ожидаемо сокращается.\n",
    "   15. Для построения прогноза нужно знать ситуацию в предыдущий год и за пару лет до него, чтобы отследить динамику. Поэтому исключили из датафрейма строки с датой выхода игры раньше 2014 года.\n",
    "   16. Платформа 'PSP' не была представлена в 2016 году, поэтому её тоже исключили из рассмотрения;\n",
    "   17. В 2016 году лидировали по продажам игры на платформах PS4, XOne и 3DS, я бы рассматривал именно их в качестве наиболее перспективных на 2017 год.\n",
    "   18. Общемировые продажи по всем платформам снизились в 2016 году;\n",
    "   19. Медианные значения продаж для игр на платформах PS4 и XOne значительно больше, чем на 3DS;\n",
    "   20. Между продажами игр на платформе PS4 и оценкой критиков есть слабая связь. Между продажами и оценкой пользователей связи практически нет;\n",
    "   21. Между продажами игр на платформе XOne и оценкой критиков есть слабая связь. Между продажами и оценкой пользователей связи практически нет. Очень похожая картина с PS4.\n",
    "   22. Между продажами игр на платформе 3DS и оценкой критиков есть очень слабая связь. Также есть очень слабая связь между продажами и оценкой пользователей.\n",
    "   23. Больше всего медианный доход у игр в жанрe Shooter, а меньше всего - в жанре Adventure.\n",
    "   24. Топ-5 самых популярных платформ сильно зависит от региона;\n",
    "   25. Топ-5 самых популярных жанров сильно зависит от региона. При этом распределения по жанрам на европейском и американском рынках очень похожи;\n",
    "   26. Вво всех трёх регионах больше всего продано игр с рейтигом E, M и T. Макисмумы и минимумы наблюдаются в одних и тех же значениях рейтинга ESRB. При этом в Японии больше покупают игр неизвестным рейтингом ESRB, чем в других регионах;\n",
    "   27. Средние пользовательские рейтинги платформ Xbox One и PC равны.\n",
    "   28. Средние пользовательские рейтинги жанров Action и Sports разные.\n",
    "   29. Для проверки гипотез ипользовался метод о равенстве среднего двух генеральных совокупностей по взятым из них выборкам. Критерием оценки являляся результат сравнения p-value с alpha = 0.01."
   ]
  }
 ],
 "metadata": {
  "ExecuteTimeLog": [
   {
    "duration": 722,
    "start_time": "2023-02-20T08:32:46.790Z"
   },
   {
    "duration": 11,
    "start_time": "2023-02-20T08:33:29.479Z"
   },
   {
    "duration": 14,
    "start_time": "2023-02-20T08:34:49.453Z"
   },
   {
    "duration": 1668,
    "start_time": "2023-02-20T08:36:19.625Z"
   },
   {
    "duration": 2168,
    "start_time": "2023-02-20T08:38:21.887Z"
   },
   {
    "duration": 990,
    "start_time": "2023-02-20T08:39:21.051Z"
   },
   {
    "duration": 904,
    "start_time": "2023-02-20T08:39:38.026Z"
   },
   {
    "duration": 24,
    "start_time": "2023-02-20T08:40:23.163Z"
   },
   {
    "duration": 4,
    "start_time": "2023-02-20T08:41:35.970Z"
   },
   {
    "duration": 9,
    "start_time": "2023-02-20T08:47:26.359Z"
   },
   {
    "duration": 8,
    "start_time": "2023-02-20T09:01:59.217Z"
   },
   {
    "duration": 70,
    "start_time": "2023-02-20T09:24:11.263Z"
   },
   {
    "duration": 4,
    "start_time": "2023-02-20T09:24:15.513Z"
   },
   {
    "duration": 4,
    "start_time": "2023-02-20T09:29:07.056Z"
   },
   {
    "duration": 1611,
    "start_time": "2023-02-20T09:34:22.699Z"
   },
   {
    "duration": 2820,
    "start_time": "2023-02-20T09:35:01.093Z"
   },
   {
    "duration": 4,
    "start_time": "2023-02-20T09:35:27.298Z"
   },
   {
    "duration": 7,
    "start_time": "2023-02-20T09:35:35.865Z"
   },
   {
    "duration": 15,
    "start_time": "2023-02-20T09:35:52.564Z"
   },
   {
    "duration": 1221,
    "start_time": "2023-02-20T09:37:20.759Z"
   },
   {
    "duration": 11,
    "start_time": "2023-02-20T09:37:32.891Z"
   },
   {
    "duration": 11,
    "start_time": "2023-02-20T09:38:07.223Z"
   },
   {
    "duration": 11,
    "start_time": "2023-02-20T09:38:23.105Z"
   },
   {
    "duration": 654,
    "start_time": "2023-02-20T09:40:22.781Z"
   },
   {
    "duration": 1009,
    "start_time": "2023-02-20T09:41:22.905Z"
   },
   {
    "duration": 10,
    "start_time": "2023-02-20T09:45:52.223Z"
   },
   {
    "duration": 21,
    "start_time": "2023-02-20T09:54:16.970Z"
   },
   {
    "duration": 11,
    "start_time": "2023-02-20T11:00:14.248Z"
   },
   {
    "duration": 10,
    "start_time": "2023-02-20T11:00:53.471Z"
   },
   {
    "duration": 7,
    "start_time": "2023-02-20T11:02:43.012Z"
   },
   {
    "duration": 7,
    "start_time": "2023-02-20T11:03:21.193Z"
   },
   {
    "duration": 8,
    "start_time": "2023-02-20T11:04:49.823Z"
   },
   {
    "duration": 8,
    "start_time": "2023-02-20T11:04:58.218Z"
   },
   {
    "duration": 14,
    "start_time": "2023-02-20T11:05:07.246Z"
   },
   {
    "duration": 3,
    "start_time": "2023-02-20T11:05:24.995Z"
   },
   {
    "duration": 12,
    "start_time": "2023-02-20T11:05:28.581Z"
   },
   {
    "duration": 49,
    "start_time": "2023-02-20T11:05:36.739Z"
   },
   {
    "duration": 4,
    "start_time": "2023-02-20T11:05:47.968Z"
   },
   {
    "duration": 3,
    "start_time": "2023-02-20T11:05:51.922Z"
   },
   {
    "duration": 31,
    "start_time": "2023-02-20T11:05:56.595Z"
   },
   {
    "duration": 12,
    "start_time": "2023-02-20T11:06:00.426Z"
   },
   {
    "duration": 6,
    "start_time": "2023-02-20T11:07:24.353Z"
   },
   {
    "duration": 6,
    "start_time": "2023-02-20T11:07:34.386Z"
   },
   {
    "duration": 5,
    "start_time": "2023-02-20T11:07:45.944Z"
   },
   {
    "duration": 9,
    "start_time": "2023-02-20T11:08:42.996Z"
   },
   {
    "duration": 13,
    "start_time": "2023-02-20T11:09:47.520Z"
   },
   {
    "duration": 10,
    "start_time": "2023-02-20T11:10:02.464Z"
   },
   {
    "duration": 9,
    "start_time": "2023-02-20T11:10:28.126Z"
   },
   {
    "duration": 9,
    "start_time": "2023-02-20T11:10:56.655Z"
   },
   {
    "duration": 11,
    "start_time": "2023-02-20T11:13:11.670Z"
   },
   {
    "duration": 11,
    "start_time": "2023-02-20T11:13:50.569Z"
   },
   {
    "duration": 9,
    "start_time": "2023-02-20T11:14:35.332Z"
   },
   {
    "duration": 10,
    "start_time": "2023-02-20T11:21:04.809Z"
   },
   {
    "duration": 22,
    "start_time": "2023-02-20T11:21:28.800Z"
   },
   {
    "duration": 9,
    "start_time": "2023-02-20T11:22:28.333Z"
   },
   {
    "duration": 7,
    "start_time": "2023-02-20T11:22:49.330Z"
   },
   {
    "duration": 9,
    "start_time": "2023-02-20T11:23:44.349Z"
   },
   {
    "duration": 16,
    "start_time": "2023-02-20T11:24:04.750Z"
   },
   {
    "duration": 18,
    "start_time": "2023-02-20T11:24:30.953Z"
   },
   {
    "duration": 10,
    "start_time": "2023-02-20T11:25:12.435Z"
   },
   {
    "duration": 73,
    "start_time": "2023-02-20T11:25:28.427Z"
   },
   {
    "duration": 8,
    "start_time": "2023-02-20T11:25:37.517Z"
   },
   {
    "duration": 7,
    "start_time": "2023-02-20T11:25:50.184Z"
   },
   {
    "duration": 18,
    "start_time": "2023-02-20T11:25:59.771Z"
   },
   {
    "duration": 20,
    "start_time": "2023-02-20T11:26:27.560Z"
   },
   {
    "duration": 17,
    "start_time": "2023-02-20T11:26:50.849Z"
   },
   {
    "duration": 7,
    "start_time": "2023-02-20T11:29:25.049Z"
   },
   {
    "duration": 6,
    "start_time": "2023-02-20T11:29:49.012Z"
   },
   {
    "duration": 6,
    "start_time": "2023-02-20T11:30:15.295Z"
   },
   {
    "duration": 12,
    "start_time": "2023-02-20T11:31:53.400Z"
   },
   {
    "duration": 15,
    "start_time": "2023-02-20T11:32:26.701Z"
   },
   {
    "duration": 15,
    "start_time": "2023-02-20T11:32:42.633Z"
   },
   {
    "duration": 16,
    "start_time": "2023-02-20T11:32:54.809Z"
   },
   {
    "duration": 17,
    "start_time": "2023-02-20T11:33:59.000Z"
   },
   {
    "duration": 20,
    "start_time": "2023-02-20T11:34:16.936Z"
   },
   {
    "duration": 47,
    "start_time": "2023-02-20T11:34:24.733Z"
   },
   {
    "duration": 11,
    "start_time": "2023-02-20T11:34:26.232Z"
   },
   {
    "duration": 13,
    "start_time": "2023-02-20T11:34:27.450Z"
   },
   {
    "duration": 854,
    "start_time": "2023-02-20T11:34:28.672Z"
   },
   {
    "duration": 14,
    "start_time": "2023-02-20T11:34:31.452Z"
   },
   {
    "duration": 4,
    "start_time": "2023-02-20T11:34:34.848Z"
   },
   {
    "duration": 3,
    "start_time": "2023-02-20T11:34:36.312Z"
   },
   {
    "duration": 21,
    "start_time": "2023-02-20T11:34:44.677Z"
   },
   {
    "duration": 17,
    "start_time": "2023-02-20T11:34:57.962Z"
   },
   {
    "duration": 11,
    "start_time": "2023-02-20T11:37:38.585Z"
   },
   {
    "duration": 8,
    "start_time": "2023-02-20T11:43:11.457Z"
   },
   {
    "duration": 309,
    "start_time": "2023-02-20T11:43:29.532Z"
   },
   {
    "duration": 11,
    "start_time": "2023-02-20T11:44:25.998Z"
   },
   {
    "duration": 17,
    "start_time": "2023-02-20T11:45:16.195Z"
   },
   {
    "duration": 571,
    "start_time": "2023-02-20T11:47:12.394Z"
   },
   {
    "duration": 22,
    "start_time": "2023-02-20T11:51:51.971Z"
   },
   {
    "duration": 15,
    "start_time": "2023-02-20T11:52:29.573Z"
   },
   {
    "duration": 14,
    "start_time": "2023-02-20T11:52:54.302Z"
   },
   {
    "duration": 19,
    "start_time": "2023-02-20T12:03:00.202Z"
   },
   {
    "duration": 162,
    "start_time": "2023-02-20T12:04:27.359Z"
   },
   {
    "duration": 7,
    "start_time": "2023-02-20T12:05:29.416Z"
   },
   {
    "duration": 17,
    "start_time": "2023-02-20T12:07:10.708Z"
   },
   {
    "duration": 12,
    "start_time": "2023-02-20T12:07:41.608Z"
   },
   {
    "duration": 5,
    "start_time": "2023-02-20T12:09:53.641Z"
   },
   {
    "duration": 16,
    "start_time": "2023-02-20T12:10:23.652Z"
   },
   {
    "duration": 26,
    "start_time": "2023-02-20T12:15:41.174Z"
   },
   {
    "duration": 7,
    "start_time": "2023-02-20T12:18:18.648Z"
   },
   {
    "duration": 5,
    "start_time": "2023-02-20T12:24:28.525Z"
   },
   {
    "duration": 6,
    "start_time": "2023-02-20T12:25:08.123Z"
   },
   {
    "duration": 9,
    "start_time": "2023-02-20T12:27:58.127Z"
   },
   {
    "duration": 8,
    "start_time": "2023-02-20T12:29:37.110Z"
   },
   {
    "duration": 65,
    "start_time": "2023-02-20T12:29:59.875Z"
   },
   {
    "duration": 8,
    "start_time": "2023-02-20T12:30:14.692Z"
   },
   {
    "duration": 49,
    "start_time": "2023-02-20T12:30:58.121Z"
   },
   {
    "duration": 9,
    "start_time": "2023-02-20T12:30:58.172Z"
   },
   {
    "duration": 17,
    "start_time": "2023-02-20T12:30:58.182Z"
   },
   {
    "duration": 907,
    "start_time": "2023-02-20T12:30:58.200Z"
   },
   {
    "duration": 20,
    "start_time": "2023-02-20T12:30:59.108Z"
   },
   {
    "duration": 3,
    "start_time": "2023-02-20T12:30:59.130Z"
   },
   {
    "duration": 7,
    "start_time": "2023-02-20T12:30:59.135Z"
   },
   {
    "duration": 11,
    "start_time": "2023-02-20T12:30:59.143Z"
   },
   {
    "duration": 9,
    "start_time": "2023-02-20T12:30:59.156Z"
   },
   {
    "duration": 36,
    "start_time": "2023-02-20T12:30:59.167Z"
   },
   {
    "duration": 11,
    "start_time": "2023-02-20T12:32:54.679Z"
   },
   {
    "duration": 8,
    "start_time": "2023-02-20T12:54:48.587Z"
   },
   {
    "duration": 12,
    "start_time": "2023-02-20T12:55:28.057Z"
   },
   {
    "duration": 15,
    "start_time": "2023-02-20T12:55:39.450Z"
   },
   {
    "duration": 11,
    "start_time": "2023-02-20T13:10:08.932Z"
   },
   {
    "duration": 26,
    "start_time": "2023-02-20T13:10:20.887Z"
   },
   {
    "duration": 37,
    "start_time": "2023-02-20T13:11:08.980Z"
   },
   {
    "duration": 20,
    "start_time": "2023-02-20T13:11:31.348Z"
   },
   {
    "duration": 24,
    "start_time": "2023-02-20T13:15:50.817Z"
   },
   {
    "duration": 35,
    "start_time": "2023-02-20T13:16:00.888Z"
   },
   {
    "duration": 17,
    "start_time": "2023-02-20T13:17:54.739Z"
   },
   {
    "duration": 24,
    "start_time": "2023-02-20T13:18:20.165Z"
   },
   {
    "duration": 5,
    "start_time": "2023-02-20T13:54:44.566Z"
   },
   {
    "duration": 15,
    "start_time": "2023-02-20T13:55:06.915Z"
   },
   {
    "duration": 4,
    "start_time": "2023-02-20T13:55:49.661Z"
   },
   {
    "duration": 10,
    "start_time": "2023-02-20T13:56:59.623Z"
   },
   {
    "duration": 12,
    "start_time": "2023-02-20T13:57:36.543Z"
   },
   {
    "duration": 4,
    "start_time": "2023-02-20T13:58:10.902Z"
   },
   {
    "duration": 92,
    "start_time": "2023-02-20T14:00:25.759Z"
   },
   {
    "duration": 4,
    "start_time": "2023-02-20T14:04:25.639Z"
   },
   {
    "duration": 7,
    "start_time": "2023-02-20T14:07:00.952Z"
   },
   {
    "duration": 14,
    "start_time": "2023-02-20T14:07:20.637Z"
   },
   {
    "duration": 9,
    "start_time": "2023-02-20T14:08:06.672Z"
   },
   {
    "duration": 73,
    "start_time": "2023-02-20T14:08:21.554Z"
   },
   {
    "duration": 52,
    "start_time": "2023-02-21T06:30:07.597Z"
   },
   {
    "duration": 526,
    "start_time": "2023-02-21T06:30:16.418Z"
   },
   {
    "duration": 12,
    "start_time": "2023-02-21T06:30:16.946Z"
   },
   {
    "duration": 25,
    "start_time": "2023-02-21T06:30:16.959Z"
   },
   {
    "duration": 1431,
    "start_time": "2023-02-21T06:30:16.986Z"
   },
   {
    "duration": 26,
    "start_time": "2023-02-21T06:30:18.420Z"
   },
   {
    "duration": 5,
    "start_time": "2023-02-21T06:30:18.448Z"
   },
   {
    "duration": 5,
    "start_time": "2023-02-21T06:30:18.455Z"
   },
   {
    "duration": 21,
    "start_time": "2023-02-21T06:30:18.462Z"
   },
   {
    "duration": 38,
    "start_time": "2023-02-21T06:30:18.485Z"
   },
   {
    "duration": 9,
    "start_time": "2023-02-21T06:30:18.525Z"
   },
   {
    "duration": 24,
    "start_time": "2023-02-21T06:30:18.540Z"
   },
   {
    "duration": 23,
    "start_time": "2023-02-21T06:30:18.566Z"
   },
   {
    "duration": 32,
    "start_time": "2023-02-21T06:31:42.430Z"
   },
   {
    "duration": 48,
    "start_time": "2023-02-21T06:32:10.700Z"
   },
   {
    "duration": 54,
    "start_time": "2023-02-21T06:32:39.576Z"
   },
   {
    "duration": 11,
    "start_time": "2023-02-21T06:32:39.632Z"
   },
   {
    "duration": 17,
    "start_time": "2023-02-21T06:32:39.645Z"
   },
   {
    "duration": 1000,
    "start_time": "2023-02-21T06:32:39.663Z"
   },
   {
    "duration": 17,
    "start_time": "2023-02-21T06:32:40.665Z"
   },
   {
    "duration": 4,
    "start_time": "2023-02-21T06:32:40.684Z"
   },
   {
    "duration": 5,
    "start_time": "2023-02-21T06:32:40.690Z"
   },
   {
    "duration": 11,
    "start_time": "2023-02-21T06:32:40.696Z"
   },
   {
    "duration": 51,
    "start_time": "2023-02-21T06:32:40.708Z"
   },
   {
    "duration": 11,
    "start_time": "2023-02-21T06:32:40.761Z"
   },
   {
    "duration": 23,
    "start_time": "2023-02-21T06:32:40.774Z"
   },
   {
    "duration": 56,
    "start_time": "2023-02-21T06:32:40.799Z"
   },
   {
    "duration": 22,
    "start_time": "2023-02-21T06:33:01.905Z"
   },
   {
    "duration": 66,
    "start_time": "2023-02-21T06:34:08.866Z"
   },
   {
    "duration": 16,
    "start_time": "2023-02-21T06:34:08.936Z"
   },
   {
    "duration": 73,
    "start_time": "2023-02-21T06:34:08.954Z"
   },
   {
    "duration": 1128,
    "start_time": "2023-02-21T06:34:09.030Z"
   },
   {
    "duration": 16,
    "start_time": "2023-02-21T06:34:10.160Z"
   },
   {
    "duration": 29,
    "start_time": "2023-02-21T06:34:10.178Z"
   },
   {
    "duration": 6,
    "start_time": "2023-02-21T06:34:10.209Z"
   },
   {
    "duration": 11,
    "start_time": "2023-02-21T06:34:10.216Z"
   },
   {
    "duration": 34,
    "start_time": "2023-02-21T06:34:10.229Z"
   },
   {
    "duration": 13,
    "start_time": "2023-02-21T06:34:10.266Z"
   },
   {
    "duration": 23,
    "start_time": "2023-02-21T06:34:10.280Z"
   },
   {
    "duration": 48,
    "start_time": "2023-02-21T06:34:10.305Z"
   },
   {
    "duration": 17,
    "start_time": "2023-02-21T06:34:10.355Z"
   },
   {
    "duration": 11,
    "start_time": "2023-02-21T06:34:47.020Z"
   },
   {
    "duration": 47,
    "start_time": "2023-02-21T06:35:35.527Z"
   },
   {
    "duration": 16,
    "start_time": "2023-02-21T06:36:18.550Z"
   },
   {
    "duration": 685,
    "start_time": "2023-02-21T06:38:57.270Z"
   },
   {
    "duration": 9,
    "start_time": "2023-02-21T06:39:25.980Z"
   },
   {
    "duration": 47,
    "start_time": "2023-02-21T06:39:56.508Z"
   },
   {
    "duration": 10,
    "start_time": "2023-02-21T06:39:56.557Z"
   },
   {
    "duration": 28,
    "start_time": "2023-02-21T06:39:56.568Z"
   },
   {
    "duration": 1081,
    "start_time": "2023-02-21T06:39:56.598Z"
   },
   {
    "duration": 15,
    "start_time": "2023-02-21T06:39:57.681Z"
   },
   {
    "duration": 4,
    "start_time": "2023-02-21T06:39:57.698Z"
   },
   {
    "duration": 4,
    "start_time": "2023-02-21T06:39:57.705Z"
   },
   {
    "duration": 35,
    "start_time": "2023-02-21T06:39:57.711Z"
   },
   {
    "duration": 31,
    "start_time": "2023-02-21T06:39:57.749Z"
   },
   {
    "duration": 11,
    "start_time": "2023-02-21T06:39:57.783Z"
   },
   {
    "duration": 50,
    "start_time": "2023-02-21T06:39:57.796Z"
   },
   {
    "duration": 17,
    "start_time": "2023-02-21T06:39:57.847Z"
   },
   {
    "duration": 6,
    "start_time": "2023-02-21T06:39:57.866Z"
   },
   {
    "duration": 6,
    "start_time": "2023-02-21T06:40:15.013Z"
   },
   {
    "duration": 49,
    "start_time": "2023-02-21T06:40:36.729Z"
   },
   {
    "duration": 10,
    "start_time": "2023-02-21T06:40:36.781Z"
   },
   {
    "duration": 40,
    "start_time": "2023-02-21T06:40:36.793Z"
   },
   {
    "duration": 953,
    "start_time": "2023-02-21T06:40:36.837Z"
   },
   {
    "duration": 17,
    "start_time": "2023-02-21T06:40:37.792Z"
   },
   {
    "duration": 12,
    "start_time": "2023-02-21T06:40:37.811Z"
   },
   {
    "duration": 4,
    "start_time": "2023-02-21T06:40:37.839Z"
   },
   {
    "duration": 16,
    "start_time": "2023-02-21T06:40:37.845Z"
   },
   {
    "duration": 27,
    "start_time": "2023-02-21T06:40:37.863Z"
   },
   {
    "duration": 11,
    "start_time": "2023-02-21T06:40:37.893Z"
   },
   {
    "duration": 43,
    "start_time": "2023-02-21T06:40:37.906Z"
   },
   {
    "duration": 18,
    "start_time": "2023-02-21T06:40:37.951Z"
   },
   {
    "duration": 6,
    "start_time": "2023-02-21T06:40:37.971Z"
   },
   {
    "duration": 50,
    "start_time": "2023-02-21T06:40:57.425Z"
   },
   {
    "duration": 11,
    "start_time": "2023-02-21T06:40:57.477Z"
   },
   {
    "duration": 22,
    "start_time": "2023-02-21T06:40:57.490Z"
   },
   {
    "duration": 1086,
    "start_time": "2023-02-21T06:40:57.514Z"
   },
   {
    "duration": 17,
    "start_time": "2023-02-21T06:40:58.602Z"
   },
   {
    "duration": 20,
    "start_time": "2023-02-21T06:40:58.621Z"
   },
   {
    "duration": 5,
    "start_time": "2023-02-21T06:40:58.643Z"
   },
   {
    "duration": 12,
    "start_time": "2023-02-21T06:40:58.649Z"
   },
   {
    "duration": 18,
    "start_time": "2023-02-21T06:40:58.663Z"
   },
   {
    "duration": 8,
    "start_time": "2023-02-21T06:40:58.683Z"
   },
   {
    "duration": 47,
    "start_time": "2023-02-21T06:40:58.693Z"
   },
   {
    "duration": 15,
    "start_time": "2023-02-21T06:40:58.742Z"
   },
   {
    "duration": 19,
    "start_time": "2023-02-21T06:40:58.758Z"
   },
   {
    "duration": 7,
    "start_time": "2023-02-21T06:55:46.472Z"
   },
   {
    "duration": 22,
    "start_time": "2023-02-21T06:56:26.438Z"
   },
   {
    "duration": 6,
    "start_time": "2023-02-21T07:22:57.266Z"
   },
   {
    "duration": 6,
    "start_time": "2023-02-21T07:25:59.576Z"
   },
   {
    "duration": 4,
    "start_time": "2023-02-21T07:27:34.733Z"
   },
   {
    "duration": 29,
    "start_time": "2023-02-21T07:28:11.261Z"
   },
   {
    "duration": 226,
    "start_time": "2023-02-21T07:35:19.449Z"
   },
   {
    "duration": 18,
    "start_time": "2023-02-21T07:36:32.439Z"
   },
   {
    "duration": 149,
    "start_time": "2023-02-21T07:37:54.613Z"
   },
   {
    "duration": 222,
    "start_time": "2023-02-21T07:38:07.849Z"
   },
   {
    "duration": 210,
    "start_time": "2023-02-21T07:38:39.019Z"
   },
   {
    "duration": 200,
    "start_time": "2023-02-21T07:41:27.350Z"
   },
   {
    "duration": 205,
    "start_time": "2023-02-21T07:41:43.419Z"
   },
   {
    "duration": 199,
    "start_time": "2023-02-21T07:42:06.343Z"
   },
   {
    "duration": 353,
    "start_time": "2023-02-21T07:43:48.240Z"
   },
   {
    "duration": 12,
    "start_time": "2023-02-21T07:44:36.900Z"
   },
   {
    "duration": 204,
    "start_time": "2023-02-21T07:45:05.052Z"
   },
   {
    "duration": 198,
    "start_time": "2023-02-21T07:45:32.806Z"
   },
   {
    "duration": 7,
    "start_time": "2023-02-21T07:59:43.478Z"
   },
   {
    "duration": 49,
    "start_time": "2023-02-21T08:01:31.027Z"
   },
   {
    "duration": 14,
    "start_time": "2023-02-21T08:01:41.879Z"
   },
   {
    "duration": 46,
    "start_time": "2023-02-21T08:03:01.531Z"
   },
   {
    "duration": 11,
    "start_time": "2023-02-21T08:03:16.500Z"
   },
   {
    "duration": 9,
    "start_time": "2023-02-21T08:03:34.302Z"
   },
   {
    "duration": 144,
    "start_time": "2023-02-21T08:22:19.724Z"
   },
   {
    "duration": 196,
    "start_time": "2023-02-21T08:24:13.736Z"
   },
   {
    "duration": 192,
    "start_time": "2023-02-21T08:24:36.442Z"
   },
   {
    "duration": 183,
    "start_time": "2023-02-21T08:24:48.145Z"
   },
   {
    "duration": 211,
    "start_time": "2023-02-21T08:25:45.665Z"
   },
   {
    "duration": 206,
    "start_time": "2023-02-21T08:26:04.215Z"
   },
   {
    "duration": 265,
    "start_time": "2023-02-21T08:30:28.782Z"
   },
   {
    "duration": 220,
    "start_time": "2023-02-21T08:30:53.632Z"
   },
   {
    "duration": 176,
    "start_time": "2023-02-21T08:31:19.812Z"
   },
   {
    "duration": 147,
    "start_time": "2023-02-21T08:31:41.662Z"
   },
   {
    "duration": 164,
    "start_time": "2023-02-21T08:31:55.050Z"
   },
   {
    "duration": 2,
    "start_time": "2023-02-21T08:32:20.793Z"
   },
   {
    "duration": 211,
    "start_time": "2023-02-21T08:32:30.142Z"
   },
   {
    "duration": 204,
    "start_time": "2023-02-21T08:34:12.091Z"
   },
   {
    "duration": 337,
    "start_time": "2023-02-21T08:50:06.189Z"
   },
   {
    "duration": 164,
    "start_time": "2023-02-21T08:50:10.574Z"
   },
   {
    "duration": 163,
    "start_time": "2023-02-21T08:51:22.533Z"
   },
   {
    "duration": 186,
    "start_time": "2023-02-21T08:53:03.106Z"
   },
   {
    "duration": 210,
    "start_time": "2023-02-21T08:59:17.699Z"
   },
   {
    "duration": 146,
    "start_time": "2023-02-21T08:59:36.064Z"
   },
   {
    "duration": 152,
    "start_time": "2023-02-21T09:01:22.630Z"
   },
   {
    "duration": 151,
    "start_time": "2023-02-21T09:02:28.550Z"
   },
   {
    "duration": 143,
    "start_time": "2023-02-21T09:03:29.311Z"
   },
   {
    "duration": 137,
    "start_time": "2023-02-21T09:04:05.548Z"
   },
   {
    "duration": 7,
    "start_time": "2023-02-21T09:30:45.283Z"
   },
   {
    "duration": 8,
    "start_time": "2023-02-21T09:31:19.698Z"
   },
   {
    "duration": 9,
    "start_time": "2023-02-21T09:33:14.477Z"
   },
   {
    "duration": 9,
    "start_time": "2023-02-21T09:36:35.503Z"
   },
   {
    "duration": 12,
    "start_time": "2023-02-21T09:38:22.297Z"
   },
   {
    "duration": 11,
    "start_time": "2023-02-21T09:38:30.996Z"
   },
   {
    "duration": 13,
    "start_time": "2023-02-21T09:45:57.218Z"
   },
   {
    "duration": 7,
    "start_time": "2023-02-21T09:53:37.776Z"
   },
   {
    "duration": 8,
    "start_time": "2023-02-21T09:59:43.321Z"
   },
   {
    "duration": 11,
    "start_time": "2023-02-21T10:18:03.961Z"
   },
   {
    "duration": 57,
    "start_time": "2023-02-21T10:18:17.204Z"
   },
   {
    "duration": 6,
    "start_time": "2023-02-21T10:18:43.591Z"
   },
   {
    "duration": 8,
    "start_time": "2023-02-21T10:19:23.280Z"
   },
   {
    "duration": 7,
    "start_time": "2023-02-21T10:19:28.749Z"
   },
   {
    "duration": 4,
    "start_time": "2023-02-21T10:23:08.412Z"
   },
   {
    "duration": 51,
    "start_time": "2023-02-21T10:23:28.267Z"
   },
   {
    "duration": 29,
    "start_time": "2023-02-21T10:23:40.288Z"
   },
   {
    "duration": 49,
    "start_time": "2023-02-21T10:26:03.678Z"
   },
   {
    "duration": 10,
    "start_time": "2023-02-21T10:26:03.729Z"
   },
   {
    "duration": 17,
    "start_time": "2023-02-21T10:26:03.740Z"
   },
   {
    "duration": 966,
    "start_time": "2023-02-21T10:26:03.759Z"
   },
   {
    "duration": 26,
    "start_time": "2023-02-21T10:26:04.727Z"
   },
   {
    "duration": 6,
    "start_time": "2023-02-21T10:26:04.755Z"
   },
   {
    "duration": 11,
    "start_time": "2023-02-21T10:26:04.763Z"
   },
   {
    "duration": 22,
    "start_time": "2023-02-21T10:26:04.775Z"
   },
   {
    "duration": 24,
    "start_time": "2023-02-21T10:26:04.799Z"
   },
   {
    "duration": 22,
    "start_time": "2023-02-21T10:26:04.825Z"
   },
   {
    "duration": 32,
    "start_time": "2023-02-21T10:26:04.850Z"
   },
   {
    "duration": 8,
    "start_time": "2023-02-21T10:26:04.884Z"
   },
   {
    "duration": 219,
    "start_time": "2023-02-21T10:26:04.894Z"
   },
   {
    "duration": 10,
    "start_time": "2023-02-21T10:26:05.115Z"
   },
   {
    "duration": 165,
    "start_time": "2023-02-21T10:26:05.127Z"
   },
   {
    "duration": 146,
    "start_time": "2023-02-21T10:26:05.294Z"
   },
   {
    "duration": 152,
    "start_time": "2023-02-21T10:26:05.441Z"
   },
   {
    "duration": 150,
    "start_time": "2023-02-21T10:26:05.595Z"
   },
   {
    "duration": 6,
    "start_time": "2023-02-21T10:26:05.747Z"
   },
   {
    "duration": 20,
    "start_time": "2023-02-21T10:26:05.755Z"
   },
   {
    "duration": 31,
    "start_time": "2023-02-21T10:26:05.776Z"
   },
   {
    "duration": 2431,
    "start_time": "2023-02-21T10:26:05.809Z"
   },
   {
    "duration": 2366,
    "start_time": "2023-02-21T11:13:05.059Z"
   },
   {
    "duration": 150,
    "start_time": "2023-02-21T11:20:23.341Z"
   },
   {
    "duration": 2420,
    "start_time": "2023-02-21T11:21:20.229Z"
   },
   {
    "duration": 22,
    "start_time": "2023-02-21T11:30:39.677Z"
   },
   {
    "duration": 33,
    "start_time": "2023-02-21T11:31:32.672Z"
   },
   {
    "duration": 14,
    "start_time": "2023-02-21T11:46:25.121Z"
   },
   {
    "duration": 37,
    "start_time": "2023-02-21T11:46:48.914Z"
   },
   {
    "duration": 38,
    "start_time": "2023-02-21T11:48:10.190Z"
   },
   {
    "duration": 2476,
    "start_time": "2023-02-21T11:49:58.519Z"
   },
   {
    "duration": 12,
    "start_time": "2023-02-21T11:52:54.990Z"
   },
   {
    "duration": 821,
    "start_time": "2023-02-21T11:53:16.067Z"
   },
   {
    "duration": 17,
    "start_time": "2023-02-21T11:53:50.516Z"
   },
   {
    "duration": 862,
    "start_time": "2023-02-21T11:55:07.565Z"
   },
   {
    "duration": 9,
    "start_time": "2023-02-21T11:55:14.249Z"
   },
   {
    "duration": 46,
    "start_time": "2023-02-21T11:55:55.561Z"
   },
   {
    "duration": 50,
    "start_time": "2023-02-21T11:56:13.495Z"
   },
   {
    "duration": 52,
    "start_time": "2023-02-21T11:56:46.414Z"
   },
   {
    "duration": 14,
    "start_time": "2023-02-21T11:57:19.624Z"
   },
   {
    "duration": 7926,
    "start_time": "2023-02-21T11:57:39.863Z"
   },
   {
    "duration": 309,
    "start_time": "2023-02-21T12:01:47.583Z"
   },
   {
    "duration": 353,
    "start_time": "2023-02-21T12:02:34.116Z"
   },
   {
    "duration": 361,
    "start_time": "2023-02-21T12:02:45.232Z"
   },
   {
    "duration": 371,
    "start_time": "2023-02-21T12:38:28.188Z"
   },
   {
    "duration": 731,
    "start_time": "2023-02-21T12:41:22.147Z"
   },
   {
    "duration": 808,
    "start_time": "2023-02-21T12:41:47.114Z"
   },
   {
    "duration": 732,
    "start_time": "2023-02-21T12:42:31.045Z"
   },
   {
    "duration": 4,
    "start_time": "2023-02-21T12:43:01.574Z"
   },
   {
    "duration": 795,
    "start_time": "2023-02-21T12:43:52.819Z"
   },
   {
    "duration": 769,
    "start_time": "2023-02-21T12:44:34.583Z"
   },
   {
    "duration": 13,
    "start_time": "2023-02-21T12:45:06.337Z"
   },
   {
    "duration": 366,
    "start_time": "2023-02-21T12:45:37.262Z"
   },
   {
    "duration": 732,
    "start_time": "2023-02-21T12:45:49.460Z"
   },
   {
    "duration": 6,
    "start_time": "2023-02-21T12:53:28.421Z"
   },
   {
    "duration": 4,
    "start_time": "2023-02-21T12:57:43.270Z"
   },
   {
    "duration": 17,
    "start_time": "2023-02-21T12:58:04.367Z"
   },
   {
    "duration": 262,
    "start_time": "2023-02-21T12:58:22.466Z"
   },
   {
    "duration": 16,
    "start_time": "2023-02-21T13:01:25.115Z"
   },
   {
    "duration": 3,
    "start_time": "2023-02-21T13:04:56.364Z"
   },
   {
    "duration": 49,
    "start_time": "2023-02-21T13:09:18.218Z"
   },
   {
    "duration": 10,
    "start_time": "2023-02-21T13:09:18.270Z"
   },
   {
    "duration": 17,
    "start_time": "2023-02-21T13:09:18.283Z"
   },
   {
    "duration": 1438,
    "start_time": "2023-02-21T13:09:18.302Z"
   },
   {
    "duration": 17,
    "start_time": "2023-02-21T13:09:19.743Z"
   },
   {
    "duration": 18,
    "start_time": "2023-02-21T13:09:19.762Z"
   },
   {
    "duration": 14,
    "start_time": "2023-02-21T13:09:19.781Z"
   },
   {
    "duration": 13,
    "start_time": "2023-02-21T13:09:19.796Z"
   },
   {
    "duration": 32,
    "start_time": "2023-02-21T13:09:19.810Z"
   },
   {
    "duration": 10,
    "start_time": "2023-02-21T13:09:19.844Z"
   },
   {
    "duration": 26,
    "start_time": "2023-02-21T13:09:19.856Z"
   },
   {
    "duration": 9,
    "start_time": "2023-02-21T13:09:19.884Z"
   },
   {
    "duration": 240,
    "start_time": "2023-02-21T13:09:19.895Z"
   },
   {
    "duration": 11,
    "start_time": "2023-02-21T13:09:20.138Z"
   },
   {
    "duration": 161,
    "start_time": "2023-02-21T13:09:20.151Z"
   },
   {
    "duration": 178,
    "start_time": "2023-02-21T13:09:20.315Z"
   },
   {
    "duration": 150,
    "start_time": "2023-02-21T13:09:20.495Z"
   },
   {
    "duration": 152,
    "start_time": "2023-02-21T13:09:20.647Z"
   },
   {
    "duration": 9,
    "start_time": "2023-02-21T13:09:20.801Z"
   },
   {
    "duration": 20,
    "start_time": "2023-02-21T13:09:20.812Z"
   },
   {
    "duration": 56,
    "start_time": "2023-02-21T13:09:20.839Z"
   },
   {
    "duration": 19,
    "start_time": "2023-02-21T13:09:20.897Z"
   },
   {
    "duration": 286,
    "start_time": "2023-02-21T13:09:20.918Z"
   },
   {
    "duration": 183,
    "start_time": "2023-02-21T13:17:13.549Z"
   },
   {
    "duration": 150,
    "start_time": "2023-02-21T13:17:36.259Z"
   },
   {
    "duration": 160,
    "start_time": "2023-02-21T13:17:56.634Z"
   },
   {
    "duration": 161,
    "start_time": "2023-02-21T13:18:18.221Z"
   },
   {
    "duration": 46,
    "start_time": "2023-02-21T13:18:38.270Z"
   },
   {
    "duration": 10,
    "start_time": "2023-02-21T13:18:38.318Z"
   },
   {
    "duration": 21,
    "start_time": "2023-02-21T13:18:38.329Z"
   },
   {
    "duration": 1061,
    "start_time": "2023-02-21T13:18:38.352Z"
   },
   {
    "duration": 26,
    "start_time": "2023-02-21T13:18:39.416Z"
   },
   {
    "duration": 5,
    "start_time": "2023-02-21T13:18:39.444Z"
   },
   {
    "duration": 6,
    "start_time": "2023-02-21T13:18:39.450Z"
   },
   {
    "duration": 11,
    "start_time": "2023-02-21T13:18:39.457Z"
   },
   {
    "duration": 21,
    "start_time": "2023-02-21T13:18:39.470Z"
   },
   {
    "duration": 9,
    "start_time": "2023-02-21T13:18:39.493Z"
   },
   {
    "duration": 57,
    "start_time": "2023-02-21T13:18:39.503Z"
   },
   {
    "duration": 8,
    "start_time": "2023-02-21T13:18:39.562Z"
   },
   {
    "duration": 231,
    "start_time": "2023-02-21T13:18:39.571Z"
   },
   {
    "duration": 10,
    "start_time": "2023-02-21T13:18:39.805Z"
   },
   {
    "duration": 166,
    "start_time": "2023-02-21T13:18:39.816Z"
   },
   {
    "duration": 142,
    "start_time": "2023-02-21T13:18:39.984Z"
   },
   {
    "duration": 145,
    "start_time": "2023-02-21T13:18:40.140Z"
   },
   {
    "duration": 141,
    "start_time": "2023-02-21T13:18:40.287Z"
   },
   {
    "duration": 16,
    "start_time": "2023-02-21T13:18:40.430Z"
   },
   {
    "duration": 15,
    "start_time": "2023-02-21T13:18:40.448Z"
   },
   {
    "duration": 38,
    "start_time": "2023-02-21T13:18:40.465Z"
   },
   {
    "duration": 36,
    "start_time": "2023-02-21T13:18:40.506Z"
   },
   {
    "duration": 269,
    "start_time": "2023-02-21T13:18:40.544Z"
   },
   {
    "duration": 47,
    "start_time": "2023-02-21T13:19:42.536Z"
   },
   {
    "duration": 11,
    "start_time": "2023-02-21T13:19:42.585Z"
   },
   {
    "duration": 22,
    "start_time": "2023-02-21T13:19:42.598Z"
   },
   {
    "duration": 1236,
    "start_time": "2023-02-21T13:19:42.622Z"
   },
   {
    "duration": 17,
    "start_time": "2023-02-21T13:19:43.861Z"
   },
   {
    "duration": 4,
    "start_time": "2023-02-21T13:19:43.880Z"
   },
   {
    "duration": 14,
    "start_time": "2023-02-21T13:19:43.887Z"
   },
   {
    "duration": 15,
    "start_time": "2023-02-21T13:19:43.903Z"
   },
   {
    "duration": 41,
    "start_time": "2023-02-21T13:19:43.920Z"
   },
   {
    "duration": 9,
    "start_time": "2023-02-21T13:19:43.963Z"
   },
   {
    "duration": 27,
    "start_time": "2023-02-21T13:19:43.974Z"
   },
   {
    "duration": 9,
    "start_time": "2023-02-21T13:19:44.003Z"
   },
   {
    "duration": 207,
    "start_time": "2023-02-21T13:19:44.039Z"
   },
   {
    "duration": 8,
    "start_time": "2023-02-21T13:19:44.249Z"
   },
   {
    "duration": 157,
    "start_time": "2023-02-21T13:19:44.259Z"
   },
   {
    "duration": 150,
    "start_time": "2023-02-21T13:19:44.418Z"
   },
   {
    "duration": 152,
    "start_time": "2023-02-21T13:19:44.569Z"
   },
   {
    "duration": 145,
    "start_time": "2023-02-21T13:19:44.724Z"
   },
   {
    "duration": 7,
    "start_time": "2023-02-21T13:19:44.870Z"
   },
   {
    "duration": 9,
    "start_time": "2023-02-21T13:19:44.879Z"
   },
   {
    "duration": 52,
    "start_time": "2023-02-21T13:19:44.889Z"
   },
   {
    "duration": 19,
    "start_time": "2023-02-21T13:19:44.942Z"
   },
   {
    "duration": 280,
    "start_time": "2023-02-21T13:19:44.963Z"
   },
   {
    "duration": 133,
    "start_time": "2023-02-21T13:22:02.964Z"
   },
   {
    "duration": 130,
    "start_time": "2023-02-21T13:22:49.428Z"
   },
   {
    "duration": 139,
    "start_time": "2023-02-21T13:25:13.214Z"
   },
   {
    "duration": 143,
    "start_time": "2023-02-21T13:32:45.583Z"
   },
   {
    "duration": 153,
    "start_time": "2023-02-21T13:33:28.058Z"
   },
   {
    "duration": 147,
    "start_time": "2023-02-21T13:35:15.834Z"
   },
   {
    "duration": 49,
    "start_time": "2023-02-21T13:35:47.009Z"
   },
   {
    "duration": 11,
    "start_time": "2023-02-21T13:35:47.060Z"
   },
   {
    "duration": 25,
    "start_time": "2023-02-21T13:35:47.073Z"
   },
   {
    "duration": 968,
    "start_time": "2023-02-21T13:35:47.100Z"
   },
   {
    "duration": 16,
    "start_time": "2023-02-21T13:35:48.071Z"
   },
   {
    "duration": 4,
    "start_time": "2023-02-21T13:35:48.089Z"
   },
   {
    "duration": 5,
    "start_time": "2023-02-21T13:35:48.095Z"
   },
   {
    "duration": 10,
    "start_time": "2023-02-21T13:35:48.102Z"
   },
   {
    "duration": 23,
    "start_time": "2023-02-21T13:35:48.140Z"
   },
   {
    "duration": 9,
    "start_time": "2023-02-21T13:35:48.165Z"
   },
   {
    "duration": 31,
    "start_time": "2023-02-21T13:35:48.176Z"
   },
   {
    "duration": 7,
    "start_time": "2023-02-21T13:35:48.209Z"
   },
   {
    "duration": 183,
    "start_time": "2023-02-21T13:35:48.218Z"
   },
   {
    "duration": 9,
    "start_time": "2023-02-21T13:35:48.404Z"
   },
   {
    "duration": 154,
    "start_time": "2023-02-21T13:35:48.415Z"
   },
   {
    "duration": 163,
    "start_time": "2023-02-21T13:35:48.571Z"
   },
   {
    "duration": 156,
    "start_time": "2023-02-21T13:35:48.740Z"
   },
   {
    "duration": 174,
    "start_time": "2023-02-21T13:35:48.898Z"
   },
   {
    "duration": 8,
    "start_time": "2023-02-21T13:35:49.074Z"
   },
   {
    "duration": 18,
    "start_time": "2023-02-21T13:35:49.084Z"
   },
   {
    "duration": 63,
    "start_time": "2023-02-21T13:35:49.105Z"
   },
   {
    "duration": 24,
    "start_time": "2023-02-21T13:35:49.170Z"
   },
   {
    "duration": 286,
    "start_time": "2023-02-21T13:35:49.197Z"
   },
   {
    "duration": 47,
    "start_time": "2023-02-21T13:44:21.263Z"
   },
   {
    "duration": 11,
    "start_time": "2023-02-21T13:44:21.313Z"
   },
   {
    "duration": 24,
    "start_time": "2023-02-21T13:44:21.326Z"
   },
   {
    "duration": 980,
    "start_time": "2023-02-21T13:44:21.352Z"
   },
   {
    "duration": 16,
    "start_time": "2023-02-21T13:44:22.334Z"
   },
   {
    "duration": 5,
    "start_time": "2023-02-21T13:44:22.352Z"
   },
   {
    "duration": 7,
    "start_time": "2023-02-21T13:44:22.358Z"
   },
   {
    "duration": 12,
    "start_time": "2023-02-21T13:44:22.366Z"
   },
   {
    "duration": 39,
    "start_time": "2023-02-21T13:44:22.380Z"
   },
   {
    "duration": 22,
    "start_time": "2023-02-21T13:44:22.422Z"
   },
   {
    "duration": 28,
    "start_time": "2023-02-21T13:44:22.446Z"
   },
   {
    "duration": 8,
    "start_time": "2023-02-21T13:44:22.476Z"
   },
   {
    "duration": 177,
    "start_time": "2023-02-21T13:44:22.486Z"
   },
   {
    "duration": 8,
    "start_time": "2023-02-21T13:44:22.665Z"
   },
   {
    "duration": 145,
    "start_time": "2023-02-21T13:44:22.674Z"
   },
   {
    "duration": 161,
    "start_time": "2023-02-21T13:44:22.821Z"
   },
   {
    "duration": 470,
    "start_time": "2023-02-21T13:44:22.984Z"
   },
   {
    "duration": 154,
    "start_time": "2023-02-21T13:44:23.456Z"
   },
   {
    "duration": 8,
    "start_time": "2023-02-21T13:44:23.612Z"
   },
   {
    "duration": 24,
    "start_time": "2023-02-21T13:44:23.622Z"
   },
   {
    "duration": 40,
    "start_time": "2023-02-21T13:44:23.648Z"
   },
   {
    "duration": 19,
    "start_time": "2023-02-21T13:44:23.689Z"
   },
   {
    "duration": 286,
    "start_time": "2023-02-21T13:44:23.709Z"
   },
   {
    "duration": 70,
    "start_time": "2023-02-21T13:52:35.959Z"
   },
   {
    "duration": 15,
    "start_time": "2023-02-21T13:52:36.033Z"
   },
   {
    "duration": 23,
    "start_time": "2023-02-21T13:52:36.050Z"
   },
   {
    "duration": 1034,
    "start_time": "2023-02-21T13:52:36.075Z"
   },
   {
    "duration": 34,
    "start_time": "2023-02-21T13:52:37.111Z"
   },
   {
    "duration": 5,
    "start_time": "2023-02-21T13:52:37.147Z"
   },
   {
    "duration": 16,
    "start_time": "2023-02-21T13:52:37.154Z"
   },
   {
    "duration": 15,
    "start_time": "2023-02-21T13:52:37.172Z"
   },
   {
    "duration": 27,
    "start_time": "2023-02-21T13:52:37.189Z"
   },
   {
    "duration": 25,
    "start_time": "2023-02-21T13:52:37.219Z"
   },
   {
    "duration": 32,
    "start_time": "2023-02-21T13:52:37.246Z"
   },
   {
    "duration": 10,
    "start_time": "2023-02-21T13:52:37.280Z"
   },
   {
    "duration": 197,
    "start_time": "2023-02-21T13:52:37.292Z"
   },
   {
    "duration": 10,
    "start_time": "2023-02-21T13:52:37.491Z"
   },
   {
    "duration": 170,
    "start_time": "2023-02-21T13:52:37.503Z"
   },
   {
    "duration": 167,
    "start_time": "2023-02-21T13:52:37.675Z"
   },
   {
    "duration": 214,
    "start_time": "2023-02-21T13:52:37.844Z"
   },
   {
    "duration": 143,
    "start_time": "2023-02-21T13:52:38.061Z"
   },
   {
    "duration": 8,
    "start_time": "2023-02-21T13:52:38.206Z"
   },
   {
    "duration": 27,
    "start_time": "2023-02-21T13:52:38.216Z"
   },
   {
    "duration": 39,
    "start_time": "2023-02-21T13:52:38.245Z"
   },
   {
    "duration": 19,
    "start_time": "2023-02-21T13:52:38.285Z"
   },
   {
    "duration": 279,
    "start_time": "2023-02-21T13:52:38.306Z"
   },
   {
    "duration": 61,
    "start_time": "2023-02-22T10:21:44.013Z"
   },
   {
    "duration": 593,
    "start_time": "2023-02-22T10:21:49.974Z"
   },
   {
    "duration": 13,
    "start_time": "2023-02-22T10:21:50.569Z"
   },
   {
    "duration": 29,
    "start_time": "2023-02-22T10:21:50.584Z"
   },
   {
    "duration": 1558,
    "start_time": "2023-02-22T10:21:50.615Z"
   },
   {
    "duration": 25,
    "start_time": "2023-02-22T10:21:52.176Z"
   },
   {
    "duration": 6,
    "start_time": "2023-02-22T10:21:52.203Z"
   },
   {
    "duration": 27,
    "start_time": "2023-02-22T10:21:52.211Z"
   },
   {
    "duration": 26,
    "start_time": "2023-02-22T10:21:52.240Z"
   },
   {
    "duration": 30,
    "start_time": "2023-02-22T10:21:52.268Z"
   },
   {
    "duration": 11,
    "start_time": "2023-02-22T10:21:52.300Z"
   },
   {
    "duration": 36,
    "start_time": "2023-02-22T10:21:52.313Z"
   },
   {
    "duration": 10,
    "start_time": "2023-02-22T10:21:52.351Z"
   },
   {
    "duration": 244,
    "start_time": "2023-02-22T10:21:52.363Z"
   },
   {
    "duration": 11,
    "start_time": "2023-02-22T10:21:52.611Z"
   },
   {
    "duration": 161,
    "start_time": "2023-02-22T10:21:52.636Z"
   },
   {
    "duration": 160,
    "start_time": "2023-02-22T10:21:52.799Z"
   },
   {
    "duration": 158,
    "start_time": "2023-02-22T10:21:52.960Z"
   },
   {
    "duration": 160,
    "start_time": "2023-02-22T10:21:53.120Z"
   },
   {
    "duration": 8,
    "start_time": "2023-02-22T10:21:53.282Z"
   },
   {
    "duration": 69,
    "start_time": "2023-02-22T10:21:53.291Z"
   },
   {
    "duration": 68,
    "start_time": "2023-02-22T10:21:53.362Z"
   },
   {
    "duration": 19,
    "start_time": "2023-02-22T10:21:53.433Z"
   },
   {
    "duration": 329,
    "start_time": "2023-02-22T10:21:53.454Z"
   },
   {
    "duration": 72,
    "start_time": "2023-02-22T10:21:53.786Z"
   },
   {
    "duration": 17,
    "start_time": "2023-02-22T10:23:01.786Z"
   },
   {
    "duration": 117,
    "start_time": "2023-02-22T10:24:12.850Z"
   },
   {
    "duration": 151,
    "start_time": "2023-02-22T10:27:08.029Z"
   },
   {
    "duration": 168,
    "start_time": "2023-02-22T10:29:21.824Z"
   },
   {
    "duration": 164,
    "start_time": "2023-02-22T10:31:30.241Z"
   },
   {
    "duration": 312,
    "start_time": "2023-02-22T10:51:04.302Z"
   },
   {
    "duration": 16,
    "start_time": "2023-02-22T11:31:05.526Z"
   },
   {
    "duration": 12,
    "start_time": "2023-02-22T11:31:58.524Z"
   },
   {
    "duration": 365,
    "start_time": "2023-02-22T11:32:13.574Z"
   },
   {
    "duration": 2480,
    "start_time": "2023-02-22T11:33:14.626Z"
   },
   {
    "duration": 14,
    "start_time": "2023-02-22T11:33:51.266Z"
   },
   {
    "duration": 79,
    "start_time": "2023-02-22T11:34:54.070Z"
   },
   {
    "duration": 2533,
    "start_time": "2023-02-22T11:35:01.053Z"
   },
   {
    "duration": 167,
    "start_time": "2023-02-22T11:35:45.428Z"
   },
   {
    "duration": 23,
    "start_time": "2023-02-22T11:44:45.649Z"
   },
   {
    "duration": 173,
    "start_time": "2023-02-22T11:45:21.831Z"
   },
   {
    "duration": 461,
    "start_time": "2023-02-22T11:46:06.281Z"
   },
   {
    "duration": 16,
    "start_time": "2023-02-22T11:47:09.563Z"
   },
   {
    "duration": 30,
    "start_time": "2023-02-22T11:48:19.334Z"
   },
   {
    "duration": 10,
    "start_time": "2023-02-22T11:48:43.030Z"
   },
   {
    "duration": 14,
    "start_time": "2023-02-22T11:48:57.215Z"
   },
   {
    "duration": 15,
    "start_time": "2023-02-22T11:49:44.319Z"
   },
   {
    "duration": 23,
    "start_time": "2023-02-22T11:49:57.019Z"
   },
   {
    "duration": 158,
    "start_time": "2023-02-22T11:51:49.511Z"
   },
   {
    "duration": 146,
    "start_time": "2023-02-22T11:52:16.271Z"
   },
   {
    "duration": 132,
    "start_time": "2023-02-22T11:53:13.591Z"
   },
   {
    "duration": 327,
    "start_time": "2023-02-22T11:53:37.817Z"
   },
   {
    "duration": 215,
    "start_time": "2023-02-22T11:55:52.518Z"
   },
   {
    "duration": 168,
    "start_time": "2023-02-22T11:58:27.986Z"
   },
   {
    "duration": 160,
    "start_time": "2023-02-22T11:58:57.271Z"
   },
   {
    "duration": 165,
    "start_time": "2023-02-22T11:59:24.079Z"
   },
   {
    "duration": 280,
    "start_time": "2023-02-22T11:59:30.621Z"
   },
   {
    "duration": 229,
    "start_time": "2023-02-22T11:59:36.862Z"
   },
   {
    "duration": 282,
    "start_time": "2023-02-22T12:00:27.469Z"
   },
   {
    "duration": 168,
    "start_time": "2023-02-22T12:00:45.074Z"
   },
   {
    "duration": 211,
    "start_time": "2023-02-22T12:01:07.421Z"
   },
   {
    "duration": 234,
    "start_time": "2023-02-22T12:01:41.335Z"
   },
   {
    "duration": 203,
    "start_time": "2023-02-22T12:06:23.933Z"
   },
   {
    "duration": 200,
    "start_time": "2023-02-22T12:06:39.317Z"
   },
   {
    "duration": 188,
    "start_time": "2023-02-22T12:06:45.969Z"
   },
   {
    "duration": 191,
    "start_time": "2023-02-22T12:06:53.028Z"
   },
   {
    "duration": 298,
    "start_time": "2023-02-22T12:07:40.367Z"
   },
   {
    "duration": 203,
    "start_time": "2023-02-22T12:08:01.206Z"
   },
   {
    "duration": 194,
    "start_time": "2023-02-22T12:08:46.525Z"
   },
   {
    "duration": 205,
    "start_time": "2023-02-22T12:08:55.321Z"
   },
   {
    "duration": 208,
    "start_time": "2023-02-22T12:16:38.830Z"
   },
   {
    "duration": 189,
    "start_time": "2023-02-22T12:16:55.118Z"
   },
   {
    "duration": 22,
    "start_time": "2023-02-22T12:24:09.266Z"
   },
   {
    "duration": 16,
    "start_time": "2023-02-22T12:24:59.107Z"
   },
   {
    "duration": 16,
    "start_time": "2023-02-22T12:25:36.990Z"
   },
   {
    "duration": 317,
    "start_time": "2023-02-22T12:26:11.774Z"
   },
   {
    "duration": 69,
    "start_time": "2023-02-22T12:28:11.918Z"
   },
   {
    "duration": 13,
    "start_time": "2023-02-22T12:28:17.532Z"
   },
   {
    "duration": 90,
    "start_time": "2023-02-22T12:28:47.507Z"
   },
   {
    "duration": 472,
    "start_time": "2023-02-22T12:28:53.393Z"
   },
   {
    "duration": 826,
    "start_time": "2023-02-22T12:29:34.981Z"
   },
   {
    "duration": 22,
    "start_time": "2023-02-22T12:32:07.859Z"
   },
   {
    "duration": 10,
    "start_time": "2023-02-22T12:33:05.235Z"
   },
   {
    "duration": 9,
    "start_time": "2023-02-22T12:42:26.708Z"
   },
   {
    "duration": 158,
    "start_time": "2023-02-22T12:59:04.715Z"
   },
   {
    "duration": 169,
    "start_time": "2023-02-22T13:00:22.861Z"
   },
   {
    "duration": 11,
    "start_time": "2023-02-22T13:01:53.595Z"
   },
   {
    "duration": 8,
    "start_time": "2023-02-22T13:02:09.879Z"
   },
   {
    "duration": 359,
    "start_time": "2023-02-22T13:04:39.457Z"
   },
   {
    "duration": 412,
    "start_time": "2023-02-22T13:05:35.826Z"
   },
   {
    "duration": 414,
    "start_time": "2023-02-22T13:07:12.453Z"
   },
   {
    "duration": 393,
    "start_time": "2023-02-22T13:07:41.632Z"
   },
   {
    "duration": 349,
    "start_time": "2023-02-22T13:08:40.213Z"
   },
   {
    "duration": 1426,
    "start_time": "2023-02-22T13:10:17.537Z"
   },
   {
    "duration": 384,
    "start_time": "2023-02-22T13:12:15.047Z"
   },
   {
    "duration": 400,
    "start_time": "2023-02-22T13:15:26.780Z"
   },
   {
    "duration": 1227,
    "start_time": "2023-02-22T13:15:39.381Z"
   },
   {
    "duration": 524,
    "start_time": "2023-02-22T13:15:51.542Z"
   },
   {
    "duration": 71,
    "start_time": "2023-02-22T13:18:10.658Z"
   },
   {
    "duration": 415,
    "start_time": "2023-02-22T13:22:36.215Z"
   },
   {
    "duration": 418,
    "start_time": "2023-02-22T13:23:09.746Z"
   },
   {
    "duration": 429,
    "start_time": "2023-02-22T13:23:40.887Z"
   },
   {
    "duration": 524,
    "start_time": "2023-02-22T13:24:06.162Z"
   },
   {
    "duration": 384,
    "start_time": "2023-02-22T13:24:34.820Z"
   },
   {
    "duration": 501,
    "start_time": "2023-02-25T17:08:50.701Z"
   },
   {
    "duration": 10,
    "start_time": "2023-02-25T17:08:51.204Z"
   },
   {
    "duration": 25,
    "start_time": "2023-02-25T17:08:51.216Z"
   },
   {
    "duration": 1398,
    "start_time": "2023-02-25T17:08:51.245Z"
   },
   {
    "duration": 16,
    "start_time": "2023-02-25T17:08:52.644Z"
   },
   {
    "duration": 5,
    "start_time": "2023-02-25T17:08:52.662Z"
   },
   {
    "duration": 5,
    "start_time": "2023-02-25T17:08:52.668Z"
   },
   {
    "duration": 32,
    "start_time": "2023-02-25T17:08:52.675Z"
   },
   {
    "duration": 20,
    "start_time": "2023-02-25T17:08:52.708Z"
   },
   {
    "duration": 9,
    "start_time": "2023-02-25T17:08:52.731Z"
   },
   {
    "duration": 27,
    "start_time": "2023-02-25T17:08:52.741Z"
   },
   {
    "duration": 35,
    "start_time": "2023-02-25T17:08:52.769Z"
   },
   {
    "duration": 167,
    "start_time": "2023-02-25T17:08:52.806Z"
   },
   {
    "duration": 12,
    "start_time": "2023-02-25T17:08:52.975Z"
   },
   {
    "duration": 149,
    "start_time": "2023-02-25T17:08:53.004Z"
   },
   {
    "duration": 171,
    "start_time": "2023-02-25T17:08:53.155Z"
   },
   {
    "duration": 161,
    "start_time": "2023-02-25T17:08:53.328Z"
   },
   {
    "duration": 170,
    "start_time": "2023-02-25T17:08:53.492Z"
   },
   {
    "duration": 7,
    "start_time": "2023-02-25T17:08:53.663Z"
   },
   {
    "duration": 11,
    "start_time": "2023-02-25T17:08:53.673Z"
   },
   {
    "duration": 50,
    "start_time": "2023-02-25T17:08:53.686Z"
   },
   {
    "duration": 20,
    "start_time": "2023-02-25T17:08:53.738Z"
   },
   {
    "duration": 293,
    "start_time": "2023-02-25T17:08:53.760Z"
   },
   {
    "duration": 234,
    "start_time": "2023-02-25T17:08:54.055Z"
   },
   {
    "duration": 750,
    "start_time": "2023-02-25T17:08:54.291Z"
   },
   {
    "duration": 9,
    "start_time": "2023-02-25T17:08:55.043Z"
   },
   {
    "duration": 10,
    "start_time": "2023-02-25T17:08:55.053Z"
   },
   {
    "duration": 383,
    "start_time": "2023-02-25T17:08:55.067Z"
   },
   {
    "duration": 350,
    "start_time": "2023-02-25T17:08:55.453Z"
   },
   {
    "duration": 99,
    "start_time": "2023-02-25T17:08:55.805Z"
   },
   {
    "duration": 6,
    "start_time": "2023-02-25T17:09:57.138Z"
   },
   {
    "duration": 12,
    "start_time": "2023-02-25T17:10:54.503Z"
   },
   {
    "duration": 7,
    "start_time": "2023-02-25T17:11:57.133Z"
   },
   {
    "duration": 7,
    "start_time": "2023-02-25T17:12:17.953Z"
   },
   {
    "duration": 8,
    "start_time": "2023-02-25T17:12:46.856Z"
   },
   {
    "duration": 8,
    "start_time": "2023-02-25T17:13:48.888Z"
   },
   {
    "duration": 7,
    "start_time": "2023-02-25T17:14:17.494Z"
   },
   {
    "duration": 7,
    "start_time": "2023-02-25T17:15:10.378Z"
   },
   {
    "duration": 6,
    "start_time": "2023-02-25T17:25:41.688Z"
   },
   {
    "duration": 6,
    "start_time": "2023-02-25T17:26:35.578Z"
   },
   {
    "duration": 6,
    "start_time": "2023-02-25T17:26:50.956Z"
   },
   {
    "duration": 46,
    "start_time": "2023-02-25T17:30:54.525Z"
   },
   {
    "duration": 12,
    "start_time": "2023-02-25T17:31:03.442Z"
   },
   {
    "duration": 6,
    "start_time": "2023-02-25T17:32:45.535Z"
   },
   {
    "duration": 21,
    "start_time": "2023-02-25T17:41:24.027Z"
   },
   {
    "duration": 18,
    "start_time": "2023-02-25T17:42:31.196Z"
   },
   {
    "duration": 20,
    "start_time": "2023-02-25T17:49:04.830Z"
   },
   {
    "duration": 242,
    "start_time": "2023-02-25T17:54:31.911Z"
   },
   {
    "duration": 207,
    "start_time": "2023-02-25T17:55:04.857Z"
   },
   {
    "duration": 44,
    "start_time": "2023-02-25T18:03:26.817Z"
   },
   {
    "duration": 9,
    "start_time": "2023-02-25T18:03:26.863Z"
   },
   {
    "duration": 15,
    "start_time": "2023-02-25T18:03:26.874Z"
   },
   {
    "duration": 919,
    "start_time": "2023-02-25T18:03:26.891Z"
   },
   {
    "duration": 16,
    "start_time": "2023-02-25T18:03:27.812Z"
   },
   {
    "duration": 4,
    "start_time": "2023-02-25T18:03:27.830Z"
   },
   {
    "duration": 6,
    "start_time": "2023-02-25T18:03:27.836Z"
   },
   {
    "duration": 9,
    "start_time": "2023-02-25T18:03:27.844Z"
   },
   {
    "duration": 48,
    "start_time": "2023-02-25T18:03:27.855Z"
   },
   {
    "duration": 10,
    "start_time": "2023-02-25T18:03:27.905Z"
   },
   {
    "duration": 23,
    "start_time": "2023-02-25T18:03:27.917Z"
   },
   {
    "duration": 9,
    "start_time": "2023-02-25T18:03:27.942Z"
   },
   {
    "duration": 190,
    "start_time": "2023-02-25T18:03:27.953Z"
   },
   {
    "duration": 8,
    "start_time": "2023-02-25T18:03:28.146Z"
   },
   {
    "duration": 219,
    "start_time": "2023-02-25T18:03:28.156Z"
   },
   {
    "duration": 144,
    "start_time": "2023-02-25T18:03:28.376Z"
   },
   {
    "duration": 148,
    "start_time": "2023-02-25T18:03:28.521Z"
   },
   {
    "duration": 123,
    "start_time": "2023-02-25T18:03:28.670Z"
   },
   {
    "duration": 13,
    "start_time": "2023-02-25T18:03:28.794Z"
   },
   {
    "duration": 12,
    "start_time": "2023-02-25T18:03:28.809Z"
   },
   {
    "duration": 48,
    "start_time": "2023-02-25T18:03:28.822Z"
   },
   {
    "duration": 18,
    "start_time": "2023-02-25T18:03:28.872Z"
   },
   {
    "duration": 264,
    "start_time": "2023-02-25T18:03:28.891Z"
   },
   {
    "duration": 202,
    "start_time": "2023-02-25T18:03:29.156Z"
   },
   {
    "duration": 627,
    "start_time": "2023-02-25T18:03:29.360Z"
   },
   {
    "duration": 20,
    "start_time": "2023-02-25T18:03:29.989Z"
   },
   {
    "duration": 12,
    "start_time": "2023-02-25T18:03:30.011Z"
   },
   {
    "duration": 352,
    "start_time": "2023-02-25T18:03:30.025Z"
   },
   {
    "duration": 356,
    "start_time": "2023-02-25T18:03:30.379Z"
   },
   {
    "duration": 6,
    "start_time": "2023-02-25T18:03:30.737Z"
   },
   {
    "duration": 25,
    "start_time": "2023-02-25T18:03:30.745Z"
   },
   {
    "duration": 32,
    "start_time": "2023-02-25T18:03:30.772Z"
   },
   {
    "duration": 52,
    "start_time": "2023-02-25T18:03:30.806Z"
   },
   {
    "duration": 43,
    "start_time": "2023-02-25T18:03:30.859Z"
   },
   {
    "duration": 34,
    "start_time": "2023-02-25T18:03:30.904Z"
   },
   {
    "duration": 410,
    "start_time": "2023-02-25T18:03:30.940Z"
   },
   {
    "duration": 44,
    "start_time": "2023-02-25T19:57:36.344Z"
   },
   {
    "duration": 646,
    "start_time": "2023-02-25T19:59:10.744Z"
   },
   {
    "duration": 7,
    "start_time": "2023-02-25T20:00:12.908Z"
   },
   {
    "duration": 283,
    "start_time": "2023-02-25T20:00:19.338Z"
   },
   {
    "duration": 11,
    "start_time": "2023-02-25T20:00:19.623Z"
   },
   {
    "duration": 14,
    "start_time": "2023-02-25T20:00:19.636Z"
   },
   {
    "duration": 1215,
    "start_time": "2023-02-25T20:00:19.651Z"
   },
   {
    "duration": 15,
    "start_time": "2023-02-25T20:00:20.868Z"
   },
   {
    "duration": 4,
    "start_time": "2023-02-25T20:00:20.884Z"
   },
   {
    "duration": 6,
    "start_time": "2023-02-25T20:00:20.889Z"
   },
   {
    "duration": 10,
    "start_time": "2023-02-25T20:00:20.896Z"
   },
   {
    "duration": 34,
    "start_time": "2023-02-25T20:00:20.907Z"
   },
   {
    "duration": 7,
    "start_time": "2023-02-25T20:00:20.942Z"
   },
   {
    "duration": 23,
    "start_time": "2023-02-25T20:00:20.950Z"
   },
   {
    "duration": 6,
    "start_time": "2023-02-25T20:00:20.975Z"
   },
   {
    "duration": 161,
    "start_time": "2023-02-25T20:00:20.983Z"
   },
   {
    "duration": 8,
    "start_time": "2023-02-25T20:00:21.147Z"
   },
   {
    "duration": 131,
    "start_time": "2023-02-25T20:00:21.157Z"
   },
   {
    "duration": 138,
    "start_time": "2023-02-25T20:00:21.290Z"
   },
   {
    "duration": 148,
    "start_time": "2023-02-25T20:00:21.430Z"
   },
   {
    "duration": 184,
    "start_time": "2023-02-25T20:00:21.580Z"
   },
   {
    "duration": 6,
    "start_time": "2023-02-25T20:00:21.766Z"
   },
   {
    "duration": 10,
    "start_time": "2023-02-25T20:00:21.773Z"
   },
   {
    "duration": 33,
    "start_time": "2023-02-25T20:00:21.784Z"
   },
   {
    "duration": 31,
    "start_time": "2023-02-25T20:00:21.819Z"
   },
   {
    "duration": 265,
    "start_time": "2023-02-25T20:00:21.851Z"
   },
   {
    "duration": 167,
    "start_time": "2023-02-25T20:00:22.118Z"
   },
   {
    "duration": 670,
    "start_time": "2023-02-25T20:00:22.286Z"
   },
   {
    "duration": 9,
    "start_time": "2023-02-25T20:00:22.957Z"
   },
   {
    "duration": 9,
    "start_time": "2023-02-25T20:00:22.967Z"
   },
   {
    "duration": 314,
    "start_time": "2023-02-25T20:00:22.977Z"
   },
   {
    "duration": 332,
    "start_time": "2023-02-25T20:00:23.293Z"
   },
   {
    "duration": 10,
    "start_time": "2023-02-25T20:00:23.627Z"
   },
   {
    "duration": 10,
    "start_time": "2023-02-25T20:00:23.638Z"
   },
   {
    "duration": 7,
    "start_time": "2023-02-25T20:00:23.649Z"
   },
   {
    "duration": 8,
    "start_time": "2023-02-25T20:00:23.658Z"
   },
   {
    "duration": 6,
    "start_time": "2023-02-25T20:00:23.667Z"
   },
   {
    "duration": 10,
    "start_time": "2023-02-25T20:00:23.675Z"
   },
   {
    "duration": 219,
    "start_time": "2023-02-25T20:00:23.687Z"
   },
   {
    "duration": 740,
    "start_time": "2023-02-25T20:00:23.908Z"
   },
   {
    "duration": 9,
    "start_time": "2023-02-25T20:01:58.445Z"
   },
   {
    "duration": 7,
    "start_time": "2023-02-25T20:02:32.266Z"
   },
   {
    "duration": 6,
    "start_time": "2023-02-25T20:02:47.208Z"
   },
   {
    "duration": 5,
    "start_time": "2023-02-25T20:04:53.833Z"
   },
   {
    "duration": 6,
    "start_time": "2023-02-25T20:05:11.866Z"
   },
   {
    "duration": 6,
    "start_time": "2023-02-25T20:08:19.929Z"
   },
   {
    "duration": 6,
    "start_time": "2023-02-25T20:10:05.736Z"
   },
   {
    "duration": 7,
    "start_time": "2023-02-25T20:10:18.872Z"
   },
   {
    "duration": 10,
    "start_time": "2023-02-25T20:10:40.504Z"
   },
   {
    "duration": 8,
    "start_time": "2023-02-25T20:10:41.931Z"
   },
   {
    "duration": 8,
    "start_time": "2023-02-25T20:11:00.672Z"
   },
   {
    "duration": 10,
    "start_time": "2023-02-25T20:11:52.611Z"
   },
   {
    "duration": 12,
    "start_time": "2023-02-25T20:12:08.425Z"
   },
   {
    "duration": 6,
    "start_time": "2023-02-25T20:16:45.323Z"
   },
   {
    "duration": 6,
    "start_time": "2023-02-25T20:16:59.854Z"
   },
   {
    "duration": 10,
    "start_time": "2023-02-25T20:18:23.379Z"
   },
   {
    "duration": 46,
    "start_time": "2023-02-25T20:27:29.602Z"
   },
   {
    "duration": 10,
    "start_time": "2023-02-25T20:27:42.091Z"
   },
   {
    "duration": 40,
    "start_time": "2023-02-25T20:37:42.061Z"
   },
   {
    "duration": 60,
    "start_time": "2023-02-25T20:41:57.159Z"
   },
   {
    "duration": 11,
    "start_time": "2023-02-25T20:43:51.223Z"
   },
   {
    "duration": 12,
    "start_time": "2023-02-25T20:44:41.102Z"
   },
   {
    "duration": 42,
    "start_time": "2023-02-25T20:55:27.987Z"
   },
   {
    "duration": 11,
    "start_time": "2023-02-25T20:56:51.473Z"
   },
   {
    "duration": 12,
    "start_time": "2023-02-25T20:59:22.393Z"
   },
   {
    "duration": 11,
    "start_time": "2023-02-25T21:03:46.385Z"
   },
   {
    "duration": 493,
    "start_time": "2023-02-26T09:08:25.142Z"
   },
   {
    "duration": 11,
    "start_time": "2023-02-26T09:08:25.638Z"
   },
   {
    "duration": 483,
    "start_time": "2023-02-26T09:17:07.395Z"
   },
   {
    "duration": 12,
    "start_time": "2023-02-26T09:17:07.880Z"
   },
   {
    "duration": 18,
    "start_time": "2023-02-26T09:17:07.894Z"
   },
   {
    "duration": 1194,
    "start_time": "2023-02-26T09:17:07.915Z"
   },
   {
    "duration": 18,
    "start_time": "2023-02-26T09:17:09.111Z"
   },
   {
    "duration": 22,
    "start_time": "2023-02-26T09:17:09.131Z"
   },
   {
    "duration": 3,
    "start_time": "2023-02-26T09:17:09.155Z"
   },
   {
    "duration": 9,
    "start_time": "2023-02-26T09:17:09.159Z"
   },
   {
    "duration": 91,
    "start_time": "2023-02-26T09:17:09.170Z"
   },
   {
    "duration": 8,
    "start_time": "2023-02-26T09:17:09.263Z"
   },
   {
    "duration": 20,
    "start_time": "2023-02-26T09:17:09.273Z"
   },
   {
    "duration": 7,
    "start_time": "2023-02-26T09:17:09.295Z"
   },
   {
    "duration": 164,
    "start_time": "2023-02-26T09:17:09.304Z"
   },
   {
    "duration": 9,
    "start_time": "2023-02-26T09:17:09.470Z"
   },
   {
    "duration": 164,
    "start_time": "2023-02-26T09:17:09.481Z"
   },
   {
    "duration": 159,
    "start_time": "2023-02-26T09:17:09.652Z"
   },
   {
    "duration": 157,
    "start_time": "2023-02-26T09:17:09.814Z"
   },
   {
    "duration": 142,
    "start_time": "2023-02-26T09:17:09.973Z"
   },
   {
    "duration": 6,
    "start_time": "2023-02-26T09:17:10.117Z"
   },
   {
    "duration": 8,
    "start_time": "2023-02-26T09:17:10.124Z"
   },
   {
    "duration": 49,
    "start_time": "2023-02-26T09:17:10.134Z"
   },
   {
    "duration": 17,
    "start_time": "2023-02-26T09:17:10.185Z"
   },
   {
    "duration": 266,
    "start_time": "2023-02-26T09:17:10.204Z"
   },
   {
    "duration": 185,
    "start_time": "2023-02-26T09:17:10.472Z"
   },
   {
    "duration": 646,
    "start_time": "2023-02-26T09:17:10.659Z"
   },
   {
    "duration": 9,
    "start_time": "2023-02-26T09:17:11.307Z"
   },
   {
    "duration": 15,
    "start_time": "2023-02-26T09:17:11.318Z"
   },
   {
    "duration": 467,
    "start_time": "2023-02-26T09:17:11.336Z"
   },
   {
    "duration": 358,
    "start_time": "2023-02-26T09:17:11.805Z"
   },
   {
    "duration": 7,
    "start_time": "2023-02-26T09:17:12.165Z"
   },
   {
    "duration": 11,
    "start_time": "2023-02-26T09:17:12.174Z"
   },
   {
    "duration": 5,
    "start_time": "2023-02-26T09:17:12.187Z"
   },
   {
    "duration": 6,
    "start_time": "2023-02-26T09:17:12.194Z"
   },
   {
    "duration": 7,
    "start_time": "2023-02-26T09:17:12.202Z"
   },
   {
    "duration": 42,
    "start_time": "2023-02-26T09:17:12.211Z"
   },
   {
    "duration": 218,
    "start_time": "2023-02-26T09:17:12.255Z"
   },
   {
    "duration": 398,
    "start_time": "2023-02-26T09:17:12.475Z"
   },
   {
    "duration": 10,
    "start_time": "2023-02-26T09:17:12.874Z"
   },
   {
    "duration": 234,
    "start_time": "2023-02-26T09:17:49.002Z"
   },
   {
    "duration": 198,
    "start_time": "2023-02-26T09:17:53.675Z"
   },
   {
    "duration": 52,
    "start_time": "2023-02-26T16:27:26.675Z"
   },
   {
    "duration": 543,
    "start_time": "2023-02-26T16:27:32.182Z"
   },
   {
    "duration": 21,
    "start_time": "2023-02-26T16:27:35.178Z"
   },
   {
    "duration": 1373,
    "start_time": "2023-02-26T16:28:29.720Z"
   },
   {
    "duration": 50,
    "start_time": "2023-02-26T16:35:47.766Z"
   },
   {
    "duration": 14,
    "start_time": "2023-02-26T16:35:47.818Z"
   },
   {
    "duration": 14,
    "start_time": "2023-02-26T16:35:47.833Z"
   },
   {
    "duration": 843,
    "start_time": "2023-02-26T16:35:47.849Z"
   },
   {
    "duration": 16,
    "start_time": "2023-02-26T16:35:48.694Z"
   },
   {
    "duration": 3,
    "start_time": "2023-02-26T16:35:48.712Z"
   },
   {
    "duration": 4,
    "start_time": "2023-02-26T16:35:48.717Z"
   },
   {
    "duration": 29,
    "start_time": "2023-02-26T16:35:48.722Z"
   },
   {
    "duration": 19,
    "start_time": "2023-02-26T16:35:48.753Z"
   },
   {
    "duration": 7,
    "start_time": "2023-02-26T16:35:48.774Z"
   },
   {
    "duration": 23,
    "start_time": "2023-02-26T16:35:48.783Z"
   },
   {
    "duration": 6,
    "start_time": "2023-02-26T16:35:48.807Z"
   },
   {
    "duration": 155,
    "start_time": "2023-02-26T16:35:48.815Z"
   },
   {
    "duration": 7,
    "start_time": "2023-02-26T16:35:48.972Z"
   },
   {
    "duration": 133,
    "start_time": "2023-02-26T16:35:48.980Z"
   },
   {
    "duration": 152,
    "start_time": "2023-02-26T16:35:49.115Z"
   },
   {
    "duration": 150,
    "start_time": "2023-02-26T16:35:49.268Z"
   },
   {
    "duration": 130,
    "start_time": "2023-02-26T16:35:49.419Z"
   },
   {
    "duration": 6,
    "start_time": "2023-02-26T16:35:49.551Z"
   },
   {
    "duration": 8,
    "start_time": "2023-02-26T16:35:49.558Z"
   },
   {
    "duration": 33,
    "start_time": "2023-02-26T16:35:49.567Z"
   },
   {
    "duration": 16,
    "start_time": "2023-02-26T16:35:49.601Z"
   },
   {
    "duration": 331,
    "start_time": "2023-02-26T16:35:49.648Z"
   },
   {
    "duration": 175,
    "start_time": "2023-02-26T16:35:49.981Z"
   },
   {
    "duration": 591,
    "start_time": "2023-02-26T16:35:50.157Z"
   },
   {
    "duration": 8,
    "start_time": "2023-02-26T16:35:50.751Z"
   },
   {
    "duration": 14,
    "start_time": "2023-02-26T16:35:50.760Z"
   },
   {
    "duration": 316,
    "start_time": "2023-02-26T16:35:50.776Z"
   },
   {
    "duration": 302,
    "start_time": "2023-02-26T16:35:51.094Z"
   },
   {
    "duration": 6,
    "start_time": "2023-02-26T16:35:51.398Z"
   },
   {
    "duration": 27,
    "start_time": "2023-02-26T16:35:51.406Z"
   },
   {
    "duration": 10,
    "start_time": "2023-02-26T16:35:51.434Z"
   },
   {
    "duration": 6,
    "start_time": "2023-02-26T16:35:51.445Z"
   },
   {
    "duration": 6,
    "start_time": "2023-02-26T16:35:51.452Z"
   },
   {
    "duration": 5,
    "start_time": "2023-02-26T16:35:51.459Z"
   },
   {
    "duration": 191,
    "start_time": "2023-02-26T16:35:51.466Z"
   },
   {
    "duration": 463,
    "start_time": "2023-02-26T16:35:51.659Z"
   },
   {
    "duration": 9,
    "start_time": "2023-02-26T16:35:52.124Z"
   },
   {
    "duration": 64,
    "start_time": "2023-02-26T16:44:07.851Z"
   },
   {
    "duration": 49,
    "start_time": "2023-02-26T16:46:02.738Z"
   },
   {
    "duration": 14,
    "start_time": "2023-02-26T16:46:02.789Z"
   },
   {
    "duration": 19,
    "start_time": "2023-02-26T16:46:02.804Z"
   },
   {
    "duration": 843,
    "start_time": "2023-02-26T16:46:02.825Z"
   },
   {
    "duration": 14,
    "start_time": "2023-02-26T16:46:03.670Z"
   },
   {
    "duration": 4,
    "start_time": "2023-02-26T16:46:03.685Z"
   },
   {
    "duration": 5,
    "start_time": "2023-02-26T16:46:03.690Z"
   },
   {
    "duration": 10,
    "start_time": "2023-02-26T16:46:03.696Z"
   },
   {
    "duration": 82,
    "start_time": "2023-02-26T16:46:03.707Z"
   },
   {
    "duration": 0,
    "start_time": "2023-02-26T16:46:03.791Z"
   },
   {
    "duration": 0,
    "start_time": "2023-02-26T16:46:03.792Z"
   },
   {
    "duration": 0,
    "start_time": "2023-02-26T16:46:03.793Z"
   },
   {
    "duration": 0,
    "start_time": "2023-02-26T16:46:03.794Z"
   },
   {
    "duration": 0,
    "start_time": "2023-02-26T16:46:03.795Z"
   },
   {
    "duration": 0,
    "start_time": "2023-02-26T16:46:03.796Z"
   },
   {
    "duration": 0,
    "start_time": "2023-02-26T16:46:03.798Z"
   },
   {
    "duration": 0,
    "start_time": "2023-02-26T16:46:03.799Z"
   },
   {
    "duration": 0,
    "start_time": "2023-02-26T16:46:03.800Z"
   },
   {
    "duration": 0,
    "start_time": "2023-02-26T16:46:03.801Z"
   },
   {
    "duration": 0,
    "start_time": "2023-02-26T16:46:03.802Z"
   },
   {
    "duration": 0,
    "start_time": "2023-02-26T16:46:03.803Z"
   },
   {
    "duration": 0,
    "start_time": "2023-02-26T16:46:03.804Z"
   },
   {
    "duration": 0,
    "start_time": "2023-02-26T16:46:03.805Z"
   },
   {
    "duration": 0,
    "start_time": "2023-02-26T16:46:03.806Z"
   },
   {
    "duration": 0,
    "start_time": "2023-02-26T16:46:03.807Z"
   },
   {
    "duration": 0,
    "start_time": "2023-02-26T16:46:03.808Z"
   },
   {
    "duration": 0,
    "start_time": "2023-02-26T16:46:03.809Z"
   },
   {
    "duration": 0,
    "start_time": "2023-02-26T16:46:03.810Z"
   },
   {
    "duration": 0,
    "start_time": "2023-02-26T16:46:03.848Z"
   },
   {
    "duration": 0,
    "start_time": "2023-02-26T16:46:03.849Z"
   },
   {
    "duration": 0,
    "start_time": "2023-02-26T16:46:03.850Z"
   },
   {
    "duration": 0,
    "start_time": "2023-02-26T16:46:03.851Z"
   },
   {
    "duration": 0,
    "start_time": "2023-02-26T16:46:03.852Z"
   },
   {
    "duration": 0,
    "start_time": "2023-02-26T16:46:03.853Z"
   },
   {
    "duration": 0,
    "start_time": "2023-02-26T16:46:03.854Z"
   },
   {
    "duration": 0,
    "start_time": "2023-02-26T16:46:03.855Z"
   },
   {
    "duration": 0,
    "start_time": "2023-02-26T16:46:03.856Z"
   },
   {
    "duration": 0,
    "start_time": "2023-02-26T16:46:03.857Z"
   },
   {
    "duration": 51,
    "start_time": "2023-02-26T16:47:28.119Z"
   },
   {
    "duration": 16,
    "start_time": "2023-02-26T16:47:28.172Z"
   },
   {
    "duration": 17,
    "start_time": "2023-02-26T16:47:28.189Z"
   },
   {
    "duration": 982,
    "start_time": "2023-02-26T16:47:28.207Z"
   },
   {
    "duration": 15,
    "start_time": "2023-02-26T16:47:29.191Z"
   },
   {
    "duration": 4,
    "start_time": "2023-02-26T16:47:29.208Z"
   },
   {
    "duration": 9,
    "start_time": "2023-02-26T16:47:29.214Z"
   },
   {
    "duration": 24,
    "start_time": "2023-02-26T16:47:29.225Z"
   },
   {
    "duration": 16,
    "start_time": "2023-02-26T16:47:29.250Z"
   },
   {
    "duration": 11,
    "start_time": "2023-02-26T16:47:29.267Z"
   },
   {
    "duration": 18,
    "start_time": "2023-02-26T16:47:29.280Z"
   },
   {
    "duration": 7,
    "start_time": "2023-02-26T16:47:29.300Z"
   },
   {
    "duration": 161,
    "start_time": "2023-02-26T16:47:29.309Z"
   },
   {
    "duration": 20,
    "start_time": "2023-02-26T16:47:29.474Z"
   },
   {
    "duration": 116,
    "start_time": "2023-02-26T16:47:29.496Z"
   },
   {
    "duration": 127,
    "start_time": "2023-02-26T16:47:29.614Z"
   },
   {
    "duration": 138,
    "start_time": "2023-02-26T16:47:29.742Z"
   },
   {
    "duration": 126,
    "start_time": "2023-02-26T16:47:29.881Z"
   },
   {
    "duration": 5,
    "start_time": "2023-02-26T16:47:30.009Z"
   },
   {
    "duration": 23,
    "start_time": "2023-02-26T16:47:30.016Z"
   },
   {
    "duration": 41,
    "start_time": "2023-02-26T16:47:30.040Z"
   },
   {
    "duration": 16,
    "start_time": "2023-02-26T16:47:30.083Z"
   },
   {
    "duration": 237,
    "start_time": "2023-02-26T16:47:30.101Z"
   },
   {
    "duration": 163,
    "start_time": "2023-02-26T16:47:30.340Z"
   },
   {
    "duration": 679,
    "start_time": "2023-02-26T16:47:30.505Z"
   },
   {
    "duration": 8,
    "start_time": "2023-02-26T16:47:31.186Z"
   },
   {
    "duration": 42,
    "start_time": "2023-02-26T16:47:31.196Z"
   },
   {
    "duration": 347,
    "start_time": "2023-02-26T16:47:31.239Z"
   },
   {
    "duration": 301,
    "start_time": "2023-02-26T16:47:31.587Z"
   },
   {
    "duration": 7,
    "start_time": "2023-02-26T16:47:31.890Z"
   },
   {
    "duration": 42,
    "start_time": "2023-02-26T16:47:31.898Z"
   },
   {
    "duration": 44,
    "start_time": "2023-02-26T16:47:31.942Z"
   },
   {
    "duration": 26,
    "start_time": "2023-02-26T16:47:31.988Z"
   },
   {
    "duration": 30,
    "start_time": "2023-02-26T16:47:32.015Z"
   },
   {
    "duration": 45,
    "start_time": "2023-02-26T16:47:32.047Z"
   },
   {
    "duration": 212,
    "start_time": "2023-02-26T16:47:32.094Z"
   },
   {
    "duration": 12,
    "start_time": "2023-02-26T16:47:32.308Z"
   },
   {
    "duration": 24,
    "start_time": "2023-02-26T16:47:32.321Z"
   },
   {
    "duration": 47,
    "start_time": "2023-02-26T17:08:41.918Z"
   },
   {
    "duration": 14,
    "start_time": "2023-02-26T17:08:41.967Z"
   },
   {
    "duration": 18,
    "start_time": "2023-02-26T17:08:41.982Z"
   },
   {
    "duration": 817,
    "start_time": "2023-02-26T17:08:42.002Z"
   },
   {
    "duration": 15,
    "start_time": "2023-02-26T17:08:42.820Z"
   },
   {
    "duration": 5,
    "start_time": "2023-02-26T17:08:42.847Z"
   },
   {
    "duration": 22,
    "start_time": "2023-02-26T17:08:42.854Z"
   },
   {
    "duration": 9,
    "start_time": "2023-02-26T17:08:42.878Z"
   },
   {
    "duration": 18,
    "start_time": "2023-02-26T17:08:42.890Z"
   },
   {
    "duration": 9,
    "start_time": "2023-02-26T17:08:42.910Z"
   },
   {
    "duration": 41,
    "start_time": "2023-02-26T17:08:42.921Z"
   },
   {
    "duration": 14,
    "start_time": "2023-02-26T17:08:52.780Z"
   },
   {
    "duration": 15,
    "start_time": "2023-02-26T17:09:26.811Z"
   },
   {
    "duration": 84,
    "start_time": "2023-02-26T17:11:23.460Z"
   },
   {
    "duration": 8,
    "start_time": "2023-02-26T17:12:30.111Z"
   },
   {
    "duration": 264,
    "start_time": "2023-02-26T17:17:51.703Z"
   },
   {
    "duration": 137,
    "start_time": "2023-02-26T17:18:15.290Z"
   },
   {
    "duration": 150,
    "start_time": "2023-02-26T17:20:19.169Z"
   },
   {
    "duration": 144,
    "start_time": "2023-02-26T17:20:40.575Z"
   },
   {
    "duration": 149,
    "start_time": "2023-02-26T17:21:36.372Z"
   },
   {
    "duration": 161,
    "start_time": "2023-02-26T17:22:22.301Z"
   },
   {
    "duration": 164,
    "start_time": "2023-02-26T17:23:18.746Z"
   },
   {
    "duration": 140,
    "start_time": "2023-02-26T17:29:37.331Z"
   },
   {
    "duration": 8,
    "start_time": "2023-02-26T17:31:35.974Z"
   },
   {
    "duration": 146,
    "start_time": "2023-02-26T17:32:04.120Z"
   },
   {
    "duration": 139,
    "start_time": "2023-02-26T17:32:32.376Z"
   },
   {
    "duration": 147,
    "start_time": "2023-02-26T17:33:36.563Z"
   },
   {
    "duration": 158,
    "start_time": "2023-02-26T17:34:53.468Z"
   },
   {
    "duration": 139,
    "start_time": "2023-02-26T17:35:36.851Z"
   },
   {
    "duration": 6,
    "start_time": "2023-02-26T17:44:16.302Z"
   },
   {
    "duration": 6,
    "start_time": "2023-02-26T17:44:28.030Z"
   },
   {
    "duration": 7,
    "start_time": "2023-02-26T17:45:05.931Z"
   },
   {
    "duration": 7,
    "start_time": "2023-02-26T17:48:02.515Z"
   },
   {
    "duration": 20,
    "start_time": "2023-02-26T17:48:14.225Z"
   },
   {
    "duration": 13,
    "start_time": "2023-02-26T17:50:24.146Z"
   },
   {
    "duration": 79,
    "start_time": "2023-02-26T17:50:50.146Z"
   },
   {
    "duration": 225,
    "start_time": "2023-02-26T17:51:08.278Z"
   },
   {
    "duration": 223,
    "start_time": "2023-02-26T17:51:41.975Z"
   },
   {
    "duration": 230,
    "start_time": "2023-02-26T17:56:08.202Z"
   },
   {
    "duration": 276,
    "start_time": "2023-02-26T17:57:45.238Z"
   },
   {
    "duration": 254,
    "start_time": "2023-02-26T18:02:10.047Z"
   },
   {
    "duration": 146,
    "start_time": "2023-02-26T18:04:06.047Z"
   },
   {
    "duration": 564,
    "start_time": "2023-02-26T18:13:53.668Z"
   },
   {
    "duration": 8,
    "start_time": "2023-02-26T18:21:43.077Z"
   },
   {
    "duration": 537,
    "start_time": "2023-02-26T18:23:44.492Z"
   },
   {
    "duration": 9,
    "start_time": "2023-02-26T18:24:18.007Z"
   },
   {
    "duration": 667,
    "start_time": "2023-02-26T18:25:44.245Z"
   },
   {
    "duration": 8,
    "start_time": "2023-02-26T18:27:51.257Z"
   },
   {
    "duration": 298,
    "start_time": "2023-02-26T18:40:02.466Z"
   },
   {
    "duration": 45,
    "start_time": "2023-02-26T19:26:09.677Z"
   },
   {
    "duration": 14,
    "start_time": "2023-02-26T19:26:09.724Z"
   },
   {
    "duration": 17,
    "start_time": "2023-02-26T19:26:09.740Z"
   },
   {
    "duration": 838,
    "start_time": "2023-02-26T19:26:09.759Z"
   },
   {
    "duration": 18,
    "start_time": "2023-02-26T19:26:10.599Z"
   },
   {
    "duration": 4,
    "start_time": "2023-02-26T19:26:10.619Z"
   },
   {
    "duration": 10,
    "start_time": "2023-02-26T19:26:10.625Z"
   },
   {
    "duration": 17,
    "start_time": "2023-02-26T19:26:10.636Z"
   },
   {
    "duration": 21,
    "start_time": "2023-02-26T19:26:10.655Z"
   },
   {
    "duration": 12,
    "start_time": "2023-02-26T19:26:10.679Z"
   },
   {
    "duration": 19,
    "start_time": "2023-02-26T19:26:10.693Z"
   },
   {
    "duration": 52,
    "start_time": "2023-02-26T19:26:10.714Z"
   },
   {
    "duration": 8,
    "start_time": "2023-02-26T19:26:10.768Z"
   },
   {
    "duration": 171,
    "start_time": "2023-02-26T19:26:10.777Z"
   },
   {
    "duration": 8,
    "start_time": "2023-02-26T19:26:10.949Z"
   },
   {
    "duration": 147,
    "start_time": "2023-02-26T19:26:10.958Z"
   },
   {
    "duration": 280,
    "start_time": "2023-02-26T19:26:11.106Z"
   },
   {
    "duration": 150,
    "start_time": "2023-02-26T19:26:11.387Z"
   },
   {
    "duration": 153,
    "start_time": "2023-02-26T19:26:11.538Z"
   },
   {
    "duration": 5,
    "start_time": "2023-02-26T19:26:11.693Z"
   },
   {
    "duration": 14,
    "start_time": "2023-02-26T19:26:11.699Z"
   },
   {
    "duration": 23,
    "start_time": "2023-02-26T19:26:11.715Z"
   },
   {
    "duration": 13,
    "start_time": "2023-02-26T19:26:11.739Z"
   },
   {
    "duration": 247,
    "start_time": "2023-02-26T19:26:11.753Z"
   },
   {
    "duration": 174,
    "start_time": "2023-02-26T19:26:12.002Z"
   },
   {
    "duration": 149,
    "start_time": "2023-02-26T19:26:12.178Z"
   },
   {
    "duration": 593,
    "start_time": "2023-02-26T19:26:12.328Z"
   },
   {
    "duration": 8,
    "start_time": "2023-02-26T19:26:12.924Z"
   },
   {
    "duration": 707,
    "start_time": "2023-02-26T19:26:12.934Z"
   },
   {
    "duration": 12,
    "start_time": "2023-02-26T19:26:13.642Z"
   },
   {
    "duration": 680,
    "start_time": "2023-02-26T19:26:13.656Z"
   },
   {
    "duration": 15,
    "start_time": "2023-02-26T19:26:14.337Z"
   },
   {
    "duration": 322,
    "start_time": "2023-02-26T19:26:14.353Z"
   },
   {
    "duration": 316,
    "start_time": "2023-02-26T19:26:14.677Z"
   },
   {
    "duration": 6,
    "start_time": "2023-02-26T19:26:14.995Z"
   },
   {
    "duration": 7,
    "start_time": "2023-02-26T19:26:15.002Z"
   },
   {
    "duration": 7,
    "start_time": "2023-02-26T19:26:15.010Z"
   },
   {
    "duration": 32,
    "start_time": "2023-02-26T19:26:15.018Z"
   },
   {
    "duration": 6,
    "start_time": "2023-02-26T19:26:15.052Z"
   },
   {
    "duration": 10,
    "start_time": "2023-02-26T19:26:15.059Z"
   },
   {
    "duration": 194,
    "start_time": "2023-02-26T19:26:15.070Z"
   },
   {
    "duration": 9,
    "start_time": "2023-02-26T19:26:15.266Z"
   },
   {
    "duration": 10,
    "start_time": "2023-02-26T19:26:15.277Z"
   },
   {
    "duration": 63,
    "start_time": "2023-02-26T19:31:05.254Z"
   },
   {
    "duration": 20,
    "start_time": "2023-02-26T19:31:05.319Z"
   },
   {
    "duration": 22,
    "start_time": "2023-02-26T19:31:05.341Z"
   },
   {
    "duration": 1022,
    "start_time": "2023-02-26T19:31:05.365Z"
   },
   {
    "duration": 15,
    "start_time": "2023-02-26T19:31:06.388Z"
   },
   {
    "duration": 5,
    "start_time": "2023-02-26T19:31:06.404Z"
   },
   {
    "duration": 5,
    "start_time": "2023-02-26T19:31:06.410Z"
   },
   {
    "duration": 9,
    "start_time": "2023-02-26T19:31:06.417Z"
   },
   {
    "duration": 36,
    "start_time": "2023-02-26T19:31:06.427Z"
   },
   {
    "duration": 8,
    "start_time": "2023-02-26T19:31:06.466Z"
   },
   {
    "duration": 22,
    "start_time": "2023-02-26T19:31:06.476Z"
   },
   {
    "duration": 13,
    "start_time": "2023-02-26T19:31:06.500Z"
   },
   {
    "duration": 34,
    "start_time": "2023-02-26T19:31:06.515Z"
   },
   {
    "duration": 152,
    "start_time": "2023-02-26T19:31:06.550Z"
   },
   {
    "duration": 8,
    "start_time": "2023-02-26T19:31:06.704Z"
   },
   {
    "duration": 162,
    "start_time": "2023-02-26T19:31:06.713Z"
   },
   {
    "duration": 174,
    "start_time": "2023-02-26T19:31:06.876Z"
   },
   {
    "duration": 156,
    "start_time": "2023-02-26T19:31:07.052Z"
   },
   {
    "duration": 141,
    "start_time": "2023-02-26T19:31:07.210Z"
   },
   {
    "duration": 7,
    "start_time": "2023-02-26T19:31:07.352Z"
   },
   {
    "duration": 10,
    "start_time": "2023-02-26T19:31:07.360Z"
   },
   {
    "duration": 38,
    "start_time": "2023-02-26T19:31:07.372Z"
   },
   {
    "duration": 11,
    "start_time": "2023-02-26T19:31:07.412Z"
   },
   {
    "duration": 252,
    "start_time": "2023-02-26T19:31:07.424Z"
   },
   {
    "duration": 146,
    "start_time": "2023-02-26T19:31:07.678Z"
   },
   {
    "duration": 150,
    "start_time": "2023-02-26T19:31:07.826Z"
   },
   {
    "duration": 689,
    "start_time": "2023-02-26T19:31:07.978Z"
   },
   {
    "duration": 9,
    "start_time": "2023-02-26T19:31:08.670Z"
   },
   {
    "duration": 560,
    "start_time": "2023-02-26T19:31:08.680Z"
   },
   {
    "duration": 11,
    "start_time": "2023-02-26T19:31:09.241Z"
   },
   {
    "duration": 572,
    "start_time": "2023-02-26T19:31:09.254Z"
   },
   {
    "duration": 8,
    "start_time": "2023-02-26T19:31:09.828Z"
   },
   {
    "duration": 318,
    "start_time": "2023-02-26T19:31:09.848Z"
   },
   {
    "duration": 314,
    "start_time": "2023-02-26T19:31:10.168Z"
   },
   {
    "duration": 6,
    "start_time": "2023-02-26T19:31:10.483Z"
   },
   {
    "duration": 10,
    "start_time": "2023-02-26T19:31:10.491Z"
   },
   {
    "duration": 13,
    "start_time": "2023-02-26T19:31:10.502Z"
   },
   {
    "duration": 8,
    "start_time": "2023-02-26T19:31:10.516Z"
   },
   {
    "duration": 23,
    "start_time": "2023-02-26T19:31:10.526Z"
   },
   {
    "duration": 10,
    "start_time": "2023-02-26T19:31:10.550Z"
   },
   {
    "duration": 324,
    "start_time": "2023-02-26T19:31:10.562Z"
   },
   {
    "duration": 9,
    "start_time": "2023-02-26T19:31:10.888Z"
   },
   {
    "duration": 10,
    "start_time": "2023-02-26T19:31:10.899Z"
   },
   {
    "duration": 318,
    "start_time": "2023-02-26T19:32:27.593Z"
   },
   {
    "duration": 307,
    "start_time": "2023-02-26T19:32:38.963Z"
   },
   {
    "duration": 56,
    "start_time": "2023-02-26T19:33:12.839Z"
   },
   {
    "duration": 17,
    "start_time": "2023-02-26T19:33:12.897Z"
   },
   {
    "duration": 14,
    "start_time": "2023-02-26T19:33:12.915Z"
   },
   {
    "duration": 827,
    "start_time": "2023-02-26T19:33:12.931Z"
   },
   {
    "duration": 16,
    "start_time": "2023-02-26T19:33:13.761Z"
   },
   {
    "duration": 4,
    "start_time": "2023-02-26T19:33:13.779Z"
   },
   {
    "duration": 14,
    "start_time": "2023-02-26T19:33:13.784Z"
   },
   {
    "duration": 9,
    "start_time": "2023-02-26T19:33:13.799Z"
   },
   {
    "duration": 16,
    "start_time": "2023-02-26T19:33:13.810Z"
   },
   {
    "duration": 23,
    "start_time": "2023-02-26T19:33:13.828Z"
   },
   {
    "duration": 32,
    "start_time": "2023-02-26T19:33:13.855Z"
   },
   {
    "duration": 14,
    "start_time": "2023-02-26T19:33:13.889Z"
   },
   {
    "duration": 9,
    "start_time": "2023-02-26T19:33:13.905Z"
   },
   {
    "duration": 167,
    "start_time": "2023-02-26T19:33:13.916Z"
   },
   {
    "duration": 7,
    "start_time": "2023-02-26T19:33:14.085Z"
   },
   {
    "duration": 170,
    "start_time": "2023-02-26T19:33:14.094Z"
   },
   {
    "duration": 158,
    "start_time": "2023-02-26T19:33:14.266Z"
   },
   {
    "duration": 168,
    "start_time": "2023-02-26T19:33:14.425Z"
   },
   {
    "duration": 139,
    "start_time": "2023-02-26T19:33:14.594Z"
   },
   {
    "duration": 24,
    "start_time": "2023-02-26T19:33:14.736Z"
   },
   {
    "duration": 16,
    "start_time": "2023-02-26T19:33:14.762Z"
   },
   {
    "duration": 20,
    "start_time": "2023-02-26T19:33:14.779Z"
   },
   {
    "duration": 10,
    "start_time": "2023-02-26T19:33:14.801Z"
   },
   {
    "duration": 249,
    "start_time": "2023-02-26T19:33:14.813Z"
   },
   {
    "duration": 306,
    "start_time": "2023-02-26T19:33:15.064Z"
   },
   {
    "duration": 167,
    "start_time": "2023-02-26T19:33:15.372Z"
   },
   {
    "duration": 573,
    "start_time": "2023-02-26T19:33:15.541Z"
   },
   {
    "duration": 9,
    "start_time": "2023-02-26T19:33:16.117Z"
   },
   {
    "duration": 576,
    "start_time": "2023-02-26T19:33:16.127Z"
   },
   {
    "duration": 9,
    "start_time": "2023-02-26T19:33:16.704Z"
   },
   {
    "duration": 723,
    "start_time": "2023-02-26T19:33:16.715Z"
   },
   {
    "duration": 16,
    "start_time": "2023-02-26T19:33:17.440Z"
   },
   {
    "duration": 308,
    "start_time": "2023-02-26T19:33:17.460Z"
   },
   {
    "duration": 318,
    "start_time": "2023-02-26T19:33:17.770Z"
   },
   {
    "duration": 6,
    "start_time": "2023-02-26T19:33:18.089Z"
   },
   {
    "duration": 8,
    "start_time": "2023-02-26T19:33:18.097Z"
   },
   {
    "duration": 9,
    "start_time": "2023-02-26T19:33:18.106Z"
   },
   {
    "duration": 8,
    "start_time": "2023-02-26T19:33:18.117Z"
   },
   {
    "duration": 25,
    "start_time": "2023-02-26T19:33:18.128Z"
   },
   {
    "duration": 20,
    "start_time": "2023-02-26T19:33:18.154Z"
   },
   {
    "duration": 169,
    "start_time": "2023-02-26T19:33:18.176Z"
   },
   {
    "duration": 15,
    "start_time": "2023-02-26T19:33:18.349Z"
   },
   {
    "duration": 12,
    "start_time": "2023-02-26T19:33:18.365Z"
   },
   {
    "duration": 81,
    "start_time": "2023-02-27T02:16:26.900Z"
   },
   {
    "duration": 88,
    "start_time": "2023-02-27T02:17:14.915Z"
   },
   {
    "duration": 674,
    "start_time": "2023-02-27T06:04:57.417Z"
   },
   {
    "duration": 43,
    "start_time": "2023-02-27T06:04:58.094Z"
   },
   {
    "duration": 20,
    "start_time": "2023-02-27T06:04:58.144Z"
   },
   {
    "duration": 1849,
    "start_time": "2023-02-27T06:04:58.166Z"
   },
   {
    "duration": 37,
    "start_time": "2023-02-27T06:05:00.020Z"
   },
   {
    "duration": 5,
    "start_time": "2023-02-27T06:05:00.059Z"
   },
   {
    "duration": 10,
    "start_time": "2023-02-27T06:05:00.066Z"
   },
   {
    "duration": 23,
    "start_time": "2023-02-27T06:05:00.079Z"
   },
   {
    "duration": 40,
    "start_time": "2023-02-27T06:05:00.104Z"
   },
   {
    "duration": 11,
    "start_time": "2023-02-27T06:05:00.146Z"
   },
   {
    "duration": 33,
    "start_time": "2023-02-27T06:05:00.160Z"
   },
   {
    "duration": 45,
    "start_time": "2023-02-27T06:05:00.195Z"
   },
   {
    "duration": 10,
    "start_time": "2023-02-27T06:05:00.243Z"
   },
   {
    "duration": 223,
    "start_time": "2023-02-27T06:05:00.257Z"
   },
   {
    "duration": 9,
    "start_time": "2023-02-27T06:05:00.482Z"
   },
   {
    "duration": 210,
    "start_time": "2023-02-27T06:05:00.493Z"
   },
   {
    "duration": 206,
    "start_time": "2023-02-27T06:05:00.705Z"
   },
   {
    "duration": 193,
    "start_time": "2023-02-27T06:05:00.913Z"
   },
   {
    "duration": 196,
    "start_time": "2023-02-27T06:05:01.108Z"
   },
   {
    "duration": 7,
    "start_time": "2023-02-27T06:05:01.307Z"
   },
   {
    "duration": 30,
    "start_time": "2023-02-27T06:05:01.317Z"
   },
   {
    "duration": 58,
    "start_time": "2023-02-27T06:05:01.352Z"
   },
   {
    "duration": 63,
    "start_time": "2023-02-27T06:05:01.413Z"
   },
   {
    "duration": 347,
    "start_time": "2023-02-27T06:05:01.479Z"
   },
   {
    "duration": 188,
    "start_time": "2023-02-27T06:05:01.829Z"
   },
   {
    "duration": 211,
    "start_time": "2023-02-27T06:05:02.019Z"
   },
   {
    "duration": 975,
    "start_time": "2023-02-27T06:05:02.233Z"
   },
   {
    "duration": 11,
    "start_time": "2023-02-27T06:05:03.211Z"
   },
   {
    "duration": 666,
    "start_time": "2023-02-27T06:05:03.225Z"
   },
   {
    "duration": 11,
    "start_time": "2023-02-27T06:05:03.893Z"
   },
   {
    "duration": 840,
    "start_time": "2023-02-27T06:05:03.906Z"
   },
   {
    "duration": 18,
    "start_time": "2023-02-27T06:05:04.749Z"
   },
   {
    "duration": 433,
    "start_time": "2023-02-27T06:05:04.769Z"
   },
   {
    "duration": 312,
    "start_time": "2023-02-27T06:05:14.186Z"
   },
   {
    "duration": 267,
    "start_time": "2023-02-27T06:05:30.584Z"
   },
   {
    "duration": 216,
    "start_time": "2023-02-27T06:07:39.823Z"
   },
   {
    "duration": 216,
    "start_time": "2023-02-27T06:08:16.541Z"
   },
   {
    "duration": 194,
    "start_time": "2023-02-27T06:21:57.471Z"
   },
   {
    "duration": 53,
    "start_time": "2023-02-27T06:25:36.343Z"
   },
   {
    "duration": 17,
    "start_time": "2023-02-27T06:25:36.397Z"
   },
   {
    "duration": 25,
    "start_time": "2023-02-27T06:25:36.416Z"
   },
   {
    "duration": 984,
    "start_time": "2023-02-27T06:25:36.443Z"
   },
   {
    "duration": 20,
    "start_time": "2023-02-27T06:25:37.429Z"
   },
   {
    "duration": 10,
    "start_time": "2023-02-27T06:25:37.451Z"
   },
   {
    "duration": 15,
    "start_time": "2023-02-27T06:25:37.462Z"
   },
   {
    "duration": 27,
    "start_time": "2023-02-27T06:25:37.479Z"
   },
   {
    "duration": 30,
    "start_time": "2023-02-27T06:25:37.508Z"
   },
   {
    "duration": 8,
    "start_time": "2023-02-27T06:25:37.541Z"
   },
   {
    "duration": 33,
    "start_time": "2023-02-27T06:25:37.551Z"
   },
   {
    "duration": 22,
    "start_time": "2023-02-27T06:25:37.586Z"
   },
   {
    "duration": 33,
    "start_time": "2023-02-27T06:25:37.610Z"
   },
   {
    "duration": 173,
    "start_time": "2023-02-27T06:25:37.644Z"
   },
   {
    "duration": 20,
    "start_time": "2023-02-27T06:25:37.819Z"
   },
   {
    "duration": 230,
    "start_time": "2023-02-27T06:25:37.841Z"
   },
   {
    "duration": 207,
    "start_time": "2023-02-27T06:25:38.074Z"
   },
   {
    "duration": 175,
    "start_time": "2023-02-27T06:25:38.283Z"
   },
   {
    "duration": 163,
    "start_time": "2023-02-27T06:25:38.459Z"
   },
   {
    "duration": 14,
    "start_time": "2023-02-27T06:25:38.624Z"
   },
   {
    "duration": 9,
    "start_time": "2023-02-27T06:25:38.639Z"
   },
   {
    "duration": 22,
    "start_time": "2023-02-27T06:25:38.650Z"
   },
   {
    "duration": 12,
    "start_time": "2023-02-27T06:25:38.674Z"
   },
   {
    "duration": 289,
    "start_time": "2023-02-27T06:25:38.688Z"
   },
   {
    "duration": 214,
    "start_time": "2023-02-27T06:25:38.979Z"
   },
   {
    "duration": 187,
    "start_time": "2023-02-27T06:25:39.195Z"
   },
   {
    "duration": 642,
    "start_time": "2023-02-27T06:25:39.385Z"
   },
   {
    "duration": 11,
    "start_time": "2023-02-27T06:25:40.038Z"
   },
   {
    "duration": 702,
    "start_time": "2023-02-27T06:25:40.051Z"
   },
   {
    "duration": 11,
    "start_time": "2023-02-27T06:25:40.755Z"
   },
   {
    "duration": 650,
    "start_time": "2023-02-27T06:25:40.768Z"
   },
   {
    "duration": 15,
    "start_time": "2023-02-27T06:25:41.422Z"
   },
   {
    "duration": 382,
    "start_time": "2023-02-27T06:25:41.440Z"
   },
   {
    "duration": 230,
    "start_time": "2023-02-27T06:25:41.825Z"
   },
   {
    "duration": 7,
    "start_time": "2023-02-27T06:25:42.058Z"
   },
   {
    "duration": 35,
    "start_time": "2023-02-27T06:25:42.067Z"
   },
   {
    "duration": 34,
    "start_time": "2023-02-27T06:25:42.104Z"
   },
   {
    "duration": 35,
    "start_time": "2023-02-27T06:25:42.140Z"
   },
   {
    "duration": 30,
    "start_time": "2023-02-27T06:25:42.177Z"
   },
   {
    "duration": 19,
    "start_time": "2023-02-27T06:25:42.209Z"
   },
   {
    "duration": 6,
    "start_time": "2023-02-27T06:25:49.222Z"
   },
   {
    "duration": 151,
    "start_time": "2023-02-27T06:25:51.899Z"
   },
   {
    "duration": 227,
    "start_time": "2023-02-27T06:27:26.167Z"
   },
   {
    "duration": 318,
    "start_time": "2023-02-27T06:29:28.071Z"
   },
   {
    "duration": 285,
    "start_time": "2023-02-27T06:31:04.921Z"
   },
   {
    "duration": 202,
    "start_time": "2023-02-27T06:35:30.577Z"
   },
   {
    "duration": 232,
    "start_time": "2023-02-27T06:36:21.880Z"
   },
   {
    "duration": 374,
    "start_time": "2023-02-27T06:38:22.488Z"
   },
   {
    "duration": 236,
    "start_time": "2023-02-27T06:38:35.940Z"
   },
   {
    "duration": 341,
    "start_time": "2023-02-27T06:40:42.396Z"
   }
  ],
  "kernelspec": {
   "display_name": "Python 3 (ipykernel)",
   "language": "python",
   "name": "python3"
  },
  "language_info": {
   "codemirror_mode": {
    "name": "ipython",
    "version": 3
   },
   "file_extension": ".py",
   "mimetype": "text/x-python",
   "name": "python",
   "nbconvert_exporter": "python",
   "pygments_lexer": "ipython3",
   "version": "3.9.13"
  },
  "toc": {
   "base_numbering": 1,
   "nav_menu": {},
   "number_sections": true,
   "sideBar": true,
   "skip_h1_title": true,
   "title_cell": "Table of Contents",
   "title_sidebar": "Contents",
   "toc_cell": false,
   "toc_position": {
    "height": "calc(100% - 180px)",
    "left": "10px",
    "top": "150px",
    "width": "261.455px"
   },
   "toc_section_display": true,
   "toc_window_display": true
  }
 },
 "nbformat": 4,
 "nbformat_minor": 2
}
