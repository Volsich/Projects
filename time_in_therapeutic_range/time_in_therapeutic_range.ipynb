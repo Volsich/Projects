{
 "cells": [
  {
   "cell_type": "markdown",
   "id": "9d0ffd64",
   "metadata": {},
   "source": [
    "# Расчёт времени нахождения в терапевтическом диапазоне методом усреднения по всем значениям МНО"
   ]
  },
  {
   "cell_type": "markdown",
   "id": "73da36de",
   "metadata": {},
   "source": [
    "**Описание проекта:** <br>\n",
    "    Пациенты, перенесшие операции на сердце принимают кроверазжижающие препараты на основе варфарина. Варфарин очень опасное вещество, так как его передозировка может вызывать кровотечения как наружние, так и внутренние. Если же пациент принимает слишклм малую дозу то возникает риск образования тромбов. Параметром, который позволяет контролированть правильность дозировки, является МНО (международное нормализованное отношение). У каждого пациента, в зависимости от его диагноза, должен быть свой терапевтический диапазон в котором должен находится этот параметр, плюс врач может его скорректировать по конкретного пациента, исходя из его истории лечения. У разных людей встречается разная чувствительность к препаратам, содержащим варфарин, поэтому дозировка для каждого пациента подбирается индивидуально на основе его предыдущих дозировок и значений МНО. МНО сдаётся один раз в 10-20 дней и может как попадать в целевой диапазон, так и выпадать из него. Критерием эффективности назначаемой дозировки является такой параметр, как TTR (Time in Therapeutic Range). Проблема заключается в том, что нет утвержденных стандартов его расчёта.\n",
    "    \n",
    "**Цель:**\n",
    "   1. Изучить данные и составить алгоритм расчёта TTR.\n",
    "   2. Учесть, что у пациента может быть несколько заболеваний, и несколько соответствующих им целевых диапазонов.\n",
    "   3. Иметь в виду, что врач может внести изменения в терапевтический диапазон.\n",
    "   4. Рассчитать TTR как отношение МНО, вошедших в индивидуалльный целевой диапазон к общему количеству взятых МНО.\n",
    "   5. Сгруппировать результаты по годам отдельно для пациентов, сдающих анализ дома, и для пациентов с собственным прибором.\n",
    "   6. Вывести график\n",
    "   \n",
    "**Этапы исследования:**\n",
    "\n",
    "   1. Загрузка данных и изучение общей информации,\n",
    "   2. Анализ данных,\n",
    "   3. Добавление новых признаков,\n",
    "   4. Расчёт\n",
    "   5. Презентация результатов"
   ]
  },
  {
   "cell_type": "markdown",
   "id": "655751a7",
   "metadata": {},
   "source": [
    "**Импортируем библиотеки:**"
   ]
  },
  {
   "cell_type": "code",
   "execution_count": 18,
   "id": "fcd9e583",
   "metadata": {},
   "outputs": [],
   "source": [
    "import pandas as pd \n",
    "import plotly.express as px"
   ]
  },
  {
   "cell_type": "markdown",
   "id": "c5313f2e",
   "metadata": {},
   "source": [
    "**Загружаем данные:**"
   ]
  },
  {
   "cell_type": "code",
   "execution_count": 19,
   "id": "2cdf5f7a",
   "metadata": {},
   "outputs": [],
   "source": [
    "inr = pd.read_csv('C:/Users/volsi/Documents/Filezilla/dwh_dump/dwh_ts_kazan_inr.csv')\n",
    "indications = pd.read_csv('C:/Users/volsi/Documents/Filezilla/dwh_dump/dwh_ts_kazan_indications.csv')\n",
    "treatment_data = pd.read_csv('C:/Users/volsi/Documents/Filezilla/dwh_dump/dwh_ts_kazan_treatment_data.csv')\n",
    "patient_institutions = pd.read_csv('C:/Users/volsi/Documents/Filezilla/dwh_dump/dwh_ts_kazan_patient_institutions.csv')"
   ]
  },
  {
   "cell_type": "markdown",
   "id": "125f13eb",
   "metadata": {},
   "source": [
    "**Посмотрим, из чего состоит таблица inr:**"
   ]
  },
  {
   "cell_type": "code",
   "execution_count": 20,
   "id": "6c24af9f",
   "metadata": {},
   "outputs": [
    {
     "data": {
      "text/html": [
       "<div>\n",
       "<style scoped>\n",
       "    .dataframe tbody tr th:only-of-type {\n",
       "        vertical-align: middle;\n",
       "    }\n",
       "\n",
       "    .dataframe tbody tr th {\n",
       "        vertical-align: top;\n",
       "    }\n",
       "\n",
       "    .dataframe thead th {\n",
       "        text-align: right;\n",
       "    }\n",
       "</style>\n",
       "<table border=\"1\" class=\"dataframe\">\n",
       "  <thead>\n",
       "    <tr style=\"text-align: right;\">\n",
       "      <th></th>\n",
       "      <th>peso_id</th>\n",
       "      <th>trbh_id</th>\n",
       "      <th>inr_date</th>\n",
       "      <th>inr</th>\n",
       "      <th>method_cd</th>\n",
       "      <th>ind_status</th>\n",
       "      <th>list_nr</th>\n",
       "      <th>id</th>\n",
       "      <th>dosing_process_timestamp</th>\n",
       "      <th>reason_dosing_list</th>\n",
       "    </tr>\n",
       "  </thead>\n",
       "  <tbody>\n",
       "    <tr>\n",
       "      <th>0</th>\n",
       "      <td>6027991086</td>\n",
       "      <td>6131492478</td>\n",
       "      <td>2023-06-10 09:53:00</td>\n",
       "      <td>4.1</td>\n",
       "      <td>ZMA</td>\n",
       "      <td>CSP</td>\n",
       "      <td>3.0</td>\n",
       "      <td>6131840490</td>\n",
       "      <td>2023-06-10 09:54:57.089723</td>\n",
       "      <td>return ''.gettext('Er zijn minder dan 2 opeenv...</td>\n",
       "    </tr>\n",
       "    <tr>\n",
       "      <th>1</th>\n",
       "      <td>6026141152</td>\n",
       "      <td>6026512906</td>\n",
       "      <td>2023-09-01 06:49:00</td>\n",
       "      <td>1.7</td>\n",
       "      <td>ZMA</td>\n",
       "      <td>CSP</td>\n",
       "      <td>2.0</td>\n",
       "      <td>6134525496</td>\n",
       "      <td>2023-09-01 06:49:30.63231</td>\n",
       "      <td>return ''.sprintf(gettext('Huidige INR %s ligt...</td>\n",
       "    </tr>\n",
       "    <tr>\n",
       "      <th>2</th>\n",
       "      <td>6026394360</td>\n",
       "      <td>6059271230</td>\n",
       "      <td>2024-04-12 00:00:00</td>\n",
       "      <td>3.1</td>\n",
       "      <td>LAB</td>\n",
       "      <td>CSP</td>\n",
       "      <td>2.0</td>\n",
       "      <td>6140543514</td>\n",
       "      <td>2024-04-18 08:21:25.910798</td>\n",
       "      <td>return ''.sprintf(gettext('Huidige INR %s ligt...</td>\n",
       "    </tr>\n",
       "    <tr>\n",
       "      <th>3</th>\n",
       "      <td>6026394638</td>\n",
       "      <td>6059368614</td>\n",
       "      <td>2023-11-24 11:42:00</td>\n",
       "      <td>3.0</td>\n",
       "      <td>ZMA</td>\n",
       "      <td>CSP</td>\n",
       "      <td>2.0</td>\n",
       "      <td>6137177792</td>\n",
       "      <td>2023-11-24 11:42:44.286527</td>\n",
       "      <td>return ''.gettext('Er kon geen doseervoorstel ...</td>\n",
       "    </tr>\n",
       "    <tr>\n",
       "      <th>4</th>\n",
       "      <td>6026138194</td>\n",
       "      <td>6026318204</td>\n",
       "      <td>2018-03-23 00:00:00</td>\n",
       "      <td>4.4</td>\n",
       "      <td>LAB</td>\n",
       "      <td>CSP</td>\n",
       "      <td>3.0</td>\n",
       "      <td>6026326660</td>\n",
       "      <td>2018-03-23 11:00:54.859975</td>\n",
       "      <td>return ''.gettext('Er zijn minder dan 2 opeenv...</td>\n",
       "    </tr>\n",
       "  </tbody>\n",
       "</table>\n",
       "</div>"
      ],
      "text/plain": [
       "      peso_id     trbh_id             inr_date  inr method_cd ind_status  \\\n",
       "0  6027991086  6131492478  2023-06-10 09:53:00  4.1       ZMA        CSP   \n",
       "1  6026141152  6026512906  2023-09-01 06:49:00  1.7       ZMA        CSP   \n",
       "2  6026394360  6059271230  2024-04-12 00:00:00  3.1       LAB        CSP   \n",
       "3  6026394638  6059368614  2023-11-24 11:42:00  3.0       ZMA        CSP   \n",
       "4  6026138194  6026318204  2018-03-23 00:00:00  4.4       LAB        CSP   \n",
       "\n",
       "   list_nr          id    dosing_process_timestamp  \\\n",
       "0      3.0  6131840490  2023-06-10 09:54:57.089723   \n",
       "1      2.0  6134525496   2023-09-01 06:49:30.63231   \n",
       "2      2.0  6140543514  2024-04-18 08:21:25.910798   \n",
       "3      2.0  6137177792  2023-11-24 11:42:44.286527   \n",
       "4      3.0  6026326660  2018-03-23 11:00:54.859975   \n",
       "\n",
       "                                  reason_dosing_list  \n",
       "0  return ''.gettext('Er zijn minder dan 2 opeenv...  \n",
       "1  return ''.sprintf(gettext('Huidige INR %s ligt...  \n",
       "2  return ''.sprintf(gettext('Huidige INR %s ligt...  \n",
       "3  return ''.gettext('Er kon geen doseervoorstel ...  \n",
       "4  return ''.gettext('Er zijn minder dan 2 opeenv...  "
      ]
     },
     "execution_count": 20,
     "metadata": {},
     "output_type": "execute_result"
    }
   ],
   "source": [
    "inr.head() # For TTR calculation"
   ]
  },
  {
   "cell_type": "markdown",
   "id": "32bc7b6b",
   "metadata": {},
   "source": [
    "**Здесь все значения МНО с датой, временем и типом терапевтического диапазона, назначаемого автоматически, но нет информации об индивидуальном терапевтическом диапазоне.**"
   ]
  },
  {
   "cell_type": "markdown",
   "id": "ed543f47",
   "metadata": {},
   "source": [
    "**Посмотрим, из чего состоит таблица indications:**"
   ]
  },
  {
   "cell_type": "code",
   "execution_count": 21,
   "id": "a5881d75",
   "metadata": {},
   "outputs": [
    {
     "data": {
      "text/html": [
       "<div>\n",
       "<style scoped>\n",
       "    .dataframe tbody tr th:only-of-type {\n",
       "        vertical-align: middle;\n",
       "    }\n",
       "\n",
       "    .dataframe tbody tr th {\n",
       "        vertical-align: top;\n",
       "    }\n",
       "\n",
       "    .dataframe thead th {\n",
       "        text-align: right;\n",
       "    }\n",
       "</style>\n",
       "<table border=\"1\" class=\"dataframe\">\n",
       "  <thead>\n",
       "    <tr style=\"text-align: right;\">\n",
       "      <th></th>\n",
       "      <th>peso_id</th>\n",
       "      <th>trbh_id</th>\n",
       "      <th>effective_from</th>\n",
       "      <th>effective_to</th>\n",
       "      <th>code</th>\n",
       "      <th>name</th>\n",
       "      <th>remark</th>\n",
       "      <th>type</th>\n",
       "      <th>location</th>\n",
       "      <th>target_range</th>\n",
       "      <th>id</th>\n",
       "    </tr>\n",
       "  </thead>\n",
       "  <tbody>\n",
       "    <tr>\n",
       "      <th>0</th>\n",
       "      <td>6026136398</td>\n",
       "      <td>6026185844</td>\n",
       "      <td>2016-11-28 00:00:00</td>\n",
       "      <td>NaN</td>\n",
       "      <td>134</td>\n",
       "      <td>Onstabiele angina pectoris</td>\n",
       "      <td>NaN</td>\n",
       "      <td>NaN</td>\n",
       "      <td>NaN</td>\n",
       "      <td>2</td>\n",
       "      <td>6026185868</td>\n",
       "    </tr>\n",
       "    <tr>\n",
       "      <th>1</th>\n",
       "      <td>6026137016</td>\n",
       "      <td>6026218258</td>\n",
       "      <td>2017-03-10 00:00:00</td>\n",
       "      <td>NaN</td>\n",
       "      <td>1049</td>\n",
       "      <td>Mechanische mitralis hartklepprothese + Risico...</td>\n",
       "      <td>NaN</td>\n",
       "      <td>мех</td>\n",
       "      <td>мк</td>\n",
       "      <td>2</td>\n",
       "      <td>6057488560</td>\n",
       "    </tr>\n",
       "    <tr>\n",
       "      <th>2</th>\n",
       "      <td>6026137406</td>\n",
       "      <td>6026250702</td>\n",
       "      <td>2017-08-15 00:00:00</td>\n",
       "      <td>NaN</td>\n",
       "      <td>1021</td>\n",
       "      <td>Bioklepprothese + Risicofactor</td>\n",
       "      <td>NaN</td>\n",
       "      <td>NaN</td>\n",
       "      <td>NaN</td>\n",
       "      <td>1</td>\n",
       "      <td>6055527868</td>\n",
       "    </tr>\n",
       "    <tr>\n",
       "      <th>3</th>\n",
       "      <td>6026137934</td>\n",
       "      <td>6026292136</td>\n",
       "      <td>2022-10-23 00:00:00</td>\n",
       "      <td>NaN</td>\n",
       "      <td>1029</td>\n",
       "      <td>Overige (zeldzame) indicaties (streefgebied 1)</td>\n",
       "      <td>Протезирование ВОА</td>\n",
       "      <td>NaN</td>\n",
       "      <td>NaN</td>\n",
       "      <td>1</td>\n",
       "      <td>6123427048</td>\n",
       "    </tr>\n",
       "    <tr>\n",
       "      <th>4</th>\n",
       "      <td>6026138020</td>\n",
       "      <td>6026301532</td>\n",
       "      <td>2018-01-22 00:00:00</td>\n",
       "      <td>NaN</td>\n",
       "      <td>1040</td>\n",
       "      <td>AF + (cerebrale) embolie</td>\n",
       "      <td>NaN</td>\n",
       "      <td>NaN</td>\n",
       "      <td>NaN</td>\n",
       "      <td>1</td>\n",
       "      <td>6035999650</td>\n",
       "    </tr>\n",
       "  </tbody>\n",
       "</table>\n",
       "</div>"
      ],
      "text/plain": [
       "      peso_id     trbh_id       effective_from effective_to  code  \\\n",
       "0  6026136398  6026185844  2016-11-28 00:00:00          NaN   134   \n",
       "1  6026137016  6026218258  2017-03-10 00:00:00          NaN  1049   \n",
       "2  6026137406  6026250702  2017-08-15 00:00:00          NaN  1021   \n",
       "3  6026137934  6026292136  2022-10-23 00:00:00          NaN  1029   \n",
       "4  6026138020  6026301532  2018-01-22 00:00:00          NaN  1040   \n",
       "\n",
       "                                                name              remark type  \\\n",
       "0                         Onstabiele angina pectoris                 NaN  NaN   \n",
       "1  Mechanische mitralis hartklepprothese + Risico...                 NaN  мех   \n",
       "2                     Bioklepprothese + Risicofactor                 NaN  NaN   \n",
       "3     Overige (zeldzame) indicaties (streefgebied 1)  Протезирование ВОА  NaN   \n",
       "4                           AF + (cerebrale) embolie                 NaN  NaN   \n",
       "\n",
       "  location  target_range          id  \n",
       "0      NaN             2  6026185868  \n",
       "1       мк             2  6057488560  \n",
       "2      NaN             1  6055527868  \n",
       "3      NaN             1  6123427048  \n",
       "4      NaN             1  6035999650  "
      ]
     },
     "execution_count": 21,
     "metadata": {},
     "output_type": "execute_result"
    }
   ],
   "source": [
    "indications.head() # automatic therapeutic range can be taken from here"
   ]
  },
  {
   "cell_type": "markdown",
   "id": "e082a8cd",
   "metadata": {},
   "source": [
    "**Здесь указан автоматический терапевтический диапазон для каждого пациента. Важно, что у него есть время действия. Для одного пациента может существовать несколько строк.**"
   ]
  },
  {
   "cell_type": "markdown",
   "id": "de6354af",
   "metadata": {},
   "source": [
    "**Можем сразу найти максимальный целевой диапазон у пациента, так как учитывается именно он:**"
   ]
  },
  {
   "cell_type": "code",
   "execution_count": 22,
   "id": "7b6511c8",
   "metadata": {},
   "outputs": [
    {
     "data": {
      "text/plain": [
       "peso_id\n",
       "6026136398    2\n",
       "6026136402    1\n",
       "6026136420    2\n",
       "6026136424    2\n",
       "6026136428    2\n",
       "             ..\n",
       "6028057454    2\n",
       "6028057456    2\n",
       "6028057458    1\n",
       "6028057472    1\n",
       "6028057474    1\n",
       "Name: target_range, Length: 9272, dtype: int64"
      ]
     },
     "execution_count": 22,
     "metadata": {},
     "output_type": "execute_result"
    }
   ],
   "source": [
    "indications.groupby('peso_id')['target_range'].max() # maximum automatic therapeutic range"
   ]
  },
  {
   "cell_type": "markdown",
   "id": "453dc503",
   "metadata": {},
   "source": [
    "**Посмотрим, из чего состоит таблица treatment_data:**"
   ]
  },
  {
   "cell_type": "code",
   "execution_count": 23,
   "id": "88c4d688",
   "metadata": {},
   "outputs": [
    {
     "name": "stdout",
     "output_type": "stream",
     "text": [
      "<class 'pandas.core.frame.DataFrame'>\n",
      "RangeIndex: 9463 entries, 0 to 9462\n",
      "Data columns (total 23 columns):\n",
      " #   Column                         Non-Null Count  Dtype  \n",
      "---  ------                         --------------  -----  \n",
      " 0   peso_id                        9463 non-null   int64  \n",
      " 1   trbh_id                        9463 non-null   int64  \n",
      " 2   effective_from                 9463 non-null   object \n",
      " 3   effective_to                   2683 non-null   object \n",
      " 4   duration_days                  90 non-null     float64\n",
      " 5   duration_auto_stop             9463 non-null   object \n",
      " 6   status                         9463 non-null   object \n",
      " 7   dosing_max_period              9463 non-null   int64  \n",
      " 8   dosing_margin_days             9463 non-null   int64  \n",
      " 9   target_range_deviation_lower   1434 non-null   float64\n",
      " 10  target_range_deviation_upper   1434 non-null   float64\n",
      " 11  target_range_deviation_reason  1434 non-null   object \n",
      " 12  curr_status_selfmeasurement    9463 non-null   object \n",
      " 13  curr_status_selfdosing         9463 non-null   object \n",
      " 14  curr_status_regular            9463 non-null   object \n",
      " 15  curr_status_training           2824 non-null   object \n",
      " 16  curr_status_home_poli          8640 non-null   object \n",
      " 17  curr_status_dosing_dr          31 non-null     object \n",
      " 18  curr_status_new_patient        886 non-null    object \n",
      " 19  permanent_message              387 non-null    object \n",
      " 20  puncture_list_message          7 non-null      object \n",
      " 21  call_list_message              1 non-null      object \n",
      " 22  reason                         2680 non-null   object \n",
      "dtypes: float64(3), int64(4), object(16)\n",
      "memory usage: 1.7+ MB\n"
     ]
    }
   ],
   "source": [
    "treatment_data.info() # personal target range is here"
   ]
  },
  {
   "cell_type": "markdown",
   "id": "beb9b7a7",
   "metadata": {},
   "source": [
    "**В этом файле появляется информация об изменениях целевого диапазона МНО, внесенного врачом**"
   ]
  },
  {
   "cell_type": "markdown",
   "id": "724eeda7",
   "metadata": {},
   "source": [
    "**Отфильтруем пациентов с измененным целевым диапазоном:**"
   ]
  },
  {
   "cell_type": "code",
   "execution_count": 24,
   "id": "c1cca03d",
   "metadata": {
    "scrolled": true
   },
   "outputs": [
    {
     "data": {
      "text/html": [
       "<div>\n",
       "<style scoped>\n",
       "    .dataframe tbody tr th:only-of-type {\n",
       "        vertical-align: middle;\n",
       "    }\n",
       "\n",
       "    .dataframe tbody tr th {\n",
       "        vertical-align: top;\n",
       "    }\n",
       "\n",
       "    .dataframe thead th {\n",
       "        text-align: right;\n",
       "    }\n",
       "</style>\n",
       "<table border=\"1\" class=\"dataframe\">\n",
       "  <thead>\n",
       "    <tr style=\"text-align: right;\">\n",
       "      <th></th>\n",
       "      <th>peso_id</th>\n",
       "      <th>trbh_id</th>\n",
       "      <th>effective_from</th>\n",
       "      <th>effective_to</th>\n",
       "      <th>duration_days</th>\n",
       "      <th>duration_auto_stop</th>\n",
       "      <th>status</th>\n",
       "      <th>dosing_max_period</th>\n",
       "      <th>dosing_margin_days</th>\n",
       "      <th>target_range_deviation_lower</th>\n",
       "      <th>...</th>\n",
       "      <th>curr_status_selfdosing</th>\n",
       "      <th>curr_status_regular</th>\n",
       "      <th>curr_status_training</th>\n",
       "      <th>curr_status_home_poli</th>\n",
       "      <th>curr_status_dosing_dr</th>\n",
       "      <th>curr_status_new_patient</th>\n",
       "      <th>permanent_message</th>\n",
       "      <th>puncture_list_message</th>\n",
       "      <th>call_list_message</th>\n",
       "      <th>reason</th>\n",
       "    </tr>\n",
       "  </thead>\n",
       "  <tbody>\n",
       "    <tr>\n",
       "      <th>6</th>\n",
       "      <td>6026393996</td>\n",
       "      <td>6059129490</td>\n",
       "      <td>2020-04-27 00:00:00</td>\n",
       "      <td>2021-09-03 00:00:00</td>\n",
       "      <td>NaN</td>\n",
       "      <td>N</td>\n",
       "      <td>COMPLETED</td>\n",
       "      <td>30</td>\n",
       "      <td>10</td>\n",
       "      <td>2.5</td>\n",
       "      <td>...</td>\n",
       "      <td>N</td>\n",
       "      <td>N</td>\n",
       "      <td>N</td>\n",
       "      <td>N</td>\n",
       "      <td>NaN</td>\n",
       "      <td>NaN</td>\n",
       "      <td>пластика ТК, стентирование левой ПА в 2014 году</td>\n",
       "      <td>NaN</td>\n",
       "      <td>NaN</td>\n",
       "      <td>return ''.'дубль';</td>\n",
       "    </tr>\n",
       "    <tr>\n",
       "      <th>21</th>\n",
       "      <td>6026351208</td>\n",
       "      <td>6049591760</td>\n",
       "      <td>2019-11-18 00:00:00</td>\n",
       "      <td>2021-09-03 00:00:00</td>\n",
       "      <td>NaN</td>\n",
       "      <td>N</td>\n",
       "      <td>COMPLETED</td>\n",
       "      <td>30</td>\n",
       "      <td>10</td>\n",
       "      <td>2.0</td>\n",
       "      <td>...</td>\n",
       "      <td>N</td>\n",
       "      <td>N</td>\n",
       "      <td>N</td>\n",
       "      <td>N</td>\n",
       "      <td>NaN</td>\n",
       "      <td>NaN</td>\n",
       "      <td>NaN</td>\n",
       "      <td>NaN</td>\n",
       "      <td>NaN</td>\n",
       "      <td>return ''.'дубль';</td>\n",
       "    </tr>\n",
       "    <tr>\n",
       "      <th>23</th>\n",
       "      <td>6026138730</td>\n",
       "      <td>6026365748</td>\n",
       "      <td>2018-06-21 00:00:00</td>\n",
       "      <td>2018-08-13 00:00:00</td>\n",
       "      <td>NaN</td>\n",
       "      <td>N</td>\n",
       "      <td>DIED</td>\n",
       "      <td>30</td>\n",
       "      <td>10</td>\n",
       "      <td>2.0</td>\n",
       "      <td>...</td>\n",
       "      <td>N</td>\n",
       "      <td>N</td>\n",
       "      <td>N</td>\n",
       "      <td>N</td>\n",
       "      <td>NaN</td>\n",
       "      <td>NaN</td>\n",
       "      <td>NaN</td>\n",
       "      <td>NaN</td>\n",
       "      <td>NaN</td>\n",
       "      <td>return ''.'Просто умер';</td>\n",
       "    </tr>\n",
       "    <tr>\n",
       "      <th>40</th>\n",
       "      <td>6026136880</td>\n",
       "      <td>6026209870</td>\n",
       "      <td>2017-02-03 00:00:00</td>\n",
       "      <td>2019-09-07 00:00:00</td>\n",
       "      <td>NaN</td>\n",
       "      <td>N</td>\n",
       "      <td>COMPLETED</td>\n",
       "      <td>30</td>\n",
       "      <td>10</td>\n",
       "      <td>2.0</td>\n",
       "      <td>...</td>\n",
       "      <td>N</td>\n",
       "      <td>N</td>\n",
       "      <td>N</td>\n",
       "      <td>N</td>\n",
       "      <td>NaN</td>\n",
       "      <td>NaN</td>\n",
       "      <td>NaN</td>\n",
       "      <td>NaN</td>\n",
       "      <td>NaN</td>\n",
       "      <td>return gettext('Foutief ingevoerd').'';</td>\n",
       "    </tr>\n",
       "    <tr>\n",
       "      <th>42</th>\n",
       "      <td>6026299230</td>\n",
       "      <td>6043411018</td>\n",
       "      <td>2019-10-06 00:00:00</td>\n",
       "      <td>2023-05-13 00:00:00</td>\n",
       "      <td>184.0</td>\n",
       "      <td>J</td>\n",
       "      <td>COMPLETED</td>\n",
       "      <td>30</td>\n",
       "      <td>10</td>\n",
       "      <td>2.0</td>\n",
       "      <td>...</td>\n",
       "      <td>N</td>\n",
       "      <td>N</td>\n",
       "      <td>N</td>\n",
       "      <td>N</td>\n",
       "      <td>NaN</td>\n",
       "      <td>NaN</td>\n",
       "      <td>NaN</td>\n",
       "      <td>NaN</td>\n",
       "      <td>NaN</td>\n",
       "      <td>return ''.'кардиолог отменил варфарин';</td>\n",
       "    </tr>\n",
       "    <tr>\n",
       "      <th>...</th>\n",
       "      <td>...</td>\n",
       "      <td>...</td>\n",
       "      <td>...</td>\n",
       "      <td>...</td>\n",
       "      <td>...</td>\n",
       "      <td>...</td>\n",
       "      <td>...</td>\n",
       "      <td>...</td>\n",
       "      <td>...</td>\n",
       "      <td>...</td>\n",
       "      <td>...</td>\n",
       "      <td>...</td>\n",
       "      <td>...</td>\n",
       "      <td>...</td>\n",
       "      <td>...</td>\n",
       "      <td>...</td>\n",
       "      <td>...</td>\n",
       "      <td>...</td>\n",
       "      <td>...</td>\n",
       "      <td>...</td>\n",
       "      <td>...</td>\n",
       "    </tr>\n",
       "    <tr>\n",
       "      <th>9410</th>\n",
       "      <td>6026137296</td>\n",
       "      <td>6026243432</td>\n",
       "      <td>2017-07-19 00:00:00</td>\n",
       "      <td>NaN</td>\n",
       "      <td>NaN</td>\n",
       "      <td>N</td>\n",
       "      <td>ACTIVE</td>\n",
       "      <td>30</td>\n",
       "      <td>10</td>\n",
       "      <td>2.0</td>\n",
       "      <td>...</td>\n",
       "      <td>N</td>\n",
       "      <td>Y</td>\n",
       "      <td>NaN</td>\n",
       "      <td>N</td>\n",
       "      <td>NaN</td>\n",
       "      <td>NaN</td>\n",
       "      <td>NaN</td>\n",
       "      <td>NaN</td>\n",
       "      <td>NaN</td>\n",
       "      <td>NaN</td>\n",
       "    </tr>\n",
       "    <tr>\n",
       "      <th>9442</th>\n",
       "      <td>6027962856</td>\n",
       "      <td>6116736742</td>\n",
       "      <td>2022-12-12 00:00:00</td>\n",
       "      <td>NaN</td>\n",
       "      <td>NaN</td>\n",
       "      <td>N</td>\n",
       "      <td>ACTIVE</td>\n",
       "      <td>30</td>\n",
       "      <td>10</td>\n",
       "      <td>1.5</td>\n",
       "      <td>...</td>\n",
       "      <td>N</td>\n",
       "      <td>Y</td>\n",
       "      <td>NaN</td>\n",
       "      <td>N</td>\n",
       "      <td>NaN</td>\n",
       "      <td>NaN</td>\n",
       "      <td>NaN</td>\n",
       "      <td>NaN</td>\n",
       "      <td>NaN</td>\n",
       "      <td>NaN</td>\n",
       "    </tr>\n",
       "    <tr>\n",
       "      <th>9446</th>\n",
       "      <td>6026137302</td>\n",
       "      <td>6026243758</td>\n",
       "      <td>2017-07-20 00:00:00</td>\n",
       "      <td>NaN</td>\n",
       "      <td>NaN</td>\n",
       "      <td>N</td>\n",
       "      <td>ACTIVE</td>\n",
       "      <td>30</td>\n",
       "      <td>10</td>\n",
       "      <td>2.5</td>\n",
       "      <td>...</td>\n",
       "      <td>N</td>\n",
       "      <td>Y</td>\n",
       "      <td>NaN</td>\n",
       "      <td>N</td>\n",
       "      <td>NaN</td>\n",
       "      <td>NaN</td>\n",
       "      <td>NaN</td>\n",
       "      <td>NaN</td>\n",
       "      <td>NaN</td>\n",
       "      <td>NaN</td>\n",
       "    </tr>\n",
       "    <tr>\n",
       "      <th>9455</th>\n",
       "      <td>6027926750</td>\n",
       "      <td>6103653352</td>\n",
       "      <td>2022-09-12 00:00:00</td>\n",
       "      <td>NaN</td>\n",
       "      <td>NaN</td>\n",
       "      <td>N</td>\n",
       "      <td>ACTIVE</td>\n",
       "      <td>30</td>\n",
       "      <td>10</td>\n",
       "      <td>2.5</td>\n",
       "      <td>...</td>\n",
       "      <td>N</td>\n",
       "      <td>N</td>\n",
       "      <td>NaN</td>\n",
       "      <td>N</td>\n",
       "      <td>NaN</td>\n",
       "      <td>N</td>\n",
       "      <td>кардиолог МКДЦ (целевой уровень МНО 2,5-3,5)</td>\n",
       "      <td>NaN</td>\n",
       "      <td>NaN</td>\n",
       "      <td>NaN</td>\n",
       "    </tr>\n",
       "    <tr>\n",
       "      <th>9459</th>\n",
       "      <td>6026433462</td>\n",
       "      <td>6069098896</td>\n",
       "      <td>2021-07-16 00:00:00</td>\n",
       "      <td>NaN</td>\n",
       "      <td>NaN</td>\n",
       "      <td>N</td>\n",
       "      <td>SUSPENDED</td>\n",
       "      <td>30</td>\n",
       "      <td>10</td>\n",
       "      <td>2.5</td>\n",
       "      <td>...</td>\n",
       "      <td>N</td>\n",
       "      <td>Y</td>\n",
       "      <td>NaN</td>\n",
       "      <td>N</td>\n",
       "      <td>NaN</td>\n",
       "      <td>NaN</td>\n",
       "      <td>NaN</td>\n",
       "      <td>NaN</td>\n",
       "      <td>NaN</td>\n",
       "      <td>NaN</td>\n",
       "    </tr>\n",
       "  </tbody>\n",
       "</table>\n",
       "<p>1434 rows × 23 columns</p>\n",
       "</div>"
      ],
      "text/plain": [
       "         peso_id     trbh_id       effective_from         effective_to  \\\n",
       "6     6026393996  6059129490  2020-04-27 00:00:00  2021-09-03 00:00:00   \n",
       "21    6026351208  6049591760  2019-11-18 00:00:00  2021-09-03 00:00:00   \n",
       "23    6026138730  6026365748  2018-06-21 00:00:00  2018-08-13 00:00:00   \n",
       "40    6026136880  6026209870  2017-02-03 00:00:00  2019-09-07 00:00:00   \n",
       "42    6026299230  6043411018  2019-10-06 00:00:00  2023-05-13 00:00:00   \n",
       "...          ...         ...                  ...                  ...   \n",
       "9410  6026137296  6026243432  2017-07-19 00:00:00                  NaN   \n",
       "9442  6027962856  6116736742  2022-12-12 00:00:00                  NaN   \n",
       "9446  6026137302  6026243758  2017-07-20 00:00:00                  NaN   \n",
       "9455  6027926750  6103653352  2022-09-12 00:00:00                  NaN   \n",
       "9459  6026433462  6069098896  2021-07-16 00:00:00                  NaN   \n",
       "\n",
       "      duration_days duration_auto_stop     status  dosing_max_period  \\\n",
       "6               NaN                  N  COMPLETED                 30   \n",
       "21              NaN                  N  COMPLETED                 30   \n",
       "23              NaN                  N       DIED                 30   \n",
       "40              NaN                  N  COMPLETED                 30   \n",
       "42            184.0                  J  COMPLETED                 30   \n",
       "...             ...                ...        ...                ...   \n",
       "9410            NaN                  N     ACTIVE                 30   \n",
       "9442            NaN                  N     ACTIVE                 30   \n",
       "9446            NaN                  N     ACTIVE                 30   \n",
       "9455            NaN                  N     ACTIVE                 30   \n",
       "9459            NaN                  N  SUSPENDED                 30   \n",
       "\n",
       "      dosing_margin_days  target_range_deviation_lower  ...  \\\n",
       "6                     10                           2.5  ...   \n",
       "21                    10                           2.0  ...   \n",
       "23                    10                           2.0  ...   \n",
       "40                    10                           2.0  ...   \n",
       "42                    10                           2.0  ...   \n",
       "...                  ...                           ...  ...   \n",
       "9410                  10                           2.0  ...   \n",
       "9442                  10                           1.5  ...   \n",
       "9446                  10                           2.5  ...   \n",
       "9455                  10                           2.5  ...   \n",
       "9459                  10                           2.5  ...   \n",
       "\n",
       "      curr_status_selfdosing curr_status_regular curr_status_training  \\\n",
       "6                          N                   N                    N   \n",
       "21                         N                   N                    N   \n",
       "23                         N                   N                    N   \n",
       "40                         N                   N                    N   \n",
       "42                         N                   N                    N   \n",
       "...                      ...                 ...                  ...   \n",
       "9410                       N                   Y                  NaN   \n",
       "9442                       N                   Y                  NaN   \n",
       "9446                       N                   Y                  NaN   \n",
       "9455                       N                   N                  NaN   \n",
       "9459                       N                   Y                  NaN   \n",
       "\n",
       "     curr_status_home_poli curr_status_dosing_dr curr_status_new_patient  \\\n",
       "6                        N                   NaN                     NaN   \n",
       "21                       N                   NaN                     NaN   \n",
       "23                       N                   NaN                     NaN   \n",
       "40                       N                   NaN                     NaN   \n",
       "42                       N                   NaN                     NaN   \n",
       "...                    ...                   ...                     ...   \n",
       "9410                     N                   NaN                     NaN   \n",
       "9442                     N                   NaN                     NaN   \n",
       "9446                     N                   NaN                     NaN   \n",
       "9455                     N                   NaN                       N   \n",
       "9459                     N                   NaN                     NaN   \n",
       "\n",
       "                                    permanent_message puncture_list_message  \\\n",
       "6     пластика ТК, стентирование левой ПА в 2014 году                   NaN   \n",
       "21                                                NaN                   NaN   \n",
       "23                                                NaN                   NaN   \n",
       "40                                                NaN                   NaN   \n",
       "42                                                NaN                   NaN   \n",
       "...                                               ...                   ...   \n",
       "9410                                              NaN                   NaN   \n",
       "9442                                              NaN                   NaN   \n",
       "9446                                              NaN                   NaN   \n",
       "9455     кардиолог МКДЦ (целевой уровень МНО 2,5-3,5)                   NaN   \n",
       "9459                                              NaN                   NaN   \n",
       "\n",
       "     call_list_message                                   reason  \n",
       "6                  NaN                       return ''.'дубль';  \n",
       "21                 NaN                       return ''.'дубль';  \n",
       "23                 NaN                 return ''.'Просто умер';  \n",
       "40                 NaN  return gettext('Foutief ingevoerd').'';  \n",
       "42                 NaN  return ''.'кардиолог отменил варфарин';  \n",
       "...                ...                                      ...  \n",
       "9410               NaN                                      NaN  \n",
       "9442               NaN                                      NaN  \n",
       "9446               NaN                                      NaN  \n",
       "9455               NaN                                      NaN  \n",
       "9459               NaN                                      NaN  \n",
       "\n",
       "[1434 rows x 23 columns]"
      ]
     },
     "execution_count": 24,
     "metadata": {},
     "output_type": "execute_result"
    }
   ],
   "source": [
    "treatment_data.query('target_range_deviation_lower.notna()') # the list of patients with not empty personal target range"
   ]
  },
  {
   "cell_type": "markdown",
   "id": "4398ed70",
   "metadata": {},
   "source": [
    "**Объеденим информацию об автоматическом и ручном целевых диапазонах:**"
   ]
  },
  {
   "cell_type": "code",
   "execution_count": 25,
   "id": "56b9d84d",
   "metadata": {},
   "outputs": [
    {
     "data": {
      "text/html": [
       "<div>\n",
       "<style scoped>\n",
       "    .dataframe tbody tr th:only-of-type {\n",
       "        vertical-align: middle;\n",
       "    }\n",
       "\n",
       "    .dataframe tbody tr th {\n",
       "        vertical-align: top;\n",
       "    }\n",
       "\n",
       "    .dataframe thead th {\n",
       "        text-align: right;\n",
       "    }\n",
       "</style>\n",
       "<table border=\"1\" class=\"dataframe\">\n",
       "  <thead>\n",
       "    <tr style=\"text-align: right;\">\n",
       "      <th></th>\n",
       "      <th>peso_id</th>\n",
       "      <th>trbh_id</th>\n",
       "      <th>effective_from</th>\n",
       "      <th>effective_to</th>\n",
       "      <th>duration_days</th>\n",
       "      <th>duration_auto_stop</th>\n",
       "      <th>status</th>\n",
       "      <th>dosing_max_period</th>\n",
       "      <th>dosing_margin_days</th>\n",
       "      <th>target_range_deviation_lower</th>\n",
       "      <th>...</th>\n",
       "      <th>curr_status_regular</th>\n",
       "      <th>curr_status_training</th>\n",
       "      <th>curr_status_home_poli</th>\n",
       "      <th>curr_status_dosing_dr</th>\n",
       "      <th>curr_status_new_patient</th>\n",
       "      <th>permanent_message</th>\n",
       "      <th>puncture_list_message</th>\n",
       "      <th>call_list_message</th>\n",
       "      <th>reason</th>\n",
       "      <th>target_range</th>\n",
       "    </tr>\n",
       "  </thead>\n",
       "  <tbody>\n",
       "    <tr>\n",
       "      <th>0</th>\n",
       "      <td>6026136398</td>\n",
       "      <td>6026185844</td>\n",
       "      <td>2016-11-28 00:00:00</td>\n",
       "      <td>2016-11-28 00:00:00</td>\n",
       "      <td>NaN</td>\n",
       "      <td>N</td>\n",
       "      <td>DIED</td>\n",
       "      <td>21</td>\n",
       "      <td>3</td>\n",
       "      <td>NaN</td>\n",
       "      <td>...</td>\n",
       "      <td>N</td>\n",
       "      <td>N</td>\n",
       "      <td>N</td>\n",
       "      <td>NaN</td>\n",
       "      <td>Y</td>\n",
       "      <td>Пациент просто душка</td>\n",
       "      <td>NaN</td>\n",
       "      <td>NaN</td>\n",
       "      <td>return ''.'Он был просто душкой';</td>\n",
       "      <td>2</td>\n",
       "    </tr>\n",
       "    <tr>\n",
       "      <th>1</th>\n",
       "      <td>6026136402</td>\n",
       "      <td>6026186056</td>\n",
       "      <td>2016-11-28 00:00:00</td>\n",
       "      <td>2016-11-30 00:00:00</td>\n",
       "      <td>NaN</td>\n",
       "      <td>N</td>\n",
       "      <td>DIED</td>\n",
       "      <td>21</td>\n",
       "      <td>3</td>\n",
       "      <td>NaN</td>\n",
       "      <td>...</td>\n",
       "      <td>N</td>\n",
       "      <td>N</td>\n",
       "      <td>N</td>\n",
       "      <td>N</td>\n",
       "      <td>Y</td>\n",
       "      <td>Это черт во плоти</td>\n",
       "      <td>NaN</td>\n",
       "      <td>NaN</td>\n",
       "      <td>return ''.'тестовый';</td>\n",
       "      <td>1</td>\n",
       "    </tr>\n",
       "    <tr>\n",
       "      <th>2</th>\n",
       "      <td>6026136790</td>\n",
       "      <td>6026205794</td>\n",
       "      <td>2017-01-23 00:00:00</td>\n",
       "      <td>2021-09-16 00:00:00</td>\n",
       "      <td>NaN</td>\n",
       "      <td>N</td>\n",
       "      <td>COMPLETED</td>\n",
       "      <td>30</td>\n",
       "      <td>10</td>\n",
       "      <td>NaN</td>\n",
       "      <td>...</td>\n",
       "      <td>N</td>\n",
       "      <td>N</td>\n",
       "      <td>N</td>\n",
       "      <td>NaN</td>\n",
       "      <td>NaN</td>\n",
       "      <td>NaN</td>\n",
       "      <td>NaN</td>\n",
       "      <td>NaN</td>\n",
       "      <td>return ''.'не явка ';</td>\n",
       "      <td>2</td>\n",
       "    </tr>\n",
       "    <tr>\n",
       "      <th>3</th>\n",
       "      <td>6026136450</td>\n",
       "      <td>6026188328</td>\n",
       "      <td>2016-12-01 00:00:00</td>\n",
       "      <td>2016-12-02 00:00:00</td>\n",
       "      <td>NaN</td>\n",
       "      <td>N</td>\n",
       "      <td>DIED</td>\n",
       "      <td>21</td>\n",
       "      <td>3</td>\n",
       "      <td>NaN</td>\n",
       "      <td>...</td>\n",
       "      <td>N</td>\n",
       "      <td>N</td>\n",
       "      <td>N</td>\n",
       "      <td>NaN</td>\n",
       "      <td>Y</td>\n",
       "      <td>NaN</td>\n",
       "      <td>NaN</td>\n",
       "      <td>NaN</td>\n",
       "      <td>return ''.'бог дал бог взял';</td>\n",
       "      <td>2</td>\n",
       "    </tr>\n",
       "    <tr>\n",
       "      <th>4</th>\n",
       "      <td>6026136420</td>\n",
       "      <td>6026187004</td>\n",
       "      <td>2016-11-30 00:00:00</td>\n",
       "      <td>2016-12-02 00:00:00</td>\n",
       "      <td>NaN</td>\n",
       "      <td>N</td>\n",
       "      <td>COMPLETED</td>\n",
       "      <td>21</td>\n",
       "      <td>3</td>\n",
       "      <td>NaN</td>\n",
       "      <td>...</td>\n",
       "      <td>N</td>\n",
       "      <td>N</td>\n",
       "      <td>N</td>\n",
       "      <td>NaN</td>\n",
       "      <td>Y</td>\n",
       "      <td>тестовый пациент</td>\n",
       "      <td>NaN</td>\n",
       "      <td>NaN</td>\n",
       "      <td>return ''.'212313';</td>\n",
       "      <td>2</td>\n",
       "    </tr>\n",
       "    <tr>\n",
       "      <th>...</th>\n",
       "      <td>...</td>\n",
       "      <td>...</td>\n",
       "      <td>...</td>\n",
       "      <td>...</td>\n",
       "      <td>...</td>\n",
       "      <td>...</td>\n",
       "      <td>...</td>\n",
       "      <td>...</td>\n",
       "      <td>...</td>\n",
       "      <td>...</td>\n",
       "      <td>...</td>\n",
       "      <td>...</td>\n",
       "      <td>...</td>\n",
       "      <td>...</td>\n",
       "      <td>...</td>\n",
       "      <td>...</td>\n",
       "      <td>...</td>\n",
       "      <td>...</td>\n",
       "      <td>...</td>\n",
       "      <td>...</td>\n",
       "      <td>...</td>\n",
       "    </tr>\n",
       "    <tr>\n",
       "      <th>9455</th>\n",
       "      <td>6027855788</td>\n",
       "      <td>6082825142</td>\n",
       "      <td>2021-12-01 00:00:00</td>\n",
       "      <td>NaN</td>\n",
       "      <td>NaN</td>\n",
       "      <td>N</td>\n",
       "      <td>ACTIVE</td>\n",
       "      <td>30</td>\n",
       "      <td>10</td>\n",
       "      <td>NaN</td>\n",
       "      <td>...</td>\n",
       "      <td>Y</td>\n",
       "      <td>NaN</td>\n",
       "      <td>N</td>\n",
       "      <td>Y</td>\n",
       "      <td>NaN</td>\n",
       "      <td>NaN</td>\n",
       "      <td>NaN</td>\n",
       "      <td>NaN</td>\n",
       "      <td>NaN</td>\n",
       "      <td>1</td>\n",
       "    </tr>\n",
       "    <tr>\n",
       "      <th>9456</th>\n",
       "      <td>6026433462</td>\n",
       "      <td>6069098896</td>\n",
       "      <td>2021-07-16 00:00:00</td>\n",
       "      <td>NaN</td>\n",
       "      <td>NaN</td>\n",
       "      <td>N</td>\n",
       "      <td>SUSPENDED</td>\n",
       "      <td>30</td>\n",
       "      <td>10</td>\n",
       "      <td>2.5</td>\n",
       "      <td>...</td>\n",
       "      <td>Y</td>\n",
       "      <td>NaN</td>\n",
       "      <td>N</td>\n",
       "      <td>NaN</td>\n",
       "      <td>NaN</td>\n",
       "      <td>NaN</td>\n",
       "      <td>NaN</td>\n",
       "      <td>NaN</td>\n",
       "      <td>NaN</td>\n",
       "      <td>1</td>\n",
       "    </tr>\n",
       "    <tr>\n",
       "      <th>9457</th>\n",
       "      <td>6026261980</td>\n",
       "      <td>6039449544</td>\n",
       "      <td>2019-08-28 00:00:00</td>\n",
       "      <td>NaN</td>\n",
       "      <td>NaN</td>\n",
       "      <td>N</td>\n",
       "      <td>ACTIVE</td>\n",
       "      <td>30</td>\n",
       "      <td>10</td>\n",
       "      <td>NaN</td>\n",
       "      <td>...</td>\n",
       "      <td>Y</td>\n",
       "      <td>NaN</td>\n",
       "      <td>N</td>\n",
       "      <td>NaN</td>\n",
       "      <td>NaN</td>\n",
       "      <td>NaN</td>\n",
       "      <td>NaN</td>\n",
       "      <td>NaN</td>\n",
       "      <td>NaN</td>\n",
       "      <td>2</td>\n",
       "    </tr>\n",
       "    <tr>\n",
       "      <th>9458</th>\n",
       "      <td>6028009272</td>\n",
       "      <td>6137163088</td>\n",
       "      <td>2023-11-23 00:00:00</td>\n",
       "      <td>NaN</td>\n",
       "      <td>NaN</td>\n",
       "      <td>N</td>\n",
       "      <td>ACTIVE</td>\n",
       "      <td>30</td>\n",
       "      <td>10</td>\n",
       "      <td>NaN</td>\n",
       "      <td>...</td>\n",
       "      <td>Y</td>\n",
       "      <td>NaN</td>\n",
       "      <td>N</td>\n",
       "      <td>NaN</td>\n",
       "      <td>NaN</td>\n",
       "      <td>NaN</td>\n",
       "      <td>NaN</td>\n",
       "      <td>NaN</td>\n",
       "      <td>NaN</td>\n",
       "      <td>1</td>\n",
       "    </tr>\n",
       "    <tr>\n",
       "      <th>9459</th>\n",
       "      <td>6026223204</td>\n",
       "      <td>6034888672</td>\n",
       "      <td>2019-04-12 00:00:00</td>\n",
       "      <td>NaN</td>\n",
       "      <td>NaN</td>\n",
       "      <td>N</td>\n",
       "      <td>SUSPENDED</td>\n",
       "      <td>30</td>\n",
       "      <td>10</td>\n",
       "      <td>NaN</td>\n",
       "      <td>...</td>\n",
       "      <td>Y</td>\n",
       "      <td>NaN</td>\n",
       "      <td>N</td>\n",
       "      <td>NaN</td>\n",
       "      <td>NaN</td>\n",
       "      <td>NaN</td>\n",
       "      <td>NaN</td>\n",
       "      <td>NaN</td>\n",
       "      <td>NaN</td>\n",
       "      <td>1</td>\n",
       "    </tr>\n",
       "  </tbody>\n",
       "</table>\n",
       "<p>9460 rows × 24 columns</p>\n",
       "</div>"
      ],
      "text/plain": [
       "         peso_id     trbh_id       effective_from         effective_to  \\\n",
       "0     6026136398  6026185844  2016-11-28 00:00:00  2016-11-28 00:00:00   \n",
       "1     6026136402  6026186056  2016-11-28 00:00:00  2016-11-30 00:00:00   \n",
       "2     6026136790  6026205794  2017-01-23 00:00:00  2021-09-16 00:00:00   \n",
       "3     6026136450  6026188328  2016-12-01 00:00:00  2016-12-02 00:00:00   \n",
       "4     6026136420  6026187004  2016-11-30 00:00:00  2016-12-02 00:00:00   \n",
       "...          ...         ...                  ...                  ...   \n",
       "9455  6027855788  6082825142  2021-12-01 00:00:00                  NaN   \n",
       "9456  6026433462  6069098896  2021-07-16 00:00:00                  NaN   \n",
       "9457  6026261980  6039449544  2019-08-28 00:00:00                  NaN   \n",
       "9458  6028009272  6137163088  2023-11-23 00:00:00                  NaN   \n",
       "9459  6026223204  6034888672  2019-04-12 00:00:00                  NaN   \n",
       "\n",
       "      duration_days duration_auto_stop     status  dosing_max_period  \\\n",
       "0               NaN                  N       DIED                 21   \n",
       "1               NaN                  N       DIED                 21   \n",
       "2               NaN                  N  COMPLETED                 30   \n",
       "3               NaN                  N       DIED                 21   \n",
       "4               NaN                  N  COMPLETED                 21   \n",
       "...             ...                ...        ...                ...   \n",
       "9455            NaN                  N     ACTIVE                 30   \n",
       "9456            NaN                  N  SUSPENDED                 30   \n",
       "9457            NaN                  N     ACTIVE                 30   \n",
       "9458            NaN                  N     ACTIVE                 30   \n",
       "9459            NaN                  N  SUSPENDED                 30   \n",
       "\n",
       "      dosing_margin_days  target_range_deviation_lower  ...  \\\n",
       "0                      3                           NaN  ...   \n",
       "1                      3                           NaN  ...   \n",
       "2                     10                           NaN  ...   \n",
       "3                      3                           NaN  ...   \n",
       "4                      3                           NaN  ...   \n",
       "...                  ...                           ...  ...   \n",
       "9455                  10                           NaN  ...   \n",
       "9456                  10                           2.5  ...   \n",
       "9457                  10                           NaN  ...   \n",
       "9458                  10                           NaN  ...   \n",
       "9459                  10                           NaN  ...   \n",
       "\n",
       "      curr_status_regular curr_status_training curr_status_home_poli  \\\n",
       "0                       N                    N                     N   \n",
       "1                       N                    N                     N   \n",
       "2                       N                    N                     N   \n",
       "3                       N                    N                     N   \n",
       "4                       N                    N                     N   \n",
       "...                   ...                  ...                   ...   \n",
       "9455                    Y                  NaN                     N   \n",
       "9456                    Y                  NaN                     N   \n",
       "9457                    Y                  NaN                     N   \n",
       "9458                    Y                  NaN                     N   \n",
       "9459                    Y                  NaN                     N   \n",
       "\n",
       "     curr_status_dosing_dr curr_status_new_patient     permanent_message  \\\n",
       "0                      NaN                       Y  Пациент просто душка   \n",
       "1                        N                       Y     Это черт во плоти   \n",
       "2                      NaN                     NaN                   NaN   \n",
       "3                      NaN                       Y                   NaN   \n",
       "4                      NaN                       Y      тестовый пациент   \n",
       "...                    ...                     ...                   ...   \n",
       "9455                     Y                     NaN                   NaN   \n",
       "9456                   NaN                     NaN                   NaN   \n",
       "9457                   NaN                     NaN                   NaN   \n",
       "9458                   NaN                     NaN                   NaN   \n",
       "9459                   NaN                     NaN                   NaN   \n",
       "\n",
       "     puncture_list_message call_list_message  \\\n",
       "0                      NaN               NaN   \n",
       "1                      NaN               NaN   \n",
       "2                      NaN               NaN   \n",
       "3                      NaN               NaN   \n",
       "4                      NaN               NaN   \n",
       "...                    ...               ...   \n",
       "9455                   NaN               NaN   \n",
       "9456                   NaN               NaN   \n",
       "9457                   NaN               NaN   \n",
       "9458                   NaN               NaN   \n",
       "9459                   NaN               NaN   \n",
       "\n",
       "                                 reason target_range  \n",
       "0     return ''.'Он был просто душкой';            2  \n",
       "1                 return ''.'тестовый';            1  \n",
       "2                 return ''.'не явка ';            2  \n",
       "3         return ''.'бог дал бог взял';            2  \n",
       "4                   return ''.'212313';            2  \n",
       "...                                 ...          ...  \n",
       "9455                                NaN            1  \n",
       "9456                                NaN            1  \n",
       "9457                                NaN            2  \n",
       "9458                                NaN            1  \n",
       "9459                                NaN            1  \n",
       "\n",
       "[9460 rows x 24 columns]"
      ]
     },
     "execution_count": 25,
     "metadata": {},
     "output_type": "execute_result"
    }
   ],
   "source": [
    "ranges = treatment_data.merge(indications.groupby('peso_id')['target_range'].max(),on = 'peso_id') # here we have as personal as automatic target range\n",
    "ranges"
   ]
  },
  {
   "cell_type": "markdown",
   "id": "dc071825",
   "metadata": {},
   "source": [
    "**Добавим новые столбцы и заполним их нулями для удобства:**"
   ]
  },
  {
   "cell_type": "code",
   "execution_count": 26,
   "id": "b4049a6b",
   "metadata": {},
   "outputs": [],
   "source": [
    "ranges['final_lower']= [0 for i in range (len(ranges))]\n",
    "ranges['upper_lower']= [0 for i in range (len(ranges))]"
   ]
  },
  {
   "cell_type": "markdown",
   "id": "12c02447",
   "metadata": {},
   "source": [
    "**Посчитаем итоговый целевой диапазон для каждого пациента. Будем считать введенные врачом данные приоритетными:**"
   ]
  },
  {
   "cell_type": "code",
   "execution_count": 27,
   "id": "22219be2",
   "metadata": {},
   "outputs": [
    {
     "data": {
      "text/html": [
       "<div>\n",
       "<style scoped>\n",
       "    .dataframe tbody tr th:only-of-type {\n",
       "        vertical-align: middle;\n",
       "    }\n",
       "\n",
       "    .dataframe tbody tr th {\n",
       "        vertical-align: top;\n",
       "    }\n",
       "\n",
       "    .dataframe thead th {\n",
       "        text-align: right;\n",
       "    }\n",
       "</style>\n",
       "<table border=\"1\" class=\"dataframe\">\n",
       "  <thead>\n",
       "    <tr style=\"text-align: right;\">\n",
       "      <th></th>\n",
       "      <th>peso_id</th>\n",
       "      <th>target_range_deviation_lower</th>\n",
       "      <th>target_range_deviation_upper</th>\n",
       "      <th>target_range</th>\n",
       "      <th>final_lower</th>\n",
       "      <th>final_upper</th>\n",
       "    </tr>\n",
       "  </thead>\n",
       "  <tbody>\n",
       "    <tr>\n",
       "      <th>0</th>\n",
       "      <td>6026136398</td>\n",
       "      <td>NaN</td>\n",
       "      <td>NaN</td>\n",
       "      <td>2</td>\n",
       "      <td>2.5</td>\n",
       "      <td>3.5</td>\n",
       "    </tr>\n",
       "    <tr>\n",
       "      <th>1</th>\n",
       "      <td>6026136402</td>\n",
       "      <td>NaN</td>\n",
       "      <td>NaN</td>\n",
       "      <td>1</td>\n",
       "      <td>2.0</td>\n",
       "      <td>3.0</td>\n",
       "    </tr>\n",
       "    <tr>\n",
       "      <th>2</th>\n",
       "      <td>6026136790</td>\n",
       "      <td>NaN</td>\n",
       "      <td>NaN</td>\n",
       "      <td>2</td>\n",
       "      <td>2.5</td>\n",
       "      <td>3.5</td>\n",
       "    </tr>\n",
       "    <tr>\n",
       "      <th>3</th>\n",
       "      <td>6026136450</td>\n",
       "      <td>NaN</td>\n",
       "      <td>NaN</td>\n",
       "      <td>2</td>\n",
       "      <td>2.5</td>\n",
       "      <td>3.5</td>\n",
       "    </tr>\n",
       "    <tr>\n",
       "      <th>4</th>\n",
       "      <td>6026136420</td>\n",
       "      <td>NaN</td>\n",
       "      <td>NaN</td>\n",
       "      <td>2</td>\n",
       "      <td>2.5</td>\n",
       "      <td>3.5</td>\n",
       "    </tr>\n",
       "    <tr>\n",
       "      <th>...</th>\n",
       "      <td>...</td>\n",
       "      <td>...</td>\n",
       "      <td>...</td>\n",
       "      <td>...</td>\n",
       "      <td>...</td>\n",
       "      <td>...</td>\n",
       "    </tr>\n",
       "    <tr>\n",
       "      <th>9455</th>\n",
       "      <td>6027855788</td>\n",
       "      <td>NaN</td>\n",
       "      <td>NaN</td>\n",
       "      <td>1</td>\n",
       "      <td>2.0</td>\n",
       "      <td>3.0</td>\n",
       "    </tr>\n",
       "    <tr>\n",
       "      <th>9456</th>\n",
       "      <td>6026433462</td>\n",
       "      <td>2.5</td>\n",
       "      <td>3.0</td>\n",
       "      <td>1</td>\n",
       "      <td>2.5</td>\n",
       "      <td>3.0</td>\n",
       "    </tr>\n",
       "    <tr>\n",
       "      <th>9457</th>\n",
       "      <td>6026261980</td>\n",
       "      <td>NaN</td>\n",
       "      <td>NaN</td>\n",
       "      <td>2</td>\n",
       "      <td>2.5</td>\n",
       "      <td>3.5</td>\n",
       "    </tr>\n",
       "    <tr>\n",
       "      <th>9458</th>\n",
       "      <td>6028009272</td>\n",
       "      <td>NaN</td>\n",
       "      <td>NaN</td>\n",
       "      <td>1</td>\n",
       "      <td>2.0</td>\n",
       "      <td>3.0</td>\n",
       "    </tr>\n",
       "    <tr>\n",
       "      <th>9459</th>\n",
       "      <td>6026223204</td>\n",
       "      <td>NaN</td>\n",
       "      <td>NaN</td>\n",
       "      <td>1</td>\n",
       "      <td>2.0</td>\n",
       "      <td>3.0</td>\n",
       "    </tr>\n",
       "  </tbody>\n",
       "</table>\n",
       "<p>9460 rows × 6 columns</p>\n",
       "</div>"
      ],
      "text/plain": [
       "         peso_id  target_range_deviation_lower  target_range_deviation_upper  \\\n",
       "0     6026136398                           NaN                           NaN   \n",
       "1     6026136402                           NaN                           NaN   \n",
       "2     6026136790                           NaN                           NaN   \n",
       "3     6026136450                           NaN                           NaN   \n",
       "4     6026136420                           NaN                           NaN   \n",
       "...          ...                           ...                           ...   \n",
       "9455  6027855788                           NaN                           NaN   \n",
       "9456  6026433462                           2.5                           3.0   \n",
       "9457  6026261980                           NaN                           NaN   \n",
       "9458  6028009272                           NaN                           NaN   \n",
       "9459  6026223204                           NaN                           NaN   \n",
       "\n",
       "      target_range  final_lower  final_upper  \n",
       "0                2          2.5          3.5  \n",
       "1                1          2.0          3.0  \n",
       "2                2          2.5          3.5  \n",
       "3                2          2.5          3.5  \n",
       "4                2          2.5          3.5  \n",
       "...            ...          ...          ...  \n",
       "9455             1          2.0          3.0  \n",
       "9456             1          2.5          3.0  \n",
       "9457             2          2.5          3.5  \n",
       "9458             1          2.0          3.0  \n",
       "9459             1          2.0          3.0  \n",
       "\n",
       "[9460 rows x 6 columns]"
      ]
     },
     "execution_count": 27,
     "metadata": {},
     "output_type": "execute_result"
    }
   ],
   "source": [
    "for i in range(len(ranges)): # here the final taget range is calculated\n",
    "    if ranges.loc[i,'target_range_deviation_lower']>0:\n",
    "        ranges.loc[i,'final_lower'] = ranges.loc[i,'target_range_deviation_lower']\n",
    "        ranges.loc[i,'final_upper'] = ranges.loc[i,'target_range_deviation_upper']\n",
    "    elif ranges.loc[i,'target_range'] == 2:\n",
    "        ranges.loc[i,'final_lower'] = 2.5\n",
    "        ranges.loc[i,'final_upper'] = 3.5\n",
    "    elif ranges.loc[i,'target_range'] == 1:\n",
    "        ranges.loc[i,'final_lower'] = 2.0\n",
    "        ranges.loc[i,'final_upper'] = 3.0\n",
    "final_ranges = ranges[['peso_id', 'target_range_deviation_lower', 'target_range_deviation_upper', 'target_range','final_lower','final_upper']]\n",
    "final_ranges"
   ]
  },
  {
   "cell_type": "markdown",
   "id": "a899f4e8",
   "metadata": {},
   "source": [
    "**А теперь привяжем финальный целевой диапазон к таблице МНО:**"
   ]
  },
  {
   "cell_type": "code",
   "execution_count": 28,
   "id": "7e459026",
   "metadata": {},
   "outputs": [
    {
     "data": {
      "text/html": [
       "<div>\n",
       "<style scoped>\n",
       "    .dataframe tbody tr th:only-of-type {\n",
       "        vertical-align: middle;\n",
       "    }\n",
       "\n",
       "    .dataframe tbody tr th {\n",
       "        vertical-align: top;\n",
       "    }\n",
       "\n",
       "    .dataframe thead th {\n",
       "        text-align: right;\n",
       "    }\n",
       "</style>\n",
       "<table border=\"1\" class=\"dataframe\">\n",
       "  <thead>\n",
       "    <tr style=\"text-align: right;\">\n",
       "      <th></th>\n",
       "      <th>peso_id</th>\n",
       "      <th>trbh_id</th>\n",
       "      <th>inr_date</th>\n",
       "      <th>inr</th>\n",
       "      <th>method_cd</th>\n",
       "      <th>ind_status</th>\n",
       "      <th>list_nr</th>\n",
       "      <th>id</th>\n",
       "      <th>dosing_process_timestamp</th>\n",
       "      <th>reason_dosing_list</th>\n",
       "      <th>target_range_deviation_lower</th>\n",
       "      <th>target_range_deviation_upper</th>\n",
       "      <th>target_range</th>\n",
       "      <th>final_lower</th>\n",
       "      <th>final_upper</th>\n",
       "    </tr>\n",
       "  </thead>\n",
       "  <tbody>\n",
       "    <tr>\n",
       "      <th>0</th>\n",
       "      <td>6027991086</td>\n",
       "      <td>6131492478</td>\n",
       "      <td>2023-06-10 09:53:00</td>\n",
       "      <td>4.1</td>\n",
       "      <td>ZMA</td>\n",
       "      <td>CSP</td>\n",
       "      <td>3.0</td>\n",
       "      <td>6131840490</td>\n",
       "      <td>2023-06-10 09:54:57.089723</td>\n",
       "      <td>return ''.gettext('Er zijn minder dan 2 opeenv...</td>\n",
       "      <td>2.5</td>\n",
       "      <td>3.5</td>\n",
       "      <td>1</td>\n",
       "      <td>2.5</td>\n",
       "      <td>3.5</td>\n",
       "    </tr>\n",
       "    <tr>\n",
       "      <th>1</th>\n",
       "      <td>6026141152</td>\n",
       "      <td>6026512906</td>\n",
       "      <td>2023-09-01 06:49:00</td>\n",
       "      <td>1.7</td>\n",
       "      <td>ZMA</td>\n",
       "      <td>CSP</td>\n",
       "      <td>2.0</td>\n",
       "      <td>6134525496</td>\n",
       "      <td>2023-09-01 06:49:30.63231</td>\n",
       "      <td>return ''.sprintf(gettext('Huidige INR %s ligt...</td>\n",
       "      <td>2.5</td>\n",
       "      <td>3.5</td>\n",
       "      <td>1</td>\n",
       "      <td>2.5</td>\n",
       "      <td>3.5</td>\n",
       "    </tr>\n",
       "    <tr>\n",
       "      <th>2</th>\n",
       "      <td>6026141152</td>\n",
       "      <td>6026512906</td>\n",
       "      <td>2020-04-29 00:00:00</td>\n",
       "      <td>3.2</td>\n",
       "      <td>ZMA</td>\n",
       "      <td>CSP</td>\n",
       "      <td>2.0</td>\n",
       "      <td>6059205866</td>\n",
       "      <td>2020-04-29 17:35:39.170686</td>\n",
       "      <td>return ''.sprintf(gettext('Vorige INR %s (%s) ...</td>\n",
       "      <td>2.5</td>\n",
       "      <td>3.5</td>\n",
       "      <td>1</td>\n",
       "      <td>2.5</td>\n",
       "      <td>3.5</td>\n",
       "    </tr>\n",
       "    <tr>\n",
       "      <th>3</th>\n",
       "      <td>6026141152</td>\n",
       "      <td>6026512906</td>\n",
       "      <td>2020-05-28 00:00:00</td>\n",
       "      <td>2.5</td>\n",
       "      <td>ZMA</td>\n",
       "      <td>CSP</td>\n",
       "      <td>2.0</td>\n",
       "      <td>6059638402</td>\n",
       "      <td>2020-05-28 14:24:20.39494</td>\n",
       "      <td>return ''.sprintf(gettext('Aantal wegzenddagen...</td>\n",
       "      <td>2.5</td>\n",
       "      <td>3.5</td>\n",
       "      <td>1</td>\n",
       "      <td>2.5</td>\n",
       "      <td>3.5</td>\n",
       "    </tr>\n",
       "    <tr>\n",
       "      <th>4</th>\n",
       "      <td>6026141152</td>\n",
       "      <td>6026512906</td>\n",
       "      <td>2020-07-08 00:00:00</td>\n",
       "      <td>2.6</td>\n",
       "      <td>ZMA</td>\n",
       "      <td>CSP</td>\n",
       "      <td>2.0</td>\n",
       "      <td>6060016868</td>\n",
       "      <td>2020-07-08 14:59:13.154197</td>\n",
       "      <td>return ''.sprintf(gettext('Aantal wegzenddagen...</td>\n",
       "      <td>2.5</td>\n",
       "      <td>3.5</td>\n",
       "      <td>1</td>\n",
       "      <td>2.5</td>\n",
       "      <td>3.5</td>\n",
       "    </tr>\n",
       "    <tr>\n",
       "      <th>...</th>\n",
       "      <td>...</td>\n",
       "      <td>...</td>\n",
       "      <td>...</td>\n",
       "      <td>...</td>\n",
       "      <td>...</td>\n",
       "      <td>...</td>\n",
       "      <td>...</td>\n",
       "      <td>...</td>\n",
       "      <td>...</td>\n",
       "      <td>...</td>\n",
       "      <td>...</td>\n",
       "      <td>...</td>\n",
       "      <td>...</td>\n",
       "      <td>...</td>\n",
       "      <td>...</td>\n",
       "    </tr>\n",
       "    <tr>\n",
       "      <th>167152</th>\n",
       "      <td>6027983126</td>\n",
       "      <td>6127118628</td>\n",
       "      <td>2023-03-28 00:00:00</td>\n",
       "      <td>1.8</td>\n",
       "      <td>LAB</td>\n",
       "      <td>HCSP</td>\n",
       "      <td>NaN</td>\n",
       "      <td>6127118654</td>\n",
       "      <td>NaN</td>\n",
       "      <td>NaN</td>\n",
       "      <td>NaN</td>\n",
       "      <td>NaN</td>\n",
       "      <td>2</td>\n",
       "      <td>2.5</td>\n",
       "      <td>3.5</td>\n",
       "    </tr>\n",
       "    <tr>\n",
       "      <th>167153</th>\n",
       "      <td>6026181484</td>\n",
       "      <td>6030459068</td>\n",
       "      <td>2018-12-11 00:00:00</td>\n",
       "      <td>1.7</td>\n",
       "      <td>LAB</td>\n",
       "      <td>CSP</td>\n",
       "      <td>NaN</td>\n",
       "      <td>6031693262</td>\n",
       "      <td>NaN</td>\n",
       "      <td>NaN</td>\n",
       "      <td>2.5</td>\n",
       "      <td>3.0</td>\n",
       "      <td>1</td>\n",
       "      <td>2.5</td>\n",
       "      <td>3.0</td>\n",
       "    </tr>\n",
       "    <tr>\n",
       "      <th>167154</th>\n",
       "      <td>6026421830</td>\n",
       "      <td>6066926304</td>\n",
       "      <td>2021-03-24 00:00:00</td>\n",
       "      <td>2.3</td>\n",
       "      <td>LAB</td>\n",
       "      <td>HCSP</td>\n",
       "      <td>NaN</td>\n",
       "      <td>6066926332</td>\n",
       "      <td>NaN</td>\n",
       "      <td>NaN</td>\n",
       "      <td>2.0</td>\n",
       "      <td>3.0</td>\n",
       "      <td>1</td>\n",
       "      <td>2.0</td>\n",
       "      <td>3.0</td>\n",
       "    </tr>\n",
       "    <tr>\n",
       "      <th>167155</th>\n",
       "      <td>6027973170</td>\n",
       "      <td>6120390772</td>\n",
       "      <td>2023-10-10 00:00:00</td>\n",
       "      <td>2.5</td>\n",
       "      <td>LAB</td>\n",
       "      <td>CSP</td>\n",
       "      <td>NaN</td>\n",
       "      <td>6136278298</td>\n",
       "      <td>NaN</td>\n",
       "      <td>NaN</td>\n",
       "      <td>NaN</td>\n",
       "      <td>NaN</td>\n",
       "      <td>2</td>\n",
       "      <td>2.5</td>\n",
       "      <td>3.5</td>\n",
       "    </tr>\n",
       "    <tr>\n",
       "      <th>167156</th>\n",
       "      <td>6027973170</td>\n",
       "      <td>6120390772</td>\n",
       "      <td>2023-09-15 00:00:00</td>\n",
       "      <td>2.0</td>\n",
       "      <td>LAB</td>\n",
       "      <td>CSP</td>\n",
       "      <td>NaN</td>\n",
       "      <td>6136278104</td>\n",
       "      <td>NaN</td>\n",
       "      <td>NaN</td>\n",
       "      <td>NaN</td>\n",
       "      <td>NaN</td>\n",
       "      <td>2</td>\n",
       "      <td>2.5</td>\n",
       "      <td>3.5</td>\n",
       "    </tr>\n",
       "  </tbody>\n",
       "</table>\n",
       "<p>167157 rows × 15 columns</p>\n",
       "</div>"
      ],
      "text/plain": [
       "           peso_id     trbh_id             inr_date  inr method_cd ind_status  \\\n",
       "0       6027991086  6131492478  2023-06-10 09:53:00  4.1       ZMA        CSP   \n",
       "1       6026141152  6026512906  2023-09-01 06:49:00  1.7       ZMA        CSP   \n",
       "2       6026141152  6026512906  2020-04-29 00:00:00  3.2       ZMA        CSP   \n",
       "3       6026141152  6026512906  2020-05-28 00:00:00  2.5       ZMA        CSP   \n",
       "4       6026141152  6026512906  2020-07-08 00:00:00  2.6       ZMA        CSP   \n",
       "...            ...         ...                  ...  ...       ...        ...   \n",
       "167152  6027983126  6127118628  2023-03-28 00:00:00  1.8       LAB       HCSP   \n",
       "167153  6026181484  6030459068  2018-12-11 00:00:00  1.7       LAB        CSP   \n",
       "167154  6026421830  6066926304  2021-03-24 00:00:00  2.3       LAB       HCSP   \n",
       "167155  6027973170  6120390772  2023-10-10 00:00:00  2.5       LAB        CSP   \n",
       "167156  6027973170  6120390772  2023-09-15 00:00:00  2.0       LAB        CSP   \n",
       "\n",
       "        list_nr          id    dosing_process_timestamp  \\\n",
       "0           3.0  6131840490  2023-06-10 09:54:57.089723   \n",
       "1           2.0  6134525496   2023-09-01 06:49:30.63231   \n",
       "2           2.0  6059205866  2020-04-29 17:35:39.170686   \n",
       "3           2.0  6059638402   2020-05-28 14:24:20.39494   \n",
       "4           2.0  6060016868  2020-07-08 14:59:13.154197   \n",
       "...         ...         ...                         ...   \n",
       "167152      NaN  6127118654                         NaN   \n",
       "167153      NaN  6031693262                         NaN   \n",
       "167154      NaN  6066926332                         NaN   \n",
       "167155      NaN  6136278298                         NaN   \n",
       "167156      NaN  6136278104                         NaN   \n",
       "\n",
       "                                       reason_dosing_list  \\\n",
       "0       return ''.gettext('Er zijn minder dan 2 opeenv...   \n",
       "1       return ''.sprintf(gettext('Huidige INR %s ligt...   \n",
       "2       return ''.sprintf(gettext('Vorige INR %s (%s) ...   \n",
       "3       return ''.sprintf(gettext('Aantal wegzenddagen...   \n",
       "4       return ''.sprintf(gettext('Aantal wegzenddagen...   \n",
       "...                                                   ...   \n",
       "167152                                                NaN   \n",
       "167153                                                NaN   \n",
       "167154                                                NaN   \n",
       "167155                                                NaN   \n",
       "167156                                                NaN   \n",
       "\n",
       "        target_range_deviation_lower  target_range_deviation_upper  \\\n",
       "0                                2.5                           3.5   \n",
       "1                                2.5                           3.5   \n",
       "2                                2.5                           3.5   \n",
       "3                                2.5                           3.5   \n",
       "4                                2.5                           3.5   \n",
       "...                              ...                           ...   \n",
       "167152                           NaN                           NaN   \n",
       "167153                           2.5                           3.0   \n",
       "167154                           2.0                           3.0   \n",
       "167155                           NaN                           NaN   \n",
       "167156                           NaN                           NaN   \n",
       "\n",
       "        target_range  final_lower  final_upper  \n",
       "0                  1          2.5          3.5  \n",
       "1                  1          2.5          3.5  \n",
       "2                  1          2.5          3.5  \n",
       "3                  1          2.5          3.5  \n",
       "4                  1          2.5          3.5  \n",
       "...              ...          ...          ...  \n",
       "167152             2          2.5          3.5  \n",
       "167153             1          2.5          3.0  \n",
       "167154             1          2.0          3.0  \n",
       "167155             2          2.5          3.5  \n",
       "167156             2          2.5          3.5  \n",
       "\n",
       "[167157 rows x 15 columns]"
      ]
     },
     "execution_count": 28,
     "metadata": {},
     "output_type": "execute_result"
    }
   ],
   "source": [
    "final_inr = inr.merge(final_ranges, on = 'peso_id') # All INRs with final target range\n",
    "#final_inr['peso_id'].nunique()\n",
    "final_inr"
   ]
  },
  {
   "cell_type": "markdown",
   "id": "2682b5e7",
   "metadata": {},
   "source": [
    "**Добавим столбец с признаком 'входит/не входит в целевой диапазон':**"
   ]
  },
  {
   "cell_type": "code",
   "execution_count": 29,
   "id": "77cb22c6",
   "metadata": {},
   "outputs": [
    {
     "data": {
      "text/html": [
       "<div>\n",
       "<style scoped>\n",
       "    .dataframe tbody tr th:only-of-type {\n",
       "        vertical-align: middle;\n",
       "    }\n",
       "\n",
       "    .dataframe tbody tr th {\n",
       "        vertical-align: top;\n",
       "    }\n",
       "\n",
       "    .dataframe thead th {\n",
       "        text-align: right;\n",
       "    }\n",
       "</style>\n",
       "<table border=\"1\" class=\"dataframe\">\n",
       "  <thead>\n",
       "    <tr style=\"text-align: right;\">\n",
       "      <th></th>\n",
       "      <th>peso_id</th>\n",
       "      <th>trbh_id</th>\n",
       "      <th>inr_date</th>\n",
       "      <th>inr</th>\n",
       "      <th>method_cd</th>\n",
       "      <th>ind_status</th>\n",
       "      <th>list_nr</th>\n",
       "      <th>id</th>\n",
       "      <th>dosing_process_timestamp</th>\n",
       "      <th>reason_dosing_list</th>\n",
       "      <th>target_range_deviation_lower</th>\n",
       "      <th>target_range_deviation_upper</th>\n",
       "      <th>target_range</th>\n",
       "      <th>final_lower</th>\n",
       "      <th>final_upper</th>\n",
       "      <th>inside</th>\n",
       "    </tr>\n",
       "  </thead>\n",
       "  <tbody>\n",
       "    <tr>\n",
       "      <th>0</th>\n",
       "      <td>6027991086</td>\n",
       "      <td>6131492478</td>\n",
       "      <td>2023-06-10 09:53:00</td>\n",
       "      <td>4.1</td>\n",
       "      <td>ZMA</td>\n",
       "      <td>CSP</td>\n",
       "      <td>3.0</td>\n",
       "      <td>6131840490</td>\n",
       "      <td>2023-06-10 09:54:57.089723</td>\n",
       "      <td>return ''.gettext('Er zijn minder dan 2 opeenv...</td>\n",
       "      <td>2.5</td>\n",
       "      <td>3.5</td>\n",
       "      <td>1</td>\n",
       "      <td>2.5</td>\n",
       "      <td>3.5</td>\n",
       "      <td>0.0</td>\n",
       "    </tr>\n",
       "    <tr>\n",
       "      <th>1</th>\n",
       "      <td>6026141152</td>\n",
       "      <td>6026512906</td>\n",
       "      <td>2023-09-01 06:49:00</td>\n",
       "      <td>1.7</td>\n",
       "      <td>ZMA</td>\n",
       "      <td>CSP</td>\n",
       "      <td>2.0</td>\n",
       "      <td>6134525496</td>\n",
       "      <td>2023-09-01 06:49:30.63231</td>\n",
       "      <td>return ''.sprintf(gettext('Huidige INR %s ligt...</td>\n",
       "      <td>2.5</td>\n",
       "      <td>3.5</td>\n",
       "      <td>1</td>\n",
       "      <td>2.5</td>\n",
       "      <td>3.5</td>\n",
       "      <td>0.0</td>\n",
       "    </tr>\n",
       "    <tr>\n",
       "      <th>2</th>\n",
       "      <td>6026141152</td>\n",
       "      <td>6026512906</td>\n",
       "      <td>2020-04-29 00:00:00</td>\n",
       "      <td>3.2</td>\n",
       "      <td>ZMA</td>\n",
       "      <td>CSP</td>\n",
       "      <td>2.0</td>\n",
       "      <td>6059205866</td>\n",
       "      <td>2020-04-29 17:35:39.170686</td>\n",
       "      <td>return ''.sprintf(gettext('Vorige INR %s (%s) ...</td>\n",
       "      <td>2.5</td>\n",
       "      <td>3.5</td>\n",
       "      <td>1</td>\n",
       "      <td>2.5</td>\n",
       "      <td>3.5</td>\n",
       "      <td>100.0</td>\n",
       "    </tr>\n",
       "    <tr>\n",
       "      <th>3</th>\n",
       "      <td>6026141152</td>\n",
       "      <td>6026512906</td>\n",
       "      <td>2020-05-28 00:00:00</td>\n",
       "      <td>2.5</td>\n",
       "      <td>ZMA</td>\n",
       "      <td>CSP</td>\n",
       "      <td>2.0</td>\n",
       "      <td>6059638402</td>\n",
       "      <td>2020-05-28 14:24:20.39494</td>\n",
       "      <td>return ''.sprintf(gettext('Aantal wegzenddagen...</td>\n",
       "      <td>2.5</td>\n",
       "      <td>3.5</td>\n",
       "      <td>1</td>\n",
       "      <td>2.5</td>\n",
       "      <td>3.5</td>\n",
       "      <td>100.0</td>\n",
       "    </tr>\n",
       "    <tr>\n",
       "      <th>4</th>\n",
       "      <td>6026141152</td>\n",
       "      <td>6026512906</td>\n",
       "      <td>2020-07-08 00:00:00</td>\n",
       "      <td>2.6</td>\n",
       "      <td>ZMA</td>\n",
       "      <td>CSP</td>\n",
       "      <td>2.0</td>\n",
       "      <td>6060016868</td>\n",
       "      <td>2020-07-08 14:59:13.154197</td>\n",
       "      <td>return ''.sprintf(gettext('Aantal wegzenddagen...</td>\n",
       "      <td>2.5</td>\n",
       "      <td>3.5</td>\n",
       "      <td>1</td>\n",
       "      <td>2.5</td>\n",
       "      <td>3.5</td>\n",
       "      <td>100.0</td>\n",
       "    </tr>\n",
       "    <tr>\n",
       "      <th>...</th>\n",
       "      <td>...</td>\n",
       "      <td>...</td>\n",
       "      <td>...</td>\n",
       "      <td>...</td>\n",
       "      <td>...</td>\n",
       "      <td>...</td>\n",
       "      <td>...</td>\n",
       "      <td>...</td>\n",
       "      <td>...</td>\n",
       "      <td>...</td>\n",
       "      <td>...</td>\n",
       "      <td>...</td>\n",
       "      <td>...</td>\n",
       "      <td>...</td>\n",
       "      <td>...</td>\n",
       "      <td>...</td>\n",
       "    </tr>\n",
       "    <tr>\n",
       "      <th>167152</th>\n",
       "      <td>6027983126</td>\n",
       "      <td>6127118628</td>\n",
       "      <td>2023-03-28 00:00:00</td>\n",
       "      <td>1.8</td>\n",
       "      <td>LAB</td>\n",
       "      <td>HCSP</td>\n",
       "      <td>NaN</td>\n",
       "      <td>6127118654</td>\n",
       "      <td>NaN</td>\n",
       "      <td>NaN</td>\n",
       "      <td>NaN</td>\n",
       "      <td>NaN</td>\n",
       "      <td>2</td>\n",
       "      <td>2.5</td>\n",
       "      <td>3.5</td>\n",
       "      <td>0.0</td>\n",
       "    </tr>\n",
       "    <tr>\n",
       "      <th>167153</th>\n",
       "      <td>6026181484</td>\n",
       "      <td>6030459068</td>\n",
       "      <td>2018-12-11 00:00:00</td>\n",
       "      <td>1.7</td>\n",
       "      <td>LAB</td>\n",
       "      <td>CSP</td>\n",
       "      <td>NaN</td>\n",
       "      <td>6031693262</td>\n",
       "      <td>NaN</td>\n",
       "      <td>NaN</td>\n",
       "      <td>2.5</td>\n",
       "      <td>3.0</td>\n",
       "      <td>1</td>\n",
       "      <td>2.5</td>\n",
       "      <td>3.0</td>\n",
       "      <td>0.0</td>\n",
       "    </tr>\n",
       "    <tr>\n",
       "      <th>167154</th>\n",
       "      <td>6026421830</td>\n",
       "      <td>6066926304</td>\n",
       "      <td>2021-03-24 00:00:00</td>\n",
       "      <td>2.3</td>\n",
       "      <td>LAB</td>\n",
       "      <td>HCSP</td>\n",
       "      <td>NaN</td>\n",
       "      <td>6066926332</td>\n",
       "      <td>NaN</td>\n",
       "      <td>NaN</td>\n",
       "      <td>2.0</td>\n",
       "      <td>3.0</td>\n",
       "      <td>1</td>\n",
       "      <td>2.0</td>\n",
       "      <td>3.0</td>\n",
       "      <td>100.0</td>\n",
       "    </tr>\n",
       "    <tr>\n",
       "      <th>167155</th>\n",
       "      <td>6027973170</td>\n",
       "      <td>6120390772</td>\n",
       "      <td>2023-10-10 00:00:00</td>\n",
       "      <td>2.5</td>\n",
       "      <td>LAB</td>\n",
       "      <td>CSP</td>\n",
       "      <td>NaN</td>\n",
       "      <td>6136278298</td>\n",
       "      <td>NaN</td>\n",
       "      <td>NaN</td>\n",
       "      <td>NaN</td>\n",
       "      <td>NaN</td>\n",
       "      <td>2</td>\n",
       "      <td>2.5</td>\n",
       "      <td>3.5</td>\n",
       "      <td>100.0</td>\n",
       "    </tr>\n",
       "    <tr>\n",
       "      <th>167156</th>\n",
       "      <td>6027973170</td>\n",
       "      <td>6120390772</td>\n",
       "      <td>2023-09-15 00:00:00</td>\n",
       "      <td>2.0</td>\n",
       "      <td>LAB</td>\n",
       "      <td>CSP</td>\n",
       "      <td>NaN</td>\n",
       "      <td>6136278104</td>\n",
       "      <td>NaN</td>\n",
       "      <td>NaN</td>\n",
       "      <td>NaN</td>\n",
       "      <td>NaN</td>\n",
       "      <td>2</td>\n",
       "      <td>2.5</td>\n",
       "      <td>3.5</td>\n",
       "      <td>0.0</td>\n",
       "    </tr>\n",
       "  </tbody>\n",
       "</table>\n",
       "<p>167157 rows × 16 columns</p>\n",
       "</div>"
      ],
      "text/plain": [
       "           peso_id     trbh_id             inr_date  inr method_cd ind_status  \\\n",
       "0       6027991086  6131492478  2023-06-10 09:53:00  4.1       ZMA        CSP   \n",
       "1       6026141152  6026512906  2023-09-01 06:49:00  1.7       ZMA        CSP   \n",
       "2       6026141152  6026512906  2020-04-29 00:00:00  3.2       ZMA        CSP   \n",
       "3       6026141152  6026512906  2020-05-28 00:00:00  2.5       ZMA        CSP   \n",
       "4       6026141152  6026512906  2020-07-08 00:00:00  2.6       ZMA        CSP   \n",
       "...            ...         ...                  ...  ...       ...        ...   \n",
       "167152  6027983126  6127118628  2023-03-28 00:00:00  1.8       LAB       HCSP   \n",
       "167153  6026181484  6030459068  2018-12-11 00:00:00  1.7       LAB        CSP   \n",
       "167154  6026421830  6066926304  2021-03-24 00:00:00  2.3       LAB       HCSP   \n",
       "167155  6027973170  6120390772  2023-10-10 00:00:00  2.5       LAB        CSP   \n",
       "167156  6027973170  6120390772  2023-09-15 00:00:00  2.0       LAB        CSP   \n",
       "\n",
       "        list_nr          id    dosing_process_timestamp  \\\n",
       "0           3.0  6131840490  2023-06-10 09:54:57.089723   \n",
       "1           2.0  6134525496   2023-09-01 06:49:30.63231   \n",
       "2           2.0  6059205866  2020-04-29 17:35:39.170686   \n",
       "3           2.0  6059638402   2020-05-28 14:24:20.39494   \n",
       "4           2.0  6060016868  2020-07-08 14:59:13.154197   \n",
       "...         ...         ...                         ...   \n",
       "167152      NaN  6127118654                         NaN   \n",
       "167153      NaN  6031693262                         NaN   \n",
       "167154      NaN  6066926332                         NaN   \n",
       "167155      NaN  6136278298                         NaN   \n",
       "167156      NaN  6136278104                         NaN   \n",
       "\n",
       "                                       reason_dosing_list  \\\n",
       "0       return ''.gettext('Er zijn minder dan 2 opeenv...   \n",
       "1       return ''.sprintf(gettext('Huidige INR %s ligt...   \n",
       "2       return ''.sprintf(gettext('Vorige INR %s (%s) ...   \n",
       "3       return ''.sprintf(gettext('Aantal wegzenddagen...   \n",
       "4       return ''.sprintf(gettext('Aantal wegzenddagen...   \n",
       "...                                                   ...   \n",
       "167152                                                NaN   \n",
       "167153                                                NaN   \n",
       "167154                                                NaN   \n",
       "167155                                                NaN   \n",
       "167156                                                NaN   \n",
       "\n",
       "        target_range_deviation_lower  target_range_deviation_upper  \\\n",
       "0                                2.5                           3.5   \n",
       "1                                2.5                           3.5   \n",
       "2                                2.5                           3.5   \n",
       "3                                2.5                           3.5   \n",
       "4                                2.5                           3.5   \n",
       "...                              ...                           ...   \n",
       "167152                           NaN                           NaN   \n",
       "167153                           2.5                           3.0   \n",
       "167154                           2.0                           3.0   \n",
       "167155                           NaN                           NaN   \n",
       "167156                           NaN                           NaN   \n",
       "\n",
       "        target_range  final_lower  final_upper  inside  \n",
       "0                  1          2.5          3.5     0.0  \n",
       "1                  1          2.5          3.5     0.0  \n",
       "2                  1          2.5          3.5   100.0  \n",
       "3                  1          2.5          3.5   100.0  \n",
       "4                  1          2.5          3.5   100.0  \n",
       "...              ...          ...          ...     ...  \n",
       "167152             2          2.5          3.5     0.0  \n",
       "167153             1          2.5          3.0     0.0  \n",
       "167154             1          2.0          3.0   100.0  \n",
       "167155             2          2.5          3.5   100.0  \n",
       "167156             2          2.5          3.5     0.0  \n",
       "\n",
       "[167157 rows x 16 columns]"
      ]
     },
     "execution_count": 29,
     "metadata": {},
     "output_type": "execute_result"
    }
   ],
   "source": [
    "for i in range(len(final_inr)): # here the new column \"inside\" is filled in\n",
    "    if final_inr.loc[i,'final_lower']<=final_inr.loc[i,'inr']<=final_inr.loc[i,'final_upper']:\n",
    "        final_inr.loc[i,'inside'] = 100\n",
    "    else:\n",
    "        final_inr.loc[i,'inside'] = 0\n",
    "final_inr        "
   ]
  },
  {
   "cell_type": "markdown",
   "id": "b2a3ea9c",
   "metadata": {},
   "source": [
    "**Добавим столбец с годом взятия МНО для последующей группировки:**"
   ]
  },
  {
   "cell_type": "code",
   "execution_count": 30,
   "id": "ff121ff2",
   "metadata": {
    "scrolled": true
   },
   "outputs": [
    {
     "data": {
      "text/html": [
       "<div>\n",
       "<style scoped>\n",
       "    .dataframe tbody tr th:only-of-type {\n",
       "        vertical-align: middle;\n",
       "    }\n",
       "\n",
       "    .dataframe tbody tr th {\n",
       "        vertical-align: top;\n",
       "    }\n",
       "\n",
       "    .dataframe thead th {\n",
       "        text-align: right;\n",
       "    }\n",
       "</style>\n",
       "<table border=\"1\" class=\"dataframe\">\n",
       "  <thead>\n",
       "    <tr style=\"text-align: right;\">\n",
       "      <th></th>\n",
       "      <th>peso_id</th>\n",
       "      <th>trbh_id</th>\n",
       "      <th>inr_date</th>\n",
       "      <th>inr</th>\n",
       "      <th>method_cd</th>\n",
       "      <th>ind_status</th>\n",
       "      <th>list_nr</th>\n",
       "      <th>id</th>\n",
       "      <th>dosing_process_timestamp</th>\n",
       "      <th>reason_dosing_list</th>\n",
       "      <th>target_range_deviation_lower</th>\n",
       "      <th>target_range_deviation_upper</th>\n",
       "      <th>target_range</th>\n",
       "      <th>final_lower</th>\n",
       "      <th>final_upper</th>\n",
       "      <th>inside</th>\n",
       "      <th>year</th>\n",
       "    </tr>\n",
       "  </thead>\n",
       "  <tbody>\n",
       "    <tr>\n",
       "      <th>0</th>\n",
       "      <td>6027991086</td>\n",
       "      <td>6131492478</td>\n",
       "      <td>2023-06-10 09:53:00</td>\n",
       "      <td>4.1</td>\n",
       "      <td>ZMA</td>\n",
       "      <td>CSP</td>\n",
       "      <td>3.0</td>\n",
       "      <td>6131840490</td>\n",
       "      <td>2023-06-10 09:54:57.089723</td>\n",
       "      <td>return ''.gettext('Er zijn minder dan 2 opeenv...</td>\n",
       "      <td>2.5</td>\n",
       "      <td>3.5</td>\n",
       "      <td>1</td>\n",
       "      <td>2.5</td>\n",
       "      <td>3.5</td>\n",
       "      <td>0.0</td>\n",
       "      <td>2023</td>\n",
       "    </tr>\n",
       "    <tr>\n",
       "      <th>1</th>\n",
       "      <td>6026141152</td>\n",
       "      <td>6026512906</td>\n",
       "      <td>2023-09-01 06:49:00</td>\n",
       "      <td>1.7</td>\n",
       "      <td>ZMA</td>\n",
       "      <td>CSP</td>\n",
       "      <td>2.0</td>\n",
       "      <td>6134525496</td>\n",
       "      <td>2023-09-01 06:49:30.63231</td>\n",
       "      <td>return ''.sprintf(gettext('Huidige INR %s ligt...</td>\n",
       "      <td>2.5</td>\n",
       "      <td>3.5</td>\n",
       "      <td>1</td>\n",
       "      <td>2.5</td>\n",
       "      <td>3.5</td>\n",
       "      <td>0.0</td>\n",
       "      <td>2023</td>\n",
       "    </tr>\n",
       "    <tr>\n",
       "      <th>2</th>\n",
       "      <td>6026141152</td>\n",
       "      <td>6026512906</td>\n",
       "      <td>2020-04-29 00:00:00</td>\n",
       "      <td>3.2</td>\n",
       "      <td>ZMA</td>\n",
       "      <td>CSP</td>\n",
       "      <td>2.0</td>\n",
       "      <td>6059205866</td>\n",
       "      <td>2020-04-29 17:35:39.170686</td>\n",
       "      <td>return ''.sprintf(gettext('Vorige INR %s (%s) ...</td>\n",
       "      <td>2.5</td>\n",
       "      <td>3.5</td>\n",
       "      <td>1</td>\n",
       "      <td>2.5</td>\n",
       "      <td>3.5</td>\n",
       "      <td>100.0</td>\n",
       "      <td>2020</td>\n",
       "    </tr>\n",
       "    <tr>\n",
       "      <th>3</th>\n",
       "      <td>6026141152</td>\n",
       "      <td>6026512906</td>\n",
       "      <td>2020-05-28 00:00:00</td>\n",
       "      <td>2.5</td>\n",
       "      <td>ZMA</td>\n",
       "      <td>CSP</td>\n",
       "      <td>2.0</td>\n",
       "      <td>6059638402</td>\n",
       "      <td>2020-05-28 14:24:20.39494</td>\n",
       "      <td>return ''.sprintf(gettext('Aantal wegzenddagen...</td>\n",
       "      <td>2.5</td>\n",
       "      <td>3.5</td>\n",
       "      <td>1</td>\n",
       "      <td>2.5</td>\n",
       "      <td>3.5</td>\n",
       "      <td>100.0</td>\n",
       "      <td>2020</td>\n",
       "    </tr>\n",
       "    <tr>\n",
       "      <th>4</th>\n",
       "      <td>6026141152</td>\n",
       "      <td>6026512906</td>\n",
       "      <td>2020-07-08 00:00:00</td>\n",
       "      <td>2.6</td>\n",
       "      <td>ZMA</td>\n",
       "      <td>CSP</td>\n",
       "      <td>2.0</td>\n",
       "      <td>6060016868</td>\n",
       "      <td>2020-07-08 14:59:13.154197</td>\n",
       "      <td>return ''.sprintf(gettext('Aantal wegzenddagen...</td>\n",
       "      <td>2.5</td>\n",
       "      <td>3.5</td>\n",
       "      <td>1</td>\n",
       "      <td>2.5</td>\n",
       "      <td>3.5</td>\n",
       "      <td>100.0</td>\n",
       "      <td>2020</td>\n",
       "    </tr>\n",
       "    <tr>\n",
       "      <th>...</th>\n",
       "      <td>...</td>\n",
       "      <td>...</td>\n",
       "      <td>...</td>\n",
       "      <td>...</td>\n",
       "      <td>...</td>\n",
       "      <td>...</td>\n",
       "      <td>...</td>\n",
       "      <td>...</td>\n",
       "      <td>...</td>\n",
       "      <td>...</td>\n",
       "      <td>...</td>\n",
       "      <td>...</td>\n",
       "      <td>...</td>\n",
       "      <td>...</td>\n",
       "      <td>...</td>\n",
       "      <td>...</td>\n",
       "      <td>...</td>\n",
       "    </tr>\n",
       "    <tr>\n",
       "      <th>167152</th>\n",
       "      <td>6027983126</td>\n",
       "      <td>6127118628</td>\n",
       "      <td>2023-03-28 00:00:00</td>\n",
       "      <td>1.8</td>\n",
       "      <td>LAB</td>\n",
       "      <td>HCSP</td>\n",
       "      <td>NaN</td>\n",
       "      <td>6127118654</td>\n",
       "      <td>NaN</td>\n",
       "      <td>NaN</td>\n",
       "      <td>NaN</td>\n",
       "      <td>NaN</td>\n",
       "      <td>2</td>\n",
       "      <td>2.5</td>\n",
       "      <td>3.5</td>\n",
       "      <td>0.0</td>\n",
       "      <td>2023</td>\n",
       "    </tr>\n",
       "    <tr>\n",
       "      <th>167153</th>\n",
       "      <td>6026181484</td>\n",
       "      <td>6030459068</td>\n",
       "      <td>2018-12-11 00:00:00</td>\n",
       "      <td>1.7</td>\n",
       "      <td>LAB</td>\n",
       "      <td>CSP</td>\n",
       "      <td>NaN</td>\n",
       "      <td>6031693262</td>\n",
       "      <td>NaN</td>\n",
       "      <td>NaN</td>\n",
       "      <td>2.5</td>\n",
       "      <td>3.0</td>\n",
       "      <td>1</td>\n",
       "      <td>2.5</td>\n",
       "      <td>3.0</td>\n",
       "      <td>0.0</td>\n",
       "      <td>2018</td>\n",
       "    </tr>\n",
       "    <tr>\n",
       "      <th>167154</th>\n",
       "      <td>6026421830</td>\n",
       "      <td>6066926304</td>\n",
       "      <td>2021-03-24 00:00:00</td>\n",
       "      <td>2.3</td>\n",
       "      <td>LAB</td>\n",
       "      <td>HCSP</td>\n",
       "      <td>NaN</td>\n",
       "      <td>6066926332</td>\n",
       "      <td>NaN</td>\n",
       "      <td>NaN</td>\n",
       "      <td>2.0</td>\n",
       "      <td>3.0</td>\n",
       "      <td>1</td>\n",
       "      <td>2.0</td>\n",
       "      <td>3.0</td>\n",
       "      <td>100.0</td>\n",
       "      <td>2021</td>\n",
       "    </tr>\n",
       "    <tr>\n",
       "      <th>167155</th>\n",
       "      <td>6027973170</td>\n",
       "      <td>6120390772</td>\n",
       "      <td>2023-10-10 00:00:00</td>\n",
       "      <td>2.5</td>\n",
       "      <td>LAB</td>\n",
       "      <td>CSP</td>\n",
       "      <td>NaN</td>\n",
       "      <td>6136278298</td>\n",
       "      <td>NaN</td>\n",
       "      <td>NaN</td>\n",
       "      <td>NaN</td>\n",
       "      <td>NaN</td>\n",
       "      <td>2</td>\n",
       "      <td>2.5</td>\n",
       "      <td>3.5</td>\n",
       "      <td>100.0</td>\n",
       "      <td>2023</td>\n",
       "    </tr>\n",
       "    <tr>\n",
       "      <th>167156</th>\n",
       "      <td>6027973170</td>\n",
       "      <td>6120390772</td>\n",
       "      <td>2023-09-15 00:00:00</td>\n",
       "      <td>2.0</td>\n",
       "      <td>LAB</td>\n",
       "      <td>CSP</td>\n",
       "      <td>NaN</td>\n",
       "      <td>6136278104</td>\n",
       "      <td>NaN</td>\n",
       "      <td>NaN</td>\n",
       "      <td>NaN</td>\n",
       "      <td>NaN</td>\n",
       "      <td>2</td>\n",
       "      <td>2.5</td>\n",
       "      <td>3.5</td>\n",
       "      <td>0.0</td>\n",
       "      <td>2023</td>\n",
       "    </tr>\n",
       "  </tbody>\n",
       "</table>\n",
       "<p>167157 rows × 17 columns</p>\n",
       "</div>"
      ],
      "text/plain": [
       "           peso_id     trbh_id             inr_date  inr method_cd ind_status  \\\n",
       "0       6027991086  6131492478  2023-06-10 09:53:00  4.1       ZMA        CSP   \n",
       "1       6026141152  6026512906  2023-09-01 06:49:00  1.7       ZMA        CSP   \n",
       "2       6026141152  6026512906  2020-04-29 00:00:00  3.2       ZMA        CSP   \n",
       "3       6026141152  6026512906  2020-05-28 00:00:00  2.5       ZMA        CSP   \n",
       "4       6026141152  6026512906  2020-07-08 00:00:00  2.6       ZMA        CSP   \n",
       "...            ...         ...                  ...  ...       ...        ...   \n",
       "167152  6027983126  6127118628  2023-03-28 00:00:00  1.8       LAB       HCSP   \n",
       "167153  6026181484  6030459068  2018-12-11 00:00:00  1.7       LAB        CSP   \n",
       "167154  6026421830  6066926304  2021-03-24 00:00:00  2.3       LAB       HCSP   \n",
       "167155  6027973170  6120390772  2023-10-10 00:00:00  2.5       LAB        CSP   \n",
       "167156  6027973170  6120390772  2023-09-15 00:00:00  2.0       LAB        CSP   \n",
       "\n",
       "        list_nr          id    dosing_process_timestamp  \\\n",
       "0           3.0  6131840490  2023-06-10 09:54:57.089723   \n",
       "1           2.0  6134525496   2023-09-01 06:49:30.63231   \n",
       "2           2.0  6059205866  2020-04-29 17:35:39.170686   \n",
       "3           2.0  6059638402   2020-05-28 14:24:20.39494   \n",
       "4           2.0  6060016868  2020-07-08 14:59:13.154197   \n",
       "...         ...         ...                         ...   \n",
       "167152      NaN  6127118654                         NaN   \n",
       "167153      NaN  6031693262                         NaN   \n",
       "167154      NaN  6066926332                         NaN   \n",
       "167155      NaN  6136278298                         NaN   \n",
       "167156      NaN  6136278104                         NaN   \n",
       "\n",
       "                                       reason_dosing_list  \\\n",
       "0       return ''.gettext('Er zijn minder dan 2 opeenv...   \n",
       "1       return ''.sprintf(gettext('Huidige INR %s ligt...   \n",
       "2       return ''.sprintf(gettext('Vorige INR %s (%s) ...   \n",
       "3       return ''.sprintf(gettext('Aantal wegzenddagen...   \n",
       "4       return ''.sprintf(gettext('Aantal wegzenddagen...   \n",
       "...                                                   ...   \n",
       "167152                                                NaN   \n",
       "167153                                                NaN   \n",
       "167154                                                NaN   \n",
       "167155                                                NaN   \n",
       "167156                                                NaN   \n",
       "\n",
       "        target_range_deviation_lower  target_range_deviation_upper  \\\n",
       "0                                2.5                           3.5   \n",
       "1                                2.5                           3.5   \n",
       "2                                2.5                           3.5   \n",
       "3                                2.5                           3.5   \n",
       "4                                2.5                           3.5   \n",
       "...                              ...                           ...   \n",
       "167152                           NaN                           NaN   \n",
       "167153                           2.5                           3.0   \n",
       "167154                           2.0                           3.0   \n",
       "167155                           NaN                           NaN   \n",
       "167156                           NaN                           NaN   \n",
       "\n",
       "        target_range  final_lower  final_upper  inside  year  \n",
       "0                  1          2.5          3.5     0.0  2023  \n",
       "1                  1          2.5          3.5     0.0  2023  \n",
       "2                  1          2.5          3.5   100.0  2020  \n",
       "3                  1          2.5          3.5   100.0  2020  \n",
       "4                  1          2.5          3.5   100.0  2020  \n",
       "...              ...          ...          ...     ...   ...  \n",
       "167152             2          2.5          3.5     0.0  2023  \n",
       "167153             1          2.5          3.0     0.0  2018  \n",
       "167154             1          2.0          3.0   100.0  2021  \n",
       "167155             2          2.5          3.5   100.0  2023  \n",
       "167156             2          2.5          3.5     0.0  2023  \n",
       "\n",
       "[167157 rows x 17 columns]"
      ]
     },
     "execution_count": 30,
     "metadata": {},
     "output_type": "execute_result"
    }
   ],
   "source": [
    "final_inr['year'] = final_inr['inr_date'].astype(\"datetime64[ns]\").dt.to_period(\"Y\") #here the new column for year of INR is added\n",
    "final_inr"
   ]
  },
  {
   "cell_type": "markdown",
   "id": "415df5b9",
   "metadata": {},
   "source": [
    "**Рассчитаем TTR у всех пациентов с разбивкой по годам:**"
   ]
  },
  {
   "cell_type": "code",
   "execution_count": 31,
   "id": "b8bcc303",
   "metadata": {
    "scrolled": true
   },
   "outputs": [
    {
     "data": {
      "text/plain": [
       "year  method_cd\n",
       "2014  LAB           0.000000\n",
       "2015  LAB          50.000000\n",
       "2016  LAB          48.979592\n",
       "2017  LAB          51.554314\n",
       "      ZMA          33.333333\n",
       "2018  LAB          48.455975\n",
       "      ZMA          33.333333\n",
       "2019  LAB          50.305693\n",
       "      ZMA          38.068182\n",
       "2020  LAB          53.720029\n",
       "      ZMA          52.220114\n",
       "2021  LAB          54.310502\n",
       "      ZMA          60.069009\n",
       "2022  LAB          54.353473\n",
       "      ZMA          62.192530\n",
       "2023  LAB          56.205706\n",
       "      ZMA          58.846454\n",
       "2024  LAB          59.335850\n",
       "      ZMA          61.892131\n",
       "Name: inside, dtype: float64"
      ]
     },
     "execution_count": 31,
     "metadata": {},
     "output_type": "execute_result"
    }
   ],
   "source": [
    "final_inr.groupby(['year','method_cd'])['inside'].mean() #TTR"
   ]
  },
  {
   "cell_type": "code",
   "execution_count": 32,
   "id": "01cadecd",
   "metadata": {},
   "outputs": [
    {
     "data": {
      "text/html": [
       "<div>\n",
       "<style scoped>\n",
       "    .dataframe tbody tr th:only-of-type {\n",
       "        vertical-align: middle;\n",
       "    }\n",
       "\n",
       "    .dataframe tbody tr th {\n",
       "        vertical-align: top;\n",
       "    }\n",
       "\n",
       "    .dataframe thead th {\n",
       "        text-align: right;\n",
       "    }\n",
       "</style>\n",
       "<table border=\"1\" class=\"dataframe\">\n",
       "  <thead>\n",
       "    <tr style=\"text-align: right;\">\n",
       "      <th></th>\n",
       "      <th>Год</th>\n",
       "      <th>Тип_измерения</th>\n",
       "      <th>TTR</th>\n",
       "    </tr>\n",
       "  </thead>\n",
       "  <tbody>\n",
       "    <tr>\n",
       "      <th>0</th>\n",
       "      <td>2014</td>\n",
       "      <td>LAB</td>\n",
       "      <td>0.000000</td>\n",
       "    </tr>\n",
       "    <tr>\n",
       "      <th>1</th>\n",
       "      <td>2015</td>\n",
       "      <td>LAB</td>\n",
       "      <td>50.000000</td>\n",
       "    </tr>\n",
       "    <tr>\n",
       "      <th>2</th>\n",
       "      <td>2016</td>\n",
       "      <td>LAB</td>\n",
       "      <td>48.979592</td>\n",
       "    </tr>\n",
       "    <tr>\n",
       "      <th>3</th>\n",
       "      <td>2017</td>\n",
       "      <td>LAB</td>\n",
       "      <td>51.554314</td>\n",
       "    </tr>\n",
       "    <tr>\n",
       "      <th>4</th>\n",
       "      <td>2017</td>\n",
       "      <td>ZMA</td>\n",
       "      <td>33.333333</td>\n",
       "    </tr>\n",
       "    <tr>\n",
       "      <th>5</th>\n",
       "      <td>2018</td>\n",
       "      <td>LAB</td>\n",
       "      <td>48.455975</td>\n",
       "    </tr>\n",
       "    <tr>\n",
       "      <th>6</th>\n",
       "      <td>2018</td>\n",
       "      <td>ZMA</td>\n",
       "      <td>33.333333</td>\n",
       "    </tr>\n",
       "    <tr>\n",
       "      <th>7</th>\n",
       "      <td>2019</td>\n",
       "      <td>LAB</td>\n",
       "      <td>50.305693</td>\n",
       "    </tr>\n",
       "    <tr>\n",
       "      <th>8</th>\n",
       "      <td>2019</td>\n",
       "      <td>ZMA</td>\n",
       "      <td>38.068182</td>\n",
       "    </tr>\n",
       "    <tr>\n",
       "      <th>9</th>\n",
       "      <td>2020</td>\n",
       "      <td>LAB</td>\n",
       "      <td>53.720029</td>\n",
       "    </tr>\n",
       "    <tr>\n",
       "      <th>10</th>\n",
       "      <td>2020</td>\n",
       "      <td>ZMA</td>\n",
       "      <td>52.220114</td>\n",
       "    </tr>\n",
       "    <tr>\n",
       "      <th>11</th>\n",
       "      <td>2021</td>\n",
       "      <td>LAB</td>\n",
       "      <td>54.310502</td>\n",
       "    </tr>\n",
       "    <tr>\n",
       "      <th>12</th>\n",
       "      <td>2021</td>\n",
       "      <td>ZMA</td>\n",
       "      <td>60.069009</td>\n",
       "    </tr>\n",
       "    <tr>\n",
       "      <th>13</th>\n",
       "      <td>2022</td>\n",
       "      <td>LAB</td>\n",
       "      <td>54.353473</td>\n",
       "    </tr>\n",
       "    <tr>\n",
       "      <th>14</th>\n",
       "      <td>2022</td>\n",
       "      <td>ZMA</td>\n",
       "      <td>62.192530</td>\n",
       "    </tr>\n",
       "    <tr>\n",
       "      <th>15</th>\n",
       "      <td>2023</td>\n",
       "      <td>LAB</td>\n",
       "      <td>56.205706</td>\n",
       "    </tr>\n",
       "    <tr>\n",
       "      <th>16</th>\n",
       "      <td>2023</td>\n",
       "      <td>ZMA</td>\n",
       "      <td>58.846454</td>\n",
       "    </tr>\n",
       "    <tr>\n",
       "      <th>17</th>\n",
       "      <td>2024</td>\n",
       "      <td>LAB</td>\n",
       "      <td>59.335850</td>\n",
       "    </tr>\n",
       "    <tr>\n",
       "      <th>18</th>\n",
       "      <td>2024</td>\n",
       "      <td>ZMA</td>\n",
       "      <td>61.892131</td>\n",
       "    </tr>\n",
       "  </tbody>\n",
       "</table>\n",
       "</div>"
      ],
      "text/plain": [
       "     Год Тип_измерения        TTR\n",
       "0   2014           LAB   0.000000\n",
       "1   2015           LAB  50.000000\n",
       "2   2016           LAB  48.979592\n",
       "3   2017           LAB  51.554314\n",
       "4   2017           ZMA  33.333333\n",
       "5   2018           LAB  48.455975\n",
       "6   2018           ZMA  33.333333\n",
       "7   2019           LAB  50.305693\n",
       "8   2019           ZMA  38.068182\n",
       "9   2020           LAB  53.720029\n",
       "10  2020           ZMA  52.220114\n",
       "11  2021           LAB  54.310502\n",
       "12  2021           ZMA  60.069009\n",
       "13  2022           LAB  54.353473\n",
       "14  2022           ZMA  62.192530\n",
       "15  2023           LAB  56.205706\n",
       "16  2023           ZMA  58.846454\n",
       "17  2024           LAB  59.335850\n",
       "18  2024           ZMA  61.892131"
      ]
     },
     "execution_count": 32,
     "metadata": {},
     "output_type": "execute_result"
    }
   ],
   "source": [
    "TTR = final_inr.groupby(['year','method_cd'])['inside'].mean().reset_index()\n",
    "TTR.columns = [\"Год\", 'Тип_измерения', 'TTR']\n",
    "TTR['Год'] = TTR['Год'].dt.year\n",
    "TTR"
   ]
  },
  {
   "cell_type": "code",
   "execution_count": 33,
   "id": "330aaef4",
   "metadata": {
    "scrolled": true
   },
   "outputs": [
    {
     "data": {
      "application/vnd.plotly.v1+json": {
       "config": {
        "plotlyServerURL": "https://plot.ly"
       },
       "data": [
        {
         "hovertemplate": "Тип_измерения=LAB<br>Год=%{x}<br>TTR=%{y}<extra></extra>",
         "legendgroup": "LAB",
         "line": {
          "color": "#636efa",
          "dash": "solid"
         },
         "marker": {
          "symbol": "circle"
         },
         "mode": "lines",
         "name": "LAB",
         "orientation": "v",
         "showlegend": true,
         "type": "scatter",
         "x": [
          2014,
          2015,
          2016,
          2017,
          2018,
          2019,
          2020,
          2021,
          2022,
          2023,
          2024
         ],
         "xaxis": "x",
         "y": [
          0,
          50,
          48.97959183673469,
          51.55431365700314,
          48.455975203765355,
          50.305692676962096,
          53.72002919871975,
          54.31050228310502,
          54.35347299531087,
          56.20570645730695,
          59.335850351810535
         ],
         "yaxis": "y"
        },
        {
         "hovertemplate": "Тип_измерения=ZMA<br>Год=%{x}<br>TTR=%{y}<extra></extra>",
         "legendgroup": "ZMA",
         "line": {
          "color": "#EF553B",
          "dash": "solid"
         },
         "marker": {
          "symbol": "circle"
         },
         "mode": "lines",
         "name": "ZMA",
         "orientation": "v",
         "showlegend": true,
         "type": "scatter",
         "x": [
          2017,
          2018,
          2019,
          2020,
          2021,
          2022,
          2023,
          2024
         ],
         "xaxis": "x",
         "y": [
          33.333333333333336,
          33.333333333333336,
          38.06818181818182,
          52.22011385199241,
          60.06900878293601,
          62.192529608259946,
          58.846453624318,
          61.8921308576481
         ],
         "yaxis": "y"
        }
       ],
       "layout": {
        "legend": {
         "title": {
          "text": "Тип_измерения"
         },
         "tracegroupgap": 0
        },
        "template": {
         "data": {
          "bar": [
           {
            "error_x": {
             "color": "#2a3f5f"
            },
            "error_y": {
             "color": "#2a3f5f"
            },
            "marker": {
             "line": {
              "color": "#E5ECF6",
              "width": 0.5
             },
             "pattern": {
              "fillmode": "overlay",
              "size": 10,
              "solidity": 0.2
             }
            },
            "type": "bar"
           }
          ],
          "barpolar": [
           {
            "marker": {
             "line": {
              "color": "#E5ECF6",
              "width": 0.5
             },
             "pattern": {
              "fillmode": "overlay",
              "size": 10,
              "solidity": 0.2
             }
            },
            "type": "barpolar"
           }
          ],
          "carpet": [
           {
            "aaxis": {
             "endlinecolor": "#2a3f5f",
             "gridcolor": "white",
             "linecolor": "white",
             "minorgridcolor": "white",
             "startlinecolor": "#2a3f5f"
            },
            "baxis": {
             "endlinecolor": "#2a3f5f",
             "gridcolor": "white",
             "linecolor": "white",
             "minorgridcolor": "white",
             "startlinecolor": "#2a3f5f"
            },
            "type": "carpet"
           }
          ],
          "choropleth": [
           {
            "colorbar": {
             "outlinewidth": 0,
             "ticks": ""
            },
            "type": "choropleth"
           }
          ],
          "contour": [
           {
            "colorbar": {
             "outlinewidth": 0,
             "ticks": ""
            },
            "colorscale": [
             [
              0,
              "#0d0887"
             ],
             [
              0.1111111111111111,
              "#46039f"
             ],
             [
              0.2222222222222222,
              "#7201a8"
             ],
             [
              0.3333333333333333,
              "#9c179e"
             ],
             [
              0.4444444444444444,
              "#bd3786"
             ],
             [
              0.5555555555555556,
              "#d8576b"
             ],
             [
              0.6666666666666666,
              "#ed7953"
             ],
             [
              0.7777777777777778,
              "#fb9f3a"
             ],
             [
              0.8888888888888888,
              "#fdca26"
             ],
             [
              1,
              "#f0f921"
             ]
            ],
            "type": "contour"
           }
          ],
          "contourcarpet": [
           {
            "colorbar": {
             "outlinewidth": 0,
             "ticks": ""
            },
            "type": "contourcarpet"
           }
          ],
          "heatmap": [
           {
            "colorbar": {
             "outlinewidth": 0,
             "ticks": ""
            },
            "colorscale": [
             [
              0,
              "#0d0887"
             ],
             [
              0.1111111111111111,
              "#46039f"
             ],
             [
              0.2222222222222222,
              "#7201a8"
             ],
             [
              0.3333333333333333,
              "#9c179e"
             ],
             [
              0.4444444444444444,
              "#bd3786"
             ],
             [
              0.5555555555555556,
              "#d8576b"
             ],
             [
              0.6666666666666666,
              "#ed7953"
             ],
             [
              0.7777777777777778,
              "#fb9f3a"
             ],
             [
              0.8888888888888888,
              "#fdca26"
             ],
             [
              1,
              "#f0f921"
             ]
            ],
            "type": "heatmap"
           }
          ],
          "heatmapgl": [
           {
            "colorbar": {
             "outlinewidth": 0,
             "ticks": ""
            },
            "colorscale": [
             [
              0,
              "#0d0887"
             ],
             [
              0.1111111111111111,
              "#46039f"
             ],
             [
              0.2222222222222222,
              "#7201a8"
             ],
             [
              0.3333333333333333,
              "#9c179e"
             ],
             [
              0.4444444444444444,
              "#bd3786"
             ],
             [
              0.5555555555555556,
              "#d8576b"
             ],
             [
              0.6666666666666666,
              "#ed7953"
             ],
             [
              0.7777777777777778,
              "#fb9f3a"
             ],
             [
              0.8888888888888888,
              "#fdca26"
             ],
             [
              1,
              "#f0f921"
             ]
            ],
            "type": "heatmapgl"
           }
          ],
          "histogram": [
           {
            "marker": {
             "pattern": {
              "fillmode": "overlay",
              "size": 10,
              "solidity": 0.2
             }
            },
            "type": "histogram"
           }
          ],
          "histogram2d": [
           {
            "colorbar": {
             "outlinewidth": 0,
             "ticks": ""
            },
            "colorscale": [
             [
              0,
              "#0d0887"
             ],
             [
              0.1111111111111111,
              "#46039f"
             ],
             [
              0.2222222222222222,
              "#7201a8"
             ],
             [
              0.3333333333333333,
              "#9c179e"
             ],
             [
              0.4444444444444444,
              "#bd3786"
             ],
             [
              0.5555555555555556,
              "#d8576b"
             ],
             [
              0.6666666666666666,
              "#ed7953"
             ],
             [
              0.7777777777777778,
              "#fb9f3a"
             ],
             [
              0.8888888888888888,
              "#fdca26"
             ],
             [
              1,
              "#f0f921"
             ]
            ],
            "type": "histogram2d"
           }
          ],
          "histogram2dcontour": [
           {
            "colorbar": {
             "outlinewidth": 0,
             "ticks": ""
            },
            "colorscale": [
             [
              0,
              "#0d0887"
             ],
             [
              0.1111111111111111,
              "#46039f"
             ],
             [
              0.2222222222222222,
              "#7201a8"
             ],
             [
              0.3333333333333333,
              "#9c179e"
             ],
             [
              0.4444444444444444,
              "#bd3786"
             ],
             [
              0.5555555555555556,
              "#d8576b"
             ],
             [
              0.6666666666666666,
              "#ed7953"
             ],
             [
              0.7777777777777778,
              "#fb9f3a"
             ],
             [
              0.8888888888888888,
              "#fdca26"
             ],
             [
              1,
              "#f0f921"
             ]
            ],
            "type": "histogram2dcontour"
           }
          ],
          "mesh3d": [
           {
            "colorbar": {
             "outlinewidth": 0,
             "ticks": ""
            },
            "type": "mesh3d"
           }
          ],
          "parcoords": [
           {
            "line": {
             "colorbar": {
              "outlinewidth": 0,
              "ticks": ""
             }
            },
            "type": "parcoords"
           }
          ],
          "pie": [
           {
            "automargin": true,
            "type": "pie"
           }
          ],
          "scatter": [
           {
            "fillpattern": {
             "fillmode": "overlay",
             "size": 10,
             "solidity": 0.2
            },
            "type": "scatter"
           }
          ],
          "scatter3d": [
           {
            "line": {
             "colorbar": {
              "outlinewidth": 0,
              "ticks": ""
             }
            },
            "marker": {
             "colorbar": {
              "outlinewidth": 0,
              "ticks": ""
             }
            },
            "type": "scatter3d"
           }
          ],
          "scattercarpet": [
           {
            "marker": {
             "colorbar": {
              "outlinewidth": 0,
              "ticks": ""
             }
            },
            "type": "scattercarpet"
           }
          ],
          "scattergeo": [
           {
            "marker": {
             "colorbar": {
              "outlinewidth": 0,
              "ticks": ""
             }
            },
            "type": "scattergeo"
           }
          ],
          "scattergl": [
           {
            "marker": {
             "colorbar": {
              "outlinewidth": 0,
              "ticks": ""
             }
            },
            "type": "scattergl"
           }
          ],
          "scattermapbox": [
           {
            "marker": {
             "colorbar": {
              "outlinewidth": 0,
              "ticks": ""
             }
            },
            "type": "scattermapbox"
           }
          ],
          "scatterpolar": [
           {
            "marker": {
             "colorbar": {
              "outlinewidth": 0,
              "ticks": ""
             }
            },
            "type": "scatterpolar"
           }
          ],
          "scatterpolargl": [
           {
            "marker": {
             "colorbar": {
              "outlinewidth": 0,
              "ticks": ""
             }
            },
            "type": "scatterpolargl"
           }
          ],
          "scatterternary": [
           {
            "marker": {
             "colorbar": {
              "outlinewidth": 0,
              "ticks": ""
             }
            },
            "type": "scatterternary"
           }
          ],
          "surface": [
           {
            "colorbar": {
             "outlinewidth": 0,
             "ticks": ""
            },
            "colorscale": [
             [
              0,
              "#0d0887"
             ],
             [
              0.1111111111111111,
              "#46039f"
             ],
             [
              0.2222222222222222,
              "#7201a8"
             ],
             [
              0.3333333333333333,
              "#9c179e"
             ],
             [
              0.4444444444444444,
              "#bd3786"
             ],
             [
              0.5555555555555556,
              "#d8576b"
             ],
             [
              0.6666666666666666,
              "#ed7953"
             ],
             [
              0.7777777777777778,
              "#fb9f3a"
             ],
             [
              0.8888888888888888,
              "#fdca26"
             ],
             [
              1,
              "#f0f921"
             ]
            ],
            "type": "surface"
           }
          ],
          "table": [
           {
            "cells": {
             "fill": {
              "color": "#EBF0F8"
             },
             "line": {
              "color": "white"
             }
            },
            "header": {
             "fill": {
              "color": "#C8D4E3"
             },
             "line": {
              "color": "white"
             }
            },
            "type": "table"
           }
          ]
         },
         "layout": {
          "annotationdefaults": {
           "arrowcolor": "#2a3f5f",
           "arrowhead": 0,
           "arrowwidth": 1
          },
          "autotypenumbers": "strict",
          "coloraxis": {
           "colorbar": {
            "outlinewidth": 0,
            "ticks": ""
           }
          },
          "colorscale": {
           "diverging": [
            [
             0,
             "#8e0152"
            ],
            [
             0.1,
             "#c51b7d"
            ],
            [
             0.2,
             "#de77ae"
            ],
            [
             0.3,
             "#f1b6da"
            ],
            [
             0.4,
             "#fde0ef"
            ],
            [
             0.5,
             "#f7f7f7"
            ],
            [
             0.6,
             "#e6f5d0"
            ],
            [
             0.7,
             "#b8e186"
            ],
            [
             0.8,
             "#7fbc41"
            ],
            [
             0.9,
             "#4d9221"
            ],
            [
             1,
             "#276419"
            ]
           ],
           "sequential": [
            [
             0,
             "#0d0887"
            ],
            [
             0.1111111111111111,
             "#46039f"
            ],
            [
             0.2222222222222222,
             "#7201a8"
            ],
            [
             0.3333333333333333,
             "#9c179e"
            ],
            [
             0.4444444444444444,
             "#bd3786"
            ],
            [
             0.5555555555555556,
             "#d8576b"
            ],
            [
             0.6666666666666666,
             "#ed7953"
            ],
            [
             0.7777777777777778,
             "#fb9f3a"
            ],
            [
             0.8888888888888888,
             "#fdca26"
            ],
            [
             1,
             "#f0f921"
            ]
           ],
           "sequentialminus": [
            [
             0,
             "#0d0887"
            ],
            [
             0.1111111111111111,
             "#46039f"
            ],
            [
             0.2222222222222222,
             "#7201a8"
            ],
            [
             0.3333333333333333,
             "#9c179e"
            ],
            [
             0.4444444444444444,
             "#bd3786"
            ],
            [
             0.5555555555555556,
             "#d8576b"
            ],
            [
             0.6666666666666666,
             "#ed7953"
            ],
            [
             0.7777777777777778,
             "#fb9f3a"
            ],
            [
             0.8888888888888888,
             "#fdca26"
            ],
            [
             1,
             "#f0f921"
            ]
           ]
          },
          "colorway": [
           "#636efa",
           "#EF553B",
           "#00cc96",
           "#ab63fa",
           "#FFA15A",
           "#19d3f3",
           "#FF6692",
           "#B6E880",
           "#FF97FF",
           "#FECB52"
          ],
          "font": {
           "color": "#2a3f5f"
          },
          "geo": {
           "bgcolor": "white",
           "lakecolor": "white",
           "landcolor": "#E5ECF6",
           "showlakes": true,
           "showland": true,
           "subunitcolor": "white"
          },
          "hoverlabel": {
           "align": "left"
          },
          "hovermode": "closest",
          "mapbox": {
           "style": "light"
          },
          "paper_bgcolor": "white",
          "plot_bgcolor": "#E5ECF6",
          "polar": {
           "angularaxis": {
            "gridcolor": "white",
            "linecolor": "white",
            "ticks": ""
           },
           "bgcolor": "#E5ECF6",
           "radialaxis": {
            "gridcolor": "white",
            "linecolor": "white",
            "ticks": ""
           }
          },
          "scene": {
           "xaxis": {
            "backgroundcolor": "#E5ECF6",
            "gridcolor": "white",
            "gridwidth": 2,
            "linecolor": "white",
            "showbackground": true,
            "ticks": "",
            "zerolinecolor": "white"
           },
           "yaxis": {
            "backgroundcolor": "#E5ECF6",
            "gridcolor": "white",
            "gridwidth": 2,
            "linecolor": "white",
            "showbackground": true,
            "ticks": "",
            "zerolinecolor": "white"
           },
           "zaxis": {
            "backgroundcolor": "#E5ECF6",
            "gridcolor": "white",
            "gridwidth": 2,
            "linecolor": "white",
            "showbackground": true,
            "ticks": "",
            "zerolinecolor": "white"
           }
          },
          "shapedefaults": {
           "line": {
            "color": "#2a3f5f"
           }
          },
          "ternary": {
           "aaxis": {
            "gridcolor": "white",
            "linecolor": "white",
            "ticks": ""
           },
           "baxis": {
            "gridcolor": "white",
            "linecolor": "white",
            "ticks": ""
           },
           "bgcolor": "#E5ECF6",
           "caxis": {
            "gridcolor": "white",
            "linecolor": "white",
            "ticks": ""
           }
          },
          "title": {
           "x": 0.05
          },
          "xaxis": {
           "automargin": true,
           "gridcolor": "white",
           "linecolor": "white",
           "ticks": "",
           "title": {
            "standoff": 15
           },
           "zerolinecolor": "white",
           "zerolinewidth": 2
          },
          "yaxis": {
           "automargin": true,
           "gridcolor": "white",
           "linecolor": "white",
           "ticks": "",
           "title": {
            "standoff": 15
           },
           "zerolinecolor": "white",
           "zerolinewidth": 2
          }
         }
        },
        "title": {
         "text": "TTR у всех пациентов с разбивкой по годам"
        },
        "xaxis": {
         "anchor": "y",
         "domain": [
          0,
          1
         ],
         "title": {
          "text": "Год"
         }
        },
        "yaxis": {
         "anchor": "x",
         "domain": [
          0,
          1
         ],
         "title": {
          "text": "TTR"
         }
        }
       }
      },
      "text/html": [
       "<div>                            <div id=\"92e79f60-da6e-4cf1-81f3-39874c769dcb\" class=\"plotly-graph-div\" style=\"height:525px; width:100%;\"></div>            <script type=\"text/javascript\">                require([\"plotly\"], function(Plotly) {                    window.PLOTLYENV=window.PLOTLYENV || {};                                    if (document.getElementById(\"92e79f60-da6e-4cf1-81f3-39874c769dcb\")) {                    Plotly.newPlot(                        \"92e79f60-da6e-4cf1-81f3-39874c769dcb\",                        [{\"hovertemplate\":\"\\u0422\\u0438\\u043f_\\u0438\\u0437\\u043c\\u0435\\u0440\\u0435\\u043d\\u0438\\u044f=LAB<br>\\u0413\\u043e\\u0434=%{x}<br>TTR=%{y}<extra></extra>\",\"legendgroup\":\"LAB\",\"line\":{\"color\":\"#636efa\",\"dash\":\"solid\"},\"marker\":{\"symbol\":\"circle\"},\"mode\":\"lines\",\"name\":\"LAB\",\"orientation\":\"v\",\"showlegend\":true,\"x\":[2014,2015,2016,2017,2018,2019,2020,2021,2022,2023,2024],\"xaxis\":\"x\",\"y\":[0.0,50.0,48.97959183673469,51.55431365700314,48.455975203765355,50.305692676962096,53.72002919871975,54.31050228310502,54.35347299531087,56.20570645730695,59.335850351810535],\"yaxis\":\"y\",\"type\":\"scatter\"},{\"hovertemplate\":\"\\u0422\\u0438\\u043f_\\u0438\\u0437\\u043c\\u0435\\u0440\\u0435\\u043d\\u0438\\u044f=ZMA<br>\\u0413\\u043e\\u0434=%{x}<br>TTR=%{y}<extra></extra>\",\"legendgroup\":\"ZMA\",\"line\":{\"color\":\"#EF553B\",\"dash\":\"solid\"},\"marker\":{\"symbol\":\"circle\"},\"mode\":\"lines\",\"name\":\"ZMA\",\"orientation\":\"v\",\"showlegend\":true,\"x\":[2017,2018,2019,2020,2021,2022,2023,2024],\"xaxis\":\"x\",\"y\":[33.333333333333336,33.333333333333336,38.06818181818182,52.22011385199241,60.06900878293601,62.192529608259946,58.846453624318,61.8921308576481],\"yaxis\":\"y\",\"type\":\"scatter\"}],                        {\"template\":{\"data\":{\"histogram2dcontour\":[{\"type\":\"histogram2dcontour\",\"colorbar\":{\"outlinewidth\":0,\"ticks\":\"\"},\"colorscale\":[[0.0,\"#0d0887\"],[0.1111111111111111,\"#46039f\"],[0.2222222222222222,\"#7201a8\"],[0.3333333333333333,\"#9c179e\"],[0.4444444444444444,\"#bd3786\"],[0.5555555555555556,\"#d8576b\"],[0.6666666666666666,\"#ed7953\"],[0.7777777777777778,\"#fb9f3a\"],[0.8888888888888888,\"#fdca26\"],[1.0,\"#f0f921\"]]}],\"choropleth\":[{\"type\":\"choropleth\",\"colorbar\":{\"outlinewidth\":0,\"ticks\":\"\"}}],\"histogram2d\":[{\"type\":\"histogram2d\",\"colorbar\":{\"outlinewidth\":0,\"ticks\":\"\"},\"colorscale\":[[0.0,\"#0d0887\"],[0.1111111111111111,\"#46039f\"],[0.2222222222222222,\"#7201a8\"],[0.3333333333333333,\"#9c179e\"],[0.4444444444444444,\"#bd3786\"],[0.5555555555555556,\"#d8576b\"],[0.6666666666666666,\"#ed7953\"],[0.7777777777777778,\"#fb9f3a\"],[0.8888888888888888,\"#fdca26\"],[1.0,\"#f0f921\"]]}],\"heatmap\":[{\"type\":\"heatmap\",\"colorbar\":{\"outlinewidth\":0,\"ticks\":\"\"},\"colorscale\":[[0.0,\"#0d0887\"],[0.1111111111111111,\"#46039f\"],[0.2222222222222222,\"#7201a8\"],[0.3333333333333333,\"#9c179e\"],[0.4444444444444444,\"#bd3786\"],[0.5555555555555556,\"#d8576b\"],[0.6666666666666666,\"#ed7953\"],[0.7777777777777778,\"#fb9f3a\"],[0.8888888888888888,\"#fdca26\"],[1.0,\"#f0f921\"]]}],\"heatmapgl\":[{\"type\":\"heatmapgl\",\"colorbar\":{\"outlinewidth\":0,\"ticks\":\"\"},\"colorscale\":[[0.0,\"#0d0887\"],[0.1111111111111111,\"#46039f\"],[0.2222222222222222,\"#7201a8\"],[0.3333333333333333,\"#9c179e\"],[0.4444444444444444,\"#bd3786\"],[0.5555555555555556,\"#d8576b\"],[0.6666666666666666,\"#ed7953\"],[0.7777777777777778,\"#fb9f3a\"],[0.8888888888888888,\"#fdca26\"],[1.0,\"#f0f921\"]]}],\"contourcarpet\":[{\"type\":\"contourcarpet\",\"colorbar\":{\"outlinewidth\":0,\"ticks\":\"\"}}],\"contour\":[{\"type\":\"contour\",\"colorbar\":{\"outlinewidth\":0,\"ticks\":\"\"},\"colorscale\":[[0.0,\"#0d0887\"],[0.1111111111111111,\"#46039f\"],[0.2222222222222222,\"#7201a8\"],[0.3333333333333333,\"#9c179e\"],[0.4444444444444444,\"#bd3786\"],[0.5555555555555556,\"#d8576b\"],[0.6666666666666666,\"#ed7953\"],[0.7777777777777778,\"#fb9f3a\"],[0.8888888888888888,\"#fdca26\"],[1.0,\"#f0f921\"]]}],\"surface\":[{\"type\":\"surface\",\"colorbar\":{\"outlinewidth\":0,\"ticks\":\"\"},\"colorscale\":[[0.0,\"#0d0887\"],[0.1111111111111111,\"#46039f\"],[0.2222222222222222,\"#7201a8\"],[0.3333333333333333,\"#9c179e\"],[0.4444444444444444,\"#bd3786\"],[0.5555555555555556,\"#d8576b\"],[0.6666666666666666,\"#ed7953\"],[0.7777777777777778,\"#fb9f3a\"],[0.8888888888888888,\"#fdca26\"],[1.0,\"#f0f921\"]]}],\"mesh3d\":[{\"type\":\"mesh3d\",\"colorbar\":{\"outlinewidth\":0,\"ticks\":\"\"}}],\"scatter\":[{\"fillpattern\":{\"fillmode\":\"overlay\",\"size\":10,\"solidity\":0.2},\"type\":\"scatter\"}],\"parcoords\":[{\"type\":\"parcoords\",\"line\":{\"colorbar\":{\"outlinewidth\":0,\"ticks\":\"\"}}}],\"scatterpolargl\":[{\"type\":\"scatterpolargl\",\"marker\":{\"colorbar\":{\"outlinewidth\":0,\"ticks\":\"\"}}}],\"bar\":[{\"error_x\":{\"color\":\"#2a3f5f\"},\"error_y\":{\"color\":\"#2a3f5f\"},\"marker\":{\"line\":{\"color\":\"#E5ECF6\",\"width\":0.5},\"pattern\":{\"fillmode\":\"overlay\",\"size\":10,\"solidity\":0.2}},\"type\":\"bar\"}],\"scattergeo\":[{\"type\":\"scattergeo\",\"marker\":{\"colorbar\":{\"outlinewidth\":0,\"ticks\":\"\"}}}],\"scatterpolar\":[{\"type\":\"scatterpolar\",\"marker\":{\"colorbar\":{\"outlinewidth\":0,\"ticks\":\"\"}}}],\"histogram\":[{\"marker\":{\"pattern\":{\"fillmode\":\"overlay\",\"size\":10,\"solidity\":0.2}},\"type\":\"histogram\"}],\"scattergl\":[{\"type\":\"scattergl\",\"marker\":{\"colorbar\":{\"outlinewidth\":0,\"ticks\":\"\"}}}],\"scatter3d\":[{\"type\":\"scatter3d\",\"line\":{\"colorbar\":{\"outlinewidth\":0,\"ticks\":\"\"}},\"marker\":{\"colorbar\":{\"outlinewidth\":0,\"ticks\":\"\"}}}],\"scattermapbox\":[{\"type\":\"scattermapbox\",\"marker\":{\"colorbar\":{\"outlinewidth\":0,\"ticks\":\"\"}}}],\"scatterternary\":[{\"type\":\"scatterternary\",\"marker\":{\"colorbar\":{\"outlinewidth\":0,\"ticks\":\"\"}}}],\"scattercarpet\":[{\"type\":\"scattercarpet\",\"marker\":{\"colorbar\":{\"outlinewidth\":0,\"ticks\":\"\"}}}],\"carpet\":[{\"aaxis\":{\"endlinecolor\":\"#2a3f5f\",\"gridcolor\":\"white\",\"linecolor\":\"white\",\"minorgridcolor\":\"white\",\"startlinecolor\":\"#2a3f5f\"},\"baxis\":{\"endlinecolor\":\"#2a3f5f\",\"gridcolor\":\"white\",\"linecolor\":\"white\",\"minorgridcolor\":\"white\",\"startlinecolor\":\"#2a3f5f\"},\"type\":\"carpet\"}],\"table\":[{\"cells\":{\"fill\":{\"color\":\"#EBF0F8\"},\"line\":{\"color\":\"white\"}},\"header\":{\"fill\":{\"color\":\"#C8D4E3\"},\"line\":{\"color\":\"white\"}},\"type\":\"table\"}],\"barpolar\":[{\"marker\":{\"line\":{\"color\":\"#E5ECF6\",\"width\":0.5},\"pattern\":{\"fillmode\":\"overlay\",\"size\":10,\"solidity\":0.2}},\"type\":\"barpolar\"}],\"pie\":[{\"automargin\":true,\"type\":\"pie\"}]},\"layout\":{\"autotypenumbers\":\"strict\",\"colorway\":[\"#636efa\",\"#EF553B\",\"#00cc96\",\"#ab63fa\",\"#FFA15A\",\"#19d3f3\",\"#FF6692\",\"#B6E880\",\"#FF97FF\",\"#FECB52\"],\"font\":{\"color\":\"#2a3f5f\"},\"hovermode\":\"closest\",\"hoverlabel\":{\"align\":\"left\"},\"paper_bgcolor\":\"white\",\"plot_bgcolor\":\"#E5ECF6\",\"polar\":{\"bgcolor\":\"#E5ECF6\",\"angularaxis\":{\"gridcolor\":\"white\",\"linecolor\":\"white\",\"ticks\":\"\"},\"radialaxis\":{\"gridcolor\":\"white\",\"linecolor\":\"white\",\"ticks\":\"\"}},\"ternary\":{\"bgcolor\":\"#E5ECF6\",\"aaxis\":{\"gridcolor\":\"white\",\"linecolor\":\"white\",\"ticks\":\"\"},\"baxis\":{\"gridcolor\":\"white\",\"linecolor\":\"white\",\"ticks\":\"\"},\"caxis\":{\"gridcolor\":\"white\",\"linecolor\":\"white\",\"ticks\":\"\"}},\"coloraxis\":{\"colorbar\":{\"outlinewidth\":0,\"ticks\":\"\"}},\"colorscale\":{\"sequential\":[[0.0,\"#0d0887\"],[0.1111111111111111,\"#46039f\"],[0.2222222222222222,\"#7201a8\"],[0.3333333333333333,\"#9c179e\"],[0.4444444444444444,\"#bd3786\"],[0.5555555555555556,\"#d8576b\"],[0.6666666666666666,\"#ed7953\"],[0.7777777777777778,\"#fb9f3a\"],[0.8888888888888888,\"#fdca26\"],[1.0,\"#f0f921\"]],\"sequentialminus\":[[0.0,\"#0d0887\"],[0.1111111111111111,\"#46039f\"],[0.2222222222222222,\"#7201a8\"],[0.3333333333333333,\"#9c179e\"],[0.4444444444444444,\"#bd3786\"],[0.5555555555555556,\"#d8576b\"],[0.6666666666666666,\"#ed7953\"],[0.7777777777777778,\"#fb9f3a\"],[0.8888888888888888,\"#fdca26\"],[1.0,\"#f0f921\"]],\"diverging\":[[0,\"#8e0152\"],[0.1,\"#c51b7d\"],[0.2,\"#de77ae\"],[0.3,\"#f1b6da\"],[0.4,\"#fde0ef\"],[0.5,\"#f7f7f7\"],[0.6,\"#e6f5d0\"],[0.7,\"#b8e186\"],[0.8,\"#7fbc41\"],[0.9,\"#4d9221\"],[1,\"#276419\"]]},\"xaxis\":{\"gridcolor\":\"white\",\"linecolor\":\"white\",\"ticks\":\"\",\"title\":{\"standoff\":15},\"zerolinecolor\":\"white\",\"automargin\":true,\"zerolinewidth\":2},\"yaxis\":{\"gridcolor\":\"white\",\"linecolor\":\"white\",\"ticks\":\"\",\"title\":{\"standoff\":15},\"zerolinecolor\":\"white\",\"automargin\":true,\"zerolinewidth\":2},\"scene\":{\"xaxis\":{\"backgroundcolor\":\"#E5ECF6\",\"gridcolor\":\"white\",\"linecolor\":\"white\",\"showbackground\":true,\"ticks\":\"\",\"zerolinecolor\":\"white\",\"gridwidth\":2},\"yaxis\":{\"backgroundcolor\":\"#E5ECF6\",\"gridcolor\":\"white\",\"linecolor\":\"white\",\"showbackground\":true,\"ticks\":\"\",\"zerolinecolor\":\"white\",\"gridwidth\":2},\"zaxis\":{\"backgroundcolor\":\"#E5ECF6\",\"gridcolor\":\"white\",\"linecolor\":\"white\",\"showbackground\":true,\"ticks\":\"\",\"zerolinecolor\":\"white\",\"gridwidth\":2}},\"shapedefaults\":{\"line\":{\"color\":\"#2a3f5f\"}},\"annotationdefaults\":{\"arrowcolor\":\"#2a3f5f\",\"arrowhead\":0,\"arrowwidth\":1},\"geo\":{\"bgcolor\":\"white\",\"landcolor\":\"#E5ECF6\",\"subunitcolor\":\"white\",\"showland\":true,\"showlakes\":true,\"lakecolor\":\"white\"},\"title\":{\"x\":0.05},\"mapbox\":{\"style\":\"light\"}}},\"xaxis\":{\"anchor\":\"y\",\"domain\":[0.0,1.0],\"title\":{\"text\":\"\\u0413\\u043e\\u0434\"}},\"yaxis\":{\"anchor\":\"x\",\"domain\":[0.0,1.0],\"title\":{\"text\":\"TTR\"}},\"legend\":{\"title\":{\"text\":\"\\u0422\\u0438\\u043f_\\u0438\\u0437\\u043c\\u0435\\u0440\\u0435\\u043d\\u0438\\u044f\"},\"tracegroupgap\":0},\"title\":{\"text\":\"TTR \\u0443 \\u0432\\u0441\\u0435\\u0445 \\u043f\\u0430\\u0446\\u0438\\u0435\\u043d\\u0442\\u043e\\u0432 \\u0441 \\u0440\\u0430\\u0437\\u0431\\u0438\\u0432\\u043a\\u043e\\u0439 \\u043f\\u043e \\u0433\\u043e\\u0434\\u0430\\u043c\"}},                        {\"responsive\": true}                    ).then(function(){\n",
       "                            \n",
       "var gd = document.getElementById('92e79f60-da6e-4cf1-81f3-39874c769dcb');\n",
       "var x = new MutationObserver(function (mutations, observer) {{\n",
       "        var display = window.getComputedStyle(gd).display;\n",
       "        if (!display || display === 'none') {{\n",
       "            console.log([gd, 'removed!']);\n",
       "            Plotly.purge(gd);\n",
       "            observer.disconnect();\n",
       "        }}\n",
       "}});\n",
       "\n",
       "// Listen for the removal of the full notebook cells\n",
       "var notebookContainer = gd.closest('#notebook-container');\n",
       "if (notebookContainer) {{\n",
       "    x.observe(notebookContainer, {childList: true});\n",
       "}}\n",
       "\n",
       "// Listen for the clearing of the current output cell\n",
       "var outputEl = gd.closest('.output');\n",
       "if (outputEl) {{\n",
       "    x.observe(outputEl, {childList: true});\n",
       "}}\n",
       "\n",
       "                        })                };                });            </script>        </div>"
      ]
     },
     "metadata": {},
     "output_type": "display_data"
    }
   ],
   "source": [
    "fig = px.line(TTR, y = \"TTR\", x = \"Год\", color = \"Тип_измерения\", title='TTR у всех пациентов с разбивкой по годам')\n",
    "fig.show()"
   ]
  },
  {
   "cell_type": "markdown",
   "id": "79568f98",
   "metadata": {},
   "source": [
    "**Создадим для наглядности сводную таблицу TTR по годам для пациентов, сдающих анализ дома, и для пациентов с собственным прибором:**"
   ]
  },
  {
   "cell_type": "code",
   "execution_count": 34,
   "id": "d871d85a",
   "metadata": {},
   "outputs": [
    {
     "data": {
      "text/html": [
       "<div>\n",
       "<style scoped>\n",
       "    .dataframe tbody tr th:only-of-type {\n",
       "        vertical-align: middle;\n",
       "    }\n",
       "\n",
       "    .dataframe tbody tr th {\n",
       "        vertical-align: top;\n",
       "    }\n",
       "\n",
       "    .dataframe thead th {\n",
       "        text-align: right;\n",
       "    }\n",
       "</style>\n",
       "<table border=\"1\" class=\"dataframe\">\n",
       "  <thead>\n",
       "    <tr style=\"text-align: right;\">\n",
       "      <th>year</th>\n",
       "      <th>2014</th>\n",
       "      <th>2015</th>\n",
       "      <th>2016</th>\n",
       "      <th>2017</th>\n",
       "      <th>2018</th>\n",
       "      <th>2019</th>\n",
       "      <th>2020</th>\n",
       "      <th>2021</th>\n",
       "      <th>2022</th>\n",
       "      <th>2023</th>\n",
       "      <th>2024</th>\n",
       "    </tr>\n",
       "    <tr>\n",
       "      <th>method_cd</th>\n",
       "      <th></th>\n",
       "      <th></th>\n",
       "      <th></th>\n",
       "      <th></th>\n",
       "      <th></th>\n",
       "      <th></th>\n",
       "      <th></th>\n",
       "      <th></th>\n",
       "      <th></th>\n",
       "      <th></th>\n",
       "      <th></th>\n",
       "    </tr>\n",
       "  </thead>\n",
       "  <tbody>\n",
       "    <tr>\n",
       "      <th>LAB</th>\n",
       "      <td>0.0</td>\n",
       "      <td>50.0</td>\n",
       "      <td>48.979592</td>\n",
       "      <td>51.554314</td>\n",
       "      <td>48.455975</td>\n",
       "      <td>50.305693</td>\n",
       "      <td>53.720029</td>\n",
       "      <td>54.310502</td>\n",
       "      <td>54.353473</td>\n",
       "      <td>56.205706</td>\n",
       "      <td>59.335850</td>\n",
       "    </tr>\n",
       "    <tr>\n",
       "      <th>ZMA</th>\n",
       "      <td>NaN</td>\n",
       "      <td>NaN</td>\n",
       "      <td>NaN</td>\n",
       "      <td>33.333333</td>\n",
       "      <td>33.333333</td>\n",
       "      <td>38.068182</td>\n",
       "      <td>52.220114</td>\n",
       "      <td>60.069009</td>\n",
       "      <td>62.192530</td>\n",
       "      <td>58.846454</td>\n",
       "      <td>61.892131</td>\n",
       "    </tr>\n",
       "  </tbody>\n",
       "</table>\n",
       "</div>"
      ],
      "text/plain": [
       "year       2014  2015       2016       2017       2018       2019       2020  \\\n",
       "method_cd                                                                      \n",
       "LAB         0.0  50.0  48.979592  51.554314  48.455975  50.305693  53.720029   \n",
       "ZMA         NaN   NaN        NaN  33.333333  33.333333  38.068182  52.220114   \n",
       "\n",
       "year            2021       2022       2023       2024  \n",
       "method_cd                                              \n",
       "LAB        54.310502  54.353473  56.205706  59.335850  \n",
       "ZMA        60.069009  62.192530  58.846454  61.892131  "
      ]
     },
     "execution_count": 34,
     "metadata": {},
     "output_type": "execute_result"
    }
   ],
   "source": [
    "final_inr.pivot_table(index ='method_cd', columns = 'year', values = 'inside', aggfunc = 'mean' ) #TTR pivot table"
   ]
  },
  {
   "cell_type": "markdown",
   "id": "ec432d81",
   "metadata": {},
   "source": [
    "## Выводы:\n",
    "   1. Программа расчёта TTR методом усреднения по всем значениям МНО написана. При появлении новых данных достаточно её ещё раз запустить, чтобы получить актуальную информацию.\n",
    "   2. Результаты анализа данных сведены в таблицы и визулизированы при помощи графика. \n",
    "   3. Из графика и таблиц следует, что:\n",
    "      - у пациентов, сдающих анализы в лаборатрии, есть данные начиная с 2014 года;\n",
    "      - у пациентов, сдающих анализы в лаборатрии, есть данные начиная с 2017 года;\n",
    "      - пациенты, сдающие анализы в лаборатрии, в 2017ом году имели более высокий TTR, но после 2020 года самоизмерямые пациенты обогнали первых по этому параметру;\n",
    "      - независимо от способа сдачи МНО, отчётливо виден рост TTR из года в год."
   ]
  }
 ],
 "metadata": {
  "kernelspec": {
   "display_name": "Python 3 (ipykernel)",
   "language": "python",
   "name": "python3"
  },
  "language_info": {
   "codemirror_mode": {
    "name": "ipython",
    "version": 3
   },
   "file_extension": ".py",
   "mimetype": "text/x-python",
   "name": "python",
   "nbconvert_exporter": "python",
   "pygments_lexer": "ipython3",
   "version": "3.9.13"
  }
 },
 "nbformat": 4,
 "nbformat_minor": 5
}
