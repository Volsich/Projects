{
 "cells": [
  {
   "cell_type": "markdown",
   "id": "4f11de00",
   "metadata": {
    "id": "4f11de00"
   },
   "source": [
    "# Исследование надежности заемщиков"
   ]
  },
  {
   "cell_type": "markdown",
   "id": "2d2aa5cf",
   "metadata": {},
   "source": [
    "## Описание проекта"
   ]
  },
  {
   "cell_type": "markdown",
   "id": "a8f725b0",
   "metadata": {},
   "source": [
    "**Заказчик — кредитный отдел банка. Нужно разобраться, влияет ли семейное положение и количество детей клиента на факт погашения кредита в срок. Входные данные от банка — статистика о платёжеспособности клиентов.\n",
    "Результаты исследования будут учтены при построении модели кредитного скоринга — специальной системы, которая оценивает способность потенциального заёмщика вернуть кредит банку.**"
   ]
  },
  {
   "cell_type": "markdown",
   "id": "56c84088",
   "metadata": {},
   "source": [
    "## Описание данных"
   ]
  },
  {
   "cell_type": "markdown",
   "id": "1411c186",
   "metadata": {},
   "source": [
    "**children** — количество детей в семье\\\n",
    "**days_employed** — общий трудовой стаж в днях\\\n",
    "**ob_years** — возраст клиента в годах\\\n",
    "**education** — уровень образования клиента\\\n",
    "**education_id** — идентификатор уровня образования\\\n",
    "**family_status** — семейное положение\\\n",
    "**family_status_id** — идентификатор семейного положения\\\n",
    "**gender** — пол клиента\\\n",
    "**income_type** — тип занятости\\\n",
    "**debt** — имел ли задолженность по возврату кредитов\\\n",
    "**total_income** — ежемесячный доход\\\n",
    "**purpose** — цель получения кредита**"
   ]
  },
  {
   "cell_type": "markdown",
   "id": "516620ee",
   "metadata": {
    "id": "516620ee"
   },
   "source": [
    "## Откроем таблицу и изучим общую информацию о данных"
   ]
  },
  {
   "cell_type": "markdown",
   "id": "76a8a9ce",
   "metadata": {
    "id": "76a8a9ce",
    "tags": [
     "start_task"
    ]
   },
   "source": [
    "**Импортируем библиотеку pandas и сохраним данные в переменную `data`. Путь к файлу:**\n",
    "\n",
    "`/datasets/data.csv`"
   ]
  },
  {
   "cell_type": "code",
   "execution_count": 2,
   "id": "fab207d0",
   "metadata": {
    "id": "fab207d0"
   },
   "outputs": [],
   "source": [
    "import pandas as pd # импорт библиотеки pandas"
   ]
  },
  {
   "cell_type": "code",
   "execution_count": 3,
   "id": "6c82b607",
   "metadata": {
    "id": "6c82b607"
   },
   "outputs": [],
   "source": [
    "data = pd.read_csv('/datasets/data.csv') # прочитали csv-файл"
   ]
  },
  {
   "cell_type": "markdown",
   "id": "08bbb5b3",
   "metadata": {
    "id": "08bbb5b3",
    "tags": [
     "start_task"
    ]
   },
   "source": [
    "**Выведем первые 20 строчек датафрейма `data` на экран.**"
   ]
  },
  {
   "cell_type": "code",
   "execution_count": 4,
   "id": "4ff33b36",
   "metadata": {
    "id": "4ff33b36"
   },
   "outputs": [
    {
     "name": "stdout",
     "output_type": "stream",
     "text": [
      "    children  days_employed  dob_years            education  education_id  \\\n",
      "0          1   -8437.673028         42               высшее             0   \n",
      "1          1   -4024.803754         36              среднее             1   \n",
      "2          0   -5623.422610         33              Среднее             1   \n",
      "3          3   -4124.747207         32              среднее             1   \n",
      "4          0  340266.072047         53              среднее             1   \n",
      "5          0    -926.185831         27               высшее             0   \n",
      "6          0   -2879.202052         43               высшее             0   \n",
      "7          0    -152.779569         50              СРЕДНЕЕ             1   \n",
      "8          2   -6929.865299         35               ВЫСШЕЕ             0   \n",
      "9          0   -2188.756445         41              среднее             1   \n",
      "10         2   -4171.483647         36               высшее             0   \n",
      "11         0    -792.701887         40              среднее             1   \n",
      "12         0            NaN         65              среднее             1   \n",
      "13         0   -1846.641941         54  неоконченное высшее             2   \n",
      "14         0   -1844.956182         56               высшее             0   \n",
      "15         1    -972.364419         26              среднее             1   \n",
      "16         0   -1719.934226         35              среднее             1   \n",
      "17         0   -2369.999720         33               высшее             0   \n",
      "18         0  400281.136913         53              среднее             1   \n",
      "19         0  -10038.818549         48              СРЕДНЕЕ             1   \n",
      "\n",
      "       family_status  family_status_id gender income_type  debt  \\\n",
      "0    женат / замужем                 0      F   сотрудник     0   \n",
      "1    женат / замужем                 0      F   сотрудник     0   \n",
      "2    женат / замужем                 0      M   сотрудник     0   \n",
      "3    женат / замужем                 0      M   сотрудник     0   \n",
      "4   гражданский брак                 1      F   пенсионер     0   \n",
      "5   гражданский брак                 1      M   компаньон     0   \n",
      "6    женат / замужем                 0      F   компаньон     0   \n",
      "7    женат / замужем                 0      M   сотрудник     0   \n",
      "8   гражданский брак                 1      F   сотрудник     0   \n",
      "9    женат / замужем                 0      M   сотрудник     0   \n",
      "10   женат / замужем                 0      M   компаньон     0   \n",
      "11   женат / замужем                 0      F   сотрудник     0   \n",
      "12  гражданский брак                 1      M   пенсионер     0   \n",
      "13   женат / замужем                 0      F   сотрудник     0   \n",
      "14  гражданский брак                 1      F   компаньон     1   \n",
      "15   женат / замужем                 0      F   сотрудник     0   \n",
      "16   женат / замужем                 0      F   сотрудник     0   \n",
      "17  гражданский брак                 1      M   сотрудник     0   \n",
      "18    вдовец / вдова                 2      F   пенсионер     0   \n",
      "19         в разводе                 3      F   сотрудник     0   \n",
      "\n",
      "     total_income                                 purpose  \n",
      "0   253875.639453                           покупка жилья  \n",
      "1   112080.014102                 приобретение автомобиля  \n",
      "2   145885.952297                           покупка жилья  \n",
      "3   267628.550329              дополнительное образование  \n",
      "4   158616.077870                         сыграть свадьбу  \n",
      "5   255763.565419                           покупка жилья  \n",
      "6   240525.971920                       операции с жильем  \n",
      "7   135823.934197                             образование  \n",
      "8    95856.832424                   на проведение свадьбы  \n",
      "9   144425.938277                 покупка жилья для семьи  \n",
      "10  113943.491460                    покупка недвижимости  \n",
      "11   77069.234271       покупка коммерческой недвижимости  \n",
      "12            NaN                         сыграть свадьбу  \n",
      "13  130458.228857                 приобретение автомобиля  \n",
      "14  165127.911772              покупка жилой недвижимости  \n",
      "15  116820.904450  строительство собственной недвижимости  \n",
      "16  289202.704229                            недвижимость  \n",
      "17   90410.586745              строительство недвижимости  \n",
      "18   56823.777243      на покупку подержанного автомобиля  \n",
      "19  242831.107982            на покупку своего автомобиля  \n"
     ]
    }
   ],
   "source": [
    "print (data.head(20)) # ВывОд первых 20 строчек датафрейма data на экран"
   ]
  },
  {
   "cell_type": "markdown",
   "id": "c8f382ae",
   "metadata": {
    "id": "c8f382ae",
    "tags": [
     "start_task"
    ]
   },
   "source": [
    "**Выведем основную информацию о датафрейме с помощью метода `info()`.**"
   ]
  },
  {
   "cell_type": "code",
   "execution_count": 5,
   "id": "e1ed9908",
   "metadata": {
    "id": "e1ed9908"
   },
   "outputs": [
    {
     "name": "stdout",
     "output_type": "stream",
     "text": [
      "<class 'pandas.core.frame.DataFrame'>\n",
      "RangeIndex: 21525 entries, 0 to 21524\n",
      "Data columns (total 12 columns):\n",
      " #   Column            Non-Null Count  Dtype  \n",
      "---  ------            --------------  -----  \n",
      " 0   children          21525 non-null  int64  \n",
      " 1   days_employed     19351 non-null  float64\n",
      " 2   dob_years         21525 non-null  int64  \n",
      " 3   education         21525 non-null  object \n",
      " 4   education_id      21525 non-null  int64  \n",
      " 5   family_status     21525 non-null  object \n",
      " 6   family_status_id  21525 non-null  int64  \n",
      " 7   gender            21525 non-null  object \n",
      " 8   income_type       21525 non-null  object \n",
      " 9   debt              21525 non-null  int64  \n",
      " 10  total_income      19351 non-null  float64\n",
      " 11  purpose           21525 non-null  object \n",
      "dtypes: float64(2), int64(5), object(5)\n",
      "memory usage: 2.0+ MB\n"
     ]
    }
   ],
   "source": [
    "data.info() # информация о датафрейме "
   ]
  },
  {
   "cell_type": "markdown",
   "id": "f969a1cd",
   "metadata": {
    "id": "f969a1cd"
   },
   "source": [
    "## Предобработка данных"
   ]
  },
  {
   "cell_type": "markdown",
   "id": "7283e864",
   "metadata": {
    "id": "7283e864"
   },
   "source": [
    "### Удаление пропусков"
   ]
  },
  {
   "cell_type": "markdown",
   "id": "c9a0745e",
   "metadata": {
    "id": "c9a0745e",
    "tags": [
     "start_task"
    ]
   },
   "source": [
    "**Выведем количество пропущенных значений для каждого столбца, используя комбинацию двух методов.**"
   ]
  },
  {
   "cell_type": "code",
   "execution_count": 6,
   "id": "b7a096e1",
   "metadata": {
    "id": "b7a096e1"
   },
   "outputs": [
    {
     "name": "stdout",
     "output_type": "stream",
     "text": [
      "children               0\n",
      "days_employed       2174\n",
      "dob_years              0\n",
      "education              0\n",
      "education_id           0\n",
      "family_status          0\n",
      "family_status_id       0\n",
      "gender                 0\n",
      "income_type            0\n",
      "debt                   0\n",
      "total_income        2174\n",
      "purpose                0\n",
      "dtype: int64\n"
     ]
    }
   ],
   "source": [
    "print(data.isna().sum()) # количество пропущенных значений для каждого столбца"
   ]
  },
  {
   "cell_type": "markdown",
   "id": "c2578616",
   "metadata": {
    "id": "c2578616",
    "tags": [
     "start_task"
    ]
   },
   "source": [
    "**В двух столбцах есть пропущенные значения. Один из них — `days_employed`. Пропуски в этом столбце мы обработаем на следующем этапе. Другой столбец с пропущенными значениями — `total_income` — хранит данные о доходах. На сумму дохода сильнее всего влияет тип занятости, поэтому заполнить пропуски в этом столбце нужно медианным значением по каждому типу из столбца `income_type`. Например, у человека с типом занятости `сотрудник` пропуск в столбце `total_income` должен быть заполнен медианным доходом среди всех записей с тем же типом.**"
   ]
  },
  {
   "cell_type": "code",
   "execution_count": 7,
   "id": "e8afc4bc",
   "metadata": {
    "id": "e8afc4bc"
   },
   "outputs": [],
   "source": [
    "for profession in data['income_type'].unique(): # заполняем пропуски в столбце total_income медианой \n",
    "    data.loc[(data['income_type'] == profession)&(data['total_income'].isna()), 'total_income'] = \\\n",
    "    data.loc[data['income_type'] == profession, 'total_income'].median() #по каждому типу занятонсти "
   ]
  },
  {
   "cell_type": "markdown",
   "id": "ae986d46",
   "metadata": {
    "id": "ae986d46"
   },
   "source": [
    "### Обработка аномальных значений"
   ]
  },
  {
   "cell_type": "markdown",
   "id": "b049cbae",
   "metadata": {
    "id": "b049cbae",
    "tags": [
     "start_task"
    ]
   },
   "source": [
    "**В данных могут встречаться артефакты (аномалии) — значения, которые не отражают действительность и появились по какой-то ошибке. Таким артефактом будет отрицательное количество дней трудового стажа в столбце `days_employed`. Для реальных данных это нормально. Обработаем значения в этом столбце: заменим все отрицательные значения положительными с помощью метода `abs()`.**"
   ]
  },
  {
   "cell_type": "code",
   "execution_count": 8,
   "id": "187779b0",
   "metadata": {
    "id": "187779b0"
   },
   "outputs": [],
   "source": [
    "data.loc[data['days_employed']<0, 'days_employed'] = \\\n",
    "data.loc[data['days_employed']<0, 'days_employed'].abs() # заменили все отрицательные значения положительными \n"
   ]
  },
  {
   "cell_type": "markdown",
   "id": "a13054c2",
   "metadata": {
    "id": "a13054c2",
    "tags": [
     "start_task"
    ]
   },
   "source": [
    "**Для каждого типа занятости выведем медианное значение трудового стажа `days_employed` в днях.**"
   ]
  },
  {
   "cell_type": "code",
   "execution_count": 14,
   "id": "f3f5810c",
   "metadata": {
    "id": "f3f5810c"
   },
   "outputs": [
    {
     "name": "stdout",
     "output_type": "stream",
     "text": [
      "income_type\n",
      "безработный        366413.652744\n",
      "в декрете            3296.759962\n",
      "госслужащий          2689.368353\n",
      "компаньон            1547.382223\n",
      "пенсионер          365213.306266\n",
      "предприниматель       520.848083\n",
      "сотрудник            1574.202821\n",
      "студент               578.751554\n",
      "Name: days_employed, dtype: float64\n"
     ]
    }
   ],
   "source": [
    "print (data.groupby('income_type')['days_employed'].median()) # выводим медианное значение трудового стажа days_employed в днях"
   ]
  },
  {
   "cell_type": "markdown",
   "id": "dbc3168c",
   "metadata": {
    "id": "dbc3168c"
   },
   "source": [
    "У двух типов (безработные и пенсионеры) получатся аномально большие значения. Исправить такие значения сложно, поэтому оставим их как есть."
   ]
  },
  {
   "cell_type": "markdown",
   "id": "ff4378c2",
   "metadata": {
    "id": "ff4378c2",
    "tags": [
     "start_task"
    ]
   },
   "source": [
    "**Выведем перечень уникальных значений столбца `children`.**"
   ]
  },
  {
   "cell_type": "code",
   "execution_count": 28,
   "id": "9bd0c232",
   "metadata": {
    "id": "9bd0c232"
   },
   "outputs": [
    {
     "name": "stdout",
     "output_type": "stream",
     "text": [
      "[ 1  0  3  2 -1  4 20  5]\n"
     ]
    }
   ],
   "source": [
    "print(data['children'].unique()) # Выводим перечень уникальных значений столбца children"
   ]
  },
  {
   "cell_type": "markdown",
   "id": "8e911990",
   "metadata": {
    "id": "8e911990",
    "tags": [
     "start_task"
    ]
   },
   "source": [
    "**В столбце `children` есть два аномальных значения. Удалим строки, в которых встречаются такие аномальные значения из датафрейма `data`.**"
   ]
  },
  {
   "cell_type": "code",
   "execution_count": 54,
   "id": "6d5ba289",
   "metadata": {
    "id": "6d5ba289"
   },
   "outputs": [],
   "source": [
    "#data = data[((data['children'] != -1) and (data['children'] != 20))] # ваш код здесь\n",
    "#print(data['children'].unique())\n",
    "data = data[data['children']!=-1] #Удаляем строки, в которых встречаются аномальные значения\n",
    "data = data[data['children']!=20]\n"
   ]
  },
  {
   "cell_type": "markdown",
   "id": "18d77455",
   "metadata": {
    "id": "18d77455",
    "tags": [
     "start_task"
    ]
   },
   "source": [
    "**Ещё раз выведем перечень уникальных значений столбца `children`, чтобы убедиться, что артефакты удалены.**"
   ]
  },
  {
   "cell_type": "code",
   "execution_count": 53,
   "id": "2c5fa92c",
   "metadata": {
    "id": "2c5fa92c"
   },
   "outputs": [
    {
     "name": "stdout",
     "output_type": "stream",
     "text": [
      "[1 0 3 2 4 5]\n"
     ]
    }
   ],
   "source": [
    "print(data['children'].unique()) # Выводим перечень уникальных значений столбца children"
   ]
  },
  {
   "cell_type": "markdown",
   "id": "0ec07dee",
   "metadata": {
    "id": "0ec07dee"
   },
   "source": [
    "### Удаление пропусков (продолжение)"
   ]
  },
  {
   "cell_type": "markdown",
   "id": "0fc3ae3f",
   "metadata": {
    "id": "0fc3ae3f",
    "tags": [
     "start_task"
    ]
   },
   "source": [
    "**Заполним пропуски в столбце `days_employed` медианными значениями по каждому типу занятости `income_type`.**"
   ]
  },
  {
   "cell_type": "code",
   "execution_count": 56,
   "id": "e2aea7ac",
   "metadata": {
    "id": "e2aea7ac"
   },
   "outputs": [],
   "source": [
    "for profession in data['income_type'].unique(): # заполняем пропуски в столбце days_employed медианой \n",
    "    data.loc[(data['income_type'] == profession)&(data['days_employed'].isna()), 'days_employed'] = \\\n",
    "    data.loc[data['income_type'] == profession, 'days_employed'].median() #по каждому типу занятонсти "
   ]
  },
  {
   "cell_type": "markdown",
   "id": "97b0b795",
   "metadata": {
    "id": "97b0b795",
    "tags": [
     "start_task"
    ]
   },
   "source": [
    "**Убедимся, что все пропуски заполнены. Проверим себя и ещё раз выведем количество пропущенных значений для каждого столбца с помощью двух методов.**"
   ]
  },
  {
   "cell_type": "code",
   "execution_count": 58,
   "id": "79632a21",
   "metadata": {
    "id": "79632a21"
   },
   "outputs": [
    {
     "name": "stdout",
     "output_type": "stream",
     "text": [
      "children            0\n",
      "days_employed       0\n",
      "dob_years           0\n",
      "education           0\n",
      "education_id        0\n",
      "family_status       0\n",
      "family_status_id    0\n",
      "gender              0\n",
      "income_type         0\n",
      "debt                0\n",
      "total_income        0\n",
      "purpose             0\n",
      "dtype: int64\n"
     ]
    }
   ],
   "source": [
    "print (data.isna().sum()) # Выводим количество пропущенных значений для каждого столбца с помощью двух методов"
   ]
  },
  {
   "cell_type": "markdown",
   "id": "bd4aeb20",
   "metadata": {
    "id": "bd4aeb20"
   },
   "source": [
    "### Изменение типов данных"
   ]
  },
  {
   "cell_type": "markdown",
   "id": "963bfa58",
   "metadata": {
    "id": "963bfa58",
    "tags": [
     "start_task"
    ]
   },
   "source": [
    "**Заменим вещественный тип данных в столбце `total_income` на целочисленный с помощью метода `astype()`.**"
   ]
  },
  {
   "cell_type": "code",
   "execution_count": 62,
   "id": "73da6ea0",
   "metadata": {
    "id": "73da6ea0"
   },
   "outputs": [],
   "source": [
    "data['total_income'] = data['total_income'].astype('int')"
   ]
  },
  {
   "cell_type": "markdown",
   "id": "d290239e",
   "metadata": {
    "id": "d290239e"
   },
   "source": [
    "### Обработка дубликатов"
   ]
  },
  {
   "cell_type": "markdown",
   "id": "1b5844fd",
   "metadata": {
    "id": "1b5844fd",
    "tags": [
     "start_task"
    ]
   },
   "source": [
    "**Обработаем неявные дубликаты в столбце `education`. В этом столбце есть одни и те же значения, но записанные по-разному: с использованием заглавных и строчных букв. Приведём их к нижнему регистру.**"
   ]
  },
  {
   "cell_type": "code",
   "execution_count": 64,
   "id": "3f2504b3",
   "metadata": {
    "id": "3f2504b3"
   },
   "outputs": [],
   "source": [
    "data['education'] = data['education'].str.lower() # Приводим  к нижнему регистру."
   ]
  },
  {
   "cell_type": "markdown",
   "id": "4c22acbc",
   "metadata": {
    "id": "4c22acbc",
    "tags": [
     "start_task"
    ]
   },
   "source": [
    "**Выведем на экран количество строк-дубликатов в данных. Если такие строки присутствуют, удалим их.**"
   ]
  },
  {
   "cell_type": "code",
   "execution_count": 66,
   "id": "d34a4325",
   "metadata": {
    "id": "d34a4325"
   },
   "outputs": [
    {
     "name": "stdout",
     "output_type": "stream",
     "text": [
      "71\n"
     ]
    }
   ],
   "source": [
    "print (data.duplicated().sum()) # считаем дубликаты"
   ]
  },
  {
   "cell_type": "code",
   "execution_count": 69,
   "id": "6e1a6499",
   "metadata": {
    "id": "6e1a6499"
   },
   "outputs": [
    {
     "name": "stdout",
     "output_type": "stream",
     "text": [
      "0\n"
     ]
    }
   ],
   "source": [
    "data = data.drop_duplicates()# удаляем дубликаты\n"
   ]
  },
  {
   "cell_type": "markdown",
   "id": "e5686ccc",
   "metadata": {
    "id": "e5686ccc"
   },
   "source": [
    "### Категоризация данных"
   ]
  },
  {
   "cell_type": "markdown",
   "id": "636e9acd",
   "metadata": {
    "id": "636e9acd",
    "tags": [
     "start_task"
    ]
   },
   "source": [
    "**На основании диапазонов, указанных ниже, создадим в датафрейме `data` столбец `total_income_category` с категориями:**\n",
    "\n",
    "- 0–30000 — `'E'`;\n",
    "- 30001–50000 — `'D'`;\n",
    "- 50001–200000 — `'C'`;\n",
    "- 200001–1000000 — `'B'`;\n",
    "- 1000001 и выше — `'A'`.\n",
    "\n",
    "\n",
    "**Например, кредитополучателю с доходом 25000 назначим категорию `'E'`, а клиенту, получающему 235000, — `'B'`. Используем собственную функцию с именем `categorize_income()` и метод `apply()`.**"
   ]
  },
  {
   "cell_type": "code",
   "execution_count": 74,
   "id": "880a77e5",
   "metadata": {
    "id": "880a77e5"
   },
   "outputs": [],
   "source": [
    "def categorize_income(row): # создаем функцию categorize_income(), которая разделит кредитополучателей на категории\n",
    "    if 0<=row['total_income']<=30000:\n",
    "        return ('E')\n",
    "    elif 3001<=row['total_income']<=50000:\n",
    "        return ('D')\n",
    "    elif 5001<=row['total_income']<=200000:\n",
    "        return ('C')\n",
    "    elif 200001<=row['total_income']<=1000000:\n",
    "        return ('B')\n",
    "    elif 1000001<=row['total_income']:\n",
    "        return ('A')\n",
    "\n"
   ]
  },
  {
   "cell_type": "code",
   "execution_count": 75,
   "id": "6f25f161",
   "metadata": {
    "id": "6f25f161"
   },
   "outputs": [],
   "source": [
    "data['total_income_category'] = data.apply(categorize_income, axis=1) # применяем функцию методом apply()"
   ]
  },
  {
   "cell_type": "markdown",
   "id": "3363b685",
   "metadata": {
    "id": "3363b685",
    "tags": [
     "start_task"
    ]
   },
   "source": [
    "**Выведем на экран перечень уникальных целей взятия кредита из столбца `purpose`.**"
   ]
  },
  {
   "cell_type": "code",
   "execution_count": 77,
   "id": "e59f2c15",
   "metadata": {
    "id": "e59f2c15"
   },
   "outputs": [
    {
     "name": "stdout",
     "output_type": "stream",
     "text": [
      "['покупка жилья' 'приобретение автомобиля' 'дополнительное образование'\n",
      " 'сыграть свадьбу' 'операции с жильем' 'образование'\n",
      " 'на проведение свадьбы' 'покупка жилья для семьи' 'покупка недвижимости'\n",
      " 'покупка коммерческой недвижимости' 'покупка жилой недвижимости'\n",
      " 'строительство собственной недвижимости' 'недвижимость'\n",
      " 'строительство недвижимости' 'на покупку подержанного автомобиля'\n",
      " 'на покупку своего автомобиля' 'операции с коммерческой недвижимостью'\n",
      " 'строительство жилой недвижимости' 'жилье'\n",
      " 'операции со своей недвижимостью' 'автомобили' 'заняться образованием'\n",
      " 'сделка с подержанным автомобилем' 'получение образования' 'автомобиль'\n",
      " 'свадьба' 'получение дополнительного образования' 'покупка своего жилья'\n",
      " 'операции с недвижимостью' 'получение высшего образования'\n",
      " 'свой автомобиль' 'сделка с автомобилем' 'профильное образование'\n",
      " 'высшее образование' 'покупка жилья для сдачи' 'на покупку автомобиля'\n",
      " 'ремонт жилью' 'заняться высшим образованием']\n"
     ]
    }
   ],
   "source": [
    "print(data['purpose'].unique())"
   ]
  },
  {
   "cell_type": "markdown",
   "id": "bb33e847",
   "metadata": {
    "id": "bb33e847",
    "tags": [
     "start_task"
    ]
   },
   "source": [
    "**Создадим функцию, которая на основании данных из столбца `purpose` сформирует новый столбец `purpose_category`, в который войдут следующие категории:**\n",
    "\n",
    "- `'операции с автомобилем'`,\n",
    "- `'операции с недвижимостью'`,\n",
    "- `'проведение свадьбы'`,\n",
    "- `'получение образования'`.\n",
    "\n",
    "**Например, если в столбце `purpose` находится подстрока `'на покупку автомобиля'`, то в столбце `purpose_category` должна появиться строка `'операции с автомобилем'`.**\n",
    "\n",
    "**Используем собственную функцию с именем `categorize_purpose()` и метод `apply()`. Изучим данные в столбце `purpose` и определим, какие подстроки помогут нам правильно определить категорию.**"
   ]
  },
  {
   "cell_type": "code",
   "execution_count": null,
   "id": "63909b83",
   "metadata": {
    "id": "63909b83"
   },
   "outputs": [],
   "source": [
    "purpose_car = ['приобретение автомобиля', 'на покупку подержанного автомобиля', \\\n",
    "                         'на покупку своего автомобиля', 'автомобили', \\\n",
    "                         'сделка с подержанным автомобилем', 'автомобиль',\\\n",
    "                         'свой автомобиль', 'сделка с автомобилем', 'на покупку автомобиля']\n",
    "purpose_house = ['покупка жилья', 'операции с жильем', 'покупка жилья для семьи', \\\n",
    "                           'покупка недвижимости', 'покупка коммерческой недвижимости', \\\n",
    "                           'покупка жилой недвижимости', 'строительство собственной недвижимости', \\\n",
    "                           'недвижимость', 'строительство недвижимости', \\\n",
    "                           'операции с коммерческой недвижимостью', 'строительство жилой недвижимости', \\\n",
    "                           'жилье', 'операции со своей недвижимостью', 'покупка своего жилья', \\\n",
    "                           'операции с недвижимостью', 'покупка жилья для сдачи', 'ремонт жилью']\n",
    "purpose_wedding = ['сыграть свадьбу', 'на проведение свадьбы', 'свадьба']\n",
    "purpose_education = ['дополнительное образование', 'образование', 'заняться образованием', \\\n",
    "                     'получение образования', 'получение дополнительного образования', \\\n",
    "                     'получение высшего образования', 'профильное образование', 'высшее образование',\\\n",
    "                     'заняться высшим образованием']\n",
    "def categorize_purpose(row): # создаем функцию categorize_purpose(), которая разделит кредитополучателей на категории\n",
    "    if row['purpose'] in purpose_car:                  \n",
    "        return ('операции с автомобилем')\n",
    "    if row['purpose'] in purpose_house:\n",
    "        return ('операции с недвижимостью')\n",
    "    if row['purpose'] in purpose_wedding:\n",
    "        return ('проведение свадьбы')\n",
    "    if row['purpose'] in purpose_education:\n",
    "        return ('получение образования')\n",
    "\n",
    "  "
   ]
  },
  {
   "cell_type": "code",
   "execution_count": null,
   "id": "7cb4a81d",
   "metadata": {
    "id": "7cb4a81d"
   },
   "outputs": [],
   "source": [
    "data['purpose_category'] = data.apply(categorize_purpose, axis=1) # применяем функцию методом apply()"
   ]
  }
 ],
 "metadata": {
  "ExecuteTimeLog": [
   {
    "duration": 48,
    "start_time": "2023-01-16T06:28:21.603Z"
   },
   {
    "duration": 402,
    "start_time": "2023-01-16T06:49:30.095Z"
   },
   {
    "duration": 322,
    "start_time": "2023-01-16T06:49:33.242Z"
   },
   {
    "duration": 10,
    "start_time": "2023-01-16T06:49:37.899Z"
   },
   {
    "duration": 16,
    "start_time": "2023-01-16T06:49:59.988Z"
   },
   {
    "duration": 15,
    "start_time": "2023-01-16T06:53:10.151Z"
   },
   {
    "duration": 67,
    "start_time": "2023-01-16T07:11:24.872Z"
   },
   {
    "duration": 47,
    "start_time": "2023-01-16T07:11:33.263Z"
   },
   {
    "duration": 35,
    "start_time": "2023-01-16T07:11:43.746Z"
   },
   {
    "duration": 15,
    "start_time": "2023-01-16T07:19:58.652Z"
   },
   {
    "duration": 14,
    "start_time": "2023-01-16T07:20:49.955Z"
   },
   {
    "duration": 15,
    "start_time": "2023-01-16T07:22:00.203Z"
   },
   {
    "duration": 9,
    "start_time": "2023-01-16T07:28:14.144Z"
   },
   {
    "duration": 11,
    "start_time": "2023-01-16T07:28:31.345Z"
   },
   {
    "duration": 14,
    "start_time": "2023-01-16T07:28:48.160Z"
   },
   {
    "duration": 12,
    "start_time": "2023-01-16T07:29:28.934Z"
   },
   {
    "duration": 13,
    "start_time": "2023-01-16T07:29:55.162Z"
   },
   {
    "duration": 13,
    "start_time": "2023-01-16T07:30:24.229Z"
   },
   {
    "duration": 9,
    "start_time": "2023-01-16T07:30:32.695Z"
   },
   {
    "duration": 8,
    "start_time": "2023-01-16T07:30:40.289Z"
   },
   {
    "duration": 11,
    "start_time": "2023-01-16T07:39:23.256Z"
   },
   {
    "duration": 8,
    "start_time": "2023-01-16T07:40:10.900Z"
   },
   {
    "duration": 5,
    "start_time": "2023-01-16T07:40:48.253Z"
   },
   {
    "duration": 4,
    "start_time": "2023-01-16T07:41:15.661Z"
   },
   {
    "duration": 4,
    "start_time": "2023-01-16T07:41:39.736Z"
   },
   {
    "duration": 4,
    "start_time": "2023-01-16T07:42:51.266Z"
   },
   {
    "duration": 7,
    "start_time": "2023-01-16T07:47:33.249Z"
   },
   {
    "duration": 4,
    "start_time": "2023-01-16T07:47:42.883Z"
   },
   {
    "duration": 14,
    "start_time": "2023-01-16T07:48:53.545Z"
   },
   {
    "duration": 17,
    "start_time": "2023-01-16T07:49:57.160Z"
   },
   {
    "duration": 8,
    "start_time": "2023-01-16T07:51:03.594Z"
   },
   {
    "duration": 9,
    "start_time": "2023-01-16T07:51:22.790Z"
   },
   {
    "duration": 8,
    "start_time": "2023-01-16T07:51:32.838Z"
   },
   {
    "duration": 6,
    "start_time": "2023-01-16T08:00:06.468Z"
   },
   {
    "duration": 8,
    "start_time": "2023-01-16T08:00:09.193Z"
   },
   {
    "duration": 68,
    "start_time": "2023-01-16T08:00:24.692Z"
   },
   {
    "duration": 8,
    "start_time": "2023-01-16T08:00:32.111Z"
   },
   {
    "duration": 6,
    "start_time": "2023-01-16T08:01:03.269Z"
   },
   {
    "duration": 7,
    "start_time": "2023-01-16T08:01:13.055Z"
   },
   {
    "duration": 8,
    "start_time": "2023-01-16T08:03:44.785Z"
   },
   {
    "duration": 730,
    "start_time": "2023-01-16T08:04:39.000Z"
   },
   {
    "duration": 10,
    "start_time": "2023-01-16T08:06:31.160Z"
   },
   {
    "duration": 6,
    "start_time": "2023-01-16T08:07:16.523Z"
   },
   {
    "duration": 4,
    "start_time": "2023-01-16T08:32:31.958Z"
   },
   {
    "duration": 38,
    "start_time": "2023-01-16T08:33:17.955Z"
   },
   {
    "duration": 87,
    "start_time": "2023-01-16T08:37:41.118Z"
   },
   {
    "duration": 84,
    "start_time": "2023-01-16T08:38:07.010Z"
   },
   {
    "duration": 41,
    "start_time": "2023-01-16T08:38:43.906Z"
   },
   {
    "duration": 49,
    "start_time": "2023-01-16T08:39:28.944Z"
   },
   {
    "duration": 47,
    "start_time": "2023-01-16T08:40:49.266Z"
   },
   {
    "duration": 12,
    "start_time": "2023-01-16T08:46:32.156Z"
   },
   {
    "duration": 40,
    "start_time": "2023-01-16T08:51:21.575Z"
   },
   {
    "duration": 5,
    "start_time": "2023-01-16T08:51:52.923Z"
   },
   {
    "duration": 58,
    "start_time": "2023-01-16T10:23:42.202Z"
   },
   {
    "duration": 389,
    "start_time": "2023-01-16T10:23:59.165Z"
   },
   {
    "duration": 319,
    "start_time": "2023-01-16T10:23:59.652Z"
   },
   {
    "duration": 13,
    "start_time": "2023-01-16T10:24:01.450Z"
   },
   {
    "duration": 16,
    "start_time": "2023-01-16T10:24:02.289Z"
   },
   {
    "duration": 9,
    "start_time": "2023-01-16T10:24:04.592Z"
   },
   {
    "duration": 46,
    "start_time": "2023-01-16T10:24:06.414Z"
   },
   {
    "duration": 7,
    "start_time": "2023-01-16T10:24:09.433Z"
   },
   {
    "duration": 52,
    "start_time": "2023-01-16T10:24:11.975Z"
   },
   {
    "duration": 19,
    "start_time": "2023-01-16T10:24:48.923Z"
   },
   {
    "duration": 18,
    "start_time": "2023-01-16T10:24:58.635Z"
   },
   {
    "duration": 4,
    "start_time": "2023-01-16T10:25:13.435Z"
   },
   {
    "duration": 6,
    "start_time": "2023-01-16T10:25:32.218Z"
   },
   {
    "duration": 6,
    "start_time": "2023-01-16T10:27:13.374Z"
   },
   {
    "duration": 4,
    "start_time": "2023-01-16T10:29:36.797Z"
   },
   {
    "duration": 10,
    "start_time": "2023-01-16T10:30:38.162Z"
   },
   {
    "duration": 40,
    "start_time": "2023-01-16T10:32:41.407Z"
   },
   {
    "duration": 4,
    "start_time": "2023-01-16T10:33:16.315Z"
   },
   {
    "duration": 4,
    "start_time": "2023-01-16T10:36:07.750Z"
   },
   {
    "duration": 5,
    "start_time": "2023-01-16T10:36:19.154Z"
   },
   {
    "duration": 3,
    "start_time": "2023-01-16T10:38:17.119Z"
   },
   {
    "duration": 4,
    "start_time": "2023-01-16T10:39:05.358Z"
   },
   {
    "duration": 12,
    "start_time": "2023-01-16T10:39:54.234Z"
   },
   {
    "duration": 14,
    "start_time": "2023-01-16T10:40:48.548Z"
   },
   {
    "duration": 6,
    "start_time": "2023-01-16T10:41:38.969Z"
   },
   {
    "duration": 11,
    "start_time": "2023-01-16T10:42:03.260Z"
   },
   {
    "duration": 8,
    "start_time": "2023-01-16T10:42:25.018Z"
   },
   {
    "duration": 4,
    "start_time": "2023-01-16T10:42:55.690Z"
   },
   {
    "duration": 11,
    "start_time": "2023-01-16T10:57:11.262Z"
   },
   {
    "duration": 10,
    "start_time": "2023-01-16T10:57:54.435Z"
   },
   {
    "duration": 8,
    "start_time": "2023-01-16T10:59:07.040Z"
   },
   {
    "duration": 52,
    "start_time": "2023-01-16T10:59:43.529Z"
   },
   {
    "duration": 9,
    "start_time": "2023-01-16T10:59:52.888Z"
   },
   {
    "duration": 11,
    "start_time": "2023-01-16T11:01:47.100Z"
   },
   {
    "duration": 16,
    "start_time": "2023-01-16T11:02:42.919Z"
   },
   {
    "duration": 12,
    "start_time": "2023-01-16T11:08:54.543Z"
   },
   {
    "duration": 13,
    "start_time": "2023-01-16T11:09:07.665Z"
   },
   {
    "duration": 4,
    "start_time": "2023-01-16T11:09:24.331Z"
   },
   {
    "duration": 10,
    "start_time": "2023-01-16T11:09:31.791Z"
   },
   {
    "duration": 10,
    "start_time": "2023-01-16T11:09:58.481Z"
   },
   {
    "duration": 5,
    "start_time": "2023-01-16T11:10:46.822Z"
   },
   {
    "duration": 5,
    "start_time": "2023-01-16T11:11:05.221Z"
   },
   {
    "duration": 5,
    "start_time": "2023-01-16T11:11:11.912Z"
   },
   {
    "duration": 5,
    "start_time": "2023-01-16T11:11:21.790Z"
   },
   {
    "duration": 5,
    "start_time": "2023-01-16T11:11:59.770Z"
   },
   {
    "duration": 9,
    "start_time": "2023-01-16T11:12:31.381Z"
   },
   {
    "duration": 9,
    "start_time": "2023-01-16T11:13:02.278Z"
   },
   {
    "duration": 14,
    "start_time": "2023-01-16T11:15:14.354Z"
   },
   {
    "duration": 9,
    "start_time": "2023-01-16T11:16:59.837Z"
   },
   {
    "duration": 5,
    "start_time": "2023-01-16T11:17:37.404Z"
   },
   {
    "duration": 8,
    "start_time": "2023-01-16T11:17:55.883Z"
   },
   {
    "duration": 9,
    "start_time": "2023-01-16T11:18:08.244Z"
   },
   {
    "duration": 4,
    "start_time": "2023-01-16T11:19:39.067Z"
   },
   {
    "duration": 7,
    "start_time": "2023-01-16T11:19:47.141Z"
   },
   {
    "duration": 8,
    "start_time": "2023-01-16T11:23:17.555Z"
   },
   {
    "duration": 32,
    "start_time": "2023-01-16T11:24:04.352Z"
   },
   {
    "duration": 9,
    "start_time": "2023-01-16T11:24:06.936Z"
   },
   {
    "duration": 11,
    "start_time": "2023-01-16T11:24:49.811Z"
   },
   {
    "duration": 4,
    "start_time": "2023-01-16T11:33:41.116Z"
   },
   {
    "duration": 8,
    "start_time": "2023-01-16T11:35:58.615Z"
   },
   {
    "duration": 19,
    "start_time": "2023-01-16T11:37:59.339Z"
   },
   {
    "duration": 4,
    "start_time": "2023-01-16T11:38:48.806Z"
   },
   {
    "duration": 13,
    "start_time": "2023-01-16T11:38:51.539Z"
   },
   {
    "duration": 10,
    "start_time": "2023-01-16T11:39:49.402Z"
   },
   {
    "duration": 7,
    "start_time": "2023-01-16T11:42:37.078Z"
   },
   {
    "duration": 19,
    "start_time": "2023-01-16T11:44:11.301Z"
   },
   {
    "duration": 23,
    "start_time": "2023-01-16T11:46:10.528Z"
   },
   {
    "duration": 19,
    "start_time": "2023-01-16T11:46:16.809Z"
   },
   {
    "duration": 31,
    "start_time": "2023-01-16T11:46:26.126Z"
   },
   {
    "duration": 5,
    "start_time": "2023-01-16T12:04:37.146Z"
   },
   {
    "duration": 2124,
    "start_time": "2023-01-16T12:05:01.652Z"
   },
   {
    "duration": 281,
    "start_time": "2023-01-16T12:19:58.046Z"
   },
   {
    "duration": 264,
    "start_time": "2023-01-16T12:20:18.467Z"
   },
   {
    "duration": 5,
    "start_time": "2023-01-16T12:22:35.732Z"
   },
   {
    "duration": 262,
    "start_time": "2023-01-16T12:23:17.675Z"
   },
   {
    "duration": 746,
    "start_time": "2023-01-16T12:23:58.908Z"
   },
   {
    "duration": 6,
    "start_time": "2023-01-16T12:24:23.799Z"
   }
  ],
  "colab": {
   "provenance": []
  },
  "kernelspec": {
   "display_name": "Python 3 (ipykernel)",
   "language": "python",
   "name": "python3"
  },
  "language_info": {
   "codemirror_mode": {
    "name": "ipython",
    "version": 3
   },
   "file_extension": ".py",
   "mimetype": "text/x-python",
   "name": "python",
   "nbconvert_exporter": "python",
   "pygments_lexer": "ipython3",
   "version": "3.9.13"
  },
  "toc": {
   "base_numbering": 1,
   "nav_menu": {},
   "number_sections": true,
   "sideBar": true,
   "skip_h1_title": true,
   "title_cell": "Table of Contents",
   "title_sidebar": "Contents",
   "toc_cell": false,
   "toc_position": {},
   "toc_section_display": true,
   "toc_window_display": false
  }
 },
 "nbformat": 4,
 "nbformat_minor": 5
}
