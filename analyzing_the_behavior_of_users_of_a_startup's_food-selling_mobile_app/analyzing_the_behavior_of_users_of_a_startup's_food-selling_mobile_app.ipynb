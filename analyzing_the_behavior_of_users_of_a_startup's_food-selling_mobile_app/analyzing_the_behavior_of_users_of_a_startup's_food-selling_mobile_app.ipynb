{
 "cells": [
  {
   "cell_type": "markdown",
   "metadata": {},
   "source": [
    "# Анализ поведения пользователи мобильного приложения стартапа, продающего продукты питания\n",
    "\n",
    "**Описание проекта:**<br>\n",
    "Имеется стартап, который продаёт продукты питания. Дизайнеры захотели поменять шрифты во всём приложении, а менеджеры испугались, что пользователям будет непривычно. Договорились принять решение по результатам A/A/B-теста. Пользователей разбили на 3 группы: 2 контрольные со старыми шрифтами и одну экспериментальную — с новыми. Нужно выяснить, какой шрифт лучше.\n",
    "Создание двух групп A вместо одной имеет определённые преимущества. Если две контрольные группы окажутся равны, можно быть уверенными в точности проведенного тестирования. Если же между значениями A и A будут существенные различия, это поможет обнаружить факторы, которые привели к искажению результатов. Сравнение контрольных групп также помогает понять, сколько времени и данных потребуется для дальнейших тестов.<br>\n",
    "<br>\n",
    "**Цель проекта:** <br>Разобраться, как ведут себя пользователи мобильного приложения. \n",
    "Изучить воронку продаж. Узнать, как пользователи доходят до покупки. Сколько пользователей доходит до покупки, а сколько — «застревает» на предыдущих шагах? На каких именно?\n",
    "После этого исследовать результаты A/A/B-эксперимента.<br>\n",
    "<br>\n",
    "**Этапы проекта:**\n",
    "1. Открыть файл с данными и изучите общую информацию<br>\n",
    "2. Подготовить данные<br>\n",
    "3. Изучить и проверить данные<br>\n",
    "4. Изучить воронку событий<br>\n",
    "5. Изучить результаты эксперимента"
   ]
  },
  {
   "cell_type": "markdown",
   "metadata": {},
   "source": [
    "## Откроем файл с данными и изучим общую информацию:"
   ]
  },
  {
   "cell_type": "code",
   "execution_count": 6,
   "metadata": {},
   "outputs": [],
   "source": [
    "import pandas as pd # подгружаем библиотеки\n",
    "import os\n",
    "import datetime as dt\n",
    "from datetime import date\n",
    "import numpy as np\n",
    "import matplotlib.pyplot as plt\n",
    "from pandas.plotting import register_matplotlib_converters\n",
    "import scipy.stats as stats\n",
    "import warnings\n",
    "import math as mth\n",
    "from scipy import stats as st\n",
    "import plotly.express as px\n",
    "# конвертеры, которые позволяют использовать типы pandas в matplotlib  \n",
    "register_matplotlib_converters()"
   ]
  },
  {
   "cell_type": "code",
   "execution_count": 7,
   "metadata": {},
   "outputs": [
    {
     "data": {
      "text/html": [
       "<div>\n",
       "<style scoped>\n",
       "    .dataframe tbody tr th:only-of-type {\n",
       "        vertical-align: middle;\n",
       "    }\n",
       "\n",
       "    .dataframe tbody tr th {\n",
       "        vertical-align: top;\n",
       "    }\n",
       "\n",
       "    .dataframe thead th {\n",
       "        text-align: right;\n",
       "    }\n",
       "</style>\n",
       "<table border=\"1\" class=\"dataframe\">\n",
       "  <thead>\n",
       "    <tr style=\"text-align: right;\">\n",
       "      <th></th>\n",
       "      <th>EventName</th>\n",
       "      <th>DeviceIDHash</th>\n",
       "      <th>EventTimestamp</th>\n",
       "      <th>ExpId</th>\n",
       "    </tr>\n",
       "  </thead>\n",
       "  <tbody>\n",
       "    <tr>\n",
       "      <th>0</th>\n",
       "      <td>MainScreenAppear</td>\n",
       "      <td>4575588528974610257</td>\n",
       "      <td>1564029816</td>\n",
       "      <td>246</td>\n",
       "    </tr>\n",
       "    <tr>\n",
       "      <th>1</th>\n",
       "      <td>MainScreenAppear</td>\n",
       "      <td>7416695313311560658</td>\n",
       "      <td>1564053102</td>\n",
       "      <td>246</td>\n",
       "    </tr>\n",
       "    <tr>\n",
       "      <th>2</th>\n",
       "      <td>PaymentScreenSuccessful</td>\n",
       "      <td>3518123091307005509</td>\n",
       "      <td>1564054127</td>\n",
       "      <td>248</td>\n",
       "    </tr>\n",
       "    <tr>\n",
       "      <th>3</th>\n",
       "      <td>CartScreenAppear</td>\n",
       "      <td>3518123091307005509</td>\n",
       "      <td>1564054127</td>\n",
       "      <td>248</td>\n",
       "    </tr>\n",
       "    <tr>\n",
       "      <th>4</th>\n",
       "      <td>PaymentScreenSuccessful</td>\n",
       "      <td>6217807653094995999</td>\n",
       "      <td>1564055322</td>\n",
       "      <td>248</td>\n",
       "    </tr>\n",
       "    <tr>\n",
       "      <th>...</th>\n",
       "      <td>...</td>\n",
       "      <td>...</td>\n",
       "      <td>...</td>\n",
       "      <td>...</td>\n",
       "    </tr>\n",
       "    <tr>\n",
       "      <th>244121</th>\n",
       "      <td>MainScreenAppear</td>\n",
       "      <td>4599628364049201812</td>\n",
       "      <td>1565212345</td>\n",
       "      <td>247</td>\n",
       "    </tr>\n",
       "    <tr>\n",
       "      <th>244122</th>\n",
       "      <td>MainScreenAppear</td>\n",
       "      <td>5849806612437486590</td>\n",
       "      <td>1565212439</td>\n",
       "      <td>246</td>\n",
       "    </tr>\n",
       "    <tr>\n",
       "      <th>244123</th>\n",
       "      <td>MainScreenAppear</td>\n",
       "      <td>5746969938801999050</td>\n",
       "      <td>1565212483</td>\n",
       "      <td>246</td>\n",
       "    </tr>\n",
       "    <tr>\n",
       "      <th>244124</th>\n",
       "      <td>MainScreenAppear</td>\n",
       "      <td>5746969938801999050</td>\n",
       "      <td>1565212498</td>\n",
       "      <td>246</td>\n",
       "    </tr>\n",
       "    <tr>\n",
       "      <th>244125</th>\n",
       "      <td>OffersScreenAppear</td>\n",
       "      <td>5746969938801999050</td>\n",
       "      <td>1565212517</td>\n",
       "      <td>246</td>\n",
       "    </tr>\n",
       "  </tbody>\n",
       "</table>\n",
       "<p>244126 rows × 4 columns</p>\n",
       "</div>"
      ],
      "text/plain": [
       "                      EventName         DeviceIDHash  EventTimestamp  ExpId\n",
       "0              MainScreenAppear  4575588528974610257      1564029816    246\n",
       "1              MainScreenAppear  7416695313311560658      1564053102    246\n",
       "2       PaymentScreenSuccessful  3518123091307005509      1564054127    248\n",
       "3              CartScreenAppear  3518123091307005509      1564054127    248\n",
       "4       PaymentScreenSuccessful  6217807653094995999      1564055322    248\n",
       "...                         ...                  ...             ...    ...\n",
       "244121         MainScreenAppear  4599628364049201812      1565212345    247\n",
       "244122         MainScreenAppear  5849806612437486590      1565212439    246\n",
       "244123         MainScreenAppear  5746969938801999050      1565212483    246\n",
       "244124         MainScreenAppear  5746969938801999050      1565212498    246\n",
       "244125       OffersScreenAppear  5746969938801999050      1565212517    246\n",
       "\n",
       "[244126 rows x 4 columns]"
      ]
     },
     "metadata": {},
     "output_type": "display_data"
    }
   ],
   "source": [
    "pth1 = 'C:/Users/volsi/Documents/Обучение Яндекс/Проекты/Сборный проект 2/logs_exp.csv'\n",
    "pth2 = '/datasets/logs_exp.csv'\n",
    "\n",
    "if os.path.exists(pth1):\n",
    "    data = pd.read_csv (pth1, sep= '\\t' )\n",
    "elif os.path.exists(pth2):\n",
    "    data = pd.read_csv(pth2,  sep= '\\t')\n",
    "else:\n",
    "    print('Something is wrong')\n",
    "display (data)    "
   ]
  },
  {
   "cell_type": "markdown",
   "metadata": {},
   "source": [
    "## Подготовим данные:"
   ]
  },
  {
   "cell_type": "markdown",
   "metadata": {},
   "source": [
    "**Заменим названия столбцов на удобные:**"
   ]
  },
  {
   "cell_type": "code",
   "execution_count": 8,
   "metadata": {},
   "outputs": [],
   "source": [
    "data = data.rename(columns = {'EventName' : 'event', 'DeviceIDHash' : 'user_id', 'EventTimestamp' : 'event_time', 'ExpId' : 'exp_id'})"
   ]
  },
  {
   "cell_type": "markdown",
   "metadata": {},
   "source": [
    "**Проверим пропуски и типы данных:**"
   ]
  },
  {
   "cell_type": "code",
   "execution_count": 9,
   "metadata": {},
   "outputs": [
    {
     "name": "stdout",
     "output_type": "stream",
     "text": [
      "<class 'pandas.core.frame.DataFrame'>\n",
      "RangeIndex: 244126 entries, 0 to 244125\n",
      "Data columns (total 4 columns):\n",
      " #   Column      Non-Null Count   Dtype \n",
      "---  ------      --------------   ----- \n",
      " 0   event       244126 non-null  object\n",
      " 1   user_id     244126 non-null  int64 \n",
      " 2   event_time  244126 non-null  int64 \n",
      " 3   exp_id      244126 non-null  int64 \n",
      "dtypes: int64(3), object(1)\n",
      "memory usage: 7.5+ MB\n"
     ]
    }
   ],
   "source": [
    "data.info()\n",
    "#print (data)"
   ]
  },
  {
   "cell_type": "markdown",
   "metadata": {},
   "source": [
    "**Пропусков в данных нет**"
   ]
  },
  {
   "cell_type": "markdown",
   "metadata": {},
   "source": [
    "**Изменим тип данных столбца с датой:**"
   ]
  },
  {
   "cell_type": "code",
   "execution_count": 10,
   "metadata": {},
   "outputs": [],
   "source": [
    "data['event_time']=pd.to_datetime(data['event_time'],  unit='s') # изменяем тип данных столбца 'event_time'\n"
   ]
  },
  {
   "cell_type": "markdown",
   "metadata": {},
   "source": [
    "**Посчитаем дубликаты:**"
   ]
  },
  {
   "cell_type": "code",
   "execution_count": 11,
   "metadata": {},
   "outputs": [
    {
     "data": {
      "text/plain": [
       "413"
      ]
     },
     "execution_count": 11,
     "metadata": {},
     "output_type": "execute_result"
    }
   ],
   "source": [
    "data.duplicated().sum()"
   ]
  },
  {
   "cell_type": "markdown",
   "metadata": {},
   "source": [
    "**Удалим дубликаты:**"
   ]
  },
  {
   "cell_type": "code",
   "execution_count": 12,
   "metadata": {},
   "outputs": [
    {
     "name": "stdout",
     "output_type": "stream",
     "text": [
      "                          event              user_id          event_time  \\\n",
      "0              MainScreenAppear  4575588528974610257 2019-07-25 04:43:36   \n",
      "1              MainScreenAppear  7416695313311560658 2019-07-25 11:11:42   \n",
      "2       PaymentScreenSuccessful  3518123091307005509 2019-07-25 11:28:47   \n",
      "3              CartScreenAppear  3518123091307005509 2019-07-25 11:28:47   \n",
      "4       PaymentScreenSuccessful  6217807653094995999 2019-07-25 11:48:42   \n",
      "...                         ...                  ...                 ...   \n",
      "243708         MainScreenAppear  4599628364049201812 2019-08-07 21:12:25   \n",
      "243709         MainScreenAppear  5849806612437486590 2019-08-07 21:13:59   \n",
      "243710         MainScreenAppear  5746969938801999050 2019-08-07 21:14:43   \n",
      "243711         MainScreenAppear  5746969938801999050 2019-08-07 21:14:58   \n",
      "243712       OffersScreenAppear  5746969938801999050 2019-08-07 21:15:17   \n",
      "\n",
      "        exp_id  \n",
      "0          246  \n",
      "1          246  \n",
      "2          248  \n",
      "3          248  \n",
      "4          248  \n",
      "...        ...  \n",
      "243708     247  \n",
      "243709     246  \n",
      "243710     246  \n",
      "243711     246  \n",
      "243712     246  \n",
      "\n",
      "[243713 rows x 4 columns]\n"
     ]
    }
   ],
   "source": [
    "data = data.drop_duplicates()\n",
    "data=data.reset_index(drop=True) # обновим индексы\n",
    "print (data)"
   ]
  },
  {
   "cell_type": "markdown",
   "metadata": {},
   "source": [
    "**Добавим столбец с датами:**"
   ]
  },
  {
   "cell_type": "code",
   "execution_count": 13,
   "metadata": {},
   "outputs": [
    {
     "name": "stdout",
     "output_type": "stream",
     "text": [
      "                          event              user_id          event_time  \\\n",
      "0              MainScreenAppear  4575588528974610257 2019-07-25 04:43:36   \n",
      "1              MainScreenAppear  7416695313311560658 2019-07-25 11:11:42   \n",
      "2       PaymentScreenSuccessful  3518123091307005509 2019-07-25 11:28:47   \n",
      "3              CartScreenAppear  3518123091307005509 2019-07-25 11:28:47   \n",
      "4       PaymentScreenSuccessful  6217807653094995999 2019-07-25 11:48:42   \n",
      "...                         ...                  ...                 ...   \n",
      "243708         MainScreenAppear  4599628364049201812 2019-08-07 21:12:25   \n",
      "243709         MainScreenAppear  5849806612437486590 2019-08-07 21:13:59   \n",
      "243710         MainScreenAppear  5746969938801999050 2019-08-07 21:14:43   \n",
      "243711         MainScreenAppear  5746969938801999050 2019-08-07 21:14:58   \n",
      "243712       OffersScreenAppear  5746969938801999050 2019-08-07 21:15:17   \n",
      "\n",
      "        exp_id  event_date  \n",
      "0          246  2019-07-25  \n",
      "1          246  2019-07-25  \n",
      "2          248  2019-07-25  \n",
      "3          248  2019-07-25  \n",
      "4          248  2019-07-25  \n",
      "...        ...         ...  \n",
      "243708     247  2019-08-07  \n",
      "243709     246  2019-08-07  \n",
      "243710     246  2019-08-07  \n",
      "243711     246  2019-08-07  \n",
      "243712     246  2019-08-07  \n",
      "\n",
      "[243713 rows x 5 columns]\n"
     ]
    }
   ],
   "source": [
    "data['event_date']=data['event_time'].dt.date\n",
    "print (data)"
   ]
  },
  {
   "cell_type": "markdown",
   "metadata": {},
   "source": [
    "## Изучим и проверим данные:"
   ]
  },
  {
   "cell_type": "markdown",
   "metadata": {},
   "source": [
    "**Посмотрим, сколько всего событий в логе:**"
   ]
  },
  {
   "cell_type": "code",
   "execution_count": 14,
   "metadata": {},
   "outputs": [
    {
     "data": {
      "text/plain": [
       "243713"
      ]
     },
     "execution_count": 14,
     "metadata": {},
     "output_type": "execute_result"
    }
   ],
   "source": [
    "len(data)"
   ]
  },
  {
   "cell_type": "markdown",
   "metadata": {},
   "source": [
    "**Посмотрим, сколько всего пользователей в логе:**"
   ]
  },
  {
   "cell_type": "code",
   "execution_count": 15,
   "metadata": {},
   "outputs": [
    {
     "data": {
      "text/plain": [
       "7551"
      ]
     },
     "execution_count": 15,
     "metadata": {},
     "output_type": "execute_result"
    }
   ],
   "source": [
    "data['user_id'].nunique()"
   ]
  },
  {
   "cell_type": "markdown",
   "metadata": {},
   "source": [
    "**Посчитаем, сколько в среднем событий приходится на пользователя:**"
   ]
  },
  {
   "cell_type": "code",
   "execution_count": 16,
   "metadata": {},
   "outputs": [
    {
     "data": {
      "text/plain": [
       "32.28"
      ]
     },
     "execution_count": 16,
     "metadata": {},
     "output_type": "execute_result"
    }
   ],
   "source": [
    "round(data.groupby('user_id')['event'].count().mean(),2)"
   ]
  },
  {
   "cell_type": "markdown",
   "metadata": {},
   "source": [
    "**Найдём максимальную и минимальную дату:**"
   ]
  },
  {
   "cell_type": "code",
   "execution_count": 17,
   "metadata": {},
   "outputs": [
    {
     "data": {
      "text/plain": [
       "min    2019-07-25\n",
       "max    2019-08-07\n",
       "Name: event_date, dtype: object"
      ]
     },
     "execution_count": 17,
     "metadata": {},
     "output_type": "execute_result"
    }
   ],
   "source": [
    "data['event_date'].agg([min,max])"
   ]
  },
  {
   "cell_type": "markdown",
   "metadata": {},
   "source": [
    "**Предварительно мы располагаем данными за период с 25.07.2019 по 07.08.2019 включительно**"
   ]
  },
  {
   "cell_type": "markdown",
   "metadata": {},
   "source": [
    "**Построим гистограмму по дате и времени:**"
   ]
  },
  {
   "cell_type": "code",
   "execution_count": 18,
   "metadata": {
    "scrolled": true
   },
   "outputs": [
    {
     "data": {
      "image/png": "[encoded data removed]",
      "text/plain": [
       "<Figure size 1500x900 with 1 Axes>"
      ]
     },
     "metadata": {},
     "output_type": "display_data"
    }
   ],
   "source": [
    "data['event_time'].hist(bins = 13, figsize = (15,9));"
   ]
  },
  {
   "cell_type": "markdown",
   "metadata": {},
   "source": [
    "**Данные до 01.08.2019 являются неполными и их следует отбросить. Сделаем это, предварительно рассчитав, сколько строк будет удалено:**"
   ]
  },
  {
   "cell_type": "code",
   "execution_count": 19,
   "metadata": {},
   "outputs": [
    {
     "name": "stdout",
     "output_type": "stream",
     "text": [
      "Количество потерь по событиям: 2826 ( 1.2 % )\n"
     ]
    }
   ],
   "source": [
    "print('Количество потерь по событиям:',len(data[data['event_date']<date(2019,8,1)]),'(',round(len(data[data['event_date']<date(2019,8,1)])/len(data)*100,1),'% )')"
   ]
  },
  {
   "cell_type": "code",
   "execution_count": 20,
   "metadata": {},
   "outputs": [
    {
     "name": "stdout",
     "output_type": "stream",
     "text": [
      "Количество потерь по уникальным пользователям: 17 ( 0.2 % )\n"
     ]
    }
   ],
   "source": [
    "print('Количество потерь по уникальным пользователям:',len(data['user_id'].unique())-len(data[data['event_date']>=date(2019,8,1)]['user_id'].unique()),'(',round((len(data['user_id'].unique())-len(data[data['event_date']>=date(2019,8,1)]['user_id'].unique()))/len(data['user_id'].unique())*100,1),'% )')"
   ]
  },
  {
   "cell_type": "code",
   "execution_count": 21,
   "metadata": {},
   "outputs": [
    {
     "data": {
      "image/png": "[encoded data removed]",
      "text/plain": [
       "<Figure size 1500x600 with 1 Axes>"
      ]
     },
     "metadata": {},
     "output_type": "display_data"
    }
   ],
   "source": [
    "\n",
    "data = data[data['event_date']>=date(2019,8,1)]\n",
    "data['event_time'].hist(bins = 7, figsize = (15,6));"
   ]
  },
  {
   "cell_type": "markdown",
   "metadata": {},
   "source": [
    "**Теперь мы располагаем данными с 01.08.2019 по 07.08.2019**"
   ]
  },
  {
   "cell_type": "markdown",
   "metadata": {},
   "source": [
    "**Проверим, что у нас есть пользователи из всех трёх экспериментальных групп:**"
   ]
  },
  {
   "cell_type": "code",
   "execution_count": 22,
   "metadata": {},
   "outputs": [
    {
     "data": {
      "text/html": [
       "<div>\n",
       "<style scoped>\n",
       "    .dataframe tbody tr th:only-of-type {\n",
       "        vertical-align: middle;\n",
       "    }\n",
       "\n",
       "    .dataframe tbody tr th {\n",
       "        vertical-align: top;\n",
       "    }\n",
       "\n",
       "    .dataframe thead th {\n",
       "        text-align: right;\n",
       "    }\n",
       "</style>\n",
       "<table border=\"1\" class=\"dataframe\">\n",
       "  <thead>\n",
       "    <tr style=\"text-align: right;\">\n",
       "      <th></th>\n",
       "      <th>event</th>\n",
       "      <th>user_id</th>\n",
       "      <th>event_time</th>\n",
       "      <th>event_date</th>\n",
       "    </tr>\n",
       "    <tr>\n",
       "      <th>exp_id</th>\n",
       "      <th></th>\n",
       "      <th></th>\n",
       "      <th></th>\n",
       "      <th></th>\n",
       "    </tr>\n",
       "  </thead>\n",
       "  <tbody>\n",
       "    <tr>\n",
       "      <th>246</th>\n",
       "      <td>79302</td>\n",
       "      <td>79302</td>\n",
       "      <td>79302</td>\n",
       "      <td>79302</td>\n",
       "    </tr>\n",
       "    <tr>\n",
       "      <th>247</th>\n",
       "      <td>77022</td>\n",
       "      <td>77022</td>\n",
       "      <td>77022</td>\n",
       "      <td>77022</td>\n",
       "    </tr>\n",
       "    <tr>\n",
       "      <th>248</th>\n",
       "      <td>84563</td>\n",
       "      <td>84563</td>\n",
       "      <td>84563</td>\n",
       "      <td>84563</td>\n",
       "    </tr>\n",
       "  </tbody>\n",
       "</table>\n",
       "</div>"
      ],
      "text/plain": [
       "        event  user_id  event_time  event_date\n",
       "exp_id                                        \n",
       "246     79302    79302       79302       79302\n",
       "247     77022    77022       77022       77022\n",
       "248     84563    84563       84563       84563"
      ]
     },
     "execution_count": 22,
     "metadata": {},
     "output_type": "execute_result"
    }
   ],
   "source": [
    "data.groupby('exp_id').count()"
   ]
  },
  {
   "cell_type": "markdown",
   "metadata": {},
   "source": [
    "## Изучим воронку событий:"
   ]
  },
  {
   "cell_type": "markdown",
   "metadata": {},
   "source": [
    "**Посмотрим, какие события есть в логах, как часто они встречаются. Отсортируем события по частоте:**"
   ]
  },
  {
   "cell_type": "code",
   "execution_count": 23,
   "metadata": {},
   "outputs": [
    {
     "data": {
      "text/html": [
       "<div>\n",
       "<style scoped>\n",
       "    .dataframe tbody tr th:only-of-type {\n",
       "        vertical-align: middle;\n",
       "    }\n",
       "\n",
       "    .dataframe tbody tr th {\n",
       "        vertical-align: top;\n",
       "    }\n",
       "\n",
       "    .dataframe thead th {\n",
       "        text-align: right;\n",
       "    }\n",
       "</style>\n",
       "<table border=\"1\" class=\"dataframe\">\n",
       "  <thead>\n",
       "    <tr style=\"text-align: right;\">\n",
       "      <th></th>\n",
       "      <th>user_id</th>\n",
       "      <th>event_time</th>\n",
       "      <th>exp_id</th>\n",
       "      <th>event_date</th>\n",
       "    </tr>\n",
       "    <tr>\n",
       "      <th>event</th>\n",
       "      <th></th>\n",
       "      <th></th>\n",
       "      <th></th>\n",
       "      <th></th>\n",
       "    </tr>\n",
       "  </thead>\n",
       "  <tbody>\n",
       "    <tr>\n",
       "      <th>MainScreenAppear</th>\n",
       "      <td>117328</td>\n",
       "      <td>117328</td>\n",
       "      <td>117328</td>\n",
       "      <td>117328</td>\n",
       "    </tr>\n",
       "    <tr>\n",
       "      <th>OffersScreenAppear</th>\n",
       "      <td>46333</td>\n",
       "      <td>46333</td>\n",
       "      <td>46333</td>\n",
       "      <td>46333</td>\n",
       "    </tr>\n",
       "    <tr>\n",
       "      <th>CartScreenAppear</th>\n",
       "      <td>42303</td>\n",
       "      <td>42303</td>\n",
       "      <td>42303</td>\n",
       "      <td>42303</td>\n",
       "    </tr>\n",
       "    <tr>\n",
       "      <th>PaymentScreenSuccessful</th>\n",
       "      <td>33918</td>\n",
       "      <td>33918</td>\n",
       "      <td>33918</td>\n",
       "      <td>33918</td>\n",
       "    </tr>\n",
       "    <tr>\n",
       "      <th>Tutorial</th>\n",
       "      <td>1005</td>\n",
       "      <td>1005</td>\n",
       "      <td>1005</td>\n",
       "      <td>1005</td>\n",
       "    </tr>\n",
       "  </tbody>\n",
       "</table>\n",
       "</div>"
      ],
      "text/plain": [
       "                         user_id  event_time  exp_id  event_date\n",
       "event                                                           \n",
       "MainScreenAppear          117328      117328  117328      117328\n",
       "OffersScreenAppear         46333       46333   46333       46333\n",
       "CartScreenAppear           42303       42303   42303       42303\n",
       "PaymentScreenSuccessful    33918       33918   33918       33918\n",
       "Tutorial                    1005        1005    1005        1005"
      ]
     },
     "execution_count": 23,
     "metadata": {},
     "output_type": "execute_result"
    }
   ],
   "source": [
    "data.groupby(['event']).count(). sort_values (by ='user_id', ascending = False)"
   ]
  },
  {
   "cell_type": "code",
   "execution_count": 24,
   "metadata": {},
   "outputs": [
    {
     "data": {
      "text/plain": [
       "MainScreenAppear           117328\n",
       "OffersScreenAppear          46333\n",
       "CartScreenAppear            42303\n",
       "PaymentScreenSuccessful     33918\n",
       "Tutorial                     1005\n",
       "Name: event, dtype: int64"
      ]
     },
     "execution_count": 24,
     "metadata": {},
     "output_type": "execute_result"
    }
   ],
   "source": [
    "data['event'].value_counts() # так короче, но табличка некрасивая"
   ]
  },
  {
   "cell_type": "markdown",
   "metadata": {},
   "source": [
    "**Посчитаем, сколько пользователей совершали каждое из этих событий. Отсортируем события по числу пользователей:**"
   ]
  },
  {
   "cell_type": "code",
   "execution_count": 25,
   "metadata": {},
   "outputs": [
    {
     "data": {
      "text/plain": [
       "event\n",
       "MainScreenAppear           7419\n",
       "OffersScreenAppear         4593\n",
       "CartScreenAppear           3734\n",
       "PaymentScreenSuccessful    3539\n",
       "Tutorial                    840\n",
       "Name: user_id, dtype: int64"
      ]
     },
     "execution_count": 25,
     "metadata": {},
     "output_type": "execute_result"
    }
   ],
   "source": [
    "data.groupby(['event'])['user_id'].nunique().sort_values(ascending = False)"
   ]
  },
  {
   "cell_type": "markdown",
   "metadata": {},
   "source": [
    "**Посчитаем долю пользователей, которые хоть раз совершали событие:**"
   ]
  },
  {
   "cell_type": "code",
   "execution_count": 26,
   "metadata": {},
   "outputs": [
    {
     "name": "stdout",
     "output_type": "stream",
     "text": [
      "event\n",
      "MainScreenAppear           0.98\n",
      "OffersScreenAppear         0.61\n",
      "CartScreenAppear           0.50\n",
      "PaymentScreenSuccessful    0.47\n",
      "Tutorial                   0.11\n",
      "Name: user_id, dtype: float64\n"
     ]
    }
   ],
   "source": [
    "funnel = round(data.groupby(['event'])['user_id'].nunique().sort_values(ascending = False)/data['user_id'].nunique(),2)\n",
    "print (funnel)"
   ]
  },
  {
   "cell_type": "markdown",
   "metadata": {},
   "source": [
    "**Предполагаю, что события происходят в следующем порядке:** <br>\n",
    "<br>\n",
    "    1. MainScreenAppear;<br>\n",
    "    2. OffersScreenAppear;<br>\n",
    "    3. CartScreenAppear;<br>\n",
    "    4. PaymentScreenSuccessful.<br>\n",
    "    Событие Tutorial, по смыслу может совершаться как в самом начале, так и после любого шага, который вызвал затруднение.<br>\n",
    "    <br> **Думаю, что в последовательную цепочку выстраиваются все события за исключением Tutorial.**"
   ]
  },
  {
   "cell_type": "code",
   "execution_count": 27,
   "metadata": {},
   "outputs": [
    {
     "name": "stdout",
     "output_type": "stream",
     "text": [
      "C шага MainScreenAppear на шаг OffersScreenAppear переходят 62.24 % пользователей\n"
     ]
    }
   ],
   "source": [
    "print('C шага MainScreenAppear на шаг OffersScreenAppear переходят', round(funnel['OffersScreenAppear']/funnel['MainScreenAppear']*100,2),\"% пользователей\")"
   ]
  },
  {
   "cell_type": "code",
   "execution_count": 28,
   "metadata": {},
   "outputs": [
    {
     "name": "stdout",
     "output_type": "stream",
     "text": [
      "C шага OffersScreenAppear на шаг CartScreenAppear переходят 81.97 % пользователей\n"
     ]
    }
   ],
   "source": [
    "print('C шага OffersScreenAppear на шаг CartScreenAppear переходят', round(funnel['CartScreenAppear']/funnel['OffersScreenAppear']*100,2),\"% пользователей\")"
   ]
  },
  {
   "cell_type": "code",
   "execution_count": 29,
   "metadata": {},
   "outputs": [
    {
     "name": "stdout",
     "output_type": "stream",
     "text": [
      "C шага CartScreenAppear на шаг PaymentScreenSuccessful переходят 94.0 % пользователей\n"
     ]
    }
   ],
   "source": [
    "print('C шага CartScreenAppear на шаг PaymentScreenSuccessful переходят', round(funnel['PaymentScreenSuccessful']/funnel['CartScreenAppear']*100,2),\"% пользователей\")"
   ]
  },
  {
   "cell_type": "markdown",
   "metadata": {},
   "source": [
    "**Больше всего пользователей теряется при переходе с MainScreenAppear на OffersScreenAppear, около 38 %.**"
   ]
  },
  {
   "cell_type": "code",
   "execution_count": 30,
   "metadata": {},
   "outputs": [
    {
     "name": "stdout",
     "output_type": "stream",
     "text": [
      "От первого события до оплаты доходят 47.96 % пользователей\n"
     ]
    }
   ],
   "source": [
    "print('От первого события до оплаты доходят', round(funnel['PaymentScreenSuccessful']/funnel['MainScreenAppear']*100,2),\"% пользователей\")"
   ]
  },
  {
   "cell_type": "code",
   "execution_count": 53,
   "metadata": {},
   "outputs": [
    {
     "data": {
      "application/vnd.plotly.v1+json": {
       "config": {
        "plotlyServerURL": "https://plot.ly"
       },
       "data": [
        {
         "hovertemplate": "number=%{x}<br>stage=%{y}<extra></extra>",
         "legendgroup": "",
         "marker": {
          "color": "#636efa"
         },
         "name": "",
         "orientation": "h",
         "showlegend": false,
         "type": "funnel",
         "x": [
          7419,
          4593,
          3734,
          3539
         ],
         "xaxis": "x",
         "y": [
          "MainScreenAppear",
          "OffersScreenAppear",
          "CartScreenAppear",
          "PaymentScreenSuccessful"
         ],
         "yaxis": "y"
        }
       ],
       "layout": {
        "legend": {
         "tracegroupgap": 0
        },
        "template": {
         "data": {
          "bar": [
           {
            "error_x": {
             "color": "#2a3f5f"
            },
            "error_y": {
             "color": "#2a3f5f"
            },
            "marker": {
             "line": {
              "color": "#E5ECF6",
              "width": 0.5
             },
             "pattern": {
              "fillmode": "overlay",
              "size": 10,
              "solidity": 0.2
             }
            },
            "type": "bar"
           }
          ],
          "barpolar": [
           {
            "marker": {
             "line": {
              "color": "#E5ECF6",
              "width": 0.5
             },
             "pattern": {
              "fillmode": "overlay",
              "size": 10,
              "solidity": 0.2
             }
            },
            "type": "barpolar"
           }
          ],
          "carpet": [
           {
            "aaxis": {
             "endlinecolor": "#2a3f5f",
             "gridcolor": "white",
             "linecolor": "white",
             "minorgridcolor": "white",
             "startlinecolor": "#2a3f5f"
            },
            "baxis": {
             "endlinecolor": "#2a3f5f",
             "gridcolor": "white",
             "linecolor": "white",
             "minorgridcolor": "white",
             "startlinecolor": "#2a3f5f"
            },
            "type": "carpet"
           }
          ],
          "choropleth": [
           {
            "colorbar": {
             "outlinewidth": 0,
             "ticks": ""
            },
            "type": "choropleth"
           }
          ],
          "contour": [
           {
            "colorbar": {
             "outlinewidth": 0,
             "ticks": ""
            },
            "colorscale": [
             [
              0,
              "#0d0887"
             ],
             [
              0.1111111111111111,
              "#46039f"
             ],
             [
              0.2222222222222222,
              "#7201a8"
             ],
             [
              0.3333333333333333,
              "#9c179e"
             ],
             [
              0.4444444444444444,
              "#bd3786"
             ],
             [
              0.5555555555555556,
              "#d8576b"
             ],
             [
              0.6666666666666666,
              "#ed7953"
             ],
             [
              0.7777777777777778,
              "#fb9f3a"
             ],
             [
              0.8888888888888888,
              "#fdca26"
             ],
             [
              1,
              "#f0f921"
             ]
            ],
            "type": "contour"
           }
          ],
          "contourcarpet": [
           {
            "colorbar": {
             "outlinewidth": 0,
             "ticks": ""
            },
            "type": "contourcarpet"
           }
          ],
          "heatmap": [
           {
            "colorbar": {
             "outlinewidth": 0,
             "ticks": ""
            },
            "colorscale": [
             [
              0,
              "#0d0887"
             ],
             [
              0.1111111111111111,
              "#46039f"
             ],
             [
              0.2222222222222222,
              "#7201a8"
             ],
             [
              0.3333333333333333,
              "#9c179e"
             ],
             [
              0.4444444444444444,
              "#bd3786"
             ],
             [
              0.5555555555555556,
              "#d8576b"
             ],
             [
              0.6666666666666666,
              "#ed7953"
             ],
             [
              0.7777777777777778,
              "#fb9f3a"
             ],
             [
              0.8888888888888888,
              "#fdca26"
             ],
             [
              1,
              "#f0f921"
             ]
            ],
            "type": "heatmap"
           }
          ],
          "heatmapgl": [
           {
            "colorbar": {
             "outlinewidth": 0,
             "ticks": ""
            },
            "colorscale": [
             [
              0,
              "#0d0887"
             ],
             [
              0.1111111111111111,
              "#46039f"
             ],
             [
              0.2222222222222222,
              "#7201a8"
             ],
             [
              0.3333333333333333,
              "#9c179e"
             ],
             [
              0.4444444444444444,
              "#bd3786"
             ],
             [
              0.5555555555555556,
              "#d8576b"
             ],
             [
              0.6666666666666666,
              "#ed7953"
             ],
             [
              0.7777777777777778,
              "#fb9f3a"
             ],
             [
              0.8888888888888888,
              "#fdca26"
             ],
             [
              1,
              "#f0f921"
             ]
            ],
            "type": "heatmapgl"
           }
          ],
          "histogram": [
           {
            "marker": {
             "pattern": {
              "fillmode": "overlay",
              "size": 10,
              "solidity": 0.2
             }
            },
            "type": "histogram"
           }
          ],
          "histogram2d": [
           {
            "colorbar": {
             "outlinewidth": 0,
             "ticks": ""
            },
            "colorscale": [
             [
              0,
              "#0d0887"
             ],
             [
              0.1111111111111111,
              "#46039f"
             ],
             [
              0.2222222222222222,
              "#7201a8"
             ],
             [
              0.3333333333333333,
              "#9c179e"
             ],
             [
              0.4444444444444444,
              "#bd3786"
             ],
             [
              0.5555555555555556,
              "#d8576b"
             ],
             [
              0.6666666666666666,
              "#ed7953"
             ],
             [
              0.7777777777777778,
              "#fb9f3a"
             ],
             [
              0.8888888888888888,
              "#fdca26"
             ],
             [
              1,
              "#f0f921"
             ]
            ],
            "type": "histogram2d"
           }
          ],
          "histogram2dcontour": [
           {
            "colorbar": {
             "outlinewidth": 0,
             "ticks": ""
            },
            "colorscale": [
             [
              0,
              "#0d0887"
             ],
             [
              0.1111111111111111,
              "#46039f"
             ],
             [
              0.2222222222222222,
              "#7201a8"
             ],
             [
              0.3333333333333333,
              "#9c179e"
             ],
             [
              0.4444444444444444,
              "#bd3786"
             ],
             [
              0.5555555555555556,
              "#d8576b"
             ],
             [
              0.6666666666666666,
              "#ed7953"
             ],
             [
              0.7777777777777778,
              "#fb9f3a"
             ],
             [
              0.8888888888888888,
              "#fdca26"
             ],
             [
              1,
              "#f0f921"
             ]
            ],
            "type": "histogram2dcontour"
           }
          ],
          "mesh3d": [
           {
            "colorbar": {
             "outlinewidth": 0,
             "ticks": ""
            },
            "type": "mesh3d"
           }
          ],
          "parcoords": [
           {
            "line": {
             "colorbar": {
              "outlinewidth": 0,
              "ticks": ""
             }
            },
            "type": "parcoords"
           }
          ],
          "pie": [
           {
            "automargin": true,
            "type": "pie"
           }
          ],
          "scatter": [
           {
            "fillpattern": {
             "fillmode": "overlay",
             "size": 10,
             "solidity": 0.2
            },
            "type": "scatter"
           }
          ],
          "scatter3d": [
           {
            "line": {
             "colorbar": {
              "outlinewidth": 0,
              "ticks": ""
             }
            },
            "marker": {
             "colorbar": {
              "outlinewidth": 0,
              "ticks": ""
             }
            },
            "type": "scatter3d"
           }
          ],
          "scattercarpet": [
           {
            "marker": {
             "colorbar": {
              "outlinewidth": 0,
              "ticks": ""
             }
            },
            "type": "scattercarpet"
           }
          ],
          "scattergeo": [
           {
            "marker": {
             "colorbar": {
              "outlinewidth": 0,
              "ticks": ""
             }
            },
            "type": "scattergeo"
           }
          ],
          "scattergl": [
           {
            "marker": {
             "colorbar": {
              "outlinewidth": 0,
              "ticks": ""
             }
            },
            "type": "scattergl"
           }
          ],
          "scattermapbox": [
           {
            "marker": {
             "colorbar": {
              "outlinewidth": 0,
              "ticks": ""
             }
            },
            "type": "scattermapbox"
           }
          ],
          "scatterpolar": [
           {
            "marker": {
             "colorbar": {
              "outlinewidth": 0,
              "ticks": ""
             }
            },
            "type": "scatterpolar"
           }
          ],
          "scatterpolargl": [
           {
            "marker": {
             "colorbar": {
              "outlinewidth": 0,
              "ticks": ""
             }
            },
            "type": "scatterpolargl"
           }
          ],
          "scatterternary": [
           {
            "marker": {
             "colorbar": {
              "outlinewidth": 0,
              "ticks": ""
             }
            },
            "type": "scatterternary"
           }
          ],
          "surface": [
           {
            "colorbar": {
             "outlinewidth": 0,
             "ticks": ""
            },
            "colorscale": [
             [
              0,
              "#0d0887"
             ],
             [
              0.1111111111111111,
              "#46039f"
             ],
             [
              0.2222222222222222,
              "#7201a8"
             ],
             [
              0.3333333333333333,
              "#9c179e"
             ],
             [
              0.4444444444444444,
              "#bd3786"
             ],
             [
              0.5555555555555556,
              "#d8576b"
             ],
             [
              0.6666666666666666,
              "#ed7953"
             ],
             [
              0.7777777777777778,
              "#fb9f3a"
             ],
             [
              0.8888888888888888,
              "#fdca26"
             ],
             [
              1,
              "#f0f921"
             ]
            ],
            "type": "surface"
           }
          ],
          "table": [
           {
            "cells": {
             "fill": {
              "color": "#EBF0F8"
             },
             "line": {
              "color": "white"
             }
            },
            "header": {
             "fill": {
              "color": "#C8D4E3"
             },
             "line": {
              "color": "white"
             }
            },
            "type": "table"
           }
          ]
         },
         "layout": {
          "annotationdefaults": {
           "arrowcolor": "#2a3f5f",
           "arrowhead": 0,
           "arrowwidth": 1
          },
          "autotypenumbers": "strict",
          "coloraxis": {
           "colorbar": {
            "outlinewidth": 0,
            "ticks": ""
           }
          },
          "colorscale": {
           "diverging": [
            [
             0,
             "#8e0152"
            ],
            [
             0.1,
             "#c51b7d"
            ],
            [
             0.2,
             "#de77ae"
            ],
            [
             0.3,
             "#f1b6da"
            ],
            [
             0.4,
             "#fde0ef"
            ],
            [
             0.5,
             "#f7f7f7"
            ],
            [
             0.6,
             "#e6f5d0"
            ],
            [
             0.7,
             "#b8e186"
            ],
            [
             0.8,
             "#7fbc41"
            ],
            [
             0.9,
             "#4d9221"
            ],
            [
             1,
             "#276419"
            ]
           ],
           "sequential": [
            [
             0,
             "#0d0887"
            ],
            [
             0.1111111111111111,
             "#46039f"
            ],
            [
             0.2222222222222222,
             "#7201a8"
            ],
            [
             0.3333333333333333,
             "#9c179e"
            ],
            [
             0.4444444444444444,
             "#bd3786"
            ],
            [
             0.5555555555555556,
             "#d8576b"
            ],
            [
             0.6666666666666666,
             "#ed7953"
            ],
            [
             0.7777777777777778,
             "#fb9f3a"
            ],
            [
             0.8888888888888888,
             "#fdca26"
            ],
            [
             1,
             "#f0f921"
            ]
           ],
           "sequentialminus": [
            [
             0,
             "#0d0887"
            ],
            [
             0.1111111111111111,
             "#46039f"
            ],
            [
             0.2222222222222222,
             "#7201a8"
            ],
            [
             0.3333333333333333,
             "#9c179e"
            ],
            [
             0.4444444444444444,
             "#bd3786"
            ],
            [
             0.5555555555555556,
             "#d8576b"
            ],
            [
             0.6666666666666666,
             "#ed7953"
            ],
            [
             0.7777777777777778,
             "#fb9f3a"
            ],
            [
             0.8888888888888888,
             "#fdca26"
            ],
            [
             1,
             "#f0f921"
            ]
           ]
          },
          "colorway": [
           "#636efa",
           "#EF553B",
           "#00cc96",
           "#ab63fa",
           "#FFA15A",
           "#19d3f3",
           "#FF6692",
           "#B6E880",
           "#FF97FF",
           "#FECB52"
          ],
          "font": {
           "color": "#2a3f5f"
          },
          "geo": {
           "bgcolor": "white",
           "lakecolor": "white",
           "landcolor": "#E5ECF6",
           "showlakes": true,
           "showland": true,
           "subunitcolor": "white"
          },
          "hoverlabel": {
           "align": "left"
          },
          "hovermode": "closest",
          "mapbox": {
           "style": "light"
          },
          "paper_bgcolor": "white",
          "plot_bgcolor": "#E5ECF6",
          "polar": {
           "angularaxis": {
            "gridcolor": "white",
            "linecolor": "white",
            "ticks": ""
           },
           "bgcolor": "#E5ECF6",
           "radialaxis": {
            "gridcolor": "white",
            "linecolor": "white",
            "ticks": ""
           }
          },
          "scene": {
           "xaxis": {
            "backgroundcolor": "#E5ECF6",
            "gridcolor": "white",
            "gridwidth": 2,
            "linecolor": "white",
            "showbackground": true,
            "ticks": "",
            "zerolinecolor": "white"
           },
           "yaxis": {
            "backgroundcolor": "#E5ECF6",
            "gridcolor": "white",
            "gridwidth": 2,
            "linecolor": "white",
            "showbackground": true,
            "ticks": "",
            "zerolinecolor": "white"
           },
           "zaxis": {
            "backgroundcolor": "#E5ECF6",
            "gridcolor": "white",
            "gridwidth": 2,
            "linecolor": "white",
            "showbackground": true,
            "ticks": "",
            "zerolinecolor": "white"
           }
          },
          "shapedefaults": {
           "line": {
            "color": "#2a3f5f"
           }
          },
          "ternary": {
           "aaxis": {
            "gridcolor": "white",
            "linecolor": "white",
            "ticks": ""
           },
           "baxis": {
            "gridcolor": "white",
            "linecolor": "white",
            "ticks": ""
           },
           "bgcolor": "#E5ECF6",
           "caxis": {
            "gridcolor": "white",
            "linecolor": "white",
            "ticks": ""
           }
          },
          "title": {
           "x": 0.05
          },
          "xaxis": {
           "automargin": true,
           "gridcolor": "white",
           "linecolor": "white",
           "ticks": "",
           "title": {
            "standoff": 15
           },
           "zerolinecolor": "white",
           "zerolinewidth": 2
          },
          "yaxis": {
           "automargin": true,
           "gridcolor": "white",
           "linecolor": "white",
           "ticks": "",
           "title": {
            "standoff": 15
           },
           "zerolinecolor": "white",
           "zerolinewidth": 2
          }
         }
        },
        "title": {
         "text": "Воронка событий по числу уникальных пользователей"
        },
        "xaxis": {
         "anchor": "y",
         "domain": [
          0,
          1
         ],
         "title": {
          "text": "number"
         }
        },
        "yaxis": {
         "anchor": "x",
         "domain": [
          0,
          1
         ],
         "title": {
          "text": "stage"
         }
        }
       }
      },
      "text/html": [
       "<div>                            <div id=\"314783dc-0587-4e9a-b54f-21c8df892561\" class=\"plotly-graph-div\" style=\"height:525px; width:100%;\"></div>            <script type=\"text/javascript\">                require([\"plotly\"], function(Plotly) {                    window.PLOTLYENV=window.PLOTLYENV || {};                                    if (document.getElementById(\"314783dc-0587-4e9a-b54f-21c8df892561\")) {                    Plotly.newPlot(                        \"314783dc-0587-4e9a-b54f-21c8df892561\",                        [{\"hovertemplate\":\"number=%{x}<br>stage=%{y}<extra></extra>\",\"legendgroup\":\"\",\"marker\":{\"color\":\"#636efa\"},\"name\":\"\",\"orientation\":\"h\",\"showlegend\":false,\"x\":[7419,4593,3734,3539],\"xaxis\":\"x\",\"y\":[\"MainScreenAppear\",\"OffersScreenAppear\",\"CartScreenAppear\",\"PaymentScreenSuccessful\"],\"yaxis\":\"y\",\"type\":\"funnel\"}],                        {\"template\":{\"data\":{\"histogram2dcontour\":[{\"type\":\"histogram2dcontour\",\"colorbar\":{\"outlinewidth\":0,\"ticks\":\"\"},\"colorscale\":[[0.0,\"#0d0887\"],[0.1111111111111111,\"#46039f\"],[0.2222222222222222,\"#7201a8\"],[0.3333333333333333,\"#9c179e\"],[0.4444444444444444,\"#bd3786\"],[0.5555555555555556,\"#d8576b\"],[0.6666666666666666,\"#ed7953\"],[0.7777777777777778,\"#fb9f3a\"],[0.8888888888888888,\"#fdca26\"],[1.0,\"#f0f921\"]]}],\"choropleth\":[{\"type\":\"choropleth\",\"colorbar\":{\"outlinewidth\":0,\"ticks\":\"\"}}],\"histogram2d\":[{\"type\":\"histogram2d\",\"colorbar\":{\"outlinewidth\":0,\"ticks\":\"\"},\"colorscale\":[[0.0,\"#0d0887\"],[0.1111111111111111,\"#46039f\"],[0.2222222222222222,\"#7201a8\"],[0.3333333333333333,\"#9c179e\"],[0.4444444444444444,\"#bd3786\"],[0.5555555555555556,\"#d8576b\"],[0.6666666666666666,\"#ed7953\"],[0.7777777777777778,\"#fb9f3a\"],[0.8888888888888888,\"#fdca26\"],[1.0,\"#f0f921\"]]}],\"heatmap\":[{\"type\":\"heatmap\",\"colorbar\":{\"outlinewidth\":0,\"ticks\":\"\"},\"colorscale\":[[0.0,\"#0d0887\"],[0.1111111111111111,\"#46039f\"],[0.2222222222222222,\"#7201a8\"],[0.3333333333333333,\"#9c179e\"],[0.4444444444444444,\"#bd3786\"],[0.5555555555555556,\"#d8576b\"],[0.6666666666666666,\"#ed7953\"],[0.7777777777777778,\"#fb9f3a\"],[0.8888888888888888,\"#fdca26\"],[1.0,\"#f0f921\"]]}],\"heatmapgl\":[{\"type\":\"heatmapgl\",\"colorbar\":{\"outlinewidth\":0,\"ticks\":\"\"},\"colorscale\":[[0.0,\"#0d0887\"],[0.1111111111111111,\"#46039f\"],[0.2222222222222222,\"#7201a8\"],[0.3333333333333333,\"#9c179e\"],[0.4444444444444444,\"#bd3786\"],[0.5555555555555556,\"#d8576b\"],[0.6666666666666666,\"#ed7953\"],[0.7777777777777778,\"#fb9f3a\"],[0.8888888888888888,\"#fdca26\"],[1.0,\"#f0f921\"]]}],\"contourcarpet\":[{\"type\":\"contourcarpet\",\"colorbar\":{\"outlinewidth\":0,\"ticks\":\"\"}}],\"contour\":[{\"type\":\"contour\",\"colorbar\":{\"outlinewidth\":0,\"ticks\":\"\"},\"colorscale\":[[0.0,\"#0d0887\"],[0.1111111111111111,\"#46039f\"],[0.2222222222222222,\"#7201a8\"],[0.3333333333333333,\"#9c179e\"],[0.4444444444444444,\"#bd3786\"],[0.5555555555555556,\"#d8576b\"],[0.6666666666666666,\"#ed7953\"],[0.7777777777777778,\"#fb9f3a\"],[0.8888888888888888,\"#fdca26\"],[1.0,\"#f0f921\"]]}],\"surface\":[{\"type\":\"surface\",\"colorbar\":{\"outlinewidth\":0,\"ticks\":\"\"},\"colorscale\":[[0.0,\"#0d0887\"],[0.1111111111111111,\"#46039f\"],[0.2222222222222222,\"#7201a8\"],[0.3333333333333333,\"#9c179e\"],[0.4444444444444444,\"#bd3786\"],[0.5555555555555556,\"#d8576b\"],[0.6666666666666666,\"#ed7953\"],[0.7777777777777778,\"#fb9f3a\"],[0.8888888888888888,\"#fdca26\"],[1.0,\"#f0f921\"]]}],\"mesh3d\":[{\"type\":\"mesh3d\",\"colorbar\":{\"outlinewidth\":0,\"ticks\":\"\"}}],\"scatter\":[{\"fillpattern\":{\"fillmode\":\"overlay\",\"size\":10,\"solidity\":0.2},\"type\":\"scatter\"}],\"parcoords\":[{\"type\":\"parcoords\",\"line\":{\"colorbar\":{\"outlinewidth\":0,\"ticks\":\"\"}}}],\"scatterpolargl\":[{\"type\":\"scatterpolargl\",\"marker\":{\"colorbar\":{\"outlinewidth\":0,\"ticks\":\"\"}}}],\"bar\":[{\"error_x\":{\"color\":\"#2a3f5f\"},\"error_y\":{\"color\":\"#2a3f5f\"},\"marker\":{\"line\":{\"color\":\"#E5ECF6\",\"width\":0.5},\"pattern\":{\"fillmode\":\"overlay\",\"size\":10,\"solidity\":0.2}},\"type\":\"bar\"}],\"scattergeo\":[{\"type\":\"scattergeo\",\"marker\":{\"colorbar\":{\"outlinewidth\":0,\"ticks\":\"\"}}}],\"scatterpolar\":[{\"type\":\"scatterpolar\",\"marker\":{\"colorbar\":{\"outlinewidth\":0,\"ticks\":\"\"}}}],\"histogram\":[{\"marker\":{\"pattern\":{\"fillmode\":\"overlay\",\"size\":10,\"solidity\":0.2}},\"type\":\"histogram\"}],\"scattergl\":[{\"type\":\"scattergl\",\"marker\":{\"colorbar\":{\"outlinewidth\":0,\"ticks\":\"\"}}}],\"scatter3d\":[{\"type\":\"scatter3d\",\"line\":{\"colorbar\":{\"outlinewidth\":0,\"ticks\":\"\"}},\"marker\":{\"colorbar\":{\"outlinewidth\":0,\"ticks\":\"\"}}}],\"scattermapbox\":[{\"type\":\"scattermapbox\",\"marker\":{\"colorbar\":{\"outlinewidth\":0,\"ticks\":\"\"}}}],\"scatterternary\":[{\"type\":\"scatterternary\",\"marker\":{\"colorbar\":{\"outlinewidth\":0,\"ticks\":\"\"}}}],\"scattercarpet\":[{\"type\":\"scattercarpet\",\"marker\":{\"colorbar\":{\"outlinewidth\":0,\"ticks\":\"\"}}}],\"carpet\":[{\"aaxis\":{\"endlinecolor\":\"#2a3f5f\",\"gridcolor\":\"white\",\"linecolor\":\"white\",\"minorgridcolor\":\"white\",\"startlinecolor\":\"#2a3f5f\"},\"baxis\":{\"endlinecolor\":\"#2a3f5f\",\"gridcolor\":\"white\",\"linecolor\":\"white\",\"minorgridcolor\":\"white\",\"startlinecolor\":\"#2a3f5f\"},\"type\":\"carpet\"}],\"table\":[{\"cells\":{\"fill\":{\"color\":\"#EBF0F8\"},\"line\":{\"color\":\"white\"}},\"header\":{\"fill\":{\"color\":\"#C8D4E3\"},\"line\":{\"color\":\"white\"}},\"type\":\"table\"}],\"barpolar\":[{\"marker\":{\"line\":{\"color\":\"#E5ECF6\",\"width\":0.5},\"pattern\":{\"fillmode\":\"overlay\",\"size\":10,\"solidity\":0.2}},\"type\":\"barpolar\"}],\"pie\":[{\"automargin\":true,\"type\":\"pie\"}]},\"layout\":{\"autotypenumbers\":\"strict\",\"colorway\":[\"#636efa\",\"#EF553B\",\"#00cc96\",\"#ab63fa\",\"#FFA15A\",\"#19d3f3\",\"#FF6692\",\"#B6E880\",\"#FF97FF\",\"#FECB52\"],\"font\":{\"color\":\"#2a3f5f\"},\"hovermode\":\"closest\",\"hoverlabel\":{\"align\":\"left\"},\"paper_bgcolor\":\"white\",\"plot_bgcolor\":\"#E5ECF6\",\"polar\":{\"bgcolor\":\"#E5ECF6\",\"angularaxis\":{\"gridcolor\":\"white\",\"linecolor\":\"white\",\"ticks\":\"\"},\"radialaxis\":{\"gridcolor\":\"white\",\"linecolor\":\"white\",\"ticks\":\"\"}},\"ternary\":{\"bgcolor\":\"#E5ECF6\",\"aaxis\":{\"gridcolor\":\"white\",\"linecolor\":\"white\",\"ticks\":\"\"},\"baxis\":{\"gridcolor\":\"white\",\"linecolor\":\"white\",\"ticks\":\"\"},\"caxis\":{\"gridcolor\":\"white\",\"linecolor\":\"white\",\"ticks\":\"\"}},\"coloraxis\":{\"colorbar\":{\"outlinewidth\":0,\"ticks\":\"\"}},\"colorscale\":{\"sequential\":[[0.0,\"#0d0887\"],[0.1111111111111111,\"#46039f\"],[0.2222222222222222,\"#7201a8\"],[0.3333333333333333,\"#9c179e\"],[0.4444444444444444,\"#bd3786\"],[0.5555555555555556,\"#d8576b\"],[0.6666666666666666,\"#ed7953\"],[0.7777777777777778,\"#fb9f3a\"],[0.8888888888888888,\"#fdca26\"],[1.0,\"#f0f921\"]],\"sequentialminus\":[[0.0,\"#0d0887\"],[0.1111111111111111,\"#46039f\"],[0.2222222222222222,\"#7201a8\"],[0.3333333333333333,\"#9c179e\"],[0.4444444444444444,\"#bd3786\"],[0.5555555555555556,\"#d8576b\"],[0.6666666666666666,\"#ed7953\"],[0.7777777777777778,\"#fb9f3a\"],[0.8888888888888888,\"#fdca26\"],[1.0,\"#f0f921\"]],\"diverging\":[[0,\"#8e0152\"],[0.1,\"#c51b7d\"],[0.2,\"#de77ae\"],[0.3,\"#f1b6da\"],[0.4,\"#fde0ef\"],[0.5,\"#f7f7f7\"],[0.6,\"#e6f5d0\"],[0.7,\"#b8e186\"],[0.8,\"#7fbc41\"],[0.9,\"#4d9221\"],[1,\"#276419\"]]},\"xaxis\":{\"gridcolor\":\"white\",\"linecolor\":\"white\",\"ticks\":\"\",\"title\":{\"standoff\":15},\"zerolinecolor\":\"white\",\"automargin\":true,\"zerolinewidth\":2},\"yaxis\":{\"gridcolor\":\"white\",\"linecolor\":\"white\",\"ticks\":\"\",\"title\":{\"standoff\":15},\"zerolinecolor\":\"white\",\"automargin\":true,\"zerolinewidth\":2},\"scene\":{\"xaxis\":{\"backgroundcolor\":\"#E5ECF6\",\"gridcolor\":\"white\",\"linecolor\":\"white\",\"showbackground\":true,\"ticks\":\"\",\"zerolinecolor\":\"white\",\"gridwidth\":2},\"yaxis\":{\"backgroundcolor\":\"#E5ECF6\",\"gridcolor\":\"white\",\"linecolor\":\"white\",\"showbackground\":true,\"ticks\":\"\",\"zerolinecolor\":\"white\",\"gridwidth\":2},\"zaxis\":{\"backgroundcolor\":\"#E5ECF6\",\"gridcolor\":\"white\",\"linecolor\":\"white\",\"showbackground\":true,\"ticks\":\"\",\"zerolinecolor\":\"white\",\"gridwidth\":2}},\"shapedefaults\":{\"line\":{\"color\":\"#2a3f5f\"}},\"annotationdefaults\":{\"arrowcolor\":\"#2a3f5f\",\"arrowhead\":0,\"arrowwidth\":1},\"geo\":{\"bgcolor\":\"white\",\"landcolor\":\"#E5ECF6\",\"subunitcolor\":\"white\",\"showland\":true,\"showlakes\":true,\"lakecolor\":\"white\"},\"title\":{\"x\":0.05},\"mapbox\":{\"style\":\"light\"}}},\"xaxis\":{\"anchor\":\"y\",\"domain\":[0.0,1.0],\"title\":{\"text\":\"number\"}},\"yaxis\":{\"anchor\":\"x\",\"domain\":[0.0,1.0],\"title\":{\"text\":\"stage\"}},\"legend\":{\"tracegroupgap\":0},\"title\":{\"text\":\"\\u0412\\u043e\\u0440\\u043e\\u043d\\u043a\\u0430 \\u0441\\u043e\\u0431\\u044b\\u0442\\u0438\\u0439 \\u043f\\u043e \\u0447\\u0438\\u0441\\u043b\\u0443 \\u0443\\u043d\\u0438\\u043a\\u0430\\u043b\\u044c\\u043d\\u044b\\u0445 \\u043f\\u043e\\u043b\\u044c\\u0437\\u043e\\u0432\\u0430\\u0442\\u0435\\u043b\\u0435\\u0439\"}},                        {\"responsive\": true}                    ).then(function(){\n",
       "                            \n",
       "var gd = document.getElementById('314783dc-0587-4e9a-b54f-21c8df892561');\n",
       "var x = new MutationObserver(function (mutations, observer) {{\n",
       "        var display = window.getComputedStyle(gd).display;\n",
       "        if (!display || display === 'none') {{\n",
       "            console.log([gd, 'removed!']);\n",
       "            Plotly.purge(gd);\n",
       "            observer.disconnect();\n",
       "        }}\n",
       "}});\n",
       "\n",
       "// Listen for the removal of the full notebook cells\n",
       "var notebookContainer = gd.closest('#notebook-container');\n",
       "if (notebookContainer) {{\n",
       "    x.observe(notebookContainer, {childList: true});\n",
       "}}\n",
       "\n",
       "// Listen for the clearing of the current output cell\n",
       "var outputEl = gd.closest('.output');\n",
       "if (outputEl) {{\n",
       "    x.observe(outputEl, {childList: true});\n",
       "}}\n",
       "\n",
       "                        })                };                });            </script>        </div>"
      ]
     },
     "metadata": {},
     "output_type": "display_data"
    }
   ],
   "source": [
    "funnel_data = dict(\n",
    "    number=list(data[data['event']!='Tutorial'].groupby(['event'])['user_id'].nunique().sort_values(ascending = False)),\n",
    "    stage=[\"MainScreenAppear\", \"OffersScreenAppear\", \"CartScreenAppear\", \"PaymentScreenSuccessful\"])\n",
    "fig = px.funnel(funnel_data, x='number', y='stage', title = 'Воронка событий по числу уникальных пользователей')\n",
    "fig.show()\n"
   ]
  },
  {
   "cell_type": "markdown",
   "metadata": {},
   "source": [
    "## Изучим результаты эксперимента:"
   ]
  },
  {
   "cell_type": "markdown",
   "metadata": {},
   "source": [
    "**Посчитаем количество пользователей в каждой экспериментальной группе:**"
   ]
  },
  {
   "cell_type": "code",
   "execution_count": 32,
   "metadata": {},
   "outputs": [
    {
     "data": {
      "text/plain": [
       "exp_id\n",
       "246    2484\n",
       "247    2513\n",
       "248    2537\n",
       "Name: user_id, dtype: int64"
      ]
     },
     "execution_count": 32,
     "metadata": {},
     "output_type": "execute_result"
    }
   ],
   "source": [
    "data.groupby('exp_id')['user_id'].nunique()"
   ]
  },
  {
   "cell_type": "code",
   "execution_count": 33,
   "metadata": {},
   "outputs": [
    {
     "data": {
      "text/plain": [
       "7534"
      ]
     },
     "execution_count": 33,
     "metadata": {},
     "output_type": "execute_result"
    }
   ],
   "source": [
    "data.groupby('exp_id')['user_id'].nunique().sum()"
   ]
  },
  {
   "cell_type": "markdown",
   "metadata": {},
   "source": [
    "**Теперь посмотрим, не входят ли пользователи одновлеменно в несколько групп:**"
   ]
  },
  {
   "cell_type": "code",
   "execution_count": 34,
   "metadata": {},
   "outputs": [
    {
     "name": "stdout",
     "output_type": "stream",
     "text": [
      "0\n"
     ]
    }
   ],
   "source": [
    "several_groups = data.groupby('user_id').agg({'exp_id' : 'nunique'}).query('exp_id>1')\n",
    "print (len(several_groups))"
   ]
  },
  {
   "cell_type": "markdown",
   "metadata": {},
   "source": [
    "**Проверим, находят ли статистические критерии разницу между выборками 246 и 247, будем использовать z-тест:**"
   ]
  },
  {
   "cell_type": "markdown",
   "metadata": {},
   "source": [
    "**Сформулируем гипотезы. Нулевая гипотеза: различий в количестве уникальных пользователей в каждом событии между группами нет. Альтернативная гипотеза : различия в количестве уникальных пользователей в каждом событии между группами есть.**"
   ]
  },
  {
   "cell_type": "markdown",
   "metadata": {},
   "source": [
    "**Посчитаем долю пользователей, совершивших разные события. Проверим, будет ли отличие между группами статистически достоверным:**"
   ]
  },
  {
   "cell_type": "code",
   "execution_count": 35,
   "metadata": {},
   "outputs": [],
   "source": [
    "def zedtest(data, exp1, exp2, event_name): #создаем функцию, к которой будем обращаться для расчета z-критерия\n",
    "        \n",
    "        alpha = 0.05\n",
    "        successes = np.array([len(data.loc[(data['exp_id'] == exp1)&(data['event'] == event_name)]['user_id'].unique()), len(data.loc[(data['exp_id'] == exp2)&(data['event'] == event_name)]['user_id'].unique())])\n",
    "        trials = np.array([len(data.loc[data['exp_id'] == exp1]['user_id'].unique()), len(data.loc[data['exp_id'] == exp2]['user_id'].unique())])\n",
    "        \n",
    "        # пропорция успехов в первой группе:\n",
    "        p1 = successes[0]/trials[0]\n",
    "        \n",
    "        # пропорция успехов во второй группе:\n",
    "        p2 = successes[1]/trials[1]\n",
    "\n",
    "        # пропорция успехов в комбинированном датасете:\n",
    "        p_combined = (successes[0] + successes[1]) / (trials[0] + trials[1])\n",
    "\n",
    "        # разница пропорций в датасетах\n",
    "        difference = p1 - p2 \n",
    "\n",
    "       # считаем статистику в ст.отклонениях стандартного нормального распределения\n",
    "        z_value = difference / mth.sqrt(p_combined * (1 - p_combined) * (1/trials[0] + 1/trials[1]))\n",
    "\n",
    "        # задаем стандартное нормальное распределение (среднее 0, ст.отклонение 1)\n",
    "        distr = st.norm(0, 1)  \n",
    "        p_value = (1 - distr.cdf(abs(z_value))) * 2\n",
    "        print('Доля пользователей, совершивших это событие в первой группе:',p1)\n",
    "        print('Доля пользователей, совершивших это событие во второй группе:',p2)  \n",
    "        print('p-значение: ', p_value)\n",
    "\n",
    "        if p_value < alpha:\n",
    "            print('Отвергаем нулевую гипотезу: между долями есть значимая разница')\n",
    "        else:\n",
    "            print(\n",
    "                'Не получилось отвергнуть нулевую гипотезу, нет оснований считать доли разными'\n",
    "            ) "
   ]
  },
  {
   "cell_type": "code",
   "execution_count": 36,
   "metadata": {},
   "outputs": [
    {
     "name": "stdout",
     "output_type": "stream",
     "text": [
      "Доля пользователей, совершивших это событие в первой группе: 0.9863123993558777\n",
      "Доля пользователей, совершивших это событие во второй группе: 0.9852765618782332\n",
      "p-значение:  0.7570597232046099\n",
      "Не получилось отвергнуть нулевую гипотезу, нет оснований считать доли разными\n"
     ]
    }
   ],
   "source": [
    "zedtest(data,246,247,'MainScreenAppear') "
   ]
  },
  {
   "cell_type": "code",
   "execution_count": 37,
   "metadata": {},
   "outputs": [
    {
     "name": "stdout",
     "output_type": "stream",
     "text": [
      "Доля пользователей, совершивших это событие в первой группе: 0.6207729468599034\n",
      "Доля пользователей, совершивших это событие во второй группе: 0.6048547552725826\n",
      "p-значение:  0.2480954578522181\n",
      "Не получилось отвергнуть нулевую гипотезу, нет оснований считать доли разными\n"
     ]
    }
   ],
   "source": [
    "zedtest(data,246,247,'OffersScreenAppear')"
   ]
  },
  {
   "cell_type": "code",
   "execution_count": 38,
   "metadata": {},
   "outputs": [
    {
     "name": "stdout",
     "output_type": "stream",
     "text": [
      "Доля пользователей, совершивших это событие в первой группе: 0.5096618357487923\n",
      "Доля пользователей, совершивших это событие во второй группе: 0.4926382809391166\n",
      "p-значение:  0.22883372237997213\n",
      "Не получилось отвергнуть нулевую гипотезу, нет оснований считать доли разными\n"
     ]
    }
   ],
   "source": [
    "zedtest(data,246,247,'CartScreenAppear')"
   ]
  },
  {
   "cell_type": "code",
   "execution_count": 39,
   "metadata": {},
   "outputs": [
    {
     "name": "stdout",
     "output_type": "stream",
     "text": [
      "Доля пользователей, совершивших это событие в первой группе: 0.4830917874396135\n",
      "Доля пользователей, совершивших это событие во второй группе: 0.46080382013529647\n",
      "p-значение:  0.11456679313141849\n",
      "Не получилось отвергнуть нулевую гипотезу, нет оснований считать доли разными\n"
     ]
    }
   ],
   "source": [
    "zedtest(data,246,247,'PaymentScreenSuccessful')"
   ]
  },
  {
   "cell_type": "markdown",
   "metadata": {},
   "source": [
    "**Вывод:  статистически значимых отличий между выборками 246 и 247 нет**"
   ]
  },
  {
   "cell_type": "markdown",
   "metadata": {},
   "source": [
    "**Сравним группу с изменённым шрифтом (248) с контрольной группой 246:**"
   ]
  },
  {
   "cell_type": "code",
   "execution_count": 40,
   "metadata": {},
   "outputs": [
    {
     "name": "stdout",
     "output_type": "stream",
     "text": [
      "Доля пользователей, совершивших это событие в первой группе: 0.9863123993558777\n",
      "Доля пользователей, совершивших это событие во второй группе: 0.9826566811194324\n",
      "p-значение:  0.2949721933554552\n",
      "Не получилось отвергнуть нулевую гипотезу, нет оснований считать доли разными\n"
     ]
    }
   ],
   "source": [
    "zedtest(data,246,248,'MainScreenAppear') "
   ]
  },
  {
   "cell_type": "code",
   "execution_count": 41,
   "metadata": {},
   "outputs": [
    {
     "name": "stdout",
     "output_type": "stream",
     "text": [
      "Доля пользователей, совершивших это событие в первой группе: 0.6207729468599034\n",
      "Доля пользователей, совершивших это событие во второй группе: 0.6034686637761135\n",
      "p-значение:  0.20836205402738917\n",
      "Не получилось отвергнуть нулевую гипотезу, нет оснований считать доли разными\n"
     ]
    }
   ],
   "source": [
    "zedtest(data,246,248,'OffersScreenAppear')"
   ]
  },
  {
   "cell_type": "code",
   "execution_count": 42,
   "metadata": {},
   "outputs": [
    {
     "name": "stdout",
     "output_type": "stream",
     "text": [
      "Доля пользователей, совершивших это событие в первой группе: 0.5096618357487923\n",
      "Доля пользователей, совершивших это событие во второй группе: 0.48482459597950334\n",
      "p-значение:  0.07842923237520116\n",
      "Не получилось отвергнуть нулевую гипотезу, нет оснований считать доли разными\n"
     ]
    }
   ],
   "source": [
    "zedtest(data,246,248,'CartScreenAppear')"
   ]
  },
  {
   "cell_type": "code",
   "execution_count": 43,
   "metadata": {},
   "outputs": [
    {
     "name": "stdout",
     "output_type": "stream",
     "text": [
      "Доля пользователей, совершивших это событие в первой группе: 0.4830917874396135\n",
      "Доля пользователей, совершивших это событие во второй группе: 0.46551044540796216\n",
      "p-значение:  0.2122553275697796\n",
      "Не получилось отвергнуть нулевую гипотезу, нет оснований считать доли разными\n"
     ]
    }
   ],
   "source": [
    "zedtest(data,246,248,'PaymentScreenSuccessful')"
   ]
  },
  {
   "cell_type": "markdown",
   "metadata": {},
   "source": [
    "**Вывод:  статистически значимых отличий между выборками 246 и 248 нет**"
   ]
  },
  {
   "cell_type": "markdown",
   "metadata": {},
   "source": [
    "**Сравним группу с изменённым шрифтом (248) с контрольной группой 247:**"
   ]
  },
  {
   "cell_type": "code",
   "execution_count": 44,
   "metadata": {
    "scrolled": true
   },
   "outputs": [
    {
     "name": "stdout",
     "output_type": "stream",
     "text": [
      "Доля пользователей, совершивших это событие в первой группе: 0.9852765618782332\n",
      "Доля пользователей, совершивших это событие во второй группе: 0.9826566811194324\n",
      "p-значение:  0.4587053616621515\n",
      "Не получилось отвергнуть нулевую гипотезу, нет оснований считать доли разными\n"
     ]
    }
   ],
   "source": [
    "zedtest(data,247,248,'MainScreenAppear') "
   ]
  },
  {
   "cell_type": "code",
   "execution_count": 45,
   "metadata": {},
   "outputs": [
    {
     "name": "stdout",
     "output_type": "stream",
     "text": [
      "Доля пользователей, совершивших это событие в первой группе: 0.6048547552725826\n",
      "Доля пользователей, совершивших это событие во второй группе: 0.6034686637761135\n",
      "p-значение:  0.9197817830592261\n",
      "Не получилось отвергнуть нулевую гипотезу, нет оснований считать доли разными\n"
     ]
    }
   ],
   "source": [
    "zedtest(data,247,248,'OffersScreenAppear')"
   ]
  },
  {
   "cell_type": "code",
   "execution_count": 46,
   "metadata": {},
   "outputs": [
    {
     "name": "stdout",
     "output_type": "stream",
     "text": [
      "Доля пользователей, совершивших это событие в первой группе: 0.4926382809391166\n",
      "Доля пользователей, совершивших это событие во второй группе: 0.48482459597950334\n",
      "p-значение:  0.5786197879539783\n",
      "Не получилось отвергнуть нулевую гипотезу, нет оснований считать доли разными\n"
     ]
    }
   ],
   "source": [
    "zedtest(data,247,248,'CartScreenAppear')"
   ]
  },
  {
   "cell_type": "code",
   "execution_count": 47,
   "metadata": {},
   "outputs": [
    {
     "name": "stdout",
     "output_type": "stream",
     "text": [
      "Доля пользователей, совершивших это событие в первой группе: 0.46080382013529647\n",
      "Доля пользователей, совершивших это событие во второй группе: 0.46551044540796216\n",
      "p-значение:  0.7373415053803964\n",
      "Не получилось отвергнуть нулевую гипотезу, нет оснований считать доли разными\n"
     ]
    }
   ],
   "source": [
    "zedtest(data,247,248,'PaymentScreenSuccessful')"
   ]
  },
  {
   "cell_type": "markdown",
   "metadata": {},
   "source": [
    "**Сравним группу с изменённым шрифтом (248) с объединенной контрольной группой:**"
   ]
  },
  {
   "cell_type": "code",
   "execution_count": 48,
   "metadata": {},
   "outputs": [],
   "source": [
    "data_merged = data\n",
    "data_merged.loc[data_merged['exp_id']==246, 'exp_id'] = 247 "
   ]
  },
  {
   "cell_type": "code",
   "execution_count": 49,
   "metadata": {
    "scrolled": false
   },
   "outputs": [
    {
     "name": "stdout",
     "output_type": "stream",
     "text": [
      "Доля пользователей, совершивших это событие в первой группе: 0.9857914748849309\n",
      "Доля пользователей, совершивших это событие во второй группе: 0.9826566811194324\n",
      "p-значение:  0.29424526837179577\n",
      "Не получилось отвергнуть нулевую гипотезу, нет оснований считать доли разными\n"
     ]
    }
   ],
   "source": [
    "zedtest(data_merged,247,248,'MainScreenAppear') "
   ]
  },
  {
   "cell_type": "code",
   "execution_count": 50,
   "metadata": {},
   "outputs": [
    {
     "name": "stdout",
     "output_type": "stream",
     "text": [
      "Доля пользователей, совершивших это событие в первой группе: 0.6127676605963578\n",
      "Доля пользователей, совершивших это событие во второй группе: 0.6034686637761135\n",
      "p-значение:  0.43425549655188256\n",
      "Не получилось отвергнуть нулевую гипотезу, нет оснований считать доли разными\n"
     ]
    }
   ],
   "source": [
    "zedtest(data_merged,247,248,'OffersScreenAppear')"
   ]
  },
  {
   "cell_type": "code",
   "execution_count": 51,
   "metadata": {
    "scrolled": true
   },
   "outputs": [
    {
     "name": "stdout",
     "output_type": "stream",
     "text": [
      "Доля пользователей, совершивших это событие в первой группе: 0.5011006603962378\n",
      "Доля пользователей, совершивших это событие во второй группе: 0.48482459597950334\n",
      "p-значение:  0.18175875284404386\n",
      "Не получилось отвергнуть нулевую гипотезу, нет оснований считать доли разными\n"
     ]
    }
   ],
   "source": [
    "zedtest(data_merged,247,248,'CartScreenAppear')"
   ]
  },
  {
   "cell_type": "code",
   "execution_count": 52,
   "metadata": {},
   "outputs": [
    {
     "name": "stdout",
     "output_type": "stream",
     "text": [
      "Доля пользователей, совершивших это событие в первой группе: 0.47188312987792674\n",
      "Доля пользователей, совершивших это событие во второй группе: 0.46551044540796216\n",
      "p-значение:  0.6004294282308704\n",
      "Не получилось отвергнуть нулевую гипотезу, нет оснований считать доли разными\n"
     ]
    }
   ],
   "source": [
    "zedtest(data_merged,247,248,'PaymentScreenSuccessful')"
   ]
  },
  {
   "cell_type": "markdown",
   "metadata": {},
   "source": [
    "**При проверке статистических гипотез был выбран уровень значимости  alpha = 0.05. При таком уровне значимости каждый 20ый раз можно получать ложный результат. Всего сделано 16 проверок статистических гипотез.**"
   ]
  },
  {
   "cell_type": "markdown",
   "metadata": {},
   "source": [
    "**В текущей задаче можно было бы использовать поправку Холма или Шидака, которые по-разному, но снижают уровень статистической значимости alpha в зависимости от количества проверяемых гипотез. В нашем случае эти поправки только усилили бы выводы, так как p-значение во всех случаях получилось больше alpha. Поправку Бонферрони при таком количестве гипотез лучше не применять, так как сильно увеличится вероятность ошибки второго рода.**"
   ]
  },
  {
   "cell_type": "markdown",
   "metadata": {},
   "source": [
    "## Вывод: <br> <br>Cтатистически значимых отличий между группой с измененным шрифтом и объединенной контрольной группой нет."
   ]
  }
 ],
 "metadata": {
  "ExecuteTimeLog": [
   {
    "duration": 4,
    "start_time": "2023-05-09T09:01:44.927Z"
   },
   {
    "duration": 48,
    "start_time": "2023-05-09T09:05:27.749Z"
   },
   {
    "duration": 1265,
    "start_time": "2023-05-09T09:05:35.233Z"
   },
   {
    "duration": 646,
    "start_time": "2023-05-09T09:05:36.500Z"
   },
   {
    "duration": 353,
    "start_time": "2023-05-09T09:08:08.081Z"
   },
   {
    "duration": 41,
    "start_time": "2023-05-10T10:28:28.917Z"
   },
   {
    "duration": 1093,
    "start_time": "2023-05-10T10:28:35.149Z"
   },
   {
    "duration": 840,
    "start_time": "2023-05-10T10:28:36.243Z"
   },
   {
    "duration": 3,
    "start_time": "2023-05-10T10:28:37.085Z"
   },
   {
    "duration": 21,
    "start_time": "2023-05-10T10:28:37.089Z"
   },
   {
    "duration": 3,
    "start_time": "2023-05-10T10:29:49.371Z"
   },
   {
    "duration": 281,
    "start_time": "2023-05-10T10:29:53.660Z"
   },
   {
    "duration": 3,
    "start_time": "2023-05-10T10:29:57.477Z"
   },
   {
    "duration": 17,
    "start_time": "2023-05-10T10:30:00.413Z"
   },
   {
    "duration": 8,
    "start_time": "2023-05-10T10:30:32.521Z"
   },
   {
    "duration": 22,
    "start_time": "2023-05-10T10:30:34.030Z"
   },
   {
    "duration": 7,
    "start_time": "2023-05-10T10:31:00.999Z"
   },
   {
    "duration": 51,
    "start_time": "2023-05-10T10:31:59.518Z"
   },
   {
    "duration": 2,
    "start_time": "2023-05-10T10:32:02.096Z"
   },
   {
    "duration": 58,
    "start_time": "2023-05-10T10:32:02.619Z"
   },
   {
    "duration": 58,
    "start_time": "2023-05-10T10:35:25.991Z"
   },
   {
    "duration": 3,
    "start_time": "2023-05-10T10:36:06.129Z"
   },
   {
    "duration": 64,
    "start_time": "2023-05-10T10:36:06.656Z"
   },
   {
    "duration": 49,
    "start_time": "2023-05-10T10:36:31.335Z"
   },
   {
    "duration": 67,
    "start_time": "2023-05-10T10:39:03.683Z"
   },
   {
    "duration": 58,
    "start_time": "2023-05-10T10:39:36.451Z"
   },
   {
    "duration": 47,
    "start_time": "2023-05-10T10:40:09.114Z"
   },
   {
    "duration": 350,
    "start_time": "2023-05-10T10:41:31.699Z"
   },
   {
    "duration": 309,
    "start_time": "2023-05-10T10:41:45.671Z"
   },
   {
    "duration": 51,
    "start_time": "2023-05-10T10:42:21.212Z"
   },
   {
    "duration": 57,
    "start_time": "2023-05-10T10:43:45.621Z"
   },
   {
    "duration": 54,
    "start_time": "2023-05-10T10:44:22.062Z"
   },
   {
    "duration": 336,
    "start_time": "2023-05-10T10:45:02.338Z"
   },
   {
    "duration": 330,
    "start_time": "2023-05-10T10:45:21.671Z"
   },
   {
    "duration": 47,
    "start_time": "2023-05-10T10:46:00.579Z"
   },
   {
    "duration": 43,
    "start_time": "2023-05-10T10:49:08.520Z"
   },
   {
    "duration": 342,
    "start_time": "2023-05-10T10:53:52.320Z"
   },
   {
    "duration": 181,
    "start_time": "2023-05-10T10:54:15.118Z"
   },
   {
    "duration": 165,
    "start_time": "2023-05-10T10:55:23.159Z"
   },
   {
    "duration": 176,
    "start_time": "2023-05-10T10:55:29.821Z"
   },
   {
    "duration": 266,
    "start_time": "2023-05-10T10:55:44.432Z"
   },
   {
    "duration": 184,
    "start_time": "2023-05-10T10:57:53.721Z"
   },
   {
    "duration": 7,
    "start_time": "2023-05-10T10:58:01.754Z"
   },
   {
    "duration": 6,
    "start_time": "2023-05-10T10:58:04.000Z"
   },
   {
    "duration": 19,
    "start_time": "2023-05-10T10:58:16.535Z"
   },
   {
    "duration": 32,
    "start_time": "2023-05-10T11:04:07.883Z"
   },
   {
    "duration": 8,
    "start_time": "2023-05-10T11:04:14.316Z"
   },
   {
    "duration": 14,
    "start_time": "2023-05-10T11:10:29.387Z"
   },
   {
    "duration": 7,
    "start_time": "2023-05-10T11:10:35.910Z"
   },
   {
    "duration": 9,
    "start_time": "2023-05-10T11:10:58.423Z"
   },
   {
    "duration": 7,
    "start_time": "2023-05-10T11:11:03.619Z"
   },
   {
    "duration": 10,
    "start_time": "2023-05-10T11:12:25.227Z"
   },
   {
    "duration": 66,
    "start_time": "2023-05-10T11:15:13.107Z"
   },
   {
    "duration": 45,
    "start_time": "2023-05-10T11:17:22.030Z"
   },
   {
    "duration": 7,
    "start_time": "2023-05-10T11:17:23.867Z"
   },
   {
    "duration": 10,
    "start_time": "2023-05-10T11:17:48.456Z"
   },
   {
    "duration": 7,
    "start_time": "2023-05-10T11:17:51.346Z"
   },
   {
    "duration": 3,
    "start_time": "2023-05-10T11:18:28.061Z"
   },
   {
    "duration": 186,
    "start_time": "2023-05-10T11:18:28.644Z"
   },
   {
    "duration": 7,
    "start_time": "2023-05-10T11:18:31.136Z"
   },
   {
    "duration": 16,
    "start_time": "2023-05-10T11:18:32.317Z"
   },
   {
    "duration": 7,
    "start_time": "2023-05-10T11:18:33.214Z"
   },
   {
    "duration": 7,
    "start_time": "2023-05-10T11:18:34.967Z"
   },
   {
    "duration": 17,
    "start_time": "2023-05-10T11:19:23.666Z"
   },
   {
    "duration": 10,
    "start_time": "2023-05-10T11:20:03.022Z"
   },
   {
    "duration": 22,
    "start_time": "2023-05-10T11:20:04.086Z"
   },
   {
    "duration": 7,
    "start_time": "2023-05-10T11:30:58.832Z"
   },
   {
    "duration": 3,
    "start_time": "2023-05-10T11:32:33.326Z"
   },
   {
    "duration": 9,
    "start_time": "2023-05-10T11:32:50.117Z"
   },
   {
    "duration": 10,
    "start_time": "2023-05-10T11:33:06.283Z"
   },
   {
    "duration": 8,
    "start_time": "2023-05-10T11:33:10.031Z"
   },
   {
    "duration": 87,
    "start_time": "2023-05-10T11:37:34.172Z"
   },
   {
    "duration": 9,
    "start_time": "2023-05-10T11:37:38.895Z"
   },
   {
    "duration": 76,
    "start_time": "2023-05-10T11:38:14.412Z"
   },
   {
    "duration": 83,
    "start_time": "2023-05-10T11:39:38.525Z"
   },
   {
    "duration": 19,
    "start_time": "2023-05-10T11:42:17.274Z"
   },
   {
    "duration": 20,
    "start_time": "2023-05-10T11:42:27.011Z"
   },
   {
    "duration": 24,
    "start_time": "2023-05-10T11:42:35.652Z"
   },
   {
    "duration": 25,
    "start_time": "2023-05-10T11:42:49.444Z"
   },
   {
    "duration": 73,
    "start_time": "2023-05-10T11:43:43.116Z"
   },
   {
    "duration": 16,
    "start_time": "2023-05-10T11:46:00.989Z"
   },
   {
    "duration": 10,
    "start_time": "2023-05-10T11:46:07.938Z"
   },
   {
    "duration": 77,
    "start_time": "2023-05-10T11:46:19.037Z"
   },
   {
    "duration": 72,
    "start_time": "2023-05-10T11:47:05.489Z"
   },
   {
    "duration": 100,
    "start_time": "2023-05-10T11:48:02.388Z"
   },
   {
    "duration": 8,
    "start_time": "2023-05-10T11:48:39.752Z"
   },
   {
    "duration": 91,
    "start_time": "2023-05-10T11:48:55.538Z"
   },
   {
    "duration": 106,
    "start_time": "2023-05-10T11:49:41.948Z"
   },
   {
    "duration": 94,
    "start_time": "2023-05-10T11:49:58.787Z"
   },
   {
    "duration": 4,
    "start_time": "2023-05-10T11:50:30.939Z"
   },
   {
    "duration": 220,
    "start_time": "2023-05-10T11:50:30.945Z"
   },
   {
    "duration": 5,
    "start_time": "2023-05-10T11:50:31.167Z"
   },
   {
    "duration": 49,
    "start_time": "2023-05-10T11:50:31.173Z"
   },
   {
    "duration": 32,
    "start_time": "2023-05-10T11:50:31.224Z"
   },
   {
    "duration": 87,
    "start_time": "2023-05-10T11:50:31.257Z"
   },
   {
    "duration": 87,
    "start_time": "2023-05-10T11:50:31.346Z"
   },
   {
    "duration": 110,
    "start_time": "2023-05-10T11:50:31.435Z"
   },
   {
    "duration": 4,
    "start_time": "2023-05-10T11:55:36.527Z"
   },
   {
    "duration": 130,
    "start_time": "2023-05-10T11:56:16.587Z"
   },
   {
    "duration": 72,
    "start_time": "2023-05-10T11:56:28.515Z"
   },
   {
    "duration": 8,
    "start_time": "2023-05-10T11:57:37.947Z"
   },
   {
    "duration": 47,
    "start_time": "2023-05-10T11:59:14.610Z"
   },
   {
    "duration": 41,
    "start_time": "2023-05-10T11:59:21.326Z"
   },
   {
    "duration": 65,
    "start_time": "2023-05-10T11:59:31.391Z"
   },
   {
    "duration": 14,
    "start_time": "2023-05-10T12:00:58.552Z"
   },
   {
    "duration": 18,
    "start_time": "2023-05-10T12:01:12.536Z"
   },
   {
    "duration": 16,
    "start_time": "2023-05-10T12:01:38.913Z"
   },
   {
    "duration": 10,
    "start_time": "2023-05-10T12:04:11.743Z"
   },
   {
    "duration": 3,
    "start_time": "2023-05-10T12:04:24.417Z"
   },
   {
    "duration": 172,
    "start_time": "2023-05-10T12:04:24.422Z"
   },
   {
    "duration": 8,
    "start_time": "2023-05-10T12:04:24.607Z"
   },
   {
    "duration": 27,
    "start_time": "2023-05-10T12:04:24.616Z"
   },
   {
    "duration": 7,
    "start_time": "2023-05-10T12:04:24.645Z"
   },
   {
    "duration": 67,
    "start_time": "2023-05-10T12:04:24.653Z"
   },
   {
    "duration": 89,
    "start_time": "2023-05-10T12:04:24.722Z"
   },
   {
    "duration": 8,
    "start_time": "2023-05-10T12:04:24.812Z"
   },
   {
    "duration": 12,
    "start_time": "2023-05-10T12:04:24.821Z"
   },
   {
    "duration": 16,
    "start_time": "2023-05-10T12:04:24.835Z"
   },
   {
    "duration": 8,
    "start_time": "2023-05-10T12:04:24.852Z"
   },
   {
    "duration": 33,
    "start_time": "2023-05-10T12:04:39.174Z"
   },
   {
    "duration": 9,
    "start_time": "2023-05-10T12:05:13.671Z"
   },
   {
    "duration": 24,
    "start_time": "2023-05-10T12:05:28.408Z"
   },
   {
    "duration": 271,
    "start_time": "2023-05-10T12:06:21.440Z"
   },
   {
    "duration": 219,
    "start_time": "2023-05-10T12:10:42.321Z"
   },
   {
    "duration": 170,
    "start_time": "2023-05-10T12:11:08.414Z"
   },
   {
    "duration": 248,
    "start_time": "2023-05-10T12:11:24.489Z"
   },
   {
    "duration": 206,
    "start_time": "2023-05-10T12:12:00.231Z"
   },
   {
    "duration": 56,
    "start_time": "2023-05-10T12:13:17.033Z"
   },
   {
    "duration": 39,
    "start_time": "2023-05-10T12:20:09.719Z"
   },
   {
    "duration": 27,
    "start_time": "2023-05-10T12:20:51.636Z"
   },
   {
    "duration": 239,
    "start_time": "2023-05-10T12:26:38.483Z"
   },
   {
    "duration": 44,
    "start_time": "2023-05-10T12:27:33.841Z"
   },
   {
    "duration": 47,
    "start_time": "2023-05-10T12:27:42.692Z"
   },
   {
    "duration": 38,
    "start_time": "2023-05-10T12:27:58.892Z"
   },
   {
    "duration": 25,
    "start_time": "2023-05-10T12:28:09.408Z"
   },
   {
    "duration": 6,
    "start_time": "2023-05-10T12:28:20.760Z"
   },
   {
    "duration": 5,
    "start_time": "2023-05-10T12:32:57.312Z"
   },
   {
    "duration": 8,
    "start_time": "2023-05-10T12:33:22.207Z"
   },
   {
    "duration": 4,
    "start_time": "2023-05-10T12:36:49.055Z"
   },
   {
    "duration": 12,
    "start_time": "2023-05-10T12:37:01.193Z"
   },
   {
    "duration": 8,
    "start_time": "2023-05-10T12:37:40.234Z"
   },
   {
    "duration": 4,
    "start_time": "2023-05-10T12:37:48.658Z"
   },
   {
    "duration": 204,
    "start_time": "2023-05-10T12:37:48.664Z"
   },
   {
    "duration": 5,
    "start_time": "2023-05-10T12:37:48.869Z"
   },
   {
    "duration": 37,
    "start_time": "2023-05-10T12:37:48.875Z"
   },
   {
    "duration": 7,
    "start_time": "2023-05-10T12:37:48.915Z"
   },
   {
    "duration": 102,
    "start_time": "2023-05-10T12:37:48.924Z"
   },
   {
    "duration": 81,
    "start_time": "2023-05-10T12:37:49.027Z"
   },
   {
    "duration": 7,
    "start_time": "2023-05-10T12:37:49.111Z"
   },
   {
    "duration": 48,
    "start_time": "2023-05-10T12:37:49.119Z"
   },
   {
    "duration": 37,
    "start_time": "2023-05-10T12:37:49.168Z"
   },
   {
    "duration": 45,
    "start_time": "2023-05-10T12:37:49.208Z"
   },
   {
    "duration": 255,
    "start_time": "2023-05-10T12:37:49.255Z"
   },
   {
    "duration": 25,
    "start_time": "2023-05-10T12:37:49.512Z"
   },
   {
    "duration": 9,
    "start_time": "2023-05-10T12:37:49.540Z"
   },
   {
    "duration": 8,
    "start_time": "2023-05-10T12:38:12.248Z"
   },
   {
    "duration": 4,
    "start_time": "2023-05-10T12:39:11.773Z"
   },
   {
    "duration": 182,
    "start_time": "2023-05-10T12:39:11.779Z"
   },
   {
    "duration": 5,
    "start_time": "2023-05-10T12:39:11.963Z"
   },
   {
    "duration": 37,
    "start_time": "2023-05-10T12:39:11.969Z"
   },
   {
    "duration": 7,
    "start_time": "2023-05-10T12:39:12.008Z"
   },
   {
    "duration": 60,
    "start_time": "2023-05-10T12:39:12.017Z"
   },
   {
    "duration": 94,
    "start_time": "2023-05-10T12:39:12.078Z"
   },
   {
    "duration": 4,
    "start_time": "2023-05-10T12:39:12.174Z"
   },
   {
    "duration": 17,
    "start_time": "2023-05-10T12:39:12.195Z"
   },
   {
    "duration": 17,
    "start_time": "2023-05-10T12:39:12.214Z"
   },
   {
    "duration": 28,
    "start_time": "2023-05-10T12:39:12.233Z"
   },
   {
    "duration": 243,
    "start_time": "2023-05-10T12:39:12.263Z"
   },
   {
    "duration": 24,
    "start_time": "2023-05-10T12:39:12.508Z"
   },
   {
    "duration": 3,
    "start_time": "2023-05-10T12:39:12.536Z"
   },
   {
    "duration": 1024,
    "start_time": "2023-05-10T12:39:46.758Z"
   },
   {
    "duration": 4,
    "start_time": "2023-05-10T12:39:54.648Z"
   },
   {
    "duration": 5,
    "start_time": "2023-05-10T12:40:16.283Z"
   },
   {
    "duration": 7,
    "start_time": "2023-05-10T12:40:58.114Z"
   },
   {
    "duration": 5,
    "start_time": "2023-05-10T12:41:13.919Z"
   },
   {
    "duration": 5,
    "start_time": "2023-05-10T12:41:26.088Z"
   },
   {
    "duration": 4,
    "start_time": "2023-05-10T12:41:36.556Z"
   },
   {
    "duration": 7,
    "start_time": "2023-05-10T12:42:04.147Z"
   },
   {
    "duration": 5,
    "start_time": "2023-05-10T12:44:46.542Z"
   },
   {
    "duration": 3,
    "start_time": "2023-05-10T12:44:55.585Z"
   },
   {
    "duration": 4,
    "start_time": "2023-05-10T12:45:18.138Z"
   },
   {
    "duration": 187,
    "start_time": "2023-05-10T12:45:18.144Z"
   },
   {
    "duration": 5,
    "start_time": "2023-05-10T12:45:18.333Z"
   },
   {
    "duration": 33,
    "start_time": "2023-05-10T12:45:18.340Z"
   },
   {
    "duration": 39,
    "start_time": "2023-05-10T12:45:18.376Z"
   },
   {
    "duration": 67,
    "start_time": "2023-05-10T12:45:18.417Z"
   },
   {
    "duration": 73,
    "start_time": "2023-05-10T12:45:18.486Z"
   },
   {
    "duration": 4,
    "start_time": "2023-05-10T12:45:18.560Z"
   },
   {
    "duration": 16,
    "start_time": "2023-05-10T12:45:18.565Z"
   },
   {
    "duration": 33,
    "start_time": "2023-05-10T12:45:18.582Z"
   },
   {
    "duration": 22,
    "start_time": "2023-05-10T12:45:18.617Z"
   },
   {
    "duration": 213,
    "start_time": "2023-05-10T12:45:18.641Z"
   },
   {
    "duration": 4,
    "start_time": "2023-05-10T12:45:18.856Z"
   },
   {
    "duration": 226,
    "start_time": "2023-05-10T12:46:12.419Z"
   },
   {
    "duration": 9,
    "start_time": "2023-05-10T12:46:32.489Z"
   },
   {
    "duration": 4,
    "start_time": "2023-05-10T12:46:58.544Z"
   },
   {
    "duration": 4,
    "start_time": "2023-05-10T12:47:06.980Z"
   },
   {
    "duration": 188,
    "start_time": "2023-05-10T12:47:06.986Z"
   },
   {
    "duration": 7,
    "start_time": "2023-05-10T12:47:07.176Z"
   },
   {
    "duration": 34,
    "start_time": "2023-05-10T12:47:07.185Z"
   },
   {
    "duration": 8,
    "start_time": "2023-05-10T12:47:07.221Z"
   },
   {
    "duration": 78,
    "start_time": "2023-05-10T12:47:07.231Z"
   },
   {
    "duration": 65,
    "start_time": "2023-05-10T12:47:07.310Z"
   },
   {
    "duration": 32,
    "start_time": "2023-05-10T12:47:07.377Z"
   },
   {
    "duration": 21,
    "start_time": "2023-05-10T12:47:07.411Z"
   },
   {
    "duration": 17,
    "start_time": "2023-05-10T12:47:07.433Z"
   },
   {
    "duration": 22,
    "start_time": "2023-05-10T12:47:07.451Z"
   },
   {
    "duration": 199,
    "start_time": "2023-05-10T12:47:07.474Z"
   },
   {
    "duration": 38,
    "start_time": "2023-05-10T12:47:07.675Z"
   },
   {
    "duration": 25,
    "start_time": "2023-05-10T12:47:24.983Z"
   },
   {
    "duration": 21,
    "start_time": "2023-05-10T12:47:51.413Z"
   },
   {
    "duration": 183,
    "start_time": "2023-05-10T12:48:09.011Z"
   },
   {
    "duration": 243,
    "start_time": "2023-05-10T12:48:24.060Z"
   },
   {
    "duration": 236,
    "start_time": "2023-05-10T12:50:03.119Z"
   },
   {
    "duration": 55,
    "start_time": "2023-05-10T12:51:21.415Z"
   },
   {
    "duration": 43,
    "start_time": "2023-05-10T12:51:32.058Z"
   },
   {
    "duration": 9,
    "start_time": "2023-05-10T12:53:47.295Z"
   },
   {
    "duration": 5,
    "start_time": "2023-05-10T12:55:06.925Z"
   },
   {
    "duration": 197,
    "start_time": "2023-05-10T12:55:06.932Z"
   },
   {
    "duration": 5,
    "start_time": "2023-05-10T12:55:07.131Z"
   },
   {
    "duration": 42,
    "start_time": "2023-05-10T12:55:07.138Z"
   },
   {
    "duration": 17,
    "start_time": "2023-05-10T12:55:07.183Z"
   },
   {
    "duration": 87,
    "start_time": "2023-05-10T12:55:07.203Z"
   },
   {
    "duration": 85,
    "start_time": "2023-05-10T12:55:07.292Z"
   },
   {
    "duration": 4,
    "start_time": "2023-05-10T12:55:07.378Z"
   },
   {
    "duration": 23,
    "start_time": "2023-05-10T12:55:07.383Z"
   },
   {
    "duration": 30,
    "start_time": "2023-05-10T12:55:07.408Z"
   },
   {
    "duration": 43,
    "start_time": "2023-05-10T12:55:07.439Z"
   },
   {
    "duration": 226,
    "start_time": "2023-05-10T12:55:07.485Z"
   },
   {
    "duration": 233,
    "start_time": "2023-05-10T12:55:07.713Z"
   },
   {
    "duration": 4,
    "start_time": "2023-05-10T12:55:07.948Z"
   },
   {
    "duration": 8,
    "start_time": "2023-05-10T12:56:22.595Z"
   },
   {
    "duration": 232,
    "start_time": "2023-05-10T12:56:22.606Z"
   },
   {
    "duration": 6,
    "start_time": "2023-05-10T12:56:22.839Z"
   },
   {
    "duration": 35,
    "start_time": "2023-05-10T12:56:22.847Z"
   },
   {
    "duration": 18,
    "start_time": "2023-05-10T12:56:22.885Z"
   },
   {
    "duration": 84,
    "start_time": "2023-05-10T12:56:22.904Z"
   },
   {
    "duration": 98,
    "start_time": "2023-05-10T12:56:22.990Z"
   },
   {
    "duration": 13,
    "start_time": "2023-05-10T12:56:23.089Z"
   },
   {
    "duration": 22,
    "start_time": "2023-05-10T12:56:23.104Z"
   },
   {
    "duration": 19,
    "start_time": "2023-05-10T12:56:23.128Z"
   },
   {
    "duration": 25,
    "start_time": "2023-05-10T12:56:23.149Z"
   },
   {
    "duration": 374,
    "start_time": "2023-05-10T12:56:23.175Z"
   },
   {
    "duration": 238,
    "start_time": "2023-05-10T12:56:23.551Z"
   },
   {
    "duration": 6,
    "start_time": "2023-05-10T12:56:23.791Z"
   },
   {
    "duration": 238,
    "start_time": "2023-05-10T13:01:44.718Z"
   },
   {
    "duration": 5,
    "start_time": "2023-05-10T13:02:01.919Z"
   },
   {
    "duration": 10,
    "start_time": "2023-05-10T13:03:49.012Z"
   },
   {
    "duration": 261,
    "start_time": "2023-05-10T13:03:49.028Z"
   },
   {
    "duration": 14,
    "start_time": "2023-05-10T13:03:49.291Z"
   },
   {
    "duration": 25,
    "start_time": "2023-05-10T13:03:49.314Z"
   },
   {
    "duration": 7,
    "start_time": "2023-05-10T13:03:49.341Z"
   },
   {
    "duration": 151,
    "start_time": "2023-05-10T13:03:49.350Z"
   },
   {
    "duration": 113,
    "start_time": "2023-05-10T13:03:49.503Z"
   },
   {
    "duration": 9,
    "start_time": "2023-05-10T13:03:49.622Z"
   },
   {
    "duration": 16,
    "start_time": "2023-05-10T13:03:49.636Z"
   },
   {
    "duration": 24,
    "start_time": "2023-05-10T13:03:49.653Z"
   },
   {
    "duration": 42,
    "start_time": "2023-05-10T13:03:49.679Z"
   },
   {
    "duration": 369,
    "start_time": "2023-05-10T13:03:49.723Z"
   },
   {
    "duration": 273,
    "start_time": "2023-05-10T13:03:50.093Z"
   },
   {
    "duration": 37,
    "start_time": "2023-05-10T13:03:50.374Z"
   },
   {
    "duration": 4,
    "start_time": "2023-05-10T13:10:44.289Z"
   },
   {
    "duration": 225,
    "start_time": "2023-05-10T13:10:44.305Z"
   },
   {
    "duration": 9,
    "start_time": "2023-05-10T13:10:44.536Z"
   },
   {
    "duration": 26,
    "start_time": "2023-05-10T13:10:44.548Z"
   },
   {
    "duration": 30,
    "start_time": "2023-05-10T13:10:44.576Z"
   },
   {
    "duration": 103,
    "start_time": "2023-05-10T13:10:44.608Z"
   },
   {
    "duration": 114,
    "start_time": "2023-05-10T13:10:44.712Z"
   },
   {
    "duration": 5,
    "start_time": "2023-05-10T13:10:44.831Z"
   },
   {
    "duration": 14,
    "start_time": "2023-05-10T13:10:44.838Z"
   },
   {
    "duration": 25,
    "start_time": "2023-05-10T13:10:44.854Z"
   },
   {
    "duration": 57,
    "start_time": "2023-05-10T13:10:44.881Z"
   },
   {
    "duration": 274,
    "start_time": "2023-05-10T13:10:44.940Z"
   },
   {
    "duration": 260,
    "start_time": "2023-05-10T13:10:45.216Z"
   },
   {
    "duration": 23,
    "start_time": "2023-05-10T13:10:45.479Z"
   },
   {
    "duration": 24,
    "start_time": "2023-05-10T13:11:25.386Z"
   },
   {
    "duration": 10,
    "start_time": "2023-05-10T13:11:36.001Z"
   },
   {
    "duration": 33,
    "start_time": "2023-05-10T13:12:24.839Z"
   },
   {
    "duration": 19,
    "start_time": "2023-05-10T13:13:15.878Z"
   },
   {
    "duration": 33,
    "start_time": "2023-05-10T13:13:30.433Z"
   },
   {
    "duration": 1259,
    "start_time": "2023-05-11T13:06:12.062Z"
   },
   {
    "duration": 564,
    "start_time": "2023-05-11T13:06:13.323Z"
   },
   {
    "duration": 9,
    "start_time": "2023-05-11T13:06:13.889Z"
   },
   {
    "duration": 21,
    "start_time": "2023-05-11T13:06:13.900Z"
   },
   {
    "duration": 12,
    "start_time": "2023-05-11T13:06:13.923Z"
   },
   {
    "duration": 79,
    "start_time": "2023-05-11T13:06:13.936Z"
   },
   {
    "duration": 82,
    "start_time": "2023-05-11T13:06:14.017Z"
   },
   {
    "duration": 4,
    "start_time": "2023-05-11T13:06:14.101Z"
   },
   {
    "duration": 18,
    "start_time": "2023-05-11T13:06:14.107Z"
   },
   {
    "duration": 36,
    "start_time": "2023-05-11T13:06:14.127Z"
   },
   {
    "duration": 29,
    "start_time": "2023-05-11T13:06:14.165Z"
   },
   {
    "duration": 283,
    "start_time": "2023-05-11T13:06:14.196Z"
   },
   {
    "duration": 219,
    "start_time": "2023-05-11T13:06:14.481Z"
   },
   {
    "duration": 35,
    "start_time": "2023-05-11T13:06:14.702Z"
   },
   {
    "duration": 89,
    "start_time": "2023-05-11T13:06:44.607Z"
   },
   {
    "duration": 4,
    "start_time": "2023-05-11T13:06:49.610Z"
   },
   {
    "duration": 4,
    "start_time": "2023-05-11T13:08:03.095Z"
   },
   {
    "duration": 4,
    "start_time": "2023-05-11T13:08:19.856Z"
   },
   {
    "duration": 3,
    "start_time": "2023-05-11T13:08:24.968Z"
   },
   {
    "duration": 218,
    "start_time": "2023-05-11T13:08:24.973Z"
   },
   {
    "duration": 6,
    "start_time": "2023-05-11T13:08:25.193Z"
   },
   {
    "duration": 20,
    "start_time": "2023-05-11T13:08:25.200Z"
   },
   {
    "duration": 6,
    "start_time": "2023-05-11T13:08:25.222Z"
   },
   {
    "duration": 82,
    "start_time": "2023-05-11T13:08:25.230Z"
   },
   {
    "duration": 75,
    "start_time": "2023-05-11T13:08:25.313Z"
   },
   {
    "duration": 3,
    "start_time": "2023-05-11T13:08:25.389Z"
   },
   {
    "duration": 10,
    "start_time": "2023-05-11T13:08:25.394Z"
   },
   {
    "duration": 16,
    "start_time": "2023-05-11T13:08:25.406Z"
   },
   {
    "duration": 49,
    "start_time": "2023-05-11T13:08:25.423Z"
   },
   {
    "duration": 200,
    "start_time": "2023-05-11T13:08:25.473Z"
   },
   {
    "duration": 202,
    "start_time": "2023-05-11T13:08:25.675Z"
   },
   {
    "duration": 35,
    "start_time": "2023-05-11T13:08:25.879Z"
   },
   {
    "duration": 4,
    "start_time": "2023-05-11T13:08:25.916Z"
   },
   {
    "duration": 5,
    "start_time": "2023-05-11T13:08:37.252Z"
   },
   {
    "duration": 8,
    "start_time": "2023-05-11T13:08:42.716Z"
   },
   {
    "duration": 4,
    "start_time": "2023-05-11T13:09:21.604Z"
   },
   {
    "duration": 39,
    "start_time": "2023-05-11T13:09:30.012Z"
   },
   {
    "duration": 21,
    "start_time": "2023-05-11T13:10:02.663Z"
   },
   {
    "duration": 34,
    "start_time": "2023-05-11T13:10:10.056Z"
   },
   {
    "duration": 36,
    "start_time": "2023-05-11T13:10:54.941Z"
   },
   {
    "duration": 34,
    "start_time": "2023-05-11T13:11:20.197Z"
   },
   {
    "duration": 22,
    "start_time": "2023-05-11T13:12:15.216Z"
   },
   {
    "duration": 19,
    "start_time": "2023-05-11T13:13:16.953Z"
   },
   {
    "duration": 20,
    "start_time": "2023-05-11T13:13:19.940Z"
   },
   {
    "duration": 22,
    "start_time": "2023-05-11T13:13:24.196Z"
   },
   {
    "duration": 46,
    "start_time": "2023-05-11T13:15:39.034Z"
   },
   {
    "duration": 48,
    "start_time": "2023-05-11T13:16:11.828Z"
   },
   {
    "duration": 46,
    "start_time": "2023-05-11T13:16:31.745Z"
   },
   {
    "duration": 9,
    "start_time": "2023-05-11T13:19:10.591Z"
   },
   {
    "duration": 60,
    "start_time": "2023-05-11T13:19:23.265Z"
   },
   {
    "duration": 234,
    "start_time": "2023-05-11T13:19:51.710Z"
   },
   {
    "duration": 54,
    "start_time": "2023-05-11T13:20:10.665Z"
   },
   {
    "duration": 49,
    "start_time": "2023-05-11T13:22:25.383Z"
   },
   {
    "duration": 66,
    "start_time": "2023-05-11T18:00:48.573Z"
   },
   {
    "duration": 1805,
    "start_time": "2023-05-11T18:00:55.542Z"
   },
   {
    "duration": 817,
    "start_time": "2023-05-11T18:00:57.350Z"
   },
   {
    "duration": 22,
    "start_time": "2023-05-11T18:00:58.169Z"
   },
   {
    "duration": 26,
    "start_time": "2023-05-11T18:00:58.201Z"
   },
   {
    "duration": 21,
    "start_time": "2023-05-11T18:00:58.231Z"
   },
   {
    "duration": 174,
    "start_time": "2023-05-11T18:00:58.273Z"
   },
   {
    "duration": 124,
    "start_time": "2023-05-11T18:00:58.450Z"
   },
   {
    "duration": 43,
    "start_time": "2023-05-11T18:00:58.576Z"
   },
   {
    "duration": 33,
    "start_time": "2023-05-11T18:00:58.622Z"
   },
   {
    "duration": 43,
    "start_time": "2023-05-11T18:00:58.658Z"
   },
   {
    "duration": 78,
    "start_time": "2023-05-11T18:00:58.703Z"
   },
   {
    "duration": 433,
    "start_time": "2023-05-11T18:00:58.792Z"
   },
   {
    "duration": 324,
    "start_time": "2023-05-11T18:00:59.229Z"
   },
   {
    "duration": 62,
    "start_time": "2023-05-11T18:00:59.558Z"
   },
   {
    "duration": 75,
    "start_time": "2023-05-11T18:00:59.623Z"
   },
   {
    "duration": 32,
    "start_time": "2023-05-11T18:00:59.701Z"
   },
   {
    "duration": 169,
    "start_time": "2023-05-11T18:00:59.736Z"
   },
   {
    "duration": 70,
    "start_time": "2023-05-11T18:01:11.523Z"
   },
   {
    "duration": 75,
    "start_time": "2023-05-11T18:02:03.606Z"
   },
   {
    "duration": 76,
    "start_time": "2023-05-11T18:04:22.860Z"
   },
   {
    "duration": 399,
    "start_time": "2023-05-11T18:13:56.298Z"
   },
   {
    "duration": 81,
    "start_time": "2023-05-11T18:39:00.325Z"
   },
   {
    "duration": 4,
    "start_time": "2023-05-11T18:43:05.560Z"
   },
   {
    "duration": 5,
    "start_time": "2023-05-11T18:43:41.636Z"
   },
   {
    "duration": 5,
    "start_time": "2023-05-11T18:44:20.609Z"
   },
   {
    "duration": 5,
    "start_time": "2023-05-11T18:44:47.356Z"
   },
   {
    "duration": 11,
    "start_time": "2023-05-11T18:47:25.882Z"
   },
   {
    "duration": 7,
    "start_time": "2023-05-11T18:48:57.597Z"
   },
   {
    "duration": 4,
    "start_time": "2023-05-11T18:50:56.729Z"
   },
   {
    "duration": 5,
    "start_time": "2023-05-11T18:54:55.935Z"
   },
   {
    "duration": 13,
    "start_time": "2023-05-11T18:55:59.870Z"
   },
   {
    "duration": 6,
    "start_time": "2023-05-11T18:56:10.214Z"
   },
   {
    "duration": 5,
    "start_time": "2023-05-11T18:56:54.540Z"
   },
   {
    "duration": 11,
    "start_time": "2023-05-11T18:56:57.000Z"
   },
   {
    "duration": 5,
    "start_time": "2023-05-11T18:56:58.239Z"
   },
   {
    "duration": 4,
    "start_time": "2023-05-11T18:57:01.141Z"
   },
   {
    "duration": 5,
    "start_time": "2023-05-11T18:58:08.609Z"
   },
   {
    "duration": 4,
    "start_time": "2023-05-11T18:58:11.825Z"
   },
   {
    "duration": 4,
    "start_time": "2023-05-11T18:58:15.023Z"
   },
   {
    "duration": 4,
    "start_time": "2023-05-11T18:58:27.444Z"
   },
   {
    "duration": 52,
    "start_time": "2023-05-11T19:04:39.251Z"
   },
   {
    "duration": 1276,
    "start_time": "2023-05-12T11:00:02.720Z"
   },
   {
    "duration": 591,
    "start_time": "2023-05-12T11:00:03.998Z"
   },
   {
    "duration": 8,
    "start_time": "2023-05-12T11:00:04.590Z"
   },
   {
    "duration": 102,
    "start_time": "2023-05-12T11:00:04.600Z"
   },
   {
    "duration": 48,
    "start_time": "2023-05-12T11:00:04.705Z"
   },
   {
    "duration": 92,
    "start_time": "2023-05-12T11:00:04.754Z"
   },
   {
    "duration": 64,
    "start_time": "2023-05-12T11:00:04.847Z"
   },
   {
    "duration": 35,
    "start_time": "2023-05-12T11:00:04.913Z"
   },
   {
    "duration": 71,
    "start_time": "2023-05-12T11:00:04.949Z"
   },
   {
    "duration": 75,
    "start_time": "2023-05-12T11:00:05.022Z"
   },
   {
    "duration": 87,
    "start_time": "2023-05-12T11:00:05.098Z"
   },
   {
    "duration": 388,
    "start_time": "2023-05-12T11:00:05.186Z"
   },
   {
    "duration": 202,
    "start_time": "2023-05-12T11:00:05.575Z"
   },
   {
    "duration": 40,
    "start_time": "2023-05-12T11:00:05.788Z"
   },
   {
    "duration": 160,
    "start_time": "2023-05-12T11:00:05.830Z"
   },
   {
    "duration": 168,
    "start_time": "2023-05-12T11:00:05.992Z"
   },
   {
    "duration": 258,
    "start_time": "2023-05-12T11:00:06.162Z"
   },
   {
    "duration": 89,
    "start_time": "2023-05-12T11:00:06.422Z"
   },
   {
    "duration": 7,
    "start_time": "2023-05-12T11:00:06.513Z"
   },
   {
    "duration": 37,
    "start_time": "2023-05-12T11:00:06.522Z"
   },
   {
    "duration": 25,
    "start_time": "2023-05-12T11:00:06.561Z"
   },
   {
    "duration": 53,
    "start_time": "2023-05-12T11:00:06.588Z"
   },
   {
    "duration": 47,
    "start_time": "2023-05-12T11:00:06.642Z"
   },
   {
    "duration": 3,
    "start_time": "2023-05-12T11:56:48.162Z"
   },
   {
    "duration": 198,
    "start_time": "2023-05-12T11:56:48.167Z"
   },
   {
    "duration": 4,
    "start_time": "2023-05-12T11:56:48.366Z"
   },
   {
    "duration": 19,
    "start_time": "2023-05-12T11:56:48.372Z"
   },
   {
    "duration": 5,
    "start_time": "2023-05-12T11:56:48.393Z"
   },
   {
    "duration": 61,
    "start_time": "2023-05-12T11:56:48.399Z"
   },
   {
    "duration": 71,
    "start_time": "2023-05-12T11:56:48.462Z"
   },
   {
    "duration": 7,
    "start_time": "2023-05-12T11:56:48.534Z"
   },
   {
    "duration": 12,
    "start_time": "2023-05-12T11:56:48.542Z"
   },
   {
    "duration": 17,
    "start_time": "2023-05-12T11:56:48.555Z"
   },
   {
    "duration": 30,
    "start_time": "2023-05-12T11:56:48.574Z"
   },
   {
    "duration": 194,
    "start_time": "2023-05-12T11:56:48.605Z"
   },
   {
    "duration": 186,
    "start_time": "2023-05-12T11:56:48.801Z"
   },
   {
    "duration": 29,
    "start_time": "2023-05-12T11:56:48.990Z"
   },
   {
    "duration": 36,
    "start_time": "2023-05-12T11:56:49.021Z"
   },
   {
    "duration": 41,
    "start_time": "2023-05-12T11:56:49.059Z"
   },
   {
    "duration": 47,
    "start_time": "2023-05-12T11:56:49.101Z"
   },
   {
    "duration": 56,
    "start_time": "2023-05-12T11:56:49.149Z"
   },
   {
    "duration": 4,
    "start_time": "2023-05-12T11:56:49.206Z"
   },
   {
    "duration": 12,
    "start_time": "2023-05-12T11:56:49.211Z"
   },
   {
    "duration": 15,
    "start_time": "2023-05-12T11:56:49.224Z"
   },
   {
    "duration": 12,
    "start_time": "2023-05-12T11:56:49.241Z"
   },
   {
    "duration": 50,
    "start_time": "2023-05-12T11:56:49.254Z"
   },
   {
    "duration": 163,
    "start_time": "2023-05-12T11:56:49.305Z"
   },
   {
    "duration": 89,
    "start_time": "2023-05-12T11:58:22.790Z"
   },
   {
    "duration": 30,
    "start_time": "2023-05-12T11:59:34.755Z"
   },
   {
    "duration": 10,
    "start_time": "2023-05-12T12:00:00.938Z"
   },
   {
    "duration": 54,
    "start_time": "2023-05-12T12:01:11.275Z"
   },
   {
    "duration": 24,
    "start_time": "2023-05-12T12:02:24.703Z"
   },
   {
    "duration": 2262,
    "start_time": "2023-05-12T12:03:00.738Z"
   },
   {
    "duration": 1761,
    "start_time": "2023-05-12T12:03:11.238Z"
   },
   {
    "duration": 25,
    "start_time": "2023-05-12T12:03:18.093Z"
   },
   {
    "duration": 25,
    "start_time": "2023-05-12T12:05:37.062Z"
   },
   {
    "duration": 23,
    "start_time": "2023-05-12T12:05:53.241Z"
   },
   {
    "duration": 11,
    "start_time": "2023-05-12T12:19:17.873Z"
   },
   {
    "duration": 74,
    "start_time": "2023-05-12T12:27:38.294Z"
   },
   {
    "duration": 200,
    "start_time": "2023-05-12T12:28:19.536Z"
   },
   {
    "duration": 265,
    "start_time": "2023-05-12T12:28:34.949Z"
   },
   {
    "duration": 86,
    "start_time": "2023-05-12T12:29:32.151Z"
   },
   {
    "duration": 3,
    "start_time": "2023-05-12T12:31:58.059Z"
   },
   {
    "duration": 207,
    "start_time": "2023-05-12T12:31:58.063Z"
   },
   {
    "duration": 4,
    "start_time": "2023-05-12T12:31:58.272Z"
   },
   {
    "duration": 20,
    "start_time": "2023-05-12T12:31:58.277Z"
   },
   {
    "duration": 6,
    "start_time": "2023-05-12T12:31:58.299Z"
   },
   {
    "duration": 50,
    "start_time": "2023-05-12T12:31:58.306Z"
   },
   {
    "duration": 69,
    "start_time": "2023-05-12T12:31:58.358Z"
   },
   {
    "duration": 3,
    "start_time": "2023-05-12T12:31:58.429Z"
   },
   {
    "duration": 13,
    "start_time": "2023-05-12T12:31:58.433Z"
   },
   {
    "duration": 14,
    "start_time": "2023-05-12T12:31:58.448Z"
   },
   {
    "duration": 42,
    "start_time": "2023-05-12T12:31:58.463Z"
   },
   {
    "duration": 190,
    "start_time": "2023-05-12T12:31:58.506Z"
   },
   {
    "duration": 190,
    "start_time": "2023-05-12T12:31:58.698Z"
   },
   {
    "duration": 30,
    "start_time": "2023-05-12T12:31:58.889Z"
   },
   {
    "duration": 34,
    "start_time": "2023-05-12T12:31:58.921Z"
   },
   {
    "duration": 32,
    "start_time": "2023-05-12T12:31:58.956Z"
   },
   {
    "duration": 48,
    "start_time": "2023-05-12T12:31:58.989Z"
   },
   {
    "duration": 51,
    "start_time": "2023-05-12T12:31:59.038Z"
   },
   {
    "duration": 4,
    "start_time": "2023-05-12T12:31:59.090Z"
   },
   {
    "duration": 20,
    "start_time": "2023-05-12T12:31:59.095Z"
   },
   {
    "duration": 11,
    "start_time": "2023-05-12T12:31:59.116Z"
   },
   {
    "duration": 9,
    "start_time": "2023-05-12T12:31:59.128Z"
   },
   {
    "duration": 31,
    "start_time": "2023-05-12T12:31:59.138Z"
   },
   {
    "duration": 32,
    "start_time": "2023-05-12T12:31:59.170Z"
   },
   {
    "duration": 9,
    "start_time": "2023-05-12T12:31:59.203Z"
   },
   {
    "duration": 292,
    "start_time": "2023-05-12T12:31:59.213Z"
   },
   {
    "duration": 226,
    "start_time": "2023-05-12T12:34:14.368Z"
   },
   {
    "duration": 3,
    "start_time": "2023-05-12T12:35:07.360Z"
   },
   {
    "duration": 264,
    "start_time": "2023-05-12T12:35:07.365Z"
   },
   {
    "duration": 4,
    "start_time": "2023-05-12T12:35:07.631Z"
   },
   {
    "duration": 23,
    "start_time": "2023-05-12T12:35:07.637Z"
   },
   {
    "duration": 11,
    "start_time": "2023-05-12T12:35:07.661Z"
   },
   {
    "duration": 65,
    "start_time": "2023-05-12T12:35:07.673Z"
   },
   {
    "duration": 58,
    "start_time": "2023-05-12T12:35:07.739Z"
   },
   {
    "duration": 4,
    "start_time": "2023-05-12T12:35:07.799Z"
   },
   {
    "duration": 9,
    "start_time": "2023-05-12T12:35:07.804Z"
   },
   {
    "duration": 14,
    "start_time": "2023-05-12T12:35:07.815Z"
   },
   {
    "duration": 23,
    "start_time": "2023-05-12T12:35:07.830Z"
   },
   {
    "duration": 205,
    "start_time": "2023-05-12T12:35:07.855Z"
   },
   {
    "duration": 202,
    "start_time": "2023-05-12T12:35:08.061Z"
   },
   {
    "duration": 37,
    "start_time": "2023-05-12T12:35:08.265Z"
   },
   {
    "duration": 36,
    "start_time": "2023-05-12T12:35:08.304Z"
   },
   {
    "duration": 75,
    "start_time": "2023-05-12T12:35:08.342Z"
   },
   {
    "duration": 70,
    "start_time": "2023-05-12T12:35:08.420Z"
   },
   {
    "duration": 50,
    "start_time": "2023-05-12T12:35:08.493Z"
   },
   {
    "duration": 4,
    "start_time": "2023-05-12T12:35:08.547Z"
   },
   {
    "duration": 43,
    "start_time": "2023-05-12T12:35:08.553Z"
   },
   {
    "duration": 13,
    "start_time": "2023-05-12T12:35:08.598Z"
   },
   {
    "duration": 14,
    "start_time": "2023-05-12T12:35:08.612Z"
   },
   {
    "duration": 47,
    "start_time": "2023-05-12T12:35:08.628Z"
   },
   {
    "duration": 28,
    "start_time": "2023-05-12T12:35:08.676Z"
   },
   {
    "duration": 9,
    "start_time": "2023-05-12T12:35:08.705Z"
   },
   {
    "duration": 150,
    "start_time": "2023-05-12T12:35:08.716Z"
   },
   {
    "duration": 3,
    "start_time": "2023-05-12T12:36:26.435Z"
   },
   {
    "duration": 254,
    "start_time": "2023-05-12T12:36:26.439Z"
   },
   {
    "duration": 4,
    "start_time": "2023-05-12T12:36:26.694Z"
   },
   {
    "duration": 27,
    "start_time": "2023-05-12T12:36:26.699Z"
   },
   {
    "duration": 8,
    "start_time": "2023-05-12T12:36:26.727Z"
   },
   {
    "duration": 61,
    "start_time": "2023-05-12T12:36:26.736Z"
   },
   {
    "duration": 52,
    "start_time": "2023-05-12T12:36:26.798Z"
   },
   {
    "duration": 10,
    "start_time": "2023-05-12T12:36:26.851Z"
   },
   {
    "duration": 13,
    "start_time": "2023-05-12T12:36:26.863Z"
   },
   {
    "duration": 30,
    "start_time": "2023-05-12T12:36:26.878Z"
   },
   {
    "duration": 55,
    "start_time": "2023-05-12T12:36:26.909Z"
   },
   {
    "duration": 202,
    "start_time": "2023-05-12T12:36:26.966Z"
   },
   {
    "duration": 177,
    "start_time": "2023-05-12T12:36:27.169Z"
   },
   {
    "duration": 26,
    "start_time": "2023-05-12T12:36:27.347Z"
   },
   {
    "duration": 39,
    "start_time": "2023-05-12T12:36:27.374Z"
   },
   {
    "duration": 19,
    "start_time": "2023-05-12T12:36:27.415Z"
   },
   {
    "duration": 60,
    "start_time": "2023-05-12T12:36:27.435Z"
   },
   {
    "duration": 45,
    "start_time": "2023-05-12T12:36:27.496Z"
   },
   {
    "duration": 3,
    "start_time": "2023-05-12T12:36:27.543Z"
   },
   {
    "duration": 18,
    "start_time": "2023-05-12T12:36:27.547Z"
   },
   {
    "duration": 21,
    "start_time": "2023-05-12T12:36:27.566Z"
   },
   {
    "duration": 8,
    "start_time": "2023-05-12T12:36:27.588Z"
   },
   {
    "duration": 31,
    "start_time": "2023-05-12T12:36:27.597Z"
   },
   {
    "duration": 26,
    "start_time": "2023-05-12T12:36:27.631Z"
   },
   {
    "duration": 8,
    "start_time": "2023-05-12T12:36:27.659Z"
   },
   {
    "duration": 133,
    "start_time": "2023-05-12T12:36:27.669Z"
   },
   {
    "duration": 340,
    "start_time": "2023-05-12T12:37:22.491Z"
   },
   {
    "duration": 11,
    "start_time": "2023-05-12T12:37:38.755Z"
   },
   {
    "duration": 6,
    "start_time": "2023-05-12T12:39:29.357Z"
   },
   {
    "duration": 96,
    "start_time": "2023-05-12T12:40:54.440Z"
   },
   {
    "duration": 126,
    "start_time": "2023-05-12T12:41:21.639Z"
   },
   {
    "duration": 106,
    "start_time": "2023-05-12T12:42:34.841Z"
   },
   {
    "duration": 4,
    "start_time": "2023-05-12T12:42:46.555Z"
   },
   {
    "duration": 306,
    "start_time": "2023-05-12T12:42:46.561Z"
   },
   {
    "duration": 8,
    "start_time": "2023-05-12T12:42:46.870Z"
   },
   {
    "duration": 27,
    "start_time": "2023-05-12T12:42:46.884Z"
   },
   {
    "duration": 7,
    "start_time": "2023-05-12T12:42:46.914Z"
   },
   {
    "duration": 85,
    "start_time": "2023-05-12T12:42:46.923Z"
   },
   {
    "duration": 90,
    "start_time": "2023-05-12T12:42:47.010Z"
   },
   {
    "duration": 4,
    "start_time": "2023-05-12T12:42:47.102Z"
   },
   {
    "duration": 16,
    "start_time": "2023-05-12T12:42:47.108Z"
   },
   {
    "duration": 18,
    "start_time": "2023-05-12T12:42:47.126Z"
   },
   {
    "duration": 47,
    "start_time": "2023-05-12T12:42:47.145Z"
   },
   {
    "duration": 216,
    "start_time": "2023-05-12T12:42:47.193Z"
   },
   {
    "duration": 231,
    "start_time": "2023-05-12T12:42:47.411Z"
   },
   {
    "duration": 42,
    "start_time": "2023-05-12T12:42:47.644Z"
   },
   {
    "duration": 37,
    "start_time": "2023-05-12T12:42:47.688Z"
   },
   {
    "duration": 19,
    "start_time": "2023-05-12T12:42:47.727Z"
   },
   {
    "duration": 65,
    "start_time": "2023-05-12T12:42:47.748Z"
   },
   {
    "duration": 50,
    "start_time": "2023-05-12T12:42:47.815Z"
   },
   {
    "duration": 4,
    "start_time": "2023-05-12T12:42:47.866Z"
   },
   {
    "duration": 3,
    "start_time": "2023-05-12T12:42:47.885Z"
   },
   {
    "duration": 8,
    "start_time": "2023-05-12T12:42:47.890Z"
   },
   {
    "duration": 7,
    "start_time": "2023-05-12T12:42:47.899Z"
   },
   {
    "duration": 29,
    "start_time": "2023-05-12T12:42:47.907Z"
   },
   {
    "duration": 49,
    "start_time": "2023-05-12T12:42:47.937Z"
   },
   {
    "duration": 11,
    "start_time": "2023-05-12T12:42:47.988Z"
   },
   {
    "duration": 171,
    "start_time": "2023-05-12T12:42:48.000Z"
   },
   {
    "duration": 0,
    "start_time": "2023-05-12T12:42:48.172Z"
   },
   {
    "duration": 84,
    "start_time": "2023-05-12T12:43:04.439Z"
   },
   {
    "duration": 200,
    "start_time": "2023-05-12T12:43:11.947Z"
   },
   {
    "duration": 9,
    "start_time": "2023-05-12T12:45:23.733Z"
   },
   {
    "duration": 108,
    "start_time": "2023-05-12T12:45:29.043Z"
   },
   {
    "duration": 3,
    "start_time": "2023-05-12T12:45:40.961Z"
   },
   {
    "duration": 353,
    "start_time": "2023-05-12T12:45:40.966Z"
   },
   {
    "duration": 7,
    "start_time": "2023-05-12T12:45:41.320Z"
   },
   {
    "duration": 38,
    "start_time": "2023-05-12T12:45:41.328Z"
   },
   {
    "duration": 7,
    "start_time": "2023-05-12T12:45:41.367Z"
   },
   {
    "duration": 70,
    "start_time": "2023-05-12T12:45:41.375Z"
   },
   {
    "duration": 97,
    "start_time": "2023-05-12T12:45:41.446Z"
   },
   {
    "duration": 8,
    "start_time": "2023-05-12T12:45:41.545Z"
   },
   {
    "duration": 13,
    "start_time": "2023-05-12T12:45:41.554Z"
   },
   {
    "duration": 31,
    "start_time": "2023-05-12T12:45:41.569Z"
   },
   {
    "duration": 27,
    "start_time": "2023-05-12T12:45:41.602Z"
   },
   {
    "duration": 228,
    "start_time": "2023-05-12T12:45:41.630Z"
   },
   {
    "duration": 214,
    "start_time": "2023-05-12T12:45:41.859Z"
   },
   {
    "duration": 42,
    "start_time": "2023-05-12T12:45:42.075Z"
   },
   {
    "duration": 49,
    "start_time": "2023-05-12T12:45:42.119Z"
   },
   {
    "duration": 30,
    "start_time": "2023-05-12T12:45:42.169Z"
   },
   {
    "duration": 58,
    "start_time": "2023-05-12T12:45:42.201Z"
   },
   {
    "duration": 66,
    "start_time": "2023-05-12T12:45:42.260Z"
   },
   {
    "duration": 4,
    "start_time": "2023-05-12T12:45:42.328Z"
   },
   {
    "duration": 13,
    "start_time": "2023-05-12T12:45:42.333Z"
   },
   {
    "duration": 6,
    "start_time": "2023-05-12T12:45:42.348Z"
   },
   {
    "duration": 11,
    "start_time": "2023-05-12T12:45:42.356Z"
   },
   {
    "duration": 47,
    "start_time": "2023-05-12T12:45:42.370Z"
   },
   {
    "duration": 34,
    "start_time": "2023-05-12T12:45:42.419Z"
   },
   {
    "duration": 32,
    "start_time": "2023-05-12T12:45:42.454Z"
   },
   {
    "duration": 7,
    "start_time": "2023-05-12T12:45:42.487Z"
   },
   {
    "duration": 138,
    "start_time": "2023-05-12T12:45:42.495Z"
   },
   {
    "duration": 8,
    "start_time": "2023-05-12T12:53:46.126Z"
   },
   {
    "duration": 7,
    "start_time": "2023-05-12T12:54:01.595Z"
   },
   {
    "duration": 52,
    "start_time": "2023-05-12T12:54:10.033Z"
   },
   {
    "duration": 7,
    "start_time": "2023-05-12T12:55:46.868Z"
   },
   {
    "duration": 6,
    "start_time": "2023-05-12T12:57:24.031Z"
   },
   {
    "duration": 49,
    "start_time": "2023-05-12T12:57:28.782Z"
   },
   {
    "duration": 3,
    "start_time": "2023-05-12T12:58:38.348Z"
   },
   {
    "duration": 192,
    "start_time": "2023-05-12T12:58:38.353Z"
   },
   {
    "duration": 4,
    "start_time": "2023-05-12T12:58:38.546Z"
   },
   {
    "duration": 22,
    "start_time": "2023-05-12T12:58:38.551Z"
   },
   {
    "duration": 14,
    "start_time": "2023-05-12T12:58:38.575Z"
   },
   {
    "duration": 62,
    "start_time": "2023-05-12T12:58:38.590Z"
   },
   {
    "duration": 55,
    "start_time": "2023-05-12T12:58:38.653Z"
   },
   {
    "duration": 10,
    "start_time": "2023-05-12T12:58:38.709Z"
   },
   {
    "duration": 14,
    "start_time": "2023-05-12T12:58:38.720Z"
   },
   {
    "duration": 18,
    "start_time": "2023-05-12T12:58:38.736Z"
   },
   {
    "duration": 30,
    "start_time": "2023-05-12T12:58:38.755Z"
   },
   {
    "duration": 183,
    "start_time": "2023-05-12T12:58:38.786Z"
   },
   {
    "duration": 181,
    "start_time": "2023-05-12T12:58:38.971Z"
   },
   {
    "duration": 36,
    "start_time": "2023-05-12T12:58:39.154Z"
   },
   {
    "duration": 33,
    "start_time": "2023-05-12T12:58:39.191Z"
   },
   {
    "duration": 17,
    "start_time": "2023-05-12T12:58:39.225Z"
   },
   {
    "duration": 62,
    "start_time": "2023-05-12T12:58:39.243Z"
   },
   {
    "duration": 46,
    "start_time": "2023-05-12T12:58:39.307Z"
   },
   {
    "duration": 4,
    "start_time": "2023-05-12T12:58:39.355Z"
   },
   {
    "duration": 24,
    "start_time": "2023-05-12T12:58:39.361Z"
   },
   {
    "duration": 5,
    "start_time": "2023-05-12T12:58:39.386Z"
   },
   {
    "duration": 13,
    "start_time": "2023-05-12T12:58:39.392Z"
   },
   {
    "duration": 42,
    "start_time": "2023-05-12T12:58:39.406Z"
   },
   {
    "duration": 26,
    "start_time": "2023-05-12T12:58:39.449Z"
   },
   {
    "duration": 8,
    "start_time": "2023-05-12T12:58:39.477Z"
   },
   {
    "duration": 8,
    "start_time": "2023-05-12T12:58:39.487Z"
   },
   {
    "duration": 127,
    "start_time": "2023-05-12T12:58:39.497Z"
   },
   {
    "duration": 6,
    "start_time": "2023-05-12T12:58:39.627Z"
   },
   {
    "duration": 84,
    "start_time": "2023-05-12T12:58:39.635Z"
   },
   {
    "duration": 7,
    "start_time": "2023-05-12T13:01:50.239Z"
   },
   {
    "duration": 7,
    "start_time": "2023-05-12T13:02:10.942Z"
   },
   {
    "duration": 5,
    "start_time": "2023-05-12T13:02:20.489Z"
   },
   {
    "duration": 38,
    "start_time": "2023-05-12T13:02:21.447Z"
   },
   {
    "duration": 73,
    "start_time": "2023-05-12T13:03:17.207Z"
   },
   {
    "duration": 37,
    "start_time": "2023-05-12T13:03:33.889Z"
   },
   {
    "duration": 38,
    "start_time": "2023-05-12T13:04:02.301Z"
   },
   {
    "duration": 41,
    "start_time": "2023-05-12T13:04:30.594Z"
   },
   {
    "duration": 42,
    "start_time": "2023-05-12T13:07:24.756Z"
   },
   {
    "duration": 45,
    "start_time": "2023-05-12T13:17:09.131Z"
   },
   {
    "duration": 40,
    "start_time": "2023-05-12T13:17:11.389Z"
   },
   {
    "duration": 40,
    "start_time": "2023-05-12T13:17:12.893Z"
   },
   {
    "duration": 37,
    "start_time": "2023-05-12T13:17:13.496Z"
   },
   {
    "duration": 45,
    "start_time": "2023-05-12T13:17:36.846Z"
   },
   {
    "duration": 43,
    "start_time": "2023-05-12T13:17:37.489Z"
   },
   {
    "duration": 42,
    "start_time": "2023-05-12T13:17:38.135Z"
   },
   {
    "duration": 37,
    "start_time": "2023-05-12T13:17:38.754Z"
   },
   {
    "duration": 6,
    "start_time": "2023-05-12T13:21:14.665Z"
   },
   {
    "duration": 7,
    "start_time": "2023-05-12T13:21:15.205Z"
   },
   {
    "duration": 46,
    "start_time": "2023-05-12T13:21:17.693Z"
   },
   {
    "duration": 40,
    "start_time": "2023-05-12T13:21:25.764Z"
   },
   {
    "duration": 47,
    "start_time": "2023-05-12T13:21:32.291Z"
   },
   {
    "duration": 42,
    "start_time": "2023-05-12T13:21:38.367Z"
   },
   {
    "duration": 5,
    "start_time": "2023-05-12T13:26:26.743Z"
   },
   {
    "duration": 52,
    "start_time": "2023-05-12T13:26:28.548Z"
   },
   {
    "duration": 46,
    "start_time": "2023-05-12T13:26:31.668Z"
   },
   {
    "duration": 48,
    "start_time": "2023-05-12T13:26:32.747Z"
   },
   {
    "duration": 42,
    "start_time": "2023-05-12T13:26:33.707Z"
   },
   {
    "duration": 7,
    "start_time": "2023-05-12T13:27:42.088Z"
   },
   {
    "duration": 55,
    "start_time": "2023-05-12T13:27:43.166Z"
   },
   {
    "duration": 46,
    "start_time": "2023-05-12T13:27:43.680Z"
   },
   {
    "duration": 56,
    "start_time": "2023-05-12T13:27:44.266Z"
   },
   {
    "duration": 44,
    "start_time": "2023-05-12T13:27:44.851Z"
   },
   {
    "duration": 46,
    "start_time": "2023-05-12T13:35:57.827Z"
   },
   {
    "duration": 40,
    "start_time": "2023-05-12T13:35:59.638Z"
   },
   {
    "duration": 43,
    "start_time": "2023-05-12T13:36:03.265Z"
   },
   {
    "duration": 41,
    "start_time": "2023-05-12T13:36:39.451Z"
   },
   {
    "duration": 46,
    "start_time": "2023-05-12T13:38:24.103Z"
   },
   {
    "duration": 43,
    "start_time": "2023-05-12T13:38:25.442Z"
   },
   {
    "duration": 63,
    "start_time": "2023-05-12T13:38:26.362Z"
   },
   {
    "duration": 58,
    "start_time": "2023-05-12T13:38:27.663Z"
   },
   {
    "duration": 48,
    "start_time": "2023-05-12T13:40:19.226Z"
   },
   {
    "duration": 58,
    "start_time": "2023-05-12T13:44:01.592Z"
   },
   {
    "duration": 44,
    "start_time": "2023-05-12T13:44:05.284Z"
   },
   {
    "duration": 52,
    "start_time": "2023-05-12T13:44:06.242Z"
   },
   {
    "duration": 6,
    "start_time": "2023-05-12T13:44:08.904Z"
   },
   {
    "duration": 11,
    "start_time": "2023-05-12T13:44:09.493Z"
   },
   {
    "duration": 12,
    "start_time": "2023-05-12T13:44:29.944Z"
   },
   {
    "duration": 6,
    "start_time": "2023-05-12T13:45:28.480Z"
   },
   {
    "duration": 15,
    "start_time": "2023-05-12T13:45:28.988Z"
   },
   {
    "duration": 45,
    "start_time": "2023-05-12T13:45:38.609Z"
   },
   {
    "duration": 14,
    "start_time": "2023-05-12T13:46:40.038Z"
   },
   {
    "duration": 6,
    "start_time": "2023-05-12T13:49:24.364Z"
   },
   {
    "duration": 48,
    "start_time": "2023-05-12T13:49:36.734Z"
   },
   {
    "duration": 8,
    "start_time": "2023-05-12T13:49:39.981Z"
   },
   {
    "duration": 39,
    "start_time": "2023-05-12T13:49:45.095Z"
   },
   {
    "duration": 42,
    "start_time": "2023-05-12T13:49:49.081Z"
   },
   {
    "duration": 38,
    "start_time": "2023-05-12T13:49:53.634Z"
   },
   {
    "duration": 51,
    "start_time": "2023-05-12T13:50:00.347Z"
   },
   {
    "duration": 40,
    "start_time": "2023-05-12T13:50:03.764Z"
   },
   {
    "duration": 43,
    "start_time": "2023-05-12T13:50:08.906Z"
   },
   {
    "duration": 38,
    "start_time": "2023-05-12T13:50:12.282Z"
   },
   {
    "duration": 50,
    "start_time": "2023-05-12T13:50:18.343Z"
   },
   {
    "duration": 45,
    "start_time": "2023-05-12T13:50:23.008Z"
   },
   {
    "duration": 48,
    "start_time": "2023-05-12T13:50:27.018Z"
   },
   {
    "duration": 38,
    "start_time": "2023-05-12T13:50:31.144Z"
   },
   {
    "duration": 39,
    "start_time": "2023-05-12T13:50:34.854Z"
   },
   {
    "duration": 7,
    "start_time": "2023-05-12T13:52:43.654Z"
   },
   {
    "duration": 7,
    "start_time": "2023-05-12T13:52:51.475Z"
   },
   {
    "duration": 3,
    "start_time": "2023-05-12T13:52:59.848Z"
   },
   {
    "duration": 201,
    "start_time": "2023-05-12T13:52:59.852Z"
   },
   {
    "duration": 5,
    "start_time": "2023-05-12T13:53:00.054Z"
   },
   {
    "duration": 34,
    "start_time": "2023-05-12T13:53:00.060Z"
   },
   {
    "duration": 13,
    "start_time": "2023-05-12T13:53:00.096Z"
   },
   {
    "duration": 83,
    "start_time": "2023-05-12T13:53:00.110Z"
   },
   {
    "duration": 59,
    "start_time": "2023-05-12T13:53:00.194Z"
   },
   {
    "duration": 27,
    "start_time": "2023-05-12T13:53:00.254Z"
   },
   {
    "duration": 40,
    "start_time": "2023-05-12T13:53:00.283Z"
   },
   {
    "duration": 55,
    "start_time": "2023-05-12T13:53:00.324Z"
   },
   {
    "duration": 41,
    "start_time": "2023-05-12T13:53:00.381Z"
   },
   {
    "duration": 180,
    "start_time": "2023-05-12T13:53:00.423Z"
   },
   {
    "duration": 185,
    "start_time": "2023-05-12T13:53:00.605Z"
   },
   {
    "duration": 28,
    "start_time": "2023-05-12T13:53:00.793Z"
   },
   {
    "duration": 36,
    "start_time": "2023-05-12T13:53:00.823Z"
   },
   {
    "duration": 27,
    "start_time": "2023-05-12T13:53:00.861Z"
   },
   {
    "duration": 65,
    "start_time": "2023-05-12T13:53:00.889Z"
   },
   {
    "duration": 46,
    "start_time": "2023-05-12T13:53:00.956Z"
   },
   {
    "duration": 69,
    "start_time": "2023-05-12T13:53:01.004Z"
   },
   {
    "duration": 44,
    "start_time": "2023-05-12T13:53:01.075Z"
   },
   {
    "duration": 75,
    "start_time": "2023-05-12T13:53:01.120Z"
   },
   {
    "duration": 42,
    "start_time": "2023-05-12T13:53:01.196Z"
   },
   {
    "duration": 84,
    "start_time": "2023-05-12T13:53:01.240Z"
   },
   {
    "duration": 39,
    "start_time": "2023-05-12T13:53:01.325Z"
   },
   {
    "duration": 12,
    "start_time": "2023-05-12T13:53:01.366Z"
   },
   {
    "duration": 134,
    "start_time": "2023-05-12T13:53:01.379Z"
   },
   {
    "duration": 166,
    "start_time": "2023-05-12T13:53:01.515Z"
   },
   {
    "duration": 40,
    "start_time": "2023-05-12T13:53:01.683Z"
   },
   {
    "duration": 80,
    "start_time": "2023-05-12T13:53:01.725Z"
   },
   {
    "duration": 42,
    "start_time": "2023-05-12T13:53:01.806Z"
   },
   {
    "duration": 70,
    "start_time": "2023-05-12T13:53:01.850Z"
   },
   {
    "duration": 94,
    "start_time": "2023-05-12T13:53:01.922Z"
   },
   {
    "duration": 60,
    "start_time": "2023-05-12T13:53:02.018Z"
   },
   {
    "duration": 46,
    "start_time": "2023-05-12T13:53:02.080Z"
   },
   {
    "duration": 70,
    "start_time": "2023-05-12T13:53:02.128Z"
   },
   {
    "duration": 145,
    "start_time": "2023-05-12T13:53:02.199Z"
   },
   {
    "duration": 85,
    "start_time": "2023-05-12T13:53:02.345Z"
   },
   {
    "duration": 38,
    "start_time": "2023-05-12T13:53:02.432Z"
   },
   {
    "duration": 49,
    "start_time": "2023-05-12T13:53:02.472Z"
   },
   {
    "duration": 0,
    "start_time": "2023-05-12T13:53:02.522Z"
   },
   {
    "duration": 0,
    "start_time": "2023-05-12T13:53:02.523Z"
   },
   {
    "duration": 0,
    "start_time": "2023-05-12T13:53:02.524Z"
   },
   {
    "duration": 0,
    "start_time": "2023-05-12T13:53:02.525Z"
   },
   {
    "duration": 0,
    "start_time": "2023-05-12T13:53:02.526Z"
   },
   {
    "duration": 12,
    "start_time": "2023-05-12T13:53:39.464Z"
   },
   {
    "duration": 8,
    "start_time": "2023-05-12T13:54:09.559Z"
   },
   {
    "duration": 8,
    "start_time": "2023-05-12T13:54:32.730Z"
   },
   {
    "duration": 9,
    "start_time": "2023-05-12T13:54:50.706Z"
   },
   {
    "duration": 11,
    "start_time": "2023-05-12T13:57:18.956Z"
   },
   {
    "duration": 1592,
    "start_time": "2023-05-12T16:46:09.987Z"
   },
   {
    "duration": 616,
    "start_time": "2023-05-12T16:46:11.582Z"
   },
   {
    "duration": 12,
    "start_time": "2023-05-12T16:46:12.200Z"
   },
   {
    "duration": 76,
    "start_time": "2023-05-12T16:46:12.214Z"
   },
   {
    "duration": 14,
    "start_time": "2023-05-12T16:46:12.292Z"
   },
   {
    "duration": 122,
    "start_time": "2023-05-12T16:46:12.309Z"
   },
   {
    "duration": 136,
    "start_time": "2023-05-12T16:46:12.435Z"
   },
   {
    "duration": 5,
    "start_time": "2023-05-12T16:46:12.574Z"
   },
   {
    "duration": 55,
    "start_time": "2023-05-12T16:46:12.581Z"
   },
   {
    "duration": 68,
    "start_time": "2023-05-12T16:46:12.641Z"
   },
   {
    "duration": 100,
    "start_time": "2023-05-12T16:46:12.711Z"
   },
   {
    "duration": 335,
    "start_time": "2023-05-12T16:46:12.813Z"
   },
   {
    "duration": 335,
    "start_time": "2023-05-12T16:46:13.150Z"
   },
   {
    "duration": 52,
    "start_time": "2023-05-12T16:46:13.487Z"
   },
   {
    "duration": 68,
    "start_time": "2023-05-12T16:46:13.542Z"
   },
   {
    "duration": 48,
    "start_time": "2023-05-12T16:46:13.612Z"
   },
   {
    "duration": 127,
    "start_time": "2023-05-12T16:46:13.662Z"
   },
   {
    "duration": 71,
    "start_time": "2023-05-12T16:46:13.790Z"
   },
   {
    "duration": 5,
    "start_time": "2023-05-12T16:46:13.863Z"
   },
   {
    "duration": 44,
    "start_time": "2023-05-12T16:46:13.870Z"
   },
   {
    "duration": 49,
    "start_time": "2023-05-12T16:46:13.916Z"
   },
   {
    "duration": 45,
    "start_time": "2023-05-12T16:46:13.967Z"
   },
   {
    "duration": 84,
    "start_time": "2023-05-12T16:46:14.014Z"
   },
   {
    "duration": 78,
    "start_time": "2023-05-12T16:46:14.101Z"
   },
   {
    "duration": 15,
    "start_time": "2023-05-12T16:46:14.181Z"
   },
   {
    "duration": 29,
    "start_time": "2023-05-12T16:46:14.198Z"
   },
   {
    "duration": 108,
    "start_time": "2023-05-12T16:46:14.229Z"
   },
   {
    "duration": 54,
    "start_time": "2023-05-12T16:46:14.340Z"
   },
   {
    "duration": 136,
    "start_time": "2023-05-12T16:46:14.396Z"
   },
   {
    "duration": 53,
    "start_time": "2023-05-12T16:46:14.533Z"
   },
   {
    "duration": 84,
    "start_time": "2023-05-12T16:46:14.588Z"
   },
   {
    "duration": 112,
    "start_time": "2023-05-12T16:46:14.673Z"
   },
   {
    "duration": 68,
    "start_time": "2023-05-12T16:46:14.825Z"
   },
   {
    "duration": 81,
    "start_time": "2023-05-12T16:46:14.896Z"
   },
   {
    "duration": 100,
    "start_time": "2023-05-12T16:46:14.979Z"
   },
   {
    "duration": 97,
    "start_time": "2023-05-12T16:46:15.081Z"
   },
   {
    "duration": 76,
    "start_time": "2023-05-12T16:46:15.180Z"
   },
   {
    "duration": 86,
    "start_time": "2023-05-12T16:46:15.258Z"
   },
   {
    "duration": 20,
    "start_time": "2023-05-12T16:46:15.346Z"
   },
   {
    "duration": 113,
    "start_time": "2023-05-12T16:46:15.368Z"
   },
   {
    "duration": 115,
    "start_time": "2023-05-12T16:46:15.483Z"
   },
   {
    "duration": 0,
    "start_time": "2023-05-12T16:46:15.600Z"
   },
   {
    "duration": 0,
    "start_time": "2023-05-12T16:46:15.601Z"
   },
   {
    "duration": 0,
    "start_time": "2023-05-12T16:46:15.603Z"
   },
   {
    "duration": 39,
    "start_time": "2023-05-12T16:48:04.031Z"
   },
   {
    "duration": 59,
    "start_time": "2023-05-12T16:48:46.463Z"
   },
   {
    "duration": 56,
    "start_time": "2023-05-12T16:49:03.772Z"
   },
   {
    "duration": 81,
    "start_time": "2023-05-12T16:49:32.682Z"
   },
   {
    "duration": 75,
    "start_time": "2023-05-12T16:50:14.610Z"
   },
   {
    "duration": 81,
    "start_time": "2023-05-12T16:50:54.432Z"
   },
   {
    "duration": 65,
    "start_time": "2023-05-12T16:51:31.315Z"
   },
   {
    "duration": 73,
    "start_time": "2023-05-12T16:51:51.198Z"
   },
   {
    "duration": 4,
    "start_time": "2023-05-12T16:57:00.331Z"
   },
   {
    "duration": 338,
    "start_time": "2023-05-12T16:57:00.337Z"
   },
   {
    "duration": 10,
    "start_time": "2023-05-12T16:57:00.677Z"
   },
   {
    "duration": 39,
    "start_time": "2023-05-12T16:57:00.690Z"
   },
   {
    "duration": 11,
    "start_time": "2023-05-12T16:57:00.732Z"
   },
   {
    "duration": 118,
    "start_time": "2023-05-12T16:57:00.745Z"
   },
   {
    "duration": 114,
    "start_time": "2023-05-12T16:57:00.867Z"
   },
   {
    "duration": 21,
    "start_time": "2023-05-12T16:57:00.983Z"
   },
   {
    "duration": 31,
    "start_time": "2023-05-12T16:57:01.006Z"
   },
   {
    "duration": 47,
    "start_time": "2023-05-12T16:57:01.039Z"
   },
   {
    "duration": 85,
    "start_time": "2023-05-12T16:57:01.089Z"
   },
   {
    "duration": 355,
    "start_time": "2023-05-12T16:57:01.176Z"
   },
   {
    "duration": 375,
    "start_time": "2023-05-12T16:57:01.533Z"
   },
   {
    "duration": 61,
    "start_time": "2023-05-12T16:57:01.912Z"
   },
   {
    "duration": 80,
    "start_time": "2023-05-12T16:57:01.974Z"
   },
   {
    "duration": 32,
    "start_time": "2023-05-12T16:57:02.056Z"
   },
   {
    "duration": 80,
    "start_time": "2023-05-12T16:57:02.089Z"
   },
   {
    "duration": 71,
    "start_time": "2023-05-12T16:57:02.172Z"
   },
   {
    "duration": 6,
    "start_time": "2023-05-12T16:57:02.245Z"
   },
   {
    "duration": 33,
    "start_time": "2023-05-12T16:57:02.252Z"
   },
   {
    "duration": 37,
    "start_time": "2023-05-12T16:57:02.288Z"
   },
   {
    "duration": 19,
    "start_time": "2023-05-12T16:57:02.326Z"
   },
   {
    "duration": 44,
    "start_time": "2023-05-12T16:57:02.347Z"
   },
   {
    "duration": 47,
    "start_time": "2023-05-12T16:57:02.393Z"
   },
   {
    "duration": 13,
    "start_time": "2023-05-12T16:57:02.442Z"
   },
   {
    "duration": 9,
    "start_time": "2023-05-12T16:57:02.457Z"
   },
   {
    "duration": 89,
    "start_time": "2023-05-12T16:57:02.468Z"
   },
   {
    "duration": 66,
    "start_time": "2023-05-12T16:57:02.559Z"
   },
   {
    "duration": 55,
    "start_time": "2023-05-12T16:57:02.627Z"
   },
   {
    "duration": 91,
    "start_time": "2023-05-12T16:57:02.684Z"
   },
   {
    "duration": 95,
    "start_time": "2023-05-12T16:57:02.777Z"
   },
   {
    "duration": 83,
    "start_time": "2023-05-12T16:57:02.874Z"
   },
   {
    "duration": 68,
    "start_time": "2023-05-12T16:57:02.958Z"
   },
   {
    "duration": 62,
    "start_time": "2023-05-12T16:57:03.028Z"
   },
   {
    "duration": 77,
    "start_time": "2023-05-12T16:57:03.092Z"
   },
   {
    "duration": 68,
    "start_time": "2023-05-12T16:57:03.170Z"
   },
   {
    "duration": 86,
    "start_time": "2023-05-12T16:57:03.239Z"
   },
   {
    "duration": 56,
    "start_time": "2023-05-12T16:57:03.327Z"
   },
   {
    "duration": 10,
    "start_time": "2023-05-12T16:57:03.385Z"
   },
   {
    "duration": 97,
    "start_time": "2023-05-12T16:57:03.398Z"
   },
   {
    "duration": 65,
    "start_time": "2023-05-12T16:57:03.499Z"
   },
   {
    "duration": 73,
    "start_time": "2023-05-12T16:57:03.567Z"
   },
   {
    "duration": 57,
    "start_time": "2023-05-12T16:57:03.642Z"
   },
   {
    "duration": 76,
    "start_time": "2023-05-12T16:57:03.701Z"
   },
   {
    "duration": 41,
    "start_time": "2023-05-12T16:59:33.726Z"
   },
   {
    "duration": 57,
    "start_time": "2023-05-12T17:05:01.108Z"
   },
   {
    "duration": 87,
    "start_time": "2023-05-12T17:19:19.394Z"
   },
   {
    "duration": 5,
    "start_time": "2023-05-12T17:52:01.011Z"
   },
   {
    "duration": 459,
    "start_time": "2023-05-12T17:52:01.026Z"
   },
   {
    "duration": 6,
    "start_time": "2023-05-12T17:52:01.488Z"
   },
   {
    "duration": 210,
    "start_time": "2023-05-12T17:52:01.496Z"
   },
   {
    "duration": 120,
    "start_time": "2023-05-12T17:52:01.710Z"
   },
   {
    "duration": 286,
    "start_time": "2023-05-12T17:52:01.833Z"
   },
   {
    "duration": 256,
    "start_time": "2023-05-12T17:52:02.122Z"
   },
   {
    "duration": 12,
    "start_time": "2023-05-12T17:52:02.379Z"
   },
   {
    "duration": 68,
    "start_time": "2023-05-12T17:52:02.393Z"
   },
   {
    "duration": 50,
    "start_time": "2023-05-12T17:52:02.464Z"
   },
   {
    "duration": 66,
    "start_time": "2023-05-12T17:52:02.517Z"
   },
   {
    "duration": 287,
    "start_time": "2023-05-12T17:52:02.585Z"
   },
   {
    "duration": 332,
    "start_time": "2023-05-12T17:52:02.875Z"
   },
   {
    "duration": 59,
    "start_time": "2023-05-12T17:52:03.209Z"
   },
   {
    "duration": 71,
    "start_time": "2023-05-12T17:52:03.273Z"
   },
   {
    "duration": 35,
    "start_time": "2023-05-12T17:52:03.350Z"
   },
   {
    "duration": 104,
    "start_time": "2023-05-12T17:52:03.387Z"
   },
   {
    "duration": 79,
    "start_time": "2023-05-12T17:52:03.493Z"
   },
   {
    "duration": 5,
    "start_time": "2023-05-12T17:52:03.574Z"
   },
   {
    "duration": 28,
    "start_time": "2023-05-12T17:52:03.581Z"
   },
   {
    "duration": 15,
    "start_time": "2023-05-12T17:52:03.611Z"
   },
   {
    "duration": 71,
    "start_time": "2023-05-12T17:52:03.627Z"
   },
   {
    "duration": 58,
    "start_time": "2023-05-12T17:52:03.700Z"
   },
   {
    "duration": 43,
    "start_time": "2023-05-12T17:52:03.760Z"
   },
   {
    "duration": 69,
    "start_time": "2023-05-12T17:52:03.806Z"
   },
   {
    "duration": 10,
    "start_time": "2023-05-12T17:52:03.877Z"
   },
   {
    "duration": 118,
    "start_time": "2023-05-12T17:52:03.890Z"
   },
   {
    "duration": 81,
    "start_time": "2023-05-12T17:52:04.010Z"
   },
   {
    "duration": 82,
    "start_time": "2023-05-12T17:52:04.096Z"
   },
   {
    "duration": 75,
    "start_time": "2023-05-12T17:52:04.181Z"
   },
   {
    "duration": 92,
    "start_time": "2023-05-12T17:52:04.263Z"
   },
   {
    "duration": 89,
    "start_time": "2023-05-12T17:52:04.358Z"
   },
   {
    "duration": 87,
    "start_time": "2023-05-12T17:52:04.455Z"
   },
   {
    "duration": 74,
    "start_time": "2023-05-12T17:52:04.547Z"
   },
   {
    "duration": 93,
    "start_time": "2023-05-12T17:52:04.623Z"
   },
   {
    "duration": 122,
    "start_time": "2023-05-12T17:52:04.719Z"
   },
   {
    "duration": 156,
    "start_time": "2023-05-12T17:52:04.849Z"
   },
   {
    "duration": 92,
    "start_time": "2023-05-12T17:52:05.010Z"
   },
   {
    "duration": 11,
    "start_time": "2023-05-12T17:52:05.104Z"
   },
   {
    "duration": 150,
    "start_time": "2023-05-12T17:52:05.118Z"
   },
   {
    "duration": 125,
    "start_time": "2023-05-12T17:52:05.278Z"
   },
   {
    "duration": 244,
    "start_time": "2023-05-12T17:52:05.405Z"
   },
   {
    "duration": 108,
    "start_time": "2023-05-12T17:52:05.651Z"
   },
   {
    "duration": 1022,
    "start_time": "2023-05-12T18:33:25.834Z"
   },
   {
    "duration": 684,
    "start_time": "2023-05-12T18:33:26.857Z"
   },
   {
    "duration": 10,
    "start_time": "2023-05-12T18:33:27.542Z"
   },
   {
    "duration": 33,
    "start_time": "2023-05-12T18:33:27.553Z"
   },
   {
    "duration": 10,
    "start_time": "2023-05-12T18:33:27.587Z"
   },
   {
    "duration": 75,
    "start_time": "2023-05-12T18:33:27.598Z"
   },
   {
    "duration": 72,
    "start_time": "2023-05-12T18:33:27.675Z"
   },
   {
    "duration": 6,
    "start_time": "2023-05-12T18:33:27.748Z"
   },
   {
    "duration": 14,
    "start_time": "2023-05-12T18:33:27.755Z"
   },
   {
    "duration": 49,
    "start_time": "2023-05-12T18:33:27.772Z"
   },
   {
    "duration": 29,
    "start_time": "2023-05-12T18:33:27.823Z"
   },
   {
    "duration": 274,
    "start_time": "2023-05-12T18:33:27.854Z"
   },
   {
    "duration": 218,
    "start_time": "2023-05-12T18:33:28.129Z"
   },
   {
    "duration": 35,
    "start_time": "2023-05-12T18:33:28.349Z"
   },
   {
    "duration": 46,
    "start_time": "2023-05-12T18:33:28.385Z"
   },
   {
    "duration": 21,
    "start_time": "2023-05-12T18:33:28.433Z"
   },
   {
    "duration": 68,
    "start_time": "2023-05-12T18:33:28.455Z"
   },
   {
    "duration": 50,
    "start_time": "2023-05-12T18:33:28.524Z"
   },
   {
    "duration": 3,
    "start_time": "2023-05-12T18:33:28.575Z"
   },
   {
    "duration": 20,
    "start_time": "2023-05-12T18:33:28.580Z"
   },
   {
    "duration": 7,
    "start_time": "2023-05-12T18:33:28.602Z"
   },
   {
    "duration": 10,
    "start_time": "2023-05-12T18:33:28.610Z"
   },
   {
    "duration": 30,
    "start_time": "2023-05-12T18:33:28.622Z"
   },
   {
    "duration": 27,
    "start_time": "2023-05-12T18:33:28.653Z"
   },
   {
    "duration": 50,
    "start_time": "2023-05-12T18:33:28.681Z"
   },
   {
    "duration": 7,
    "start_time": "2023-05-12T18:33:28.732Z"
   },
   {
    "duration": 70,
    "start_time": "2023-05-12T18:33:28.741Z"
   },
   {
    "duration": 47,
    "start_time": "2023-05-12T18:33:28.814Z"
   },
   {
    "duration": 64,
    "start_time": "2023-05-12T18:33:28.862Z"
   },
   {
    "duration": 42,
    "start_time": "2023-05-12T18:33:28.928Z"
   },
   {
    "duration": 59,
    "start_time": "2023-05-12T18:33:28.972Z"
   },
   {
    "duration": 45,
    "start_time": "2023-05-12T18:33:29.032Z"
   },
   {
    "duration": 61,
    "start_time": "2023-05-12T18:33:29.078Z"
   },
   {
    "duration": 58,
    "start_time": "2023-05-12T18:33:29.140Z"
   },
   {
    "duration": 51,
    "start_time": "2023-05-12T18:33:29.200Z"
   },
   {
    "duration": 65,
    "start_time": "2023-05-12T18:33:29.253Z"
   },
   {
    "duration": 54,
    "start_time": "2023-05-12T18:33:29.319Z"
   },
   {
    "duration": 63,
    "start_time": "2023-05-12T18:33:29.375Z"
   },
   {
    "duration": 6,
    "start_time": "2023-05-12T18:33:29.440Z"
   },
   {
    "duration": 69,
    "start_time": "2023-05-12T18:33:29.448Z"
   },
   {
    "duration": 48,
    "start_time": "2023-05-12T18:33:29.519Z"
   },
   {
    "duration": 70,
    "start_time": "2023-05-12T18:33:29.569Z"
   },
   {
    "duration": 58,
    "start_time": "2023-05-12T18:33:29.641Z"
   },
   {
    "duration": 1106,
    "start_time": "2023-05-12T18:34:23.076Z"
   },
   {
    "duration": 208,
    "start_time": "2023-05-12T18:34:24.184Z"
   },
   {
    "duration": 8,
    "start_time": "2023-05-12T18:34:24.394Z"
   },
   {
    "duration": 30,
    "start_time": "2023-05-12T18:34:24.404Z"
   },
   {
    "duration": 11,
    "start_time": "2023-05-12T18:34:24.436Z"
   },
   {
    "duration": 86,
    "start_time": "2023-05-12T18:34:24.449Z"
   },
   {
    "duration": 80,
    "start_time": "2023-05-12T18:34:24.537Z"
   },
   {
    "duration": 3,
    "start_time": "2023-05-12T18:34:24.619Z"
   },
   {
    "duration": 14,
    "start_time": "2023-05-12T18:34:24.624Z"
   },
   {
    "duration": 17,
    "start_time": "2023-05-12T18:34:24.641Z"
   },
   {
    "duration": 56,
    "start_time": "2023-05-12T18:34:24.660Z"
   },
   {
    "duration": 289,
    "start_time": "2023-05-12T18:34:24.717Z"
   },
   {
    "duration": 218,
    "start_time": "2023-05-12T18:34:25.008Z"
   },
   {
    "duration": 34,
    "start_time": "2023-05-12T18:34:25.228Z"
   },
   {
    "duration": 57,
    "start_time": "2023-05-12T18:34:25.263Z"
   },
   {
    "duration": 22,
    "start_time": "2023-05-12T18:34:25.322Z"
   },
   {
    "duration": 71,
    "start_time": "2023-05-12T18:34:25.346Z"
   },
   {
    "duration": 64,
    "start_time": "2023-05-12T18:34:25.419Z"
   },
   {
    "duration": 12,
    "start_time": "2023-05-12T18:34:25.486Z"
   },
   {
    "duration": 22,
    "start_time": "2023-05-12T18:34:25.500Z"
   },
   {
    "duration": 41,
    "start_time": "2023-05-12T18:34:25.524Z"
   },
   {
    "duration": 11,
    "start_time": "2023-05-12T18:34:25.567Z"
   },
   {
    "duration": 42,
    "start_time": "2023-05-12T18:34:25.579Z"
   },
   {
    "duration": 38,
    "start_time": "2023-05-12T18:34:25.623Z"
   },
   {
    "duration": 60,
    "start_time": "2023-05-12T18:34:25.663Z"
   },
   {
    "duration": 10,
    "start_time": "2023-05-12T18:34:25.725Z"
   },
   {
    "duration": 62,
    "start_time": "2023-05-12T18:34:25.736Z"
   },
   {
    "duration": 56,
    "start_time": "2023-05-12T18:34:25.803Z"
   },
   {
    "duration": 67,
    "start_time": "2023-05-12T18:34:25.861Z"
   },
   {
    "duration": 51,
    "start_time": "2023-05-12T18:34:25.929Z"
   },
   {
    "duration": 69,
    "start_time": "2023-05-12T18:34:25.982Z"
   },
   {
    "duration": 68,
    "start_time": "2023-05-12T18:34:26.052Z"
   },
   {
    "duration": 46,
    "start_time": "2023-05-12T18:34:26.122Z"
   },
   {
    "duration": 57,
    "start_time": "2023-05-12T18:34:26.170Z"
   },
   {
    "duration": 50,
    "start_time": "2023-05-12T18:34:26.230Z"
   },
   {
    "duration": 58,
    "start_time": "2023-05-12T18:34:26.282Z"
   },
   {
    "duration": 59,
    "start_time": "2023-05-12T18:34:26.342Z"
   },
   {
    "duration": 43,
    "start_time": "2023-05-12T18:34:26.403Z"
   },
   {
    "duration": 5,
    "start_time": "2023-05-12T18:34:26.448Z"
   },
   {
    "duration": 77,
    "start_time": "2023-05-12T18:34:26.454Z"
   },
   {
    "duration": 46,
    "start_time": "2023-05-12T18:34:26.532Z"
   },
   {
    "duration": 57,
    "start_time": "2023-05-12T18:34:26.579Z"
   },
   {
    "duration": 71,
    "start_time": "2023-05-12T18:34:26.638Z"
   },
   {
    "duration": 5,
    "start_time": "2023-05-12T18:50:36.969Z"
   },
   {
    "duration": 261,
    "start_time": "2023-05-12T18:50:36.988Z"
   },
   {
    "duration": 7,
    "start_time": "2023-05-12T18:50:37.251Z"
   },
   {
    "duration": 51,
    "start_time": "2023-05-12T18:50:37.260Z"
   },
   {
    "duration": 32,
    "start_time": "2023-05-12T18:50:37.315Z"
   },
   {
    "duration": 130,
    "start_time": "2023-05-12T18:50:53.406Z"
   },
   {
    "duration": 4,
    "start_time": "2023-05-12T18:51:18.380Z"
   },
   {
    "duration": 229,
    "start_time": "2023-05-12T18:51:18.386Z"
   },
   {
    "duration": 7,
    "start_time": "2023-05-12T18:51:18.624Z"
   },
   {
    "duration": 37,
    "start_time": "2023-05-12T18:51:18.634Z"
   },
   {
    "duration": 11,
    "start_time": "2023-05-12T18:51:18.675Z"
   },
   {
    "duration": 108,
    "start_time": "2023-05-12T18:51:30.290Z"
   },
   {
    "duration": 5,
    "start_time": "2023-05-12T18:52:06.823Z"
   },
   {
    "duration": 229,
    "start_time": "2023-05-12T18:52:06.830Z"
   },
   {
    "duration": 7,
    "start_time": "2023-05-12T18:52:07.062Z"
   },
   {
    "duration": 54,
    "start_time": "2023-05-12T18:52:07.071Z"
   },
   {
    "duration": 24,
    "start_time": "2023-05-12T18:52:07.128Z"
   },
   {
    "duration": 139,
    "start_time": "2023-05-12T18:52:10.889Z"
   },
   {
    "duration": 51,
    "start_time": "2023-05-12T18:56:26.474Z"
   },
   {
    "duration": 3,
    "start_time": "2023-05-12T18:56:31.243Z"
   },
   {
    "duration": 239,
    "start_time": "2023-05-12T18:56:31.248Z"
   },
   {
    "duration": 7,
    "start_time": "2023-05-12T18:56:31.489Z"
   },
   {
    "duration": 53,
    "start_time": "2023-05-12T18:56:31.498Z"
   },
   {
    "duration": 10,
    "start_time": "2023-05-12T18:56:31.553Z"
   },
   {
    "duration": 66,
    "start_time": "2023-05-12T18:56:38.026Z"
   },
   {
    "duration": 68,
    "start_time": "2023-05-12T18:58:58.992Z"
   },
   {
    "duration": 1336,
    "start_time": "2023-05-12T19:08:11.021Z"
   },
   {
    "duration": 6,
    "start_time": "2023-05-12T19:08:25.000Z"
   },
   {
    "duration": 244,
    "start_time": "2023-05-12T19:08:25.009Z"
   },
   {
    "duration": 7,
    "start_time": "2023-05-12T19:08:25.255Z"
   },
   {
    "duration": 40,
    "start_time": "2023-05-12T19:08:25.264Z"
   },
   {
    "duration": 20,
    "start_time": "2023-05-12T19:08:25.306Z"
   },
   {
    "duration": 75,
    "start_time": "2023-05-12T19:08:25.328Z"
   },
   {
    "duration": 65,
    "start_time": "2023-05-12T19:08:25.405Z"
   },
   {
    "duration": 79,
    "start_time": "2023-05-12T19:08:25.472Z"
   },
   {
    "duration": 4,
    "start_time": "2023-05-12T19:08:25.553Z"
   },
   {
    "duration": 10,
    "start_time": "2023-05-12T19:08:25.559Z"
   },
   {
    "duration": 60,
    "start_time": "2023-05-12T19:08:25.572Z"
   },
   {
    "duration": 40,
    "start_time": "2023-05-12T19:08:25.635Z"
   },
   {
    "duration": 276,
    "start_time": "2023-05-12T19:08:25.676Z"
   },
   {
    "duration": 21,
    "start_time": "2023-05-12T19:08:31.587Z"
   },
   {
    "duration": 42,
    "start_time": "2023-05-12T19:10:29.798Z"
   },
   {
    "duration": 42,
    "start_time": "2023-05-12T19:11:25.053Z"
   },
   {
    "duration": 27,
    "start_time": "2023-05-12T19:12:15.554Z"
   },
   {
    "duration": 42,
    "start_time": "2023-05-12T19:12:24.943Z"
   },
   {
    "duration": 567,
    "start_time": "2023-05-12T19:19:21.527Z"
   },
   {
    "duration": 8,
    "start_time": "2023-05-12T19:19:46.141Z"
   },
   {
    "duration": 222,
    "start_time": "2023-05-12T19:19:46.151Z"
   },
   {
    "duration": 7,
    "start_time": "2023-05-12T19:19:46.375Z"
   },
   {
    "duration": 23,
    "start_time": "2023-05-12T19:19:46.384Z"
   },
   {
    "duration": 23,
    "start_time": "2023-05-12T19:19:46.409Z"
   },
   {
    "duration": 72,
    "start_time": "2023-05-12T19:19:46.435Z"
   },
   {
    "duration": 85,
    "start_time": "2023-05-12T19:19:46.509Z"
   },
   {
    "duration": 88,
    "start_time": "2023-05-12T19:19:46.596Z"
   },
   {
    "duration": 4,
    "start_time": "2023-05-12T19:19:46.685Z"
   },
   {
    "duration": 8,
    "start_time": "2023-05-12T19:19:46.692Z"
   },
   {
    "duration": 27,
    "start_time": "2023-05-12T19:19:46.730Z"
   },
   {
    "duration": 28,
    "start_time": "2023-05-12T19:19:46.758Z"
   },
   {
    "duration": 236,
    "start_time": "2023-05-12T19:19:46.788Z"
   },
   {
    "duration": 41,
    "start_time": "2023-05-12T19:19:47.026Z"
   },
   {
    "duration": 642,
    "start_time": "2023-05-12T19:19:47.068Z"
   },
   {
    "duration": 698,
    "start_time": "2023-05-12T19:19:53.607Z"
   },
   {
    "duration": 49,
    "start_time": "2023-05-12T19:23:18.006Z"
   },
   {
    "duration": 77,
    "start_time": "2023-05-12T19:28:22.003Z"
   },
   {
    "duration": 70,
    "start_time": "2023-05-12T19:29:42.490Z"
   },
   {
    "duration": 5,
    "start_time": "2023-05-12T19:43:48.102Z"
   },
   {
    "duration": 254,
    "start_time": "2023-05-12T19:49:24.708Z"
   },
   {
    "duration": 8,
    "start_time": "2023-05-12T19:52:14.182Z"
   },
   {
    "duration": 20,
    "start_time": "2023-05-12T19:56:39.749Z"
   },
   {
    "duration": 72,
    "start_time": "2023-05-12T19:57:02.947Z"
   },
   {
    "duration": 231,
    "start_time": "2023-05-12T19:57:16.453Z"
   },
   {
    "duration": 50,
    "start_time": "2023-05-12T19:58:50.297Z"
   },
   {
    "duration": 54,
    "start_time": "2023-05-12T19:59:27.814Z"
   },
   {
    "duration": 61,
    "start_time": "2023-05-12T20:02:26.791Z"
   },
   {
    "duration": 65,
    "start_time": "2023-05-12T20:03:54.914Z"
   },
   {
    "duration": 49,
    "start_time": "2023-05-12T20:05:17.512Z"
   },
   {
    "duration": 4,
    "start_time": "2023-05-12T21:31:00.786Z"
   },
   {
    "duration": 293,
    "start_time": "2023-05-12T21:31:00.791Z"
   },
   {
    "duration": 8,
    "start_time": "2023-05-12T21:31:01.086Z"
   },
   {
    "duration": 60,
    "start_time": "2023-05-12T21:31:01.095Z"
   },
   {
    "duration": 24,
    "start_time": "2023-05-12T21:31:01.157Z"
   },
   {
    "duration": 117,
    "start_time": "2023-05-12T21:31:01.182Z"
   },
   {
    "duration": 83,
    "start_time": "2023-05-12T21:31:01.301Z"
   },
   {
    "duration": 82,
    "start_time": "2023-05-12T21:31:01.385Z"
   },
   {
    "duration": 25,
    "start_time": "2023-05-12T21:31:01.468Z"
   },
   {
    "duration": 24,
    "start_time": "2023-05-12T21:31:01.495Z"
   },
   {
    "duration": 40,
    "start_time": "2023-05-12T21:31:01.520Z"
   },
   {
    "duration": 33,
    "start_time": "2023-05-12T21:31:01.562Z"
   },
   {
    "duration": 244,
    "start_time": "2023-05-12T21:31:01.597Z"
   },
   {
    "duration": 29,
    "start_time": "2023-05-12T21:31:01.845Z"
   },
   {
    "duration": 52,
    "start_time": "2023-05-12T21:31:01.875Z"
   },
   {
    "duration": 199,
    "start_time": "2023-05-12T21:31:01.928Z"
   },
   {
    "duration": 33,
    "start_time": "2023-05-12T21:31:02.129Z"
   },
   {
    "duration": 39,
    "start_time": "2023-05-12T21:31:02.164Z"
   },
   {
    "duration": 23,
    "start_time": "2023-05-12T21:31:02.225Z"
   },
   {
    "duration": 62,
    "start_time": "2023-05-12T21:31:02.250Z"
   },
   {
    "duration": 58,
    "start_time": "2023-05-12T21:31:02.314Z"
   },
   {
    "duration": 4,
    "start_time": "2023-05-12T21:31:02.373Z"
   },
   {
    "duration": 40,
    "start_time": "2023-05-12T21:31:02.379Z"
   },
   {
    "duration": 14,
    "start_time": "2023-05-12T21:31:02.421Z"
   },
   {
    "duration": 15,
    "start_time": "2023-05-12T21:31:02.437Z"
   },
   {
    "duration": 130,
    "start_time": "2023-05-12T21:31:02.454Z"
   },
   {
    "duration": 60,
    "start_time": "2023-05-12T21:31:02.585Z"
   },
   {
    "duration": 0,
    "start_time": "2023-05-12T21:31:02.646Z"
   },
   {
    "duration": 0,
    "start_time": "2023-05-12T21:31:02.648Z"
   },
   {
    "duration": 0,
    "start_time": "2023-05-12T21:31:02.649Z"
   },
   {
    "duration": 0,
    "start_time": "2023-05-12T21:31:02.650Z"
   },
   {
    "duration": 0,
    "start_time": "2023-05-12T21:31:02.651Z"
   },
   {
    "duration": 0,
    "start_time": "2023-05-12T21:31:02.652Z"
   },
   {
    "duration": 0,
    "start_time": "2023-05-12T21:31:02.653Z"
   },
   {
    "duration": 0,
    "start_time": "2023-05-12T21:31:02.654Z"
   },
   {
    "duration": 0,
    "start_time": "2023-05-12T21:31:02.655Z"
   },
   {
    "duration": 0,
    "start_time": "2023-05-12T21:31:02.656Z"
   },
   {
    "duration": 0,
    "start_time": "2023-05-12T21:31:02.658Z"
   },
   {
    "duration": 0,
    "start_time": "2023-05-12T21:31:02.659Z"
   },
   {
    "duration": 0,
    "start_time": "2023-05-12T21:31:02.659Z"
   },
   {
    "duration": 0,
    "start_time": "2023-05-12T21:31:02.661Z"
   },
   {
    "duration": 0,
    "start_time": "2023-05-12T21:31:02.662Z"
   },
   {
    "duration": 0,
    "start_time": "2023-05-12T21:31:02.663Z"
   },
   {
    "duration": 0,
    "start_time": "2023-05-12T21:31:02.664Z"
   },
   {
    "duration": 0,
    "start_time": "2023-05-12T21:31:02.665Z"
   },
   {
    "duration": 0,
    "start_time": "2023-05-12T21:31:02.666Z"
   },
   {
    "duration": 0,
    "start_time": "2023-05-12T21:31:02.667Z"
   },
   {
    "duration": 3,
    "start_time": "2023-05-12T21:31:47.990Z"
   },
   {
    "duration": 223,
    "start_time": "2023-05-12T21:31:47.995Z"
   },
   {
    "duration": 5,
    "start_time": "2023-05-12T21:31:48.224Z"
   },
   {
    "duration": 35,
    "start_time": "2023-05-12T21:31:48.231Z"
   },
   {
    "duration": 7,
    "start_time": "2023-05-12T21:31:48.269Z"
   },
   {
    "duration": 55,
    "start_time": "2023-05-12T21:31:48.277Z"
   },
   {
    "duration": 55,
    "start_time": "2023-05-12T21:31:48.334Z"
   },
   {
    "duration": 80,
    "start_time": "2023-05-12T21:31:48.391Z"
   },
   {
    "duration": 10,
    "start_time": "2023-05-12T21:31:48.473Z"
   },
   {
    "duration": 9,
    "start_time": "2023-05-12T21:31:48.485Z"
   },
   {
    "duration": 35,
    "start_time": "2023-05-12T21:31:48.496Z"
   },
   {
    "duration": 32,
    "start_time": "2023-05-12T21:31:48.533Z"
   },
   {
    "duration": 223,
    "start_time": "2023-05-12T21:31:48.567Z"
   },
   {
    "duration": 33,
    "start_time": "2023-05-12T21:31:48.793Z"
   },
   {
    "duration": 43,
    "start_time": "2023-05-12T21:31:48.828Z"
   },
   {
    "duration": 207,
    "start_time": "2023-05-12T21:31:48.872Z"
   },
   {
    "duration": 44,
    "start_time": "2023-05-12T21:31:49.080Z"
   },
   {
    "duration": 36,
    "start_time": "2023-05-12T21:31:49.125Z"
   },
   {
    "duration": 21,
    "start_time": "2023-05-12T21:31:49.162Z"
   },
   {
    "duration": 63,
    "start_time": "2023-05-12T21:31:49.185Z"
   },
   {
    "duration": 55,
    "start_time": "2023-05-12T21:31:49.250Z"
   },
   {
    "duration": 3,
    "start_time": "2023-05-12T21:31:49.307Z"
   },
   {
    "duration": 4,
    "start_time": "2023-05-12T21:31:49.324Z"
   },
   {
    "duration": 20,
    "start_time": "2023-05-12T21:31:49.329Z"
   },
   {
    "duration": 11,
    "start_time": "2023-05-12T21:31:49.351Z"
   },
   {
    "duration": 58,
    "start_time": "2023-05-12T21:31:49.363Z"
   },
   {
    "duration": 10,
    "start_time": "2023-05-12T21:31:49.422Z"
   },
   {
    "duration": 0,
    "start_time": "2023-05-12T21:31:49.434Z"
   },
   {
    "duration": 0,
    "start_time": "2023-05-12T21:31:49.435Z"
   },
   {
    "duration": 0,
    "start_time": "2023-05-12T21:31:49.436Z"
   },
   {
    "duration": 0,
    "start_time": "2023-05-12T21:31:49.437Z"
   },
   {
    "duration": 0,
    "start_time": "2023-05-12T21:31:49.438Z"
   },
   {
    "duration": 0,
    "start_time": "2023-05-12T21:31:49.439Z"
   },
   {
    "duration": 0,
    "start_time": "2023-05-12T21:31:49.441Z"
   },
   {
    "duration": 0,
    "start_time": "2023-05-12T21:31:49.442Z"
   },
   {
    "duration": 0,
    "start_time": "2023-05-12T21:31:49.443Z"
   },
   {
    "duration": 0,
    "start_time": "2023-05-12T21:31:49.444Z"
   },
   {
    "duration": 0,
    "start_time": "2023-05-12T21:31:49.445Z"
   },
   {
    "duration": 0,
    "start_time": "2023-05-12T21:31:49.446Z"
   },
   {
    "duration": 0,
    "start_time": "2023-05-12T21:31:49.447Z"
   },
   {
    "duration": 0,
    "start_time": "2023-05-12T21:31:49.448Z"
   },
   {
    "duration": 0,
    "start_time": "2023-05-12T21:31:49.449Z"
   },
   {
    "duration": 0,
    "start_time": "2023-05-12T21:31:49.450Z"
   },
   {
    "duration": 0,
    "start_time": "2023-05-12T21:31:49.452Z"
   },
   {
    "duration": 0,
    "start_time": "2023-05-12T21:31:49.453Z"
   },
   {
    "duration": 0,
    "start_time": "2023-05-12T21:31:49.454Z"
   },
   {
    "duration": 0,
    "start_time": "2023-05-12T21:31:49.456Z"
   },
   {
    "duration": 4,
    "start_time": "2023-05-12T21:32:19.094Z"
   },
   {
    "duration": 181,
    "start_time": "2023-05-12T21:32:19.903Z"
   },
   {
    "duration": 5,
    "start_time": "2023-05-12T21:32:23.387Z"
   },
   {
    "duration": 21,
    "start_time": "2023-05-12T21:32:24.881Z"
   },
   {
    "duration": 7,
    "start_time": "2023-05-12T21:32:32.034Z"
   },
   {
    "duration": 54,
    "start_time": "2023-05-12T21:32:53.713Z"
   },
   {
    "duration": 62,
    "start_time": "2023-05-12T21:33:23.186Z"
   },
   {
    "duration": 70,
    "start_time": "2023-05-12T21:33:27.608Z"
   },
   {
    "duration": 5,
    "start_time": "2023-05-12T21:33:37.084Z"
   },
   {
    "duration": 8,
    "start_time": "2023-05-12T21:33:38.983Z"
   },
   {
    "duration": 18,
    "start_time": "2023-05-12T21:33:41.681Z"
   },
   {
    "duration": 29,
    "start_time": "2023-05-12T21:33:57.980Z"
   },
   {
    "duration": 192,
    "start_time": "2023-05-12T21:34:03.482Z"
   },
   {
    "duration": 28,
    "start_time": "2023-05-12T21:34:24.217Z"
   },
   {
    "duration": 44,
    "start_time": "2023-05-12T21:34:26.022Z"
   },
   {
    "duration": 195,
    "start_time": "2023-05-12T21:34:32.086Z"
   },
   {
    "duration": 41,
    "start_time": "2023-05-12T21:37:14.901Z"
   },
   {
    "duration": 4,
    "start_time": "2023-05-12T21:37:21.929Z"
   },
   {
    "duration": 218,
    "start_time": "2023-05-12T21:37:21.934Z"
   },
   {
    "duration": 6,
    "start_time": "2023-05-12T21:37:22.154Z"
   },
   {
    "duration": 33,
    "start_time": "2023-05-12T21:37:22.161Z"
   },
   {
    "duration": 20,
    "start_time": "2023-05-12T21:37:22.196Z"
   },
   {
    "duration": 66,
    "start_time": "2023-05-12T21:37:22.217Z"
   },
   {
    "duration": 55,
    "start_time": "2023-05-12T21:37:22.284Z"
   },
   {
    "duration": 66,
    "start_time": "2023-05-12T21:37:22.341Z"
   },
   {
    "duration": 17,
    "start_time": "2023-05-12T21:37:22.409Z"
   },
   {
    "duration": 24,
    "start_time": "2023-05-12T21:37:22.427Z"
   },
   {
    "duration": 32,
    "start_time": "2023-05-12T21:37:22.452Z"
   },
   {
    "duration": 31,
    "start_time": "2023-05-12T21:37:22.485Z"
   },
   {
    "duration": 211,
    "start_time": "2023-05-12T21:37:22.517Z"
   },
   {
    "duration": 29,
    "start_time": "2023-05-12T21:37:22.731Z"
   },
   {
    "duration": 67,
    "start_time": "2023-05-12T21:37:22.761Z"
   },
   {
    "duration": 214,
    "start_time": "2023-05-12T21:37:22.830Z"
   },
   {
    "duration": 33,
    "start_time": "2023-05-12T21:37:23.046Z"
   },
   {
    "duration": 56,
    "start_time": "2023-05-12T21:37:23.081Z"
   },
   {
    "duration": 23,
    "start_time": "2023-05-12T21:37:23.140Z"
   },
   {
    "duration": 68,
    "start_time": "2023-05-12T21:37:23.165Z"
   },
   {
    "duration": 55,
    "start_time": "2023-05-12T21:37:23.235Z"
   },
   {
    "duration": 5,
    "start_time": "2023-05-12T21:37:23.292Z"
   },
   {
    "duration": 28,
    "start_time": "2023-05-12T21:37:23.299Z"
   },
   {
    "duration": 16,
    "start_time": "2023-05-12T21:37:23.329Z"
   },
   {
    "duration": 13,
    "start_time": "2023-05-12T21:37:23.347Z"
   },
   {
    "duration": 59,
    "start_time": "2023-05-12T21:37:23.362Z"
   },
   {
    "duration": 38,
    "start_time": "2023-05-12T21:37:23.423Z"
   },
   {
    "duration": 30,
    "start_time": "2023-05-12T21:37:23.463Z"
   },
   {
    "duration": 43,
    "start_time": "2023-05-12T21:37:23.494Z"
   },
   {
    "duration": 7,
    "start_time": "2023-05-12T21:37:23.538Z"
   },
   {
    "duration": 74,
    "start_time": "2023-05-12T21:37:23.546Z"
   },
   {
    "duration": 48,
    "start_time": "2023-05-12T21:37:23.622Z"
   },
   {
    "duration": 68,
    "start_time": "2023-05-12T21:37:23.671Z"
   },
   {
    "duration": 53,
    "start_time": "2023-05-12T21:37:23.741Z"
   },
   {
    "duration": 68,
    "start_time": "2023-05-12T21:37:23.795Z"
   },
   {
    "duration": 60,
    "start_time": "2023-05-12T21:37:23.864Z"
   },
   {
    "duration": 54,
    "start_time": "2023-05-12T21:37:23.926Z"
   },
   {
    "duration": 83,
    "start_time": "2023-05-12T21:37:23.982Z"
   },
   {
    "duration": 63,
    "start_time": "2023-05-12T21:37:24.067Z"
   },
   {
    "duration": 45,
    "start_time": "2023-05-12T21:37:24.132Z"
   },
   {
    "duration": 64,
    "start_time": "2023-05-12T21:37:24.180Z"
   },
   {
    "duration": 44,
    "start_time": "2023-05-12T21:37:24.245Z"
   },
   {
    "duration": 8,
    "start_time": "2023-05-12T21:37:24.291Z"
   },
   {
    "duration": 89,
    "start_time": "2023-05-12T21:37:24.300Z"
   },
   {
    "duration": 72,
    "start_time": "2023-05-12T21:37:24.391Z"
   },
   {
    "duration": 64,
    "start_time": "2023-05-12T21:37:24.465Z"
   },
   {
    "duration": 47,
    "start_time": "2023-05-12T21:37:24.530Z"
   },
   {
    "duration": 1338,
    "start_time": "2023-05-13T10:46:46.321Z"
   },
   {
    "duration": 820,
    "start_time": "2023-05-13T10:46:47.661Z"
   },
   {
    "duration": 11,
    "start_time": "2023-05-13T10:46:48.482Z"
   },
   {
    "duration": 30,
    "start_time": "2023-05-13T10:46:48.496Z"
   },
   {
    "duration": 36,
    "start_time": "2023-05-13T10:46:48.528Z"
   },
   {
    "duration": 87,
    "start_time": "2023-05-13T10:46:48.566Z"
   },
   {
    "duration": 78,
    "start_time": "2023-05-13T10:46:48.655Z"
   },
   {
    "duration": 96,
    "start_time": "2023-05-13T10:46:48.736Z"
   },
   {
    "duration": 7,
    "start_time": "2023-05-13T10:46:48.834Z"
   },
   {
    "duration": 21,
    "start_time": "2023-05-13T10:46:48.859Z"
   },
   {
    "duration": 23,
    "start_time": "2023-05-13T10:46:48.883Z"
   },
   {
    "duration": 59,
    "start_time": "2023-05-13T10:46:48.909Z"
   },
   {
    "duration": 401,
    "start_time": "2023-05-13T10:46:48.970Z"
   },
   {
    "duration": 30,
    "start_time": "2023-05-13T10:46:49.373Z"
   },
   {
    "duration": 68,
    "start_time": "2023-05-13T10:46:49.405Z"
   },
   {
    "duration": 231,
    "start_time": "2023-05-13T10:46:49.475Z"
   },
   {
    "duration": 48,
    "start_time": "2023-05-13T10:46:49.708Z"
   },
   {
    "duration": 41,
    "start_time": "2023-05-13T10:46:49.758Z"
   },
   {
    "duration": 24,
    "start_time": "2023-05-13T10:46:49.800Z"
   },
   {
    "duration": 81,
    "start_time": "2023-05-13T10:46:49.826Z"
   },
   {
    "duration": 73,
    "start_time": "2023-05-13T10:46:49.909Z"
   },
   {
    "duration": 4,
    "start_time": "2023-05-13T10:46:49.984Z"
   },
   {
    "duration": 16,
    "start_time": "2023-05-13T10:46:49.990Z"
   },
   {
    "duration": 15,
    "start_time": "2023-05-13T10:46:50.008Z"
   },
   {
    "duration": 32,
    "start_time": "2023-05-13T10:46:50.025Z"
   },
   {
    "duration": 701,
    "start_time": "2023-05-13T10:46:50.060Z"
   },
   {
    "duration": 95,
    "start_time": "2023-05-13T10:46:50.762Z"
   },
   {
    "duration": 46,
    "start_time": "2023-05-13T10:46:50.862Z"
   },
   {
    "duration": 46,
    "start_time": "2023-05-13T10:46:50.957Z"
   },
   {
    "duration": 9,
    "start_time": "2023-05-13T10:46:51.006Z"
   },
   {
    "duration": 91,
    "start_time": "2023-05-13T10:46:51.018Z"
   },
   {
    "duration": 67,
    "start_time": "2023-05-13T10:46:51.111Z"
   },
   {
    "duration": 59,
    "start_time": "2023-05-13T10:46:51.180Z"
   },
   {
    "duration": 71,
    "start_time": "2023-05-13T10:46:51.241Z"
   },
   {
    "duration": 83,
    "start_time": "2023-05-13T10:46:51.315Z"
   },
   {
    "duration": 66,
    "start_time": "2023-05-13T10:46:51.401Z"
   },
   {
    "duration": 63,
    "start_time": "2023-05-13T10:46:51.469Z"
   },
   {
    "duration": 93,
    "start_time": "2023-05-13T10:46:51.534Z"
   },
   {
    "duration": 92,
    "start_time": "2023-05-13T10:46:51.629Z"
   },
   {
    "duration": 71,
    "start_time": "2023-05-13T10:46:51.724Z"
   },
   {
    "duration": 75,
    "start_time": "2023-05-13T10:46:51.797Z"
   },
   {
    "duration": 57,
    "start_time": "2023-05-13T10:46:51.874Z"
   },
   {
    "duration": 28,
    "start_time": "2023-05-13T10:46:51.933Z"
   },
   {
    "duration": 68,
    "start_time": "2023-05-13T10:46:51.962Z"
   },
   {
    "duration": 70,
    "start_time": "2023-05-13T10:46:52.032Z"
   },
   {
    "duration": 74,
    "start_time": "2023-05-13T10:46:52.104Z"
   },
   {
    "duration": 56,
    "start_time": "2023-05-13T10:46:52.180Z"
   },
   {
    "duration": 48,
    "start_time": "2023-05-13T17:00:11.926Z"
   },
   {
    "duration": 1445,
    "start_time": "2023-05-13T17:00:16.498Z"
   },
   {
    "duration": 955,
    "start_time": "2023-05-13T17:00:17.945Z"
   },
   {
    "duration": 11,
    "start_time": "2023-05-13T17:00:18.902Z"
   },
   {
    "duration": 21,
    "start_time": "2023-05-13T17:00:18.916Z"
   },
   {
    "duration": 11,
    "start_time": "2023-05-13T17:00:18.939Z"
   },
   {
    "duration": 80,
    "start_time": "2023-05-13T17:00:18.952Z"
   },
   {
    "duration": 90,
    "start_time": "2023-05-13T17:00:19.034Z"
   },
   {
    "duration": 99,
    "start_time": "2023-05-13T17:00:19.125Z"
   },
   {
    "duration": 17,
    "start_time": "2023-05-13T17:00:19.226Z"
   },
   {
    "duration": 17,
    "start_time": "2023-05-13T17:00:19.245Z"
   },
   {
    "duration": 46,
    "start_time": "2023-05-13T17:00:19.263Z"
   },
   {
    "duration": 31,
    "start_time": "2023-05-13T17:00:19.318Z"
   },
   {
    "duration": 361,
    "start_time": "2023-05-13T17:00:19.351Z"
   },
   {
    "duration": 28,
    "start_time": "2023-05-13T17:00:19.714Z"
   },
   {
    "duration": 77,
    "start_time": "2023-05-13T17:00:19.743Z"
   },
   {
    "duration": 241,
    "start_time": "2023-05-13T17:00:19.821Z"
   },
   {
    "duration": 56,
    "start_time": "2023-05-13T17:00:20.064Z"
   },
   {
    "duration": 36,
    "start_time": "2023-05-13T17:00:20.122Z"
   },
   {
    "duration": 52,
    "start_time": "2023-05-13T17:00:20.160Z"
   },
   {
    "duration": 55,
    "start_time": "2023-05-13T17:00:20.214Z"
   },
   {
    "duration": 71,
    "start_time": "2023-05-13T17:00:20.272Z"
   },
   {
    "duration": 4,
    "start_time": "2023-05-13T17:00:20.345Z"
   },
   {
    "duration": 33,
    "start_time": "2023-05-13T17:00:20.351Z"
   },
   {
    "duration": 31,
    "start_time": "2023-05-13T17:00:20.385Z"
   },
   {
    "duration": 30,
    "start_time": "2023-05-13T17:00:20.417Z"
   },
   {
    "duration": 518,
    "start_time": "2023-05-13T17:00:20.448Z"
   },
   {
    "duration": 36,
    "start_time": "2023-05-13T17:00:20.968Z"
   },
   {
    "duration": 89,
    "start_time": "2023-05-13T17:00:21.008Z"
   },
   {
    "duration": 49,
    "start_time": "2023-05-13T17:00:21.101Z"
   },
   {
    "duration": 11,
    "start_time": "2023-05-13T17:00:21.178Z"
   },
   {
    "duration": 84,
    "start_time": "2023-05-13T17:00:21.191Z"
   },
   {
    "duration": 56,
    "start_time": "2023-05-13T17:00:21.280Z"
   },
   {
    "duration": 57,
    "start_time": "2023-05-13T17:00:21.338Z"
   },
   {
    "duration": 49,
    "start_time": "2023-05-13T17:00:21.396Z"
   },
   {
    "duration": 78,
    "start_time": "2023-05-13T17:00:21.448Z"
   },
   {
    "duration": 67,
    "start_time": "2023-05-13T17:00:21.527Z"
   },
   {
    "duration": 56,
    "start_time": "2023-05-13T17:00:21.596Z"
   },
   {
    "duration": 72,
    "start_time": "2023-05-13T17:00:21.653Z"
   },
   {
    "duration": 82,
    "start_time": "2023-05-13T17:00:21.727Z"
   },
   {
    "duration": 50,
    "start_time": "2023-05-13T17:00:21.812Z"
   },
   {
    "duration": 66,
    "start_time": "2023-05-13T17:00:21.863Z"
   },
   {
    "duration": 70,
    "start_time": "2023-05-13T17:00:21.931Z"
   },
   {
    "duration": 10,
    "start_time": "2023-05-13T17:00:22.003Z"
   },
   {
    "duration": 59,
    "start_time": "2023-05-13T17:00:22.015Z"
   },
   {
    "duration": 61,
    "start_time": "2023-05-13T17:00:22.076Z"
   },
   {
    "duration": 74,
    "start_time": "2023-05-13T17:00:22.139Z"
   },
   {
    "duration": 83,
    "start_time": "2023-05-13T17:00:22.215Z"
   },
   {
    "duration": 194,
    "start_time": "2023-05-13T17:05:49.243Z"
   },
   {
    "duration": 1056,
    "start_time": "2023-05-13T17:09:30.297Z"
   },
   {
    "duration": 1009,
    "start_time": "2023-05-13T17:09:44.498Z"
   },
   {
    "duration": 62,
    "start_time": "2023-05-13T17:10:14.046Z"
   },
   {
    "duration": 57,
    "start_time": "2023-05-13T17:10:33.431Z"
   },
   {
    "duration": 1021,
    "start_time": "2023-05-13T17:11:03.798Z"
   },
   {
    "duration": 54,
    "start_time": "2023-05-13T17:12:38.609Z"
   },
   {
    "duration": 38,
    "start_time": "2023-05-13T17:12:46.129Z"
   },
   {
    "duration": 72,
    "start_time": "2023-05-13T17:14:05.512Z"
   },
   {
    "duration": 77,
    "start_time": "2023-05-13T17:15:57.324Z"
   },
   {
    "duration": 88,
    "start_time": "2023-05-13T17:16:11.875Z"
   },
   {
    "duration": 48,
    "start_time": "2023-05-13T17:16:19.535Z"
   },
   {
    "duration": 75,
    "start_time": "2023-05-13T17:17:42.232Z"
   },
   {
    "duration": 69,
    "start_time": "2023-05-13T17:19:01.424Z"
   },
   {
    "duration": 1025,
    "start_time": "2023-05-13T17:19:26.418Z"
   },
   {
    "duration": 52,
    "start_time": "2023-05-13T17:19:58.606Z"
   },
   {
    "duration": 1007,
    "start_time": "2023-05-13T17:20:05.069Z"
   },
   {
    "duration": 55,
    "start_time": "2023-05-13T17:20:29.815Z"
   },
   {
    "duration": 55,
    "start_time": "2023-05-13T17:20:36.617Z"
   },
   {
    "duration": 66,
    "start_time": "2023-05-13T17:20:41.644Z"
   },
   {
    "duration": 63,
    "start_time": "2023-05-13T17:29:20.285Z"
   },
   {
    "duration": 64,
    "start_time": "2023-05-13T17:29:36.130Z"
   },
   {
    "duration": 1087,
    "start_time": "2023-05-13T17:29:59.842Z"
   },
   {
    "duration": 831,
    "start_time": "2023-05-13T17:30:13.701Z"
   },
   {
    "duration": 48,
    "start_time": "2023-05-13T17:30:28.319Z"
   },
   {
    "duration": 47,
    "start_time": "2023-05-13T17:33:43.619Z"
   },
   {
    "duration": 77,
    "start_time": "2023-05-13T17:35:11.925Z"
   },
   {
    "duration": 125,
    "start_time": "2023-05-13T17:37:32.334Z"
   },
   {
    "duration": 162,
    "start_time": "2023-05-13T17:40:20.712Z"
   },
   {
    "duration": 6,
    "start_time": "2023-05-13T17:47:26.798Z"
   },
   {
    "duration": 251,
    "start_time": "2023-05-13T17:47:26.808Z"
   },
   {
    "duration": 25,
    "start_time": "2023-05-13T17:47:27.060Z"
   },
   {
    "duration": 20,
    "start_time": "2023-05-13T17:47:27.095Z"
   },
   {
    "duration": 23,
    "start_time": "2023-05-13T17:47:27.118Z"
   },
   {
    "duration": 108,
    "start_time": "2023-05-13T17:47:27.142Z"
   },
   {
    "duration": 107,
    "start_time": "2023-05-13T17:47:27.252Z"
   },
   {
    "duration": 129,
    "start_time": "2023-05-13T17:47:27.361Z"
   },
   {
    "duration": 8,
    "start_time": "2023-05-13T17:47:27.500Z"
   },
   {
    "duration": 12,
    "start_time": "2023-05-13T17:47:27.510Z"
   },
   {
    "duration": 43,
    "start_time": "2023-05-13T17:47:27.525Z"
   },
   {
    "duration": 50,
    "start_time": "2023-05-13T17:47:27.570Z"
   },
   {
    "duration": 260,
    "start_time": "2023-05-13T17:47:27.623Z"
   },
   {
    "duration": 31,
    "start_time": "2023-05-13T17:47:27.887Z"
   },
   {
    "duration": 70,
    "start_time": "2023-05-13T17:47:27.920Z"
   },
   {
    "duration": 222,
    "start_time": "2023-05-13T17:47:27.991Z"
   },
   {
    "duration": 40,
    "start_time": "2023-05-13T17:47:28.215Z"
   },
   {
    "duration": 56,
    "start_time": "2023-05-13T17:47:28.257Z"
   },
   {
    "duration": 21,
    "start_time": "2023-05-13T17:47:28.314Z"
   },
   {
    "duration": 91,
    "start_time": "2023-05-13T17:47:28.337Z"
   },
   {
    "duration": 68,
    "start_time": "2023-05-13T17:47:28.430Z"
   },
   {
    "duration": 5,
    "start_time": "2023-05-13T17:47:28.500Z"
   },
   {
    "duration": 16,
    "start_time": "2023-05-13T17:47:28.507Z"
   },
   {
    "duration": 14,
    "start_time": "2023-05-13T17:47:28.524Z"
   },
   {
    "duration": 27,
    "start_time": "2023-05-13T17:47:28.540Z"
   },
   {
    "duration": 128,
    "start_time": "2023-05-13T17:47:28.569Z"
   },
   {
    "duration": 39,
    "start_time": "2023-05-13T17:47:28.699Z"
   },
   {
    "duration": 46,
    "start_time": "2023-05-13T17:47:28.739Z"
   },
   {
    "duration": 39,
    "start_time": "2023-05-13T17:47:28.791Z"
   },
   {
    "duration": 9,
    "start_time": "2023-05-13T17:47:28.832Z"
   },
   {
    "duration": 82,
    "start_time": "2023-05-13T17:47:28.843Z"
   },
   {
    "duration": 61,
    "start_time": "2023-05-13T17:47:28.927Z"
   },
   {
    "duration": 62,
    "start_time": "2023-05-13T17:47:28.992Z"
   },
   {
    "duration": 63,
    "start_time": "2023-05-13T17:47:29.055Z"
   },
   {
    "duration": 77,
    "start_time": "2023-05-13T17:47:29.120Z"
   },
   {
    "duration": 50,
    "start_time": "2023-05-13T17:47:29.199Z"
   },
   {
    "duration": 66,
    "start_time": "2023-05-13T17:47:29.251Z"
   },
   {
    "duration": 69,
    "start_time": "2023-05-13T17:47:29.319Z"
   },
   {
    "duration": 68,
    "start_time": "2023-05-13T17:47:29.391Z"
   },
   {
    "duration": 93,
    "start_time": "2023-05-13T17:47:29.462Z"
   },
   {
    "duration": 67,
    "start_time": "2023-05-13T17:47:29.560Z"
   },
   {
    "duration": 73,
    "start_time": "2023-05-13T17:47:29.628Z"
   },
   {
    "duration": 10,
    "start_time": "2023-05-13T17:47:29.703Z"
   },
   {
    "duration": 77,
    "start_time": "2023-05-13T17:47:29.714Z"
   },
   {
    "duration": 62,
    "start_time": "2023-05-13T17:47:29.795Z"
   },
   {
    "duration": 78,
    "start_time": "2023-05-13T17:47:29.859Z"
   },
   {
    "duration": 72,
    "start_time": "2023-05-13T17:47:29.939Z"
   },
   {
    "duration": 1207,
    "start_time": "2023-05-14T00:05:50.393Z"
   },
   {
    "duration": 841,
    "start_time": "2023-05-14T00:05:51.602Z"
   },
   {
    "duration": 10,
    "start_time": "2023-05-14T00:05:52.444Z"
   },
   {
    "duration": 30,
    "start_time": "2023-05-14T00:05:52.456Z"
   },
   {
    "duration": 12,
    "start_time": "2023-05-14T00:05:52.488Z"
   },
   {
    "duration": 76,
    "start_time": "2023-05-14T00:05:52.501Z"
   },
   {
    "duration": 93,
    "start_time": "2023-05-14T00:05:52.578Z"
   },
   {
    "duration": 71,
    "start_time": "2023-05-14T00:05:52.673Z"
   },
   {
    "duration": 23,
    "start_time": "2023-05-14T00:05:52.746Z"
   },
   {
    "duration": 19,
    "start_time": "2023-05-14T00:05:52.770Z"
   },
   {
    "duration": 17,
    "start_time": "2023-05-14T00:05:52.790Z"
   },
   {
    "duration": 30,
    "start_time": "2023-05-14T00:05:52.808Z"
   },
   {
    "duration": 284,
    "start_time": "2023-05-14T00:05:52.840Z"
   },
   {
    "duration": 43,
    "start_time": "2023-05-14T00:05:53.128Z"
   },
   {
    "duration": 49,
    "start_time": "2023-05-14T00:05:53.173Z"
   },
   {
    "duration": 224,
    "start_time": "2023-05-14T00:05:53.224Z"
   },
   {
    "duration": 40,
    "start_time": "2023-05-14T00:05:53.450Z"
   },
   {
    "duration": 36,
    "start_time": "2023-05-14T00:05:53.491Z"
   },
   {
    "duration": 43,
    "start_time": "2023-05-14T00:05:53.529Z"
   },
   {
    "duration": 49,
    "start_time": "2023-05-14T00:05:53.574Z"
   },
   {
    "duration": 69,
    "start_time": "2023-05-14T00:05:53.625Z"
   },
   {
    "duration": 4,
    "start_time": "2023-05-14T00:05:53.696Z"
   },
   {
    "duration": 12,
    "start_time": "2023-05-14T00:05:53.701Z"
   },
   {
    "duration": 26,
    "start_time": "2023-05-14T00:05:53.715Z"
   },
   {
    "duration": 8,
    "start_time": "2023-05-14T00:05:53.743Z"
   },
   {
    "duration": 683,
    "start_time": "2023-05-14T00:05:53.752Z"
   },
   {
    "duration": 47,
    "start_time": "2023-05-14T00:05:54.437Z"
   },
   {
    "duration": 90,
    "start_time": "2023-05-14T00:05:54.486Z"
   },
   {
    "duration": 43,
    "start_time": "2023-05-14T00:05:54.578Z"
   },
   {
    "duration": 7,
    "start_time": "2023-05-14T00:05:54.624Z"
   },
   {
    "duration": 62,
    "start_time": "2023-05-14T00:05:54.655Z"
   },
   {
    "duration": 71,
    "start_time": "2023-05-14T00:05:54.719Z"
   },
   {
    "duration": 49,
    "start_time": "2023-05-14T00:05:54.791Z"
   },
   {
    "duration": 59,
    "start_time": "2023-05-14T00:05:54.845Z"
   },
   {
    "duration": 67,
    "start_time": "2023-05-14T00:05:54.906Z"
   },
   {
    "duration": 49,
    "start_time": "2023-05-14T00:05:54.974Z"
   },
   {
    "duration": 73,
    "start_time": "2023-05-14T00:05:55.024Z"
   },
   {
    "duration": 46,
    "start_time": "2023-05-14T00:05:55.099Z"
   },
   {
    "duration": 67,
    "start_time": "2023-05-14T00:05:55.146Z"
   },
   {
    "duration": 63,
    "start_time": "2023-05-14T00:05:55.215Z"
   },
   {
    "duration": 47,
    "start_time": "2023-05-14T00:05:55.281Z"
   },
   {
    "duration": 64,
    "start_time": "2023-05-14T00:05:55.330Z"
   },
   {
    "duration": 6,
    "start_time": "2023-05-14T00:05:55.396Z"
   },
   {
    "duration": 66,
    "start_time": "2023-05-14T00:05:55.403Z"
   },
   {
    "duration": 51,
    "start_time": "2023-05-14T00:05:55.471Z"
   },
   {
    "duration": 75,
    "start_time": "2023-05-14T00:05:55.524Z"
   },
   {
    "duration": 64,
    "start_time": "2023-05-14T00:05:55.600Z"
   }
  ],
  "kernelspec": {
   "display_name": "Python 3 (ipykernel)",
   "language": "python",
   "name": "python3"
  },
  "language_info": {
   "codemirror_mode": {
    "name": "ipython",
    "version": 3
   },
   "file_extension": ".py",
   "mimetype": "text/x-python",
   "name": "python",
   "nbconvert_exporter": "python",
   "pygments_lexer": "ipython3",
   "version": "3.9.13"
  },
  "toc": {
   "base_numbering": 1,
   "nav_menu": {},
   "number_sections": true,
   "sideBar": true,
   "skip_h1_title": true,
   "title_cell": "Table of Contents",
   "title_sidebar": "Contents",
   "toc_cell": false,
   "toc_position": {},
   "toc_section_display": true,
   "toc_window_display": false
  }
 },
 "nbformat": 4,
 "nbformat_minor": 2
}
