{
 "cells": [
  {
   "cell_type": "markdown",
   "id": "ff0f8fd5",
   "metadata": {},
   "source": [
    "# Проект: Банки — Анализ оттока клиентов"
   ]
  },
  {
   "cell_type": "markdown",
   "id": "ca621786",
   "metadata": {},
   "source": [
    "## Материалы:\n",
    "* [Презентация] https://disk.yandex.ru/i/E1NL4ZHX2AAMAg\n",
    "* [Дашборд] https://public.tableau.com/views/_16915858546610/Dashboard1?:language=en-US&publish=yes&:display_count=n&:origin=viz_share_link"
   ]
  },
  {
   "cell_type": "markdown",
   "id": "44597323",
   "metadata": {},
   "source": [
    "**Заказчик** - отдел маркетинга “Метанпромбанка”.<br>\n",
    "<br>\n",
    "**Описание проекта:**<br>\n",
    "    Банковские маркетологи ещё на заре времён выяснили, что удерживать старых клиентов дешевле, чем привлекать новых, задача - помочь им в этом, чтобы «Метанпромбанк» рос, крепчал и развивался. \n",
    "    Главной задачей является анализ оттока клиентов. Анализ покажет, какие клиенты уходят из банка, а также поможет составить сегменты клиентов, которые склонны уходить из банка.<br>\n",
    "    <br>\n",
    "**Цель проекта:** <br>В банке повысился отток, и с этим нужно что-то делать. Нужно проанализировать клиентов регионального банка и выделить сегменты клиентов, которые склонны уходить из банка.<br>\n",
    "<br>\n",
    "**Ретроспектива:**<br> Ранее было проведено исследование оттока, составлены\n",
    "дэшборды и выделены сегменты, но клиентская база поменялась, и текущие\n",
    "решения не работают.<br>\n",
    "<br>\n",
    "**Конечный результат:** - Выделены отточные сегменты, даны рекомендации по его\n",
    "снижению.<br>\n",
    "<br>\n"
   ]
  },
  {
   "cell_type": "markdown",
   "id": "8854272e",
   "metadata": {},
   "source": [
    "**Этапы проекта:**\n",
    "1. Загрузка и описание данных. <br>"
   ]
  },
  {
   "cell_type": "markdown",
   "id": "fc33f4e9",
   "metadata": {},
   "source": [
    "2. Подготовка данных:<br>\n",
    "- анализ природы пропусков и их разумная обработка;<br>\n",
    "- кодирование (для использования в анализе корреляции).<br>"
   ]
  },
  {
   "cell_type": "markdown",
   "id": "66d45731",
   "metadata": {},
   "source": [
    "3. EDA:<br>\n",
    "- анализ распределения признаков, в тч в разрезе оттока;<br>\n",
    "- анализ портретов клиентов в разрезе оттока;<br>\n",
    "- корреляционный анализ (в тч интерпретация).<br>"
   ]
  },
  {
   "cell_type": "markdown",
   "id": "9a00a03d",
   "metadata": {},
   "source": [
    "4. Проверка статистических гипотез - минимум две (чем неочевиднее, тем интереснее), не\n",
    "забываем про обоснование инструмента.<br>"
   ]
  },
  {
   "cell_type": "markdown",
   "id": "7a78413f",
   "metadata": {},
   "source": [
    "5. Подведение промежуточных итогов - выводы по результатам EDA, корреляционного анализа\n",
    "и гипотез, выделение признаков, влияющих на оттток.<br>"
   ]
  },
  {
   "cell_type": "markdown",
   "id": "2aafd436",
   "metadata": {},
   "source": [
    "6. Сегментация (неузкие сегменты; отток лучше, чем средний уровень оттока по банку).<br>"
   ]
  },
  {
   "cell_type": "markdown",
   "id": "70caeb4d",
   "metadata": {},
   "source": [
    "7. Выводы, приоритизация сегментов и формирование рекомендаций (таргетированных) по\n",
    "работе с ними. <br>"
   ]
  },
  {
   "cell_type": "markdown",
   "id": "61ea984c",
   "metadata": {},
   "source": [
    "8. Дашборд."
   ]
  },
  {
   "cell_type": "markdown",
   "id": "256c35f3",
   "metadata": {},
   "source": [
    "9. Презентация."
   ]
  },
  {
   "cell_type": "markdown",
   "id": "6fc22754",
   "metadata": {},
   "source": [
    "### Загрузка и описание данных:"
   ]
  },
  {
   "cell_type": "markdown",
   "id": "23fc016e",
   "metadata": {},
   "source": [
    "**Загрузим библиотеки:**"
   ]
  },
  {
   "cell_type": "code",
   "execution_count": 2,
   "id": "dd5a78d8",
   "metadata": {},
   "outputs": [
    {
     "name": "stdout",
     "output_type": "stream",
     "text": [
      "Requirement already satisfied: phik in c:\\users\\volsi\\anaconda3\\lib\\site-packages (0.11.2)\n",
      "Requirement already satisfied: matplotlib>=2.2.3 in c:\\users\\volsi\\anaconda3\\lib\\site-packages (from phik) (3.5.2)\n",
      "Requirement already satisfied: scipy>=1.5.2 in c:\\users\\volsi\\anaconda3\\lib\\site-packages (from phik) (1.9.1)\n",
      "Requirement already satisfied: pandas>=0.25.1 in c:\\users\\volsi\\anaconda3\\lib\\site-packages (from phik) (1.4.4)\n",
      "Requirement already satisfied: numpy>=1.18.0 in c:\\users\\volsi\\anaconda3\\lib\\site-packages (from phik) (1.21.5)\n",
      "Requirement already satisfied: joblib>=0.14.1 in c:\\users\\volsi\\anaconda3\\lib\\site-packages (from phik) (1.1.0)\n",
      "Requirement already satisfied: kiwisolver>=1.0.1 in c:\\users\\volsi\\anaconda3\\lib\\site-packages (from matplotlib>=2.2.3->phik) (1.4.2)\n",
      "Requirement already satisfied: pillow>=6.2.0 in c:\\users\\volsi\\anaconda3\\lib\\site-packages (from matplotlib>=2.2.3->phik) (9.2.0)\n",
      "Requirement already satisfied: packaging>=20.0 in c:\\users\\volsi\\anaconda3\\lib\\site-packages (from matplotlib>=2.2.3->phik) (21.3)\n",
      "Requirement already satisfied: cycler>=0.10 in c:\\users\\volsi\\anaconda3\\lib\\site-packages (from matplotlib>=2.2.3->phik) (0.11.0)\n",
      "Requirement already satisfied: fonttools>=4.22.0 in c:\\users\\volsi\\anaconda3\\lib\\site-packages (from matplotlib>=2.2.3->phik) (4.25.0)\n",
      "Requirement already satisfied: python-dateutil>=2.7 in c:\\users\\volsi\\anaconda3\\lib\\site-packages (from matplotlib>=2.2.3->phik) (2.8.2)\n",
      "Requirement already satisfied: pyparsing>=2.2.1 in c:\\users\\volsi\\anaconda3\\lib\\site-packages (from matplotlib>=2.2.3->phik) (3.0.9)\n",
      "Requirement already satisfied: pytz>=2020.1 in c:\\users\\volsi\\anaconda3\\lib\\site-packages (from pandas>=0.25.1->phik) (2022.1)\n",
      "Requirement already satisfied: six>=1.5 in c:\\users\\volsi\\anaconda3\\lib\\site-packages (from python-dateutil>=2.7->matplotlib>=2.2.3->phik) (1.16.0)\n"
     ]
    }
   ],
   "source": [
    "!pip install phik\n",
    "import pandas as pd \n",
    "import seaborn as sns\n",
    "import matplotlib.pyplot as plt\n",
    "import phik\n",
    "from scipy import stats as st\n",
    "import numpy as np\n",
    "import pandas as pd"
   ]
  },
  {
   "cell_type": "markdown",
   "id": "baa67243",
   "metadata": {},
   "source": [
    "**Загрузим файл с данными и выведем первые 5 строк:**"
   ]
  },
  {
   "cell_type": "code",
   "execution_count": 3,
   "id": "d3d6644a",
   "metadata": {},
   "outputs": [
    {
     "data": {
      "text/html": [
       "<div>\n",
       "<style scoped>\n",
       "    .dataframe tbody tr th:only-of-type {\n",
       "        vertical-align: middle;\n",
       "    }\n",
       "\n",
       "    .dataframe tbody tr th {\n",
       "        vertical-align: top;\n",
       "    }\n",
       "\n",
       "    .dataframe thead th {\n",
       "        text-align: right;\n",
       "    }\n",
       "</style>\n",
       "<table border=\"1\" class=\"dataframe\">\n",
       "  <thead>\n",
       "    <tr style=\"text-align: right;\">\n",
       "      <th></th>\n",
       "      <th>USERID</th>\n",
       "      <th>score</th>\n",
       "      <th>city</th>\n",
       "      <th>gender</th>\n",
       "      <th>age</th>\n",
       "      <th>equity</th>\n",
       "      <th>balance</th>\n",
       "      <th>products</th>\n",
       "      <th>credit_card</th>\n",
       "      <th>last_activity</th>\n",
       "      <th>EST_SALARY</th>\n",
       "      <th>churn</th>\n",
       "    </tr>\n",
       "  </thead>\n",
       "  <tbody>\n",
       "    <tr>\n",
       "      <th>0</th>\n",
       "      <td>183012</td>\n",
       "      <td>850.0</td>\n",
       "      <td>Рыбинск</td>\n",
       "      <td>Ж</td>\n",
       "      <td>25.0</td>\n",
       "      <td>1</td>\n",
       "      <td>59214.82</td>\n",
       "      <td>2</td>\n",
       "      <td>0</td>\n",
       "      <td>1</td>\n",
       "      <td>75719.14</td>\n",
       "      <td>1</td>\n",
       "    </tr>\n",
       "    <tr>\n",
       "      <th>1</th>\n",
       "      <td>146556</td>\n",
       "      <td>861.0</td>\n",
       "      <td>Рыбинск</td>\n",
       "      <td>Ж</td>\n",
       "      <td>37.0</td>\n",
       "      <td>5</td>\n",
       "      <td>850594.33</td>\n",
       "      <td>3</td>\n",
       "      <td>1</td>\n",
       "      <td>0</td>\n",
       "      <td>86621.77</td>\n",
       "      <td>0</td>\n",
       "    </tr>\n",
       "    <tr>\n",
       "      <th>2</th>\n",
       "      <td>120722</td>\n",
       "      <td>892.0</td>\n",
       "      <td>Рыбинск</td>\n",
       "      <td>Ж</td>\n",
       "      <td>30.0</td>\n",
       "      <td>0</td>\n",
       "      <td>NaN</td>\n",
       "      <td>1</td>\n",
       "      <td>1</td>\n",
       "      <td>1</td>\n",
       "      <td>107683.34</td>\n",
       "      <td>0</td>\n",
       "    </tr>\n",
       "    <tr>\n",
       "      <th>3</th>\n",
       "      <td>225363</td>\n",
       "      <td>866.0</td>\n",
       "      <td>Ярославль</td>\n",
       "      <td>Ж</td>\n",
       "      <td>51.0</td>\n",
       "      <td>5</td>\n",
       "      <td>1524746.26</td>\n",
       "      <td>2</td>\n",
       "      <td>0</td>\n",
       "      <td>1</td>\n",
       "      <td>174423.53</td>\n",
       "      <td>1</td>\n",
       "    </tr>\n",
       "    <tr>\n",
       "      <th>4</th>\n",
       "      <td>157978</td>\n",
       "      <td>730.0</td>\n",
       "      <td>Ярославль</td>\n",
       "      <td>М</td>\n",
       "      <td>34.0</td>\n",
       "      <td>5</td>\n",
       "      <td>174.00</td>\n",
       "      <td>1</td>\n",
       "      <td>1</td>\n",
       "      <td>0</td>\n",
       "      <td>67353.16</td>\n",
       "      <td>1</td>\n",
       "    </tr>\n",
       "  </tbody>\n",
       "</table>\n",
       "</div>"
      ],
      "text/plain": [
       "   USERID  score       city gender   age  equity     balance  products  \\\n",
       "0  183012  850.0    Рыбинск      Ж  25.0       1    59214.82         2   \n",
       "1  146556  861.0    Рыбинск      Ж  37.0       5   850594.33         3   \n",
       "2  120722  892.0    Рыбинск      Ж  30.0       0         NaN         1   \n",
       "3  225363  866.0  Ярославль      Ж  51.0       5  1524746.26         2   \n",
       "4  157978  730.0  Ярославль      М  34.0       5      174.00         1   \n",
       "\n",
       "   credit_card  last_activity  EST_SALARY  churn  \n",
       "0            0              1    75719.14      1  \n",
       "1            1              0    86621.77      0  \n",
       "2            1              1   107683.34      0  \n",
       "3            0              1   174423.53      1  \n",
       "4            1              0    67353.16      1  "
      ]
     },
     "execution_count": 3,
     "metadata": {},
     "output_type": "execute_result"
    }
   ],
   "source": [
    "path = \"https://drive.google.com/uc?export=download&id=1-U61mhTz_N1ARjy2XSAZ7IlQqGjeqP0F\" \n",
    "df = pd.read_csv(path)\n",
    "df.head()"
   ]
  },
  {
   "cell_type": "markdown",
   "id": "f93a51b6",
   "metadata": {},
   "source": [
    "**Данные загружены**"
   ]
  },
  {
   "cell_type": "markdown",
   "id": "2e851aac",
   "metadata": {},
   "source": [
    "### Подготовка данных:"
   ]
  },
  {
   "cell_type": "markdown",
   "id": "2b38c421",
   "metadata": {},
   "source": [
    "#### Анализ природы пропусков и их разумная обработка"
   ]
  },
  {
   "cell_type": "code",
   "execution_count": 4,
   "id": "41feb66e",
   "metadata": {},
   "outputs": [
    {
     "name": "stdout",
     "output_type": "stream",
     "text": [
      "<class 'pandas.core.frame.DataFrame'>\n",
      "RangeIndex: 10000 entries, 0 to 9999\n",
      "Data columns (total 12 columns):\n",
      " #   Column         Non-Null Count  Dtype  \n",
      "---  ------         --------------  -----  \n",
      " 0   USERID         10000 non-null  int64  \n",
      " 1   score          10000 non-null  float64\n",
      " 2   city           10000 non-null  object \n",
      " 3   gender         10000 non-null  object \n",
      " 4   age            9974 non-null   float64\n",
      " 5   equity         10000 non-null  int64  \n",
      " 6   balance        7705 non-null   float64\n",
      " 7   products       10000 non-null  int64  \n",
      " 8   credit_card    10000 non-null  int64  \n",
      " 9   last_activity  10000 non-null  int64  \n",
      " 10  EST_SALARY     10000 non-null  float64\n",
      " 11  churn          10000 non-null  int64  \n",
      "dtypes: float64(4), int64(6), object(2)\n",
      "memory usage: 937.6+ KB\n"
     ]
    }
   ],
   "source": [
    "df.info()"
   ]
  },
  {
   "cell_type": "markdown",
   "id": "0e461550",
   "metadata": {},
   "source": [
    "**Датафрейм состоит из 10000 записей. Пропуски имеются в двух полях: \"age\" и \"balance\" из 12, следовательно, они не являются полностью случайными, то есть не относятся к категории MCAR. Нужно проверить, относятся ли они к категории MAR или MNAR.**"
   ]
  },
  {
   "cell_type": "markdown",
   "id": "f9644b42",
   "metadata": {},
   "source": [
    "**Создадим новые признаки пропусков для столбцов balance и age:**"
   ]
  },
  {
   "cell_type": "code",
   "execution_count": 5,
   "id": "6acacf66",
   "metadata": {},
   "outputs": [],
   "source": [
    "df['age_skip'] = df['age'].isna()\n",
    "df['balance_skip'] = df['balance'].isna()"
   ]
  },
  {
   "cell_type": "markdown",
   "id": "d45c3837",
   "metadata": {},
   "source": [
    "**Посчитаем меры центральной тенденции в разрезе пропусков в столбце \"balance\":**"
   ]
  },
  {
   "cell_type": "code",
   "execution_count": 6,
   "id": "2e4dcdf3",
   "metadata": {
    "scrolled": true
   },
   "outputs": [
    {
     "data": {
      "text/html": [
       "<div>\n",
       "<style scoped>\n",
       "    .dataframe tbody tr th:only-of-type {\n",
       "        vertical-align: middle;\n",
       "    }\n",
       "\n",
       "    .dataframe tbody tr th {\n",
       "        vertical-align: top;\n",
       "    }\n",
       "\n",
       "    .dataframe thead th {\n",
       "        text-align: right;\n",
       "    }\n",
       "</style>\n",
       "<table border=\"1\" class=\"dataframe\">\n",
       "  <thead>\n",
       "    <tr style=\"text-align: right;\">\n",
       "      <th></th>\n",
       "      <th>Признак</th>\n",
       "      <th>Значение не пропущено</th>\n",
       "      <th>Значение пропущено</th>\n",
       "      <th>Относительная разница, %</th>\n",
       "    </tr>\n",
       "  </thead>\n",
       "  <tbody>\n",
       "    <tr>\n",
       "      <th>0</th>\n",
       "      <td>EST_SALARY</td>\n",
       "      <td>124501.872366</td>\n",
       "      <td>226310.208654</td>\n",
       "      <td>81.772534</td>\n",
       "    </tr>\n",
       "    <tr>\n",
       "      <th>1</th>\n",
       "      <td>age</td>\n",
       "      <td>42.924366</td>\n",
       "      <td>42.093023</td>\n",
       "      <td>-1.936763</td>\n",
       "    </tr>\n",
       "    <tr>\n",
       "      <th>2</th>\n",
       "      <td>balance</td>\n",
       "      <td>524272.2</td>\n",
       "      <td>NaN</td>\n",
       "      <td>NaN</td>\n",
       "    </tr>\n",
       "    <tr>\n",
       "      <th>3</th>\n",
       "      <td>city</td>\n",
       "      <td>Ярославль</td>\n",
       "      <td>Ярославль</td>\n",
       "      <td>NaN</td>\n",
       "    </tr>\n",
       "    <tr>\n",
       "      <th>4</th>\n",
       "      <td>credit_card</td>\n",
       "      <td>1</td>\n",
       "      <td>1</td>\n",
       "      <td>NaN</td>\n",
       "    </tr>\n",
       "    <tr>\n",
       "      <th>5</th>\n",
       "      <td>equity</td>\n",
       "      <td>3.395068</td>\n",
       "      <td>0.05098</td>\n",
       "      <td>NaN</td>\n",
       "    </tr>\n",
       "    <tr>\n",
       "      <th>6</th>\n",
       "      <td>gender</td>\n",
       "      <td>Ж</td>\n",
       "      <td>М</td>\n",
       "      <td>NaN</td>\n",
       "    </tr>\n",
       "    <tr>\n",
       "      <th>7</th>\n",
       "      <td>last_activity</td>\n",
       "      <td>1</td>\n",
       "      <td>1</td>\n",
       "      <td>NaN</td>\n",
       "    </tr>\n",
       "    <tr>\n",
       "      <th>8</th>\n",
       "      <td>products</td>\n",
       "      <td>2</td>\n",
       "      <td>1</td>\n",
       "      <td>-50.000000</td>\n",
       "    </tr>\n",
       "    <tr>\n",
       "      <th>9</th>\n",
       "      <td>score</td>\n",
       "      <td>843.73926</td>\n",
       "      <td>865.35207</td>\n",
       "      <td>NaN</td>\n",
       "    </tr>\n",
       "  </tbody>\n",
       "</table>\n",
       "</div>"
      ],
      "text/plain": [
       "         Признак Значение не пропущено  Значение пропущено  \\\n",
       "0     EST_SALARY         124501.872366       226310.208654   \n",
       "1            age             42.924366           42.093023   \n",
       "2        balance              524272.2                 NaN   \n",
       "3           city             Ярославль           Ярославль   \n",
       "4    credit_card                     1                   1   \n",
       "5         equity              3.395068             0.05098   \n",
       "6         gender                     Ж                   М   \n",
       "7  last_activity                     1                   1   \n",
       "8       products                     2                   1   \n",
       "9          score             843.73926           865.35207   \n",
       "\n",
       "   Относительная разница, %  \n",
       "0                 81.772534  \n",
       "1                 -1.936763  \n",
       "2                       NaN  \n",
       "3                       NaN  \n",
       "4                       NaN  \n",
       "5                       NaN  \n",
       "6                       NaN  \n",
       "7                       NaN  \n",
       "8                -50.000000  \n",
       "9                       NaN  "
      ]
     },
     "execution_count": 6,
     "metadata": {},
     "output_type": "execute_result"
    }
   ],
   "source": [
    "balance_skip_relations = df.pivot_table(index = 'balance_skip',aggfunc = {'age':'mean', 'EST_SALARY':'mean', 'balance':'median', 'equity':'mean','products':'median', 'gender':pd.Series.mode, 'city':pd.Series.mode, 'score':'mean','credit_card':'median', 'last_activity':'median'}).T.reset_index()\n",
    "for i in [0,1,2,8]:\n",
    "    try: balance_skip_relations.loc[i,'Относительная разница'] = (float(balance_skip_relations.loc[i,1])/float(balance_skip_relations.loc[i,0])-1)*100\n",
    "    except: balance_skip_relations.loc[i,'Относительная разница'] = ''  \n",
    "balance_skip_relations.columns=['Признак', 'Значение не пропущено', ' Значение пропущено', 'Относительная разница, %']\n",
    "\n",
    "balance_skip_relations"
   ]
  },
  {
   "cell_type": "markdown",
   "id": "b82290e5",
   "metadata": {},
   "source": [
    "**Имеется существенная разница по признакам \"EST_SALARY\", \"equity, \"products\" и \"gender\".**"
   ]
  },
  {
   "cell_type": "markdown",
   "id": "c4479eb6",
   "metadata": {},
   "source": [
    "**Посчитаем меры центральной тенденции в разрезе пропусков в столбце \"age\":**"
   ]
  },
  {
   "cell_type": "code",
   "execution_count": 7,
   "id": "6f17f61a",
   "metadata": {},
   "outputs": [
    {
     "data": {
      "text/html": [
       "<div>\n",
       "<style scoped>\n",
       "    .dataframe tbody tr th:only-of-type {\n",
       "        vertical-align: middle;\n",
       "    }\n",
       "\n",
       "    .dataframe tbody tr th {\n",
       "        vertical-align: top;\n",
       "    }\n",
       "\n",
       "    .dataframe thead th {\n",
       "        text-align: right;\n",
       "    }\n",
       "</style>\n",
       "<table border=\"1\" class=\"dataframe\">\n",
       "  <thead>\n",
       "    <tr style=\"text-align: right;\">\n",
       "      <th></th>\n",
       "      <th>Признак</th>\n",
       "      <th>Значение не пропущено</th>\n",
       "      <th>Значение пропущено</th>\n",
       "      <th>Относительная разница, %</th>\n",
       "    </tr>\n",
       "  </thead>\n",
       "  <tbody>\n",
       "    <tr>\n",
       "      <th>0</th>\n",
       "      <td>EST_SALARY</td>\n",
       "      <td>147786.809731</td>\n",
       "      <td>178585.199231</td>\n",
       "      <td>20.839742</td>\n",
       "    </tr>\n",
       "    <tr>\n",
       "      <th>1</th>\n",
       "      <td>age</td>\n",
       "      <td>42.734409</td>\n",
       "      <td>NaN</td>\n",
       "      <td>NaN</td>\n",
       "    </tr>\n",
       "    <tr>\n",
       "      <th>2</th>\n",
       "      <td>balance</td>\n",
       "      <td>827245.587515</td>\n",
       "      <td>1250033.573</td>\n",
       "      <td>51.107917</td>\n",
       "    </tr>\n",
       "    <tr>\n",
       "      <th>3</th>\n",
       "      <td>city</td>\n",
       "      <td>Ярославль</td>\n",
       "      <td>Ярославль</td>\n",
       "      <td>NaN</td>\n",
       "    </tr>\n",
       "    <tr>\n",
       "      <th>4</th>\n",
       "      <td>credit_card</td>\n",
       "      <td>1</td>\n",
       "      <td>1</td>\n",
       "      <td>NaN</td>\n",
       "    </tr>\n",
       "    <tr>\n",
       "      <th>5</th>\n",
       "      <td>equity</td>\n",
       "      <td>3</td>\n",
       "      <td>0</td>\n",
       "      <td>NaN</td>\n",
       "    </tr>\n",
       "    <tr>\n",
       "      <th>6</th>\n",
       "      <td>gender</td>\n",
       "      <td>М</td>\n",
       "      <td>М</td>\n",
       "      <td>NaN</td>\n",
       "    </tr>\n",
       "    <tr>\n",
       "      <th>7</th>\n",
       "      <td>last_activity</td>\n",
       "      <td>1</td>\n",
       "      <td>1</td>\n",
       "      <td>NaN</td>\n",
       "    </tr>\n",
       "    <tr>\n",
       "      <th>8</th>\n",
       "      <td>products</td>\n",
       "      <td>2</td>\n",
       "      <td>1</td>\n",
       "      <td>-50.000000</td>\n",
       "    </tr>\n",
       "    <tr>\n",
       "      <th>9</th>\n",
       "      <td>score</td>\n",
       "      <td>848.682575</td>\n",
       "      <td>855.153846</td>\n",
       "      <td>NaN</td>\n",
       "    </tr>\n",
       "  </tbody>\n",
       "</table>\n",
       "</div>"
      ],
      "text/plain": [
       "         Признак Значение не пропущено  Значение пропущено  \\\n",
       "0     EST_SALARY         147786.809731       178585.199231   \n",
       "1            age             42.734409                 NaN   \n",
       "2        balance         827245.587515         1250033.573   \n",
       "3           city             Ярославль           Ярославль   \n",
       "4    credit_card                     1                   1   \n",
       "5         equity                     3                   0   \n",
       "6         gender                     М                   М   \n",
       "7  last_activity                     1                   1   \n",
       "8       products                     2                   1   \n",
       "9          score            848.682575          855.153846   \n",
       "\n",
       "   Относительная разница, %  \n",
       "0                 20.839742  \n",
       "1                       NaN  \n",
       "2                 51.107917  \n",
       "3                       NaN  \n",
       "4                       NaN  \n",
       "5                       NaN  \n",
       "6                       NaN  \n",
       "7                       NaN  \n",
       "8                -50.000000  \n",
       "9                       NaN  "
      ]
     },
     "execution_count": 7,
     "metadata": {},
     "output_type": "execute_result"
    }
   ],
   "source": [
    "age_skip_relations = df.pivot_table(index = 'age_skip',aggfunc = {'age':'mean', 'EST_SALARY':'mean', 'balance':'mean', 'equity':'median','products':'median', 'gender':pd.Series.mode, 'city':pd.Series.mode, 'score':'mean','credit_card':'median', 'last_activity':'median'}).T.reset_index()\n",
    "for i in [0,1,2,8]:\n",
    "    try: age_skip_relations.loc[i,'Относительная разница'] = (float(age_skip_relations.loc[i,1])/float(age_skip_relations.loc[i,0])-1)*100\n",
    "    except: age_skip_relations.loc[i,'Относительная разница'] = ''  \n",
    "age_skip_relations.columns=['Признак', 'Значение не пропущено', ' Значение пропущено', 'Относительная разница, %']\n",
    "\n",
    "age_skip_relations"
   ]
  },
  {
   "cell_type": "markdown",
   "id": "5c982c3c",
   "metadata": {},
   "source": [
    "**Имеется существенная разница по признакам \"EST_SALARY\", \"balance\", \"equity, \"products\" и \"gender\".**"
   ]
  },
  {
   "cell_type": "markdown",
   "id": "39ff301b",
   "metadata": {},
   "source": [
    "#### Добавим кодирование (для использования в анализе корреляции) столбцов city и gender, предвариетельно создав копии оригиналов:"
   ]
  },
  {
   "cell_type": "code",
   "execution_count": 8,
   "id": "8c5317d8",
   "metadata": {
    "scrolled": true
   },
   "outputs": [
    {
     "data": {
      "text/html": [
       "<div>\n",
       "<style scoped>\n",
       "    .dataframe tbody tr th:only-of-type {\n",
       "        vertical-align: middle;\n",
       "    }\n",
       "\n",
       "    .dataframe tbody tr th {\n",
       "        vertical-align: top;\n",
       "    }\n",
       "\n",
       "    .dataframe thead th {\n",
       "        text-align: right;\n",
       "    }\n",
       "</style>\n",
       "<table border=\"1\" class=\"dataframe\">\n",
       "  <thead>\n",
       "    <tr style=\"text-align: right;\">\n",
       "      <th></th>\n",
       "      <th>USERID</th>\n",
       "      <th>score</th>\n",
       "      <th>age</th>\n",
       "      <th>equity</th>\n",
       "      <th>balance</th>\n",
       "      <th>products</th>\n",
       "      <th>credit_card</th>\n",
       "      <th>last_activity</th>\n",
       "      <th>EST_SALARY</th>\n",
       "      <th>churn</th>\n",
       "      <th>age_skip</th>\n",
       "      <th>balance_skip</th>\n",
       "      <th>cities</th>\n",
       "      <th>sex</th>\n",
       "      <th>city_Ростов</th>\n",
       "      <th>city_Рыбинск</th>\n",
       "      <th>city_Ярославль</th>\n",
       "      <th>gender_Ж</th>\n",
       "      <th>gender_М</th>\n",
       "    </tr>\n",
       "  </thead>\n",
       "  <tbody>\n",
       "    <tr>\n",
       "      <th>0</th>\n",
       "      <td>183012</td>\n",
       "      <td>850.0</td>\n",
       "      <td>25.0</td>\n",
       "      <td>1</td>\n",
       "      <td>59214.82</td>\n",
       "      <td>2</td>\n",
       "      <td>0</td>\n",
       "      <td>1</td>\n",
       "      <td>75719.14</td>\n",
       "      <td>1</td>\n",
       "      <td>False</td>\n",
       "      <td>False</td>\n",
       "      <td>Рыбинск</td>\n",
       "      <td>Ж</td>\n",
       "      <td>0</td>\n",
       "      <td>1</td>\n",
       "      <td>0</td>\n",
       "      <td>1</td>\n",
       "      <td>0</td>\n",
       "    </tr>\n",
       "    <tr>\n",
       "      <th>1</th>\n",
       "      <td>146556</td>\n",
       "      <td>861.0</td>\n",
       "      <td>37.0</td>\n",
       "      <td>5</td>\n",
       "      <td>850594.33</td>\n",
       "      <td>3</td>\n",
       "      <td>1</td>\n",
       "      <td>0</td>\n",
       "      <td>86621.77</td>\n",
       "      <td>0</td>\n",
       "      <td>False</td>\n",
       "      <td>False</td>\n",
       "      <td>Рыбинск</td>\n",
       "      <td>Ж</td>\n",
       "      <td>0</td>\n",
       "      <td>1</td>\n",
       "      <td>0</td>\n",
       "      <td>1</td>\n",
       "      <td>0</td>\n",
       "    </tr>\n",
       "    <tr>\n",
       "      <th>2</th>\n",
       "      <td>120722</td>\n",
       "      <td>892.0</td>\n",
       "      <td>30.0</td>\n",
       "      <td>0</td>\n",
       "      <td>NaN</td>\n",
       "      <td>1</td>\n",
       "      <td>1</td>\n",
       "      <td>1</td>\n",
       "      <td>107683.34</td>\n",
       "      <td>0</td>\n",
       "      <td>False</td>\n",
       "      <td>True</td>\n",
       "      <td>Рыбинск</td>\n",
       "      <td>Ж</td>\n",
       "      <td>0</td>\n",
       "      <td>1</td>\n",
       "      <td>0</td>\n",
       "      <td>1</td>\n",
       "      <td>0</td>\n",
       "    </tr>\n",
       "    <tr>\n",
       "      <th>3</th>\n",
       "      <td>225363</td>\n",
       "      <td>866.0</td>\n",
       "      <td>51.0</td>\n",
       "      <td>5</td>\n",
       "      <td>1524746.26</td>\n",
       "      <td>2</td>\n",
       "      <td>0</td>\n",
       "      <td>1</td>\n",
       "      <td>174423.53</td>\n",
       "      <td>1</td>\n",
       "      <td>False</td>\n",
       "      <td>False</td>\n",
       "      <td>Ярославль</td>\n",
       "      <td>Ж</td>\n",
       "      <td>0</td>\n",
       "      <td>0</td>\n",
       "      <td>1</td>\n",
       "      <td>1</td>\n",
       "      <td>0</td>\n",
       "    </tr>\n",
       "    <tr>\n",
       "      <th>4</th>\n",
       "      <td>157978</td>\n",
       "      <td>730.0</td>\n",
       "      <td>34.0</td>\n",
       "      <td>5</td>\n",
       "      <td>174.00</td>\n",
       "      <td>1</td>\n",
       "      <td>1</td>\n",
       "      <td>0</td>\n",
       "      <td>67353.16</td>\n",
       "      <td>1</td>\n",
       "      <td>False</td>\n",
       "      <td>False</td>\n",
       "      <td>Ярославль</td>\n",
       "      <td>М</td>\n",
       "      <td>0</td>\n",
       "      <td>0</td>\n",
       "      <td>1</td>\n",
       "      <td>0</td>\n",
       "      <td>1</td>\n",
       "    </tr>\n",
       "    <tr>\n",
       "      <th>...</th>\n",
       "      <td>...</td>\n",
       "      <td>...</td>\n",
       "      <td>...</td>\n",
       "      <td>...</td>\n",
       "      <td>...</td>\n",
       "      <td>...</td>\n",
       "      <td>...</td>\n",
       "      <td>...</td>\n",
       "      <td>...</td>\n",
       "      <td>...</td>\n",
       "      <td>...</td>\n",
       "      <td>...</td>\n",
       "      <td>...</td>\n",
       "      <td>...</td>\n",
       "      <td>...</td>\n",
       "      <td>...</td>\n",
       "      <td>...</td>\n",
       "      <td>...</td>\n",
       "      <td>...</td>\n",
       "    </tr>\n",
       "    <tr>\n",
       "      <th>9995</th>\n",
       "      <td>120553</td>\n",
       "      <td>814.0</td>\n",
       "      <td>27.0</td>\n",
       "      <td>1</td>\n",
       "      <td>78144.65</td>\n",
       "      <td>1</td>\n",
       "      <td>0</td>\n",
       "      <td>1</td>\n",
       "      <td>18943.64</td>\n",
       "      <td>0</td>\n",
       "      <td>False</td>\n",
       "      <td>False</td>\n",
       "      <td>Рыбинск</td>\n",
       "      <td>М</td>\n",
       "      <td>0</td>\n",
       "      <td>1</td>\n",
       "      <td>0</td>\n",
       "      <td>0</td>\n",
       "      <td>1</td>\n",
       "    </tr>\n",
       "    <tr>\n",
       "      <th>9996</th>\n",
       "      <td>139170</td>\n",
       "      <td>894.0</td>\n",
       "      <td>46.0</td>\n",
       "      <td>0</td>\n",
       "      <td>NaN</td>\n",
       "      <td>1</td>\n",
       "      <td>1</td>\n",
       "      <td>0</td>\n",
       "      <td>196898.29</td>\n",
       "      <td>0</td>\n",
       "      <td>False</td>\n",
       "      <td>True</td>\n",
       "      <td>Ярославль</td>\n",
       "      <td>М</td>\n",
       "      <td>0</td>\n",
       "      <td>0</td>\n",
       "      <td>1</td>\n",
       "      <td>0</td>\n",
       "      <td>1</td>\n",
       "    </tr>\n",
       "    <tr>\n",
       "      <th>9997</th>\n",
       "      <td>115639</td>\n",
       "      <td>903.0</td>\n",
       "      <td>24.0</td>\n",
       "      <td>0</td>\n",
       "      <td>NaN</td>\n",
       "      <td>2</td>\n",
       "      <td>1</td>\n",
       "      <td>1</td>\n",
       "      <td>108905.09</td>\n",
       "      <td>0</td>\n",
       "      <td>False</td>\n",
       "      <td>True</td>\n",
       "      <td>Ярославль</td>\n",
       "      <td>М</td>\n",
       "      <td>0</td>\n",
       "      <td>0</td>\n",
       "      <td>1</td>\n",
       "      <td>0</td>\n",
       "      <td>1</td>\n",
       "    </tr>\n",
       "    <tr>\n",
       "      <th>9998</th>\n",
       "      <td>148700</td>\n",
       "      <td>777.0</td>\n",
       "      <td>68.0</td>\n",
       "      <td>3</td>\n",
       "      <td>865457.97</td>\n",
       "      <td>3</td>\n",
       "      <td>0</td>\n",
       "      <td>1</td>\n",
       "      <td>86874.90</td>\n",
       "      <td>0</td>\n",
       "      <td>False</td>\n",
       "      <td>False</td>\n",
       "      <td>Ярославль</td>\n",
       "      <td>Ж</td>\n",
       "      <td>0</td>\n",
       "      <td>0</td>\n",
       "      <td>1</td>\n",
       "      <td>1</td>\n",
       "      <td>0</td>\n",
       "    </tr>\n",
       "    <tr>\n",
       "      <th>9999</th>\n",
       "      <td>96267</td>\n",
       "      <td>828.0</td>\n",
       "      <td>58.0</td>\n",
       "      <td>3</td>\n",
       "      <td>1180886.70</td>\n",
       "      <td>4</td>\n",
       "      <td>0</td>\n",
       "      <td>1</td>\n",
       "      <td>21422.37</td>\n",
       "      <td>0</td>\n",
       "      <td>False</td>\n",
       "      <td>False</td>\n",
       "      <td>Рыбинск</td>\n",
       "      <td>Ж</td>\n",
       "      <td>0</td>\n",
       "      <td>1</td>\n",
       "      <td>0</td>\n",
       "      <td>1</td>\n",
       "      <td>0</td>\n",
       "    </tr>\n",
       "  </tbody>\n",
       "</table>\n",
       "<p>10000 rows × 19 columns</p>\n",
       "</div>"
      ],
      "text/plain": [
       "      USERID  score   age  equity     balance  products  credit_card  \\\n",
       "0     183012  850.0  25.0       1    59214.82         2            0   \n",
       "1     146556  861.0  37.0       5   850594.33         3            1   \n",
       "2     120722  892.0  30.0       0         NaN         1            1   \n",
       "3     225363  866.0  51.0       5  1524746.26         2            0   \n",
       "4     157978  730.0  34.0       5      174.00         1            1   \n",
       "...      ...    ...   ...     ...         ...       ...          ...   \n",
       "9995  120553  814.0  27.0       1    78144.65         1            0   \n",
       "9996  139170  894.0  46.0       0         NaN         1            1   \n",
       "9997  115639  903.0  24.0       0         NaN         2            1   \n",
       "9998  148700  777.0  68.0       3   865457.97         3            0   \n",
       "9999   96267  828.0  58.0       3  1180886.70         4            0   \n",
       "\n",
       "      last_activity  EST_SALARY  churn  age_skip  balance_skip     cities sex  \\\n",
       "0                 1    75719.14      1     False         False    Рыбинск   Ж   \n",
       "1                 0    86621.77      0     False         False    Рыбинск   Ж   \n",
       "2                 1   107683.34      0     False          True    Рыбинск   Ж   \n",
       "3                 1   174423.53      1     False         False  Ярославль   Ж   \n",
       "4                 0    67353.16      1     False         False  Ярославль   М   \n",
       "...             ...         ...    ...       ...           ...        ...  ..   \n",
       "9995              1    18943.64      0     False         False    Рыбинск   М   \n",
       "9996              0   196898.29      0     False          True  Ярославль   М   \n",
       "9997              1   108905.09      0     False          True  Ярославль   М   \n",
       "9998              1    86874.90      0     False         False  Ярославль   Ж   \n",
       "9999              1    21422.37      0     False         False    Рыбинск   Ж   \n",
       "\n",
       "      city_Ростов  city_Рыбинск  city_Ярославль  gender_Ж  gender_М  \n",
       "0               0             1               0         1         0  \n",
       "1               0             1               0         1         0  \n",
       "2               0             1               0         1         0  \n",
       "3               0             0               1         1         0  \n",
       "4               0             0               1         0         1  \n",
       "...           ...           ...             ...       ...       ...  \n",
       "9995            0             1               0         0         1  \n",
       "9996            0             0               1         0         1  \n",
       "9997            0             0               1         0         1  \n",
       "9998            0             0               1         1         0  \n",
       "9999            0             1               0         1         0  \n",
       "\n",
       "[10000 rows x 19 columns]"
      ]
     },
     "execution_count": 8,
     "metadata": {},
     "output_type": "execute_result"
    }
   ],
   "source": [
    "df['cities'] = df['city']\n",
    "df['sex'] = df['gender']\n",
    "df = pd.get_dummies(data=df, columns=['city', 'gender'])\n",
    "df"
   ]
  },
  {
   "cell_type": "markdown",
   "id": "4e1de7a8",
   "metadata": {},
   "source": [
    "**Проверим количество явных дубликатов:**"
   ]
  },
  {
   "cell_type": "code",
   "execution_count": 9,
   "id": "1698ea10",
   "metadata": {},
   "outputs": [
    {
     "data": {
      "text/plain": [
       "0"
      ]
     },
     "execution_count": 9,
     "metadata": {},
     "output_type": "execute_result"
    }
   ],
   "source": [
    "df.duplicated().sum()"
   ]
  },
  {
   "cell_type": "markdown",
   "id": "58282dc4",
   "metadata": {},
   "source": [
    "**Проверим количество неявных дубликатов:**"
   ]
  },
  {
   "cell_type": "code",
   "execution_count": 10,
   "id": "7795e16c",
   "metadata": {
    "scrolled": true
   },
   "outputs": [
    {
     "data": {
      "text/html": [
       "<div>\n",
       "<style scoped>\n",
       "    .dataframe tbody tr th:only-of-type {\n",
       "        vertical-align: middle;\n",
       "    }\n",
       "\n",
       "    .dataframe tbody tr th {\n",
       "        vertical-align: top;\n",
       "    }\n",
       "\n",
       "    .dataframe thead th {\n",
       "        text-align: right;\n",
       "    }\n",
       "</style>\n",
       "<table border=\"1\" class=\"dataframe\">\n",
       "  <thead>\n",
       "    <tr style=\"text-align: right;\">\n",
       "      <th></th>\n",
       "      <th>USERID</th>\n",
       "      <th>score</th>\n",
       "      <th>age</th>\n",
       "      <th>equity</th>\n",
       "      <th>balance</th>\n",
       "      <th>products</th>\n",
       "      <th>credit_card</th>\n",
       "      <th>last_activity</th>\n",
       "      <th>EST_SALARY</th>\n",
       "      <th>churn</th>\n",
       "      <th>age_skip</th>\n",
       "      <th>balance_skip</th>\n",
       "      <th>cities</th>\n",
       "      <th>sex</th>\n",
       "      <th>city_Ростов</th>\n",
       "      <th>city_Рыбинск</th>\n",
       "      <th>city_Ярославль</th>\n",
       "      <th>gender_Ж</th>\n",
       "      <th>gender_М</th>\n",
       "    </tr>\n",
       "  </thead>\n",
       "  <tbody>\n",
       "    <tr>\n",
       "      <th>1893</th>\n",
       "      <td>116540</td>\n",
       "      <td>883.0</td>\n",
       "      <td>55.0</td>\n",
       "      <td>1</td>\n",
       "      <td>362756.49</td>\n",
       "      <td>3</td>\n",
       "      <td>0</td>\n",
       "      <td>1</td>\n",
       "      <td>175920.48</td>\n",
       "      <td>1</td>\n",
       "      <td>False</td>\n",
       "      <td>False</td>\n",
       "      <td>Рыбинск</td>\n",
       "      <td>Ж</td>\n",
       "      <td>0</td>\n",
       "      <td>1</td>\n",
       "      <td>0</td>\n",
       "      <td>1</td>\n",
       "      <td>0</td>\n",
       "    </tr>\n",
       "    <tr>\n",
       "      <th>7694</th>\n",
       "      <td>116540</td>\n",
       "      <td>887.0</td>\n",
       "      <td>38.0</td>\n",
       "      <td>0</td>\n",
       "      <td>NaN</td>\n",
       "      <td>1</td>\n",
       "      <td>0</td>\n",
       "      <td>1</td>\n",
       "      <td>119247.61</td>\n",
       "      <td>0</td>\n",
       "      <td>False</td>\n",
       "      <td>True</td>\n",
       "      <td>Ярославль</td>\n",
       "      <td>Ж</td>\n",
       "      <td>0</td>\n",
       "      <td>0</td>\n",
       "      <td>1</td>\n",
       "      <td>1</td>\n",
       "      <td>0</td>\n",
       "    </tr>\n",
       "    <tr>\n",
       "      <th>7542</th>\n",
       "      <td>117943</td>\n",
       "      <td>880.0</td>\n",
       "      <td>40.0</td>\n",
       "      <td>0</td>\n",
       "      <td>NaN</td>\n",
       "      <td>1</td>\n",
       "      <td>1</td>\n",
       "      <td>0</td>\n",
       "      <td>137718.93</td>\n",
       "      <td>0</td>\n",
       "      <td>False</td>\n",
       "      <td>True</td>\n",
       "      <td>Ярославль</td>\n",
       "      <td>Ж</td>\n",
       "      <td>0</td>\n",
       "      <td>0</td>\n",
       "      <td>1</td>\n",
       "      <td>1</td>\n",
       "      <td>0</td>\n",
       "    </tr>\n",
       "    <tr>\n",
       "      <th>4866</th>\n",
       "      <td>117943</td>\n",
       "      <td>855.0</td>\n",
       "      <td>32.0</td>\n",
       "      <td>6</td>\n",
       "      <td>1036832.93</td>\n",
       "      <td>4</td>\n",
       "      <td>1</td>\n",
       "      <td>1</td>\n",
       "      <td>107792.71</td>\n",
       "      <td>1</td>\n",
       "      <td>False</td>\n",
       "      <td>False</td>\n",
       "      <td>Рыбинск</td>\n",
       "      <td>Ж</td>\n",
       "      <td>0</td>\n",
       "      <td>1</td>\n",
       "      <td>0</td>\n",
       "      <td>1</td>\n",
       "      <td>0</td>\n",
       "    </tr>\n",
       "    <tr>\n",
       "      <th>5896</th>\n",
       "      <td>120258</td>\n",
       "      <td>905.0</td>\n",
       "      <td>30.0</td>\n",
       "      <td>0</td>\n",
       "      <td>NaN</td>\n",
       "      <td>1</td>\n",
       "      <td>1</td>\n",
       "      <td>1</td>\n",
       "      <td>146427.96</td>\n",
       "      <td>0</td>\n",
       "      <td>False</td>\n",
       "      <td>True</td>\n",
       "      <td>Ярославль</td>\n",
       "      <td>М</td>\n",
       "      <td>0</td>\n",
       "      <td>0</td>\n",
       "      <td>1</td>\n",
       "      <td>0</td>\n",
       "      <td>1</td>\n",
       "    </tr>\n",
       "    <tr>\n",
       "      <th>5863</th>\n",
       "      <td>120258</td>\n",
       "      <td>908.0</td>\n",
       "      <td>38.0</td>\n",
       "      <td>4</td>\n",
       "      <td>2213581.63</td>\n",
       "      <td>2</td>\n",
       "      <td>0</td>\n",
       "      <td>1</td>\n",
       "      <td>160327.77</td>\n",
       "      <td>1</td>\n",
       "      <td>False</td>\n",
       "      <td>False</td>\n",
       "      <td>Рыбинск</td>\n",
       "      <td>Ж</td>\n",
       "      <td>0</td>\n",
       "      <td>1</td>\n",
       "      <td>0</td>\n",
       "      <td>1</td>\n",
       "      <td>0</td>\n",
       "    </tr>\n",
       "    <tr>\n",
       "      <th>1411</th>\n",
       "      <td>123461</td>\n",
       "      <td>829.0</td>\n",
       "      <td>59.0</td>\n",
       "      <td>0</td>\n",
       "      <td>96222.44</td>\n",
       "      <td>2</td>\n",
       "      <td>0</td>\n",
       "      <td>1</td>\n",
       "      <td>102771.55</td>\n",
       "      <td>1</td>\n",
       "      <td>False</td>\n",
       "      <td>False</td>\n",
       "      <td>Ярославль</td>\n",
       "      <td>Ж</td>\n",
       "      <td>0</td>\n",
       "      <td>0</td>\n",
       "      <td>1</td>\n",
       "      <td>1</td>\n",
       "      <td>0</td>\n",
       "    </tr>\n",
       "    <tr>\n",
       "      <th>8638</th>\n",
       "      <td>123461</td>\n",
       "      <td>934.0</td>\n",
       "      <td>34.0</td>\n",
       "      <td>0</td>\n",
       "      <td>NaN</td>\n",
       "      <td>2</td>\n",
       "      <td>1</td>\n",
       "      <td>0</td>\n",
       "      <td>291619.27</td>\n",
       "      <td>0</td>\n",
       "      <td>False</td>\n",
       "      <td>True</td>\n",
       "      <td>Рыбинск</td>\n",
       "      <td>М</td>\n",
       "      <td>0</td>\n",
       "      <td>1</td>\n",
       "      <td>0</td>\n",
       "      <td>0</td>\n",
       "      <td>1</td>\n",
       "    </tr>\n",
       "    <tr>\n",
       "      <th>8164</th>\n",
       "      <td>124450</td>\n",
       "      <td>859.0</td>\n",
       "      <td>38.0</td>\n",
       "      <td>6</td>\n",
       "      <td>516811.20</td>\n",
       "      <td>1</td>\n",
       "      <td>1</td>\n",
       "      <td>1</td>\n",
       "      <td>95144.63</td>\n",
       "      <td>1</td>\n",
       "      <td>False</td>\n",
       "      <td>False</td>\n",
       "      <td>Ярославль</td>\n",
       "      <td>Ж</td>\n",
       "      <td>0</td>\n",
       "      <td>0</td>\n",
       "      <td>1</td>\n",
       "      <td>1</td>\n",
       "      <td>0</td>\n",
       "    </tr>\n",
       "    <tr>\n",
       "      <th>9775</th>\n",
       "      <td>124450</td>\n",
       "      <td>758.0</td>\n",
       "      <td>36.0</td>\n",
       "      <td>0</td>\n",
       "      <td>73574.07</td>\n",
       "      <td>2</td>\n",
       "      <td>0</td>\n",
       "      <td>1</td>\n",
       "      <td>79963.59</td>\n",
       "      <td>0</td>\n",
       "      <td>False</td>\n",
       "      <td>False</td>\n",
       "      <td>Рыбинск</td>\n",
       "      <td>Ж</td>\n",
       "      <td>0</td>\n",
       "      <td>1</td>\n",
       "      <td>0</td>\n",
       "      <td>1</td>\n",
       "      <td>0</td>\n",
       "    </tr>\n",
       "    <tr>\n",
       "      <th>4850</th>\n",
       "      <td>126368</td>\n",
       "      <td>909.0</td>\n",
       "      <td>30.0</td>\n",
       "      <td>4</td>\n",
       "      <td>1322623.29</td>\n",
       "      <td>2</td>\n",
       "      <td>0</td>\n",
       "      <td>1</td>\n",
       "      <td>140675.66</td>\n",
       "      <td>1</td>\n",
       "      <td>False</td>\n",
       "      <td>False</td>\n",
       "      <td>Ярославль</td>\n",
       "      <td>Ж</td>\n",
       "      <td>0</td>\n",
       "      <td>0</td>\n",
       "      <td>1</td>\n",
       "      <td>1</td>\n",
       "      <td>0</td>\n",
       "    </tr>\n",
       "    <tr>\n",
       "      <th>5420</th>\n",
       "      <td>126368</td>\n",
       "      <td>832.0</td>\n",
       "      <td>33.0</td>\n",
       "      <td>0</td>\n",
       "      <td>NaN</td>\n",
       "      <td>1</td>\n",
       "      <td>0</td>\n",
       "      <td>0</td>\n",
       "      <td>118465.34</td>\n",
       "      <td>0</td>\n",
       "      <td>False</td>\n",
       "      <td>True</td>\n",
       "      <td>Рыбинск</td>\n",
       "      <td>Ж</td>\n",
       "      <td>0</td>\n",
       "      <td>1</td>\n",
       "      <td>0</td>\n",
       "      <td>1</td>\n",
       "      <td>0</td>\n",
       "    </tr>\n",
       "    <tr>\n",
       "      <th>8785</th>\n",
       "      <td>127440</td>\n",
       "      <td>663.0</td>\n",
       "      <td>NaN</td>\n",
       "      <td>0</td>\n",
       "      <td>NaN</td>\n",
       "      <td>1</td>\n",
       "      <td>1</td>\n",
       "      <td>1</td>\n",
       "      <td>117197.56</td>\n",
       "      <td>0</td>\n",
       "      <td>True</td>\n",
       "      <td>True</td>\n",
       "      <td>Ярославль</td>\n",
       "      <td>М</td>\n",
       "      <td>0</td>\n",
       "      <td>0</td>\n",
       "      <td>1</td>\n",
       "      <td>0</td>\n",
       "      <td>1</td>\n",
       "    </tr>\n",
       "    <tr>\n",
       "      <th>4443</th>\n",
       "      <td>127440</td>\n",
       "      <td>846.0</td>\n",
       "      <td>66.0</td>\n",
       "      <td>1</td>\n",
       "      <td>57405.67</td>\n",
       "      <td>2</td>\n",
       "      <td>0</td>\n",
       "      <td>1</td>\n",
       "      <td>17831.63</td>\n",
       "      <td>0</td>\n",
       "      <td>False</td>\n",
       "      <td>False</td>\n",
       "      <td>Рыбинск</td>\n",
       "      <td>М</td>\n",
       "      <td>0</td>\n",
       "      <td>1</td>\n",
       "      <td>0</td>\n",
       "      <td>0</td>\n",
       "      <td>1</td>\n",
       "    </tr>\n",
       "    <tr>\n",
       "      <th>3988</th>\n",
       "      <td>129785</td>\n",
       "      <td>904.0</td>\n",
       "      <td>33.0</td>\n",
       "      <td>5</td>\n",
       "      <td>2427737.60</td>\n",
       "      <td>3</td>\n",
       "      <td>0</td>\n",
       "      <td>1</td>\n",
       "      <td>188856.75</td>\n",
       "      <td>1</td>\n",
       "      <td>False</td>\n",
       "      <td>False</td>\n",
       "      <td>Рыбинск</td>\n",
       "      <td>М</td>\n",
       "      <td>0</td>\n",
       "      <td>1</td>\n",
       "      <td>0</td>\n",
       "      <td>0</td>\n",
       "      <td>1</td>\n",
       "    </tr>\n",
       "    <tr>\n",
       "      <th>9504</th>\n",
       "      <td>129785</td>\n",
       "      <td>949.0</td>\n",
       "      <td>43.0</td>\n",
       "      <td>0</td>\n",
       "      <td>NaN</td>\n",
       "      <td>1</td>\n",
       "      <td>1</td>\n",
       "      <td>1</td>\n",
       "      <td>166845.37</td>\n",
       "      <td>0</td>\n",
       "      <td>False</td>\n",
       "      <td>True</td>\n",
       "      <td>Ярославль</td>\n",
       "      <td>М</td>\n",
       "      <td>0</td>\n",
       "      <td>0</td>\n",
       "      <td>1</td>\n",
       "      <td>0</td>\n",
       "      <td>1</td>\n",
       "    </tr>\n",
       "    <tr>\n",
       "      <th>904</th>\n",
       "      <td>131419</td>\n",
       "      <td>934.0</td>\n",
       "      <td>35.0</td>\n",
       "      <td>5</td>\n",
       "      <td>2348335.95</td>\n",
       "      <td>2</td>\n",
       "      <td>0</td>\n",
       "      <td>0</td>\n",
       "      <td>217105.13</td>\n",
       "      <td>1</td>\n",
       "      <td>False</td>\n",
       "      <td>False</td>\n",
       "      <td>Ярославль</td>\n",
       "      <td>М</td>\n",
       "      <td>0</td>\n",
       "      <td>0</td>\n",
       "      <td>1</td>\n",
       "      <td>0</td>\n",
       "      <td>1</td>\n",
       "    </tr>\n",
       "    <tr>\n",
       "      <th>2138</th>\n",
       "      <td>131419</td>\n",
       "      <td>739.0</td>\n",
       "      <td>37.0</td>\n",
       "      <td>3</td>\n",
       "      <td>1307941.65</td>\n",
       "      <td>3</td>\n",
       "      <td>0</td>\n",
       "      <td>0</td>\n",
       "      <td>103867.47</td>\n",
       "      <td>0</td>\n",
       "      <td>False</td>\n",
       "      <td>False</td>\n",
       "      <td>Рыбинск</td>\n",
       "      <td>Ж</td>\n",
       "      <td>0</td>\n",
       "      <td>1</td>\n",
       "      <td>0</td>\n",
       "      <td>1</td>\n",
       "      <td>0</td>\n",
       "    </tr>\n",
       "    <tr>\n",
       "      <th>7487</th>\n",
       "      <td>140377</td>\n",
       "      <td>930.0</td>\n",
       "      <td>34.0</td>\n",
       "      <td>5</td>\n",
       "      <td>1123967.02</td>\n",
       "      <td>1</td>\n",
       "      <td>1</td>\n",
       "      <td>1</td>\n",
       "      <td>148336.26</td>\n",
       "      <td>0</td>\n",
       "      <td>False</td>\n",
       "      <td>False</td>\n",
       "      <td>Рыбинск</td>\n",
       "      <td>Ж</td>\n",
       "      <td>0</td>\n",
       "      <td>1</td>\n",
       "      <td>0</td>\n",
       "      <td>1</td>\n",
       "      <td>0</td>\n",
       "    </tr>\n",
       "    <tr>\n",
       "      <th>1608</th>\n",
       "      <td>140377</td>\n",
       "      <td>802.0</td>\n",
       "      <td>26.0</td>\n",
       "      <td>3</td>\n",
       "      <td>539863.29</td>\n",
       "      <td>4</td>\n",
       "      <td>1</td>\n",
       "      <td>1</td>\n",
       "      <td>112167.83</td>\n",
       "      <td>1</td>\n",
       "      <td>False</td>\n",
       "      <td>False</td>\n",
       "      <td>Ярославль</td>\n",
       "      <td>М</td>\n",
       "      <td>0</td>\n",
       "      <td>0</td>\n",
       "      <td>1</td>\n",
       "      <td>0</td>\n",
       "      <td>1</td>\n",
       "    </tr>\n",
       "  </tbody>\n",
       "</table>\n",
       "</div>"
      ],
      "text/plain": [
       "      USERID  score   age  equity     balance  products  credit_card  \\\n",
       "1893  116540  883.0  55.0       1   362756.49         3            0   \n",
       "7694  116540  887.0  38.0       0         NaN         1            0   \n",
       "7542  117943  880.0  40.0       0         NaN         1            1   \n",
       "4866  117943  855.0  32.0       6  1036832.93         4            1   \n",
       "5896  120258  905.0  30.0       0         NaN         1            1   \n",
       "5863  120258  908.0  38.0       4  2213581.63         2            0   \n",
       "1411  123461  829.0  59.0       0    96222.44         2            0   \n",
       "8638  123461  934.0  34.0       0         NaN         2            1   \n",
       "8164  124450  859.0  38.0       6   516811.20         1            1   \n",
       "9775  124450  758.0  36.0       0    73574.07         2            0   \n",
       "4850  126368  909.0  30.0       4  1322623.29         2            0   \n",
       "5420  126368  832.0  33.0       0         NaN         1            0   \n",
       "8785  127440  663.0   NaN       0         NaN         1            1   \n",
       "4443  127440  846.0  66.0       1    57405.67         2            0   \n",
       "3988  129785  904.0  33.0       5  2427737.60         3            0   \n",
       "9504  129785  949.0  43.0       0         NaN         1            1   \n",
       "904   131419  934.0  35.0       5  2348335.95         2            0   \n",
       "2138  131419  739.0  37.0       3  1307941.65         3            0   \n",
       "7487  140377  930.0  34.0       5  1123967.02         1            1   \n",
       "1608  140377  802.0  26.0       3   539863.29         4            1   \n",
       "\n",
       "      last_activity  EST_SALARY  churn  age_skip  balance_skip     cities sex  \\\n",
       "1893              1   175920.48      1     False         False    Рыбинск   Ж   \n",
       "7694              1   119247.61      0     False          True  Ярославль   Ж   \n",
       "7542              0   137718.93      0     False          True  Ярославль   Ж   \n",
       "4866              1   107792.71      1     False         False    Рыбинск   Ж   \n",
       "5896              1   146427.96      0     False          True  Ярославль   М   \n",
       "5863              1   160327.77      1     False         False    Рыбинск   Ж   \n",
       "1411              1   102771.55      1     False         False  Ярославль   Ж   \n",
       "8638              0   291619.27      0     False          True    Рыбинск   М   \n",
       "8164              1    95144.63      1     False         False  Ярославль   Ж   \n",
       "9775              1    79963.59      0     False         False    Рыбинск   Ж   \n",
       "4850              1   140675.66      1     False         False  Ярославль   Ж   \n",
       "5420              0   118465.34      0     False          True    Рыбинск   Ж   \n",
       "8785              1   117197.56      0      True          True  Ярославль   М   \n",
       "4443              1    17831.63      0     False         False    Рыбинск   М   \n",
       "3988              1   188856.75      1     False         False    Рыбинск   М   \n",
       "9504              1   166845.37      0     False          True  Ярославль   М   \n",
       "904               0   217105.13      1     False         False  Ярославль   М   \n",
       "2138              0   103867.47      0     False         False    Рыбинск   Ж   \n",
       "7487              1   148336.26      0     False         False    Рыбинск   Ж   \n",
       "1608              1   112167.83      1     False         False  Ярославль   М   \n",
       "\n",
       "      city_Ростов  city_Рыбинск  city_Ярославль  gender_Ж  gender_М  \n",
       "1893            0             1               0         1         0  \n",
       "7694            0             0               1         1         0  \n",
       "7542            0             0               1         1         0  \n",
       "4866            0             1               0         1         0  \n",
       "5896            0             0               1         0         1  \n",
       "5863            0             1               0         1         0  \n",
       "1411            0             0               1         1         0  \n",
       "8638            0             1               0         0         1  \n",
       "8164            0             0               1         1         0  \n",
       "9775            0             1               0         1         0  \n",
       "4850            0             0               1         1         0  \n",
       "5420            0             1               0         1         0  \n",
       "8785            0             0               1         0         1  \n",
       "4443            0             1               0         0         1  \n",
       "3988            0             1               0         0         1  \n",
       "9504            0             0               1         0         1  \n",
       "904             0             0               1         0         1  \n",
       "2138            0             1               0         1         0  \n",
       "7487            0             1               0         1         0  \n",
       "1608            0             0               1         0         1  "
      ]
     },
     "execution_count": 10,
     "metadata": {},
     "output_type": "execute_result"
    }
   ],
   "source": [
    "df[df['USERID'].duplicated(keep=False)].sort_values(by = 'USERID').head(20)"
   ]
  },
  {
   "cell_type": "markdown",
   "id": "cab70ab1",
   "metadata": {},
   "source": [
    "**Среди дубликатов по \"USERID\" есть как очень похожие, так и сильно различающиеся между собой строки, например по возрасту, полу или по городу. У многих пар дубликатов одна из строк имеет признак отскока, но не у всех. Удалять их опасно.**"
   ]
  },
  {
   "cell_type": "markdown",
   "id": "b1cb1fa4",
   "metadata": {},
   "source": [
    "### EDA:"
   ]
  },
  {
   "cell_type": "markdown",
   "id": "f4790c6b",
   "metadata": {},
   "source": [
    "#### Анализ распределения признаков, в тч в разрезе оттока:"
   ]
  },
  {
   "cell_type": "code",
   "execution_count": 11,
   "id": "f7c05502",
   "metadata": {},
   "outputs": [
    {
     "data": {
      "image/png": "[encoded data removed]",
      "text/plain": [
       "<Figure size 640x480 with 1 Axes>"
      ]
     },
     "metadata": {},
     "output_type": "display_data"
    }
   ],
   "source": [
    "sns.histplot(data=df, x=\"age\", hue=\"churn\", binwidth=1,stat=\"density\", common_norm=False).set(title='Распределение клиентов по возрастам')\n",
    "plt.ylabel('Относительная доля клиентов')\n",
    "plt.xlabel('Возраст')\n",
    "plt.legend(labels=[\"Ушедшие\",\"Оставшиеся\"])\n",
    "plt.show ()"
   ]
  },
  {
   "cell_type": "markdown",
   "id": "e4b6057b",
   "metadata": {},
   "source": [
    "**Из графика следует, что доля ушедших клиентов в возрасте 25-30 и 50-60 лет выше, чем в других возрастных группах.** "
   ]
  },
  {
   "cell_type": "code",
   "execution_count": 12,
   "id": "e0892e21",
   "metadata": {
    "scrolled": false
   },
   "outputs": [
    {
     "data": {
      "image/png": "[encoded data removed]",
      "text/plain": [
       "<Figure size 640x480 with 1 Axes>"
      ]
     },
     "metadata": {},
     "output_type": "display_data"
    }
   ],
   "source": [
    "sns.histplot(data=df, x=\"score\", hue=\"churn\", bins = 40,stat=\"density\", common_norm=False).set(title='Распределение клиентов по баллам кредитного скоринга')\n",
    "plt.ylabel('Относительная доля клиентов')\n",
    "plt.xlabel('Баллы кредитного скоринга')\n",
    "plt.legend(labels=[\"Ушедшие\",\"Оставшиеся\"])\n",
    "plt.show ()"
   ]
  },
  {
   "cell_type": "markdown",
   "id": "dc528b5b",
   "metadata": {},
   "source": [
    "**Из графика следует, что доля ушедших клиентов с кредитным рейтингом от 830 до 910 выше, чем у остальных.** "
   ]
  },
  {
   "cell_type": "code",
   "execution_count": 14,
   "id": "893b9d3d",
   "metadata": {},
   "outputs": [
    {
     "data": {
      "image/png": "[encoded data removed]",
      "text/plain": [
       "<Figure size 640x480 with 1 Axes>"
      ]
     },
     "metadata": {},
     "output_type": "display_data"
    }
   ],
   "source": [
    "sns.histplot(data=df, x=\"balance\", hue=\"churn\", element=\"bars\", stat=\"density\", common_norm=False).set_title('Распределение клиентов по количеству средств на балансе');\n",
    "plt.ylabel('Относительная доля клиентов')\n",
    "plt.xlabel('Баланс')\n",
    "plt.legend(labels=[\"Ушедшие\",\"Оставшиеся\"])\n",
    "plt.xlim (-10, 6000000)\n",
    "plt.show ()"
   ]
  },
  {
   "cell_type": "markdown",
   "id": "b0483952",
   "metadata": {},
   "source": [
    "**Из графика следует, что доля ушедших клиентов с балансом от 700 000 до 4 100 000 выше, чем у остальных.** "
   ]
  },
  {
   "cell_type": "code",
   "execution_count": 16,
   "id": "40cf76f6",
   "metadata": {},
   "outputs": [
    {
     "data": {
      "image/png": "[encoded data removed]",
      "text/plain": [
       "<Figure size 640x480 with 1 Axes>"
      ]
     },
     "metadata": {},
     "output_type": "display_data"
    }
   ],
   "source": [
    "sns.histplot(data=df, x=\"EST_SALARY\", hue=\"churn\", stat=\"density\", common_norm=False, bins = 150).set_title('Распределение клиентов по заработной плате')\n",
    "plt.ylabel('Относительная доля клиентов')\n",
    "plt.xlabel('Заработная плата')\n",
    "plt.legend(labels=[\"Ушедшие\",\"Оставшиеся\"])\n",
    "plt.xlim (0, 600000)\n",
    "plt.show ();"
   ]
  },
  {
   "cell_type": "markdown",
   "id": "e477f256",
   "metadata": {},
   "source": [
    "**Из графика следует, что доля ушедших выше среди клиентов с заработной платой от 100 до 200 тысяч рублей в месяц.** "
   ]
  },
  {
   "cell_type": "code",
   "execution_count": 17,
   "id": "eb133f06",
   "metadata": {},
   "outputs": [
    {
     "data": {
      "image/png": "[encoded data removed]",
      "text/plain": [
       "<Figure size 640x480 with 1 Axes>"
      ]
     },
     "metadata": {},
     "output_type": "display_data"
    }
   ],
   "source": [
    "sns.barplot(data = df, x='sex', y = 'churn').set_title('Доля ушедших клиентов в зависимости от пола');\n",
    "plt.ylabel('Доля ушедших клиентов')\n",
    "plt.xlabel('Пол')\n",
    "plt.axhline(y=df['churn'].mean(), color='black', linestyle='--')\n",
    "plt.show ();"
   ]
  },
  {
   "cell_type": "markdown",
   "id": "6856e015",
   "metadata": {},
   "source": [
    "**Из графика следует, что доля ушедших выше среди мужчин.** "
   ]
  },
  {
   "cell_type": "code",
   "execution_count": 20,
   "id": "122ac016",
   "metadata": {},
   "outputs": [
    {
     "data": {
      "image/png": "[encoded data removed]",
      "text/plain": [
       "<Figure size 800x500 with 1 Axes>"
      ]
     },
     "metadata": {},
     "output_type": "display_data"
    }
   ],
   "source": [
    "plt.figure(figsize=(8, 5))\n",
    "sns.barplot(data = df, x='equity', y = 'churn').set_title('Доля ушедших клиентов в зависимости от баллов собственности');\n",
    "plt.ylabel('Доля ушедших клиентов')\n",
    "plt.xlabel('Баллы собственности')\n",
    "plt.axhline(y=df['churn'].mean(), color='black', linestyle='--')\n",
    "plt.show ();"
   ]
  },
  {
   "cell_type": "markdown",
   "id": "63e0589f",
   "metadata": {},
   "source": [
    "**Из графика следует, что доля ушедших клиентов с количеством баллов собственности  от 3 до 9 выше, чем у остальных.** "
   ]
  },
  {
   "cell_type": "code",
   "execution_count": 21,
   "id": "cab48fd0",
   "metadata": {},
   "outputs": [
    {
     "data": {
      "image/png": "[encoded data removed]",
      "text/plain": [
       "<Figure size 800x500 with 1 Axes>"
      ]
     },
     "metadata": {},
     "output_type": "display_data"
    }
   ],
   "source": [
    "plt.figure(figsize=(8, 5))\n",
    "sns.barplot(data = df.query('products != 0'), x='products', y = 'churn').set_title('Доля ушедших клиентов в зависимости от количества продуктов');\n",
    "plt.ylabel('Доля ушедших клиентов')\n",
    "plt.xlabel('Количество продуктов')\n",
    "plt.axhline(y=df['churn'].mean(), color='black', linestyle='--')\n",
    "plt.show ();"
   ]
  },
  {
   "cell_type": "markdown",
   "id": "8086806e",
   "metadata": {},
   "source": [
    "**Из графика следует, что доля ушедших клиентов, пользующихся 2 и более продуктами, выше, чем у остальных.** "
   ]
  },
  {
   "cell_type": "code",
   "execution_count": 22,
   "id": "7a9416a1",
   "metadata": {},
   "outputs": [
    {
     "data": {
      "image/png": "[encoded data removed]",
      "text/plain": [
       "<Figure size 640x480 with 1 Axes>"
      ]
     },
     "metadata": {},
     "output_type": "display_data"
    }
   ],
   "source": [
    "sns.barplot(data = df, x='cities', y = 'churn').set_title('Доля ушедших клиентов клиентов в зависимости от города');\n",
    "plt.ylabel('Доля ушедших клиентов клиентов')\n",
    "plt.xlabel('Город')\n",
    "plt.axhline(y=df['churn'].mean(), color='black', linestyle='--')\n",
    "plt.show ();"
   ]
  },
  {
   "cell_type": "markdown",
   "id": "7688af06",
   "metadata": {},
   "source": [
    "**Из графика следует, что доля ушедших выше среди жителей Ярославля и Ростова.** "
   ]
  },
  {
   "cell_type": "code",
   "execution_count": 23,
   "id": "7274b83d",
   "metadata": {},
   "outputs": [
    {
     "data": {
      "image/png": "[encoded data removed]",
      "text/plain": [
       "<Figure size 640x480 with 1 Axes>"
      ]
     },
     "metadata": {},
     "output_type": "display_data"
    }
   ],
   "source": [
    "sns.barplot(data = df, x='last_activity', y = 'churn').set_title('Доля ушедших клиентов клиентов в зависимости от активности');\n",
    "plt.ylabel('Доля ушедших клиентов клиентов')\n",
    "plt.xlabel('Активность')\n",
    "plt.axhline(y=df['churn'].mean(), color='black', linestyle='--')\n",
    "plt.show ();"
   ]
  },
  {
   "cell_type": "markdown",
   "id": "00ec6217",
   "metadata": {},
   "source": [
    "**Из графика следует, что доля ушедших среди активных клиентов выше, чем среди остальных.** "
   ]
  },
  {
   "cell_type": "code",
   "execution_count": 24,
   "id": "69130a65",
   "metadata": {},
   "outputs": [
    {
     "data": {
      "image/png": "[encoded data removed]",
      "text/plain": [
       "<Figure size 640x480 with 1 Axes>"
      ]
     },
     "metadata": {},
     "output_type": "display_data"
    }
   ],
   "source": [
    "sns.barplot(data = df, x='credit_card', y = 'churn').set_title('Доля ушедших клиентов клиентов в зависимости от наличия кредитной карты');\n",
    "plt.ylabel('Доля ушедших клиентов')\n",
    "plt.xlabel('Наличие кредитной карты')\n",
    "plt.axhline(y=df['churn'].mean(), color='black', linestyle='--')\n",
    "plt.show ();"
   ]
  },
  {
   "cell_type": "markdown",
   "id": "2e24c279",
   "metadata": {},
   "source": [
    "**Из графика следует, что доля ушедших клиентов без кредитной карты выше, чем среди остальных.** "
   ]
  },
  {
   "cell_type": "markdown",
   "id": "49aacc18",
   "metadata": {},
   "source": [
    "#### Анализ портретов клиентов в разрезе оттока:"
   ]
  },
  {
   "cell_type": "code",
   "execution_count": 25,
   "id": "493d29ae",
   "metadata": {},
   "outputs": [
    {
     "data": {
      "text/html": [
       "<div>\n",
       "<style scoped>\n",
       "    .dataframe tbody tr th:only-of-type {\n",
       "        vertical-align: middle;\n",
       "    }\n",
       "\n",
       "    .dataframe tbody tr th {\n",
       "        vertical-align: top;\n",
       "    }\n",
       "\n",
       "    .dataframe thead th {\n",
       "        text-align: right;\n",
       "    }\n",
       "</style>\n",
       "<table border=\"1\" class=\"dataframe\">\n",
       "  <thead>\n",
       "    <tr style=\"text-align: right;\">\n",
       "      <th></th>\n",
       "      <th>Признак</th>\n",
       "      <th>Агрегатор</th>\n",
       "      <th>Не отток</th>\n",
       "      <th>Отток</th>\n",
       "      <th>Относительная разница, %</th>\n",
       "    </tr>\n",
       "  </thead>\n",
       "  <tbody>\n",
       "    <tr>\n",
       "      <th>0</th>\n",
       "      <td>EST_SALARY</td>\n",
       "      <td>mean</td>\n",
       "      <td>147783.200108</td>\n",
       "      <td>148243.010198</td>\n",
       "      <td>0.311138</td>\n",
       "    </tr>\n",
       "    <tr>\n",
       "      <th>1</th>\n",
       "      <td>EST_SALARY</td>\n",
       "      <td>median</td>\n",
       "      <td>118257.715</td>\n",
       "      <td>125390.62</td>\n",
       "      <td>6.031661</td>\n",
       "    </tr>\n",
       "    <tr>\n",
       "      <th>2</th>\n",
       "      <td>age</td>\n",
       "      <td>mean</td>\n",
       "      <td>43.020846</td>\n",
       "      <td>41.450247</td>\n",
       "      <td>-3.650785</td>\n",
       "    </tr>\n",
       "    <tr>\n",
       "      <th>3</th>\n",
       "      <td>balance</td>\n",
       "      <td>mean</td>\n",
       "      <td>733982.585648</td>\n",
       "      <td>1133993.27145</td>\n",
       "      <td>54.498662</td>\n",
       "    </tr>\n",
       "    <tr>\n",
       "      <th>4</th>\n",
       "      <td>balance</td>\n",
       "      <td>median</td>\n",
       "      <td>475382.445</td>\n",
       "      <td>782410.47</td>\n",
       "      <td>64.585478</td>\n",
       "    </tr>\n",
       "    <tr>\n",
       "      <th>5</th>\n",
       "      <td>cities</td>\n",
       "      <td>mode</td>\n",
       "      <td>Ярославль</td>\n",
       "      <td>Ярославль</td>\n",
       "      <td>NaN</td>\n",
       "    </tr>\n",
       "    <tr>\n",
       "      <th>6</th>\n",
       "      <td>credit_card</td>\n",
       "      <td>median</td>\n",
       "      <td>1.0</td>\n",
       "      <td>1.0</td>\n",
       "      <td>NaN</td>\n",
       "    </tr>\n",
       "    <tr>\n",
       "      <th>7</th>\n",
       "      <td>equity</td>\n",
       "      <td>median</td>\n",
       "      <td>3.0</td>\n",
       "      <td>4.0</td>\n",
       "      <td>NaN</td>\n",
       "    </tr>\n",
       "    <tr>\n",
       "      <th>8</th>\n",
       "      <td>last_activity</td>\n",
       "      <td>median</td>\n",
       "      <td>0.0</td>\n",
       "      <td>1.0</td>\n",
       "      <td>NaN</td>\n",
       "    </tr>\n",
       "    <tr>\n",
       "      <th>9</th>\n",
       "      <td>products</td>\n",
       "      <td>median</td>\n",
       "      <td>2.0</td>\n",
       "      <td>2.0</td>\n",
       "      <td>NaN</td>\n",
       "    </tr>\n",
       "    <tr>\n",
       "      <th>10</th>\n",
       "      <td>score</td>\n",
       "      <td>mean</td>\n",
       "      <td>845.428362</td>\n",
       "      <td>863.401099</td>\n",
       "      <td>2.125873</td>\n",
       "    </tr>\n",
       "    <tr>\n",
       "      <th>11</th>\n",
       "      <td>score</td>\n",
       "      <td>median</td>\n",
       "      <td>848.0</td>\n",
       "      <td>866.0</td>\n",
       "      <td>2.122642</td>\n",
       "    </tr>\n",
       "    <tr>\n",
       "      <th>12</th>\n",
       "      <td>sex</td>\n",
       "      <td>mode</td>\n",
       "      <td>Ж</td>\n",
       "      <td>М</td>\n",
       "      <td>NaN</td>\n",
       "    </tr>\n",
       "  </tbody>\n",
       "</table>\n",
       "</div>"
      ],
      "text/plain": [
       "          Признак Агрегатор       Не отток          Отток  \\\n",
       "0      EST_SALARY      mean  147783.200108  148243.010198   \n",
       "1      EST_SALARY    median     118257.715      125390.62   \n",
       "2             age      mean      43.020846      41.450247   \n",
       "3         balance      mean  733982.585648  1133993.27145   \n",
       "4         balance    median     475382.445      782410.47   \n",
       "5          cities      mode      Ярославль      Ярославль   \n",
       "6     credit_card    median            1.0            1.0   \n",
       "7          equity    median            3.0            4.0   \n",
       "8   last_activity    median            0.0            1.0   \n",
       "9        products    median            2.0            2.0   \n",
       "10          score      mean     845.428362     863.401099   \n",
       "11          score    median          848.0          866.0   \n",
       "12            sex      mode              Ж              М   \n",
       "\n",
       "    Относительная разница, %  \n",
       "0                   0.311138  \n",
       "1                   6.031661  \n",
       "2                  -3.650785  \n",
       "3                  54.498662  \n",
       "4                  64.585478  \n",
       "5                        NaN  \n",
       "6                        NaN  \n",
       "7                        NaN  \n",
       "8                        NaN  \n",
       "9                        NaN  \n",
       "10                  2.125873  \n",
       "11                  2.122642  \n",
       "12                       NaN  "
      ]
     },
     "execution_count": 25,
     "metadata": {},
     "output_type": "execute_result"
    }
   ],
   "source": [
    "portret = df.pivot_table(index = 'churn',aggfunc = {'EST_SALARY':[np.mean, np.median],'age':'mean','balance':[np.mean, np.median], 'equity':'median','products':'median', 'sex':pd.Series.mode, 'cities':pd.Series.mode, 'score':[np.mean, np.median],'credit_card':'median', 'last_activity':'median'}).T.reset_index()\n",
    "\n",
    "for i in [0,1,2,3,4,10,11]:\n",
    "    try: portret.loc[i,'Относительная разница'] = (float(portret.loc[i,1])/float(portret.loc[i,0])-1)*100\n",
    "    except: portret.loc[i,'Относительная разница'] = ''  \n",
    "portret.columns=['Признак','Агрегатор', 'Не отток', 'Отток', 'Относительная разница, %']\n",
    "\n",
    "portret\n"
   ]
  },
  {
   "cell_type": "markdown",
   "id": "879f5839",
   "metadata": {},
   "source": [
    "**Таблица показывает наличие существенной разницы среднего баланса у отточных и оставшихся клиентов. Из категориальных признаков можно отметить отличие параметров баллов собственности, активности и пола. У параметров EST_SALARY и balance среднее больше медианы. Следовательно, распределение скошено вправо. У параметра score наборот среднее меньше медианы. Следовательно, распределение скошено влево** "
   ]
  },
  {
   "cell_type": "markdown",
   "id": "331bc90f",
   "metadata": {},
   "source": [
    "#### Корреляционный анализ (в тч интерпретация):"
   ]
  },
  {
   "cell_type": "code",
   "execution_count": 26,
   "id": "0585d75c",
   "metadata": {},
   "outputs": [
    {
     "data": {
      "text/html": [
       "<div>\n",
       "<style scoped>\n",
       "    .dataframe tbody tr th:only-of-type {\n",
       "        vertical-align: middle;\n",
       "    }\n",
       "\n",
       "    .dataframe tbody tr th {\n",
       "        vertical-align: top;\n",
       "    }\n",
       "\n",
       "    .dataframe thead th {\n",
       "        text-align: right;\n",
       "    }\n",
       "</style>\n",
       "<table border=\"1\" class=\"dataframe\">\n",
       "  <thead>\n",
       "    <tr style=\"text-align: right;\">\n",
       "      <th></th>\n",
       "      <th>churn</th>\n",
       "      <th>Cheddok</th>\n",
       "    </tr>\n",
       "  </thead>\n",
       "  <tbody>\n",
       "    <tr>\n",
       "      <th>churn</th>\n",
       "      <td>1.00</td>\n",
       "      <td>NaN</td>\n",
       "    </tr>\n",
       "    <tr>\n",
       "      <th>products</th>\n",
       "      <td>0.44</td>\n",
       "      <td>Корреляция умеренная</td>\n",
       "    </tr>\n",
       "    <tr>\n",
       "      <th>balance_skip</th>\n",
       "      <td>0.38</td>\n",
       "      <td>Корреляция умеренная</td>\n",
       "    </tr>\n",
       "    <tr>\n",
       "      <th>equity</th>\n",
       "      <td>0.35</td>\n",
       "      <td>Корреляция умеренная</td>\n",
       "    </tr>\n",
       "    <tr>\n",
       "      <th>last_activity</th>\n",
       "      <td>0.26</td>\n",
       "      <td>Корреляция слабая</td>\n",
       "    </tr>\n",
       "    <tr>\n",
       "      <th>score</th>\n",
       "      <td>0.23</td>\n",
       "      <td>Корреляция слабая</td>\n",
       "    </tr>\n",
       "    <tr>\n",
       "      <th>gender_Ж</th>\n",
       "      <td>0.22</td>\n",
       "      <td>Корреляция слабая</td>\n",
       "    </tr>\n",
       "    <tr>\n",
       "      <th>sex</th>\n",
       "      <td>0.22</td>\n",
       "      <td>Корреляция слабая</td>\n",
       "    </tr>\n",
       "    <tr>\n",
       "      <th>gender_М</th>\n",
       "      <td>0.22</td>\n",
       "      <td>Корреляция слабая</td>\n",
       "    </tr>\n",
       "    <tr>\n",
       "      <th>credit_card</th>\n",
       "      <td>0.20</td>\n",
       "      <td>Корреляция слабая</td>\n",
       "    </tr>\n",
       "    <tr>\n",
       "      <th>age</th>\n",
       "      <td>0.18</td>\n",
       "      <td>Корреляция слабая</td>\n",
       "    </tr>\n",
       "    <tr>\n",
       "      <th>USERID</th>\n",
       "      <td>0.14</td>\n",
       "      <td>Корреляция слабая</td>\n",
       "    </tr>\n",
       "    <tr>\n",
       "      <th>EST_SALARY</th>\n",
       "      <td>0.05</td>\n",
       "      <td>Корреляция отсутствует</td>\n",
       "    </tr>\n",
       "    <tr>\n",
       "      <th>city_Рыбинск</th>\n",
       "      <td>0.05</td>\n",
       "      <td>Корреляция отсутствует</td>\n",
       "    </tr>\n",
       "    <tr>\n",
       "      <th>city_Ярославль</th>\n",
       "      <td>0.03</td>\n",
       "      <td>Корреляция отсутствует</td>\n",
       "    </tr>\n",
       "    <tr>\n",
       "      <th>age_skip</th>\n",
       "      <td>0.02</td>\n",
       "      <td>Корреляция отсутствует</td>\n",
       "    </tr>\n",
       "    <tr>\n",
       "      <th>cities</th>\n",
       "      <td>0.02</td>\n",
       "      <td>Корреляция отсутствует</td>\n",
       "    </tr>\n",
       "    <tr>\n",
       "      <th>balance</th>\n",
       "      <td>0.02</td>\n",
       "      <td>Корреляция отсутствует</td>\n",
       "    </tr>\n",
       "    <tr>\n",
       "      <th>city_Ростов</th>\n",
       "      <td>0.00</td>\n",
       "      <td>Корреляция отсутствует</td>\n",
       "    </tr>\n",
       "  </tbody>\n",
       "</table>\n",
       "</div>"
      ],
      "text/plain": [
       "                churn                 Cheddok\n",
       "churn            1.00                     NaN\n",
       "products         0.44    Корреляция умеренная\n",
       "balance_skip     0.38    Корреляция умеренная\n",
       "equity           0.35    Корреляция умеренная\n",
       "last_activity    0.26       Корреляция слабая\n",
       "score            0.23       Корреляция слабая\n",
       "gender_Ж         0.22       Корреляция слабая\n",
       "sex              0.22       Корреляция слабая\n",
       "gender_М         0.22       Корреляция слабая\n",
       "credit_card      0.20       Корреляция слабая\n",
       "age              0.18       Корреляция слабая\n",
       "USERID           0.14       Корреляция слабая\n",
       "EST_SALARY       0.05  Корреляция отсутствует\n",
       "city_Рыбинск     0.05  Корреляция отсутствует\n",
       "city_Ярославль   0.03  Корреляция отсутствует\n",
       "age_skip         0.02  Корреляция отсутствует\n",
       "cities           0.02  Корреляция отсутствует\n",
       "balance          0.02  Корреляция отсутствует\n",
       "city_Ростов      0.00  Корреляция отсутствует"
      ]
     },
     "execution_count": 26,
     "metadata": {},
     "output_type": "execute_result"
    }
   ],
   "source": [
    "matrix = df.phik_matrix(interval_cols = ['USERID','score', 'age', 'balance', 'EST_SALARY']).round(2)\n",
    "for i in matrix.index:\n",
    "    if matrix['churn'][i] < 0.1:\n",
    "        matrix.loc[i,'Cheddok'] = \"Корреляция отсутствует\"\n",
    "    elif (matrix['churn'][i] >= 0.1) & (matrix['churn'][i] < 0.3):\n",
    "        matrix.loc[i,'Cheddok'] = \"Корреляция слабая\"\n",
    "    elif (matrix['churn'][i] >= 0.3) & (matrix['churn'][i] < 0.5):\n",
    "        matrix.loc[i,'Cheddok'] = \"Корреляция умеренная\"\n",
    "    elif (matrix['churn'][i] >= 0.5) & (matrix['churn'][i] < 0.7):\n",
    "        matrix.loc[i,'Cheddok'] = \"Корреляция заметная\"\n",
    "    elif (matrix['churn'][i] >= 0.7) & (matrix['churn'][i] < 0.9):\n",
    "        matrix.loc[i,'Cheddok'] = \"Корреляция высокая\"\n",
    "    elif (matrix['churn'][i] >= 0.9) & (matrix['churn'][i] <= 0.99):\n",
    "        matrix.loc[i,'Cheddok'] = \"Корреляция весьма высокая\"\n",
    "matrix[['churn', 'Cheddok']].sort_values(by = 'churn', ascending = False)"
   ]
  },
  {
   "cell_type": "code",
   "execution_count": 27,
   "id": "a1387b28",
   "metadata": {},
   "outputs": [],
   "source": [
    "matrix.drop(columns = 'Cheddok', inplace = True)"
   ]
  },
  {
   "cell_type": "markdown",
   "id": "bc970a1c",
   "metadata": {},
   "source": [
    "**Построим тепловую карту по матрице корреляции:**"
   ]
  },
  {
   "cell_type": "code",
   "execution_count": 28,
   "id": "a0757f12",
   "metadata": {
    "scrolled": false
   },
   "outputs": [
    {
     "data": {
      "image/png": "[encoded data removed]",
      "text/plain": [
       "<Figure size 1500x1500 with 2 Axes>"
      ]
     },
     "metadata": {},
     "output_type": "display_data"
    }
   ],
   "source": [
    "plt.figure(figsize=(15, 15))\n",
    "sns.heatmap(data = matrix,cmap='coolwarm', center=0, annot=True);"
   ]
  },
  {
   "cell_type": "markdown",
   "id": "f6f72e09",
   "metadata": {},
   "source": [
    "**Наблюдается умеренная корреляция с отскоком количества продуктов и количества баллов собственности и признака пропусков в столбце balance. Также есть слабая корреляция отскока с активностью, баллами кредитного скоринга, полом, наличием кредитной карты и возрастом.** "
   ]
  },
  {
   "cell_type": "markdown",
   "id": "f748b674",
   "metadata": {},
   "source": [
    "### Проверка статистических гипотез:"
   ]
  },
  {
   "cell_type": "markdown",
   "id": "33c0cb4d",
   "metadata": {},
   "source": [
    "**Наибольшую корреляцию с отскоком показали параметры products и equity. Поэтому буду проверять гипотезы, касающиеся именно их.**"
   ]
  },
  {
   "cell_type": "markdown",
   "id": "92b79bcb",
   "metadata": {},
   "source": [
    "### Сформулируем гипотезы:"
   ]
  },
  {
   "cell_type": "markdown",
   "id": "e2e99b7c",
   "metadata": {},
   "source": [
    "**Гипотеза №1:** <br> \n",
    "H0 -  Среднее количество баллов собственности у ушедших клиентов равно среднему количеству баллов собственности у оставшихся;<br>\n",
    "H1 -  Среднее количество баллов собственности у ушедших клиентов не равно среднему количеству баллов собственности у оставшихся.\n"
   ]
  },
  {
   "cell_type": "markdown",
   "id": "d570b17d",
   "metadata": {},
   "source": [
    "**Гипотеза №2:**<br> \n",
    "H0 -  Среднее количество используемых продуктов у ушедших клиентов равно среднему количеству используемых продуктов у оставшихся;<br> \n",
    "Н1 - Среднее количество используемых продуктов у ушедших клиентов не равно среднему количеству используемых продуктов у оставшихся."
   ]
  },
  {
   "cell_type": "markdown",
   "id": "1cd05253",
   "metadata": {},
   "source": [
    "### Проверка гипотез:"
   ]
  },
  {
   "cell_type": "markdown",
   "id": "a3115e8b",
   "metadata": {},
   "source": [
    "**При проверке гипотез буду использовать t-тест для оценки равенства средних двух генеральных совокупностей, так как выполняются 2 условия:** \n",
    "   1. Генеральные совокупности не зависят друг от друга (это не одна и та же совокупность до и после какого-то изменения);\n",
    "   2.  Выборочные средние  нормально распределены. Благодаря ЦПТ, если размер выборки составляет хотя бы несколько десятков значений, выборочные средние, которые можно получить из одной и той же генеральной совокупности, будут распределены нормально вокруг истинного среднего этой совокупности. Это утверждение верно, даже если сама генеральная совокупность не распределена нормально.<br>\n",
    "   <br>\n",
    "Поскольку выборки имеют разный размер, возможна и разная дисперсия, поэтому будем использовать equal_var= False "
   ]
  },
  {
   "cell_type": "markdown",
   "id": "ad8ac40d",
   "metadata": {},
   "source": [
    "**Гипотеза № 1**"
   ]
  },
  {
   "cell_type": "code",
   "execution_count": 29,
   "id": "7c58279a",
   "metadata": {},
   "outputs": [
    {
     "data": {
      "text/plain": [
       "1820"
      ]
     },
     "execution_count": 29,
     "metadata": {},
     "output_type": "execute_result"
    }
   ],
   "source": [
    "df.query ('churn == 1')['equity'].count() # проверяем размер меньшей совокупности"
   ]
  },
  {
   "cell_type": "code",
   "execution_count": 30,
   "id": "6bf1dff0",
   "metadata": {
    "scrolled": true
   },
   "outputs": [
    {
     "name": "stdout",
     "output_type": "stream",
     "text": [
      "p-значение: 1.2094403736402587e-197\n",
      "Отвергаем нулевую гипотезу: cреднее количество баллов собственности у ушедших клиентов статистически значимо отличается от среднего количеству баллов собственности у оставшихся.\n"
     ]
    }
   ],
   "source": [
    "churn_equity = df.query ('churn == 1')['equity']\n",
    "\n",
    "not_churn_equity = df.query ('churn == 0')['equity'] \n",
    "\n",
    "alpha = 0.05 # уровень статистической значимости\n",
    "\n",
    "results = st.ttest_ind(churn_equity, not_churn_equity, equal_var= False) \n",
    "\n",
    "print('p-значение:', results.pvalue) \n",
    "\n",
    "if results.pvalue < 0.05: \n",
    "    print(\"Отвергаем нулевую гипотезу: cреднее количество баллов собственности у ушедших клиентов статистически значимо отличается от среднего количества баллов собственности у оставшихся.\")\n",
    "else:\n",
    "    print(\"Не получилось отвергнуть нулевую гипотезу\")"
   ]
  },
  {
   "cell_type": "markdown",
   "id": "7b355db9",
   "metadata": {},
   "source": [
    "**Гипотеза № 2**"
   ]
  },
  {
   "cell_type": "code",
   "execution_count": 31,
   "id": "e2c5fb47",
   "metadata": {},
   "outputs": [
    {
     "data": {
      "text/plain": [
       "1820"
      ]
     },
     "execution_count": 31,
     "metadata": {},
     "output_type": "execute_result"
    }
   ],
   "source": [
    "df.query ('churn == 1')['products'].count()"
   ]
  },
  {
   "cell_type": "code",
   "execution_count": 32,
   "id": "c56ffc31",
   "metadata": {},
   "outputs": [
    {
     "name": "stdout",
     "output_type": "stream",
     "text": [
      "p-значение: 1.9356112628058777e-138\n",
      "Отвергаем нулевую гипотезу: среднее количество используемых продуктов у ушедших клиентов статистически значимо отличается от среднего количества используемых продуктов у оставшихся.\n"
     ]
    }
   ],
   "source": [
    "churn_products = df.query ('churn == 1')['products']\n",
    "\n",
    "not_churn_products = df.query ('churn == 0')['products']\n",
    "\n",
    "alpha = 0.05 # уровень статистической значимости\n",
    "\n",
    "results = st.ttest_ind(churn_products, not_churn_products, equal_var= False) \n",
    "\n",
    "print('p-значение:', results.pvalue) \n",
    "\n",
    "if results.pvalue < 0.05: \n",
    "    print(\"Отвергаем нулевую гипотезу: среднее количество используемых продуктов у ушедших клиентов статистически значимо отличается от среднего количества используемых продуктов у оставшихся.\")\n",
    "else:\n",
    "    print(\"Не получилось отвергнуть нулевую гипотезу\")"
   ]
  },
  {
   "cell_type": "markdown",
   "id": "6551d633",
   "metadata": {},
   "source": [
    "**Мы убедились, что группа ушедших пациентов статистически значимо отличается от группы оставшихся, как минимум, по двум критериям: среднему количеству баллов собственности и среднему количеству используемых продуктов.**"
   ]
  },
  {
   "cell_type": "markdown",
   "id": "75d18ac6",
   "metadata": {},
   "source": [
    "### Подведение промежуточных итогов - выводы по результатам EDA, корреляционного анализа и гипотез, выделение признаков, влияющих на оттток:"
   ]
  },
  {
   "cell_type": "markdown",
   "id": "2c5c6920",
   "metadata": {},
   "source": [
    "**В результате проведенного анализа можно выделить следующий признаки, по которым ушедшие пациенты отличаются от оставшихся:**\n",
    "1. Среднее количество баллов собственности от 3 до 7;\n",
    "2. 2 и более используемых продукта;\n",
    "3. Возраст 25-30 и 50-60 лет;\n",
    "4. Кредитный рейтинг от 830 до 910;\n",
    "5. Баланс от 700 000 до 4 100 000;\n",
    "6. Отсутствие кредитной карты;\n",
    "7. Активность;\n",
    "8. Заработная плата от 100 до 200 тысяч рублей в месяц;\n",
    "9. Город Ярославль;\n",
    "10. Мужской пол.\n"
   ]
  },
  {
   "cell_type": "markdown",
   "id": "2e5cb933",
   "metadata": {},
   "source": [
    "### Сегментация (неузкие сегменты; отток лучше, чем средний уровень оттока по банку):"
   ]
  },
  {
   "cell_type": "markdown",
   "id": "e315e093",
   "metadata": {},
   "source": [
    "**По всем указанным выше критериям отток выше, чем не отток, это следует из графиков. Сочетаний этих критериев можно придумать достаточно много, но по условию задачи нужно выбрать штуки 3, поэтому составляю сочетание из 2-4 критериев наугад. При этом замечу, что большую часть отточных клиентов мы не охватим.**"
   ]
  },
  {
   "cell_type": "markdown",
   "id": "b6bf58d9",
   "metadata": {},
   "source": [
    "**Сегмент №1:**<br>\n",
    "Среднее количество баллов собственности от 3 до 7;<br>\n",
    "2 и более используемых продукта;<br>\n",
    "Возраст 25-30 и 50-60 лет."
   ]
  },
  {
   "cell_type": "markdown",
   "id": "a56cf5a8",
   "metadata": {},
   "source": [
    "**Сегмент №2:**<br>\n",
    "Кредитный рейтинг от 830 до 910;<br>\n",
    "Баланс от 700 000 до 4 100 000;<br>\n",
    "Отсутствие кредитной карты;"
   ]
  },
  {
   "cell_type": "markdown",
   "id": "64fb0710",
   "metadata": {},
   "source": [
    "**Сегмент №3:**<br>\n",
    "Активность;<br>\n",
    "Заработная платой от 100 до 200 тысяч рублей в месяц;<br>\n",
    "Город Ярославль;<br>\n",
    "Мужской пол.    "
   ]
  },
  {
   "cell_type": "markdown",
   "id": "ad4886e9",
   "metadata": {},
   "source": [
    "**Создадим таблицу, в которую сведём результаты оценки сегментов и данные по всему банку:**"
   ]
  },
  {
   "cell_type": "code",
   "execution_count": 33,
   "id": "17a879a8",
   "metadata": {},
   "outputs": [],
   "source": [
    "segments = pd.DataFrame()"
   ]
  },
  {
   "cell_type": "code",
   "execution_count": 34,
   "id": "8088b803",
   "metadata": {
    "scrolled": true
   },
   "outputs": [
    {
     "data": {
      "text/html": [
       "<div>\n",
       "<style scoped>\n",
       "    .dataframe tbody tr th:only-of-type {\n",
       "        vertical-align: middle;\n",
       "    }\n",
       "\n",
       "    .dataframe tbody tr th {\n",
       "        vertical-align: top;\n",
       "    }\n",
       "\n",
       "    .dataframe thead th {\n",
       "        text-align: right;\n",
       "    }\n",
       "</style>\n",
       "<table border=\"1\" class=\"dataframe\">\n",
       "  <thead>\n",
       "    <tr style=\"text-align: right;\">\n",
       "      <th></th>\n",
       "      <th>quantity_of_clients</th>\n",
       "      <th>quantity_of_churn_clients</th>\n",
       "      <th>percentages</th>\n",
       "    </tr>\n",
       "  </thead>\n",
       "  <tbody>\n",
       "    <tr>\n",
       "      <th>segment_1</th>\n",
       "      <td>1420.0</td>\n",
       "      <td>540.0</td>\n",
       "      <td>38.0</td>\n",
       "    </tr>\n",
       "    <tr>\n",
       "      <th>segment_2</th>\n",
       "      <td>664.0</td>\n",
       "      <td>326.0</td>\n",
       "      <td>49.0</td>\n",
       "    </tr>\n",
       "    <tr>\n",
       "      <th>segment_3</th>\n",
       "      <td>650.0</td>\n",
       "      <td>204.0</td>\n",
       "      <td>31.0</td>\n",
       "    </tr>\n",
       "    <tr>\n",
       "      <th>whole_bank</th>\n",
       "      <td>10000.0</td>\n",
       "      <td>1820.0</td>\n",
       "      <td>18.0</td>\n",
       "    </tr>\n",
       "  </tbody>\n",
       "</table>\n",
       "</div>"
      ],
      "text/plain": [
       "            quantity_of_clients  quantity_of_churn_clients  percentages\n",
       "segment_1                1420.0                      540.0         38.0\n",
       "segment_2                 664.0                      326.0         49.0\n",
       "segment_3                 650.0                      204.0         31.0\n",
       "whole_bank              10000.0                     1820.0         18.0"
      ]
     },
     "execution_count": 34,
     "metadata": {},
     "output_type": "execute_result"
    }
   ],
   "source": [
    "segments.loc['segment_1','quantity_of_clients'] = df.query('equity >= 3 & equity <= 7 & products>= 2 & ((age >= 25 & age<=30) or (age >= 50 & age<=60))' )['USERID'].count()\n",
    "segments.loc['segment_1','quantity_of_churn_clients'] = df.query('equity >= 3 & equity <= 7 & products >= 2 & ((age >= 25 & age<=30) or (age >= 50 & age<=60)) & churn == 1' )['USERID'].count()\n",
    "segments.loc['segment_1','percentages'] = (segments.loc['segment_1','quantity_of_churn_clients']/segments.loc['segment_1','quantity_of_clients']*100).round()\n",
    "\n",
    "segments.loc['segment_2','quantity_of_clients'] = df.query('score >= 830 & score<=910 & balance >= 700000 & balance<=4100000 & credit_card ==0' )['USERID'].count()\n",
    "segments.loc['segment_2','quantity_of_churn_clients'] = df.query('score >= 830 & score<=910 & balance >= 700000 & balance<=4100000 & credit_card ==0 & churn == 1' )['USERID'].count()\n",
    "segments.loc['segment_2','percentages'] = (segments.loc['segment_2','quantity_of_churn_clients']/segments.loc['segment_2','quantity_of_clients']*100).round()\n",
    "\n",
    "segments.loc['segment_3','quantity_of_clients'] = df.query('last_activity ==1 & EST_SALARY >=100000 & EST_SALARY<=200000 & city_Ярославль == 1 & gender_М == 1' )['USERID'].count()\n",
    "segments.loc['segment_3','quantity_of_churn_clients'] = df.query('last_activity ==1 & EST_SALARY >=100000 & EST_SALARY<=200000 & city_Ярославль == 1 & gender_М == 1 & churn == 1' )['USERID'].count()\n",
    "segments.loc['segment_3','percentages'] = (segments.loc['segment_3','quantity_of_churn_clients']/segments.loc['segment_3','quantity_of_clients']*100).round()\n",
    "\n",
    "segments.loc['whole_bank','quantity_of_clients'] = df['USERID'].count()\n",
    "segments.loc['whole_bank','quantity_of_churn_clients'] = df.query('churn == 1' )['USERID'].count()\n",
    "segments.loc['whole_bank','percentages'] = (segments.loc['whole_bank','quantity_of_churn_clients']/segments.loc['whole_bank','quantity_of_clients']*100).round()\n",
    "\n",
    "segments"
   ]
  },
  {
   "cell_type": "markdown",
   "id": "3d355eee",
   "metadata": {},
   "source": [
    "### Выводы, приоритизация сегментов и формирование рекомендаций (таргетированных) по работе с ними:"
   ]
  },
  {
   "cell_type": "markdown",
   "id": "4555f5d7",
   "metadata": {},
   "source": [
    "**У каждого сегмента есть 2 параметра: количество отточных клиентов и доля отточных клиентов. Для приоритизиции, то есть для выяснения, с какого из сегментов нужно начинать,я бы использовал второй параметр, ведь чем выше доля, тем эффективнее можно работать с этой группой,и с неё имеет смысл начинать.** "
   ]
  },
  {
   "cell_type": "markdown",
   "id": "e7aab340",
   "metadata": {},
   "source": [
    "**Отсортируем таблицу с сегментами по убыванию доли отточных клиентов:**"
   ]
  },
  {
   "cell_type": "code",
   "execution_count": 35,
   "id": "7328e794",
   "metadata": {},
   "outputs": [
    {
     "data": {
      "text/html": [
       "<div>\n",
       "<style scoped>\n",
       "    .dataframe tbody tr th:only-of-type {\n",
       "        vertical-align: middle;\n",
       "    }\n",
       "\n",
       "    .dataframe tbody tr th {\n",
       "        vertical-align: top;\n",
       "    }\n",
       "\n",
       "    .dataframe thead th {\n",
       "        text-align: right;\n",
       "    }\n",
       "</style>\n",
       "<table border=\"1\" class=\"dataframe\">\n",
       "  <thead>\n",
       "    <tr style=\"text-align: right;\">\n",
       "      <th></th>\n",
       "      <th>quantity_of_clients</th>\n",
       "      <th>quantity_of_churn_clients</th>\n",
       "      <th>percentages</th>\n",
       "    </tr>\n",
       "  </thead>\n",
       "  <tbody>\n",
       "    <tr>\n",
       "      <th>segment_2</th>\n",
       "      <td>664.0</td>\n",
       "      <td>326.0</td>\n",
       "      <td>49.0</td>\n",
       "    </tr>\n",
       "    <tr>\n",
       "      <th>segment_1</th>\n",
       "      <td>1420.0</td>\n",
       "      <td>540.0</td>\n",
       "      <td>38.0</td>\n",
       "    </tr>\n",
       "    <tr>\n",
       "      <th>segment_3</th>\n",
       "      <td>650.0</td>\n",
       "      <td>204.0</td>\n",
       "      <td>31.0</td>\n",
       "    </tr>\n",
       "    <tr>\n",
       "      <th>whole_bank</th>\n",
       "      <td>10000.0</td>\n",
       "      <td>1820.0</td>\n",
       "      <td>18.0</td>\n",
       "    </tr>\n",
       "  </tbody>\n",
       "</table>\n",
       "</div>"
      ],
      "text/plain": [
       "            quantity_of_clients  quantity_of_churn_clients  percentages\n",
       "segment_2                 664.0                      326.0         49.0\n",
       "segment_1                1420.0                      540.0         38.0\n",
       "segment_3                 650.0                      204.0         31.0\n",
       "whole_bank              10000.0                     1820.0         18.0"
      ]
     },
     "execution_count": 35,
     "metadata": {},
     "output_type": "execute_result"
    }
   ],
   "source": [
    "segments.sort_values(by = 'percentages', ascending = False)"
   ]
  },
  {
   "cell_type": "markdown",
   "id": "07580bfe",
   "metadata": {},
   "source": [
    "**Выводы:** \n",
    "   1. В результате исследования было выделено 3 сегмента, в которых отток превышает средний отток по всей выборке. \n",
    "   2. Результаты были сведены в таблицу и отсортированы по убыванию доли отточных клиентов, которая была взята в качестве критерия приоритизации. "
   ]
  },
  {
   "cell_type": "markdown",
   "id": "d0939757",
   "metadata": {},
   "source": [
    "**Рекомендации:**\n",
    "\n",
    "1. Рекомендую обратить внимание на пользователей с кредитным рейтингом от 830 до 910, балансом от 700 000 до 4 100 000 и без кредитной карты. Возможно, стоит предложить более выгодные условия по кредитным картам для клиентов с указанным рейтингом и балансом. Также рекомендовал бы оценить, насколько выгодно хранить суммы от 700 000 до 4 100 000 в указанном банке по сравнению с конкурентами. Возможно, стоит предложить более интересные условия по вкладам.  \n",
    "2. Рекомендую обратить внимание на пользователей с количеством баллов собственности от 3 до 7, двумя и более используемыми продуктами и возрастом 25-30 и 50-60 лет. Это самые обеспеченные и активные пользователи (в плане количества продуктов), но при этом они отточные. Возможно, дело в возрасте. Я бы рекомендовал собрать обратную связь и уточнить запросы пользователей именно этих двух возрастных диапазонов. Могу предположить, что клиентов 25-30 лет интересуют условия по ипотеке, а 50-60 лет - проценты по вкладам.\n",
    "3. Рекомендую обратить внимание на активных пользователей с заработная платой от 100 до 200 тысяч рублей в месяц из города Ярославля, мужского пола. Это пользователи с зарплатой выше среднего по выборке. Рекомендую обратить внимание на проценты на остаток для указанного сегмента клиентов. Неплохо было бы проверить, насколько удобно хранить, переводить или снимать эти суммы, нет ли каких-либо ограничений. Например, нет ли потолка по вкладам, после которого падает процент. Нет ли ограничений по сумме превода или снятию наличных в месяц. Хорошо бы проверить, какие условия предлагают для указанного сегмента клиентов другие банки. Возможно, клиенты, будучи активными, быстро реагируют на появление более выгодных предложений."
   ]
  },
  {
   "cell_type": "markdown",
   "id": "bce7cf8c",
   "metadata": {},
   "source": [
    "### Дашборд:"
   ]
  },
  {
   "cell_type": "markdown",
   "id": "ed62b7dd",
   "metadata": {},
   "source": [
    "https://public.tableau.com/views/_16915858546610/Dashboard1?:language=en-US&publish=yes&:display_count=n&:origin=viz_share_link"
   ]
  },
  {
   "cell_type": "markdown",
   "id": "0d0e7e76",
   "metadata": {},
   "source": [
    "### Презентация:"
   ]
  },
  {
   "cell_type": "markdown",
   "id": "51f7b1f9",
   "metadata": {},
   "source": [
    "https://disk.yandex.ru/i/E1NL4ZHX2AAMAg"
   ]
  }
 ],
 "metadata": {
  "ExecuteTimeLog": [
   {
    "duration": 45,
    "start_time": "2023-06-26T07:16:40.919Z"
   },
   {
    "duration": 385,
    "start_time": "2023-06-26T07:17:08.625Z"
   },
   {
    "duration": 1305,
    "start_time": "2023-06-26T07:17:09.317Z"
   },
   {
    "duration": 967,
    "start_time": "2023-06-26T07:17:30.616Z"
   },
   {
    "duration": 11,
    "start_time": "2023-06-26T07:30:28.447Z"
   },
   {
    "duration": 11,
    "start_time": "2023-06-26T07:30:54.640Z"
   },
   {
    "duration": 421,
    "start_time": "2023-06-27T11:05:28.404Z"
   },
   {
    "duration": 1096,
    "start_time": "2023-06-27T11:05:28.828Z"
   },
   {
    "duration": 18,
    "start_time": "2023-06-27T11:05:29.926Z"
   },
   {
    "duration": 46,
    "start_time": "2023-06-27T11:05:29.946Z"
   },
   {
    "duration": 4,
    "start_time": "2023-06-27T11:07:56.707Z"
   },
   {
    "duration": 1237,
    "start_time": "2023-06-27T11:07:56.714Z"
   },
   {
    "duration": 23,
    "start_time": "2023-06-27T11:07:57.953Z"
   },
   {
    "duration": 1578,
    "start_time": "2023-06-27T11:07:57.978Z"
   },
   {
    "duration": 8,
    "start_time": "2023-06-27T11:13:17.740Z"
   },
   {
    "duration": 966,
    "start_time": "2023-06-27T11:13:17.753Z"
   },
   {
    "duration": 13,
    "start_time": "2023-06-27T11:13:18.721Z"
   },
   {
    "duration": 1391,
    "start_time": "2023-06-27T11:13:18.736Z"
   },
   {
    "duration": 3,
    "start_time": "2023-06-27T11:13:40.050Z"
   },
   {
    "duration": 962,
    "start_time": "2023-06-27T11:13:40.056Z"
   },
   {
    "duration": 12,
    "start_time": "2023-06-27T11:13:41.020Z"
   },
   {
    "duration": 36,
    "start_time": "2023-06-27T11:13:41.034Z"
   },
   {
    "duration": 1343,
    "start_time": "2023-06-27T11:24:05.140Z"
   },
   {
    "duration": 1422,
    "start_time": "2023-06-27T11:24:06.497Z"
   },
   {
    "duration": 19,
    "start_time": "2023-06-27T11:24:07.922Z"
   },
   {
    "duration": 58,
    "start_time": "2023-06-27T11:24:07.943Z"
   },
   {
    "duration": 150,
    "start_time": "2023-06-27T11:24:30.757Z"
   },
   {
    "duration": 144,
    "start_time": "2023-06-27T11:25:04.536Z"
   },
   {
    "duration": 180,
    "start_time": "2023-06-27T11:25:17.108Z"
   },
   {
    "duration": 73,
    "start_time": "2023-06-27T11:26:18.673Z"
   },
   {
    "duration": 201,
    "start_time": "2023-06-27T11:26:57.316Z"
   },
   {
    "duration": 1374,
    "start_time": "2023-06-29T06:42:57.387Z"
   },
   {
    "duration": 1255,
    "start_time": "2023-06-29T06:42:58.763Z"
   },
   {
    "duration": 14,
    "start_time": "2023-06-29T06:43:00.020Z"
   },
   {
    "duration": 54,
    "start_time": "2023-06-29T06:43:00.036Z"
   },
   {
    "duration": 1249,
    "start_time": "2023-06-29T06:44:12.422Z"
   },
   {
    "duration": 1212,
    "start_time": "2023-06-29T06:44:13.672Z"
   },
   {
    "duration": 14,
    "start_time": "2023-06-29T06:44:17.784Z"
   },
   {
    "duration": 47,
    "start_time": "2023-06-29T06:44:22.419Z"
   },
   {
    "duration": 115,
    "start_time": "2023-06-29T06:46:56.718Z"
   },
   {
    "duration": 15,
    "start_time": "2023-06-29T06:47:21.822Z"
   },
   {
    "duration": 184,
    "start_time": "2023-06-29T06:50:14.695Z"
   },
   {
    "duration": 13,
    "start_time": "2023-06-29T06:51:35.962Z"
   },
   {
    "duration": 10,
    "start_time": "2023-06-29T06:52:23.669Z"
   },
   {
    "duration": 15,
    "start_time": "2023-06-29T06:52:30.010Z"
   },
   {
    "duration": 12,
    "start_time": "2023-06-29T06:53:12.698Z"
   },
   {
    "duration": 13,
    "start_time": "2023-06-29T06:53:38.040Z"
   },
   {
    "duration": 30,
    "start_time": "2023-06-29T06:56:24.491Z"
   },
   {
    "duration": 37,
    "start_time": "2023-06-29T06:56:53.820Z"
   },
   {
    "duration": 1302,
    "start_time": "2023-06-29T06:58:49.171Z"
   },
   {
    "duration": 1257,
    "start_time": "2023-06-29T06:58:50.475Z"
   },
   {
    "duration": 16,
    "start_time": "2023-06-29T06:58:51.734Z"
   },
   {
    "duration": 45,
    "start_time": "2023-06-29T06:58:51.752Z"
   },
   {
    "duration": 1389,
    "start_time": "2023-06-29T06:59:08.778Z"
   },
   {
    "duration": 1235,
    "start_time": "2023-06-29T06:59:10.169Z"
   },
   {
    "duration": 18,
    "start_time": "2023-06-29T06:59:11.406Z"
   },
   {
    "duration": 36,
    "start_time": "2023-06-29T06:59:11.426Z"
   },
   {
    "duration": 1150,
    "start_time": "2023-06-29T07:06:19.821Z"
   },
   {
    "duration": 1157,
    "start_time": "2023-06-29T07:06:20.973Z"
   },
   {
    "duration": 14,
    "start_time": "2023-06-29T07:06:22.131Z"
   },
   {
    "duration": 34,
    "start_time": "2023-06-29T07:06:22.147Z"
   },
   {
    "duration": 2,
    "start_time": "2023-06-29T07:06:22.184Z"
   },
   {
    "duration": 1435,
    "start_time": "2023-06-29T10:29:02.712Z"
   },
   {
    "duration": 1341,
    "start_time": "2023-06-29T10:29:04.149Z"
   },
   {
    "duration": 14,
    "start_time": "2023-06-29T10:29:05.492Z"
   },
   {
    "duration": 28,
    "start_time": "2023-06-29T10:29:07.330Z"
   },
   {
    "duration": 56,
    "start_time": "2023-06-29T10:56:28.218Z"
   },
   {
    "duration": 1218,
    "start_time": "2023-06-29T10:56:35.654Z"
   },
   {
    "duration": 1199,
    "start_time": "2023-06-29T10:56:36.875Z"
   },
   {
    "duration": 14,
    "start_time": "2023-06-29T10:56:38.076Z"
   },
   {
    "duration": 34,
    "start_time": "2023-06-29T10:56:39.194Z"
   },
   {
    "duration": 54,
    "start_time": "2023-08-11T07:43:54.162Z"
   },
   {
    "duration": 1475,
    "start_time": "2023-08-11T07:43:57.675Z"
   },
   {
    "duration": 0,
    "start_time": "2023-08-11T07:43:59.153Z"
   },
   {
    "duration": 0,
    "start_time": "2023-08-11T07:43:59.154Z"
   },
   {
    "duration": 0,
    "start_time": "2023-08-11T07:43:59.155Z"
   },
   {
    "duration": 0,
    "start_time": "2023-08-11T07:43:59.156Z"
   },
   {
    "duration": 0,
    "start_time": "2023-08-11T07:43:59.158Z"
   },
   {
    "duration": 0,
    "start_time": "2023-08-11T07:43:59.159Z"
   },
   {
    "duration": 0,
    "start_time": "2023-08-11T07:43:59.160Z"
   },
   {
    "duration": 0,
    "start_time": "2023-08-11T07:43:59.161Z"
   },
   {
    "duration": 0,
    "start_time": "2023-08-11T07:43:59.162Z"
   },
   {
    "duration": 0,
    "start_time": "2023-08-11T07:43:59.163Z"
   },
   {
    "duration": 0,
    "start_time": "2023-08-11T07:43:59.165Z"
   },
   {
    "duration": 0,
    "start_time": "2023-08-11T07:43:59.188Z"
   },
   {
    "duration": 0,
    "start_time": "2023-08-11T07:43:59.192Z"
   },
   {
    "duration": 0,
    "start_time": "2023-08-11T07:43:59.193Z"
   },
   {
    "duration": 0,
    "start_time": "2023-08-11T07:43:59.194Z"
   },
   {
    "duration": 0,
    "start_time": "2023-08-11T07:43:59.194Z"
   },
   {
    "duration": 0,
    "start_time": "2023-08-11T07:43:59.202Z"
   },
   {
    "duration": 0,
    "start_time": "2023-08-11T07:43:59.203Z"
   },
   {
    "duration": 0,
    "start_time": "2023-08-11T07:43:59.204Z"
   },
   {
    "duration": 0,
    "start_time": "2023-08-11T07:43:59.205Z"
   },
   {
    "duration": 0,
    "start_time": "2023-08-11T07:43:59.206Z"
   },
   {
    "duration": 0,
    "start_time": "2023-08-11T07:43:59.208Z"
   },
   {
    "duration": 0,
    "start_time": "2023-08-11T07:43:59.209Z"
   },
   {
    "duration": 0,
    "start_time": "2023-08-11T07:43:59.210Z"
   },
   {
    "duration": 0,
    "start_time": "2023-08-11T07:43:59.212Z"
   },
   {
    "duration": 0,
    "start_time": "2023-08-11T07:43:59.213Z"
   },
   {
    "duration": 0,
    "start_time": "2023-08-11T07:43:59.215Z"
   },
   {
    "duration": 0,
    "start_time": "2023-08-11T07:43:59.216Z"
   },
   {
    "duration": 0,
    "start_time": "2023-08-11T07:43:59.217Z"
   },
   {
    "duration": 0,
    "start_time": "2023-08-11T07:43:59.218Z"
   },
   {
    "duration": 0,
    "start_time": "2023-08-11T07:43:59.219Z"
   },
   {
    "duration": 0,
    "start_time": "2023-08-11T07:43:59.221Z"
   },
   {
    "duration": 0,
    "start_time": "2023-08-11T07:43:59.222Z"
   },
   {
    "duration": 0,
    "start_time": "2023-08-11T07:43:59.223Z"
   },
   {
    "duration": 0,
    "start_time": "2023-08-11T07:43:59.224Z"
   },
   {
    "duration": 0,
    "start_time": "2023-08-11T07:43:59.226Z"
   },
   {
    "duration": 0,
    "start_time": "2023-08-11T07:43:59.227Z"
   },
   {
    "duration": 0,
    "start_time": "2023-08-11T07:43:59.228Z"
   },
   {
    "duration": 0,
    "start_time": "2023-08-11T07:43:59.229Z"
   },
   {
    "duration": 0,
    "start_time": "2023-08-11T07:43:59.230Z"
   },
   {
    "duration": 0,
    "start_time": "2023-08-11T07:43:59.232Z"
   },
   {
    "duration": 0,
    "start_time": "2023-08-11T07:43:59.233Z"
   },
   {
    "duration": 0,
    "start_time": "2023-08-11T07:43:59.288Z"
   },
   {
    "duration": 0,
    "start_time": "2023-08-11T07:43:59.290Z"
   },
   {
    "duration": 0,
    "start_time": "2023-08-11T07:43:59.291Z"
   },
   {
    "duration": 0,
    "start_time": "2023-08-11T07:43:59.292Z"
   },
   {
    "duration": 0,
    "start_time": "2023-08-11T07:43:59.296Z"
   },
   {
    "duration": 0,
    "start_time": "2023-08-11T07:43:59.297Z"
   },
   {
    "duration": 0,
    "start_time": "2023-08-11T07:43:59.298Z"
   },
   {
    "duration": 0,
    "start_time": "2023-08-11T07:43:59.299Z"
   },
   {
    "duration": 0,
    "start_time": "2023-08-11T07:43:59.300Z"
   },
   {
    "duration": 0,
    "start_time": "2023-08-11T07:43:59.301Z"
   },
   {
    "duration": 0,
    "start_time": "2023-08-11T07:43:59.302Z"
   },
   {
    "duration": 0,
    "start_time": "2023-08-11T07:43:59.303Z"
   },
   {
    "duration": 0,
    "start_time": "2023-08-11T07:43:59.304Z"
   },
   {
    "duration": 0,
    "start_time": "2023-08-11T07:43:59.306Z"
   },
   {
    "duration": 0,
    "start_time": "2023-08-11T07:43:59.306Z"
   },
   {
    "duration": 27,
    "start_time": "2023-08-11T07:44:58.411Z"
   },
   {
    "duration": 1523,
    "start_time": "2023-08-11T07:45:20.881Z"
   },
   {
    "duration": 13,
    "start_time": "2023-08-11T07:45:22.408Z"
   },
   {
    "duration": 51,
    "start_time": "2023-08-11T07:45:22.423Z"
   },
   {
    "duration": 480,
    "start_time": "2023-08-11T07:45:22.477Z"
   },
   {
    "duration": 318,
    "start_time": "2023-08-11T07:45:22.959Z"
   },
   {
    "duration": 229,
    "start_time": "2023-08-11T07:45:23.279Z"
   },
   {
    "duration": 6073,
    "start_time": "2023-08-11T07:45:23.510Z"
   },
   {
    "duration": 193,
    "start_time": "2023-08-11T07:45:29.590Z"
   },
   {
    "duration": 195,
    "start_time": "2023-08-11T07:45:29.785Z"
   },
   {
    "duration": 524,
    "start_time": "2023-08-11T07:45:29.983Z"
   },
   {
    "duration": 699,
    "start_time": "2023-08-11T07:45:30.509Z"
   },
   {
    "duration": 185,
    "start_time": "2023-08-11T07:45:31.210Z"
   },
   {
    "duration": 169,
    "start_time": "2023-08-11T07:45:31.404Z"
   },
   {
    "duration": 48,
    "start_time": "2023-08-11T07:45:31.576Z"
   },
   {
    "duration": 12,
    "start_time": "2023-08-11T07:45:31.625Z"
   },
   {
    "duration": 0,
    "start_time": "2023-08-11T07:45:31.640Z"
   },
   {
    "duration": 0,
    "start_time": "2023-08-11T07:45:31.640Z"
   },
   {
    "duration": 0,
    "start_time": "2023-08-11T07:45:31.642Z"
   },
   {
    "duration": 0,
    "start_time": "2023-08-11T07:45:31.643Z"
   },
   {
    "duration": 0,
    "start_time": "2023-08-11T07:45:31.644Z"
   },
   {
    "duration": 0,
    "start_time": "2023-08-11T07:45:31.645Z"
   },
   {
    "duration": 0,
    "start_time": "2023-08-11T07:45:31.646Z"
   },
   {
    "duration": 0,
    "start_time": "2023-08-11T07:45:31.647Z"
   },
   {
    "duration": 0,
    "start_time": "2023-08-11T07:45:31.648Z"
   },
   {
    "duration": 0,
    "start_time": "2023-08-11T07:45:31.650Z"
   },
   {
    "duration": 0,
    "start_time": "2023-08-11T07:45:31.650Z"
   },
   {
    "duration": 0,
    "start_time": "2023-08-11T07:45:31.652Z"
   },
   {
    "duration": 0,
    "start_time": "2023-08-11T07:45:31.653Z"
   },
   {
    "duration": 0,
    "start_time": "2023-08-11T07:45:31.654Z"
   },
   {
    "duration": 0,
    "start_time": "2023-08-11T07:45:31.655Z"
   },
   {
    "duration": 0,
    "start_time": "2023-08-11T07:45:31.656Z"
   },
   {
    "duration": 0,
    "start_time": "2023-08-11T07:45:31.701Z"
   },
   {
    "duration": 0,
    "start_time": "2023-08-11T07:45:31.704Z"
   },
   {
    "duration": 0,
    "start_time": "2023-08-11T07:45:31.706Z"
   },
   {
    "duration": 1,
    "start_time": "2023-08-11T07:45:31.707Z"
   },
   {
    "duration": 0,
    "start_time": "2023-08-11T07:45:31.709Z"
   },
   {
    "duration": 0,
    "start_time": "2023-08-11T07:45:31.711Z"
   },
   {
    "duration": 0,
    "start_time": "2023-08-11T07:45:31.713Z"
   },
   {
    "duration": 0,
    "start_time": "2023-08-11T07:45:31.714Z"
   },
   {
    "duration": 0,
    "start_time": "2023-08-11T07:45:31.716Z"
   },
   {
    "duration": 0,
    "start_time": "2023-08-11T07:45:31.717Z"
   },
   {
    "duration": 0,
    "start_time": "2023-08-11T07:45:31.718Z"
   },
   {
    "duration": 0,
    "start_time": "2023-08-11T07:45:31.719Z"
   },
   {
    "duration": 0,
    "start_time": "2023-08-11T07:45:31.721Z"
   },
   {
    "duration": 0,
    "start_time": "2023-08-11T07:45:31.722Z"
   },
   {
    "duration": 0,
    "start_time": "2023-08-11T07:45:31.723Z"
   },
   {
    "duration": 0,
    "start_time": "2023-08-11T07:45:31.725Z"
   },
   {
    "duration": 0,
    "start_time": "2023-08-11T07:45:31.726Z"
   },
   {
    "duration": 0,
    "start_time": "2023-08-11T07:45:31.728Z"
   },
   {
    "duration": 0,
    "start_time": "2023-08-11T07:45:31.729Z"
   },
   {
    "duration": 1,
    "start_time": "2023-08-11T07:45:31.730Z"
   },
   {
    "duration": 0,
    "start_time": "2023-08-11T07:45:31.732Z"
   },
   {
    "duration": 1,
    "start_time": "2023-08-11T07:45:31.733Z"
   },
   {
    "duration": 0,
    "start_time": "2023-08-11T07:45:31.735Z"
   },
   {
    "duration": 0,
    "start_time": "2023-08-11T07:45:31.736Z"
   },
   {
    "duration": 0,
    "start_time": "2023-08-11T07:45:31.738Z"
   },
   {
    "duration": 0,
    "start_time": "2023-08-11T07:45:31.787Z"
   },
   {
    "duration": 1394,
    "start_time": "2023-08-19T14:46:59.803Z"
   },
   {
    "duration": 0,
    "start_time": "2023-08-19T14:47:01.200Z"
   },
   {
    "duration": 0,
    "start_time": "2023-08-19T14:47:01.201Z"
   },
   {
    "duration": 0,
    "start_time": "2023-08-19T14:47:01.202Z"
   },
   {
    "duration": 0,
    "start_time": "2023-08-19T14:47:01.204Z"
   },
   {
    "duration": 0,
    "start_time": "2023-08-19T14:47:01.204Z"
   },
   {
    "duration": 0,
    "start_time": "2023-08-19T14:47:01.206Z"
   },
   {
    "duration": 0,
    "start_time": "2023-08-19T14:47:01.224Z"
   },
   {
    "duration": 0,
    "start_time": "2023-08-19T14:47:01.225Z"
   },
   {
    "duration": 0,
    "start_time": "2023-08-19T14:47:01.226Z"
   },
   {
    "duration": 0,
    "start_time": "2023-08-19T14:47:01.227Z"
   },
   {
    "duration": 0,
    "start_time": "2023-08-19T14:47:01.228Z"
   },
   {
    "duration": 0,
    "start_time": "2023-08-19T14:47:01.229Z"
   },
   {
    "duration": 0,
    "start_time": "2023-08-19T14:47:01.230Z"
   },
   {
    "duration": 0,
    "start_time": "2023-08-19T14:47:01.232Z"
   },
   {
    "duration": 0,
    "start_time": "2023-08-19T14:47:01.233Z"
   },
   {
    "duration": 0,
    "start_time": "2023-08-19T14:47:01.234Z"
   },
   {
    "duration": 0,
    "start_time": "2023-08-19T14:47:01.235Z"
   },
   {
    "duration": 0,
    "start_time": "2023-08-19T14:47:01.236Z"
   },
   {
    "duration": 0,
    "start_time": "2023-08-19T14:47:01.237Z"
   },
   {
    "duration": 0,
    "start_time": "2023-08-19T14:47:01.238Z"
   },
   {
    "duration": 0,
    "start_time": "2023-08-19T14:47:01.239Z"
   },
   {
    "duration": 0,
    "start_time": "2023-08-19T14:47:01.240Z"
   },
   {
    "duration": 0,
    "start_time": "2023-08-19T14:47:01.241Z"
   },
   {
    "duration": 0,
    "start_time": "2023-08-19T14:47:01.242Z"
   },
   {
    "duration": 0,
    "start_time": "2023-08-19T14:47:01.242Z"
   },
   {
    "duration": 0,
    "start_time": "2023-08-19T14:47:01.244Z"
   },
   {
    "duration": 0,
    "start_time": "2023-08-19T14:47:01.245Z"
   },
   {
    "duration": 0,
    "start_time": "2023-08-19T14:47:01.246Z"
   },
   {
    "duration": 0,
    "start_time": "2023-08-19T14:47:01.247Z"
   },
   {
    "duration": 0,
    "start_time": "2023-08-19T14:47:01.248Z"
   },
   {
    "duration": 4231,
    "start_time": "2023-08-19T14:56:06.640Z"
   },
   {
    "duration": 1284,
    "start_time": "2023-08-19T14:56:10.873Z"
   },
   {
    "duration": 14,
    "start_time": "2023-08-19T14:56:12.159Z"
   },
   {
    "duration": 7,
    "start_time": "2023-08-19T14:56:12.174Z"
   },
   {
    "duration": 43,
    "start_time": "2023-08-19T14:56:12.182Z"
   },
   {
    "duration": 29,
    "start_time": "2023-08-19T14:56:12.227Z"
   },
   {
    "duration": 34,
    "start_time": "2023-08-19T14:56:12.258Z"
   },
   {
    "duration": 35,
    "start_time": "2023-08-19T14:56:12.293Z"
   },
   {
    "duration": 35,
    "start_time": "2023-08-19T14:56:12.330Z"
   },
   {
    "duration": 402,
    "start_time": "2023-08-19T14:56:12.368Z"
   },
   {
    "duration": 302,
    "start_time": "2023-08-19T14:56:12.772Z"
   },
   {
    "duration": 199,
    "start_time": "2023-08-19T14:56:13.075Z"
   },
   {
    "duration": 6239,
    "start_time": "2023-08-19T14:56:13.276Z"
   },
   {
    "duration": 207,
    "start_time": "2023-08-19T14:56:19.523Z"
   },
   {
    "duration": 996,
    "start_time": "2023-08-19T14:56:19.732Z"
   },
   {
    "duration": 322,
    "start_time": "2023-08-19T14:56:20.730Z"
   },
   {
    "duration": 340,
    "start_time": "2023-08-19T14:56:21.054Z"
   },
   {
    "duration": 335,
    "start_time": "2023-08-19T14:56:21.395Z"
   },
   {
    "duration": 317,
    "start_time": "2023-08-19T14:56:21.732Z"
   },
   {
    "duration": 29,
    "start_time": "2023-08-19T14:56:22.051Z"
   },
   {
    "duration": 18,
    "start_time": "2023-08-19T14:56:22.083Z"
   },
   {
    "duration": 990,
    "start_time": "2023-08-19T14:56:22.125Z"
   },
   {
    "duration": 3,
    "start_time": "2023-08-19T14:56:23.123Z"
   },
   {
    "duration": 2186,
    "start_time": "2023-08-19T14:56:23.128Z"
   },
   {
    "duration": 13,
    "start_time": "2023-08-19T14:56:25.316Z"
   },
   {
    "duration": 12,
    "start_time": "2023-08-19T14:56:25.330Z"
   },
   {
    "duration": 7,
    "start_time": "2023-08-19T14:56:25.345Z"
   },
   {
    "duration": 10,
    "start_time": "2023-08-19T14:56:25.356Z"
   },
   {
    "duration": 3,
    "start_time": "2023-08-19T14:56:25.368Z"
   },
   {
    "duration": 88,
    "start_time": "2023-08-19T14:56:25.374Z"
   },
   {
    "duration": 33,
    "start_time": "2023-08-19T14:56:25.463Z"
   },
   {
    "duration": 3453,
    "start_time": "2023-08-21T00:50:24.363Z"
   },
   {
    "duration": 1276,
    "start_time": "2023-08-21T00:50:27.818Z"
   },
   {
    "duration": 12,
    "start_time": "2023-08-21T00:50:29.096Z"
   },
   {
    "duration": 5,
    "start_time": "2023-08-21T00:50:29.109Z"
   },
   {
    "duration": 35,
    "start_time": "2023-08-21T00:50:29.115Z"
   },
   {
    "duration": 15,
    "start_time": "2023-08-21T00:50:29.154Z"
   },
   {
    "duration": 6018,
    "start_time": "2023-08-21T00:50:29.171Z"
   },
   {
    "duration": 26,
    "start_time": "2023-08-21T00:50:35.191Z"
   },
   {
    "duration": 8,
    "start_time": "2023-08-21T00:50:35.219Z"
   },
   {
    "duration": 67,
    "start_time": "2023-08-21T00:50:35.229Z"
   },
   {
    "duration": 12,
    "start_time": "2023-08-21T00:50:35.297Z"
   },
   {
    "duration": 59,
    "start_time": "2023-08-21T00:50:35.310Z"
   },
   {
    "duration": 13,
    "start_time": "2023-08-21T00:50:35.371Z"
   },
   {
    "duration": 23,
    "start_time": "2023-08-21T00:50:35.385Z"
   },
   {
    "duration": 402,
    "start_time": "2023-08-21T00:50:35.409Z"
   },
   {
    "duration": 303,
    "start_time": "2023-08-21T00:50:35.813Z"
   },
   {
    "duration": 202,
    "start_time": "2023-08-21T00:50:36.117Z"
   },
   {
    "duration": 6486,
    "start_time": "2023-08-21T00:50:36.321Z"
   },
   {
    "duration": 196,
    "start_time": "2023-08-21T00:50:42.809Z"
   },
   {
    "duration": 603,
    "start_time": "2023-08-21T00:50:43.007Z"
   },
   {
    "duration": 280,
    "start_time": "2023-08-21T00:50:43.612Z"
   },
   {
    "duration": 2751,
    "start_time": "2023-08-21T00:50:43.894Z"
   },
   {
    "duration": 10547,
    "start_time": "2023-08-21T00:50:46.647Z"
   },
   {
    "duration": 517,
    "start_time": "2023-08-21T00:50:57.196Z"
   },
   {
    "duration": 393,
    "start_time": "2023-08-21T00:50:57.715Z"
   },
   {
    "duration": 385,
    "start_time": "2023-08-21T00:50:58.109Z"
   },
   {
    "duration": 303,
    "start_time": "2023-08-21T00:50:58.496Z"
   },
   {
    "duration": 300,
    "start_time": "2023-08-21T00:50:58.802Z"
   },
   {
    "duration": 197,
    "start_time": "2023-08-21T00:50:59.103Z"
   },
   {
    "duration": 961,
    "start_time": "2023-08-21T00:50:59.302Z"
   },
   {
    "duration": 5,
    "start_time": "2023-08-21T00:51:00.266Z"
   },
   {
    "duration": 2154,
    "start_time": "2023-08-21T00:51:00.273Z"
   },
   {
    "duration": 8,
    "start_time": "2023-08-21T00:51:02.429Z"
   },
   {
    "duration": 29,
    "start_time": "2023-08-21T00:51:02.453Z"
   },
   {
    "duration": 66,
    "start_time": "2023-08-21T00:51:02.484Z"
   },
   {
    "duration": 28,
    "start_time": "2023-08-21T00:51:02.552Z"
   },
   {
    "duration": 38,
    "start_time": "2023-08-21T00:51:02.581Z"
   },
   {
    "duration": 66,
    "start_time": "2023-08-21T00:51:02.620Z"
   },
   {
    "duration": 10,
    "start_time": "2023-08-21T00:51:02.687Z"
   }
  ],
  "kernelspec": {
   "display_name": "Python 3 (ipykernel)",
   "language": "python",
   "name": "python3"
  },
  "language_info": {
   "codemirror_mode": {
    "name": "ipython",
    "version": 3
   },
   "file_extension": ".py",
   "mimetype": "text/x-python",
   "name": "python",
   "nbconvert_exporter": "python",
   "pygments_lexer": "ipython3",
   "version": "3.9.13"
  },
  "toc": {
   "base_numbering": 1,
   "nav_menu": {},
   "number_sections": true,
   "sideBar": true,
   "skip_h1_title": true,
   "title_cell": "Table of Contents",
   "title_sidebar": "Contents",
   "toc_cell": false,
   "toc_position": {},
   "toc_section_display": true,
   "toc_window_display": false
  }
 },
 "nbformat": 4,
 "nbformat_minor": 5
}
