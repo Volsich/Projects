{
 "cells": [
  {
   "cell_type": "markdown",
   "id": "9d0ffd64",
   "metadata": {},
   "source": [
    "# Расчёт времени нахождения в терапевтическом диапазоне методом Розенталя"
   ]
  },
  {
   "cell_type": "markdown",
   "id": "ac855c4c",
   "metadata": {},
   "source": [
    "**Описание проекта:** <br>\n",
    "    Пациенты, перенесшие операции на сердце принимают кроверазжижающие препараты на основе варфарина. Варфарин очень опасное вещество, так как его передозировка может вызывать кровотечения как наружние, так и внутренние. Если же пациент принимает слишклм малую дозу то возникает риск образования тромбов. Параметром, который позволяет контролированть правильность дозировки, является МНО (международное нормализованное отношение). У каждого пациента, в зависимости от его диагноза, должен быть свой терапевтический диапазон в котором должен находится этот параметр, плюс врач может его скорректировать по конкретного пациента, исходя из его истории лечения. У разных людей встречается разная чувствительность к препаратам, содержащим варфарин, поэтому дозировка для каждого пациента подбирается индивидуально на основе его предыдущих дозировок и значений МНО. МНО сдаётся один раз в 10-20 дней и может как попадать в целевой диапазон, так и выпадать из него. Критерием эффективности назначаемой дозировки является такой параметр, как TTR (Time in Therapeutic Range). Проблема заключается в том, что нет утвержденных стандартов его расчёта.\n",
    "    \n",
    "**Цель:**\n",
    "   1. Изучить данные и составить алгоритм расчёта TTR метом Розенталя.\n",
    "   2. Учесть, что у пациента может быть несколько заболеваний, и несколько соответствующих им целевых диапазонов.\n",
    "   3. Иметь в виду, что врач может внести изменения в терапевтический диапазон.\n",
    "   4. Рассчитать TTR как отношение веремени пребывания в индивидуалльном целевом диапазоне к общему времени лечения.\n",
    "   5. Сгруппировать результаты по годам отдельно для пациентов, сдающих анализ дома, и для пациентов с собственным прибором.\n",
    "   6. Вывести график.\n",
    "   \n",
    "**Этапы исследования:**\n",
    "\n",
    "   1. Загрузка данных и изучение общей информации;\n",
    "   2. Анализ данных;\n",
    "   3. Добавление новых признаков;\n",
    "   4. Расчёт;\n",
    "   5. Презентация результатов."
   ]
  },
  {
   "cell_type": "markdown",
   "id": "a8ca7760",
   "metadata": {},
   "source": [
    "**Импортируем библиотеки:**"
   ]
  },
  {
   "cell_type": "code",
   "execution_count": 43,
   "id": "fcd9e583",
   "metadata": {},
   "outputs": [],
   "source": [
    "import pandas as pd \n",
    "import plotly.express as px"
   ]
  },
  {
   "cell_type": "markdown",
   "id": "e31f3374",
   "metadata": {},
   "source": [
    "**Загружаем данные:**"
   ]
  },
  {
   "cell_type": "code",
   "execution_count": 44,
   "id": "2cdf5f7a",
   "metadata": {},
   "outputs": [],
   "source": [
    "inr = pd.read_csv('C:/Users/volsi/Documents/Filezilla/dwh_dump/dwh_ts_kazan_inr.csv')\n",
    "indications = pd.read_csv('C:/Users/volsi/Documents/Filezilla/dwh_dump/dwh_ts_kazan_indications.csv')\n",
    "treatment_data = pd.read_csv('C:/Users/volsi/Documents/Filezilla/dwh_dump/dwh_ts_kazan_treatment_data.csv')\n",
    "patient_institutions = pd.read_csv('C:/Users/volsi/Documents/Filezilla/dwh_dump/dwh_ts_kazan_patient_institutions.csv')"
   ]
  },
  {
   "cell_type": "markdown",
   "id": "1fd97d79",
   "metadata": {},
   "source": [
    "**Посмотрим, из чего состоит таблица inr:**"
   ]
  },
  {
   "cell_type": "code",
   "execution_count": 45,
   "id": "6c24af9f",
   "metadata": {},
   "outputs": [
    {
     "data": {
      "text/html": [
       "<div>\n",
       "<style scoped>\n",
       "    .dataframe tbody tr th:only-of-type {\n",
       "        vertical-align: middle;\n",
       "    }\n",
       "\n",
       "    .dataframe tbody tr th {\n",
       "        vertical-align: top;\n",
       "    }\n",
       "\n",
       "    .dataframe thead th {\n",
       "        text-align: right;\n",
       "    }\n",
       "</style>\n",
       "<table border=\"1\" class=\"dataframe\">\n",
       "  <thead>\n",
       "    <tr style=\"text-align: right;\">\n",
       "      <th></th>\n",
       "      <th>peso_id</th>\n",
       "      <th>trbh_id</th>\n",
       "      <th>inr_date</th>\n",
       "      <th>inr</th>\n",
       "      <th>method_cd</th>\n",
       "      <th>ind_status</th>\n",
       "      <th>list_nr</th>\n",
       "      <th>id</th>\n",
       "      <th>dosing_process_timestamp</th>\n",
       "      <th>reason_dosing_list</th>\n",
       "    </tr>\n",
       "  </thead>\n",
       "  <tbody>\n",
       "    <tr>\n",
       "      <th>0</th>\n",
       "      <td>6027991086</td>\n",
       "      <td>6131492478</td>\n",
       "      <td>2023-06-10 09:53:00</td>\n",
       "      <td>4.1</td>\n",
       "      <td>ZMA</td>\n",
       "      <td>CSP</td>\n",
       "      <td>3.0</td>\n",
       "      <td>6131840490</td>\n",
       "      <td>2023-06-10 09:54:57.089723</td>\n",
       "      <td>return ''.gettext('Er zijn minder dan 2 opeenv...</td>\n",
       "    </tr>\n",
       "    <tr>\n",
       "      <th>1</th>\n",
       "      <td>6026141152</td>\n",
       "      <td>6026512906</td>\n",
       "      <td>2023-09-01 06:49:00</td>\n",
       "      <td>1.7</td>\n",
       "      <td>ZMA</td>\n",
       "      <td>CSP</td>\n",
       "      <td>2.0</td>\n",
       "      <td>6134525496</td>\n",
       "      <td>2023-09-01 06:49:30.63231</td>\n",
       "      <td>return ''.sprintf(gettext('Huidige INR %s ligt...</td>\n",
       "    </tr>\n",
       "    <tr>\n",
       "      <th>2</th>\n",
       "      <td>6026394360</td>\n",
       "      <td>6059271230</td>\n",
       "      <td>2024-04-12 00:00:00</td>\n",
       "      <td>3.1</td>\n",
       "      <td>LAB</td>\n",
       "      <td>CSP</td>\n",
       "      <td>2.0</td>\n",
       "      <td>6140543514</td>\n",
       "      <td>2024-04-18 08:21:25.910798</td>\n",
       "      <td>return ''.sprintf(gettext('Huidige INR %s ligt...</td>\n",
       "    </tr>\n",
       "    <tr>\n",
       "      <th>3</th>\n",
       "      <td>6026394638</td>\n",
       "      <td>6059368614</td>\n",
       "      <td>2023-11-24 11:42:00</td>\n",
       "      <td>3.0</td>\n",
       "      <td>ZMA</td>\n",
       "      <td>CSP</td>\n",
       "      <td>2.0</td>\n",
       "      <td>6137177792</td>\n",
       "      <td>2023-11-24 11:42:44.286527</td>\n",
       "      <td>return ''.gettext('Er kon geen doseervoorstel ...</td>\n",
       "    </tr>\n",
       "    <tr>\n",
       "      <th>4</th>\n",
       "      <td>6026138194</td>\n",
       "      <td>6026318204</td>\n",
       "      <td>2018-03-23 00:00:00</td>\n",
       "      <td>4.4</td>\n",
       "      <td>LAB</td>\n",
       "      <td>CSP</td>\n",
       "      <td>3.0</td>\n",
       "      <td>6026326660</td>\n",
       "      <td>2018-03-23 11:00:54.859975</td>\n",
       "      <td>return ''.gettext('Er zijn minder dan 2 opeenv...</td>\n",
       "    </tr>\n",
       "  </tbody>\n",
       "</table>\n",
       "</div>"
      ],
      "text/plain": [
       "      peso_id     trbh_id             inr_date  inr method_cd ind_status  \\\n",
       "0  6027991086  6131492478  2023-06-10 09:53:00  4.1       ZMA        CSP   \n",
       "1  6026141152  6026512906  2023-09-01 06:49:00  1.7       ZMA        CSP   \n",
       "2  6026394360  6059271230  2024-04-12 00:00:00  3.1       LAB        CSP   \n",
       "3  6026394638  6059368614  2023-11-24 11:42:00  3.0       ZMA        CSP   \n",
       "4  6026138194  6026318204  2018-03-23 00:00:00  4.4       LAB        CSP   \n",
       "\n",
       "   list_nr          id    dosing_process_timestamp  \\\n",
       "0      3.0  6131840490  2023-06-10 09:54:57.089723   \n",
       "1      2.0  6134525496   2023-09-01 06:49:30.63231   \n",
       "2      2.0  6140543514  2024-04-18 08:21:25.910798   \n",
       "3      2.0  6137177792  2023-11-24 11:42:44.286527   \n",
       "4      3.0  6026326660  2018-03-23 11:00:54.859975   \n",
       "\n",
       "                                  reason_dosing_list  \n",
       "0  return ''.gettext('Er zijn minder dan 2 opeenv...  \n",
       "1  return ''.sprintf(gettext('Huidige INR %s ligt...  \n",
       "2  return ''.sprintf(gettext('Huidige INR %s ligt...  \n",
       "3  return ''.gettext('Er kon geen doseervoorstel ...  \n",
       "4  return ''.gettext('Er zijn minder dan 2 opeenv...  "
      ]
     },
     "execution_count": 45,
     "metadata": {},
     "output_type": "execute_result"
    }
   ],
   "source": [
    "inr.head() # For TTR calculation"
   ]
  },
  {
   "cell_type": "markdown",
   "id": "43e4a9ed",
   "metadata": {},
   "source": [
    "**Здесь все значения МНО с датой, временем и типом терапевтического диапазона, назначаемого автоматически, но нет информации об индивидуальном терапевтическом диапазоне.**"
   ]
  },
  {
   "cell_type": "markdown",
   "id": "60a50326",
   "metadata": {},
   "source": [
    "**Посмотрим, из чего состоит таблица indications:**"
   ]
  },
  {
   "cell_type": "code",
   "execution_count": 46,
   "id": "a5881d75",
   "metadata": {
    "scrolled": true
   },
   "outputs": [
    {
     "data": {
      "text/html": [
       "<div>\n",
       "<style scoped>\n",
       "    .dataframe tbody tr th:only-of-type {\n",
       "        vertical-align: middle;\n",
       "    }\n",
       "\n",
       "    .dataframe tbody tr th {\n",
       "        vertical-align: top;\n",
       "    }\n",
       "\n",
       "    .dataframe thead th {\n",
       "        text-align: right;\n",
       "    }\n",
       "</style>\n",
       "<table border=\"1\" class=\"dataframe\">\n",
       "  <thead>\n",
       "    <tr style=\"text-align: right;\">\n",
       "      <th></th>\n",
       "      <th>peso_id</th>\n",
       "      <th>trbh_id</th>\n",
       "      <th>effective_from</th>\n",
       "      <th>effective_to</th>\n",
       "      <th>code</th>\n",
       "      <th>name</th>\n",
       "      <th>remark</th>\n",
       "      <th>type</th>\n",
       "      <th>location</th>\n",
       "      <th>target_range</th>\n",
       "      <th>id</th>\n",
       "    </tr>\n",
       "  </thead>\n",
       "  <tbody>\n",
       "    <tr>\n",
       "      <th>0</th>\n",
       "      <td>6026136398</td>\n",
       "      <td>6026185844</td>\n",
       "      <td>2016-11-28 00:00:00</td>\n",
       "      <td>NaN</td>\n",
       "      <td>134</td>\n",
       "      <td>Onstabiele angina pectoris</td>\n",
       "      <td>NaN</td>\n",
       "      <td>NaN</td>\n",
       "      <td>NaN</td>\n",
       "      <td>2</td>\n",
       "      <td>6026185868</td>\n",
       "    </tr>\n",
       "    <tr>\n",
       "      <th>1</th>\n",
       "      <td>6026137016</td>\n",
       "      <td>6026218258</td>\n",
       "      <td>2017-03-10 00:00:00</td>\n",
       "      <td>NaN</td>\n",
       "      <td>1049</td>\n",
       "      <td>Mechanische mitralis hartklepprothese + Risico...</td>\n",
       "      <td>NaN</td>\n",
       "      <td>мех</td>\n",
       "      <td>мк</td>\n",
       "      <td>2</td>\n",
       "      <td>6057488560</td>\n",
       "    </tr>\n",
       "    <tr>\n",
       "      <th>2</th>\n",
       "      <td>6026137406</td>\n",
       "      <td>6026250702</td>\n",
       "      <td>2017-08-15 00:00:00</td>\n",
       "      <td>NaN</td>\n",
       "      <td>1021</td>\n",
       "      <td>Bioklepprothese + Risicofactor</td>\n",
       "      <td>NaN</td>\n",
       "      <td>NaN</td>\n",
       "      <td>NaN</td>\n",
       "      <td>1</td>\n",
       "      <td>6055527868</td>\n",
       "    </tr>\n",
       "    <tr>\n",
       "      <th>3</th>\n",
       "      <td>6026137934</td>\n",
       "      <td>6026292136</td>\n",
       "      <td>2022-10-23 00:00:00</td>\n",
       "      <td>NaN</td>\n",
       "      <td>1029</td>\n",
       "      <td>Overige (zeldzame) indicaties (streefgebied 1)</td>\n",
       "      <td>Протезирование ВОА</td>\n",
       "      <td>NaN</td>\n",
       "      <td>NaN</td>\n",
       "      <td>1</td>\n",
       "      <td>6123427048</td>\n",
       "    </tr>\n",
       "    <tr>\n",
       "      <th>4</th>\n",
       "      <td>6026138020</td>\n",
       "      <td>6026301532</td>\n",
       "      <td>2018-01-22 00:00:00</td>\n",
       "      <td>NaN</td>\n",
       "      <td>1040</td>\n",
       "      <td>AF + (cerebrale) embolie</td>\n",
       "      <td>NaN</td>\n",
       "      <td>NaN</td>\n",
       "      <td>NaN</td>\n",
       "      <td>1</td>\n",
       "      <td>6035999650</td>\n",
       "    </tr>\n",
       "  </tbody>\n",
       "</table>\n",
       "</div>"
      ],
      "text/plain": [
       "      peso_id     trbh_id       effective_from effective_to  code  \\\n",
       "0  6026136398  6026185844  2016-11-28 00:00:00          NaN   134   \n",
       "1  6026137016  6026218258  2017-03-10 00:00:00          NaN  1049   \n",
       "2  6026137406  6026250702  2017-08-15 00:00:00          NaN  1021   \n",
       "3  6026137934  6026292136  2022-10-23 00:00:00          NaN  1029   \n",
       "4  6026138020  6026301532  2018-01-22 00:00:00          NaN  1040   \n",
       "\n",
       "                                                name              remark type  \\\n",
       "0                         Onstabiele angina pectoris                 NaN  NaN   \n",
       "1  Mechanische mitralis hartklepprothese + Risico...                 NaN  мех   \n",
       "2                     Bioklepprothese + Risicofactor                 NaN  NaN   \n",
       "3     Overige (zeldzame) indicaties (streefgebied 1)  Протезирование ВОА  NaN   \n",
       "4                           AF + (cerebrale) embolie                 NaN  NaN   \n",
       "\n",
       "  location  target_range          id  \n",
       "0      NaN             2  6026185868  \n",
       "1       мк             2  6057488560  \n",
       "2      NaN             1  6055527868  \n",
       "3      NaN             1  6123427048  \n",
       "4      NaN             1  6035999650  "
      ]
     },
     "execution_count": 46,
     "metadata": {},
     "output_type": "execute_result"
    }
   ],
   "source": [
    "indications.head() # automatic therapeutic range can be taken from here"
   ]
  },
  {
   "cell_type": "markdown",
   "id": "ac9a541d",
   "metadata": {},
   "source": [
    "**Здесь указан автоматический терапевтический диапазон для каждого пациента. Важно, что у него есть время действия. Для одного пациента может существовать несколько строк.**"
   ]
  },
  {
   "cell_type": "markdown",
   "id": "afb103ba",
   "metadata": {},
   "source": [
    "**Можем сразу найти максимальный целевой диапазон у пациента, так как учитывается именно он:**"
   ]
  },
  {
   "cell_type": "code",
   "execution_count": 47,
   "id": "7b6511c8",
   "metadata": {},
   "outputs": [
    {
     "data": {
      "text/plain": [
       "peso_id\n",
       "6026136398    2\n",
       "6026136402    1\n",
       "6026136420    2\n",
       "6026136424    2\n",
       "6026136428    2\n",
       "             ..\n",
       "6028057454    2\n",
       "6028057456    2\n",
       "6028057458    1\n",
       "6028057472    1\n",
       "6028057474    1\n",
       "Name: target_range, Length: 9272, dtype: int64"
      ]
     },
     "execution_count": 47,
     "metadata": {},
     "output_type": "execute_result"
    }
   ],
   "source": [
    "indications.groupby('peso_id')['target_range'].max() # maximum automatic therapeutic range"
   ]
  },
  {
   "cell_type": "markdown",
   "id": "cb87591c",
   "metadata": {},
   "source": [
    "**Посмотрим, из чего состоит таблица treatment_data:**"
   ]
  },
  {
   "cell_type": "code",
   "execution_count": 48,
   "id": "88c4d688",
   "metadata": {
    "scrolled": true
   },
   "outputs": [
    {
     "name": "stdout",
     "output_type": "stream",
     "text": [
      "<class 'pandas.core.frame.DataFrame'>\n",
      "RangeIndex: 9463 entries, 0 to 9462\n",
      "Data columns (total 23 columns):\n",
      " #   Column                         Non-Null Count  Dtype  \n",
      "---  ------                         --------------  -----  \n",
      " 0   peso_id                        9463 non-null   int64  \n",
      " 1   trbh_id                        9463 non-null   int64  \n",
      " 2   effective_from                 9463 non-null   object \n",
      " 3   effective_to                   2683 non-null   object \n",
      " 4   duration_days                  90 non-null     float64\n",
      " 5   duration_auto_stop             9463 non-null   object \n",
      " 6   status                         9463 non-null   object \n",
      " 7   dosing_max_period              9463 non-null   int64  \n",
      " 8   dosing_margin_days             9463 non-null   int64  \n",
      " 9   target_range_deviation_lower   1434 non-null   float64\n",
      " 10  target_range_deviation_upper   1434 non-null   float64\n",
      " 11  target_range_deviation_reason  1434 non-null   object \n",
      " 12  curr_status_selfmeasurement    9463 non-null   object \n",
      " 13  curr_status_selfdosing         9463 non-null   object \n",
      " 14  curr_status_regular            9463 non-null   object \n",
      " 15  curr_status_training           2824 non-null   object \n",
      " 16  curr_status_home_poli          8640 non-null   object \n",
      " 17  curr_status_dosing_dr          31 non-null     object \n",
      " 18  curr_status_new_patient        886 non-null    object \n",
      " 19  permanent_message              387 non-null    object \n",
      " 20  puncture_list_message          7 non-null      object \n",
      " 21  call_list_message              1 non-null      object \n",
      " 22  reason                         2680 non-null   object \n",
      "dtypes: float64(3), int64(4), object(16)\n",
      "memory usage: 1.7+ MB\n"
     ]
    }
   ],
   "source": [
    "treatment_data.info() # personal target range is here"
   ]
  },
  {
   "cell_type": "markdown",
   "id": "d1731bc3",
   "metadata": {},
   "source": [
    "**В этом файле появляется информация об изменениях целевого диапазона МНО, внесенного врачом**"
   ]
  },
  {
   "cell_type": "markdown",
   "id": "59abba7c",
   "metadata": {},
   "source": [
    "**Отфильтруем пациентов с измененным целевым диапазоном:**"
   ]
  },
  {
   "cell_type": "code",
   "execution_count": 49,
   "id": "c1cca03d",
   "metadata": {},
   "outputs": [
    {
     "data": {
      "text/html": [
       "<div>\n",
       "<style scoped>\n",
       "    .dataframe tbody tr th:only-of-type {\n",
       "        vertical-align: middle;\n",
       "    }\n",
       "\n",
       "    .dataframe tbody tr th {\n",
       "        vertical-align: top;\n",
       "    }\n",
       "\n",
       "    .dataframe thead th {\n",
       "        text-align: right;\n",
       "    }\n",
       "</style>\n",
       "<table border=\"1\" class=\"dataframe\">\n",
       "  <thead>\n",
       "    <tr style=\"text-align: right;\">\n",
       "      <th></th>\n",
       "      <th>peso_id</th>\n",
       "      <th>trbh_id</th>\n",
       "      <th>effective_from</th>\n",
       "      <th>effective_to</th>\n",
       "      <th>duration_days</th>\n",
       "      <th>duration_auto_stop</th>\n",
       "      <th>status</th>\n",
       "      <th>dosing_max_period</th>\n",
       "      <th>dosing_margin_days</th>\n",
       "      <th>target_range_deviation_lower</th>\n",
       "      <th>...</th>\n",
       "      <th>curr_status_selfdosing</th>\n",
       "      <th>curr_status_regular</th>\n",
       "      <th>curr_status_training</th>\n",
       "      <th>curr_status_home_poli</th>\n",
       "      <th>curr_status_dosing_dr</th>\n",
       "      <th>curr_status_new_patient</th>\n",
       "      <th>permanent_message</th>\n",
       "      <th>puncture_list_message</th>\n",
       "      <th>call_list_message</th>\n",
       "      <th>reason</th>\n",
       "    </tr>\n",
       "  </thead>\n",
       "  <tbody>\n",
       "    <tr>\n",
       "      <th>6</th>\n",
       "      <td>6026393996</td>\n",
       "      <td>6059129490</td>\n",
       "      <td>2020-04-27 00:00:00</td>\n",
       "      <td>2021-09-03 00:00:00</td>\n",
       "      <td>NaN</td>\n",
       "      <td>N</td>\n",
       "      <td>COMPLETED</td>\n",
       "      <td>30</td>\n",
       "      <td>10</td>\n",
       "      <td>2.5</td>\n",
       "      <td>...</td>\n",
       "      <td>N</td>\n",
       "      <td>N</td>\n",
       "      <td>N</td>\n",
       "      <td>N</td>\n",
       "      <td>NaN</td>\n",
       "      <td>NaN</td>\n",
       "      <td>пластика ТК, стентирование левой ПА в 2014 году</td>\n",
       "      <td>NaN</td>\n",
       "      <td>NaN</td>\n",
       "      <td>return ''.'дубль';</td>\n",
       "    </tr>\n",
       "    <tr>\n",
       "      <th>21</th>\n",
       "      <td>6026351208</td>\n",
       "      <td>6049591760</td>\n",
       "      <td>2019-11-18 00:00:00</td>\n",
       "      <td>2021-09-03 00:00:00</td>\n",
       "      <td>NaN</td>\n",
       "      <td>N</td>\n",
       "      <td>COMPLETED</td>\n",
       "      <td>30</td>\n",
       "      <td>10</td>\n",
       "      <td>2.0</td>\n",
       "      <td>...</td>\n",
       "      <td>N</td>\n",
       "      <td>N</td>\n",
       "      <td>N</td>\n",
       "      <td>N</td>\n",
       "      <td>NaN</td>\n",
       "      <td>NaN</td>\n",
       "      <td>NaN</td>\n",
       "      <td>NaN</td>\n",
       "      <td>NaN</td>\n",
       "      <td>return ''.'дубль';</td>\n",
       "    </tr>\n",
       "    <tr>\n",
       "      <th>23</th>\n",
       "      <td>6026138730</td>\n",
       "      <td>6026365748</td>\n",
       "      <td>2018-06-21 00:00:00</td>\n",
       "      <td>2018-08-13 00:00:00</td>\n",
       "      <td>NaN</td>\n",
       "      <td>N</td>\n",
       "      <td>DIED</td>\n",
       "      <td>30</td>\n",
       "      <td>10</td>\n",
       "      <td>2.0</td>\n",
       "      <td>...</td>\n",
       "      <td>N</td>\n",
       "      <td>N</td>\n",
       "      <td>N</td>\n",
       "      <td>N</td>\n",
       "      <td>NaN</td>\n",
       "      <td>NaN</td>\n",
       "      <td>NaN</td>\n",
       "      <td>NaN</td>\n",
       "      <td>NaN</td>\n",
       "      <td>return ''.'Просто умер';</td>\n",
       "    </tr>\n",
       "    <tr>\n",
       "      <th>40</th>\n",
       "      <td>6026136880</td>\n",
       "      <td>6026209870</td>\n",
       "      <td>2017-02-03 00:00:00</td>\n",
       "      <td>2019-09-07 00:00:00</td>\n",
       "      <td>NaN</td>\n",
       "      <td>N</td>\n",
       "      <td>COMPLETED</td>\n",
       "      <td>30</td>\n",
       "      <td>10</td>\n",
       "      <td>2.0</td>\n",
       "      <td>...</td>\n",
       "      <td>N</td>\n",
       "      <td>N</td>\n",
       "      <td>N</td>\n",
       "      <td>N</td>\n",
       "      <td>NaN</td>\n",
       "      <td>NaN</td>\n",
       "      <td>NaN</td>\n",
       "      <td>NaN</td>\n",
       "      <td>NaN</td>\n",
       "      <td>return gettext('Foutief ingevoerd').'';</td>\n",
       "    </tr>\n",
       "    <tr>\n",
       "      <th>42</th>\n",
       "      <td>6026299230</td>\n",
       "      <td>6043411018</td>\n",
       "      <td>2019-10-06 00:00:00</td>\n",
       "      <td>2023-05-13 00:00:00</td>\n",
       "      <td>184.0</td>\n",
       "      <td>J</td>\n",
       "      <td>COMPLETED</td>\n",
       "      <td>30</td>\n",
       "      <td>10</td>\n",
       "      <td>2.0</td>\n",
       "      <td>...</td>\n",
       "      <td>N</td>\n",
       "      <td>N</td>\n",
       "      <td>N</td>\n",
       "      <td>N</td>\n",
       "      <td>NaN</td>\n",
       "      <td>NaN</td>\n",
       "      <td>NaN</td>\n",
       "      <td>NaN</td>\n",
       "      <td>NaN</td>\n",
       "      <td>return ''.'кардиолог отменил варфарин';</td>\n",
       "    </tr>\n",
       "    <tr>\n",
       "      <th>...</th>\n",
       "      <td>...</td>\n",
       "      <td>...</td>\n",
       "      <td>...</td>\n",
       "      <td>...</td>\n",
       "      <td>...</td>\n",
       "      <td>...</td>\n",
       "      <td>...</td>\n",
       "      <td>...</td>\n",
       "      <td>...</td>\n",
       "      <td>...</td>\n",
       "      <td>...</td>\n",
       "      <td>...</td>\n",
       "      <td>...</td>\n",
       "      <td>...</td>\n",
       "      <td>...</td>\n",
       "      <td>...</td>\n",
       "      <td>...</td>\n",
       "      <td>...</td>\n",
       "      <td>...</td>\n",
       "      <td>...</td>\n",
       "      <td>...</td>\n",
       "    </tr>\n",
       "    <tr>\n",
       "      <th>9410</th>\n",
       "      <td>6026137296</td>\n",
       "      <td>6026243432</td>\n",
       "      <td>2017-07-19 00:00:00</td>\n",
       "      <td>NaN</td>\n",
       "      <td>NaN</td>\n",
       "      <td>N</td>\n",
       "      <td>ACTIVE</td>\n",
       "      <td>30</td>\n",
       "      <td>10</td>\n",
       "      <td>2.0</td>\n",
       "      <td>...</td>\n",
       "      <td>N</td>\n",
       "      <td>Y</td>\n",
       "      <td>NaN</td>\n",
       "      <td>N</td>\n",
       "      <td>NaN</td>\n",
       "      <td>NaN</td>\n",
       "      <td>NaN</td>\n",
       "      <td>NaN</td>\n",
       "      <td>NaN</td>\n",
       "      <td>NaN</td>\n",
       "    </tr>\n",
       "    <tr>\n",
       "      <th>9442</th>\n",
       "      <td>6027962856</td>\n",
       "      <td>6116736742</td>\n",
       "      <td>2022-12-12 00:00:00</td>\n",
       "      <td>NaN</td>\n",
       "      <td>NaN</td>\n",
       "      <td>N</td>\n",
       "      <td>ACTIVE</td>\n",
       "      <td>30</td>\n",
       "      <td>10</td>\n",
       "      <td>1.5</td>\n",
       "      <td>...</td>\n",
       "      <td>N</td>\n",
       "      <td>Y</td>\n",
       "      <td>NaN</td>\n",
       "      <td>N</td>\n",
       "      <td>NaN</td>\n",
       "      <td>NaN</td>\n",
       "      <td>NaN</td>\n",
       "      <td>NaN</td>\n",
       "      <td>NaN</td>\n",
       "      <td>NaN</td>\n",
       "    </tr>\n",
       "    <tr>\n",
       "      <th>9446</th>\n",
       "      <td>6026137302</td>\n",
       "      <td>6026243758</td>\n",
       "      <td>2017-07-20 00:00:00</td>\n",
       "      <td>NaN</td>\n",
       "      <td>NaN</td>\n",
       "      <td>N</td>\n",
       "      <td>ACTIVE</td>\n",
       "      <td>30</td>\n",
       "      <td>10</td>\n",
       "      <td>2.5</td>\n",
       "      <td>...</td>\n",
       "      <td>N</td>\n",
       "      <td>Y</td>\n",
       "      <td>NaN</td>\n",
       "      <td>N</td>\n",
       "      <td>NaN</td>\n",
       "      <td>NaN</td>\n",
       "      <td>NaN</td>\n",
       "      <td>NaN</td>\n",
       "      <td>NaN</td>\n",
       "      <td>NaN</td>\n",
       "    </tr>\n",
       "    <tr>\n",
       "      <th>9455</th>\n",
       "      <td>6027926750</td>\n",
       "      <td>6103653352</td>\n",
       "      <td>2022-09-12 00:00:00</td>\n",
       "      <td>NaN</td>\n",
       "      <td>NaN</td>\n",
       "      <td>N</td>\n",
       "      <td>ACTIVE</td>\n",
       "      <td>30</td>\n",
       "      <td>10</td>\n",
       "      <td>2.5</td>\n",
       "      <td>...</td>\n",
       "      <td>N</td>\n",
       "      <td>N</td>\n",
       "      <td>NaN</td>\n",
       "      <td>N</td>\n",
       "      <td>NaN</td>\n",
       "      <td>N</td>\n",
       "      <td>кардиолог МКДЦ (целевой уровень МНО 2,5-3,5)</td>\n",
       "      <td>NaN</td>\n",
       "      <td>NaN</td>\n",
       "      <td>NaN</td>\n",
       "    </tr>\n",
       "    <tr>\n",
       "      <th>9459</th>\n",
       "      <td>6026433462</td>\n",
       "      <td>6069098896</td>\n",
       "      <td>2021-07-16 00:00:00</td>\n",
       "      <td>NaN</td>\n",
       "      <td>NaN</td>\n",
       "      <td>N</td>\n",
       "      <td>SUSPENDED</td>\n",
       "      <td>30</td>\n",
       "      <td>10</td>\n",
       "      <td>2.5</td>\n",
       "      <td>...</td>\n",
       "      <td>N</td>\n",
       "      <td>Y</td>\n",
       "      <td>NaN</td>\n",
       "      <td>N</td>\n",
       "      <td>NaN</td>\n",
       "      <td>NaN</td>\n",
       "      <td>NaN</td>\n",
       "      <td>NaN</td>\n",
       "      <td>NaN</td>\n",
       "      <td>NaN</td>\n",
       "    </tr>\n",
       "  </tbody>\n",
       "</table>\n",
       "<p>1434 rows × 23 columns</p>\n",
       "</div>"
      ],
      "text/plain": [
       "         peso_id     trbh_id       effective_from         effective_to  \\\n",
       "6     6026393996  6059129490  2020-04-27 00:00:00  2021-09-03 00:00:00   \n",
       "21    6026351208  6049591760  2019-11-18 00:00:00  2021-09-03 00:00:00   \n",
       "23    6026138730  6026365748  2018-06-21 00:00:00  2018-08-13 00:00:00   \n",
       "40    6026136880  6026209870  2017-02-03 00:00:00  2019-09-07 00:00:00   \n",
       "42    6026299230  6043411018  2019-10-06 00:00:00  2023-05-13 00:00:00   \n",
       "...          ...         ...                  ...                  ...   \n",
       "9410  6026137296  6026243432  2017-07-19 00:00:00                  NaN   \n",
       "9442  6027962856  6116736742  2022-12-12 00:00:00                  NaN   \n",
       "9446  6026137302  6026243758  2017-07-20 00:00:00                  NaN   \n",
       "9455  6027926750  6103653352  2022-09-12 00:00:00                  NaN   \n",
       "9459  6026433462  6069098896  2021-07-16 00:00:00                  NaN   \n",
       "\n",
       "      duration_days duration_auto_stop     status  dosing_max_period  \\\n",
       "6               NaN                  N  COMPLETED                 30   \n",
       "21              NaN                  N  COMPLETED                 30   \n",
       "23              NaN                  N       DIED                 30   \n",
       "40              NaN                  N  COMPLETED                 30   \n",
       "42            184.0                  J  COMPLETED                 30   \n",
       "...             ...                ...        ...                ...   \n",
       "9410            NaN                  N     ACTIVE                 30   \n",
       "9442            NaN                  N     ACTIVE                 30   \n",
       "9446            NaN                  N     ACTIVE                 30   \n",
       "9455            NaN                  N     ACTIVE                 30   \n",
       "9459            NaN                  N  SUSPENDED                 30   \n",
       "\n",
       "      dosing_margin_days  target_range_deviation_lower  ...  \\\n",
       "6                     10                           2.5  ...   \n",
       "21                    10                           2.0  ...   \n",
       "23                    10                           2.0  ...   \n",
       "40                    10                           2.0  ...   \n",
       "42                    10                           2.0  ...   \n",
       "...                  ...                           ...  ...   \n",
       "9410                  10                           2.0  ...   \n",
       "9442                  10                           1.5  ...   \n",
       "9446                  10                           2.5  ...   \n",
       "9455                  10                           2.5  ...   \n",
       "9459                  10                           2.5  ...   \n",
       "\n",
       "      curr_status_selfdosing curr_status_regular curr_status_training  \\\n",
       "6                          N                   N                    N   \n",
       "21                         N                   N                    N   \n",
       "23                         N                   N                    N   \n",
       "40                         N                   N                    N   \n",
       "42                         N                   N                    N   \n",
       "...                      ...                 ...                  ...   \n",
       "9410                       N                   Y                  NaN   \n",
       "9442                       N                   Y                  NaN   \n",
       "9446                       N                   Y                  NaN   \n",
       "9455                       N                   N                  NaN   \n",
       "9459                       N                   Y                  NaN   \n",
       "\n",
       "     curr_status_home_poli curr_status_dosing_dr curr_status_new_patient  \\\n",
       "6                        N                   NaN                     NaN   \n",
       "21                       N                   NaN                     NaN   \n",
       "23                       N                   NaN                     NaN   \n",
       "40                       N                   NaN                     NaN   \n",
       "42                       N                   NaN                     NaN   \n",
       "...                    ...                   ...                     ...   \n",
       "9410                     N                   NaN                     NaN   \n",
       "9442                     N                   NaN                     NaN   \n",
       "9446                     N                   NaN                     NaN   \n",
       "9455                     N                   NaN                       N   \n",
       "9459                     N                   NaN                     NaN   \n",
       "\n",
       "                                    permanent_message puncture_list_message  \\\n",
       "6     пластика ТК, стентирование левой ПА в 2014 году                   NaN   \n",
       "21                                                NaN                   NaN   \n",
       "23                                                NaN                   NaN   \n",
       "40                                                NaN                   NaN   \n",
       "42                                                NaN                   NaN   \n",
       "...                                               ...                   ...   \n",
       "9410                                              NaN                   NaN   \n",
       "9442                                              NaN                   NaN   \n",
       "9446                                              NaN                   NaN   \n",
       "9455     кардиолог МКДЦ (целевой уровень МНО 2,5-3,5)                   NaN   \n",
       "9459                                              NaN                   NaN   \n",
       "\n",
       "     call_list_message                                   reason  \n",
       "6                  NaN                       return ''.'дубль';  \n",
       "21                 NaN                       return ''.'дубль';  \n",
       "23                 NaN                 return ''.'Просто умер';  \n",
       "40                 NaN  return gettext('Foutief ingevoerd').'';  \n",
       "42                 NaN  return ''.'кардиолог отменил варфарин';  \n",
       "...                ...                                      ...  \n",
       "9410               NaN                                      NaN  \n",
       "9442               NaN                                      NaN  \n",
       "9446               NaN                                      NaN  \n",
       "9455               NaN                                      NaN  \n",
       "9459               NaN                                      NaN  \n",
       "\n",
       "[1434 rows x 23 columns]"
      ]
     },
     "execution_count": 49,
     "metadata": {},
     "output_type": "execute_result"
    }
   ],
   "source": [
    "treatment_data.query('target_range_deviation_lower.notna()') # the list of patients with not empty personal target range"
   ]
  },
  {
   "cell_type": "markdown",
   "id": "e3a11e0b",
   "metadata": {},
   "source": [
    "**Объеденим информацию об автоматическом и ручном целевых диапазонах:**"
   ]
  },
  {
   "cell_type": "code",
   "execution_count": 50,
   "id": "56b9d84d",
   "metadata": {},
   "outputs": [
    {
     "name": "stdout",
     "output_type": "stream",
     "text": [
      "<class 'pandas.core.frame.DataFrame'>\n",
      "Int64Index: 9460 entries, 0 to 9459\n",
      "Data columns (total 24 columns):\n",
      " #   Column                         Non-Null Count  Dtype  \n",
      "---  ------                         --------------  -----  \n",
      " 0   peso_id                        9460 non-null   int64  \n",
      " 1   trbh_id                        9460 non-null   int64  \n",
      " 2   effective_from                 9460 non-null   object \n",
      " 3   effective_to                   2681 non-null   object \n",
      " 4   duration_days                  90 non-null     float64\n",
      " 5   duration_auto_stop             9460 non-null   object \n",
      " 6   status                         9460 non-null   object \n",
      " 7   dosing_max_period              9460 non-null   int64  \n",
      " 8   dosing_margin_days             9460 non-null   int64  \n",
      " 9   target_range_deviation_lower   1434 non-null   float64\n",
      " 10  target_range_deviation_upper   1434 non-null   float64\n",
      " 11  target_range_deviation_reason  1434 non-null   object \n",
      " 12  curr_status_selfmeasurement    9460 non-null   object \n",
      " 13  curr_status_selfdosing         9460 non-null   object \n",
      " 14  curr_status_regular            9460 non-null   object \n",
      " 15  curr_status_training           2822 non-null   object \n",
      " 16  curr_status_home_poli          8638 non-null   object \n",
      " 17  curr_status_dosing_dr          31 non-null     object \n",
      " 18  curr_status_new_patient        885 non-null    object \n",
      " 19  permanent_message              387 non-null    object \n",
      " 20  puncture_list_message          7 non-null      object \n",
      " 21  call_list_message              1 non-null      object \n",
      " 22  reason                         2678 non-null   object \n",
      " 23  target_range                   9460 non-null   int64  \n",
      "dtypes: float64(3), int64(5), object(16)\n",
      "memory usage: 1.8+ MB\n"
     ]
    }
   ],
   "source": [
    "ranges = treatment_data.merge(indications.groupby('peso_id')['target_range'].max(),on = 'peso_id', how = 'inner') # here we have as personal as automatic target range\n",
    "ranges.info()"
   ]
  },
  {
   "cell_type": "code",
   "execution_count": 51,
   "id": "23084f2c",
   "metadata": {},
   "outputs": [],
   "source": [
    "ranges = ranges.query('effective_to.isna()').reset_index()"
   ]
  },
  {
   "cell_type": "markdown",
   "id": "452d458a",
   "metadata": {},
   "source": [
    "**Добавим новые столбцы и заполним их нулями для удобства:**"
   ]
  },
  {
   "cell_type": "code",
   "execution_count": 52,
   "id": "b4049a6b",
   "metadata": {},
   "outputs": [],
   "source": [
    "ranges['final_lower']= [0 for i in range (len(ranges))]\n",
    "ranges['upper_lower']= [0 for i in range (len(ranges))]"
   ]
  },
  {
   "cell_type": "markdown",
   "id": "9782c186",
   "metadata": {},
   "source": [
    "**Посчитаем итоговый целевой диапазон для каждого пациента. Будем считать введенные врачом данные приоритетными:**"
   ]
  },
  {
   "cell_type": "code",
   "execution_count": 53,
   "id": "22219be2",
   "metadata": {},
   "outputs": [
    {
     "data": {
      "text/html": [
       "<div>\n",
       "<style scoped>\n",
       "    .dataframe tbody tr th:only-of-type {\n",
       "        vertical-align: middle;\n",
       "    }\n",
       "\n",
       "    .dataframe tbody tr th {\n",
       "        vertical-align: top;\n",
       "    }\n",
       "\n",
       "    .dataframe thead th {\n",
       "        text-align: right;\n",
       "    }\n",
       "</style>\n",
       "<table border=\"1\" class=\"dataframe\">\n",
       "  <thead>\n",
       "    <tr style=\"text-align: right;\">\n",
       "      <th></th>\n",
       "      <th>peso_id</th>\n",
       "      <th>target_range_deviation_lower</th>\n",
       "      <th>target_range_deviation_upper</th>\n",
       "      <th>target_range</th>\n",
       "      <th>final_lower</th>\n",
       "      <th>final_upper</th>\n",
       "    </tr>\n",
       "  </thead>\n",
       "  <tbody>\n",
       "    <tr>\n",
       "      <th>0</th>\n",
       "      <td>6026184960</td>\n",
       "      <td>NaN</td>\n",
       "      <td>NaN</td>\n",
       "      <td>1</td>\n",
       "      <td>2.0</td>\n",
       "      <td>3.0</td>\n",
       "    </tr>\n",
       "    <tr>\n",
       "      <th>1</th>\n",
       "      <td>6026198834</td>\n",
       "      <td>NaN</td>\n",
       "      <td>NaN</td>\n",
       "      <td>1</td>\n",
       "      <td>2.0</td>\n",
       "      <td>3.0</td>\n",
       "    </tr>\n",
       "    <tr>\n",
       "      <th>2</th>\n",
       "      <td>6026293414</td>\n",
       "      <td>NaN</td>\n",
       "      <td>NaN</td>\n",
       "      <td>1</td>\n",
       "      <td>2.0</td>\n",
       "      <td>3.0</td>\n",
       "    </tr>\n",
       "    <tr>\n",
       "      <th>3</th>\n",
       "      <td>6026202040</td>\n",
       "      <td>NaN</td>\n",
       "      <td>NaN</td>\n",
       "      <td>1</td>\n",
       "      <td>2.0</td>\n",
       "      <td>3.0</td>\n",
       "    </tr>\n",
       "    <tr>\n",
       "      <th>4</th>\n",
       "      <td>6026216114</td>\n",
       "      <td>NaN</td>\n",
       "      <td>NaN</td>\n",
       "      <td>1</td>\n",
       "      <td>2.0</td>\n",
       "      <td>3.0</td>\n",
       "    </tr>\n",
       "    <tr>\n",
       "      <th>...</th>\n",
       "      <td>...</td>\n",
       "      <td>...</td>\n",
       "      <td>...</td>\n",
       "      <td>...</td>\n",
       "      <td>...</td>\n",
       "      <td>...</td>\n",
       "    </tr>\n",
       "    <tr>\n",
       "      <th>6774</th>\n",
       "      <td>6027855788</td>\n",
       "      <td>NaN</td>\n",
       "      <td>NaN</td>\n",
       "      <td>1</td>\n",
       "      <td>2.0</td>\n",
       "      <td>3.0</td>\n",
       "    </tr>\n",
       "    <tr>\n",
       "      <th>6775</th>\n",
       "      <td>6026433462</td>\n",
       "      <td>2.5</td>\n",
       "      <td>3.0</td>\n",
       "      <td>1</td>\n",
       "      <td>2.5</td>\n",
       "      <td>3.0</td>\n",
       "    </tr>\n",
       "    <tr>\n",
       "      <th>6776</th>\n",
       "      <td>6026261980</td>\n",
       "      <td>NaN</td>\n",
       "      <td>NaN</td>\n",
       "      <td>2</td>\n",
       "      <td>2.5</td>\n",
       "      <td>3.5</td>\n",
       "    </tr>\n",
       "    <tr>\n",
       "      <th>6777</th>\n",
       "      <td>6028009272</td>\n",
       "      <td>NaN</td>\n",
       "      <td>NaN</td>\n",
       "      <td>1</td>\n",
       "      <td>2.0</td>\n",
       "      <td>3.0</td>\n",
       "    </tr>\n",
       "    <tr>\n",
       "      <th>6778</th>\n",
       "      <td>6026223204</td>\n",
       "      <td>NaN</td>\n",
       "      <td>NaN</td>\n",
       "      <td>1</td>\n",
       "      <td>2.0</td>\n",
       "      <td>3.0</td>\n",
       "    </tr>\n",
       "  </tbody>\n",
       "</table>\n",
       "<p>6779 rows × 6 columns</p>\n",
       "</div>"
      ],
      "text/plain": [
       "         peso_id  target_range_deviation_lower  target_range_deviation_upper  \\\n",
       "0     6026184960                           NaN                           NaN   \n",
       "1     6026198834                           NaN                           NaN   \n",
       "2     6026293414                           NaN                           NaN   \n",
       "3     6026202040                           NaN                           NaN   \n",
       "4     6026216114                           NaN                           NaN   \n",
       "...          ...                           ...                           ...   \n",
       "6774  6027855788                           NaN                           NaN   \n",
       "6775  6026433462                           2.5                           3.0   \n",
       "6776  6026261980                           NaN                           NaN   \n",
       "6777  6028009272                           NaN                           NaN   \n",
       "6778  6026223204                           NaN                           NaN   \n",
       "\n",
       "      target_range  final_lower  final_upper  \n",
       "0                1          2.0          3.0  \n",
       "1                1          2.0          3.0  \n",
       "2                1          2.0          3.0  \n",
       "3                1          2.0          3.0  \n",
       "4                1          2.0          3.0  \n",
       "...            ...          ...          ...  \n",
       "6774             1          2.0          3.0  \n",
       "6775             1          2.5          3.0  \n",
       "6776             2          2.5          3.5  \n",
       "6777             1          2.0          3.0  \n",
       "6778             1          2.0          3.0  \n",
       "\n",
       "[6779 rows x 6 columns]"
      ]
     },
     "execution_count": 53,
     "metadata": {},
     "output_type": "execute_result"
    }
   ],
   "source": [
    "for i in range(len(ranges)): # here the final taget range is calculated\n",
    "    if ranges.loc[i,'target_range_deviation_lower']>0:\n",
    "        ranges.loc[i,'final_lower'] = ranges.loc[i,'target_range_deviation_lower']\n",
    "        ranges.loc[i,'final_upper'] = ranges.loc[i,'target_range_deviation_upper']\n",
    "    elif ranges.loc[i,'target_range'] == 2:\n",
    "        ranges.loc[i,'final_lower'] = 2.5\n",
    "        ranges.loc[i,'final_upper'] = 3.5\n",
    "    elif ranges.loc[i,'target_range'] == 1:\n",
    "        ranges.loc[i,'final_lower'] = 2.0\n",
    "        ranges.loc[i,'final_upper'] = 3.0\n",
    "final_ranges = ranges[['peso_id', 'target_range_deviation_lower', 'target_range_deviation_upper', 'target_range','final_lower','final_upper']]\n",
    "final_ranges"
   ]
  },
  {
   "cell_type": "code",
   "execution_count": 54,
   "id": "e5fb25c2",
   "metadata": {},
   "outputs": [
    {
     "data": {
      "text/plain": [
       "6778"
      ]
     },
     "execution_count": 54,
     "metadata": {},
     "output_type": "execute_result"
    }
   ],
   "source": [
    "final_ranges['peso_id'].nunique()"
   ]
  },
  {
   "cell_type": "markdown",
   "id": "6fbe2dce",
   "metadata": {},
   "source": [
    "**А теперь привяжем финальный целевой диапазон к таблице МНО:**"
   ]
  },
  {
   "cell_type": "code",
   "execution_count": 55,
   "id": "7e459026",
   "metadata": {},
   "outputs": [
    {
     "data": {
      "text/html": [
       "<div>\n",
       "<style scoped>\n",
       "    .dataframe tbody tr th:only-of-type {\n",
       "        vertical-align: middle;\n",
       "    }\n",
       "\n",
       "    .dataframe tbody tr th {\n",
       "        vertical-align: top;\n",
       "    }\n",
       "\n",
       "    .dataframe thead th {\n",
       "        text-align: right;\n",
       "    }\n",
       "</style>\n",
       "<table border=\"1\" class=\"dataframe\">\n",
       "  <thead>\n",
       "    <tr style=\"text-align: right;\">\n",
       "      <th></th>\n",
       "      <th>peso_id</th>\n",
       "      <th>trbh_id</th>\n",
       "      <th>inr_date</th>\n",
       "      <th>inr</th>\n",
       "      <th>method_cd</th>\n",
       "      <th>ind_status</th>\n",
       "      <th>list_nr</th>\n",
       "      <th>id</th>\n",
       "      <th>dosing_process_timestamp</th>\n",
       "      <th>reason_dosing_list</th>\n",
       "      <th>target_range_deviation_lower</th>\n",
       "      <th>target_range_deviation_upper</th>\n",
       "      <th>target_range</th>\n",
       "      <th>final_lower</th>\n",
       "      <th>final_upper</th>\n",
       "    </tr>\n",
       "  </thead>\n",
       "  <tbody>\n",
       "    <tr>\n",
       "      <th>0</th>\n",
       "      <td>6027991086</td>\n",
       "      <td>6131492478</td>\n",
       "      <td>2023-06-10 09:53:00</td>\n",
       "      <td>4.1</td>\n",
       "      <td>ZMA</td>\n",
       "      <td>CSP</td>\n",
       "      <td>3.0</td>\n",
       "      <td>6131840490</td>\n",
       "      <td>2023-06-10 09:54:57.089723</td>\n",
       "      <td>return ''.gettext('Er zijn minder dan 2 opeenv...</td>\n",
       "      <td>2.5</td>\n",
       "      <td>3.5</td>\n",
       "      <td>1</td>\n",
       "      <td>2.5</td>\n",
       "      <td>3.5</td>\n",
       "    </tr>\n",
       "    <tr>\n",
       "      <th>1</th>\n",
       "      <td>6026141152</td>\n",
       "      <td>6026512906</td>\n",
       "      <td>2023-09-01 06:49:00</td>\n",
       "      <td>1.7</td>\n",
       "      <td>ZMA</td>\n",
       "      <td>CSP</td>\n",
       "      <td>2.0</td>\n",
       "      <td>6134525496</td>\n",
       "      <td>2023-09-01 06:49:30.63231</td>\n",
       "      <td>return ''.sprintf(gettext('Huidige INR %s ligt...</td>\n",
       "      <td>2.5</td>\n",
       "      <td>3.5</td>\n",
       "      <td>1</td>\n",
       "      <td>2.5</td>\n",
       "      <td>3.5</td>\n",
       "    </tr>\n",
       "    <tr>\n",
       "      <th>2</th>\n",
       "      <td>6026141152</td>\n",
       "      <td>6026512906</td>\n",
       "      <td>2020-04-29 00:00:00</td>\n",
       "      <td>3.2</td>\n",
       "      <td>ZMA</td>\n",
       "      <td>CSP</td>\n",
       "      <td>2.0</td>\n",
       "      <td>6059205866</td>\n",
       "      <td>2020-04-29 17:35:39.170686</td>\n",
       "      <td>return ''.sprintf(gettext('Vorige INR %s (%s) ...</td>\n",
       "      <td>2.5</td>\n",
       "      <td>3.5</td>\n",
       "      <td>1</td>\n",
       "      <td>2.5</td>\n",
       "      <td>3.5</td>\n",
       "    </tr>\n",
       "    <tr>\n",
       "      <th>3</th>\n",
       "      <td>6026141152</td>\n",
       "      <td>6026512906</td>\n",
       "      <td>2020-05-28 00:00:00</td>\n",
       "      <td>2.5</td>\n",
       "      <td>ZMA</td>\n",
       "      <td>CSP</td>\n",
       "      <td>2.0</td>\n",
       "      <td>6059638402</td>\n",
       "      <td>2020-05-28 14:24:20.39494</td>\n",
       "      <td>return ''.sprintf(gettext('Aantal wegzenddagen...</td>\n",
       "      <td>2.5</td>\n",
       "      <td>3.5</td>\n",
       "      <td>1</td>\n",
       "      <td>2.5</td>\n",
       "      <td>3.5</td>\n",
       "    </tr>\n",
       "    <tr>\n",
       "      <th>4</th>\n",
       "      <td>6026141152</td>\n",
       "      <td>6026512906</td>\n",
       "      <td>2020-07-08 00:00:00</td>\n",
       "      <td>2.6</td>\n",
       "      <td>ZMA</td>\n",
       "      <td>CSP</td>\n",
       "      <td>2.0</td>\n",
       "      <td>6060016868</td>\n",
       "      <td>2020-07-08 14:59:13.154197</td>\n",
       "      <td>return ''.sprintf(gettext('Aantal wegzenddagen...</td>\n",
       "      <td>2.5</td>\n",
       "      <td>3.5</td>\n",
       "      <td>1</td>\n",
       "      <td>2.5</td>\n",
       "      <td>3.5</td>\n",
       "    </tr>\n",
       "    <tr>\n",
       "      <th>...</th>\n",
       "      <td>...</td>\n",
       "      <td>...</td>\n",
       "      <td>...</td>\n",
       "      <td>...</td>\n",
       "      <td>...</td>\n",
       "      <td>...</td>\n",
       "      <td>...</td>\n",
       "      <td>...</td>\n",
       "      <td>...</td>\n",
       "      <td>...</td>\n",
       "      <td>...</td>\n",
       "      <td>...</td>\n",
       "      <td>...</td>\n",
       "      <td>...</td>\n",
       "      <td>...</td>\n",
       "    </tr>\n",
       "    <tr>\n",
       "      <th>139390</th>\n",
       "      <td>6028010260</td>\n",
       "      <td>6137309936</td>\n",
       "      <td>2024-02-09 00:00:00</td>\n",
       "      <td>1.0</td>\n",
       "      <td>ZMA</td>\n",
       "      <td>CSP</td>\n",
       "      <td>NaN</td>\n",
       "      <td>6139233834</td>\n",
       "      <td>NaN</td>\n",
       "      <td>NaN</td>\n",
       "      <td>NaN</td>\n",
       "      <td>NaN</td>\n",
       "      <td>1</td>\n",
       "      <td>2.0</td>\n",
       "      <td>3.0</td>\n",
       "    </tr>\n",
       "    <tr>\n",
       "      <th>139391</th>\n",
       "      <td>6028010260</td>\n",
       "      <td>6137309936</td>\n",
       "      <td>2023-11-30 00:00:00</td>\n",
       "      <td>1.0</td>\n",
       "      <td>ZMA</td>\n",
       "      <td>CSP</td>\n",
       "      <td>NaN</td>\n",
       "      <td>6137312894</td>\n",
       "      <td>NaN</td>\n",
       "      <td>NaN</td>\n",
       "      <td>NaN</td>\n",
       "      <td>NaN</td>\n",
       "      <td>1</td>\n",
       "      <td>2.0</td>\n",
       "      <td>3.0</td>\n",
       "    </tr>\n",
       "    <tr>\n",
       "      <th>139392</th>\n",
       "      <td>6027983126</td>\n",
       "      <td>6127118628</td>\n",
       "      <td>2023-03-28 00:00:00</td>\n",
       "      <td>1.8</td>\n",
       "      <td>LAB</td>\n",
       "      <td>HCSP</td>\n",
       "      <td>NaN</td>\n",
       "      <td>6127118654</td>\n",
       "      <td>NaN</td>\n",
       "      <td>NaN</td>\n",
       "      <td>NaN</td>\n",
       "      <td>NaN</td>\n",
       "      <td>2</td>\n",
       "      <td>2.5</td>\n",
       "      <td>3.5</td>\n",
       "    </tr>\n",
       "    <tr>\n",
       "      <th>139393</th>\n",
       "      <td>6027973170</td>\n",
       "      <td>6120390772</td>\n",
       "      <td>2023-10-10 00:00:00</td>\n",
       "      <td>2.5</td>\n",
       "      <td>LAB</td>\n",
       "      <td>CSP</td>\n",
       "      <td>NaN</td>\n",
       "      <td>6136278298</td>\n",
       "      <td>NaN</td>\n",
       "      <td>NaN</td>\n",
       "      <td>NaN</td>\n",
       "      <td>NaN</td>\n",
       "      <td>2</td>\n",
       "      <td>2.5</td>\n",
       "      <td>3.5</td>\n",
       "    </tr>\n",
       "    <tr>\n",
       "      <th>139394</th>\n",
       "      <td>6027973170</td>\n",
       "      <td>6120390772</td>\n",
       "      <td>2023-09-15 00:00:00</td>\n",
       "      <td>2.0</td>\n",
       "      <td>LAB</td>\n",
       "      <td>CSP</td>\n",
       "      <td>NaN</td>\n",
       "      <td>6136278104</td>\n",
       "      <td>NaN</td>\n",
       "      <td>NaN</td>\n",
       "      <td>NaN</td>\n",
       "      <td>NaN</td>\n",
       "      <td>2</td>\n",
       "      <td>2.5</td>\n",
       "      <td>3.5</td>\n",
       "    </tr>\n",
       "  </tbody>\n",
       "</table>\n",
       "<p>139395 rows × 15 columns</p>\n",
       "</div>"
      ],
      "text/plain": [
       "           peso_id     trbh_id             inr_date  inr method_cd ind_status  \\\n",
       "0       6027991086  6131492478  2023-06-10 09:53:00  4.1       ZMA        CSP   \n",
       "1       6026141152  6026512906  2023-09-01 06:49:00  1.7       ZMA        CSP   \n",
       "2       6026141152  6026512906  2020-04-29 00:00:00  3.2       ZMA        CSP   \n",
       "3       6026141152  6026512906  2020-05-28 00:00:00  2.5       ZMA        CSP   \n",
       "4       6026141152  6026512906  2020-07-08 00:00:00  2.6       ZMA        CSP   \n",
       "...            ...         ...                  ...  ...       ...        ...   \n",
       "139390  6028010260  6137309936  2024-02-09 00:00:00  1.0       ZMA        CSP   \n",
       "139391  6028010260  6137309936  2023-11-30 00:00:00  1.0       ZMA        CSP   \n",
       "139392  6027983126  6127118628  2023-03-28 00:00:00  1.8       LAB       HCSP   \n",
       "139393  6027973170  6120390772  2023-10-10 00:00:00  2.5       LAB        CSP   \n",
       "139394  6027973170  6120390772  2023-09-15 00:00:00  2.0       LAB        CSP   \n",
       "\n",
       "        list_nr          id    dosing_process_timestamp  \\\n",
       "0           3.0  6131840490  2023-06-10 09:54:57.089723   \n",
       "1           2.0  6134525496   2023-09-01 06:49:30.63231   \n",
       "2           2.0  6059205866  2020-04-29 17:35:39.170686   \n",
       "3           2.0  6059638402   2020-05-28 14:24:20.39494   \n",
       "4           2.0  6060016868  2020-07-08 14:59:13.154197   \n",
       "...         ...         ...                         ...   \n",
       "139390      NaN  6139233834                         NaN   \n",
       "139391      NaN  6137312894                         NaN   \n",
       "139392      NaN  6127118654                         NaN   \n",
       "139393      NaN  6136278298                         NaN   \n",
       "139394      NaN  6136278104                         NaN   \n",
       "\n",
       "                                       reason_dosing_list  \\\n",
       "0       return ''.gettext('Er zijn minder dan 2 opeenv...   \n",
       "1       return ''.sprintf(gettext('Huidige INR %s ligt...   \n",
       "2       return ''.sprintf(gettext('Vorige INR %s (%s) ...   \n",
       "3       return ''.sprintf(gettext('Aantal wegzenddagen...   \n",
       "4       return ''.sprintf(gettext('Aantal wegzenddagen...   \n",
       "...                                                   ...   \n",
       "139390                                                NaN   \n",
       "139391                                                NaN   \n",
       "139392                                                NaN   \n",
       "139393                                                NaN   \n",
       "139394                                                NaN   \n",
       "\n",
       "        target_range_deviation_lower  target_range_deviation_upper  \\\n",
       "0                                2.5                           3.5   \n",
       "1                                2.5                           3.5   \n",
       "2                                2.5                           3.5   \n",
       "3                                2.5                           3.5   \n",
       "4                                2.5                           3.5   \n",
       "...                              ...                           ...   \n",
       "139390                           NaN                           NaN   \n",
       "139391                           NaN                           NaN   \n",
       "139392                           NaN                           NaN   \n",
       "139393                           NaN                           NaN   \n",
       "139394                           NaN                           NaN   \n",
       "\n",
       "        target_range  final_lower  final_upper  \n",
       "0                  1          2.5          3.5  \n",
       "1                  1          2.5          3.5  \n",
       "2                  1          2.5          3.5  \n",
       "3                  1          2.5          3.5  \n",
       "4                  1          2.5          3.5  \n",
       "...              ...          ...          ...  \n",
       "139390             1          2.0          3.0  \n",
       "139391             1          2.0          3.0  \n",
       "139392             2          2.5          3.5  \n",
       "139393             2          2.5          3.5  \n",
       "139394             2          2.5          3.5  \n",
       "\n",
       "[139395 rows x 15 columns]"
      ]
     },
     "execution_count": 55,
     "metadata": {},
     "output_type": "execute_result"
    }
   ],
   "source": [
    "final_inr = inr.merge(final_ranges, on = 'peso_id') # All INRs with final target range\n",
    "#final_inr['peso_id'].nunique()\n",
    "final_inr"
   ]
  },
  {
   "cell_type": "markdown",
   "id": "1623df3d",
   "metadata": {},
   "source": [
    "**Добавим столбец с признаком 'входит/не входит в целевой диапазон':**"
   ]
  },
  {
   "cell_type": "code",
   "execution_count": 56,
   "id": "77cb22c6",
   "metadata": {},
   "outputs": [
    {
     "data": {
      "text/html": [
       "<div>\n",
       "<style scoped>\n",
       "    .dataframe tbody tr th:only-of-type {\n",
       "        vertical-align: middle;\n",
       "    }\n",
       "\n",
       "    .dataframe tbody tr th {\n",
       "        vertical-align: top;\n",
       "    }\n",
       "\n",
       "    .dataframe thead th {\n",
       "        text-align: right;\n",
       "    }\n",
       "</style>\n",
       "<table border=\"1\" class=\"dataframe\">\n",
       "  <thead>\n",
       "    <tr style=\"text-align: right;\">\n",
       "      <th></th>\n",
       "      <th>peso_id</th>\n",
       "      <th>trbh_id</th>\n",
       "      <th>inr_date</th>\n",
       "      <th>inr</th>\n",
       "      <th>method_cd</th>\n",
       "      <th>ind_status</th>\n",
       "      <th>list_nr</th>\n",
       "      <th>id</th>\n",
       "      <th>dosing_process_timestamp</th>\n",
       "      <th>reason_dosing_list</th>\n",
       "      <th>target_range_deviation_lower</th>\n",
       "      <th>target_range_deviation_upper</th>\n",
       "      <th>target_range</th>\n",
       "      <th>final_lower</th>\n",
       "      <th>final_upper</th>\n",
       "      <th>inside</th>\n",
       "    </tr>\n",
       "  </thead>\n",
       "  <tbody>\n",
       "    <tr>\n",
       "      <th>0</th>\n",
       "      <td>6027991086</td>\n",
       "      <td>6131492478</td>\n",
       "      <td>2023-06-10 09:53:00</td>\n",
       "      <td>4.1</td>\n",
       "      <td>ZMA</td>\n",
       "      <td>CSP</td>\n",
       "      <td>3.0</td>\n",
       "      <td>6131840490</td>\n",
       "      <td>2023-06-10 09:54:57.089723</td>\n",
       "      <td>return ''.gettext('Er zijn minder dan 2 opeenv...</td>\n",
       "      <td>2.5</td>\n",
       "      <td>3.5</td>\n",
       "      <td>1</td>\n",
       "      <td>2.5</td>\n",
       "      <td>3.5</td>\n",
       "      <td>0.0</td>\n",
       "    </tr>\n",
       "    <tr>\n",
       "      <th>1</th>\n",
       "      <td>6026141152</td>\n",
       "      <td>6026512906</td>\n",
       "      <td>2023-09-01 06:49:00</td>\n",
       "      <td>1.7</td>\n",
       "      <td>ZMA</td>\n",
       "      <td>CSP</td>\n",
       "      <td>2.0</td>\n",
       "      <td>6134525496</td>\n",
       "      <td>2023-09-01 06:49:30.63231</td>\n",
       "      <td>return ''.sprintf(gettext('Huidige INR %s ligt...</td>\n",
       "      <td>2.5</td>\n",
       "      <td>3.5</td>\n",
       "      <td>1</td>\n",
       "      <td>2.5</td>\n",
       "      <td>3.5</td>\n",
       "      <td>0.0</td>\n",
       "    </tr>\n",
       "    <tr>\n",
       "      <th>2</th>\n",
       "      <td>6026141152</td>\n",
       "      <td>6026512906</td>\n",
       "      <td>2020-04-29 00:00:00</td>\n",
       "      <td>3.2</td>\n",
       "      <td>ZMA</td>\n",
       "      <td>CSP</td>\n",
       "      <td>2.0</td>\n",
       "      <td>6059205866</td>\n",
       "      <td>2020-04-29 17:35:39.170686</td>\n",
       "      <td>return ''.sprintf(gettext('Vorige INR %s (%s) ...</td>\n",
       "      <td>2.5</td>\n",
       "      <td>3.5</td>\n",
       "      <td>1</td>\n",
       "      <td>2.5</td>\n",
       "      <td>3.5</td>\n",
       "      <td>100.0</td>\n",
       "    </tr>\n",
       "    <tr>\n",
       "      <th>3</th>\n",
       "      <td>6026141152</td>\n",
       "      <td>6026512906</td>\n",
       "      <td>2020-05-28 00:00:00</td>\n",
       "      <td>2.5</td>\n",
       "      <td>ZMA</td>\n",
       "      <td>CSP</td>\n",
       "      <td>2.0</td>\n",
       "      <td>6059638402</td>\n",
       "      <td>2020-05-28 14:24:20.39494</td>\n",
       "      <td>return ''.sprintf(gettext('Aantal wegzenddagen...</td>\n",
       "      <td>2.5</td>\n",
       "      <td>3.5</td>\n",
       "      <td>1</td>\n",
       "      <td>2.5</td>\n",
       "      <td>3.5</td>\n",
       "      <td>100.0</td>\n",
       "    </tr>\n",
       "    <tr>\n",
       "      <th>4</th>\n",
       "      <td>6026141152</td>\n",
       "      <td>6026512906</td>\n",
       "      <td>2020-07-08 00:00:00</td>\n",
       "      <td>2.6</td>\n",
       "      <td>ZMA</td>\n",
       "      <td>CSP</td>\n",
       "      <td>2.0</td>\n",
       "      <td>6060016868</td>\n",
       "      <td>2020-07-08 14:59:13.154197</td>\n",
       "      <td>return ''.sprintf(gettext('Aantal wegzenddagen...</td>\n",
       "      <td>2.5</td>\n",
       "      <td>3.5</td>\n",
       "      <td>1</td>\n",
       "      <td>2.5</td>\n",
       "      <td>3.5</td>\n",
       "      <td>100.0</td>\n",
       "    </tr>\n",
       "    <tr>\n",
       "      <th>...</th>\n",
       "      <td>...</td>\n",
       "      <td>...</td>\n",
       "      <td>...</td>\n",
       "      <td>...</td>\n",
       "      <td>...</td>\n",
       "      <td>...</td>\n",
       "      <td>...</td>\n",
       "      <td>...</td>\n",
       "      <td>...</td>\n",
       "      <td>...</td>\n",
       "      <td>...</td>\n",
       "      <td>...</td>\n",
       "      <td>...</td>\n",
       "      <td>...</td>\n",
       "      <td>...</td>\n",
       "      <td>...</td>\n",
       "    </tr>\n",
       "    <tr>\n",
       "      <th>139390</th>\n",
       "      <td>6028010260</td>\n",
       "      <td>6137309936</td>\n",
       "      <td>2024-02-09 00:00:00</td>\n",
       "      <td>1.0</td>\n",
       "      <td>ZMA</td>\n",
       "      <td>CSP</td>\n",
       "      <td>NaN</td>\n",
       "      <td>6139233834</td>\n",
       "      <td>NaN</td>\n",
       "      <td>NaN</td>\n",
       "      <td>NaN</td>\n",
       "      <td>NaN</td>\n",
       "      <td>1</td>\n",
       "      <td>2.0</td>\n",
       "      <td>3.0</td>\n",
       "      <td>0.0</td>\n",
       "    </tr>\n",
       "    <tr>\n",
       "      <th>139391</th>\n",
       "      <td>6028010260</td>\n",
       "      <td>6137309936</td>\n",
       "      <td>2023-11-30 00:00:00</td>\n",
       "      <td>1.0</td>\n",
       "      <td>ZMA</td>\n",
       "      <td>CSP</td>\n",
       "      <td>NaN</td>\n",
       "      <td>6137312894</td>\n",
       "      <td>NaN</td>\n",
       "      <td>NaN</td>\n",
       "      <td>NaN</td>\n",
       "      <td>NaN</td>\n",
       "      <td>1</td>\n",
       "      <td>2.0</td>\n",
       "      <td>3.0</td>\n",
       "      <td>0.0</td>\n",
       "    </tr>\n",
       "    <tr>\n",
       "      <th>139392</th>\n",
       "      <td>6027983126</td>\n",
       "      <td>6127118628</td>\n",
       "      <td>2023-03-28 00:00:00</td>\n",
       "      <td>1.8</td>\n",
       "      <td>LAB</td>\n",
       "      <td>HCSP</td>\n",
       "      <td>NaN</td>\n",
       "      <td>6127118654</td>\n",
       "      <td>NaN</td>\n",
       "      <td>NaN</td>\n",
       "      <td>NaN</td>\n",
       "      <td>NaN</td>\n",
       "      <td>2</td>\n",
       "      <td>2.5</td>\n",
       "      <td>3.5</td>\n",
       "      <td>0.0</td>\n",
       "    </tr>\n",
       "    <tr>\n",
       "      <th>139393</th>\n",
       "      <td>6027973170</td>\n",
       "      <td>6120390772</td>\n",
       "      <td>2023-10-10 00:00:00</td>\n",
       "      <td>2.5</td>\n",
       "      <td>LAB</td>\n",
       "      <td>CSP</td>\n",
       "      <td>NaN</td>\n",
       "      <td>6136278298</td>\n",
       "      <td>NaN</td>\n",
       "      <td>NaN</td>\n",
       "      <td>NaN</td>\n",
       "      <td>NaN</td>\n",
       "      <td>2</td>\n",
       "      <td>2.5</td>\n",
       "      <td>3.5</td>\n",
       "      <td>100.0</td>\n",
       "    </tr>\n",
       "    <tr>\n",
       "      <th>139394</th>\n",
       "      <td>6027973170</td>\n",
       "      <td>6120390772</td>\n",
       "      <td>2023-09-15 00:00:00</td>\n",
       "      <td>2.0</td>\n",
       "      <td>LAB</td>\n",
       "      <td>CSP</td>\n",
       "      <td>NaN</td>\n",
       "      <td>6136278104</td>\n",
       "      <td>NaN</td>\n",
       "      <td>NaN</td>\n",
       "      <td>NaN</td>\n",
       "      <td>NaN</td>\n",
       "      <td>2</td>\n",
       "      <td>2.5</td>\n",
       "      <td>3.5</td>\n",
       "      <td>0.0</td>\n",
       "    </tr>\n",
       "  </tbody>\n",
       "</table>\n",
       "<p>139395 rows × 16 columns</p>\n",
       "</div>"
      ],
      "text/plain": [
       "           peso_id     trbh_id             inr_date  inr method_cd ind_status  \\\n",
       "0       6027991086  6131492478  2023-06-10 09:53:00  4.1       ZMA        CSP   \n",
       "1       6026141152  6026512906  2023-09-01 06:49:00  1.7       ZMA        CSP   \n",
       "2       6026141152  6026512906  2020-04-29 00:00:00  3.2       ZMA        CSP   \n",
       "3       6026141152  6026512906  2020-05-28 00:00:00  2.5       ZMA        CSP   \n",
       "4       6026141152  6026512906  2020-07-08 00:00:00  2.6       ZMA        CSP   \n",
       "...            ...         ...                  ...  ...       ...        ...   \n",
       "139390  6028010260  6137309936  2024-02-09 00:00:00  1.0       ZMA        CSP   \n",
       "139391  6028010260  6137309936  2023-11-30 00:00:00  1.0       ZMA        CSP   \n",
       "139392  6027983126  6127118628  2023-03-28 00:00:00  1.8       LAB       HCSP   \n",
       "139393  6027973170  6120390772  2023-10-10 00:00:00  2.5       LAB        CSP   \n",
       "139394  6027973170  6120390772  2023-09-15 00:00:00  2.0       LAB        CSP   \n",
       "\n",
       "        list_nr          id    dosing_process_timestamp  \\\n",
       "0           3.0  6131840490  2023-06-10 09:54:57.089723   \n",
       "1           2.0  6134525496   2023-09-01 06:49:30.63231   \n",
       "2           2.0  6059205866  2020-04-29 17:35:39.170686   \n",
       "3           2.0  6059638402   2020-05-28 14:24:20.39494   \n",
       "4           2.0  6060016868  2020-07-08 14:59:13.154197   \n",
       "...         ...         ...                         ...   \n",
       "139390      NaN  6139233834                         NaN   \n",
       "139391      NaN  6137312894                         NaN   \n",
       "139392      NaN  6127118654                         NaN   \n",
       "139393      NaN  6136278298                         NaN   \n",
       "139394      NaN  6136278104                         NaN   \n",
       "\n",
       "                                       reason_dosing_list  \\\n",
       "0       return ''.gettext('Er zijn minder dan 2 opeenv...   \n",
       "1       return ''.sprintf(gettext('Huidige INR %s ligt...   \n",
       "2       return ''.sprintf(gettext('Vorige INR %s (%s) ...   \n",
       "3       return ''.sprintf(gettext('Aantal wegzenddagen...   \n",
       "4       return ''.sprintf(gettext('Aantal wegzenddagen...   \n",
       "...                                                   ...   \n",
       "139390                                                NaN   \n",
       "139391                                                NaN   \n",
       "139392                                                NaN   \n",
       "139393                                                NaN   \n",
       "139394                                                NaN   \n",
       "\n",
       "        target_range_deviation_lower  target_range_deviation_upper  \\\n",
       "0                                2.5                           3.5   \n",
       "1                                2.5                           3.5   \n",
       "2                                2.5                           3.5   \n",
       "3                                2.5                           3.5   \n",
       "4                                2.5                           3.5   \n",
       "...                              ...                           ...   \n",
       "139390                           NaN                           NaN   \n",
       "139391                           NaN                           NaN   \n",
       "139392                           NaN                           NaN   \n",
       "139393                           NaN                           NaN   \n",
       "139394                           NaN                           NaN   \n",
       "\n",
       "        target_range  final_lower  final_upper  inside  \n",
       "0                  1          2.5          3.5     0.0  \n",
       "1                  1          2.5          3.5     0.0  \n",
       "2                  1          2.5          3.5   100.0  \n",
       "3                  1          2.5          3.5   100.0  \n",
       "4                  1          2.5          3.5   100.0  \n",
       "...              ...          ...          ...     ...  \n",
       "139390             1          2.0          3.0     0.0  \n",
       "139391             1          2.0          3.0     0.0  \n",
       "139392             2          2.5          3.5     0.0  \n",
       "139393             2          2.5          3.5   100.0  \n",
       "139394             2          2.5          3.5     0.0  \n",
       "\n",
       "[139395 rows x 16 columns]"
      ]
     },
     "execution_count": 56,
     "metadata": {},
     "output_type": "execute_result"
    }
   ],
   "source": [
    "for i in range(len(final_inr)): # here the new column \"inside\" is filled in\n",
    "    if final_inr.loc[i,'final_lower']<=final_inr.loc[i,'inr']<=final_inr.loc[i,'final_upper']:\n",
    "        final_inr.loc[i,'inside'] = 100\n",
    "    else:\n",
    "        final_inr.loc[i,'inside'] = 0\n",
    "final_inr        "
   ]
  },
  {
   "cell_type": "code",
   "execution_count": 57,
   "id": "386b85e7",
   "metadata": {},
   "outputs": [
    {
     "data": {
      "text/html": [
       "<div>\n",
       "<style scoped>\n",
       "    .dataframe tbody tr th:only-of-type {\n",
       "        vertical-align: middle;\n",
       "    }\n",
       "\n",
       "    .dataframe tbody tr th {\n",
       "        vertical-align: top;\n",
       "    }\n",
       "\n",
       "    .dataframe thead th {\n",
       "        text-align: right;\n",
       "    }\n",
       "</style>\n",
       "<table border=\"1\" class=\"dataframe\">\n",
       "  <thead>\n",
       "    <tr style=\"text-align: right;\">\n",
       "      <th></th>\n",
       "      <th>peso_id</th>\n",
       "      <th>trbh_id</th>\n",
       "      <th>inr_date</th>\n",
       "      <th>inr</th>\n",
       "      <th>method_cd</th>\n",
       "      <th>ind_status</th>\n",
       "      <th>list_nr</th>\n",
       "      <th>id</th>\n",
       "      <th>dosing_process_timestamp</th>\n",
       "      <th>reason_dosing_list</th>\n",
       "      <th>target_range_deviation_lower</th>\n",
       "      <th>target_range_deviation_upper</th>\n",
       "      <th>target_range</th>\n",
       "      <th>final_lower</th>\n",
       "      <th>final_upper</th>\n",
       "      <th>inside</th>\n",
       "      <th>below</th>\n",
       "    </tr>\n",
       "  </thead>\n",
       "  <tbody>\n",
       "    <tr>\n",
       "      <th>0</th>\n",
       "      <td>6027991086</td>\n",
       "      <td>6131492478</td>\n",
       "      <td>2023-06-10 09:53:00</td>\n",
       "      <td>4.1</td>\n",
       "      <td>ZMA</td>\n",
       "      <td>CSP</td>\n",
       "      <td>3.0</td>\n",
       "      <td>6131840490</td>\n",
       "      <td>2023-06-10 09:54:57.089723</td>\n",
       "      <td>return ''.gettext('Er zijn minder dan 2 opeenv...</td>\n",
       "      <td>2.5</td>\n",
       "      <td>3.5</td>\n",
       "      <td>1</td>\n",
       "      <td>2.5</td>\n",
       "      <td>3.5</td>\n",
       "      <td>0.0</td>\n",
       "      <td>0.0</td>\n",
       "    </tr>\n",
       "    <tr>\n",
       "      <th>1</th>\n",
       "      <td>6026141152</td>\n",
       "      <td>6026512906</td>\n",
       "      <td>2023-09-01 06:49:00</td>\n",
       "      <td>1.7</td>\n",
       "      <td>ZMA</td>\n",
       "      <td>CSP</td>\n",
       "      <td>2.0</td>\n",
       "      <td>6134525496</td>\n",
       "      <td>2023-09-01 06:49:30.63231</td>\n",
       "      <td>return ''.sprintf(gettext('Huidige INR %s ligt...</td>\n",
       "      <td>2.5</td>\n",
       "      <td>3.5</td>\n",
       "      <td>1</td>\n",
       "      <td>2.5</td>\n",
       "      <td>3.5</td>\n",
       "      <td>0.0</td>\n",
       "      <td>100.0</td>\n",
       "    </tr>\n",
       "    <tr>\n",
       "      <th>2</th>\n",
       "      <td>6026141152</td>\n",
       "      <td>6026512906</td>\n",
       "      <td>2020-04-29 00:00:00</td>\n",
       "      <td>3.2</td>\n",
       "      <td>ZMA</td>\n",
       "      <td>CSP</td>\n",
       "      <td>2.0</td>\n",
       "      <td>6059205866</td>\n",
       "      <td>2020-04-29 17:35:39.170686</td>\n",
       "      <td>return ''.sprintf(gettext('Vorige INR %s (%s) ...</td>\n",
       "      <td>2.5</td>\n",
       "      <td>3.5</td>\n",
       "      <td>1</td>\n",
       "      <td>2.5</td>\n",
       "      <td>3.5</td>\n",
       "      <td>100.0</td>\n",
       "      <td>0.0</td>\n",
       "    </tr>\n",
       "    <tr>\n",
       "      <th>3</th>\n",
       "      <td>6026141152</td>\n",
       "      <td>6026512906</td>\n",
       "      <td>2020-05-28 00:00:00</td>\n",
       "      <td>2.5</td>\n",
       "      <td>ZMA</td>\n",
       "      <td>CSP</td>\n",
       "      <td>2.0</td>\n",
       "      <td>6059638402</td>\n",
       "      <td>2020-05-28 14:24:20.39494</td>\n",
       "      <td>return ''.sprintf(gettext('Aantal wegzenddagen...</td>\n",
       "      <td>2.5</td>\n",
       "      <td>3.5</td>\n",
       "      <td>1</td>\n",
       "      <td>2.5</td>\n",
       "      <td>3.5</td>\n",
       "      <td>100.0</td>\n",
       "      <td>0.0</td>\n",
       "    </tr>\n",
       "    <tr>\n",
       "      <th>4</th>\n",
       "      <td>6026141152</td>\n",
       "      <td>6026512906</td>\n",
       "      <td>2020-07-08 00:00:00</td>\n",
       "      <td>2.6</td>\n",
       "      <td>ZMA</td>\n",
       "      <td>CSP</td>\n",
       "      <td>2.0</td>\n",
       "      <td>6060016868</td>\n",
       "      <td>2020-07-08 14:59:13.154197</td>\n",
       "      <td>return ''.sprintf(gettext('Aantal wegzenddagen...</td>\n",
       "      <td>2.5</td>\n",
       "      <td>3.5</td>\n",
       "      <td>1</td>\n",
       "      <td>2.5</td>\n",
       "      <td>3.5</td>\n",
       "      <td>100.0</td>\n",
       "      <td>0.0</td>\n",
       "    </tr>\n",
       "    <tr>\n",
       "      <th>...</th>\n",
       "      <td>...</td>\n",
       "      <td>...</td>\n",
       "      <td>...</td>\n",
       "      <td>...</td>\n",
       "      <td>...</td>\n",
       "      <td>...</td>\n",
       "      <td>...</td>\n",
       "      <td>...</td>\n",
       "      <td>...</td>\n",
       "      <td>...</td>\n",
       "      <td>...</td>\n",
       "      <td>...</td>\n",
       "      <td>...</td>\n",
       "      <td>...</td>\n",
       "      <td>...</td>\n",
       "      <td>...</td>\n",
       "      <td>...</td>\n",
       "    </tr>\n",
       "    <tr>\n",
       "      <th>139390</th>\n",
       "      <td>6028010260</td>\n",
       "      <td>6137309936</td>\n",
       "      <td>2024-02-09 00:00:00</td>\n",
       "      <td>1.0</td>\n",
       "      <td>ZMA</td>\n",
       "      <td>CSP</td>\n",
       "      <td>NaN</td>\n",
       "      <td>6139233834</td>\n",
       "      <td>NaN</td>\n",
       "      <td>NaN</td>\n",
       "      <td>NaN</td>\n",
       "      <td>NaN</td>\n",
       "      <td>1</td>\n",
       "      <td>2.0</td>\n",
       "      <td>3.0</td>\n",
       "      <td>0.0</td>\n",
       "      <td>100.0</td>\n",
       "    </tr>\n",
       "    <tr>\n",
       "      <th>139391</th>\n",
       "      <td>6028010260</td>\n",
       "      <td>6137309936</td>\n",
       "      <td>2023-11-30 00:00:00</td>\n",
       "      <td>1.0</td>\n",
       "      <td>ZMA</td>\n",
       "      <td>CSP</td>\n",
       "      <td>NaN</td>\n",
       "      <td>6137312894</td>\n",
       "      <td>NaN</td>\n",
       "      <td>NaN</td>\n",
       "      <td>NaN</td>\n",
       "      <td>NaN</td>\n",
       "      <td>1</td>\n",
       "      <td>2.0</td>\n",
       "      <td>3.0</td>\n",
       "      <td>0.0</td>\n",
       "      <td>100.0</td>\n",
       "    </tr>\n",
       "    <tr>\n",
       "      <th>139392</th>\n",
       "      <td>6027983126</td>\n",
       "      <td>6127118628</td>\n",
       "      <td>2023-03-28 00:00:00</td>\n",
       "      <td>1.8</td>\n",
       "      <td>LAB</td>\n",
       "      <td>HCSP</td>\n",
       "      <td>NaN</td>\n",
       "      <td>6127118654</td>\n",
       "      <td>NaN</td>\n",
       "      <td>NaN</td>\n",
       "      <td>NaN</td>\n",
       "      <td>NaN</td>\n",
       "      <td>2</td>\n",
       "      <td>2.5</td>\n",
       "      <td>3.5</td>\n",
       "      <td>0.0</td>\n",
       "      <td>100.0</td>\n",
       "    </tr>\n",
       "    <tr>\n",
       "      <th>139393</th>\n",
       "      <td>6027973170</td>\n",
       "      <td>6120390772</td>\n",
       "      <td>2023-10-10 00:00:00</td>\n",
       "      <td>2.5</td>\n",
       "      <td>LAB</td>\n",
       "      <td>CSP</td>\n",
       "      <td>NaN</td>\n",
       "      <td>6136278298</td>\n",
       "      <td>NaN</td>\n",
       "      <td>NaN</td>\n",
       "      <td>NaN</td>\n",
       "      <td>NaN</td>\n",
       "      <td>2</td>\n",
       "      <td>2.5</td>\n",
       "      <td>3.5</td>\n",
       "      <td>100.0</td>\n",
       "      <td>0.0</td>\n",
       "    </tr>\n",
       "    <tr>\n",
       "      <th>139394</th>\n",
       "      <td>6027973170</td>\n",
       "      <td>6120390772</td>\n",
       "      <td>2023-09-15 00:00:00</td>\n",
       "      <td>2.0</td>\n",
       "      <td>LAB</td>\n",
       "      <td>CSP</td>\n",
       "      <td>NaN</td>\n",
       "      <td>6136278104</td>\n",
       "      <td>NaN</td>\n",
       "      <td>NaN</td>\n",
       "      <td>NaN</td>\n",
       "      <td>NaN</td>\n",
       "      <td>2</td>\n",
       "      <td>2.5</td>\n",
       "      <td>3.5</td>\n",
       "      <td>0.0</td>\n",
       "      <td>100.0</td>\n",
       "    </tr>\n",
       "  </tbody>\n",
       "</table>\n",
       "<p>139395 rows × 17 columns</p>\n",
       "</div>"
      ],
      "text/plain": [
       "           peso_id     trbh_id             inr_date  inr method_cd ind_status  \\\n",
       "0       6027991086  6131492478  2023-06-10 09:53:00  4.1       ZMA        CSP   \n",
       "1       6026141152  6026512906  2023-09-01 06:49:00  1.7       ZMA        CSP   \n",
       "2       6026141152  6026512906  2020-04-29 00:00:00  3.2       ZMA        CSP   \n",
       "3       6026141152  6026512906  2020-05-28 00:00:00  2.5       ZMA        CSP   \n",
       "4       6026141152  6026512906  2020-07-08 00:00:00  2.6       ZMA        CSP   \n",
       "...            ...         ...                  ...  ...       ...        ...   \n",
       "139390  6028010260  6137309936  2024-02-09 00:00:00  1.0       ZMA        CSP   \n",
       "139391  6028010260  6137309936  2023-11-30 00:00:00  1.0       ZMA        CSP   \n",
       "139392  6027983126  6127118628  2023-03-28 00:00:00  1.8       LAB       HCSP   \n",
       "139393  6027973170  6120390772  2023-10-10 00:00:00  2.5       LAB        CSP   \n",
       "139394  6027973170  6120390772  2023-09-15 00:00:00  2.0       LAB        CSP   \n",
       "\n",
       "        list_nr          id    dosing_process_timestamp  \\\n",
       "0           3.0  6131840490  2023-06-10 09:54:57.089723   \n",
       "1           2.0  6134525496   2023-09-01 06:49:30.63231   \n",
       "2           2.0  6059205866  2020-04-29 17:35:39.170686   \n",
       "3           2.0  6059638402   2020-05-28 14:24:20.39494   \n",
       "4           2.0  6060016868  2020-07-08 14:59:13.154197   \n",
       "...         ...         ...                         ...   \n",
       "139390      NaN  6139233834                         NaN   \n",
       "139391      NaN  6137312894                         NaN   \n",
       "139392      NaN  6127118654                         NaN   \n",
       "139393      NaN  6136278298                         NaN   \n",
       "139394      NaN  6136278104                         NaN   \n",
       "\n",
       "                                       reason_dosing_list  \\\n",
       "0       return ''.gettext('Er zijn minder dan 2 opeenv...   \n",
       "1       return ''.sprintf(gettext('Huidige INR %s ligt...   \n",
       "2       return ''.sprintf(gettext('Vorige INR %s (%s) ...   \n",
       "3       return ''.sprintf(gettext('Aantal wegzenddagen...   \n",
       "4       return ''.sprintf(gettext('Aantal wegzenddagen...   \n",
       "...                                                   ...   \n",
       "139390                                                NaN   \n",
       "139391                                                NaN   \n",
       "139392                                                NaN   \n",
       "139393                                                NaN   \n",
       "139394                                                NaN   \n",
       "\n",
       "        target_range_deviation_lower  target_range_deviation_upper  \\\n",
       "0                                2.5                           3.5   \n",
       "1                                2.5                           3.5   \n",
       "2                                2.5                           3.5   \n",
       "3                                2.5                           3.5   \n",
       "4                                2.5                           3.5   \n",
       "...                              ...                           ...   \n",
       "139390                           NaN                           NaN   \n",
       "139391                           NaN                           NaN   \n",
       "139392                           NaN                           NaN   \n",
       "139393                           NaN                           NaN   \n",
       "139394                           NaN                           NaN   \n",
       "\n",
       "        target_range  final_lower  final_upper  inside  below  \n",
       "0                  1          2.5          3.5     0.0    0.0  \n",
       "1                  1          2.5          3.5     0.0  100.0  \n",
       "2                  1          2.5          3.5   100.0    0.0  \n",
       "3                  1          2.5          3.5   100.0    0.0  \n",
       "4                  1          2.5          3.5   100.0    0.0  \n",
       "...              ...          ...          ...     ...    ...  \n",
       "139390             1          2.0          3.0     0.0  100.0  \n",
       "139391             1          2.0          3.0     0.0  100.0  \n",
       "139392             2          2.5          3.5     0.0  100.0  \n",
       "139393             2          2.5          3.5   100.0    0.0  \n",
       "139394             2          2.5          3.5     0.0  100.0  \n",
       "\n",
       "[139395 rows x 17 columns]"
      ]
     },
     "execution_count": 57,
     "metadata": {},
     "output_type": "execute_result"
    }
   ],
   "source": [
    "for i in range(len(final_inr)): # here the new column \"below\" is filled in\n",
    "    if final_inr.loc[i,'final_lower']>final_inr.loc[i,'inr']:\n",
    "        final_inr.loc[i,'below'] = 100\n",
    "    else:\n",
    "        final_inr.loc[i,'below'] = 0\n",
    "final_inr   "
   ]
  },
  {
   "cell_type": "markdown",
   "id": "ccd182ef",
   "metadata": {},
   "source": [
    "**Добавим столбец с признаком 'ниже/выше' целевого диапазона':**"
   ]
  },
  {
   "cell_type": "code",
   "execution_count": 58,
   "id": "c976679e",
   "metadata": {},
   "outputs": [
    {
     "data": {
      "text/html": [
       "<div>\n",
       "<style scoped>\n",
       "    .dataframe tbody tr th:only-of-type {\n",
       "        vertical-align: middle;\n",
       "    }\n",
       "\n",
       "    .dataframe tbody tr th {\n",
       "        vertical-align: top;\n",
       "    }\n",
       "\n",
       "    .dataframe thead th {\n",
       "        text-align: right;\n",
       "    }\n",
       "</style>\n",
       "<table border=\"1\" class=\"dataframe\">\n",
       "  <thead>\n",
       "    <tr style=\"text-align: right;\">\n",
       "      <th></th>\n",
       "      <th>peso_id</th>\n",
       "      <th>trbh_id</th>\n",
       "      <th>inr_date</th>\n",
       "      <th>inr</th>\n",
       "      <th>method_cd</th>\n",
       "      <th>ind_status</th>\n",
       "      <th>list_nr</th>\n",
       "      <th>id</th>\n",
       "      <th>dosing_process_timestamp</th>\n",
       "      <th>reason_dosing_list</th>\n",
       "      <th>target_range_deviation_lower</th>\n",
       "      <th>target_range_deviation_upper</th>\n",
       "      <th>target_range</th>\n",
       "      <th>final_lower</th>\n",
       "      <th>final_upper</th>\n",
       "      <th>inside</th>\n",
       "      <th>below</th>\n",
       "      <th>above</th>\n",
       "    </tr>\n",
       "  </thead>\n",
       "  <tbody>\n",
       "    <tr>\n",
       "      <th>0</th>\n",
       "      <td>6027991086</td>\n",
       "      <td>6131492478</td>\n",
       "      <td>2023-06-10 09:53:00</td>\n",
       "      <td>4.1</td>\n",
       "      <td>ZMA</td>\n",
       "      <td>CSP</td>\n",
       "      <td>3.0</td>\n",
       "      <td>6131840490</td>\n",
       "      <td>2023-06-10 09:54:57.089723</td>\n",
       "      <td>return ''.gettext('Er zijn minder dan 2 opeenv...</td>\n",
       "      <td>2.5</td>\n",
       "      <td>3.5</td>\n",
       "      <td>1</td>\n",
       "      <td>2.5</td>\n",
       "      <td>3.5</td>\n",
       "      <td>0.0</td>\n",
       "      <td>0.0</td>\n",
       "      <td>100.0</td>\n",
       "    </tr>\n",
       "    <tr>\n",
       "      <th>1</th>\n",
       "      <td>6026141152</td>\n",
       "      <td>6026512906</td>\n",
       "      <td>2023-09-01 06:49:00</td>\n",
       "      <td>1.7</td>\n",
       "      <td>ZMA</td>\n",
       "      <td>CSP</td>\n",
       "      <td>2.0</td>\n",
       "      <td>6134525496</td>\n",
       "      <td>2023-09-01 06:49:30.63231</td>\n",
       "      <td>return ''.sprintf(gettext('Huidige INR %s ligt...</td>\n",
       "      <td>2.5</td>\n",
       "      <td>3.5</td>\n",
       "      <td>1</td>\n",
       "      <td>2.5</td>\n",
       "      <td>3.5</td>\n",
       "      <td>0.0</td>\n",
       "      <td>100.0</td>\n",
       "      <td>0.0</td>\n",
       "    </tr>\n",
       "    <tr>\n",
       "      <th>2</th>\n",
       "      <td>6026141152</td>\n",
       "      <td>6026512906</td>\n",
       "      <td>2020-04-29 00:00:00</td>\n",
       "      <td>3.2</td>\n",
       "      <td>ZMA</td>\n",
       "      <td>CSP</td>\n",
       "      <td>2.0</td>\n",
       "      <td>6059205866</td>\n",
       "      <td>2020-04-29 17:35:39.170686</td>\n",
       "      <td>return ''.sprintf(gettext('Vorige INR %s (%s) ...</td>\n",
       "      <td>2.5</td>\n",
       "      <td>3.5</td>\n",
       "      <td>1</td>\n",
       "      <td>2.5</td>\n",
       "      <td>3.5</td>\n",
       "      <td>100.0</td>\n",
       "      <td>0.0</td>\n",
       "      <td>0.0</td>\n",
       "    </tr>\n",
       "    <tr>\n",
       "      <th>3</th>\n",
       "      <td>6026141152</td>\n",
       "      <td>6026512906</td>\n",
       "      <td>2020-05-28 00:00:00</td>\n",
       "      <td>2.5</td>\n",
       "      <td>ZMA</td>\n",
       "      <td>CSP</td>\n",
       "      <td>2.0</td>\n",
       "      <td>6059638402</td>\n",
       "      <td>2020-05-28 14:24:20.39494</td>\n",
       "      <td>return ''.sprintf(gettext('Aantal wegzenddagen...</td>\n",
       "      <td>2.5</td>\n",
       "      <td>3.5</td>\n",
       "      <td>1</td>\n",
       "      <td>2.5</td>\n",
       "      <td>3.5</td>\n",
       "      <td>100.0</td>\n",
       "      <td>0.0</td>\n",
       "      <td>0.0</td>\n",
       "    </tr>\n",
       "    <tr>\n",
       "      <th>4</th>\n",
       "      <td>6026141152</td>\n",
       "      <td>6026512906</td>\n",
       "      <td>2020-07-08 00:00:00</td>\n",
       "      <td>2.6</td>\n",
       "      <td>ZMA</td>\n",
       "      <td>CSP</td>\n",
       "      <td>2.0</td>\n",
       "      <td>6060016868</td>\n",
       "      <td>2020-07-08 14:59:13.154197</td>\n",
       "      <td>return ''.sprintf(gettext('Aantal wegzenddagen...</td>\n",
       "      <td>2.5</td>\n",
       "      <td>3.5</td>\n",
       "      <td>1</td>\n",
       "      <td>2.5</td>\n",
       "      <td>3.5</td>\n",
       "      <td>100.0</td>\n",
       "      <td>0.0</td>\n",
       "      <td>0.0</td>\n",
       "    </tr>\n",
       "    <tr>\n",
       "      <th>...</th>\n",
       "      <td>...</td>\n",
       "      <td>...</td>\n",
       "      <td>...</td>\n",
       "      <td>...</td>\n",
       "      <td>...</td>\n",
       "      <td>...</td>\n",
       "      <td>...</td>\n",
       "      <td>...</td>\n",
       "      <td>...</td>\n",
       "      <td>...</td>\n",
       "      <td>...</td>\n",
       "      <td>...</td>\n",
       "      <td>...</td>\n",
       "      <td>...</td>\n",
       "      <td>...</td>\n",
       "      <td>...</td>\n",
       "      <td>...</td>\n",
       "      <td>...</td>\n",
       "    </tr>\n",
       "    <tr>\n",
       "      <th>139390</th>\n",
       "      <td>6028010260</td>\n",
       "      <td>6137309936</td>\n",
       "      <td>2024-02-09 00:00:00</td>\n",
       "      <td>1.0</td>\n",
       "      <td>ZMA</td>\n",
       "      <td>CSP</td>\n",
       "      <td>NaN</td>\n",
       "      <td>6139233834</td>\n",
       "      <td>NaN</td>\n",
       "      <td>NaN</td>\n",
       "      <td>NaN</td>\n",
       "      <td>NaN</td>\n",
       "      <td>1</td>\n",
       "      <td>2.0</td>\n",
       "      <td>3.0</td>\n",
       "      <td>0.0</td>\n",
       "      <td>100.0</td>\n",
       "      <td>0.0</td>\n",
       "    </tr>\n",
       "    <tr>\n",
       "      <th>139391</th>\n",
       "      <td>6028010260</td>\n",
       "      <td>6137309936</td>\n",
       "      <td>2023-11-30 00:00:00</td>\n",
       "      <td>1.0</td>\n",
       "      <td>ZMA</td>\n",
       "      <td>CSP</td>\n",
       "      <td>NaN</td>\n",
       "      <td>6137312894</td>\n",
       "      <td>NaN</td>\n",
       "      <td>NaN</td>\n",
       "      <td>NaN</td>\n",
       "      <td>NaN</td>\n",
       "      <td>1</td>\n",
       "      <td>2.0</td>\n",
       "      <td>3.0</td>\n",
       "      <td>0.0</td>\n",
       "      <td>100.0</td>\n",
       "      <td>0.0</td>\n",
       "    </tr>\n",
       "    <tr>\n",
       "      <th>139392</th>\n",
       "      <td>6027983126</td>\n",
       "      <td>6127118628</td>\n",
       "      <td>2023-03-28 00:00:00</td>\n",
       "      <td>1.8</td>\n",
       "      <td>LAB</td>\n",
       "      <td>HCSP</td>\n",
       "      <td>NaN</td>\n",
       "      <td>6127118654</td>\n",
       "      <td>NaN</td>\n",
       "      <td>NaN</td>\n",
       "      <td>NaN</td>\n",
       "      <td>NaN</td>\n",
       "      <td>2</td>\n",
       "      <td>2.5</td>\n",
       "      <td>3.5</td>\n",
       "      <td>0.0</td>\n",
       "      <td>100.0</td>\n",
       "      <td>0.0</td>\n",
       "    </tr>\n",
       "    <tr>\n",
       "      <th>139393</th>\n",
       "      <td>6027973170</td>\n",
       "      <td>6120390772</td>\n",
       "      <td>2023-10-10 00:00:00</td>\n",
       "      <td>2.5</td>\n",
       "      <td>LAB</td>\n",
       "      <td>CSP</td>\n",
       "      <td>NaN</td>\n",
       "      <td>6136278298</td>\n",
       "      <td>NaN</td>\n",
       "      <td>NaN</td>\n",
       "      <td>NaN</td>\n",
       "      <td>NaN</td>\n",
       "      <td>2</td>\n",
       "      <td>2.5</td>\n",
       "      <td>3.5</td>\n",
       "      <td>100.0</td>\n",
       "      <td>0.0</td>\n",
       "      <td>0.0</td>\n",
       "    </tr>\n",
       "    <tr>\n",
       "      <th>139394</th>\n",
       "      <td>6027973170</td>\n",
       "      <td>6120390772</td>\n",
       "      <td>2023-09-15 00:00:00</td>\n",
       "      <td>2.0</td>\n",
       "      <td>LAB</td>\n",
       "      <td>CSP</td>\n",
       "      <td>NaN</td>\n",
       "      <td>6136278104</td>\n",
       "      <td>NaN</td>\n",
       "      <td>NaN</td>\n",
       "      <td>NaN</td>\n",
       "      <td>NaN</td>\n",
       "      <td>2</td>\n",
       "      <td>2.5</td>\n",
       "      <td>3.5</td>\n",
       "      <td>0.0</td>\n",
       "      <td>100.0</td>\n",
       "      <td>0.0</td>\n",
       "    </tr>\n",
       "  </tbody>\n",
       "</table>\n",
       "<p>139395 rows × 18 columns</p>\n",
       "</div>"
      ],
      "text/plain": [
       "           peso_id     trbh_id             inr_date  inr method_cd ind_status  \\\n",
       "0       6027991086  6131492478  2023-06-10 09:53:00  4.1       ZMA        CSP   \n",
       "1       6026141152  6026512906  2023-09-01 06:49:00  1.7       ZMA        CSP   \n",
       "2       6026141152  6026512906  2020-04-29 00:00:00  3.2       ZMA        CSP   \n",
       "3       6026141152  6026512906  2020-05-28 00:00:00  2.5       ZMA        CSP   \n",
       "4       6026141152  6026512906  2020-07-08 00:00:00  2.6       ZMA        CSP   \n",
       "...            ...         ...                  ...  ...       ...        ...   \n",
       "139390  6028010260  6137309936  2024-02-09 00:00:00  1.0       ZMA        CSP   \n",
       "139391  6028010260  6137309936  2023-11-30 00:00:00  1.0       ZMA        CSP   \n",
       "139392  6027983126  6127118628  2023-03-28 00:00:00  1.8       LAB       HCSP   \n",
       "139393  6027973170  6120390772  2023-10-10 00:00:00  2.5       LAB        CSP   \n",
       "139394  6027973170  6120390772  2023-09-15 00:00:00  2.0       LAB        CSP   \n",
       "\n",
       "        list_nr          id    dosing_process_timestamp  \\\n",
       "0           3.0  6131840490  2023-06-10 09:54:57.089723   \n",
       "1           2.0  6134525496   2023-09-01 06:49:30.63231   \n",
       "2           2.0  6059205866  2020-04-29 17:35:39.170686   \n",
       "3           2.0  6059638402   2020-05-28 14:24:20.39494   \n",
       "4           2.0  6060016868  2020-07-08 14:59:13.154197   \n",
       "...         ...         ...                         ...   \n",
       "139390      NaN  6139233834                         NaN   \n",
       "139391      NaN  6137312894                         NaN   \n",
       "139392      NaN  6127118654                         NaN   \n",
       "139393      NaN  6136278298                         NaN   \n",
       "139394      NaN  6136278104                         NaN   \n",
       "\n",
       "                                       reason_dosing_list  \\\n",
       "0       return ''.gettext('Er zijn minder dan 2 opeenv...   \n",
       "1       return ''.sprintf(gettext('Huidige INR %s ligt...   \n",
       "2       return ''.sprintf(gettext('Vorige INR %s (%s) ...   \n",
       "3       return ''.sprintf(gettext('Aantal wegzenddagen...   \n",
       "4       return ''.sprintf(gettext('Aantal wegzenddagen...   \n",
       "...                                                   ...   \n",
       "139390                                                NaN   \n",
       "139391                                                NaN   \n",
       "139392                                                NaN   \n",
       "139393                                                NaN   \n",
       "139394                                                NaN   \n",
       "\n",
       "        target_range_deviation_lower  target_range_deviation_upper  \\\n",
       "0                                2.5                           3.5   \n",
       "1                                2.5                           3.5   \n",
       "2                                2.5                           3.5   \n",
       "3                                2.5                           3.5   \n",
       "4                                2.5                           3.5   \n",
       "...                              ...                           ...   \n",
       "139390                           NaN                           NaN   \n",
       "139391                           NaN                           NaN   \n",
       "139392                           NaN                           NaN   \n",
       "139393                           NaN                           NaN   \n",
       "139394                           NaN                           NaN   \n",
       "\n",
       "        target_range  final_lower  final_upper  inside  below  above  \n",
       "0                  1          2.5          3.5     0.0    0.0  100.0  \n",
       "1                  1          2.5          3.5     0.0  100.0    0.0  \n",
       "2                  1          2.5          3.5   100.0    0.0    0.0  \n",
       "3                  1          2.5          3.5   100.0    0.0    0.0  \n",
       "4                  1          2.5          3.5   100.0    0.0    0.0  \n",
       "...              ...          ...          ...     ...    ...    ...  \n",
       "139390             1          2.0          3.0     0.0  100.0    0.0  \n",
       "139391             1          2.0          3.0     0.0  100.0    0.0  \n",
       "139392             2          2.5          3.5     0.0  100.0    0.0  \n",
       "139393             2          2.5          3.5   100.0    0.0    0.0  \n",
       "139394             2          2.5          3.5     0.0  100.0    0.0  \n",
       "\n",
       "[139395 rows x 18 columns]"
      ]
     },
     "execution_count": 58,
     "metadata": {},
     "output_type": "execute_result"
    }
   ],
   "source": [
    "for i in range(len(final_inr)): # here the new column \"above\" is filled in\n",
    "    if final_inr.loc[i,'final_upper']<final_inr.loc[i,'inr']:\n",
    "        final_inr.loc[i,'above'] = 100\n",
    "    else:\n",
    "        final_inr.loc[i,'above'] = 0\n",
    "final_inr "
   ]
  },
  {
   "cell_type": "markdown",
   "id": "ec6d6c32",
   "metadata": {},
   "source": [
    "**Добавим столбец с годом взятия МНО для последующей группировки:**"
   ]
  },
  {
   "cell_type": "code",
   "execution_count": 59,
   "id": "ff121ff2",
   "metadata": {},
   "outputs": [
    {
     "data": {
      "text/html": [
       "<div>\n",
       "<style scoped>\n",
       "    .dataframe tbody tr th:only-of-type {\n",
       "        vertical-align: middle;\n",
       "    }\n",
       "\n",
       "    .dataframe tbody tr th {\n",
       "        vertical-align: top;\n",
       "    }\n",
       "\n",
       "    .dataframe thead th {\n",
       "        text-align: right;\n",
       "    }\n",
       "</style>\n",
       "<table border=\"1\" class=\"dataframe\">\n",
       "  <thead>\n",
       "    <tr style=\"text-align: right;\">\n",
       "      <th></th>\n",
       "      <th>peso_id</th>\n",
       "      <th>trbh_id</th>\n",
       "      <th>inr_date</th>\n",
       "      <th>inr</th>\n",
       "      <th>method_cd</th>\n",
       "      <th>ind_status</th>\n",
       "      <th>list_nr</th>\n",
       "      <th>id</th>\n",
       "      <th>dosing_process_timestamp</th>\n",
       "      <th>reason_dosing_list</th>\n",
       "      <th>target_range_deviation_lower</th>\n",
       "      <th>target_range_deviation_upper</th>\n",
       "      <th>target_range</th>\n",
       "      <th>final_lower</th>\n",
       "      <th>final_upper</th>\n",
       "      <th>inside</th>\n",
       "      <th>below</th>\n",
       "      <th>above</th>\n",
       "      <th>year</th>\n",
       "    </tr>\n",
       "  </thead>\n",
       "  <tbody>\n",
       "    <tr>\n",
       "      <th>0</th>\n",
       "      <td>6027991086</td>\n",
       "      <td>6131492478</td>\n",
       "      <td>2023-06-10 09:53:00</td>\n",
       "      <td>4.1</td>\n",
       "      <td>ZMA</td>\n",
       "      <td>CSP</td>\n",
       "      <td>3.0</td>\n",
       "      <td>6131840490</td>\n",
       "      <td>2023-06-10 09:54:57.089723</td>\n",
       "      <td>return ''.gettext('Er zijn minder dan 2 opeenv...</td>\n",
       "      <td>2.5</td>\n",
       "      <td>3.5</td>\n",
       "      <td>1</td>\n",
       "      <td>2.5</td>\n",
       "      <td>3.5</td>\n",
       "      <td>0.0</td>\n",
       "      <td>0.0</td>\n",
       "      <td>100.0</td>\n",
       "      <td>2023</td>\n",
       "    </tr>\n",
       "    <tr>\n",
       "      <th>1</th>\n",
       "      <td>6026141152</td>\n",
       "      <td>6026512906</td>\n",
       "      <td>2023-09-01 06:49:00</td>\n",
       "      <td>1.7</td>\n",
       "      <td>ZMA</td>\n",
       "      <td>CSP</td>\n",
       "      <td>2.0</td>\n",
       "      <td>6134525496</td>\n",
       "      <td>2023-09-01 06:49:30.63231</td>\n",
       "      <td>return ''.sprintf(gettext('Huidige INR %s ligt...</td>\n",
       "      <td>2.5</td>\n",
       "      <td>3.5</td>\n",
       "      <td>1</td>\n",
       "      <td>2.5</td>\n",
       "      <td>3.5</td>\n",
       "      <td>0.0</td>\n",
       "      <td>100.0</td>\n",
       "      <td>0.0</td>\n",
       "      <td>2023</td>\n",
       "    </tr>\n",
       "    <tr>\n",
       "      <th>2</th>\n",
       "      <td>6026141152</td>\n",
       "      <td>6026512906</td>\n",
       "      <td>2020-04-29 00:00:00</td>\n",
       "      <td>3.2</td>\n",
       "      <td>ZMA</td>\n",
       "      <td>CSP</td>\n",
       "      <td>2.0</td>\n",
       "      <td>6059205866</td>\n",
       "      <td>2020-04-29 17:35:39.170686</td>\n",
       "      <td>return ''.sprintf(gettext('Vorige INR %s (%s) ...</td>\n",
       "      <td>2.5</td>\n",
       "      <td>3.5</td>\n",
       "      <td>1</td>\n",
       "      <td>2.5</td>\n",
       "      <td>3.5</td>\n",
       "      <td>100.0</td>\n",
       "      <td>0.0</td>\n",
       "      <td>0.0</td>\n",
       "      <td>2020</td>\n",
       "    </tr>\n",
       "    <tr>\n",
       "      <th>3</th>\n",
       "      <td>6026141152</td>\n",
       "      <td>6026512906</td>\n",
       "      <td>2020-05-28 00:00:00</td>\n",
       "      <td>2.5</td>\n",
       "      <td>ZMA</td>\n",
       "      <td>CSP</td>\n",
       "      <td>2.0</td>\n",
       "      <td>6059638402</td>\n",
       "      <td>2020-05-28 14:24:20.39494</td>\n",
       "      <td>return ''.sprintf(gettext('Aantal wegzenddagen...</td>\n",
       "      <td>2.5</td>\n",
       "      <td>3.5</td>\n",
       "      <td>1</td>\n",
       "      <td>2.5</td>\n",
       "      <td>3.5</td>\n",
       "      <td>100.0</td>\n",
       "      <td>0.0</td>\n",
       "      <td>0.0</td>\n",
       "      <td>2020</td>\n",
       "    </tr>\n",
       "    <tr>\n",
       "      <th>4</th>\n",
       "      <td>6026141152</td>\n",
       "      <td>6026512906</td>\n",
       "      <td>2020-07-08 00:00:00</td>\n",
       "      <td>2.6</td>\n",
       "      <td>ZMA</td>\n",
       "      <td>CSP</td>\n",
       "      <td>2.0</td>\n",
       "      <td>6060016868</td>\n",
       "      <td>2020-07-08 14:59:13.154197</td>\n",
       "      <td>return ''.sprintf(gettext('Aantal wegzenddagen...</td>\n",
       "      <td>2.5</td>\n",
       "      <td>3.5</td>\n",
       "      <td>1</td>\n",
       "      <td>2.5</td>\n",
       "      <td>3.5</td>\n",
       "      <td>100.0</td>\n",
       "      <td>0.0</td>\n",
       "      <td>0.0</td>\n",
       "      <td>2020</td>\n",
       "    </tr>\n",
       "    <tr>\n",
       "      <th>...</th>\n",
       "      <td>...</td>\n",
       "      <td>...</td>\n",
       "      <td>...</td>\n",
       "      <td>...</td>\n",
       "      <td>...</td>\n",
       "      <td>...</td>\n",
       "      <td>...</td>\n",
       "      <td>...</td>\n",
       "      <td>...</td>\n",
       "      <td>...</td>\n",
       "      <td>...</td>\n",
       "      <td>...</td>\n",
       "      <td>...</td>\n",
       "      <td>...</td>\n",
       "      <td>...</td>\n",
       "      <td>...</td>\n",
       "      <td>...</td>\n",
       "      <td>...</td>\n",
       "      <td>...</td>\n",
       "    </tr>\n",
       "    <tr>\n",
       "      <th>139390</th>\n",
       "      <td>6028010260</td>\n",
       "      <td>6137309936</td>\n",
       "      <td>2024-02-09 00:00:00</td>\n",
       "      <td>1.0</td>\n",
       "      <td>ZMA</td>\n",
       "      <td>CSP</td>\n",
       "      <td>NaN</td>\n",
       "      <td>6139233834</td>\n",
       "      <td>NaN</td>\n",
       "      <td>NaN</td>\n",
       "      <td>NaN</td>\n",
       "      <td>NaN</td>\n",
       "      <td>1</td>\n",
       "      <td>2.0</td>\n",
       "      <td>3.0</td>\n",
       "      <td>0.0</td>\n",
       "      <td>100.0</td>\n",
       "      <td>0.0</td>\n",
       "      <td>2024</td>\n",
       "    </tr>\n",
       "    <tr>\n",
       "      <th>139391</th>\n",
       "      <td>6028010260</td>\n",
       "      <td>6137309936</td>\n",
       "      <td>2023-11-30 00:00:00</td>\n",
       "      <td>1.0</td>\n",
       "      <td>ZMA</td>\n",
       "      <td>CSP</td>\n",
       "      <td>NaN</td>\n",
       "      <td>6137312894</td>\n",
       "      <td>NaN</td>\n",
       "      <td>NaN</td>\n",
       "      <td>NaN</td>\n",
       "      <td>NaN</td>\n",
       "      <td>1</td>\n",
       "      <td>2.0</td>\n",
       "      <td>3.0</td>\n",
       "      <td>0.0</td>\n",
       "      <td>100.0</td>\n",
       "      <td>0.0</td>\n",
       "      <td>2023</td>\n",
       "    </tr>\n",
       "    <tr>\n",
       "      <th>139392</th>\n",
       "      <td>6027983126</td>\n",
       "      <td>6127118628</td>\n",
       "      <td>2023-03-28 00:00:00</td>\n",
       "      <td>1.8</td>\n",
       "      <td>LAB</td>\n",
       "      <td>HCSP</td>\n",
       "      <td>NaN</td>\n",
       "      <td>6127118654</td>\n",
       "      <td>NaN</td>\n",
       "      <td>NaN</td>\n",
       "      <td>NaN</td>\n",
       "      <td>NaN</td>\n",
       "      <td>2</td>\n",
       "      <td>2.5</td>\n",
       "      <td>3.5</td>\n",
       "      <td>0.0</td>\n",
       "      <td>100.0</td>\n",
       "      <td>0.0</td>\n",
       "      <td>2023</td>\n",
       "    </tr>\n",
       "    <tr>\n",
       "      <th>139393</th>\n",
       "      <td>6027973170</td>\n",
       "      <td>6120390772</td>\n",
       "      <td>2023-10-10 00:00:00</td>\n",
       "      <td>2.5</td>\n",
       "      <td>LAB</td>\n",
       "      <td>CSP</td>\n",
       "      <td>NaN</td>\n",
       "      <td>6136278298</td>\n",
       "      <td>NaN</td>\n",
       "      <td>NaN</td>\n",
       "      <td>NaN</td>\n",
       "      <td>NaN</td>\n",
       "      <td>2</td>\n",
       "      <td>2.5</td>\n",
       "      <td>3.5</td>\n",
       "      <td>100.0</td>\n",
       "      <td>0.0</td>\n",
       "      <td>0.0</td>\n",
       "      <td>2023</td>\n",
       "    </tr>\n",
       "    <tr>\n",
       "      <th>139394</th>\n",
       "      <td>6027973170</td>\n",
       "      <td>6120390772</td>\n",
       "      <td>2023-09-15 00:00:00</td>\n",
       "      <td>2.0</td>\n",
       "      <td>LAB</td>\n",
       "      <td>CSP</td>\n",
       "      <td>NaN</td>\n",
       "      <td>6136278104</td>\n",
       "      <td>NaN</td>\n",
       "      <td>NaN</td>\n",
       "      <td>NaN</td>\n",
       "      <td>NaN</td>\n",
       "      <td>2</td>\n",
       "      <td>2.5</td>\n",
       "      <td>3.5</td>\n",
       "      <td>0.0</td>\n",
       "      <td>100.0</td>\n",
       "      <td>0.0</td>\n",
       "      <td>2023</td>\n",
       "    </tr>\n",
       "  </tbody>\n",
       "</table>\n",
       "<p>139395 rows × 19 columns</p>\n",
       "</div>"
      ],
      "text/plain": [
       "           peso_id     trbh_id             inr_date  inr method_cd ind_status  \\\n",
       "0       6027991086  6131492478  2023-06-10 09:53:00  4.1       ZMA        CSP   \n",
       "1       6026141152  6026512906  2023-09-01 06:49:00  1.7       ZMA        CSP   \n",
       "2       6026141152  6026512906  2020-04-29 00:00:00  3.2       ZMA        CSP   \n",
       "3       6026141152  6026512906  2020-05-28 00:00:00  2.5       ZMA        CSP   \n",
       "4       6026141152  6026512906  2020-07-08 00:00:00  2.6       ZMA        CSP   \n",
       "...            ...         ...                  ...  ...       ...        ...   \n",
       "139390  6028010260  6137309936  2024-02-09 00:00:00  1.0       ZMA        CSP   \n",
       "139391  6028010260  6137309936  2023-11-30 00:00:00  1.0       ZMA        CSP   \n",
       "139392  6027983126  6127118628  2023-03-28 00:00:00  1.8       LAB       HCSP   \n",
       "139393  6027973170  6120390772  2023-10-10 00:00:00  2.5       LAB        CSP   \n",
       "139394  6027973170  6120390772  2023-09-15 00:00:00  2.0       LAB        CSP   \n",
       "\n",
       "        list_nr          id    dosing_process_timestamp  \\\n",
       "0           3.0  6131840490  2023-06-10 09:54:57.089723   \n",
       "1           2.0  6134525496   2023-09-01 06:49:30.63231   \n",
       "2           2.0  6059205866  2020-04-29 17:35:39.170686   \n",
       "3           2.0  6059638402   2020-05-28 14:24:20.39494   \n",
       "4           2.0  6060016868  2020-07-08 14:59:13.154197   \n",
       "...         ...         ...                         ...   \n",
       "139390      NaN  6139233834                         NaN   \n",
       "139391      NaN  6137312894                         NaN   \n",
       "139392      NaN  6127118654                         NaN   \n",
       "139393      NaN  6136278298                         NaN   \n",
       "139394      NaN  6136278104                         NaN   \n",
       "\n",
       "                                       reason_dosing_list  \\\n",
       "0       return ''.gettext('Er zijn minder dan 2 opeenv...   \n",
       "1       return ''.sprintf(gettext('Huidige INR %s ligt...   \n",
       "2       return ''.sprintf(gettext('Vorige INR %s (%s) ...   \n",
       "3       return ''.sprintf(gettext('Aantal wegzenddagen...   \n",
       "4       return ''.sprintf(gettext('Aantal wegzenddagen...   \n",
       "...                                                   ...   \n",
       "139390                                                NaN   \n",
       "139391                                                NaN   \n",
       "139392                                                NaN   \n",
       "139393                                                NaN   \n",
       "139394                                                NaN   \n",
       "\n",
       "        target_range_deviation_lower  target_range_deviation_upper  \\\n",
       "0                                2.5                           3.5   \n",
       "1                                2.5                           3.5   \n",
       "2                                2.5                           3.5   \n",
       "3                                2.5                           3.5   \n",
       "4                                2.5                           3.5   \n",
       "...                              ...                           ...   \n",
       "139390                           NaN                           NaN   \n",
       "139391                           NaN                           NaN   \n",
       "139392                           NaN                           NaN   \n",
       "139393                           NaN                           NaN   \n",
       "139394                           NaN                           NaN   \n",
       "\n",
       "        target_range  final_lower  final_upper  inside  below  above  year  \n",
       "0                  1          2.5          3.5     0.0    0.0  100.0  2023  \n",
       "1                  1          2.5          3.5     0.0  100.0    0.0  2023  \n",
       "2                  1          2.5          3.5   100.0    0.0    0.0  2020  \n",
       "3                  1          2.5          3.5   100.0    0.0    0.0  2020  \n",
       "4                  1          2.5          3.5   100.0    0.0    0.0  2020  \n",
       "...              ...          ...          ...     ...    ...    ...   ...  \n",
       "139390             1          2.0          3.0     0.0  100.0    0.0  2024  \n",
       "139391             1          2.0          3.0     0.0  100.0    0.0  2023  \n",
       "139392             2          2.5          3.5     0.0  100.0    0.0  2023  \n",
       "139393             2          2.5          3.5   100.0    0.0    0.0  2023  \n",
       "139394             2          2.5          3.5     0.0  100.0    0.0  2023  \n",
       "\n",
       "[139395 rows x 19 columns]"
      ]
     },
     "execution_count": 59,
     "metadata": {},
     "output_type": "execute_result"
    }
   ],
   "source": [
    "final_inr['year'] = final_inr['inr_date'].astype(\"datetime64[ns]\").dt.to_period(\"Y\") #here the new column for year of INR is added\n",
    "final_inr"
   ]
  },
  {
   "cell_type": "markdown",
   "id": "c94b6559",
   "metadata": {},
   "source": [
    "**Изменим тип данных в столбце даты:**"
   ]
  },
  {
   "cell_type": "code",
   "execution_count": 60,
   "id": "111d546f",
   "metadata": {},
   "outputs": [
    {
     "data": {
      "text/html": [
       "<div>\n",
       "<style scoped>\n",
       "    .dataframe tbody tr th:only-of-type {\n",
       "        vertical-align: middle;\n",
       "    }\n",
       "\n",
       "    .dataframe tbody tr th {\n",
       "        vertical-align: top;\n",
       "    }\n",
       "\n",
       "    .dataframe thead th {\n",
       "        text-align: right;\n",
       "    }\n",
       "</style>\n",
       "<table border=\"1\" class=\"dataframe\">\n",
       "  <thead>\n",
       "    <tr style=\"text-align: right;\">\n",
       "      <th></th>\n",
       "      <th>peso_id</th>\n",
       "      <th>trbh_id</th>\n",
       "      <th>inr_date</th>\n",
       "      <th>inr</th>\n",
       "      <th>method_cd</th>\n",
       "      <th>ind_status</th>\n",
       "      <th>list_nr</th>\n",
       "      <th>id</th>\n",
       "      <th>dosing_process_timestamp</th>\n",
       "      <th>reason_dosing_list</th>\n",
       "      <th>target_range_deviation_lower</th>\n",
       "      <th>target_range_deviation_upper</th>\n",
       "      <th>target_range</th>\n",
       "      <th>final_lower</th>\n",
       "      <th>final_upper</th>\n",
       "      <th>inside</th>\n",
       "      <th>below</th>\n",
       "      <th>above</th>\n",
       "      <th>year</th>\n",
       "    </tr>\n",
       "  </thead>\n",
       "  <tbody>\n",
       "    <tr>\n",
       "      <th>0</th>\n",
       "      <td>6027991086</td>\n",
       "      <td>6131492478</td>\n",
       "      <td>2023-06-10 09:53:00</td>\n",
       "      <td>4.1</td>\n",
       "      <td>ZMA</td>\n",
       "      <td>CSP</td>\n",
       "      <td>3.0</td>\n",
       "      <td>6131840490</td>\n",
       "      <td>2023-06-10 09:54:57.089723</td>\n",
       "      <td>return ''.gettext('Er zijn minder dan 2 opeenv...</td>\n",
       "      <td>2.5</td>\n",
       "      <td>3.5</td>\n",
       "      <td>1</td>\n",
       "      <td>2.5</td>\n",
       "      <td>3.5</td>\n",
       "      <td>0.0</td>\n",
       "      <td>0.0</td>\n",
       "      <td>100.0</td>\n",
       "      <td>2023</td>\n",
       "    </tr>\n",
       "    <tr>\n",
       "      <th>1</th>\n",
       "      <td>6026141152</td>\n",
       "      <td>6026512906</td>\n",
       "      <td>2023-09-01 06:49:00</td>\n",
       "      <td>1.7</td>\n",
       "      <td>ZMA</td>\n",
       "      <td>CSP</td>\n",
       "      <td>2.0</td>\n",
       "      <td>6134525496</td>\n",
       "      <td>2023-09-01 06:49:30.63231</td>\n",
       "      <td>return ''.sprintf(gettext('Huidige INR %s ligt...</td>\n",
       "      <td>2.5</td>\n",
       "      <td>3.5</td>\n",
       "      <td>1</td>\n",
       "      <td>2.5</td>\n",
       "      <td>3.5</td>\n",
       "      <td>0.0</td>\n",
       "      <td>100.0</td>\n",
       "      <td>0.0</td>\n",
       "      <td>2023</td>\n",
       "    </tr>\n",
       "    <tr>\n",
       "      <th>2</th>\n",
       "      <td>6026141152</td>\n",
       "      <td>6026512906</td>\n",
       "      <td>2020-04-29 00:00:00</td>\n",
       "      <td>3.2</td>\n",
       "      <td>ZMA</td>\n",
       "      <td>CSP</td>\n",
       "      <td>2.0</td>\n",
       "      <td>6059205866</td>\n",
       "      <td>2020-04-29 17:35:39.170686</td>\n",
       "      <td>return ''.sprintf(gettext('Vorige INR %s (%s) ...</td>\n",
       "      <td>2.5</td>\n",
       "      <td>3.5</td>\n",
       "      <td>1</td>\n",
       "      <td>2.5</td>\n",
       "      <td>3.5</td>\n",
       "      <td>100.0</td>\n",
       "      <td>0.0</td>\n",
       "      <td>0.0</td>\n",
       "      <td>2020</td>\n",
       "    </tr>\n",
       "    <tr>\n",
       "      <th>3</th>\n",
       "      <td>6026141152</td>\n",
       "      <td>6026512906</td>\n",
       "      <td>2020-05-28 00:00:00</td>\n",
       "      <td>2.5</td>\n",
       "      <td>ZMA</td>\n",
       "      <td>CSP</td>\n",
       "      <td>2.0</td>\n",
       "      <td>6059638402</td>\n",
       "      <td>2020-05-28 14:24:20.39494</td>\n",
       "      <td>return ''.sprintf(gettext('Aantal wegzenddagen...</td>\n",
       "      <td>2.5</td>\n",
       "      <td>3.5</td>\n",
       "      <td>1</td>\n",
       "      <td>2.5</td>\n",
       "      <td>3.5</td>\n",
       "      <td>100.0</td>\n",
       "      <td>0.0</td>\n",
       "      <td>0.0</td>\n",
       "      <td>2020</td>\n",
       "    </tr>\n",
       "    <tr>\n",
       "      <th>4</th>\n",
       "      <td>6026141152</td>\n",
       "      <td>6026512906</td>\n",
       "      <td>2020-07-08 00:00:00</td>\n",
       "      <td>2.6</td>\n",
       "      <td>ZMA</td>\n",
       "      <td>CSP</td>\n",
       "      <td>2.0</td>\n",
       "      <td>6060016868</td>\n",
       "      <td>2020-07-08 14:59:13.154197</td>\n",
       "      <td>return ''.sprintf(gettext('Aantal wegzenddagen...</td>\n",
       "      <td>2.5</td>\n",
       "      <td>3.5</td>\n",
       "      <td>1</td>\n",
       "      <td>2.5</td>\n",
       "      <td>3.5</td>\n",
       "      <td>100.0</td>\n",
       "      <td>0.0</td>\n",
       "      <td>0.0</td>\n",
       "      <td>2020</td>\n",
       "    </tr>\n",
       "    <tr>\n",
       "      <th>...</th>\n",
       "      <td>...</td>\n",
       "      <td>...</td>\n",
       "      <td>...</td>\n",
       "      <td>...</td>\n",
       "      <td>...</td>\n",
       "      <td>...</td>\n",
       "      <td>...</td>\n",
       "      <td>...</td>\n",
       "      <td>...</td>\n",
       "      <td>...</td>\n",
       "      <td>...</td>\n",
       "      <td>...</td>\n",
       "      <td>...</td>\n",
       "      <td>...</td>\n",
       "      <td>...</td>\n",
       "      <td>...</td>\n",
       "      <td>...</td>\n",
       "      <td>...</td>\n",
       "      <td>...</td>\n",
       "    </tr>\n",
       "    <tr>\n",
       "      <th>139390</th>\n",
       "      <td>6028010260</td>\n",
       "      <td>6137309936</td>\n",
       "      <td>2024-02-09 00:00:00</td>\n",
       "      <td>1.0</td>\n",
       "      <td>ZMA</td>\n",
       "      <td>CSP</td>\n",
       "      <td>NaN</td>\n",
       "      <td>6139233834</td>\n",
       "      <td>NaN</td>\n",
       "      <td>NaN</td>\n",
       "      <td>NaN</td>\n",
       "      <td>NaN</td>\n",
       "      <td>1</td>\n",
       "      <td>2.0</td>\n",
       "      <td>3.0</td>\n",
       "      <td>0.0</td>\n",
       "      <td>100.0</td>\n",
       "      <td>0.0</td>\n",
       "      <td>2024</td>\n",
       "    </tr>\n",
       "    <tr>\n",
       "      <th>139391</th>\n",
       "      <td>6028010260</td>\n",
       "      <td>6137309936</td>\n",
       "      <td>2023-11-30 00:00:00</td>\n",
       "      <td>1.0</td>\n",
       "      <td>ZMA</td>\n",
       "      <td>CSP</td>\n",
       "      <td>NaN</td>\n",
       "      <td>6137312894</td>\n",
       "      <td>NaN</td>\n",
       "      <td>NaN</td>\n",
       "      <td>NaN</td>\n",
       "      <td>NaN</td>\n",
       "      <td>1</td>\n",
       "      <td>2.0</td>\n",
       "      <td>3.0</td>\n",
       "      <td>0.0</td>\n",
       "      <td>100.0</td>\n",
       "      <td>0.0</td>\n",
       "      <td>2023</td>\n",
       "    </tr>\n",
       "    <tr>\n",
       "      <th>139392</th>\n",
       "      <td>6027983126</td>\n",
       "      <td>6127118628</td>\n",
       "      <td>2023-03-28 00:00:00</td>\n",
       "      <td>1.8</td>\n",
       "      <td>LAB</td>\n",
       "      <td>HCSP</td>\n",
       "      <td>NaN</td>\n",
       "      <td>6127118654</td>\n",
       "      <td>NaN</td>\n",
       "      <td>NaN</td>\n",
       "      <td>NaN</td>\n",
       "      <td>NaN</td>\n",
       "      <td>2</td>\n",
       "      <td>2.5</td>\n",
       "      <td>3.5</td>\n",
       "      <td>0.0</td>\n",
       "      <td>100.0</td>\n",
       "      <td>0.0</td>\n",
       "      <td>2023</td>\n",
       "    </tr>\n",
       "    <tr>\n",
       "      <th>139393</th>\n",
       "      <td>6027973170</td>\n",
       "      <td>6120390772</td>\n",
       "      <td>2023-10-10 00:00:00</td>\n",
       "      <td>2.5</td>\n",
       "      <td>LAB</td>\n",
       "      <td>CSP</td>\n",
       "      <td>NaN</td>\n",
       "      <td>6136278298</td>\n",
       "      <td>NaN</td>\n",
       "      <td>NaN</td>\n",
       "      <td>NaN</td>\n",
       "      <td>NaN</td>\n",
       "      <td>2</td>\n",
       "      <td>2.5</td>\n",
       "      <td>3.5</td>\n",
       "      <td>100.0</td>\n",
       "      <td>0.0</td>\n",
       "      <td>0.0</td>\n",
       "      <td>2023</td>\n",
       "    </tr>\n",
       "    <tr>\n",
       "      <th>139394</th>\n",
       "      <td>6027973170</td>\n",
       "      <td>6120390772</td>\n",
       "      <td>2023-09-15 00:00:00</td>\n",
       "      <td>2.0</td>\n",
       "      <td>LAB</td>\n",
       "      <td>CSP</td>\n",
       "      <td>NaN</td>\n",
       "      <td>6136278104</td>\n",
       "      <td>NaN</td>\n",
       "      <td>NaN</td>\n",
       "      <td>NaN</td>\n",
       "      <td>NaN</td>\n",
       "      <td>2</td>\n",
       "      <td>2.5</td>\n",
       "      <td>3.5</td>\n",
       "      <td>0.0</td>\n",
       "      <td>100.0</td>\n",
       "      <td>0.0</td>\n",
       "      <td>2023</td>\n",
       "    </tr>\n",
       "  </tbody>\n",
       "</table>\n",
       "<p>139395 rows × 19 columns</p>\n",
       "</div>"
      ],
      "text/plain": [
       "           peso_id     trbh_id            inr_date  inr method_cd ind_status  \\\n",
       "0       6027991086  6131492478 2023-06-10 09:53:00  4.1       ZMA        CSP   \n",
       "1       6026141152  6026512906 2023-09-01 06:49:00  1.7       ZMA        CSP   \n",
       "2       6026141152  6026512906 2020-04-29 00:00:00  3.2       ZMA        CSP   \n",
       "3       6026141152  6026512906 2020-05-28 00:00:00  2.5       ZMA        CSP   \n",
       "4       6026141152  6026512906 2020-07-08 00:00:00  2.6       ZMA        CSP   \n",
       "...            ...         ...                 ...  ...       ...        ...   \n",
       "139390  6028010260  6137309936 2024-02-09 00:00:00  1.0       ZMA        CSP   \n",
       "139391  6028010260  6137309936 2023-11-30 00:00:00  1.0       ZMA        CSP   \n",
       "139392  6027983126  6127118628 2023-03-28 00:00:00  1.8       LAB       HCSP   \n",
       "139393  6027973170  6120390772 2023-10-10 00:00:00  2.5       LAB        CSP   \n",
       "139394  6027973170  6120390772 2023-09-15 00:00:00  2.0       LAB        CSP   \n",
       "\n",
       "        list_nr          id    dosing_process_timestamp  \\\n",
       "0           3.0  6131840490  2023-06-10 09:54:57.089723   \n",
       "1           2.0  6134525496   2023-09-01 06:49:30.63231   \n",
       "2           2.0  6059205866  2020-04-29 17:35:39.170686   \n",
       "3           2.0  6059638402   2020-05-28 14:24:20.39494   \n",
       "4           2.0  6060016868  2020-07-08 14:59:13.154197   \n",
       "...         ...         ...                         ...   \n",
       "139390      NaN  6139233834                         NaN   \n",
       "139391      NaN  6137312894                         NaN   \n",
       "139392      NaN  6127118654                         NaN   \n",
       "139393      NaN  6136278298                         NaN   \n",
       "139394      NaN  6136278104                         NaN   \n",
       "\n",
       "                                       reason_dosing_list  \\\n",
       "0       return ''.gettext('Er zijn minder dan 2 opeenv...   \n",
       "1       return ''.sprintf(gettext('Huidige INR %s ligt...   \n",
       "2       return ''.sprintf(gettext('Vorige INR %s (%s) ...   \n",
       "3       return ''.sprintf(gettext('Aantal wegzenddagen...   \n",
       "4       return ''.sprintf(gettext('Aantal wegzenddagen...   \n",
       "...                                                   ...   \n",
       "139390                                                NaN   \n",
       "139391                                                NaN   \n",
       "139392                                                NaN   \n",
       "139393                                                NaN   \n",
       "139394                                                NaN   \n",
       "\n",
       "        target_range_deviation_lower  target_range_deviation_upper  \\\n",
       "0                                2.5                           3.5   \n",
       "1                                2.5                           3.5   \n",
       "2                                2.5                           3.5   \n",
       "3                                2.5                           3.5   \n",
       "4                                2.5                           3.5   \n",
       "...                              ...                           ...   \n",
       "139390                           NaN                           NaN   \n",
       "139391                           NaN                           NaN   \n",
       "139392                           NaN                           NaN   \n",
       "139393                           NaN                           NaN   \n",
       "139394                           NaN                           NaN   \n",
       "\n",
       "        target_range  final_lower  final_upper  inside  below  above  year  \n",
       "0                  1          2.5          3.5     0.0    0.0  100.0  2023  \n",
       "1                  1          2.5          3.5     0.0  100.0    0.0  2023  \n",
       "2                  1          2.5          3.5   100.0    0.0    0.0  2020  \n",
       "3                  1          2.5          3.5   100.0    0.0    0.0  2020  \n",
       "4                  1          2.5          3.5   100.0    0.0    0.0  2020  \n",
       "...              ...          ...          ...     ...    ...    ...   ...  \n",
       "139390             1          2.0          3.0     0.0  100.0    0.0  2024  \n",
       "139391             1          2.0          3.0     0.0  100.0    0.0  2023  \n",
       "139392             2          2.5          3.5     0.0  100.0    0.0  2023  \n",
       "139393             2          2.5          3.5   100.0    0.0    0.0  2023  \n",
       "139394             2          2.5          3.5     0.0  100.0    0.0  2023  \n",
       "\n",
       "[139395 rows x 19 columns]"
      ]
     },
     "execution_count": 60,
     "metadata": {},
     "output_type": "execute_result"
    }
   ],
   "source": [
    "final_inr['inr_date'] = final_inr['inr_date'].astype(\"datetime64[ns]\")\n",
    "final_inr"
   ]
  },
  {
   "cell_type": "markdown",
   "id": "2b46cfb3",
   "metadata": {},
   "source": [
    "**Отсортируем по id и дате взятия МНО:**"
   ]
  },
  {
   "cell_type": "code",
   "execution_count": 61,
   "id": "0fc40f94",
   "metadata": {},
   "outputs": [
    {
     "data": {
      "text/html": [
       "<div>\n",
       "<style scoped>\n",
       "    .dataframe tbody tr th:only-of-type {\n",
       "        vertical-align: middle;\n",
       "    }\n",
       "\n",
       "    .dataframe tbody tr th {\n",
       "        vertical-align: top;\n",
       "    }\n",
       "\n",
       "    .dataframe thead th {\n",
       "        text-align: right;\n",
       "    }\n",
       "</style>\n",
       "<table border=\"1\" class=\"dataframe\">\n",
       "  <thead>\n",
       "    <tr style=\"text-align: right;\">\n",
       "      <th></th>\n",
       "      <th>index</th>\n",
       "      <th>peso_id</th>\n",
       "      <th>trbh_id</th>\n",
       "      <th>inr_date</th>\n",
       "      <th>inr</th>\n",
       "      <th>method_cd</th>\n",
       "      <th>ind_status</th>\n",
       "      <th>list_nr</th>\n",
       "      <th>id</th>\n",
       "      <th>dosing_process_timestamp</th>\n",
       "      <th>reason_dosing_list</th>\n",
       "      <th>target_range_deviation_lower</th>\n",
       "      <th>target_range_deviation_upper</th>\n",
       "      <th>target_range</th>\n",
       "      <th>final_lower</th>\n",
       "      <th>final_upper</th>\n",
       "      <th>inside</th>\n",
       "      <th>below</th>\n",
       "      <th>above</th>\n",
       "      <th>year</th>\n",
       "    </tr>\n",
       "  </thead>\n",
       "  <tbody>\n",
       "    <tr>\n",
       "      <th>0</th>\n",
       "      <td>24184</td>\n",
       "      <td>6026136442</td>\n",
       "      <td>6026188100</td>\n",
       "      <td>2016-12-01 00:00:00</td>\n",
       "      <td>3.2</td>\n",
       "      <td>LAB</td>\n",
       "      <td>CSP</td>\n",
       "      <td>3.0</td>\n",
       "      <td>6026188154</td>\n",
       "      <td>2016-12-01 12:08:43.621717</td>\n",
       "      <td>return ''.gettext('Er zijn minder dan 2 opeenv...</td>\n",
       "      <td>2.5</td>\n",
       "      <td>3.5</td>\n",
       "      <td>1</td>\n",
       "      <td>2.5</td>\n",
       "      <td>3.5</td>\n",
       "      <td>100.0</td>\n",
       "      <td>0.0</td>\n",
       "      <td>0.0</td>\n",
       "      <td>2016</td>\n",
       "    </tr>\n",
       "    <tr>\n",
       "      <th>1</th>\n",
       "      <td>24268</td>\n",
       "      <td>6026136442</td>\n",
       "      <td>6026188100</td>\n",
       "      <td>2016-12-28 00:00:00</td>\n",
       "      <td>2.6</td>\n",
       "      <td>LAB</td>\n",
       "      <td>CSP</td>\n",
       "      <td>NaN</td>\n",
       "      <td>6026199130</td>\n",
       "      <td>NaN</td>\n",
       "      <td>NaN</td>\n",
       "      <td>2.5</td>\n",
       "      <td>3.5</td>\n",
       "      <td>1</td>\n",
       "      <td>2.5</td>\n",
       "      <td>3.5</td>\n",
       "      <td>100.0</td>\n",
       "      <td>0.0</td>\n",
       "      <td>0.0</td>\n",
       "      <td>2016</td>\n",
       "    </tr>\n",
       "    <tr>\n",
       "      <th>2</th>\n",
       "      <td>24185</td>\n",
       "      <td>6026136442</td>\n",
       "      <td>6026188100</td>\n",
       "      <td>2017-01-23 00:00:00</td>\n",
       "      <td>3.7</td>\n",
       "      <td>LAB</td>\n",
       "      <td>CSP</td>\n",
       "      <td>2.0</td>\n",
       "      <td>6026206194</td>\n",
       "      <td>2017-01-23 11:10:56.575255</td>\n",
       "      <td>return ''.sprintf(gettext('Huidige INR %s ligt...</td>\n",
       "      <td>2.5</td>\n",
       "      <td>3.5</td>\n",
       "      <td>1</td>\n",
       "      <td>2.5</td>\n",
       "      <td>3.5</td>\n",
       "      <td>0.0</td>\n",
       "      <td>0.0</td>\n",
       "      <td>100.0</td>\n",
       "      <td>2017</td>\n",
       "    </tr>\n",
       "    <tr>\n",
       "      <th>3</th>\n",
       "      <td>24186</td>\n",
       "      <td>6026136442</td>\n",
       "      <td>6026188100</td>\n",
       "      <td>2017-02-14 00:00:00</td>\n",
       "      <td>2.5</td>\n",
       "      <td>LAB</td>\n",
       "      <td>CSP</td>\n",
       "      <td>2.0</td>\n",
       "      <td>6026212948</td>\n",
       "      <td>2017-02-14 11:22:12.99316</td>\n",
       "      <td>return ''.sprintf(gettext('Vorige INR %s (%s) ...</td>\n",
       "      <td>2.5</td>\n",
       "      <td>3.5</td>\n",
       "      <td>1</td>\n",
       "      <td>2.5</td>\n",
       "      <td>3.5</td>\n",
       "      <td>100.0</td>\n",
       "      <td>0.0</td>\n",
       "      <td>0.0</td>\n",
       "      <td>2017</td>\n",
       "    </tr>\n",
       "    <tr>\n",
       "      <th>4</th>\n",
       "      <td>24187</td>\n",
       "      <td>6026136442</td>\n",
       "      <td>6026188100</td>\n",
       "      <td>2017-04-03 00:00:00</td>\n",
       "      <td>3.0</td>\n",
       "      <td>LAB</td>\n",
       "      <td>CSP</td>\n",
       "      <td>2.0</td>\n",
       "      <td>6026221154</td>\n",
       "      <td>2017-04-03 10:51:08.935443</td>\n",
       "      <td>return ''.sprintf(gettext('Aantal wegzenddagen...</td>\n",
       "      <td>2.5</td>\n",
       "      <td>3.5</td>\n",
       "      <td>1</td>\n",
       "      <td>2.5</td>\n",
       "      <td>3.5</td>\n",
       "      <td>100.0</td>\n",
       "      <td>0.0</td>\n",
       "      <td>0.0</td>\n",
       "      <td>2017</td>\n",
       "    </tr>\n",
       "    <tr>\n",
       "      <th>...</th>\n",
       "      <td>...</td>\n",
       "      <td>...</td>\n",
       "      <td>...</td>\n",
       "      <td>...</td>\n",
       "      <td>...</td>\n",
       "      <td>...</td>\n",
       "      <td>...</td>\n",
       "      <td>...</td>\n",
       "      <td>...</td>\n",
       "      <td>...</td>\n",
       "      <td>...</td>\n",
       "      <td>...</td>\n",
       "      <td>...</td>\n",
       "      <td>...</td>\n",
       "      <td>...</td>\n",
       "      <td>...</td>\n",
       "      <td>...</td>\n",
       "      <td>...</td>\n",
       "      <td>...</td>\n",
       "      <td>...</td>\n",
       "    </tr>\n",
       "    <tr>\n",
       "      <th>139390</th>\n",
       "      <td>138944</td>\n",
       "      <td>6028057454</td>\n",
       "      <td>6140586056</td>\n",
       "      <td>2024-04-08 08:00:00</td>\n",
       "      <td>2.3</td>\n",
       "      <td>LAB</td>\n",
       "      <td>CSP</td>\n",
       "      <td>3.0</td>\n",
       "      <td>6140586104</td>\n",
       "      <td>2024-04-22 14:43:24.719202</td>\n",
       "      <td>return ''.gettext('Er zijn minder dan 2 opeenv...</td>\n",
       "      <td>NaN</td>\n",
       "      <td>NaN</td>\n",
       "      <td>2</td>\n",
       "      <td>2.5</td>\n",
       "      <td>3.5</td>\n",
       "      <td>0.0</td>\n",
       "      <td>100.0</td>\n",
       "      <td>0.0</td>\n",
       "      <td>2024</td>\n",
       "    </tr>\n",
       "    <tr>\n",
       "      <th>139391</th>\n",
       "      <td>138945</td>\n",
       "      <td>6028057456</td>\n",
       "      <td>6140586232</td>\n",
       "      <td>2024-04-22 08:00:00</td>\n",
       "      <td>2.5</td>\n",
       "      <td>LAB</td>\n",
       "      <td>CSP</td>\n",
       "      <td>3.0</td>\n",
       "      <td>6140586276</td>\n",
       "      <td>2024-04-22 14:43:24.697744</td>\n",
       "      <td>return ''.gettext('Er zijn minder dan 2 opeenv...</td>\n",
       "      <td>NaN</td>\n",
       "      <td>NaN</td>\n",
       "      <td>2</td>\n",
       "      <td>2.5</td>\n",
       "      <td>3.5</td>\n",
       "      <td>100.0</td>\n",
       "      <td>0.0</td>\n",
       "      <td>0.0</td>\n",
       "      <td>2024</td>\n",
       "    </tr>\n",
       "    <tr>\n",
       "      <th>139392</th>\n",
       "      <td>139235</td>\n",
       "      <td>6028057458</td>\n",
       "      <td>6140586428</td>\n",
       "      <td>2024-04-22 00:00:00</td>\n",
       "      <td>1.0</td>\n",
       "      <td>ZMA</td>\n",
       "      <td>CSP</td>\n",
       "      <td>NaN</td>\n",
       "      <td>6140586448</td>\n",
       "      <td>NaN</td>\n",
       "      <td>NaN</td>\n",
       "      <td>NaN</td>\n",
       "      <td>NaN</td>\n",
       "      <td>1</td>\n",
       "      <td>2.0</td>\n",
       "      <td>3.0</td>\n",
       "      <td>0.0</td>\n",
       "      <td>100.0</td>\n",
       "      <td>0.0</td>\n",
       "      <td>2024</td>\n",
       "    </tr>\n",
       "    <tr>\n",
       "      <th>139393</th>\n",
       "      <td>139002</td>\n",
       "      <td>6028057472</td>\n",
       "      <td>6140587670</td>\n",
       "      <td>2024-04-22 00:00:00</td>\n",
       "      <td>1.9</td>\n",
       "      <td>LAB</td>\n",
       "      <td>HCSP</td>\n",
       "      <td>NaN</td>\n",
       "      <td>6140587696</td>\n",
       "      <td>NaN</td>\n",
       "      <td>NaN</td>\n",
       "      <td>1.8</td>\n",
       "      <td>2.5</td>\n",
       "      <td>1</td>\n",
       "      <td>1.8</td>\n",
       "      <td>2.5</td>\n",
       "      <td>100.0</td>\n",
       "      <td>0.0</td>\n",
       "      <td>0.0</td>\n",
       "      <td>2024</td>\n",
       "    </tr>\n",
       "    <tr>\n",
       "      <th>139394</th>\n",
       "      <td>24183</td>\n",
       "      <td>6028057474</td>\n",
       "      <td>6140587750</td>\n",
       "      <td>2024-04-22 00:00:00</td>\n",
       "      <td>1.7</td>\n",
       "      <td>ZMA</td>\n",
       "      <td>CSP</td>\n",
       "      <td>3.0</td>\n",
       "      <td>6140587774</td>\n",
       "      <td>2024-04-22 19:22:46.428753</td>\n",
       "      <td>return ''.gettext('Er zijn minder dan 2 opeenv...</td>\n",
       "      <td>NaN</td>\n",
       "      <td>NaN</td>\n",
       "      <td>1</td>\n",
       "      <td>2.0</td>\n",
       "      <td>3.0</td>\n",
       "      <td>0.0</td>\n",
       "      <td>100.0</td>\n",
       "      <td>0.0</td>\n",
       "      <td>2024</td>\n",
       "    </tr>\n",
       "  </tbody>\n",
       "</table>\n",
       "<p>139395 rows × 20 columns</p>\n",
       "</div>"
      ],
      "text/plain": [
       "         index     peso_id     trbh_id            inr_date  inr method_cd  \\\n",
       "0        24184  6026136442  6026188100 2016-12-01 00:00:00  3.2       LAB   \n",
       "1        24268  6026136442  6026188100 2016-12-28 00:00:00  2.6       LAB   \n",
       "2        24185  6026136442  6026188100 2017-01-23 00:00:00  3.7       LAB   \n",
       "3        24186  6026136442  6026188100 2017-02-14 00:00:00  2.5       LAB   \n",
       "4        24187  6026136442  6026188100 2017-04-03 00:00:00  3.0       LAB   \n",
       "...        ...         ...         ...                 ...  ...       ...   \n",
       "139390  138944  6028057454  6140586056 2024-04-08 08:00:00  2.3       LAB   \n",
       "139391  138945  6028057456  6140586232 2024-04-22 08:00:00  2.5       LAB   \n",
       "139392  139235  6028057458  6140586428 2024-04-22 00:00:00  1.0       ZMA   \n",
       "139393  139002  6028057472  6140587670 2024-04-22 00:00:00  1.9       LAB   \n",
       "139394   24183  6028057474  6140587750 2024-04-22 00:00:00  1.7       ZMA   \n",
       "\n",
       "       ind_status  list_nr          id    dosing_process_timestamp  \\\n",
       "0             CSP      3.0  6026188154  2016-12-01 12:08:43.621717   \n",
       "1             CSP      NaN  6026199130                         NaN   \n",
       "2             CSP      2.0  6026206194  2017-01-23 11:10:56.575255   \n",
       "3             CSP      2.0  6026212948   2017-02-14 11:22:12.99316   \n",
       "4             CSP      2.0  6026221154  2017-04-03 10:51:08.935443   \n",
       "...           ...      ...         ...                         ...   \n",
       "139390        CSP      3.0  6140586104  2024-04-22 14:43:24.719202   \n",
       "139391        CSP      3.0  6140586276  2024-04-22 14:43:24.697744   \n",
       "139392        CSP      NaN  6140586448                         NaN   \n",
       "139393       HCSP      NaN  6140587696                         NaN   \n",
       "139394        CSP      3.0  6140587774  2024-04-22 19:22:46.428753   \n",
       "\n",
       "                                       reason_dosing_list  \\\n",
       "0       return ''.gettext('Er zijn minder dan 2 opeenv...   \n",
       "1                                                     NaN   \n",
       "2       return ''.sprintf(gettext('Huidige INR %s ligt...   \n",
       "3       return ''.sprintf(gettext('Vorige INR %s (%s) ...   \n",
       "4       return ''.sprintf(gettext('Aantal wegzenddagen...   \n",
       "...                                                   ...   \n",
       "139390  return ''.gettext('Er zijn minder dan 2 opeenv...   \n",
       "139391  return ''.gettext('Er zijn minder dan 2 opeenv...   \n",
       "139392                                                NaN   \n",
       "139393                                                NaN   \n",
       "139394  return ''.gettext('Er zijn minder dan 2 opeenv...   \n",
       "\n",
       "        target_range_deviation_lower  target_range_deviation_upper  \\\n",
       "0                                2.5                           3.5   \n",
       "1                                2.5                           3.5   \n",
       "2                                2.5                           3.5   \n",
       "3                                2.5                           3.5   \n",
       "4                                2.5                           3.5   \n",
       "...                              ...                           ...   \n",
       "139390                           NaN                           NaN   \n",
       "139391                           NaN                           NaN   \n",
       "139392                           NaN                           NaN   \n",
       "139393                           1.8                           2.5   \n",
       "139394                           NaN                           NaN   \n",
       "\n",
       "        target_range  final_lower  final_upper  inside  below  above  year  \n",
       "0                  1          2.5          3.5   100.0    0.0    0.0  2016  \n",
       "1                  1          2.5          3.5   100.0    0.0    0.0  2016  \n",
       "2                  1          2.5          3.5     0.0    0.0  100.0  2017  \n",
       "3                  1          2.5          3.5   100.0    0.0    0.0  2017  \n",
       "4                  1          2.5          3.5   100.0    0.0    0.0  2017  \n",
       "...              ...          ...          ...     ...    ...    ...   ...  \n",
       "139390             2          2.5          3.5     0.0  100.0    0.0  2024  \n",
       "139391             2          2.5          3.5   100.0    0.0    0.0  2024  \n",
       "139392             1          2.0          3.0     0.0  100.0    0.0  2024  \n",
       "139393             1          1.8          2.5   100.0    0.0    0.0  2024  \n",
       "139394             1          2.0          3.0     0.0  100.0    0.0  2024  \n",
       "\n",
       "[139395 rows x 20 columns]"
      ]
     },
     "execution_count": 61,
     "metadata": {},
     "output_type": "execute_result"
    }
   ],
   "source": [
    "final_inr = final_inr.sort_values(['peso_id','inr_date']).reset_index()\n",
    "final_inr"
   ]
  },
  {
   "cell_type": "code",
   "execution_count": 62,
   "id": "22a164b0",
   "metadata": {},
   "outputs": [
    {
     "data": {
      "text/plain": [
       "26"
      ]
     },
     "execution_count": 62,
     "metadata": {},
     "output_type": "execute_result"
    }
   ],
   "source": [
    "(final_inr.loc[2,'inr_date']-final_inr.loc[1,'inr_date']).days"
   ]
  },
  {
   "cell_type": "markdown",
   "id": "0654dc5e",
   "metadata": {},
   "source": [
    "**Вычислим время нахождения в целевом диапазоне и общее время лечения:**"
   ]
  },
  {
   "cell_type": "code",
   "execution_count": 63,
   "id": "a7fc756f",
   "metadata": {},
   "outputs": [],
   "source": [
    "for i in range(len(final_inr)-1):\n",
    "    if final_inr.loc[i,'peso_id'] == final_inr.loc[i+1,'peso_id']:\n",
    "        final_inr.loc[i+1,'total_days'] = (final_inr.loc[i+1,'inr_date'] - final_inr.loc[i,'inr_date']).days\n",
    "        if ((final_inr.loc[i,'below'] + final_inr.loc[i+1,'below'] == 200) or (final_inr.loc[i,'above'] + final_inr.loc[i+1,'above'] == 200)):\n",
    "            final_inr.loc[i+1,'days_within_inr'] = 0\n",
    "        elif final_inr.loc[i,'inside'] + final_inr.loc[i+1,'inside'] == 200:\n",
    "            final_inr.loc[i+1,'days_within_inr'] = (final_inr.loc[i+1,'inr_date'] - final_inr.loc[i,'inr_date']).days\n",
    "        elif    (final_inr.loc[i+1,'inr'] == final_inr.loc[i,'inr']):\n",
    "            print(final_inr.loc[i,['peso_id','inr','inside','below','above','final_lower','final_upper']],final_inr.loc[i+1,['peso_id','inr','inside','below','above','final_lower','final_upper']])\n",
    "        elif (final_inr.loc[i,'above'] + final_inr.loc[i+1,'below'] == 200) or (final_inr.loc[i,'below'] + final_inr.loc[i+1,'above'] == 200):\n",
    "            final_inr.loc[i+1,'days_within_inr'] = (final_inr.loc[i+1,'final_upper'] - final_inr.loc[i,'final_lower'])/abs(final_inr.loc[i+1,'inr']-final_inr.loc[i,'inr'])*(final_inr.loc[i+1,'inr_date']-final_inr.loc[i,'inr_date']).days\n",
    "        elif (final_inr.loc[i,'above'] + final_inr.loc[i+1,'inside'] == 200):\n",
    "            final_inr.loc[i+1,'days_within_inr'] = (final_inr.loc[i+1,'final_upper'] - final_inr.loc[i+1,'inr'])/abs(final_inr.loc[i+1,'inr']-final_inr.loc[i,'inr'])*(final_inr.loc[i+1,'inr_date']-final_inr.loc[i,'inr_date']).days\n",
    "        elif (final_inr.loc[i,'below'] + final_inr.loc[i+1,'inside'] == 200):\n",
    "            final_inr.loc[i+1,'days_within_inr'] = (final_inr.loc[i+1,'inr'] - final_inr.loc[i,'final_lower'])/abs(final_inr.loc[i+1,'inr']-final_inr.loc[i,'inr'])*(final_inr.loc[i+1,'inr_date']-final_inr.loc[i,'inr_date']).days\n",
    "        elif (final_inr.loc[i,'inside'] + final_inr.loc[i+1,'above'] == 200):\n",
    "            final_inr.loc[i+1,'days_within_inr'] = (final_inr.loc[i+1,'final_upper'] - final_inr.loc[i,'inr'])/abs(final_inr.loc[i+1,'inr']-final_inr.loc[i,'inr'])*(final_inr.loc[i+1,'inr_date']-final_inr.loc[i,'inr_date']).days\n",
    "        elif (final_inr.loc[i,'inside'] + final_inr.loc[i+1,'below'] == 200):\n",
    "            final_inr.loc[i+1,'days_within_inr'] = (final_inr.loc[i,'inr'] - final_inr.loc[i,'final_lower'])/abs(final_inr.loc[i+1,'inr']-final_inr.loc[i,'inr'])*(final_inr.loc[i+1,'inr_date']-final_inr.loc[i,'inr_date']).days    "
   ]
  },
  {
   "cell_type": "markdown",
   "id": "22e1a75c",
   "metadata": {},
   "source": [
    "**Посмотрим, что получилось в интересующих нас столбцах:**"
   ]
  },
  {
   "cell_type": "code",
   "execution_count": 64,
   "id": "584466b1",
   "metadata": {},
   "outputs": [
    {
     "data": {
      "text/html": [
       "<div>\n",
       "<style scoped>\n",
       "    .dataframe tbody tr th:only-of-type {\n",
       "        vertical-align: middle;\n",
       "    }\n",
       "\n",
       "    .dataframe tbody tr th {\n",
       "        vertical-align: top;\n",
       "    }\n",
       "\n",
       "    .dataframe thead th {\n",
       "        text-align: right;\n",
       "    }\n",
       "</style>\n",
       "<table border=\"1\" class=\"dataframe\">\n",
       "  <thead>\n",
       "    <tr style=\"text-align: right;\">\n",
       "      <th></th>\n",
       "      <th>peso_id</th>\n",
       "      <th>inr</th>\n",
       "      <th>inr_date</th>\n",
       "      <th>final_lower</th>\n",
       "      <th>final_upper</th>\n",
       "      <th>below</th>\n",
       "      <th>inside</th>\n",
       "      <th>above</th>\n",
       "      <th>days_within_inr</th>\n",
       "      <th>total_days</th>\n",
       "    </tr>\n",
       "  </thead>\n",
       "  <tbody>\n",
       "    <tr>\n",
       "      <th>0</th>\n",
       "      <td>6026136442</td>\n",
       "      <td>3.2</td>\n",
       "      <td>2016-12-01</td>\n",
       "      <td>2.5</td>\n",
       "      <td>3.5</td>\n",
       "      <td>0.0</td>\n",
       "      <td>100.0</td>\n",
       "      <td>0.0</td>\n",
       "      <td>NaN</td>\n",
       "      <td>NaN</td>\n",
       "    </tr>\n",
       "    <tr>\n",
       "      <th>1</th>\n",
       "      <td>6026136442</td>\n",
       "      <td>2.6</td>\n",
       "      <td>2016-12-28</td>\n",
       "      <td>2.5</td>\n",
       "      <td>3.5</td>\n",
       "      <td>0.0</td>\n",
       "      <td>100.0</td>\n",
       "      <td>0.0</td>\n",
       "      <td>27.000000</td>\n",
       "      <td>27.0</td>\n",
       "    </tr>\n",
       "    <tr>\n",
       "      <th>2</th>\n",
       "      <td>6026136442</td>\n",
       "      <td>3.7</td>\n",
       "      <td>2017-01-23</td>\n",
       "      <td>2.5</td>\n",
       "      <td>3.5</td>\n",
       "      <td>0.0</td>\n",
       "      <td>0.0</td>\n",
       "      <td>100.0</td>\n",
       "      <td>21.272727</td>\n",
       "      <td>26.0</td>\n",
       "    </tr>\n",
       "    <tr>\n",
       "      <th>3</th>\n",
       "      <td>6026136442</td>\n",
       "      <td>2.5</td>\n",
       "      <td>2017-02-14</td>\n",
       "      <td>2.5</td>\n",
       "      <td>3.5</td>\n",
       "      <td>0.0</td>\n",
       "      <td>100.0</td>\n",
       "      <td>0.0</td>\n",
       "      <td>18.333333</td>\n",
       "      <td>22.0</td>\n",
       "    </tr>\n",
       "    <tr>\n",
       "      <th>4</th>\n",
       "      <td>6026136442</td>\n",
       "      <td>3.0</td>\n",
       "      <td>2017-04-03</td>\n",
       "      <td>2.5</td>\n",
       "      <td>3.5</td>\n",
       "      <td>0.0</td>\n",
       "      <td>100.0</td>\n",
       "      <td>0.0</td>\n",
       "      <td>48.000000</td>\n",
       "      <td>48.0</td>\n",
       "    </tr>\n",
       "  </tbody>\n",
       "</table>\n",
       "</div>"
      ],
      "text/plain": [
       "      peso_id  inr   inr_date  final_lower  final_upper  below  inside  above  \\\n",
       "0  6026136442  3.2 2016-12-01          2.5          3.5    0.0   100.0    0.0   \n",
       "1  6026136442  2.6 2016-12-28          2.5          3.5    0.0   100.0    0.0   \n",
       "2  6026136442  3.7 2017-01-23          2.5          3.5    0.0     0.0  100.0   \n",
       "3  6026136442  2.5 2017-02-14          2.5          3.5    0.0   100.0    0.0   \n",
       "4  6026136442  3.0 2017-04-03          2.5          3.5    0.0   100.0    0.0   \n",
       "\n",
       "   days_within_inr  total_days  \n",
       "0              NaN         NaN  \n",
       "1        27.000000        27.0  \n",
       "2        21.272727        26.0  \n",
       "3        18.333333        22.0  \n",
       "4        48.000000        48.0  "
      ]
     },
     "execution_count": 64,
     "metadata": {},
     "output_type": "execute_result"
    }
   ],
   "source": [
    "final_inr[['peso_id', 'inr','inr_date','final_lower', 'final_upper','below', 'inside', 'above', 'days_within_inr','total_days']].head()"
   ]
  },
  {
   "cell_type": "markdown",
   "id": "15def199",
   "metadata": {},
   "source": [
    "**Создадим итоговую таблицу, отфильтровав только посещающих пациентов (не более 60 дней между визитами), и сгруппировав по годам:**"
   ]
  },
  {
   "cell_type": "code",
   "execution_count": 65,
   "id": "f89ded6f",
   "metadata": {},
   "outputs": [
    {
     "data": {
      "text/html": [
       "<div>\n",
       "<style scoped>\n",
       "    .dataframe tbody tr th:only-of-type {\n",
       "        vertical-align: middle;\n",
       "    }\n",
       "\n",
       "    .dataframe tbody tr th {\n",
       "        vertical-align: top;\n",
       "    }\n",
       "\n",
       "    .dataframe thead th {\n",
       "        text-align: right;\n",
       "    }\n",
       "</style>\n",
       "<table border=\"1\" class=\"dataframe\">\n",
       "  <thead>\n",
       "    <tr style=\"text-align: right;\">\n",
       "      <th></th>\n",
       "      <th>year</th>\n",
       "      <th>method_cd</th>\n",
       "      <th>days_within_inr</th>\n",
       "      <th>total_days</th>\n",
       "      <th>TTR</th>\n",
       "    </tr>\n",
       "  </thead>\n",
       "  <tbody>\n",
       "    <tr>\n",
       "      <th>0</th>\n",
       "      <td>2016</td>\n",
       "      <td>LAB</td>\n",
       "      <td>71.800000</td>\n",
       "      <td>148.0</td>\n",
       "      <td>48.513514</td>\n",
       "    </tr>\n",
       "    <tr>\n",
       "      <th>1</th>\n",
       "      <td>2017</td>\n",
       "      <td>LAB</td>\n",
       "      <td>22235.871410</td>\n",
       "      <td>37448.0</td>\n",
       "      <td>59.377995</td>\n",
       "    </tr>\n",
       "    <tr>\n",
       "      <th>2</th>\n",
       "      <td>2017</td>\n",
       "      <td>ZMA</td>\n",
       "      <td>0.000000</td>\n",
       "      <td>29.0</td>\n",
       "      <td>0.000000</td>\n",
       "    </tr>\n",
       "    <tr>\n",
       "      <th>3</th>\n",
       "      <td>2018</td>\n",
       "      <td>LAB</td>\n",
       "      <td>68706.089506</td>\n",
       "      <td>123176.0</td>\n",
       "      <td>55.778796</td>\n",
       "    </tr>\n",
       "    <tr>\n",
       "      <th>4</th>\n",
       "      <td>2018</td>\n",
       "      <td>ZMA</td>\n",
       "      <td>129.981112</td>\n",
       "      <td>409.0</td>\n",
       "      <td>31.780223</td>\n",
       "    </tr>\n",
       "    <tr>\n",
       "      <th>5</th>\n",
       "      <td>2019</td>\n",
       "      <td>LAB</td>\n",
       "      <td>188102.744479</td>\n",
       "      <td>328157.0</td>\n",
       "      <td>57.320961</td>\n",
       "    </tr>\n",
       "    <tr>\n",
       "      <th>6</th>\n",
       "      <td>2019</td>\n",
       "      <td>ZMA</td>\n",
       "      <td>1445.647765</td>\n",
       "      <td>3251.0</td>\n",
       "      <td>44.467787</td>\n",
       "    </tr>\n",
       "    <tr>\n",
       "      <th>7</th>\n",
       "      <td>2020</td>\n",
       "      <td>LAB</td>\n",
       "      <td>186386.492518</td>\n",
       "      <td>304713.0</td>\n",
       "      <td>61.167883</td>\n",
       "    </tr>\n",
       "    <tr>\n",
       "      <th>8</th>\n",
       "      <td>2020</td>\n",
       "      <td>ZMA</td>\n",
       "      <td>28188.458291</td>\n",
       "      <td>46525.0</td>\n",
       "      <td>60.587766</td>\n",
       "    </tr>\n",
       "    <tr>\n",
       "      <th>9</th>\n",
       "      <td>2021</td>\n",
       "      <td>LAB</td>\n",
       "      <td>254805.517576</td>\n",
       "      <td>414396.0</td>\n",
       "      <td>61.488411</td>\n",
       "    </tr>\n",
       "    <tr>\n",
       "      <th>10</th>\n",
       "      <td>2021</td>\n",
       "      <td>ZMA</td>\n",
       "      <td>41181.061844</td>\n",
       "      <td>62195.0</td>\n",
       "      <td>66.212818</td>\n",
       "    </tr>\n",
       "    <tr>\n",
       "      <th>11</th>\n",
       "      <td>2022</td>\n",
       "      <td>LAB</td>\n",
       "      <td>352036.209363</td>\n",
       "      <td>579831.0</td>\n",
       "      <td>60.713589</td>\n",
       "    </tr>\n",
       "    <tr>\n",
       "      <th>12</th>\n",
       "      <td>2022</td>\n",
       "      <td>ZMA</td>\n",
       "      <td>48156.288444</td>\n",
       "      <td>68571.0</td>\n",
       "      <td>70.228360</td>\n",
       "    </tr>\n",
       "    <tr>\n",
       "      <th>13</th>\n",
       "      <td>2023</td>\n",
       "      <td>LAB</td>\n",
       "      <td>475866.901671</td>\n",
       "      <td>767644.0</td>\n",
       "      <td>61.990571</td>\n",
       "    </tr>\n",
       "    <tr>\n",
       "      <th>14</th>\n",
       "      <td>2023</td>\n",
       "      <td>ZMA</td>\n",
       "      <td>55093.098219</td>\n",
       "      <td>82123.0</td>\n",
       "      <td>67.086076</td>\n",
       "    </tr>\n",
       "    <tr>\n",
       "      <th>15</th>\n",
       "      <td>2024</td>\n",
       "      <td>LAB</td>\n",
       "      <td>171485.157068</td>\n",
       "      <td>261098.0</td>\n",
       "      <td>65.678464</td>\n",
       "    </tr>\n",
       "    <tr>\n",
       "      <th>16</th>\n",
       "      <td>2024</td>\n",
       "      <td>ZMA</td>\n",
       "      <td>19066.934410</td>\n",
       "      <td>27540.0</td>\n",
       "      <td>69.233604</td>\n",
       "    </tr>\n",
       "  </tbody>\n",
       "</table>\n",
       "</div>"
      ],
      "text/plain": [
       "    year method_cd  days_within_inr  total_days        TTR\n",
       "0   2016       LAB        71.800000       148.0  48.513514\n",
       "1   2017       LAB     22235.871410     37448.0  59.377995\n",
       "2   2017       ZMA         0.000000        29.0   0.000000\n",
       "3   2018       LAB     68706.089506    123176.0  55.778796\n",
       "4   2018       ZMA       129.981112       409.0  31.780223\n",
       "5   2019       LAB    188102.744479    328157.0  57.320961\n",
       "6   2019       ZMA      1445.647765      3251.0  44.467787\n",
       "7   2020       LAB    186386.492518    304713.0  61.167883\n",
       "8   2020       ZMA     28188.458291     46525.0  60.587766\n",
       "9   2021       LAB    254805.517576    414396.0  61.488411\n",
       "10  2021       ZMA     41181.061844     62195.0  66.212818\n",
       "11  2022       LAB    352036.209363    579831.0  60.713589\n",
       "12  2022       ZMA     48156.288444     68571.0  70.228360\n",
       "13  2023       LAB    475866.901671    767644.0  61.990571\n",
       "14  2023       ZMA     55093.098219     82123.0  67.086076\n",
       "15  2024       LAB    171485.157068    261098.0  65.678464\n",
       "16  2024       ZMA     19066.934410     27540.0  69.233604"
      ]
     },
     "execution_count": 65,
     "metadata": {},
     "output_type": "execute_result"
    }
   ],
   "source": [
    "rosental = final_inr.query('total_days<=60').groupby(['year','method_cd'])[['days_within_inr','total_days']].sum()\n",
    "rosental['TTR'] = rosental['days_within_inr']/rosental['total_days']*100\n",
    "rosental = rosental.reset_index()\n",
    "rosental['year'] = rosental['year'].dt.year\n",
    "rosental"
   ]
  },
  {
   "cell_type": "markdown",
   "id": "349c0c5e",
   "metadata": {},
   "source": [
    "**Построим график TTR по годам и методам измерения:**"
   ]
  },
  {
   "cell_type": "code",
   "execution_count": 66,
   "id": "435517c0",
   "metadata": {},
   "outputs": [
    {
     "data": {
      "application/vnd.plotly.v1+json": {
       "config": {
        "plotlyServerURL": "https://plot.ly"
       },
       "data": [
        {
         "hovertemplate": "method_cd=LAB<br>year=%{x}<br>TTR=%{y}<extra></extra>",
         "legendgroup": "LAB",
         "line": {
          "color": "#636efa",
          "dash": "solid"
         },
         "marker": {
          "symbol": "circle"
         },
         "mode": "lines",
         "name": "LAB",
         "orientation": "v",
         "showlegend": true,
         "type": "scatter",
         "x": [
          2016,
          2017,
          2018,
          2019,
          2020,
          2021,
          2022,
          2023,
          2024
         ],
         "xaxis": "x",
         "y": [
          48.51351351351351,
          59.377994578144154,
          55.778795793193126,
          57.32096053980482,
          61.16788339141487,
          61.48841146525017,
          60.713588849735075,
          61.99057136787302,
          65.67846443405872
         ],
         "yaxis": "y"
        },
        {
         "hovertemplate": "method_cd=ZMA<br>year=%{x}<br>TTR=%{y}<extra></extra>",
         "legendgroup": "ZMA",
         "line": {
          "color": "#EF553B",
          "dash": "solid"
         },
         "marker": {
          "symbol": "circle"
         },
         "mode": "lines",
         "name": "ZMA",
         "orientation": "v",
         "showlegend": true,
         "type": "scatter",
         "x": [
          2017,
          2018,
          2019,
          2020,
          2021,
          2022,
          2023,
          2024
         ],
         "xaxis": "x",
         "y": [
          0,
          31.78022309408232,
          44.467787286891244,
          60.587766343127136,
          66.2128175004261,
          70.22835957489868,
          67.08607603104333,
          69.23360352153628
         ],
         "yaxis": "y"
        }
       ],
       "layout": {
        "legend": {
         "title": {
          "text": "method_cd"
         },
         "tracegroupgap": 0
        },
        "template": {
         "data": {
          "bar": [
           {
            "error_x": {
             "color": "#2a3f5f"
            },
            "error_y": {
             "color": "#2a3f5f"
            },
            "marker": {
             "line": {
              "color": "#E5ECF6",
              "width": 0.5
             },
             "pattern": {
              "fillmode": "overlay",
              "size": 10,
              "solidity": 0.2
             }
            },
            "type": "bar"
           }
          ],
          "barpolar": [
           {
            "marker": {
             "line": {
              "color": "#E5ECF6",
              "width": 0.5
             },
             "pattern": {
              "fillmode": "overlay",
              "size": 10,
              "solidity": 0.2
             }
            },
            "type": "barpolar"
           }
          ],
          "carpet": [
           {
            "aaxis": {
             "endlinecolor": "#2a3f5f",
             "gridcolor": "white",
             "linecolor": "white",
             "minorgridcolor": "white",
             "startlinecolor": "#2a3f5f"
            },
            "baxis": {
             "endlinecolor": "#2a3f5f",
             "gridcolor": "white",
             "linecolor": "white",
             "minorgridcolor": "white",
             "startlinecolor": "#2a3f5f"
            },
            "type": "carpet"
           }
          ],
          "choropleth": [
           {
            "colorbar": {
             "outlinewidth": 0,
             "ticks": ""
            },
            "type": "choropleth"
           }
          ],
          "contour": [
           {
            "colorbar": {
             "outlinewidth": 0,
             "ticks": ""
            },
            "colorscale": [
             [
              0,
              "#0d0887"
             ],
             [
              0.1111111111111111,
              "#46039f"
             ],
             [
              0.2222222222222222,
              "#7201a8"
             ],
             [
              0.3333333333333333,
              "#9c179e"
             ],
             [
              0.4444444444444444,
              "#bd3786"
             ],
             [
              0.5555555555555556,
              "#d8576b"
             ],
             [
              0.6666666666666666,
              "#ed7953"
             ],
             [
              0.7777777777777778,
              "#fb9f3a"
             ],
             [
              0.8888888888888888,
              "#fdca26"
             ],
             [
              1,
              "#f0f921"
             ]
            ],
            "type": "contour"
           }
          ],
          "contourcarpet": [
           {
            "colorbar": {
             "outlinewidth": 0,
             "ticks": ""
            },
            "type": "contourcarpet"
           }
          ],
          "heatmap": [
           {
            "colorbar": {
             "outlinewidth": 0,
             "ticks": ""
            },
            "colorscale": [
             [
              0,
              "#0d0887"
             ],
             [
              0.1111111111111111,
              "#46039f"
             ],
             [
              0.2222222222222222,
              "#7201a8"
             ],
             [
              0.3333333333333333,
              "#9c179e"
             ],
             [
              0.4444444444444444,
              "#bd3786"
             ],
             [
              0.5555555555555556,
              "#d8576b"
             ],
             [
              0.6666666666666666,
              "#ed7953"
             ],
             [
              0.7777777777777778,
              "#fb9f3a"
             ],
             [
              0.8888888888888888,
              "#fdca26"
             ],
             [
              1,
              "#f0f921"
             ]
            ],
            "type": "heatmap"
           }
          ],
          "heatmapgl": [
           {
            "colorbar": {
             "outlinewidth": 0,
             "ticks": ""
            },
            "colorscale": [
             [
              0,
              "#0d0887"
             ],
             [
              0.1111111111111111,
              "#46039f"
             ],
             [
              0.2222222222222222,
              "#7201a8"
             ],
             [
              0.3333333333333333,
              "#9c179e"
             ],
             [
              0.4444444444444444,
              "#bd3786"
             ],
             [
              0.5555555555555556,
              "#d8576b"
             ],
             [
              0.6666666666666666,
              "#ed7953"
             ],
             [
              0.7777777777777778,
              "#fb9f3a"
             ],
             [
              0.8888888888888888,
              "#fdca26"
             ],
             [
              1,
              "#f0f921"
             ]
            ],
            "type": "heatmapgl"
           }
          ],
          "histogram": [
           {
            "marker": {
             "pattern": {
              "fillmode": "overlay",
              "size": 10,
              "solidity": 0.2
             }
            },
            "type": "histogram"
           }
          ],
          "histogram2d": [
           {
            "colorbar": {
             "outlinewidth": 0,
             "ticks": ""
            },
            "colorscale": [
             [
              0,
              "#0d0887"
             ],
             [
              0.1111111111111111,
              "#46039f"
             ],
             [
              0.2222222222222222,
              "#7201a8"
             ],
             [
              0.3333333333333333,
              "#9c179e"
             ],
             [
              0.4444444444444444,
              "#bd3786"
             ],
             [
              0.5555555555555556,
              "#d8576b"
             ],
             [
              0.6666666666666666,
              "#ed7953"
             ],
             [
              0.7777777777777778,
              "#fb9f3a"
             ],
             [
              0.8888888888888888,
              "#fdca26"
             ],
             [
              1,
              "#f0f921"
             ]
            ],
            "type": "histogram2d"
           }
          ],
          "histogram2dcontour": [
           {
            "colorbar": {
             "outlinewidth": 0,
             "ticks": ""
            },
            "colorscale": [
             [
              0,
              "#0d0887"
             ],
             [
              0.1111111111111111,
              "#46039f"
             ],
             [
              0.2222222222222222,
              "#7201a8"
             ],
             [
              0.3333333333333333,
              "#9c179e"
             ],
             [
              0.4444444444444444,
              "#bd3786"
             ],
             [
              0.5555555555555556,
              "#d8576b"
             ],
             [
              0.6666666666666666,
              "#ed7953"
             ],
             [
              0.7777777777777778,
              "#fb9f3a"
             ],
             [
              0.8888888888888888,
              "#fdca26"
             ],
             [
              1,
              "#f0f921"
             ]
            ],
            "type": "histogram2dcontour"
           }
          ],
          "mesh3d": [
           {
            "colorbar": {
             "outlinewidth": 0,
             "ticks": ""
            },
            "type": "mesh3d"
           }
          ],
          "parcoords": [
           {
            "line": {
             "colorbar": {
              "outlinewidth": 0,
              "ticks": ""
             }
            },
            "type": "parcoords"
           }
          ],
          "pie": [
           {
            "automargin": true,
            "type": "pie"
           }
          ],
          "scatter": [
           {
            "fillpattern": {
             "fillmode": "overlay",
             "size": 10,
             "solidity": 0.2
            },
            "type": "scatter"
           }
          ],
          "scatter3d": [
           {
            "line": {
             "colorbar": {
              "outlinewidth": 0,
              "ticks": ""
             }
            },
            "marker": {
             "colorbar": {
              "outlinewidth": 0,
              "ticks": ""
             }
            },
            "type": "scatter3d"
           }
          ],
          "scattercarpet": [
           {
            "marker": {
             "colorbar": {
              "outlinewidth": 0,
              "ticks": ""
             }
            },
            "type": "scattercarpet"
           }
          ],
          "scattergeo": [
           {
            "marker": {
             "colorbar": {
              "outlinewidth": 0,
              "ticks": ""
             }
            },
            "type": "scattergeo"
           }
          ],
          "scattergl": [
           {
            "marker": {
             "colorbar": {
              "outlinewidth": 0,
              "ticks": ""
             }
            },
            "type": "scattergl"
           }
          ],
          "scattermapbox": [
           {
            "marker": {
             "colorbar": {
              "outlinewidth": 0,
              "ticks": ""
             }
            },
            "type": "scattermapbox"
           }
          ],
          "scatterpolar": [
           {
            "marker": {
             "colorbar": {
              "outlinewidth": 0,
              "ticks": ""
             }
            },
            "type": "scatterpolar"
           }
          ],
          "scatterpolargl": [
           {
            "marker": {
             "colorbar": {
              "outlinewidth": 0,
              "ticks": ""
             }
            },
            "type": "scatterpolargl"
           }
          ],
          "scatterternary": [
           {
            "marker": {
             "colorbar": {
              "outlinewidth": 0,
              "ticks": ""
             }
            },
            "type": "scatterternary"
           }
          ],
          "surface": [
           {
            "colorbar": {
             "outlinewidth": 0,
             "ticks": ""
            },
            "colorscale": [
             [
              0,
              "#0d0887"
             ],
             [
              0.1111111111111111,
              "#46039f"
             ],
             [
              0.2222222222222222,
              "#7201a8"
             ],
             [
              0.3333333333333333,
              "#9c179e"
             ],
             [
              0.4444444444444444,
              "#bd3786"
             ],
             [
              0.5555555555555556,
              "#d8576b"
             ],
             [
              0.6666666666666666,
              "#ed7953"
             ],
             [
              0.7777777777777778,
              "#fb9f3a"
             ],
             [
              0.8888888888888888,
              "#fdca26"
             ],
             [
              1,
              "#f0f921"
             ]
            ],
            "type": "surface"
           }
          ],
          "table": [
           {
            "cells": {
             "fill": {
              "color": "#EBF0F8"
             },
             "line": {
              "color": "white"
             }
            },
            "header": {
             "fill": {
              "color": "#C8D4E3"
             },
             "line": {
              "color": "white"
             }
            },
            "type": "table"
           }
          ]
         },
         "layout": {
          "annotationdefaults": {
           "arrowcolor": "#2a3f5f",
           "arrowhead": 0,
           "arrowwidth": 1
          },
          "autotypenumbers": "strict",
          "coloraxis": {
           "colorbar": {
            "outlinewidth": 0,
            "ticks": ""
           }
          },
          "colorscale": {
           "diverging": [
            [
             0,
             "#8e0152"
            ],
            [
             0.1,
             "#c51b7d"
            ],
            [
             0.2,
             "#de77ae"
            ],
            [
             0.3,
             "#f1b6da"
            ],
            [
             0.4,
             "#fde0ef"
            ],
            [
             0.5,
             "#f7f7f7"
            ],
            [
             0.6,
             "#e6f5d0"
            ],
            [
             0.7,
             "#b8e186"
            ],
            [
             0.8,
             "#7fbc41"
            ],
            [
             0.9,
             "#4d9221"
            ],
            [
             1,
             "#276419"
            ]
           ],
           "sequential": [
            [
             0,
             "#0d0887"
            ],
            [
             0.1111111111111111,
             "#46039f"
            ],
            [
             0.2222222222222222,
             "#7201a8"
            ],
            [
             0.3333333333333333,
             "#9c179e"
            ],
            [
             0.4444444444444444,
             "#bd3786"
            ],
            [
             0.5555555555555556,
             "#d8576b"
            ],
            [
             0.6666666666666666,
             "#ed7953"
            ],
            [
             0.7777777777777778,
             "#fb9f3a"
            ],
            [
             0.8888888888888888,
             "#fdca26"
            ],
            [
             1,
             "#f0f921"
            ]
           ],
           "sequentialminus": [
            [
             0,
             "#0d0887"
            ],
            [
             0.1111111111111111,
             "#46039f"
            ],
            [
             0.2222222222222222,
             "#7201a8"
            ],
            [
             0.3333333333333333,
             "#9c179e"
            ],
            [
             0.4444444444444444,
             "#bd3786"
            ],
            [
             0.5555555555555556,
             "#d8576b"
            ],
            [
             0.6666666666666666,
             "#ed7953"
            ],
            [
             0.7777777777777778,
             "#fb9f3a"
            ],
            [
             0.8888888888888888,
             "#fdca26"
            ],
            [
             1,
             "#f0f921"
            ]
           ]
          },
          "colorway": [
           "#636efa",
           "#EF553B",
           "#00cc96",
           "#ab63fa",
           "#FFA15A",
           "#19d3f3",
           "#FF6692",
           "#B6E880",
           "#FF97FF",
           "#FECB52"
          ],
          "font": {
           "color": "#2a3f5f"
          },
          "geo": {
           "bgcolor": "white",
           "lakecolor": "white",
           "landcolor": "#E5ECF6",
           "showlakes": true,
           "showland": true,
           "subunitcolor": "white"
          },
          "hoverlabel": {
           "align": "left"
          },
          "hovermode": "closest",
          "mapbox": {
           "style": "light"
          },
          "paper_bgcolor": "white",
          "plot_bgcolor": "#E5ECF6",
          "polar": {
           "angularaxis": {
            "gridcolor": "white",
            "linecolor": "white",
            "ticks": ""
           },
           "bgcolor": "#E5ECF6",
           "radialaxis": {
            "gridcolor": "white",
            "linecolor": "white",
            "ticks": ""
           }
          },
          "scene": {
           "xaxis": {
            "backgroundcolor": "#E5ECF6",
            "gridcolor": "white",
            "gridwidth": 2,
            "linecolor": "white",
            "showbackground": true,
            "ticks": "",
            "zerolinecolor": "white"
           },
           "yaxis": {
            "backgroundcolor": "#E5ECF6",
            "gridcolor": "white",
            "gridwidth": 2,
            "linecolor": "white",
            "showbackground": true,
            "ticks": "",
            "zerolinecolor": "white"
           },
           "zaxis": {
            "backgroundcolor": "#E5ECF6",
            "gridcolor": "white",
            "gridwidth": 2,
            "linecolor": "white",
            "showbackground": true,
            "ticks": "",
            "zerolinecolor": "white"
           }
          },
          "shapedefaults": {
           "line": {
            "color": "#2a3f5f"
           }
          },
          "ternary": {
           "aaxis": {
            "gridcolor": "white",
            "linecolor": "white",
            "ticks": ""
           },
           "baxis": {
            "gridcolor": "white",
            "linecolor": "white",
            "ticks": ""
           },
           "bgcolor": "#E5ECF6",
           "caxis": {
            "gridcolor": "white",
            "linecolor": "white",
            "ticks": ""
           }
          },
          "title": {
           "x": 0.05
          },
          "xaxis": {
           "automargin": true,
           "gridcolor": "white",
           "linecolor": "white",
           "ticks": "",
           "title": {
            "standoff": 15
           },
           "zerolinecolor": "white",
           "zerolinewidth": 2
          },
          "yaxis": {
           "automargin": true,
           "gridcolor": "white",
           "linecolor": "white",
           "ticks": "",
           "title": {
            "standoff": 15
           },
           "zerolinecolor": "white",
           "zerolinewidth": 2
          }
         }
        },
        "title": {
         "text": "TTR у всех пациентов с разбивкой по годам и методам измерения"
        },
        "xaxis": {
         "anchor": "y",
         "domain": [
          0,
          1
         ],
         "title": {
          "text": "year"
         }
        },
        "yaxis": {
         "anchor": "x",
         "domain": [
          0,
          1
         ],
         "title": {
          "text": "TTR"
         }
        }
       }
      },
      "text/html": [
       "<div>                            <div id=\"2ab1aa4e-225a-48cd-9d4c-0bbfa0097f3e\" class=\"plotly-graph-div\" style=\"height:525px; width:100%;\"></div>            <script type=\"text/javascript\">                require([\"plotly\"], function(Plotly) {                    window.PLOTLYENV=window.PLOTLYENV || {};                                    if (document.getElementById(\"2ab1aa4e-225a-48cd-9d4c-0bbfa0097f3e\")) {                    Plotly.newPlot(                        \"2ab1aa4e-225a-48cd-9d4c-0bbfa0097f3e\",                        [{\"hovertemplate\":\"method_cd=LAB<br>year=%{x}<br>TTR=%{y}<extra></extra>\",\"legendgroup\":\"LAB\",\"line\":{\"color\":\"#636efa\",\"dash\":\"solid\"},\"marker\":{\"symbol\":\"circle\"},\"mode\":\"lines\",\"name\":\"LAB\",\"orientation\":\"v\",\"showlegend\":true,\"x\":[2016,2017,2018,2019,2020,2021,2022,2023,2024],\"xaxis\":\"x\",\"y\":[48.51351351351351,59.377994578144154,55.778795793193126,57.32096053980482,61.16788339141487,61.48841146525017,60.713588849735075,61.99057136787302,65.67846443405872],\"yaxis\":\"y\",\"type\":\"scatter\"},{\"hovertemplate\":\"method_cd=ZMA<br>year=%{x}<br>TTR=%{y}<extra></extra>\",\"legendgroup\":\"ZMA\",\"line\":{\"color\":\"#EF553B\",\"dash\":\"solid\"},\"marker\":{\"symbol\":\"circle\"},\"mode\":\"lines\",\"name\":\"ZMA\",\"orientation\":\"v\",\"showlegend\":true,\"x\":[2017,2018,2019,2020,2021,2022,2023,2024],\"xaxis\":\"x\",\"y\":[0.0,31.78022309408232,44.467787286891244,60.587766343127136,66.2128175004261,70.22835957489868,67.08607603104333,69.23360352153628],\"yaxis\":\"y\",\"type\":\"scatter\"}],                        {\"template\":{\"data\":{\"histogram2dcontour\":[{\"type\":\"histogram2dcontour\",\"colorbar\":{\"outlinewidth\":0,\"ticks\":\"\"},\"colorscale\":[[0.0,\"#0d0887\"],[0.1111111111111111,\"#46039f\"],[0.2222222222222222,\"#7201a8\"],[0.3333333333333333,\"#9c179e\"],[0.4444444444444444,\"#bd3786\"],[0.5555555555555556,\"#d8576b\"],[0.6666666666666666,\"#ed7953\"],[0.7777777777777778,\"#fb9f3a\"],[0.8888888888888888,\"#fdca26\"],[1.0,\"#f0f921\"]]}],\"choropleth\":[{\"type\":\"choropleth\",\"colorbar\":{\"outlinewidth\":0,\"ticks\":\"\"}}],\"histogram2d\":[{\"type\":\"histogram2d\",\"colorbar\":{\"outlinewidth\":0,\"ticks\":\"\"},\"colorscale\":[[0.0,\"#0d0887\"],[0.1111111111111111,\"#46039f\"],[0.2222222222222222,\"#7201a8\"],[0.3333333333333333,\"#9c179e\"],[0.4444444444444444,\"#bd3786\"],[0.5555555555555556,\"#d8576b\"],[0.6666666666666666,\"#ed7953\"],[0.7777777777777778,\"#fb9f3a\"],[0.8888888888888888,\"#fdca26\"],[1.0,\"#f0f921\"]]}],\"heatmap\":[{\"type\":\"heatmap\",\"colorbar\":{\"outlinewidth\":0,\"ticks\":\"\"},\"colorscale\":[[0.0,\"#0d0887\"],[0.1111111111111111,\"#46039f\"],[0.2222222222222222,\"#7201a8\"],[0.3333333333333333,\"#9c179e\"],[0.4444444444444444,\"#bd3786\"],[0.5555555555555556,\"#d8576b\"],[0.6666666666666666,\"#ed7953\"],[0.7777777777777778,\"#fb9f3a\"],[0.8888888888888888,\"#fdca26\"],[1.0,\"#f0f921\"]]}],\"heatmapgl\":[{\"type\":\"heatmapgl\",\"colorbar\":{\"outlinewidth\":0,\"ticks\":\"\"},\"colorscale\":[[0.0,\"#0d0887\"],[0.1111111111111111,\"#46039f\"],[0.2222222222222222,\"#7201a8\"],[0.3333333333333333,\"#9c179e\"],[0.4444444444444444,\"#bd3786\"],[0.5555555555555556,\"#d8576b\"],[0.6666666666666666,\"#ed7953\"],[0.7777777777777778,\"#fb9f3a\"],[0.8888888888888888,\"#fdca26\"],[1.0,\"#f0f921\"]]}],\"contourcarpet\":[{\"type\":\"contourcarpet\",\"colorbar\":{\"outlinewidth\":0,\"ticks\":\"\"}}],\"contour\":[{\"type\":\"contour\",\"colorbar\":{\"outlinewidth\":0,\"ticks\":\"\"},\"colorscale\":[[0.0,\"#0d0887\"],[0.1111111111111111,\"#46039f\"],[0.2222222222222222,\"#7201a8\"],[0.3333333333333333,\"#9c179e\"],[0.4444444444444444,\"#bd3786\"],[0.5555555555555556,\"#d8576b\"],[0.6666666666666666,\"#ed7953\"],[0.7777777777777778,\"#fb9f3a\"],[0.8888888888888888,\"#fdca26\"],[1.0,\"#f0f921\"]]}],\"surface\":[{\"type\":\"surface\",\"colorbar\":{\"outlinewidth\":0,\"ticks\":\"\"},\"colorscale\":[[0.0,\"#0d0887\"],[0.1111111111111111,\"#46039f\"],[0.2222222222222222,\"#7201a8\"],[0.3333333333333333,\"#9c179e\"],[0.4444444444444444,\"#bd3786\"],[0.5555555555555556,\"#d8576b\"],[0.6666666666666666,\"#ed7953\"],[0.7777777777777778,\"#fb9f3a\"],[0.8888888888888888,\"#fdca26\"],[1.0,\"#f0f921\"]]}],\"mesh3d\":[{\"type\":\"mesh3d\",\"colorbar\":{\"outlinewidth\":0,\"ticks\":\"\"}}],\"scatter\":[{\"fillpattern\":{\"fillmode\":\"overlay\",\"size\":10,\"solidity\":0.2},\"type\":\"scatter\"}],\"parcoords\":[{\"type\":\"parcoords\",\"line\":{\"colorbar\":{\"outlinewidth\":0,\"ticks\":\"\"}}}],\"scatterpolargl\":[{\"type\":\"scatterpolargl\",\"marker\":{\"colorbar\":{\"outlinewidth\":0,\"ticks\":\"\"}}}],\"bar\":[{\"error_x\":{\"color\":\"#2a3f5f\"},\"error_y\":{\"color\":\"#2a3f5f\"},\"marker\":{\"line\":{\"color\":\"#E5ECF6\",\"width\":0.5},\"pattern\":{\"fillmode\":\"overlay\",\"size\":10,\"solidity\":0.2}},\"type\":\"bar\"}],\"scattergeo\":[{\"type\":\"scattergeo\",\"marker\":{\"colorbar\":{\"outlinewidth\":0,\"ticks\":\"\"}}}],\"scatterpolar\":[{\"type\":\"scatterpolar\",\"marker\":{\"colorbar\":{\"outlinewidth\":0,\"ticks\":\"\"}}}],\"histogram\":[{\"marker\":{\"pattern\":{\"fillmode\":\"overlay\",\"size\":10,\"solidity\":0.2}},\"type\":\"histogram\"}],\"scattergl\":[{\"type\":\"scattergl\",\"marker\":{\"colorbar\":{\"outlinewidth\":0,\"ticks\":\"\"}}}],\"scatter3d\":[{\"type\":\"scatter3d\",\"line\":{\"colorbar\":{\"outlinewidth\":0,\"ticks\":\"\"}},\"marker\":{\"colorbar\":{\"outlinewidth\":0,\"ticks\":\"\"}}}],\"scattermapbox\":[{\"type\":\"scattermapbox\",\"marker\":{\"colorbar\":{\"outlinewidth\":0,\"ticks\":\"\"}}}],\"scatterternary\":[{\"type\":\"scatterternary\",\"marker\":{\"colorbar\":{\"outlinewidth\":0,\"ticks\":\"\"}}}],\"scattercarpet\":[{\"type\":\"scattercarpet\",\"marker\":{\"colorbar\":{\"outlinewidth\":0,\"ticks\":\"\"}}}],\"carpet\":[{\"aaxis\":{\"endlinecolor\":\"#2a3f5f\",\"gridcolor\":\"white\",\"linecolor\":\"white\",\"minorgridcolor\":\"white\",\"startlinecolor\":\"#2a3f5f\"},\"baxis\":{\"endlinecolor\":\"#2a3f5f\",\"gridcolor\":\"white\",\"linecolor\":\"white\",\"minorgridcolor\":\"white\",\"startlinecolor\":\"#2a3f5f\"},\"type\":\"carpet\"}],\"table\":[{\"cells\":{\"fill\":{\"color\":\"#EBF0F8\"},\"line\":{\"color\":\"white\"}},\"header\":{\"fill\":{\"color\":\"#C8D4E3\"},\"line\":{\"color\":\"white\"}},\"type\":\"table\"}],\"barpolar\":[{\"marker\":{\"line\":{\"color\":\"#E5ECF6\",\"width\":0.5},\"pattern\":{\"fillmode\":\"overlay\",\"size\":10,\"solidity\":0.2}},\"type\":\"barpolar\"}],\"pie\":[{\"automargin\":true,\"type\":\"pie\"}]},\"layout\":{\"autotypenumbers\":\"strict\",\"colorway\":[\"#636efa\",\"#EF553B\",\"#00cc96\",\"#ab63fa\",\"#FFA15A\",\"#19d3f3\",\"#FF6692\",\"#B6E880\",\"#FF97FF\",\"#FECB52\"],\"font\":{\"color\":\"#2a3f5f\"},\"hovermode\":\"closest\",\"hoverlabel\":{\"align\":\"left\"},\"paper_bgcolor\":\"white\",\"plot_bgcolor\":\"#E5ECF6\",\"polar\":{\"bgcolor\":\"#E5ECF6\",\"angularaxis\":{\"gridcolor\":\"white\",\"linecolor\":\"white\",\"ticks\":\"\"},\"radialaxis\":{\"gridcolor\":\"white\",\"linecolor\":\"white\",\"ticks\":\"\"}},\"ternary\":{\"bgcolor\":\"#E5ECF6\",\"aaxis\":{\"gridcolor\":\"white\",\"linecolor\":\"white\",\"ticks\":\"\"},\"baxis\":{\"gridcolor\":\"white\",\"linecolor\":\"white\",\"ticks\":\"\"},\"caxis\":{\"gridcolor\":\"white\",\"linecolor\":\"white\",\"ticks\":\"\"}},\"coloraxis\":{\"colorbar\":{\"outlinewidth\":0,\"ticks\":\"\"}},\"colorscale\":{\"sequential\":[[0.0,\"#0d0887\"],[0.1111111111111111,\"#46039f\"],[0.2222222222222222,\"#7201a8\"],[0.3333333333333333,\"#9c179e\"],[0.4444444444444444,\"#bd3786\"],[0.5555555555555556,\"#d8576b\"],[0.6666666666666666,\"#ed7953\"],[0.7777777777777778,\"#fb9f3a\"],[0.8888888888888888,\"#fdca26\"],[1.0,\"#f0f921\"]],\"sequentialminus\":[[0.0,\"#0d0887\"],[0.1111111111111111,\"#46039f\"],[0.2222222222222222,\"#7201a8\"],[0.3333333333333333,\"#9c179e\"],[0.4444444444444444,\"#bd3786\"],[0.5555555555555556,\"#d8576b\"],[0.6666666666666666,\"#ed7953\"],[0.7777777777777778,\"#fb9f3a\"],[0.8888888888888888,\"#fdca26\"],[1.0,\"#f0f921\"]],\"diverging\":[[0,\"#8e0152\"],[0.1,\"#c51b7d\"],[0.2,\"#de77ae\"],[0.3,\"#f1b6da\"],[0.4,\"#fde0ef\"],[0.5,\"#f7f7f7\"],[0.6,\"#e6f5d0\"],[0.7,\"#b8e186\"],[0.8,\"#7fbc41\"],[0.9,\"#4d9221\"],[1,\"#276419\"]]},\"xaxis\":{\"gridcolor\":\"white\",\"linecolor\":\"white\",\"ticks\":\"\",\"title\":{\"standoff\":15},\"zerolinecolor\":\"white\",\"automargin\":true,\"zerolinewidth\":2},\"yaxis\":{\"gridcolor\":\"white\",\"linecolor\":\"white\",\"ticks\":\"\",\"title\":{\"standoff\":15},\"zerolinecolor\":\"white\",\"automargin\":true,\"zerolinewidth\":2},\"scene\":{\"xaxis\":{\"backgroundcolor\":\"#E5ECF6\",\"gridcolor\":\"white\",\"linecolor\":\"white\",\"showbackground\":true,\"ticks\":\"\",\"zerolinecolor\":\"white\",\"gridwidth\":2},\"yaxis\":{\"backgroundcolor\":\"#E5ECF6\",\"gridcolor\":\"white\",\"linecolor\":\"white\",\"showbackground\":true,\"ticks\":\"\",\"zerolinecolor\":\"white\",\"gridwidth\":2},\"zaxis\":{\"backgroundcolor\":\"#E5ECF6\",\"gridcolor\":\"white\",\"linecolor\":\"white\",\"showbackground\":true,\"ticks\":\"\",\"zerolinecolor\":\"white\",\"gridwidth\":2}},\"shapedefaults\":{\"line\":{\"color\":\"#2a3f5f\"}},\"annotationdefaults\":{\"arrowcolor\":\"#2a3f5f\",\"arrowhead\":0,\"arrowwidth\":1},\"geo\":{\"bgcolor\":\"white\",\"landcolor\":\"#E5ECF6\",\"subunitcolor\":\"white\",\"showland\":true,\"showlakes\":true,\"lakecolor\":\"white\"},\"title\":{\"x\":0.05},\"mapbox\":{\"style\":\"light\"}}},\"xaxis\":{\"anchor\":\"y\",\"domain\":[0.0,1.0],\"title\":{\"text\":\"year\"}},\"yaxis\":{\"anchor\":\"x\",\"domain\":[0.0,1.0],\"title\":{\"text\":\"TTR\"}},\"legend\":{\"title\":{\"text\":\"method_cd\"},\"tracegroupgap\":0},\"title\":{\"text\":\"TTR \\u0443 \\u0432\\u0441\\u0435\\u0445 \\u043f\\u0430\\u0446\\u0438\\u0435\\u043d\\u0442\\u043e\\u0432 \\u0441 \\u0440\\u0430\\u0437\\u0431\\u0438\\u0432\\u043a\\u043e\\u0439 \\u043f\\u043e \\u0433\\u043e\\u0434\\u0430\\u043c \\u0438 \\u043c\\u0435\\u0442\\u043e\\u0434\\u0430\\u043c \\u0438\\u0437\\u043c\\u0435\\u0440\\u0435\\u043d\\u0438\\u044f\"}},                        {\"responsive\": true}                    ).then(function(){\n",
       "                            \n",
       "var gd = document.getElementById('2ab1aa4e-225a-48cd-9d4c-0bbfa0097f3e');\n",
       "var x = new MutationObserver(function (mutations, observer) {{\n",
       "        var display = window.getComputedStyle(gd).display;\n",
       "        if (!display || display === 'none') {{\n",
       "            console.log([gd, 'removed!']);\n",
       "            Plotly.purge(gd);\n",
       "            observer.disconnect();\n",
       "        }}\n",
       "}});\n",
       "\n",
       "// Listen for the removal of the full notebook cells\n",
       "var notebookContainer = gd.closest('#notebook-container');\n",
       "if (notebookContainer) {{\n",
       "    x.observe(notebookContainer, {childList: true});\n",
       "}}\n",
       "\n",
       "// Listen for the clearing of the current output cell\n",
       "var outputEl = gd.closest('.output');\n",
       "if (outputEl) {{\n",
       "    x.observe(outputEl, {childList: true});\n",
       "}}\n",
       "\n",
       "                        })                };                });            </script>        </div>"
      ]
     },
     "metadata": {},
     "output_type": "display_data"
    }
   ],
   "source": [
    "fig = px.line(rosental, y = \"TTR\", color = \"method_cd\",x = \"year\", title='TTR у всех пациентов с разбивкой по годам и методам измерения')\n",
    "fig.show()"
   ]
  },
  {
   "cell_type": "markdown",
   "id": "e87c41ed",
   "metadata": {},
   "source": [
    "**А теперь сгруппируем только по году:**"
   ]
  },
  {
   "cell_type": "code",
   "execution_count": 67,
   "id": "b8bcc303",
   "metadata": {},
   "outputs": [
    {
     "data": {
      "text/html": [
       "<div>\n",
       "<style scoped>\n",
       "    .dataframe tbody tr th:only-of-type {\n",
       "        vertical-align: middle;\n",
       "    }\n",
       "\n",
       "    .dataframe tbody tr th {\n",
       "        vertical-align: top;\n",
       "    }\n",
       "\n",
       "    .dataframe thead th {\n",
       "        text-align: right;\n",
       "    }\n",
       "</style>\n",
       "<table border=\"1\" class=\"dataframe\">\n",
       "  <thead>\n",
       "    <tr style=\"text-align: right;\">\n",
       "      <th></th>\n",
       "      <th>Год</th>\n",
       "      <th>TTR</th>\n",
       "    </tr>\n",
       "  </thead>\n",
       "  <tbody>\n",
       "    <tr>\n",
       "      <th>0</th>\n",
       "      <td>2016</td>\n",
       "      <td>33.333333</td>\n",
       "    </tr>\n",
       "    <tr>\n",
       "      <th>1</th>\n",
       "      <td>2017</td>\n",
       "      <td>54.188635</td>\n",
       "    </tr>\n",
       "    <tr>\n",
       "      <th>2</th>\n",
       "      <td>2018</td>\n",
       "      <td>50.480000</td>\n",
       "    </tr>\n",
       "    <tr>\n",
       "      <th>3</th>\n",
       "      <td>2019</td>\n",
       "      <td>53.260183</td>\n",
       "    </tr>\n",
       "    <tr>\n",
       "      <th>4</th>\n",
       "      <td>2020</td>\n",
       "      <td>55.621160</td>\n",
       "    </tr>\n",
       "    <tr>\n",
       "      <th>5</th>\n",
       "      <td>2021</td>\n",
       "      <td>56.894768</td>\n",
       "    </tr>\n",
       "    <tr>\n",
       "      <th>6</th>\n",
       "      <td>2022</td>\n",
       "      <td>56.498209</td>\n",
       "    </tr>\n",
       "    <tr>\n",
       "      <th>7</th>\n",
       "      <td>2023</td>\n",
       "      <td>57.425095</td>\n",
       "    </tr>\n",
       "    <tr>\n",
       "      <th>8</th>\n",
       "      <td>2024</td>\n",
       "      <td>60.549974</td>\n",
       "    </tr>\n",
       "  </tbody>\n",
       "</table>\n",
       "</div>"
      ],
      "text/plain": [
       "    Год        TTR\n",
       "0  2016  33.333333\n",
       "1  2017  54.188635\n",
       "2  2018  50.480000\n",
       "3  2019  53.260183\n",
       "4  2020  55.621160\n",
       "5  2021  56.894768\n",
       "6  2022  56.498209\n",
       "7  2023  57.425095\n",
       "8  2024  60.549974"
      ]
     },
     "execution_count": 67,
     "metadata": {},
     "output_type": "execute_result"
    }
   ],
   "source": [
    "final = final_inr.query('total_days<=60').groupby('year')[['year','inside']].mean() #TTR\n",
    "final = final.reset_index()\n",
    "final['year'] = final['year'].dt.year\n",
    "final.columns = [\"Год\", 'TTR']\n",
    "final"
   ]
  },
  {
   "cell_type": "markdown",
   "id": "495e5978",
   "metadata": {},
   "source": [
    "**Пострим график для всех пациентов с разбивкой только по годам:**"
   ]
  },
  {
   "cell_type": "code",
   "execution_count": 70,
   "id": "6968ab71",
   "metadata": {},
   "outputs": [
    {
     "data": {
      "application/vnd.plotly.v1+json": {
       "config": {
        "plotlyServerURL": "https://plot.ly"
       },
       "data": [
        {
         "hovertemplate": "Год=%{x}<br>TTR=%{y}<extra></extra>",
         "legendgroup": "",
         "line": {
          "color": "#636efa",
          "dash": "solid"
         },
         "marker": {
          "symbol": "circle"
         },
         "mode": "lines",
         "name": "",
         "orientation": "v",
         "showlegend": false,
         "type": "scatter",
         "x": [
          2016,
          2017,
          2018,
          2019,
          2020,
          2021,
          2022,
          2023,
          2024
         ],
         "xaxis": "x",
         "y": [
          33.333333333333336,
          54.18863503222027,
          50.48,
          53.26018313861699,
          55.621160137237695,
          56.89476835973651,
          56.49820870493178,
          57.42509522997328,
          60.54997355896351
         ],
         "yaxis": "y"
        }
       ],
       "layout": {
        "legend": {
         "tracegroupgap": 0
        },
        "template": {
         "data": {
          "bar": [
           {
            "error_x": {
             "color": "#2a3f5f"
            },
            "error_y": {
             "color": "#2a3f5f"
            },
            "marker": {
             "line": {
              "color": "#E5ECF6",
              "width": 0.5
             },
             "pattern": {
              "fillmode": "overlay",
              "size": 10,
              "solidity": 0.2
             }
            },
            "type": "bar"
           }
          ],
          "barpolar": [
           {
            "marker": {
             "line": {
              "color": "#E5ECF6",
              "width": 0.5
             },
             "pattern": {
              "fillmode": "overlay",
              "size": 10,
              "solidity": 0.2
             }
            },
            "type": "barpolar"
           }
          ],
          "carpet": [
           {
            "aaxis": {
             "endlinecolor": "#2a3f5f",
             "gridcolor": "white",
             "linecolor": "white",
             "minorgridcolor": "white",
             "startlinecolor": "#2a3f5f"
            },
            "baxis": {
             "endlinecolor": "#2a3f5f",
             "gridcolor": "white",
             "linecolor": "white",
             "minorgridcolor": "white",
             "startlinecolor": "#2a3f5f"
            },
            "type": "carpet"
           }
          ],
          "choropleth": [
           {
            "colorbar": {
             "outlinewidth": 0,
             "ticks": ""
            },
            "type": "choropleth"
           }
          ],
          "contour": [
           {
            "colorbar": {
             "outlinewidth": 0,
             "ticks": ""
            },
            "colorscale": [
             [
              0,
              "#0d0887"
             ],
             [
              0.1111111111111111,
              "#46039f"
             ],
             [
              0.2222222222222222,
              "#7201a8"
             ],
             [
              0.3333333333333333,
              "#9c179e"
             ],
             [
              0.4444444444444444,
              "#bd3786"
             ],
             [
              0.5555555555555556,
              "#d8576b"
             ],
             [
              0.6666666666666666,
              "#ed7953"
             ],
             [
              0.7777777777777778,
              "#fb9f3a"
             ],
             [
              0.8888888888888888,
              "#fdca26"
             ],
             [
              1,
              "#f0f921"
             ]
            ],
            "type": "contour"
           }
          ],
          "contourcarpet": [
           {
            "colorbar": {
             "outlinewidth": 0,
             "ticks": ""
            },
            "type": "contourcarpet"
           }
          ],
          "heatmap": [
           {
            "colorbar": {
             "outlinewidth": 0,
             "ticks": ""
            },
            "colorscale": [
             [
              0,
              "#0d0887"
             ],
             [
              0.1111111111111111,
              "#46039f"
             ],
             [
              0.2222222222222222,
              "#7201a8"
             ],
             [
              0.3333333333333333,
              "#9c179e"
             ],
             [
              0.4444444444444444,
              "#bd3786"
             ],
             [
              0.5555555555555556,
              "#d8576b"
             ],
             [
              0.6666666666666666,
              "#ed7953"
             ],
             [
              0.7777777777777778,
              "#fb9f3a"
             ],
             [
              0.8888888888888888,
              "#fdca26"
             ],
             [
              1,
              "#f0f921"
             ]
            ],
            "type": "heatmap"
           }
          ],
          "heatmapgl": [
           {
            "colorbar": {
             "outlinewidth": 0,
             "ticks": ""
            },
            "colorscale": [
             [
              0,
              "#0d0887"
             ],
             [
              0.1111111111111111,
              "#46039f"
             ],
             [
              0.2222222222222222,
              "#7201a8"
             ],
             [
              0.3333333333333333,
              "#9c179e"
             ],
             [
              0.4444444444444444,
              "#bd3786"
             ],
             [
              0.5555555555555556,
              "#d8576b"
             ],
             [
              0.6666666666666666,
              "#ed7953"
             ],
             [
              0.7777777777777778,
              "#fb9f3a"
             ],
             [
              0.8888888888888888,
              "#fdca26"
             ],
             [
              1,
              "#f0f921"
             ]
            ],
            "type": "heatmapgl"
           }
          ],
          "histogram": [
           {
            "marker": {
             "pattern": {
              "fillmode": "overlay",
              "size": 10,
              "solidity": 0.2
             }
            },
            "type": "histogram"
           }
          ],
          "histogram2d": [
           {
            "colorbar": {
             "outlinewidth": 0,
             "ticks": ""
            },
            "colorscale": [
             [
              0,
              "#0d0887"
             ],
             [
              0.1111111111111111,
              "#46039f"
             ],
             [
              0.2222222222222222,
              "#7201a8"
             ],
             [
              0.3333333333333333,
              "#9c179e"
             ],
             [
              0.4444444444444444,
              "#bd3786"
             ],
             [
              0.5555555555555556,
              "#d8576b"
             ],
             [
              0.6666666666666666,
              "#ed7953"
             ],
             [
              0.7777777777777778,
              "#fb9f3a"
             ],
             [
              0.8888888888888888,
              "#fdca26"
             ],
             [
              1,
              "#f0f921"
             ]
            ],
            "type": "histogram2d"
           }
          ],
          "histogram2dcontour": [
           {
            "colorbar": {
             "outlinewidth": 0,
             "ticks": ""
            },
            "colorscale": [
             [
              0,
              "#0d0887"
             ],
             [
              0.1111111111111111,
              "#46039f"
             ],
             [
              0.2222222222222222,
              "#7201a8"
             ],
             [
              0.3333333333333333,
              "#9c179e"
             ],
             [
              0.4444444444444444,
              "#bd3786"
             ],
             [
              0.5555555555555556,
              "#d8576b"
             ],
             [
              0.6666666666666666,
              "#ed7953"
             ],
             [
              0.7777777777777778,
              "#fb9f3a"
             ],
             [
              0.8888888888888888,
              "#fdca26"
             ],
             [
              1,
              "#f0f921"
             ]
            ],
            "type": "histogram2dcontour"
           }
          ],
          "mesh3d": [
           {
            "colorbar": {
             "outlinewidth": 0,
             "ticks": ""
            },
            "type": "mesh3d"
           }
          ],
          "parcoords": [
           {
            "line": {
             "colorbar": {
              "outlinewidth": 0,
              "ticks": ""
             }
            },
            "type": "parcoords"
           }
          ],
          "pie": [
           {
            "automargin": true,
            "type": "pie"
           }
          ],
          "scatter": [
           {
            "fillpattern": {
             "fillmode": "overlay",
             "size": 10,
             "solidity": 0.2
            },
            "type": "scatter"
           }
          ],
          "scatter3d": [
           {
            "line": {
             "colorbar": {
              "outlinewidth": 0,
              "ticks": ""
             }
            },
            "marker": {
             "colorbar": {
              "outlinewidth": 0,
              "ticks": ""
             }
            },
            "type": "scatter3d"
           }
          ],
          "scattercarpet": [
           {
            "marker": {
             "colorbar": {
              "outlinewidth": 0,
              "ticks": ""
             }
            },
            "type": "scattercarpet"
           }
          ],
          "scattergeo": [
           {
            "marker": {
             "colorbar": {
              "outlinewidth": 0,
              "ticks": ""
             }
            },
            "type": "scattergeo"
           }
          ],
          "scattergl": [
           {
            "marker": {
             "colorbar": {
              "outlinewidth": 0,
              "ticks": ""
             }
            },
            "type": "scattergl"
           }
          ],
          "scattermapbox": [
           {
            "marker": {
             "colorbar": {
              "outlinewidth": 0,
              "ticks": ""
             }
            },
            "type": "scattermapbox"
           }
          ],
          "scatterpolar": [
           {
            "marker": {
             "colorbar": {
              "outlinewidth": 0,
              "ticks": ""
             }
            },
            "type": "scatterpolar"
           }
          ],
          "scatterpolargl": [
           {
            "marker": {
             "colorbar": {
              "outlinewidth": 0,
              "ticks": ""
             }
            },
            "type": "scatterpolargl"
           }
          ],
          "scatterternary": [
           {
            "marker": {
             "colorbar": {
              "outlinewidth": 0,
              "ticks": ""
             }
            },
            "type": "scatterternary"
           }
          ],
          "surface": [
           {
            "colorbar": {
             "outlinewidth": 0,
             "ticks": ""
            },
            "colorscale": [
             [
              0,
              "#0d0887"
             ],
             [
              0.1111111111111111,
              "#46039f"
             ],
             [
              0.2222222222222222,
              "#7201a8"
             ],
             [
              0.3333333333333333,
              "#9c179e"
             ],
             [
              0.4444444444444444,
              "#bd3786"
             ],
             [
              0.5555555555555556,
              "#d8576b"
             ],
             [
              0.6666666666666666,
              "#ed7953"
             ],
             [
              0.7777777777777778,
              "#fb9f3a"
             ],
             [
              0.8888888888888888,
              "#fdca26"
             ],
             [
              1,
              "#f0f921"
             ]
            ],
            "type": "surface"
           }
          ],
          "table": [
           {
            "cells": {
             "fill": {
              "color": "#EBF0F8"
             },
             "line": {
              "color": "white"
             }
            },
            "header": {
             "fill": {
              "color": "#C8D4E3"
             },
             "line": {
              "color": "white"
             }
            },
            "type": "table"
           }
          ]
         },
         "layout": {
          "annotationdefaults": {
           "arrowcolor": "#2a3f5f",
           "arrowhead": 0,
           "arrowwidth": 1
          },
          "autotypenumbers": "strict",
          "coloraxis": {
           "colorbar": {
            "outlinewidth": 0,
            "ticks": ""
           }
          },
          "colorscale": {
           "diverging": [
            [
             0,
             "#8e0152"
            ],
            [
             0.1,
             "#c51b7d"
            ],
            [
             0.2,
             "#de77ae"
            ],
            [
             0.3,
             "#f1b6da"
            ],
            [
             0.4,
             "#fde0ef"
            ],
            [
             0.5,
             "#f7f7f7"
            ],
            [
             0.6,
             "#e6f5d0"
            ],
            [
             0.7,
             "#b8e186"
            ],
            [
             0.8,
             "#7fbc41"
            ],
            [
             0.9,
             "#4d9221"
            ],
            [
             1,
             "#276419"
            ]
           ],
           "sequential": [
            [
             0,
             "#0d0887"
            ],
            [
             0.1111111111111111,
             "#46039f"
            ],
            [
             0.2222222222222222,
             "#7201a8"
            ],
            [
             0.3333333333333333,
             "#9c179e"
            ],
            [
             0.4444444444444444,
             "#bd3786"
            ],
            [
             0.5555555555555556,
             "#d8576b"
            ],
            [
             0.6666666666666666,
             "#ed7953"
            ],
            [
             0.7777777777777778,
             "#fb9f3a"
            ],
            [
             0.8888888888888888,
             "#fdca26"
            ],
            [
             1,
             "#f0f921"
            ]
           ],
           "sequentialminus": [
            [
             0,
             "#0d0887"
            ],
            [
             0.1111111111111111,
             "#46039f"
            ],
            [
             0.2222222222222222,
             "#7201a8"
            ],
            [
             0.3333333333333333,
             "#9c179e"
            ],
            [
             0.4444444444444444,
             "#bd3786"
            ],
            [
             0.5555555555555556,
             "#d8576b"
            ],
            [
             0.6666666666666666,
             "#ed7953"
            ],
            [
             0.7777777777777778,
             "#fb9f3a"
            ],
            [
             0.8888888888888888,
             "#fdca26"
            ],
            [
             1,
             "#f0f921"
            ]
           ]
          },
          "colorway": [
           "#636efa",
           "#EF553B",
           "#00cc96",
           "#ab63fa",
           "#FFA15A",
           "#19d3f3",
           "#FF6692",
           "#B6E880",
           "#FF97FF",
           "#FECB52"
          ],
          "font": {
           "color": "#2a3f5f"
          },
          "geo": {
           "bgcolor": "white",
           "lakecolor": "white",
           "landcolor": "#E5ECF6",
           "showlakes": true,
           "showland": true,
           "subunitcolor": "white"
          },
          "hoverlabel": {
           "align": "left"
          },
          "hovermode": "closest",
          "mapbox": {
           "style": "light"
          },
          "paper_bgcolor": "white",
          "plot_bgcolor": "#E5ECF6",
          "polar": {
           "angularaxis": {
            "gridcolor": "white",
            "linecolor": "white",
            "ticks": ""
           },
           "bgcolor": "#E5ECF6",
           "radialaxis": {
            "gridcolor": "white",
            "linecolor": "white",
            "ticks": ""
           }
          },
          "scene": {
           "xaxis": {
            "backgroundcolor": "#E5ECF6",
            "gridcolor": "white",
            "gridwidth": 2,
            "linecolor": "white",
            "showbackground": true,
            "ticks": "",
            "zerolinecolor": "white"
           },
           "yaxis": {
            "backgroundcolor": "#E5ECF6",
            "gridcolor": "white",
            "gridwidth": 2,
            "linecolor": "white",
            "showbackground": true,
            "ticks": "",
            "zerolinecolor": "white"
           },
           "zaxis": {
            "backgroundcolor": "#E5ECF6",
            "gridcolor": "white",
            "gridwidth": 2,
            "linecolor": "white",
            "showbackground": true,
            "ticks": "",
            "zerolinecolor": "white"
           }
          },
          "shapedefaults": {
           "line": {
            "color": "#2a3f5f"
           }
          },
          "ternary": {
           "aaxis": {
            "gridcolor": "white",
            "linecolor": "white",
            "ticks": ""
           },
           "baxis": {
            "gridcolor": "white",
            "linecolor": "white",
            "ticks": ""
           },
           "bgcolor": "#E5ECF6",
           "caxis": {
            "gridcolor": "white",
            "linecolor": "white",
            "ticks": ""
           }
          },
          "title": {
           "x": 0.05
          },
          "xaxis": {
           "automargin": true,
           "gridcolor": "white",
           "linecolor": "white",
           "ticks": "",
           "title": {
            "standoff": 15
           },
           "zerolinecolor": "white",
           "zerolinewidth": 2
          },
          "yaxis": {
           "automargin": true,
           "gridcolor": "white",
           "linecolor": "white",
           "ticks": "",
           "title": {
            "standoff": 15
           },
           "zerolinecolor": "white",
           "zerolinewidth": 2
          }
         }
        },
        "title": {
         "text": "TTR у всех пациентов с разбивкой по годам"
        },
        "xaxis": {
         "anchor": "y",
         "domain": [
          0,
          1
         ],
         "title": {
          "text": "Год"
         }
        },
        "yaxis": {
         "anchor": "x",
         "domain": [
          0,
          1
         ],
         "title": {
          "text": "TTR"
         }
        }
       }
      },
      "text/html": [
       "<div>                            <div id=\"e46dcb17-70e6-4890-ab9f-ac96d1c75b83\" class=\"plotly-graph-div\" style=\"height:525px; width:100%;\"></div>            <script type=\"text/javascript\">                require([\"plotly\"], function(Plotly) {                    window.PLOTLYENV=window.PLOTLYENV || {};                                    if (document.getElementById(\"e46dcb17-70e6-4890-ab9f-ac96d1c75b83\")) {                    Plotly.newPlot(                        \"e46dcb17-70e6-4890-ab9f-ac96d1c75b83\",                        [{\"hovertemplate\":\"\\u0413\\u043e\\u0434=%{x}<br>TTR=%{y}<extra></extra>\",\"legendgroup\":\"\",\"line\":{\"color\":\"#636efa\",\"dash\":\"solid\"},\"marker\":{\"symbol\":\"circle\"},\"mode\":\"lines\",\"name\":\"\",\"orientation\":\"v\",\"showlegend\":false,\"x\":[2016,2017,2018,2019,2020,2021,2022,2023,2024],\"xaxis\":\"x\",\"y\":[33.333333333333336,54.18863503222027,50.48,53.26018313861699,55.621160137237695,56.89476835973651,56.49820870493178,57.42509522997328,60.54997355896351],\"yaxis\":\"y\",\"type\":\"scatter\"}],                        {\"template\":{\"data\":{\"histogram2dcontour\":[{\"type\":\"histogram2dcontour\",\"colorbar\":{\"outlinewidth\":0,\"ticks\":\"\"},\"colorscale\":[[0.0,\"#0d0887\"],[0.1111111111111111,\"#46039f\"],[0.2222222222222222,\"#7201a8\"],[0.3333333333333333,\"#9c179e\"],[0.4444444444444444,\"#bd3786\"],[0.5555555555555556,\"#d8576b\"],[0.6666666666666666,\"#ed7953\"],[0.7777777777777778,\"#fb9f3a\"],[0.8888888888888888,\"#fdca26\"],[1.0,\"#f0f921\"]]}],\"choropleth\":[{\"type\":\"choropleth\",\"colorbar\":{\"outlinewidth\":0,\"ticks\":\"\"}}],\"histogram2d\":[{\"type\":\"histogram2d\",\"colorbar\":{\"outlinewidth\":0,\"ticks\":\"\"},\"colorscale\":[[0.0,\"#0d0887\"],[0.1111111111111111,\"#46039f\"],[0.2222222222222222,\"#7201a8\"],[0.3333333333333333,\"#9c179e\"],[0.4444444444444444,\"#bd3786\"],[0.5555555555555556,\"#d8576b\"],[0.6666666666666666,\"#ed7953\"],[0.7777777777777778,\"#fb9f3a\"],[0.8888888888888888,\"#fdca26\"],[1.0,\"#f0f921\"]]}],\"heatmap\":[{\"type\":\"heatmap\",\"colorbar\":{\"outlinewidth\":0,\"ticks\":\"\"},\"colorscale\":[[0.0,\"#0d0887\"],[0.1111111111111111,\"#46039f\"],[0.2222222222222222,\"#7201a8\"],[0.3333333333333333,\"#9c179e\"],[0.4444444444444444,\"#bd3786\"],[0.5555555555555556,\"#d8576b\"],[0.6666666666666666,\"#ed7953\"],[0.7777777777777778,\"#fb9f3a\"],[0.8888888888888888,\"#fdca26\"],[1.0,\"#f0f921\"]]}],\"heatmapgl\":[{\"type\":\"heatmapgl\",\"colorbar\":{\"outlinewidth\":0,\"ticks\":\"\"},\"colorscale\":[[0.0,\"#0d0887\"],[0.1111111111111111,\"#46039f\"],[0.2222222222222222,\"#7201a8\"],[0.3333333333333333,\"#9c179e\"],[0.4444444444444444,\"#bd3786\"],[0.5555555555555556,\"#d8576b\"],[0.6666666666666666,\"#ed7953\"],[0.7777777777777778,\"#fb9f3a\"],[0.8888888888888888,\"#fdca26\"],[1.0,\"#f0f921\"]]}],\"contourcarpet\":[{\"type\":\"contourcarpet\",\"colorbar\":{\"outlinewidth\":0,\"ticks\":\"\"}}],\"contour\":[{\"type\":\"contour\",\"colorbar\":{\"outlinewidth\":0,\"ticks\":\"\"},\"colorscale\":[[0.0,\"#0d0887\"],[0.1111111111111111,\"#46039f\"],[0.2222222222222222,\"#7201a8\"],[0.3333333333333333,\"#9c179e\"],[0.4444444444444444,\"#bd3786\"],[0.5555555555555556,\"#d8576b\"],[0.6666666666666666,\"#ed7953\"],[0.7777777777777778,\"#fb9f3a\"],[0.8888888888888888,\"#fdca26\"],[1.0,\"#f0f921\"]]}],\"surface\":[{\"type\":\"surface\",\"colorbar\":{\"outlinewidth\":0,\"ticks\":\"\"},\"colorscale\":[[0.0,\"#0d0887\"],[0.1111111111111111,\"#46039f\"],[0.2222222222222222,\"#7201a8\"],[0.3333333333333333,\"#9c179e\"],[0.4444444444444444,\"#bd3786\"],[0.5555555555555556,\"#d8576b\"],[0.6666666666666666,\"#ed7953\"],[0.7777777777777778,\"#fb9f3a\"],[0.8888888888888888,\"#fdca26\"],[1.0,\"#f0f921\"]]}],\"mesh3d\":[{\"type\":\"mesh3d\",\"colorbar\":{\"outlinewidth\":0,\"ticks\":\"\"}}],\"scatter\":[{\"fillpattern\":{\"fillmode\":\"overlay\",\"size\":10,\"solidity\":0.2},\"type\":\"scatter\"}],\"parcoords\":[{\"type\":\"parcoords\",\"line\":{\"colorbar\":{\"outlinewidth\":0,\"ticks\":\"\"}}}],\"scatterpolargl\":[{\"type\":\"scatterpolargl\",\"marker\":{\"colorbar\":{\"outlinewidth\":0,\"ticks\":\"\"}}}],\"bar\":[{\"error_x\":{\"color\":\"#2a3f5f\"},\"error_y\":{\"color\":\"#2a3f5f\"},\"marker\":{\"line\":{\"color\":\"#E5ECF6\",\"width\":0.5},\"pattern\":{\"fillmode\":\"overlay\",\"size\":10,\"solidity\":0.2}},\"type\":\"bar\"}],\"scattergeo\":[{\"type\":\"scattergeo\",\"marker\":{\"colorbar\":{\"outlinewidth\":0,\"ticks\":\"\"}}}],\"scatterpolar\":[{\"type\":\"scatterpolar\",\"marker\":{\"colorbar\":{\"outlinewidth\":0,\"ticks\":\"\"}}}],\"histogram\":[{\"marker\":{\"pattern\":{\"fillmode\":\"overlay\",\"size\":10,\"solidity\":0.2}},\"type\":\"histogram\"}],\"scattergl\":[{\"type\":\"scattergl\",\"marker\":{\"colorbar\":{\"outlinewidth\":0,\"ticks\":\"\"}}}],\"scatter3d\":[{\"type\":\"scatter3d\",\"line\":{\"colorbar\":{\"outlinewidth\":0,\"ticks\":\"\"}},\"marker\":{\"colorbar\":{\"outlinewidth\":0,\"ticks\":\"\"}}}],\"scattermapbox\":[{\"type\":\"scattermapbox\",\"marker\":{\"colorbar\":{\"outlinewidth\":0,\"ticks\":\"\"}}}],\"scatterternary\":[{\"type\":\"scatterternary\",\"marker\":{\"colorbar\":{\"outlinewidth\":0,\"ticks\":\"\"}}}],\"scattercarpet\":[{\"type\":\"scattercarpet\",\"marker\":{\"colorbar\":{\"outlinewidth\":0,\"ticks\":\"\"}}}],\"carpet\":[{\"aaxis\":{\"endlinecolor\":\"#2a3f5f\",\"gridcolor\":\"white\",\"linecolor\":\"white\",\"minorgridcolor\":\"white\",\"startlinecolor\":\"#2a3f5f\"},\"baxis\":{\"endlinecolor\":\"#2a3f5f\",\"gridcolor\":\"white\",\"linecolor\":\"white\",\"minorgridcolor\":\"white\",\"startlinecolor\":\"#2a3f5f\"},\"type\":\"carpet\"}],\"table\":[{\"cells\":{\"fill\":{\"color\":\"#EBF0F8\"},\"line\":{\"color\":\"white\"}},\"header\":{\"fill\":{\"color\":\"#C8D4E3\"},\"line\":{\"color\":\"white\"}},\"type\":\"table\"}],\"barpolar\":[{\"marker\":{\"line\":{\"color\":\"#E5ECF6\",\"width\":0.5},\"pattern\":{\"fillmode\":\"overlay\",\"size\":10,\"solidity\":0.2}},\"type\":\"barpolar\"}],\"pie\":[{\"automargin\":true,\"type\":\"pie\"}]},\"layout\":{\"autotypenumbers\":\"strict\",\"colorway\":[\"#636efa\",\"#EF553B\",\"#00cc96\",\"#ab63fa\",\"#FFA15A\",\"#19d3f3\",\"#FF6692\",\"#B6E880\",\"#FF97FF\",\"#FECB52\"],\"font\":{\"color\":\"#2a3f5f\"},\"hovermode\":\"closest\",\"hoverlabel\":{\"align\":\"left\"},\"paper_bgcolor\":\"white\",\"plot_bgcolor\":\"#E5ECF6\",\"polar\":{\"bgcolor\":\"#E5ECF6\",\"angularaxis\":{\"gridcolor\":\"white\",\"linecolor\":\"white\",\"ticks\":\"\"},\"radialaxis\":{\"gridcolor\":\"white\",\"linecolor\":\"white\",\"ticks\":\"\"}},\"ternary\":{\"bgcolor\":\"#E5ECF6\",\"aaxis\":{\"gridcolor\":\"white\",\"linecolor\":\"white\",\"ticks\":\"\"},\"baxis\":{\"gridcolor\":\"white\",\"linecolor\":\"white\",\"ticks\":\"\"},\"caxis\":{\"gridcolor\":\"white\",\"linecolor\":\"white\",\"ticks\":\"\"}},\"coloraxis\":{\"colorbar\":{\"outlinewidth\":0,\"ticks\":\"\"}},\"colorscale\":{\"sequential\":[[0.0,\"#0d0887\"],[0.1111111111111111,\"#46039f\"],[0.2222222222222222,\"#7201a8\"],[0.3333333333333333,\"#9c179e\"],[0.4444444444444444,\"#bd3786\"],[0.5555555555555556,\"#d8576b\"],[0.6666666666666666,\"#ed7953\"],[0.7777777777777778,\"#fb9f3a\"],[0.8888888888888888,\"#fdca26\"],[1.0,\"#f0f921\"]],\"sequentialminus\":[[0.0,\"#0d0887\"],[0.1111111111111111,\"#46039f\"],[0.2222222222222222,\"#7201a8\"],[0.3333333333333333,\"#9c179e\"],[0.4444444444444444,\"#bd3786\"],[0.5555555555555556,\"#d8576b\"],[0.6666666666666666,\"#ed7953\"],[0.7777777777777778,\"#fb9f3a\"],[0.8888888888888888,\"#fdca26\"],[1.0,\"#f0f921\"]],\"diverging\":[[0,\"#8e0152\"],[0.1,\"#c51b7d\"],[0.2,\"#de77ae\"],[0.3,\"#f1b6da\"],[0.4,\"#fde0ef\"],[0.5,\"#f7f7f7\"],[0.6,\"#e6f5d0\"],[0.7,\"#b8e186\"],[0.8,\"#7fbc41\"],[0.9,\"#4d9221\"],[1,\"#276419\"]]},\"xaxis\":{\"gridcolor\":\"white\",\"linecolor\":\"white\",\"ticks\":\"\",\"title\":{\"standoff\":15},\"zerolinecolor\":\"white\",\"automargin\":true,\"zerolinewidth\":2},\"yaxis\":{\"gridcolor\":\"white\",\"linecolor\":\"white\",\"ticks\":\"\",\"title\":{\"standoff\":15},\"zerolinecolor\":\"white\",\"automargin\":true,\"zerolinewidth\":2},\"scene\":{\"xaxis\":{\"backgroundcolor\":\"#E5ECF6\",\"gridcolor\":\"white\",\"linecolor\":\"white\",\"showbackground\":true,\"ticks\":\"\",\"zerolinecolor\":\"white\",\"gridwidth\":2},\"yaxis\":{\"backgroundcolor\":\"#E5ECF6\",\"gridcolor\":\"white\",\"linecolor\":\"white\",\"showbackground\":true,\"ticks\":\"\",\"zerolinecolor\":\"white\",\"gridwidth\":2},\"zaxis\":{\"backgroundcolor\":\"#E5ECF6\",\"gridcolor\":\"white\",\"linecolor\":\"white\",\"showbackground\":true,\"ticks\":\"\",\"zerolinecolor\":\"white\",\"gridwidth\":2}},\"shapedefaults\":{\"line\":{\"color\":\"#2a3f5f\"}},\"annotationdefaults\":{\"arrowcolor\":\"#2a3f5f\",\"arrowhead\":0,\"arrowwidth\":1},\"geo\":{\"bgcolor\":\"white\",\"landcolor\":\"#E5ECF6\",\"subunitcolor\":\"white\",\"showland\":true,\"showlakes\":true,\"lakecolor\":\"white\"},\"title\":{\"x\":0.05},\"mapbox\":{\"style\":\"light\"}}},\"xaxis\":{\"anchor\":\"y\",\"domain\":[0.0,1.0],\"title\":{\"text\":\"\\u0413\\u043e\\u0434\"}},\"yaxis\":{\"anchor\":\"x\",\"domain\":[0.0,1.0],\"title\":{\"text\":\"TTR\"}},\"legend\":{\"tracegroupgap\":0},\"title\":{\"text\":\"TTR \\u0443 \\u0432\\u0441\\u0435\\u0445 \\u043f\\u0430\\u0446\\u0438\\u0435\\u043d\\u0442\\u043e\\u0432 \\u0441 \\u0440\\u0430\\u0437\\u0431\\u0438\\u0432\\u043a\\u043e\\u0439 \\u043f\\u043e \\u0433\\u043e\\u0434\\u0430\\u043c\"}},                        {\"responsive\": true}                    ).then(function(){\n",
       "                            \n",
       "var gd = document.getElementById('e46dcb17-70e6-4890-ab9f-ac96d1c75b83');\n",
       "var x = new MutationObserver(function (mutations, observer) {{\n",
       "        var display = window.getComputedStyle(gd).display;\n",
       "        if (!display || display === 'none') {{\n",
       "            console.log([gd, 'removed!']);\n",
       "            Plotly.purge(gd);\n",
       "            observer.disconnect();\n",
       "        }}\n",
       "}});\n",
       "\n",
       "// Listen for the removal of the full notebook cells\n",
       "var notebookContainer = gd.closest('#notebook-container');\n",
       "if (notebookContainer) {{\n",
       "    x.observe(notebookContainer, {childList: true});\n",
       "}}\n",
       "\n",
       "// Listen for the clearing of the current output cell\n",
       "var outputEl = gd.closest('.output');\n",
       "if (outputEl) {{\n",
       "    x.observe(outputEl, {childList: true});\n",
       "}}\n",
       "\n",
       "                        })                };                });            </script>        </div>"
      ]
     },
     "metadata": {},
     "output_type": "display_data"
    }
   ],
   "source": [
    "fig = px.line(final, y = \"TTR\", x = \"Год\", title='TTR у всех пациентов с разбивкой по годам')\n",
    "fig.show()"
   ]
  },
  {
   "cell_type": "markdown",
   "id": "7a2ee6d1",
   "metadata": {},
   "source": [
    "**Создадим для наглядности сводную таблицу TTR по годам для пациентов, сдающих анализ дома, и для пациентов с собственным прибором:**"
   ]
  },
  {
   "cell_type": "code",
   "execution_count": 69,
   "id": "d871d85a",
   "metadata": {},
   "outputs": [
    {
     "data": {
      "text/html": [
       "<div>\n",
       "<style scoped>\n",
       "    .dataframe tbody tr th:only-of-type {\n",
       "        vertical-align: middle;\n",
       "    }\n",
       "\n",
       "    .dataframe tbody tr th {\n",
       "        vertical-align: top;\n",
       "    }\n",
       "\n",
       "    .dataframe thead th {\n",
       "        text-align: right;\n",
       "    }\n",
       "</style>\n",
       "<table border=\"1\" class=\"dataframe\">\n",
       "  <thead>\n",
       "    <tr style=\"text-align: right;\">\n",
       "      <th>year</th>\n",
       "      <th>2014</th>\n",
       "      <th>2015</th>\n",
       "      <th>2016</th>\n",
       "      <th>2017</th>\n",
       "      <th>2018</th>\n",
       "      <th>2019</th>\n",
       "      <th>2020</th>\n",
       "      <th>2021</th>\n",
       "      <th>2022</th>\n",
       "      <th>2023</th>\n",
       "      <th>2024</th>\n",
       "    </tr>\n",
       "    <tr>\n",
       "      <th>method_cd</th>\n",
       "      <th></th>\n",
       "      <th></th>\n",
       "      <th></th>\n",
       "      <th></th>\n",
       "      <th></th>\n",
       "      <th></th>\n",
       "      <th></th>\n",
       "      <th></th>\n",
       "      <th></th>\n",
       "      <th></th>\n",
       "      <th></th>\n",
       "    </tr>\n",
       "  </thead>\n",
       "  <tbody>\n",
       "    <tr>\n",
       "      <th>LAB</th>\n",
       "      <td>0.0</td>\n",
       "      <td>50.0</td>\n",
       "      <td>53.571429</td>\n",
       "      <td>51.389566</td>\n",
       "      <td>49.432659</td>\n",
       "      <td>51.789632</td>\n",
       "      <td>54.826165</td>\n",
       "      <td>54.833021</td>\n",
       "      <td>54.701665</td>\n",
       "      <td>56.149089</td>\n",
       "      <td>59.381898</td>\n",
       "    </tr>\n",
       "    <tr>\n",
       "      <th>ZMA</th>\n",
       "      <td>NaN</td>\n",
       "      <td>NaN</td>\n",
       "      <td>NaN</td>\n",
       "      <td>0.000000</td>\n",
       "      <td>47.058824</td>\n",
       "      <td>36.842105</td>\n",
       "      <td>54.814815</td>\n",
       "      <td>61.407671</td>\n",
       "      <td>62.833100</td>\n",
       "      <td>59.021829</td>\n",
       "      <td>62.603878</td>\n",
       "    </tr>\n",
       "  </tbody>\n",
       "</table>\n",
       "</div>"
      ],
      "text/plain": [
       "year       2014  2015       2016       2017       2018       2019       2020  \\\n",
       "method_cd                                                                      \n",
       "LAB         0.0  50.0  53.571429  51.389566  49.432659  51.789632  54.826165   \n",
       "ZMA         NaN   NaN        NaN   0.000000  47.058824  36.842105  54.814815   \n",
       "\n",
       "year            2021       2022       2023       2024  \n",
       "method_cd                                              \n",
       "LAB        54.833021  54.701665  56.149089  59.381898  \n",
       "ZMA        61.407671  62.833100  59.021829  62.603878  "
      ]
     },
     "execution_count": 69,
     "metadata": {},
     "output_type": "execute_result"
    }
   ],
   "source": [
    "final_inr.pivot_table(index ='method_cd', columns = 'year', values = 'inside', aggfunc = 'mean' ) #TTR pivot table"
   ]
  },
  {
   "cell_type": "markdown",
   "id": "7958457e",
   "metadata": {},
   "source": [
    "## Выводы:\n",
    "   1. Программа расчёта TTR методом Розенталя написана. При появлении новых данных достаточно её ещё раз запустить, чтобы получить актуальную информацию.\n",
    "   2. Результаты анализа данных сведены в таблицы и визулизированы при помощи графиков. \n",
    "   3. Из графиков и таблиц следует, что:\n",
    "      - у пациентов, сдающих анализы в лаборатрии, есть данные начиная с 2014 года;\n",
    "      - у пациентов, сдающих анализы в лаборатрии, есть данные начиная с 2017 года;\n",
    "      - пациенты, сдающие анализы в лаборатрии, в 2017ом году имели более высокий TTR, но после 2020 года самоизмерямые пациенты обогнали первых по этому параметру;\n",
    "      - независимо от способа сдачи МНО, отчётливо виден рост TTR из года в год."
   ]
  }
 ],
 "metadata": {
  "kernelspec": {
   "display_name": "Python 3 (ipykernel)",
   "language": "python",
   "name": "python3"
  },
  "language_info": {
   "codemirror_mode": {
    "name": "ipython",
    "version": 3
   },
   "file_extension": ".py",
   "mimetype": "text/x-python",
   "name": "python",
   "nbconvert_exporter": "python",
   "pygments_lexer": "ipython3",
   "version": "3.9.13"
  }
 },
 "nbformat": 4,
 "nbformat_minor": 5
}
